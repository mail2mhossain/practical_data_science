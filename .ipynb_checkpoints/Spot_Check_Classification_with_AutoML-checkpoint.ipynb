{
 "cells": [
  {
   "cell_type": "markdown",
   "metadata": {},
   "source": [
    "# Spot-Check Classification with AutoML"
   ]
  },
  {
   "cell_type": "markdown",
   "metadata": {
    "heading_collapsed": true
   },
   "source": [
    "## Import Libraries"
   ]
  },
  {
   "cell_type": "code",
   "execution_count": 1,
   "metadata": {
    "hidden": true
   },
   "outputs": [
    {
     "name": "stderr",
     "output_type": "stream",
     "text": [
      "Warning: optional dependency `torch` is not available. - skipping import of NN models.\n"
     ]
    },
    {
     "name": "stdout",
     "output_type": "stream",
     "text": [
      "WARN: OMP_NUM_THREADS=None =>\n",
      "... If you are using openblas if you are using openblas set OMP_NUM_THREADS=1 or risk subprocess calls hanging indefinitely\n"
     ]
    }
   ],
   "source": [
    "from datetime import datetime\n",
    "import numpy as np\n",
    "import pandas as pd\n",
    "import shap\n",
    "from sklearn.model_selection import cross_val_score\n",
    "from sklearn.model_selection import KFold, StratifiedKFold, RepeatedStratifiedKFold\n",
    "from sklearn.model_selection import train_test_split\n",
    "from sklearn.preprocessing import LabelEncoder\n",
    "from sklearn.preprocessing import StandardScaler, MinMaxScaler, RobustScaler\n",
    "from sklearn.preprocessing import PowerTransformer, QuantileTransformer\n",
    "from scipy.stats import shapiro, normaltest\n",
    "from tpot import TPOTClassifier\n",
    "from hpsklearn import HyperoptEstimator, pca, min_max_scaler, standard_scaler\n",
    "from hpsklearn import xgboost_classification, random_forest, ada_boost, gradient_boosting, extra_trees\n",
    "from hpsklearn import svc, svc_linear, svc_rbf, svc_poly, svc_sigmoid, liblinear_svc\n",
    "from hpsklearn import any_classifier\n",
    "from hpsklearn import any_preprocessing\n",
    "from hyperopt import tpe, hp\n",
    "from pycaret.classification import * \n",
    "from pycaret.datasets import get_data"
   ]
  },
  {
   "cell_type": "markdown",
   "metadata": {
    "heading_collapsed": true
   },
   "source": [
    "## Load Dataset"
   ]
  },
  {
   "cell_type": "code",
   "execution_count": 2,
   "metadata": {
    "hidden": true
   },
   "outputs": [],
   "source": [
    "df = pd.read_csv('Data/heart_disease_clean.csv')"
   ]
  },
  {
   "cell_type": "code",
   "execution_count": 3,
   "metadata": {
    "hidden": true
   },
   "outputs": [
    {
     "data": {
      "text/plain": [
       "(303, 14)"
      ]
     },
     "execution_count": 3,
     "metadata": {},
     "output_type": "execute_result"
    }
   ],
   "source": [
    "df.shape"
   ]
  },
  {
   "cell_type": "code",
   "execution_count": 4,
   "metadata": {
    "hidden": true
   },
   "outputs": [
    {
     "data": {
      "text/html": [
       "<div>\n",
       "<style scoped>\n",
       "    .dataframe tbody tr th:only-of-type {\n",
       "        vertical-align: middle;\n",
       "    }\n",
       "\n",
       "    .dataframe tbody tr th {\n",
       "        vertical-align: top;\n",
       "    }\n",
       "\n",
       "    .dataframe thead th {\n",
       "        text-align: right;\n",
       "    }\n",
       "</style>\n",
       "<table border=\"1\" class=\"dataframe\">\n",
       "  <thead>\n",
       "    <tr style=\"text-align: right;\">\n",
       "      <th></th>\n",
       "      <th>age</th>\n",
       "      <th>sex</th>\n",
       "      <th>cp</th>\n",
       "      <th>trestbps</th>\n",
       "      <th>chol</th>\n",
       "      <th>fbs</th>\n",
       "      <th>restecg</th>\n",
       "      <th>thalach</th>\n",
       "      <th>exang</th>\n",
       "      <th>oldpeak</th>\n",
       "      <th>slope</th>\n",
       "      <th>ca</th>\n",
       "      <th>thal</th>\n",
       "      <th>num</th>\n",
       "    </tr>\n",
       "  </thead>\n",
       "  <tbody>\n",
       "    <tr>\n",
       "      <th>0</th>\n",
       "      <td>63.0</td>\n",
       "      <td>male</td>\n",
       "      <td>typical angina</td>\n",
       "      <td>145.0</td>\n",
       "      <td>233.0</td>\n",
       "      <td>True</td>\n",
       "      <td>2.0</td>\n",
       "      <td>150.0</td>\n",
       "      <td>no</td>\n",
       "      <td>2.3</td>\n",
       "      <td>downsloping</td>\n",
       "      <td>0.0</td>\n",
       "      <td>6.0</td>\n",
       "      <td>0</td>\n",
       "    </tr>\n",
       "    <tr>\n",
       "      <th>1</th>\n",
       "      <td>67.0</td>\n",
       "      <td>male</td>\n",
       "      <td>asymptomatic</td>\n",
       "      <td>160.0</td>\n",
       "      <td>286.0</td>\n",
       "      <td>False</td>\n",
       "      <td>2.0</td>\n",
       "      <td>108.0</td>\n",
       "      <td>yes</td>\n",
       "      <td>1.5</td>\n",
       "      <td>flat</td>\n",
       "      <td>3.0</td>\n",
       "      <td>3.0</td>\n",
       "      <td>1</td>\n",
       "    </tr>\n",
       "    <tr>\n",
       "      <th>2</th>\n",
       "      <td>67.0</td>\n",
       "      <td>male</td>\n",
       "      <td>asymptomatic</td>\n",
       "      <td>120.0</td>\n",
       "      <td>229.0</td>\n",
       "      <td>False</td>\n",
       "      <td>2.0</td>\n",
       "      <td>129.0</td>\n",
       "      <td>yes</td>\n",
       "      <td>2.6</td>\n",
       "      <td>flat</td>\n",
       "      <td>2.0</td>\n",
       "      <td>7.0</td>\n",
       "      <td>1</td>\n",
       "    </tr>\n",
       "    <tr>\n",
       "      <th>3</th>\n",
       "      <td>37.0</td>\n",
       "      <td>male</td>\n",
       "      <td>non-anginal pain</td>\n",
       "      <td>130.0</td>\n",
       "      <td>250.0</td>\n",
       "      <td>False</td>\n",
       "      <td>0.0</td>\n",
       "      <td>187.0</td>\n",
       "      <td>no</td>\n",
       "      <td>3.5</td>\n",
       "      <td>downsloping</td>\n",
       "      <td>0.0</td>\n",
       "      <td>3.0</td>\n",
       "      <td>0</td>\n",
       "    </tr>\n",
       "    <tr>\n",
       "      <th>4</th>\n",
       "      <td>41.0</td>\n",
       "      <td>female</td>\n",
       "      <td>atypical angina</td>\n",
       "      <td>130.0</td>\n",
       "      <td>204.0</td>\n",
       "      <td>False</td>\n",
       "      <td>2.0</td>\n",
       "      <td>172.0</td>\n",
       "      <td>no</td>\n",
       "      <td>1.4</td>\n",
       "      <td>upsloping</td>\n",
       "      <td>0.0</td>\n",
       "      <td>3.0</td>\n",
       "      <td>0</td>\n",
       "    </tr>\n",
       "  </tbody>\n",
       "</table>\n",
       "</div>"
      ],
      "text/plain": [
       "    age     sex                cp  trestbps   chol    fbs  restecg  thalach  \\\n",
       "0  63.0    male    typical angina     145.0  233.0   True      2.0    150.0   \n",
       "1  67.0    male      asymptomatic     160.0  286.0  False      2.0    108.0   \n",
       "2  67.0    male      asymptomatic     120.0  229.0  False      2.0    129.0   \n",
       "3  37.0    male  non-anginal pain     130.0  250.0  False      0.0    187.0   \n",
       "4  41.0  female   atypical angina     130.0  204.0  False      2.0    172.0   \n",
       "\n",
       "  exang  oldpeak        slope   ca  thal  num  \n",
       "0    no      2.3  downsloping  0.0   6.0    0  \n",
       "1   yes      1.5         flat  3.0   3.0    1  \n",
       "2   yes      2.6         flat  2.0   7.0    1  \n",
       "3    no      3.5  downsloping  0.0   3.0    0  \n",
       "4    no      1.4    upsloping  0.0   3.0    0  "
      ]
     },
     "execution_count": 4,
     "metadata": {},
     "output_type": "execute_result"
    }
   ],
   "source": [
    "df.head()"
   ]
  },
  {
   "cell_type": "markdown",
   "metadata": {
    "heading_collapsed": true
   },
   "source": [
    "## Result of EDA & Data Preprocessing"
   ]
  },
  {
   "cell_type": "code",
   "execution_count": 5,
   "metadata": {
    "hidden": true
   },
   "outputs": [],
   "source": [
    "numeric_features = ['age', 'trestbps', 'chol', 'thalach', 'oldpeak', 'ca']\n",
    "nominal_features = ['sex', 'cp', 'exang', 'slope', 'thal', 'fbs', 'restecg']"
   ]
  },
  {
   "cell_type": "code",
   "execution_count": 6,
   "metadata": {
    "hidden": true
   },
   "outputs": [],
   "source": [
    "dummies = pd.get_dummies(df[nominal_features], drop_first=True)\n",
    "df = df.drop(nominal_features, axis=1)\n",
    "df = pd.concat([df, dummies], axis=1)"
   ]
  },
  {
   "cell_type": "markdown",
   "metadata": {
    "heading_collapsed": true
   },
   "source": [
    "## Split Data Set"
   ]
  },
  {
   "cell_type": "code",
   "execution_count": 8,
   "metadata": {
    "hidden": true
   },
   "outputs": [],
   "source": [
    "X = df.drop(\"num\", axis=1)\n",
    "y = df[\"num\"]"
   ]
  },
  {
   "cell_type": "code",
   "execution_count": 10,
   "metadata": {
    "hidden": true
   },
   "outputs": [],
   "source": [
    "y = LabelEncoder().fit_transform(y)"
   ]
  },
  {
   "cell_type": "code",
   "execution_count": 12,
   "metadata": {
    "hidden": true
   },
   "outputs": [],
   "source": [
    "X_train, X_test, y_train, y_test = train_test_split(X, y, test_size=0.30, stratify=y, random_state=42)"
   ]
  },
  {
   "cell_type": "markdown",
   "metadata": {
    "heading_collapsed": true
   },
   "source": [
    "## TPOT AutoML"
   ]
  },
  {
   "cell_type": "code",
   "execution_count": 14,
   "metadata": {
    "hidden": true
   },
   "outputs": [],
   "source": [
    "rs = RobustScaler()\n",
    "X_scaled = rs.fit_transform(X)"
   ]
  },
  {
   "cell_type": "code",
   "execution_count": 17,
   "metadata": {
    "hidden": true
   },
   "outputs": [
    {
     "name": "stdout",
     "output_type": "stream",
     "text": [
      "Job Started at: 2021-01-10 23:35:18.445177\n"
     ]
    },
    {
     "name": "stderr",
     "output_type": "stream",
     "text": [
      "Version 0.11.6.post3 of tpot is outdated. Version 0.11.7 was released 4 days ago.\n"
     ]
    },
    {
     "data": {
      "application/vnd.jupyter.widget-view+json": {
       "model_id": "",
       "version_major": 2,
       "version_minor": 0
      },
      "text/plain": [
       "HBox(children=(HTML(value='Optimization Progress'), FloatProgress(value=0.0, max=10100.0), HTML(value='')))"
      ]
     },
     "metadata": {},
     "output_type": "display_data"
    },
    {
     "name": "stdout",
     "output_type": "stream",
     "text": [
      "\n",
      "Generation 1 - Current best internal CV score: 0.8471684587813619\n",
      "\n",
      "Generation 2 - Current best internal CV score: 0.8471684587813619\n",
      "\n",
      "Generation 3 - Current best internal CV score: 0.8515053763440859\n",
      "\n",
      "Generation 4 - Current best internal CV score: 0.8515053763440859\n",
      "\n",
      "Generation 5 - Current best internal CV score: 0.8515053763440859\n",
      "\n",
      "Generation 6 - Current best internal CV score: 0.8515053763440859\n",
      "\n",
      "Generation 7 - Current best internal CV score: 0.8515053763440859\n",
      "\n",
      "Generation 8 - Current best internal CV score: 0.8515053763440861\n",
      "\n",
      "Generation 9 - Current best internal CV score: 0.8558781362007167\n",
      "\n",
      "Generation 10 - Current best internal CV score: 0.8558781362007167\n",
      "\n",
      "Generation 11 - Current best internal CV score: 0.8614695340501792\n",
      "\n",
      "Generation 12 - Current best internal CV score: 0.8614695340501792\n",
      "\n",
      "Generation 13 - Current best internal CV score: 0.8614695340501792\n",
      "\n",
      "Generation 14 - Current best internal CV score: 0.8614695340501792\n",
      "\n",
      "Generation 15 - Current best internal CV score: 0.8614695340501792\n",
      "\n",
      "Generation 16 - Current best internal CV score: 0.8614695340501792\n",
      "\n",
      "Generation 17 - Current best internal CV score: 0.8614695340501792\n",
      "\n",
      "Generation 18 - Current best internal CV score: 0.8614695340501792\n",
      "\n",
      "Generation 19 - Current best internal CV score: 0.8614695340501792\n",
      "\n",
      "Generation 20 - Current best internal CV score: 0.8614695340501792\n",
      "\n",
      "Generation 21 - Current best internal CV score: 0.8625806451612903\n",
      "\n",
      "Generation 22 - Current best internal CV score: 0.8625806451612903\n",
      "\n",
      "Generation 23 - Current best internal CV score: 0.8625806451612903\n",
      "\n",
      "Generation 24 - Current best internal CV score: 0.8625806451612903\n",
      "\n",
      "Generation 25 - Current best internal CV score: 0.8625806451612903\n",
      "\n",
      "Generation 26 - Current best internal CV score: 0.8625806451612903\n",
      "\n",
      "Generation 27 - Current best internal CV score: 0.8625806451612903\n",
      "\n",
      "Generation 28 - Current best internal CV score: 0.8625806451612903\n",
      "\n",
      "Generation 29 - Current best internal CV score: 0.8625806451612903\n",
      "\n",
      "Generation 30 - Current best internal CV score: 0.8647670250896056\n",
      "\n",
      "Generation 31 - Current best internal CV score: 0.8647670250896056\n",
      "\n",
      "Generation 32 - Current best internal CV score: 0.8647670250896056\n",
      "\n",
      "Generation 33 - Current best internal CV score: 0.8647670250896056\n",
      "\n",
      "Generation 34 - Current best internal CV score: 0.8647670250896056\n",
      "\n",
      "Generation 35 - Current best internal CV score: 0.8647670250896056\n",
      "\n",
      "Generation 36 - Current best internal CV score: 0.8647670250896056\n",
      "\n",
      "Generation 37 - Current best internal CV score: 0.8647670250896056\n",
      "\n",
      "Generation 38 - Current best internal CV score: 0.8647670250896056\n",
      "\n",
      "Generation 39 - Current best internal CV score: 0.8647670250896056\n",
      "\n",
      "Generation 40 - Current best internal CV score: 0.8647670250896056\n",
      "\n",
      "Generation 41 - Current best internal CV score: 0.8647670250896056\n",
      "\n",
      "Generation 42 - Current best internal CV score: 0.8647670250896056\n",
      "\n",
      "Generation 43 - Current best internal CV score: 0.8647670250896056\n",
      "\n",
      "Generation 44 - Current best internal CV score: 0.8647670250896056\n",
      "\n",
      "Generation 45 - Current best internal CV score: 0.8647670250896056\n",
      "\n",
      "Generation 46 - Current best internal CV score: 0.8647670250896056\n",
      "\n",
      "Generation 47 - Current best internal CV score: 0.8647670250896056\n",
      "\n",
      "Generation 48 - Current best internal CV score: 0.8647670250896056\n",
      "\n",
      "Generation 49 - Current best internal CV score: 0.8647670250896056\n",
      "\n",
      "Generation 50 - Current best internal CV score: 0.8647670250896056\n",
      "\n",
      "Generation 51 - Current best internal CV score: 0.8647670250896056\n",
      "\n",
      "Generation 52 - Current best internal CV score: 0.8647670250896056\n",
      "\n",
      "Generation 53 - Current best internal CV score: 0.8647670250896056\n",
      "\n",
      "Generation 54 - Current best internal CV score: 0.8647670250896056\n",
      "\n",
      "Generation 55 - Current best internal CV score: 0.8647670250896056\n",
      "\n",
      "Generation 56 - Current best internal CV score: 0.8647670250896056\n",
      "\n",
      "Generation 57 - Current best internal CV score: 0.8647670250896056\n",
      "\n",
      "Generation 58 - Current best internal CV score: 0.8647670250896056\n",
      "\n",
      "Generation 59 - Current best internal CV score: 0.8647670250896056\n",
      "\n",
      "Generation 60 - Current best internal CV score: 0.8647670250896056\n",
      "\n",
      "Generation 61 - Current best internal CV score: 0.8647670250896056\n",
      "\n",
      "Generation 62 - Current best internal CV score: 0.8647670250896056\n",
      "\n",
      "Generation 63 - Current best internal CV score: 0.8647670250896056\n",
      "\n",
      "Generation 64 - Current best internal CV score: 0.8647670250896056\n",
      "\n",
      "Generation 65 - Current best internal CV score: 0.8647670250896056\n",
      "\n",
      "Generation 66 - Current best internal CV score: 0.8647670250896056\n",
      "\n",
      "Generation 67 - Current best internal CV score: 0.8647670250896056\n",
      "\n",
      "Generation 68 - Current best internal CV score: 0.8647670250896056\n",
      "\n",
      "Generation 69 - Current best internal CV score: 0.8647670250896056\n",
      "\n",
      "Generation 70 - Current best internal CV score: 0.8647670250896056\n",
      "\n",
      "Generation 71 - Current best internal CV score: 0.8647670250896056\n",
      "\n",
      "Generation 72 - Current best internal CV score: 0.8647670250896056\n",
      "\n",
      "Generation 73 - Current best internal CV score: 0.8647670250896056\n",
      "\n",
      "Generation 74 - Current best internal CV score: 0.8647670250896056\n",
      "\n",
      "Generation 75 - Current best internal CV score: 0.8647670250896056\n",
      "\n",
      "Generation 76 - Current best internal CV score: 0.8647670250896056\n",
      "\n",
      "Generation 77 - Current best internal CV score: 0.8647670250896056\n",
      "\n",
      "Generation 78 - Current best internal CV score: 0.8647670250896056\n",
      "\n",
      "Generation 79 - Current best internal CV score: 0.8647670250896056\n",
      "\n",
      "Generation 80 - Current best internal CV score: 0.8647670250896056\n",
      "\n",
      "Generation 81 - Current best internal CV score: 0.8647670250896056\n",
      "\n",
      "Generation 82 - Current best internal CV score: 0.8647670250896056\n",
      "\n",
      "Generation 83 - Current best internal CV score: 0.8647670250896056\n",
      "\n",
      "Generation 84 - Current best internal CV score: 0.8647670250896056\n",
      "\n",
      "Generation 85 - Current best internal CV score: 0.8647670250896056\n",
      "\n",
      "Generation 86 - Current best internal CV score: 0.8647670250896056\n",
      "\n",
      "Generation 87 - Current best internal CV score: 0.8647670250896056\n",
      "\n",
      "Generation 88 - Current best internal CV score: 0.8647670250896056\n",
      "\n",
      "Generation 89 - Current best internal CV score: 0.8647670250896056\n",
      "\n",
      "Generation 90 - Current best internal CV score: 0.8647670250896056\n",
      "\n",
      "Generation 91 - Current best internal CV score: 0.8647670250896056\n",
      "\n",
      "Generation 92 - Current best internal CV score: 0.8647670250896056\n",
      "\n",
      "Generation 93 - Current best internal CV score: 0.8647670250896056\n",
      "\n",
      "Generation 94 - Current best internal CV score: 0.8647670250896056\n",
      "\n",
      "Generation 95 - Current best internal CV score: 0.8647670250896056\n",
      "\n",
      "Generation 96 - Current best internal CV score: 0.8647670250896056\n",
      "\n",
      "Generation 97 - Current best internal CV score: 0.8647670250896056\n",
      "\n",
      "Generation 98 - Current best internal CV score: 0.8647670250896056\n",
      "\n",
      "Generation 99 - Current best internal CV score: 0.8647670250896056\n",
      "\n",
      "Generation 100 - Current best internal CV score: 0.8647670250896056\n",
      "\n",
      "Best pipeline: LinearSVC(RFE(PCA(input_matrix, iterated_power=6, svd_solver=randomized), criterion=entropy, max_features=0.45, n_estimators=100, step=0.7500000000000001), C=20.0, dual=True, loss=squared_hinge, penalty=l2, tol=0.01)\n",
      "Execution time :  6:51:35.904332\n",
      "Job Ended at: 2021-01-11 06:26:54.349509\n"
     ]
    }
   ],
   "source": [
    "init_time = datetime.now()\n",
    "print (f\"Job Started at: {init_time}\")\n",
    "\n",
    "# define model evaluation\n",
    "cv = RepeatedStratifiedKFold(n_splits=10, n_repeats=3, random_state=1)\n",
    "# define search\n",
    "tpot = TPOTClassifier(cv=cv, scoring='accuracy', \n",
    "                       verbosity=2, random_state=1, n_jobs=-1) \n",
    "# perform the search\n",
    "tpot.fit(X_scaled, y)\n",
    "\n",
    "model = tpot.fitted_pipeline_\n",
    "\n",
    "fin_time = datetime.now()\n",
    "print(\"Execution time : \", (fin_time-init_time))\n",
    "print (f\"Job Ended at: {fin_time}\")"
   ]
  },
  {
   "cell_type": "code",
   "execution_count": 18,
   "metadata": {
    "hidden": true
   },
   "outputs": [],
   "source": [
    "#export the best model\n",
    "tpot.export('tpot_heart_disease_best_model.py')"
   ]
  },
  {
   "cell_type": "code",
   "execution_count": 23,
   "metadata": {
    "hidden": true
   },
   "outputs": [],
   "source": [
    "from sklearn.decomposition import PCA\n",
    "from sklearn.feature_selection import RFE\n",
    "from sklearn.ensemble import ExtraTreesClassifier\n",
    "from sklearn.model_selection import train_test_split\n",
    "from sklearn.pipeline import make_pipeline\n",
    "from sklearn.svm import LinearSVC\n",
    "from tpot.export_utils import set_param_recursive"
   ]
  },
  {
   "cell_type": "code",
   "execution_count": 24,
   "metadata": {
    "hidden": true
   },
   "outputs": [],
   "source": [
    "exported_pipeline = make_pipeline(\n",
    "    PCA(iterated_power=6, svd_solver=\"randomized\"),\n",
    "    RFE(estimator=ExtraTreesClassifier(criterion=\"entropy\", max_features=0.45, n_estimators=100), step=0.7500000000000001),\n",
    "    LinearSVC(C=20.0, dual=True, loss=\"squared_hinge\", penalty=\"l2\", tol=0.01)\n",
    ")"
   ]
  },
  {
   "cell_type": "code",
   "execution_count": 25,
   "metadata": {
    "hidden": true
   },
   "outputs": [],
   "source": [
    "# Fix random state for all the steps in exported pipeline\n",
    "set_param_recursive(exported_pipeline.steps, 'random_state', 1)"
   ]
  },
  {
   "cell_type": "code",
   "execution_count": 26,
   "metadata": {
    "hidden": true
   },
   "outputs": [
    {
     "data": {
      "text/plain": [
       "Pipeline(steps=[('pca',\n",
       "                 PCA(iterated_power=6, random_state=1,\n",
       "                     svd_solver='randomized')),\n",
       "                ('rfe',\n",
       "                 RFE(estimator=ExtraTreesClassifier(criterion='entropy',\n",
       "                                                    max_features=0.45,\n",
       "                                                    random_state=1),\n",
       "                     step=0.7500000000000001)),\n",
       "                ('linearsvc', LinearSVC(C=20.0, random_state=1, tol=0.01))])"
      ]
     },
     "execution_count": 26,
     "metadata": {},
     "output_type": "execute_result"
    }
   ],
   "source": [
    "exported_pipeline.fit(X_train, y_train)"
   ]
  },
  {
   "cell_type": "code",
   "execution_count": 27,
   "metadata": {
    "hidden": true
   },
   "outputs": [],
   "source": [
    "results = exported_pipeline.predict(X_test)"
   ]
  },
  {
   "cell_type": "code",
   "execution_count": 28,
   "metadata": {
    "hidden": true
   },
   "outputs": [
    {
     "data": {
      "text/plain": [
       "array([1, 1, 1, 1, 0, 1, 0, 0, 0, 1, 1, 0, 1, 0, 1, 0, 1, 1, 0, 1, 0, 1,\n",
       "       0, 1, 1, 0, 0, 1, 0, 0, 1, 0, 1, 1, 0, 0, 1, 1, 0, 1, 0, 1, 0, 1,\n",
       "       1, 0, 1, 0, 1, 0, 0, 0, 0, 0, 0, 0, 0, 0, 0, 0, 1, 0, 1, 0, 1, 0,\n",
       "       0, 0, 1, 1, 0, 0, 0, 0, 0, 0, 1, 0, 0, 1, 1, 1, 0, 0, 1, 1, 1, 0,\n",
       "       1, 0, 0])"
      ]
     },
     "execution_count": 28,
     "metadata": {},
     "output_type": "execute_result"
    }
   ],
   "source": [
    "results"
   ]
  },
  {
   "cell_type": "code",
   "execution_count": 29,
   "metadata": {
    "hidden": true
   },
   "outputs": [],
   "source": [
    "from sklearn.metrics import classification_report, confusion_matrix, plot_confusion_matrix"
   ]
  },
  {
   "cell_type": "code",
   "execution_count": 30,
   "metadata": {
    "hidden": true
   },
   "outputs": [
    {
     "name": "stdout",
     "output_type": "stream",
     "text": [
      "              precision    recall  f1-score   support\n",
      "\n",
      "           0       0.55      0.57      0.56        49\n",
      "           1       0.47      0.45      0.46        42\n",
      "\n",
      "    accuracy                           0.52        91\n",
      "   macro avg       0.51      0.51      0.51        91\n",
      "weighted avg       0.51      0.52      0.52        91\n",
      "\n"
     ]
    }
   ],
   "source": [
    "print(classification_report(y_test, results))"
   ]
  },
  {
   "cell_type": "code",
   "execution_count": 31,
   "metadata": {
    "hidden": true
   },
   "outputs": [
    {
     "data": {
      "text/plain": [
       "<sklearn.metrics._plot.confusion_matrix.ConfusionMatrixDisplay at 0x7f5a689c8e10>"
      ]
     },
     "execution_count": 31,
     "metadata": {},
     "output_type": "execute_result"
    },
    {
     "data": {
      "image/png": "[encoded data removed]",
      "text/plain": [
       "<Figure size 432x288 with 2 Axes>"
      ]
     },
     "metadata": {
      "needs_background": "light"
     },
     "output_type": "display_data"
    }
   ],
   "source": [
    "plot_confusion_matrix(exported_pipeline,X_test, y_test)"
   ]
  },
  {
   "cell_type": "markdown",
   "metadata": {
    "heading_collapsed": true
   },
   "source": [
    "## hpsklearn AutoML"
   ]
  },
  {
   "cell_type": "code",
   "execution_count": 32,
   "metadata": {
    "hidden": true
   },
   "outputs": [],
   "source": [
    "rs = RobustScaler()\n",
    "X_train_scaled = rs.fit_transform(X_train)\n",
    "X_test_scaled = rs.transform(X_test)"
   ]
  },
  {
   "cell_type": "code",
   "execution_count": 36,
   "metadata": {
    "hidden": true
   },
   "outputs": [
    {
     "name": "stdout",
     "output_type": "stream",
     "text": [
      "Job Started at: 2021-01-11 10:08:56.844226\n",
      "100%|██████████| 1/1 [00:02<00:00,  2.95s/trial, best loss: 0.13953488372093026]\n",
      "100%|██████████| 2/2 [00:00<00:00,  3.33trial/s, best loss: 0.13953488372093026]\n",
      "100%|██████████| 3/3 [00:02<00:00,  2.41s/trial, best loss: 0.13953488372093026]\n",
      "100%|██████████| 4/4 [00:00<00:00,  6.08trial/s, best loss: 0.13953488372093026]\n",
      "100%|██████████| 5/5 [00:00<00:00,  5.72trial/s, best loss: 0.13953488372093026]\n",
      " 83%|████████▎ | 5/6 [00:00<?, ?trial/s, best loss=?]"
     ]
    },
    {
     "name": "stderr",
     "output_type": "stream",
     "text": [
      "job exception: __init__() got an unexpected keyword argument 'n_iter'\n",
      "\n"
     ]
    },
    {
     "name": "stdout",
     "output_type": "stream",
     "text": [
      " 83%|████████▎ | 5/6 [00:00<?, ?trial/s, best loss=?]\n"
     ]
    },
    {
     "ename": "TypeError",
     "evalue": "__init__() got an unexpected keyword argument 'n_iter'",
     "output_type": "error",
     "traceback": [
      "\u001b[0;31m---------------------------------------------------------------------------\u001b[0m",
      "\u001b[0;31mTypeError\u001b[0m                                 Traceback (most recent call last)",
      "\u001b[0;32m<ipython-input-36-02f21e33c675>\u001b[0m in \u001b[0;36m<module>\u001b[0;34m\u001b[0m\n\u001b[1;32m     11\u001b[0m                                 trial_timeout=5000)\n\u001b[1;32m     12\u001b[0m     \u001b[0;31m# perform the search\u001b[0m\u001b[0;34m\u001b[0m\u001b[0;34m\u001b[0m\u001b[0;34m\u001b[0m\u001b[0m\n\u001b[0;32m---> 13\u001b[0;31m \u001b[0mmodel\u001b[0m\u001b[0;34m.\u001b[0m\u001b[0mfit\u001b[0m\u001b[0;34m(\u001b[0m\u001b[0mX_train_scaled\u001b[0m\u001b[0;34m,\u001b[0m \u001b[0my_train\u001b[0m\u001b[0;34m)\u001b[0m\u001b[0;34m\u001b[0m\u001b[0;34m\u001b[0m\u001b[0m\n\u001b[0m\u001b[1;32m     14\u001b[0m \u001b[0macc\u001b[0m \u001b[0;34m=\u001b[0m \u001b[0mmodel\u001b[0m\u001b[0;34m.\u001b[0m\u001b[0mscore\u001b[0m\u001b[0;34m(\u001b[0m\u001b[0mX_test_scaled\u001b[0m\u001b[0;34m,\u001b[0m \u001b[0my_test\u001b[0m\u001b[0;34m)\u001b[0m\u001b[0;34m\u001b[0m\u001b[0;34m\u001b[0m\u001b[0m\n\u001b[1;32m     15\u001b[0m     \u001b[0;31m#if acc > accuracy:\u001b[0m\u001b[0;34m\u001b[0m\u001b[0;34m\u001b[0m\u001b[0;34m\u001b[0m\u001b[0m\n",
      "\u001b[0;32m~/anaconda3/envs/py_caret_env/lib/python3.7/site-packages/hpsklearn/estimator.py\u001b[0m in \u001b[0;36mfit\u001b[0;34m(self, X, y, EX_list, valid_size, n_folds, cv_shuffle, warm_start, random_state, weights)\u001b[0m\n\u001b[1;32m    744\u001b[0m             increment = min(self.fit_increment,\n\u001b[1;32m    745\u001b[0m                             adjusted_max_evals - len(self.trials.trials))\n\u001b[0;32m--> 746\u001b[0;31m             \u001b[0mfit_iter\u001b[0m\u001b[0;34m.\u001b[0m\u001b[0msend\u001b[0m\u001b[0;34m(\u001b[0m\u001b[0mincrement\u001b[0m\u001b[0;34m)\u001b[0m\u001b[0;34m\u001b[0m\u001b[0;34m\u001b[0m\u001b[0m\n\u001b[0m\u001b[1;32m    747\u001b[0m             \u001b[0;32mif\u001b[0m \u001b[0mfilename\u001b[0m \u001b[0;32mis\u001b[0m \u001b[0;32mnot\u001b[0m \u001b[0;32mNone\u001b[0m\u001b[0;34m:\u001b[0m\u001b[0;34m\u001b[0m\u001b[0;34m\u001b[0m\u001b[0m\n\u001b[1;32m    748\u001b[0m                 \u001b[0;32mwith\u001b[0m \u001b[0mopen\u001b[0m\u001b[0;34m(\u001b[0m\u001b[0mfilename\u001b[0m\u001b[0;34m,\u001b[0m \u001b[0;34m'wb'\u001b[0m\u001b[0;34m)\u001b[0m \u001b[0;32mas\u001b[0m \u001b[0mdump_file\u001b[0m\u001b[0;34m:\u001b[0m\u001b[0;34m\u001b[0m\u001b[0;34m\u001b[0m\u001b[0m\n",
      "\u001b[0;32m~/anaconda3/envs/py_caret_env/lib/python3.7/site-packages/hpsklearn/estimator.py\u001b[0m in \u001b[0;36mfit_iter\u001b[0;34m(self, X, y, EX_list, valid_size, n_folds, cv_shuffle, warm_start, random_state, weights, increment)\u001b[0m\n\u001b[1;32m    655\u001b[0m                               \u001b[0;31m#    so we notice them.\u001b[0m\u001b[0;34m\u001b[0m\u001b[0;34m\u001b[0m\u001b[0;34m\u001b[0m\u001b[0m\n\u001b[1;32m    656\u001b[0m                               \u001b[0mcatch_eval_exceptions\u001b[0m\u001b[0;34m=\u001b[0m\u001b[0;32mFalse\u001b[0m\u001b[0;34m,\u001b[0m\u001b[0;34m\u001b[0m\u001b[0;34m\u001b[0m\u001b[0m\n\u001b[0;32m--> 657\u001b[0;31m                               \u001b[0mreturn_argmin\u001b[0m\u001b[0;34m=\u001b[0m\u001b[0;32mFalse\u001b[0m\u001b[0;34m,\u001b[0m \u001b[0;31m# -- in case no success so far\u001b[0m\u001b[0;34m\u001b[0m\u001b[0;34m\u001b[0m\u001b[0m\n\u001b[0m\u001b[1;32m    658\u001b[0m                              )\n\u001b[1;32m    659\u001b[0m             \u001b[0;32melse\u001b[0m\u001b[0;34m:\u001b[0m\u001b[0;34m\u001b[0m\u001b[0;34m\u001b[0m\u001b[0m\n",
      "\u001b[0;32m~/anaconda3/envs/py_caret_env/lib/python3.7/site-packages/hyperopt/fmin.py\u001b[0m in \u001b[0;36mfmin\u001b[0;34m(fn, space, algo, max_evals, timeout, loss_threshold, trials, rstate, allow_trials_fmin, pass_expr_memo_ctrl, catch_eval_exceptions, verbose, return_argmin, points_to_evaluate, max_queue_len, show_progressbar, early_stop_fn, trials_save_file)\u001b[0m\n\u001b[1;32m    520\u001b[0m             \u001b[0mshow_progressbar\u001b[0m\u001b[0;34m=\u001b[0m\u001b[0mshow_progressbar\u001b[0m\u001b[0;34m,\u001b[0m\u001b[0;34m\u001b[0m\u001b[0;34m\u001b[0m\u001b[0m\n\u001b[1;32m    521\u001b[0m             \u001b[0mearly_stop_fn\u001b[0m\u001b[0;34m=\u001b[0m\u001b[0mearly_stop_fn\u001b[0m\u001b[0;34m,\u001b[0m\u001b[0;34m\u001b[0m\u001b[0;34m\u001b[0m\u001b[0m\n\u001b[0;32m--> 522\u001b[0;31m             \u001b[0mtrials_save_file\u001b[0m\u001b[0;34m=\u001b[0m\u001b[0mtrials_save_file\u001b[0m\u001b[0;34m,\u001b[0m\u001b[0;34m\u001b[0m\u001b[0;34m\u001b[0m\u001b[0m\n\u001b[0m\u001b[1;32m    523\u001b[0m         )\n\u001b[1;32m    524\u001b[0m \u001b[0;34m\u001b[0m\u001b[0m\n",
      "\u001b[0;32m~/anaconda3/envs/py_caret_env/lib/python3.7/site-packages/hyperopt/base.py\u001b[0m in \u001b[0;36mfmin\u001b[0;34m(self, fn, space, algo, max_evals, timeout, loss_threshold, max_queue_len, rstate, verbose, pass_expr_memo_ctrl, catch_eval_exceptions, return_argmin, show_progressbar, early_stop_fn, trials_save_file)\u001b[0m\n\u001b[1;32m    697\u001b[0m             \u001b[0mshow_progressbar\u001b[0m\u001b[0;34m=\u001b[0m\u001b[0mshow_progressbar\u001b[0m\u001b[0;34m,\u001b[0m\u001b[0;34m\u001b[0m\u001b[0;34m\u001b[0m\u001b[0m\n\u001b[1;32m    698\u001b[0m             \u001b[0mearly_stop_fn\u001b[0m\u001b[0;34m=\u001b[0m\u001b[0mearly_stop_fn\u001b[0m\u001b[0;34m,\u001b[0m\u001b[0;34m\u001b[0m\u001b[0;34m\u001b[0m\u001b[0m\n\u001b[0;32m--> 699\u001b[0;31m             \u001b[0mtrials_save_file\u001b[0m\u001b[0;34m=\u001b[0m\u001b[0mtrials_save_file\u001b[0m\u001b[0;34m,\u001b[0m\u001b[0;34m\u001b[0m\u001b[0;34m\u001b[0m\u001b[0m\n\u001b[0m\u001b[1;32m    700\u001b[0m         )\n\u001b[1;32m    701\u001b[0m \u001b[0;34m\u001b[0m\u001b[0m\n",
      "\u001b[0;32m~/anaconda3/envs/py_caret_env/lib/python3.7/site-packages/hyperopt/fmin.py\u001b[0m in \u001b[0;36mfmin\u001b[0;34m(fn, space, algo, max_evals, timeout, loss_threshold, trials, rstate, allow_trials_fmin, pass_expr_memo_ctrl, catch_eval_exceptions, verbose, return_argmin, points_to_evaluate, max_queue_len, show_progressbar, early_stop_fn, trials_save_file)\u001b[0m\n\u001b[1;32m    551\u001b[0m \u001b[0;34m\u001b[0m\u001b[0m\n\u001b[1;32m    552\u001b[0m     \u001b[0;31m# next line is where the fmin is actually executed\u001b[0m\u001b[0;34m\u001b[0m\u001b[0;34m\u001b[0m\u001b[0;34m\u001b[0m\u001b[0m\n\u001b[0;32m--> 553\u001b[0;31m     \u001b[0mrval\u001b[0m\u001b[0;34m.\u001b[0m\u001b[0mexhaust\u001b[0m\u001b[0;34m(\u001b[0m\u001b[0;34m)\u001b[0m\u001b[0;34m\u001b[0m\u001b[0;34m\u001b[0m\u001b[0m\n\u001b[0m\u001b[1;32m    554\u001b[0m \u001b[0;34m\u001b[0m\u001b[0m\n\u001b[1;32m    555\u001b[0m     \u001b[0;32mif\u001b[0m \u001b[0mreturn_argmin\u001b[0m\u001b[0;34m:\u001b[0m\u001b[0;34m\u001b[0m\u001b[0;34m\u001b[0m\u001b[0m\n",
      "\u001b[0;32m~/anaconda3/envs/py_caret_env/lib/python3.7/site-packages/hyperopt/fmin.py\u001b[0m in \u001b[0;36mexhaust\u001b[0;34m(self)\u001b[0m\n\u001b[1;32m    354\u001b[0m     \u001b[0;32mdef\u001b[0m \u001b[0mexhaust\u001b[0m\u001b[0;34m(\u001b[0m\u001b[0mself\u001b[0m\u001b[0;34m)\u001b[0m\u001b[0;34m:\u001b[0m\u001b[0;34m\u001b[0m\u001b[0;34m\u001b[0m\u001b[0m\n\u001b[1;32m    355\u001b[0m         \u001b[0mn_done\u001b[0m \u001b[0;34m=\u001b[0m \u001b[0mlen\u001b[0m\u001b[0;34m(\u001b[0m\u001b[0mself\u001b[0m\u001b[0;34m.\u001b[0m\u001b[0mtrials\u001b[0m\u001b[0;34m)\u001b[0m\u001b[0;34m\u001b[0m\u001b[0;34m\u001b[0m\u001b[0m\n\u001b[0;32m--> 356\u001b[0;31m         \u001b[0mself\u001b[0m\u001b[0;34m.\u001b[0m\u001b[0mrun\u001b[0m\u001b[0;34m(\u001b[0m\u001b[0mself\u001b[0m\u001b[0;34m.\u001b[0m\u001b[0mmax_evals\u001b[0m \u001b[0;34m-\u001b[0m \u001b[0mn_done\u001b[0m\u001b[0;34m,\u001b[0m \u001b[0mblock_until_done\u001b[0m\u001b[0;34m=\u001b[0m\u001b[0mself\u001b[0m\u001b[0;34m.\u001b[0m\u001b[0masynchronous\u001b[0m\u001b[0;34m)\u001b[0m\u001b[0;34m\u001b[0m\u001b[0;34m\u001b[0m\u001b[0m\n\u001b[0m\u001b[1;32m    357\u001b[0m         \u001b[0mself\u001b[0m\u001b[0;34m.\u001b[0m\u001b[0mtrials\u001b[0m\u001b[0;34m.\u001b[0m\u001b[0mrefresh\u001b[0m\u001b[0;34m(\u001b[0m\u001b[0;34m)\u001b[0m\u001b[0;34m\u001b[0m\u001b[0;34m\u001b[0m\u001b[0m\n\u001b[1;32m    358\u001b[0m         \u001b[0;32mreturn\u001b[0m \u001b[0mself\u001b[0m\u001b[0;34m\u001b[0m\u001b[0;34m\u001b[0m\u001b[0m\n",
      "\u001b[0;32m~/anaconda3/envs/py_caret_env/lib/python3.7/site-packages/hyperopt/fmin.py\u001b[0m in \u001b[0;36mrun\u001b[0;34m(self, N, block_until_done)\u001b[0m\n\u001b[1;32m    290\u001b[0m                 \u001b[0;32melse\u001b[0m\u001b[0;34m:\u001b[0m\u001b[0;34m\u001b[0m\u001b[0;34m\u001b[0m\u001b[0m\n\u001b[1;32m    291\u001b[0m                     \u001b[0;31m# -- loop over trials and do the jobs directly\u001b[0m\u001b[0;34m\u001b[0m\u001b[0;34m\u001b[0m\u001b[0;34m\u001b[0m\u001b[0m\n\u001b[0;32m--> 292\u001b[0;31m                     \u001b[0mself\u001b[0m\u001b[0;34m.\u001b[0m\u001b[0mserial_evaluate\u001b[0m\u001b[0;34m(\u001b[0m\u001b[0;34m)\u001b[0m\u001b[0;34m\u001b[0m\u001b[0;34m\u001b[0m\u001b[0m\n\u001b[0m\u001b[1;32m    293\u001b[0m \u001b[0;34m\u001b[0m\u001b[0m\n\u001b[1;32m    294\u001b[0m                 \u001b[0mself\u001b[0m\u001b[0;34m.\u001b[0m\u001b[0mtrials\u001b[0m\u001b[0;34m.\u001b[0m\u001b[0mrefresh\u001b[0m\u001b[0;34m(\u001b[0m\u001b[0;34m)\u001b[0m\u001b[0;34m\u001b[0m\u001b[0;34m\u001b[0m\u001b[0m\n",
      "\u001b[0;32m~/anaconda3/envs/py_caret_env/lib/python3.7/site-packages/hyperopt/fmin.py\u001b[0m in \u001b[0;36mserial_evaluate\u001b[0;34m(self, N)\u001b[0m\n\u001b[1;32m    168\u001b[0m                 \u001b[0mctrl\u001b[0m \u001b[0;34m=\u001b[0m \u001b[0mbase\u001b[0m\u001b[0;34m.\u001b[0m\u001b[0mCtrl\u001b[0m\u001b[0;34m(\u001b[0m\u001b[0mself\u001b[0m\u001b[0;34m.\u001b[0m\u001b[0mtrials\u001b[0m\u001b[0;34m,\u001b[0m \u001b[0mcurrent_trial\u001b[0m\u001b[0;34m=\u001b[0m\u001b[0mtrial\u001b[0m\u001b[0;34m)\u001b[0m\u001b[0;34m\u001b[0m\u001b[0;34m\u001b[0m\u001b[0m\n\u001b[1;32m    169\u001b[0m                 \u001b[0;32mtry\u001b[0m\u001b[0;34m:\u001b[0m\u001b[0;34m\u001b[0m\u001b[0;34m\u001b[0m\u001b[0m\n\u001b[0;32m--> 170\u001b[0;31m                     \u001b[0mresult\u001b[0m \u001b[0;34m=\u001b[0m \u001b[0mself\u001b[0m\u001b[0;34m.\u001b[0m\u001b[0mdomain\u001b[0m\u001b[0;34m.\u001b[0m\u001b[0mevaluate\u001b[0m\u001b[0;34m(\u001b[0m\u001b[0mspec\u001b[0m\u001b[0;34m,\u001b[0m \u001b[0mctrl\u001b[0m\u001b[0;34m)\u001b[0m\u001b[0;34m\u001b[0m\u001b[0;34m\u001b[0m\u001b[0m\n\u001b[0m\u001b[1;32m    171\u001b[0m                 \u001b[0;32mexcept\u001b[0m \u001b[0mException\u001b[0m \u001b[0;32mas\u001b[0m \u001b[0me\u001b[0m\u001b[0;34m:\u001b[0m\u001b[0;34m\u001b[0m\u001b[0;34m\u001b[0m\u001b[0m\n\u001b[1;32m    172\u001b[0m                     \u001b[0mlogger\u001b[0m\u001b[0;34m.\u001b[0m\u001b[0merror\u001b[0m\u001b[0;34m(\u001b[0m\u001b[0;34m\"job exception: %s\"\u001b[0m \u001b[0;34m%\u001b[0m \u001b[0mstr\u001b[0m\u001b[0;34m(\u001b[0m\u001b[0me\u001b[0m\u001b[0;34m)\u001b[0m\u001b[0;34m)\u001b[0m\u001b[0;34m\u001b[0m\u001b[0;34m\u001b[0m\u001b[0m\n",
      "\u001b[0;32m~/anaconda3/envs/py_caret_env/lib/python3.7/site-packages/hyperopt/base.py\u001b[0m in \u001b[0;36mevaluate\u001b[0;34m(self, config, ctrl, attach_attachments)\u001b[0m\n\u001b[1;32m    903\u001b[0m                 \u001b[0mself\u001b[0m\u001b[0;34m.\u001b[0m\u001b[0mexpr\u001b[0m\u001b[0;34m,\u001b[0m\u001b[0;34m\u001b[0m\u001b[0;34m\u001b[0m\u001b[0m\n\u001b[1;32m    904\u001b[0m                 \u001b[0mmemo\u001b[0m\u001b[0;34m=\u001b[0m\u001b[0mmemo\u001b[0m\u001b[0;34m,\u001b[0m\u001b[0;34m\u001b[0m\u001b[0;34m\u001b[0m\u001b[0m\n\u001b[0;32m--> 905\u001b[0;31m                 \u001b[0mprint_node_on_error\u001b[0m\u001b[0;34m=\u001b[0m\u001b[0mself\u001b[0m\u001b[0;34m.\u001b[0m\u001b[0mrec_eval_print_node_on_error\u001b[0m\u001b[0;34m,\u001b[0m\u001b[0;34m\u001b[0m\u001b[0;34m\u001b[0m\u001b[0m\n\u001b[0m\u001b[1;32m    906\u001b[0m             )\n\u001b[1;32m    907\u001b[0m             \u001b[0mrval\u001b[0m \u001b[0;34m=\u001b[0m \u001b[0mself\u001b[0m\u001b[0;34m.\u001b[0m\u001b[0mfn\u001b[0m\u001b[0;34m(\u001b[0m\u001b[0mpyll_rval\u001b[0m\u001b[0;34m)\u001b[0m\u001b[0;34m\u001b[0m\u001b[0;34m\u001b[0m\u001b[0m\n",
      "\u001b[0;32m~/anaconda3/envs/py_caret_env/lib/python3.7/site-packages/hyperopt/pyll/base.py\u001b[0m in \u001b[0;36mrec_eval\u001b[0;34m(expr, deepcopy_inputs, memo, max_program_len, memo_gc, print_trace, print_node_on_error)\u001b[0m\n\u001b[1;32m    909\u001b[0m \u001b[0;34m\u001b[0m\u001b[0m\n\u001b[1;32m    910\u001b[0m             \u001b[0;32mtry\u001b[0m\u001b[0;34m:\u001b[0m\u001b[0;34m\u001b[0m\u001b[0;34m\u001b[0m\u001b[0m\n\u001b[0;32m--> 911\u001b[0;31m                 \u001b[0mrval\u001b[0m \u001b[0;34m=\u001b[0m \u001b[0mscope\u001b[0m\u001b[0;34m.\u001b[0m\u001b[0m_impls\u001b[0m\u001b[0;34m[\u001b[0m\u001b[0mnode\u001b[0m\u001b[0;34m.\u001b[0m\u001b[0mname\u001b[0m\u001b[0;34m]\u001b[0m\u001b[0;34m(\u001b[0m\u001b[0;34m*\u001b[0m\u001b[0margs\u001b[0m\u001b[0;34m,\u001b[0m \u001b[0;34m**\u001b[0m\u001b[0mkwargs\u001b[0m\u001b[0;34m)\u001b[0m\u001b[0;34m\u001b[0m\u001b[0;34m\u001b[0m\u001b[0m\n\u001b[0m\u001b[1;32m    912\u001b[0m \u001b[0;34m\u001b[0m\u001b[0m\n\u001b[1;32m    913\u001b[0m             \u001b[0;32mexcept\u001b[0m \u001b[0mException\u001b[0m \u001b[0;32mas\u001b[0m \u001b[0me\u001b[0m\u001b[0;34m:\u001b[0m\u001b[0;34m\u001b[0m\u001b[0;34m\u001b[0m\u001b[0m\n",
      "\u001b[0;32m~/anaconda3/envs/py_caret_env/lib/python3.7/site-packages/hpsklearn/components.py\u001b[0m in \u001b[0;36msklearn_SGDClassifier\u001b[0;34m(*args, **kwargs)\u001b[0m\n\u001b[1;32m     89\u001b[0m \u001b[0;34m@\u001b[0m\u001b[0mscope\u001b[0m\u001b[0;34m.\u001b[0m\u001b[0mdefine\u001b[0m\u001b[0;34m\u001b[0m\u001b[0;34m\u001b[0m\u001b[0m\n\u001b[1;32m     90\u001b[0m \u001b[0;32mdef\u001b[0m \u001b[0msklearn_SGDClassifier\u001b[0m\u001b[0;34m(\u001b[0m\u001b[0;34m*\u001b[0m\u001b[0margs\u001b[0m\u001b[0;34m,\u001b[0m \u001b[0;34m**\u001b[0m\u001b[0mkwargs\u001b[0m\u001b[0;34m)\u001b[0m\u001b[0;34m:\u001b[0m\u001b[0;34m\u001b[0m\u001b[0;34m\u001b[0m\u001b[0m\n\u001b[0;32m---> 91\u001b[0;31m     \u001b[0;32mreturn\u001b[0m \u001b[0msklearn\u001b[0m\u001b[0;34m.\u001b[0m\u001b[0mlinear_model\u001b[0m\u001b[0;34m.\u001b[0m\u001b[0mSGDClassifier\u001b[0m\u001b[0;34m(\u001b[0m\u001b[0;34m*\u001b[0m\u001b[0margs\u001b[0m\u001b[0;34m,\u001b[0m \u001b[0;34m**\u001b[0m\u001b[0mkwargs\u001b[0m\u001b[0;34m)\u001b[0m\u001b[0;34m\u001b[0m\u001b[0;34m\u001b[0m\u001b[0m\n\u001b[0m\u001b[1;32m     92\u001b[0m \u001b[0;34m\u001b[0m\u001b[0m\n\u001b[1;32m     93\u001b[0m \u001b[0;34m@\u001b[0m\u001b[0mscope\u001b[0m\u001b[0;34m.\u001b[0m\u001b[0mdefine\u001b[0m\u001b[0;34m\u001b[0m\u001b[0;34m\u001b[0m\u001b[0m\n",
      "\u001b[0;32m~/anaconda3/envs/py_caret_env/lib/python3.7/site-packages/sklearn/utils/validation.py\u001b[0m in \u001b[0;36minner_f\u001b[0;34m(*args, **kwargs)\u001b[0m\n\u001b[1;32m     70\u001b[0m                           FutureWarning)\n\u001b[1;32m     71\u001b[0m         \u001b[0mkwargs\u001b[0m\u001b[0;34m.\u001b[0m\u001b[0mupdate\u001b[0m\u001b[0;34m(\u001b[0m\u001b[0;34m{\u001b[0m\u001b[0mk\u001b[0m\u001b[0;34m:\u001b[0m \u001b[0marg\u001b[0m \u001b[0;32mfor\u001b[0m \u001b[0mk\u001b[0m\u001b[0;34m,\u001b[0m \u001b[0marg\u001b[0m \u001b[0;32min\u001b[0m \u001b[0mzip\u001b[0m\u001b[0;34m(\u001b[0m\u001b[0msig\u001b[0m\u001b[0;34m.\u001b[0m\u001b[0mparameters\u001b[0m\u001b[0;34m,\u001b[0m \u001b[0margs\u001b[0m\u001b[0;34m)\u001b[0m\u001b[0;34m}\u001b[0m\u001b[0;34m)\u001b[0m\u001b[0;34m\u001b[0m\u001b[0;34m\u001b[0m\u001b[0m\n\u001b[0;32m---> 72\u001b[0;31m         \u001b[0;32mreturn\u001b[0m \u001b[0mf\u001b[0m\u001b[0;34m(\u001b[0m\u001b[0;34m**\u001b[0m\u001b[0mkwargs\u001b[0m\u001b[0;34m)\u001b[0m\u001b[0;34m\u001b[0m\u001b[0;34m\u001b[0m\u001b[0m\n\u001b[0m\u001b[1;32m     73\u001b[0m     \u001b[0;32mreturn\u001b[0m \u001b[0minner_f\u001b[0m\u001b[0;34m\u001b[0m\u001b[0;34m\u001b[0m\u001b[0m\n\u001b[1;32m     74\u001b[0m \u001b[0;34m\u001b[0m\u001b[0m\n",
      "\u001b[0;31mTypeError\u001b[0m: __init__() got an unexpected keyword argument 'n_iter'"
     ]
    }
   ],
   "source": [
    "init_time = datetime.now()\n",
    "print (f\"Job Started at: {init_time}\")\n",
    "accuracy = 0\n",
    "best_model = None\n",
    "#for i in range(100):\n",
    "    #print (i)\n",
    "model = HyperoptEstimator(  classifier= any_classifier('cla'), \n",
    "                                preprocessing= any_preprocessing('pre'), \n",
    "                                algo=tpe.suggest, \n",
    "                                max_evals=50, \n",
    "                                trial_timeout=5000)\n",
    "    # perform the search\n",
    "model.fit(X_train_scaled, y_train)\n",
    "acc = model.score(X_test_scaled, y_test)\n",
    "    #if acc > accuracy:\n",
    "        #accuracy = acc\n",
    "        #best_model = model\n",
    "        #print (accuracy)\n",
    "\n",
    "fin_time = datetime.now()\n",
    "print(\"Execution time : \", (fin_time-init_time))\n",
    "print (f\"Job Ended at: {fin_time}\")"
   ]
  },
  {
   "cell_type": "markdown",
   "metadata": {
    "heading_collapsed": true
   },
   "source": [
    "## PyCaret AutoML"
   ]
  },
  {
   "cell_type": "markdown",
   "metadata": {
    "heading_collapsed": true,
    "hidden": true
   },
   "source": [
    "### PyCaret Setup"
   ]
  },
  {
   "cell_type": "code",
   "execution_count": 43,
   "metadata": {
    "hidden": true
   },
   "outputs": [
    {
     "data": {
      "text/html": [
       "<style  type=\"text/css\" >\n",
       "#T_5387095e_53c3_11eb_a40f_44032c87eac3row33_col1,#T_5387095e_53c3_11eb_a40f_44032c87eac3row51_col1{\n",
       "            background-color:  lightgreen;\n",
       "        }</style><table id=\"T_5387095e_53c3_11eb_a40f_44032c87eac3\" ><thead>    <tr>        <th class=\"blank level0\" ></th>        <th class=\"col_heading level0 col0\" >Description</th>        <th class=\"col_heading level0 col1\" >Value</th>    </tr></thead><tbody>\n",
       "                <tr>\n",
       "                        <th id=\"T_5387095e_53c3_11eb_a40f_44032c87eac3level0_row0\" class=\"row_heading level0 row0\" >0</th>\n",
       "                        <td id=\"T_5387095e_53c3_11eb_a40f_44032c87eac3row0_col0\" class=\"data row0 col0\" >session_id</td>\n",
       "                        <td id=\"T_5387095e_53c3_11eb_a40f_44032c87eac3row0_col1\" class=\"data row0 col1\" >123</td>\n",
       "            </tr>\n",
       "            <tr>\n",
       "                        <th id=\"T_5387095e_53c3_11eb_a40f_44032c87eac3level0_row1\" class=\"row_heading level0 row1\" >1</th>\n",
       "                        <td id=\"T_5387095e_53c3_11eb_a40f_44032c87eac3row1_col0\" class=\"data row1 col0\" >Target</td>\n",
       "                        <td id=\"T_5387095e_53c3_11eb_a40f_44032c87eac3row1_col1\" class=\"data row1 col1\" >num</td>\n",
       "            </tr>\n",
       "            <tr>\n",
       "                        <th id=\"T_5387095e_53c3_11eb_a40f_44032c87eac3level0_row2\" class=\"row_heading level0 row2\" >2</th>\n",
       "                        <td id=\"T_5387095e_53c3_11eb_a40f_44032c87eac3row2_col0\" class=\"data row2 col0\" >Target Type</td>\n",
       "                        <td id=\"T_5387095e_53c3_11eb_a40f_44032c87eac3row2_col1\" class=\"data row2 col1\" >Binary</td>\n",
       "            </tr>\n",
       "            <tr>\n",
       "                        <th id=\"T_5387095e_53c3_11eb_a40f_44032c87eac3level0_row3\" class=\"row_heading level0 row3\" >3</th>\n",
       "                        <td id=\"T_5387095e_53c3_11eb_a40f_44032c87eac3row3_col0\" class=\"data row3 col0\" >Label Encoded</td>\n",
       "                        <td id=\"T_5387095e_53c3_11eb_a40f_44032c87eac3row3_col1\" class=\"data row3 col1\" >0: 0, 1: 1</td>\n",
       "            </tr>\n",
       "            <tr>\n",
       "                        <th id=\"T_5387095e_53c3_11eb_a40f_44032c87eac3level0_row4\" class=\"row_heading level0 row4\" >4</th>\n",
       "                        <td id=\"T_5387095e_53c3_11eb_a40f_44032c87eac3row4_col0\" class=\"data row4 col0\" >Original Data</td>\n",
       "                        <td id=\"T_5387095e_53c3_11eb_a40f_44032c87eac3row4_col1\" class=\"data row4 col1\" >(303, 17)</td>\n",
       "            </tr>\n",
       "            <tr>\n",
       "                        <th id=\"T_5387095e_53c3_11eb_a40f_44032c87eac3level0_row5\" class=\"row_heading level0 row5\" >5</th>\n",
       "                        <td id=\"T_5387095e_53c3_11eb_a40f_44032c87eac3row5_col0\" class=\"data row5 col0\" >Missing Values</td>\n",
       "                        <td id=\"T_5387095e_53c3_11eb_a40f_44032c87eac3row5_col1\" class=\"data row5 col1\" >False</td>\n",
       "            </tr>\n",
       "            <tr>\n",
       "                        <th id=\"T_5387095e_53c3_11eb_a40f_44032c87eac3level0_row6\" class=\"row_heading level0 row6\" >6</th>\n",
       "                        <td id=\"T_5387095e_53c3_11eb_a40f_44032c87eac3row6_col0\" class=\"data row6 col0\" >Numeric Features</td>\n",
       "                        <td id=\"T_5387095e_53c3_11eb_a40f_44032c87eac3row6_col1\" class=\"data row6 col1\" >15</td>\n",
       "            </tr>\n",
       "            <tr>\n",
       "                        <th id=\"T_5387095e_53c3_11eb_a40f_44032c87eac3level0_row7\" class=\"row_heading level0 row7\" >7</th>\n",
       "                        <td id=\"T_5387095e_53c3_11eb_a40f_44032c87eac3row7_col0\" class=\"data row7 col0\" >Categorical Features</td>\n",
       "                        <td id=\"T_5387095e_53c3_11eb_a40f_44032c87eac3row7_col1\" class=\"data row7 col1\" >1</td>\n",
       "            </tr>\n",
       "            <tr>\n",
       "                        <th id=\"T_5387095e_53c3_11eb_a40f_44032c87eac3level0_row8\" class=\"row_heading level0 row8\" >8</th>\n",
       "                        <td id=\"T_5387095e_53c3_11eb_a40f_44032c87eac3row8_col0\" class=\"data row8 col0\" >Ordinal Features</td>\n",
       "                        <td id=\"T_5387095e_53c3_11eb_a40f_44032c87eac3row8_col1\" class=\"data row8 col1\" >False</td>\n",
       "            </tr>\n",
       "            <tr>\n",
       "                        <th id=\"T_5387095e_53c3_11eb_a40f_44032c87eac3level0_row9\" class=\"row_heading level0 row9\" >9</th>\n",
       "                        <td id=\"T_5387095e_53c3_11eb_a40f_44032c87eac3row9_col0\" class=\"data row9 col0\" >High Cardinality Features</td>\n",
       "                        <td id=\"T_5387095e_53c3_11eb_a40f_44032c87eac3row9_col1\" class=\"data row9 col1\" >False</td>\n",
       "            </tr>\n",
       "            <tr>\n",
       "                        <th id=\"T_5387095e_53c3_11eb_a40f_44032c87eac3level0_row10\" class=\"row_heading level0 row10\" >10</th>\n",
       "                        <td id=\"T_5387095e_53c3_11eb_a40f_44032c87eac3row10_col0\" class=\"data row10 col0\" >High Cardinality Method</td>\n",
       "                        <td id=\"T_5387095e_53c3_11eb_a40f_44032c87eac3row10_col1\" class=\"data row10 col1\" >None</td>\n",
       "            </tr>\n",
       "            <tr>\n",
       "                        <th id=\"T_5387095e_53c3_11eb_a40f_44032c87eac3level0_row11\" class=\"row_heading level0 row11\" >11</th>\n",
       "                        <td id=\"T_5387095e_53c3_11eb_a40f_44032c87eac3row11_col0\" class=\"data row11 col0\" >Transformed Train Set</td>\n",
       "                        <td id=\"T_5387095e_53c3_11eb_a40f_44032c87eac3row11_col1\" class=\"data row11 col1\" >(212, 8)</td>\n",
       "            </tr>\n",
       "            <tr>\n",
       "                        <th id=\"T_5387095e_53c3_11eb_a40f_44032c87eac3level0_row12\" class=\"row_heading level0 row12\" >12</th>\n",
       "                        <td id=\"T_5387095e_53c3_11eb_a40f_44032c87eac3row12_col0\" class=\"data row12 col0\" >Transformed Test Set</td>\n",
       "                        <td id=\"T_5387095e_53c3_11eb_a40f_44032c87eac3row12_col1\" class=\"data row12 col1\" >(91, 8)</td>\n",
       "            </tr>\n",
       "            <tr>\n",
       "                        <th id=\"T_5387095e_53c3_11eb_a40f_44032c87eac3level0_row13\" class=\"row_heading level0 row13\" >13</th>\n",
       "                        <td id=\"T_5387095e_53c3_11eb_a40f_44032c87eac3row13_col0\" class=\"data row13 col0\" >Shuffle Train-Test</td>\n",
       "                        <td id=\"T_5387095e_53c3_11eb_a40f_44032c87eac3row13_col1\" class=\"data row13 col1\" >True</td>\n",
       "            </tr>\n",
       "            <tr>\n",
       "                        <th id=\"T_5387095e_53c3_11eb_a40f_44032c87eac3level0_row14\" class=\"row_heading level0 row14\" >14</th>\n",
       "                        <td id=\"T_5387095e_53c3_11eb_a40f_44032c87eac3row14_col0\" class=\"data row14 col0\" >Stratify Train-Test</td>\n",
       "                        <td id=\"T_5387095e_53c3_11eb_a40f_44032c87eac3row14_col1\" class=\"data row14 col1\" >True</td>\n",
       "            </tr>\n",
       "            <tr>\n",
       "                        <th id=\"T_5387095e_53c3_11eb_a40f_44032c87eac3level0_row15\" class=\"row_heading level0 row15\" >15</th>\n",
       "                        <td id=\"T_5387095e_53c3_11eb_a40f_44032c87eac3row15_col0\" class=\"data row15 col0\" >Fold Generator</td>\n",
       "                        <td id=\"T_5387095e_53c3_11eb_a40f_44032c87eac3row15_col1\" class=\"data row15 col1\" >StratifiedKFold</td>\n",
       "            </tr>\n",
       "            <tr>\n",
       "                        <th id=\"T_5387095e_53c3_11eb_a40f_44032c87eac3level0_row16\" class=\"row_heading level0 row16\" >16</th>\n",
       "                        <td id=\"T_5387095e_53c3_11eb_a40f_44032c87eac3row16_col0\" class=\"data row16 col0\" >Fold Number</td>\n",
       "                        <td id=\"T_5387095e_53c3_11eb_a40f_44032c87eac3row16_col1\" class=\"data row16 col1\" >10</td>\n",
       "            </tr>\n",
       "            <tr>\n",
       "                        <th id=\"T_5387095e_53c3_11eb_a40f_44032c87eac3level0_row17\" class=\"row_heading level0 row17\" >17</th>\n",
       "                        <td id=\"T_5387095e_53c3_11eb_a40f_44032c87eac3row17_col0\" class=\"data row17 col0\" >CPU Jobs</td>\n",
       "                        <td id=\"T_5387095e_53c3_11eb_a40f_44032c87eac3row17_col1\" class=\"data row17 col1\" >-1</td>\n",
       "            </tr>\n",
       "            <tr>\n",
       "                        <th id=\"T_5387095e_53c3_11eb_a40f_44032c87eac3level0_row18\" class=\"row_heading level0 row18\" >18</th>\n",
       "                        <td id=\"T_5387095e_53c3_11eb_a40f_44032c87eac3row18_col0\" class=\"data row18 col0\" >Use GPU</td>\n",
       "                        <td id=\"T_5387095e_53c3_11eb_a40f_44032c87eac3row18_col1\" class=\"data row18 col1\" >False</td>\n",
       "            </tr>\n",
       "            <tr>\n",
       "                        <th id=\"T_5387095e_53c3_11eb_a40f_44032c87eac3level0_row19\" class=\"row_heading level0 row19\" >19</th>\n",
       "                        <td id=\"T_5387095e_53c3_11eb_a40f_44032c87eac3row19_col0\" class=\"data row19 col0\" >Log Experiment</td>\n",
       "                        <td id=\"T_5387095e_53c3_11eb_a40f_44032c87eac3row19_col1\" class=\"data row19 col1\" >False</td>\n",
       "            </tr>\n",
       "            <tr>\n",
       "                        <th id=\"T_5387095e_53c3_11eb_a40f_44032c87eac3level0_row20\" class=\"row_heading level0 row20\" >20</th>\n",
       "                        <td id=\"T_5387095e_53c3_11eb_a40f_44032c87eac3row20_col0\" class=\"data row20 col0\" >Experiment Name</td>\n",
       "                        <td id=\"T_5387095e_53c3_11eb_a40f_44032c87eac3row20_col1\" class=\"data row20 col1\" >clf-default-name</td>\n",
       "            </tr>\n",
       "            <tr>\n",
       "                        <th id=\"T_5387095e_53c3_11eb_a40f_44032c87eac3level0_row21\" class=\"row_heading level0 row21\" >21</th>\n",
       "                        <td id=\"T_5387095e_53c3_11eb_a40f_44032c87eac3row21_col0\" class=\"data row21 col0\" >USI</td>\n",
       "                        <td id=\"T_5387095e_53c3_11eb_a40f_44032c87eac3row21_col1\" class=\"data row21 col1\" >aab7</td>\n",
       "            </tr>\n",
       "            <tr>\n",
       "                        <th id=\"T_5387095e_53c3_11eb_a40f_44032c87eac3level0_row22\" class=\"row_heading level0 row22\" >22</th>\n",
       "                        <td id=\"T_5387095e_53c3_11eb_a40f_44032c87eac3row22_col0\" class=\"data row22 col0\" >Imputation Type</td>\n",
       "                        <td id=\"T_5387095e_53c3_11eb_a40f_44032c87eac3row22_col1\" class=\"data row22 col1\" >simple</td>\n",
       "            </tr>\n",
       "            <tr>\n",
       "                        <th id=\"T_5387095e_53c3_11eb_a40f_44032c87eac3level0_row23\" class=\"row_heading level0 row23\" >23</th>\n",
       "                        <td id=\"T_5387095e_53c3_11eb_a40f_44032c87eac3row23_col0\" class=\"data row23 col0\" >Iterative Imputation Iteration</td>\n",
       "                        <td id=\"T_5387095e_53c3_11eb_a40f_44032c87eac3row23_col1\" class=\"data row23 col1\" >None</td>\n",
       "            </tr>\n",
       "            <tr>\n",
       "                        <th id=\"T_5387095e_53c3_11eb_a40f_44032c87eac3level0_row24\" class=\"row_heading level0 row24\" >24</th>\n",
       "                        <td id=\"T_5387095e_53c3_11eb_a40f_44032c87eac3row24_col0\" class=\"data row24 col0\" >Numeric Imputer</td>\n",
       "                        <td id=\"T_5387095e_53c3_11eb_a40f_44032c87eac3row24_col1\" class=\"data row24 col1\" >mean</td>\n",
       "            </tr>\n",
       "            <tr>\n",
       "                        <th id=\"T_5387095e_53c3_11eb_a40f_44032c87eac3level0_row25\" class=\"row_heading level0 row25\" >25</th>\n",
       "                        <td id=\"T_5387095e_53c3_11eb_a40f_44032c87eac3row25_col0\" class=\"data row25 col0\" >Iterative Imputation Numeric Model</td>\n",
       "                        <td id=\"T_5387095e_53c3_11eb_a40f_44032c87eac3row25_col1\" class=\"data row25 col1\" >None</td>\n",
       "            </tr>\n",
       "            <tr>\n",
       "                        <th id=\"T_5387095e_53c3_11eb_a40f_44032c87eac3level0_row26\" class=\"row_heading level0 row26\" >26</th>\n",
       "                        <td id=\"T_5387095e_53c3_11eb_a40f_44032c87eac3row26_col0\" class=\"data row26 col0\" >Categorical Imputer</td>\n",
       "                        <td id=\"T_5387095e_53c3_11eb_a40f_44032c87eac3row26_col1\" class=\"data row26 col1\" >constant</td>\n",
       "            </tr>\n",
       "            <tr>\n",
       "                        <th id=\"T_5387095e_53c3_11eb_a40f_44032c87eac3level0_row27\" class=\"row_heading level0 row27\" >27</th>\n",
       "                        <td id=\"T_5387095e_53c3_11eb_a40f_44032c87eac3row27_col0\" class=\"data row27 col0\" >Iterative Imputation Categorical Model</td>\n",
       "                        <td id=\"T_5387095e_53c3_11eb_a40f_44032c87eac3row27_col1\" class=\"data row27 col1\" >None</td>\n",
       "            </tr>\n",
       "            <tr>\n",
       "                        <th id=\"T_5387095e_53c3_11eb_a40f_44032c87eac3level0_row28\" class=\"row_heading level0 row28\" >28</th>\n",
       "                        <td id=\"T_5387095e_53c3_11eb_a40f_44032c87eac3row28_col0\" class=\"data row28 col0\" >Unknown Categoricals Handling</td>\n",
       "                        <td id=\"T_5387095e_53c3_11eb_a40f_44032c87eac3row28_col1\" class=\"data row28 col1\" >least_frequent</td>\n",
       "            </tr>\n",
       "            <tr>\n",
       "                        <th id=\"T_5387095e_53c3_11eb_a40f_44032c87eac3level0_row29\" class=\"row_heading level0 row29\" >29</th>\n",
       "                        <td id=\"T_5387095e_53c3_11eb_a40f_44032c87eac3row29_col0\" class=\"data row29 col0\" >Normalize</td>\n",
       "                        <td id=\"T_5387095e_53c3_11eb_a40f_44032c87eac3row29_col1\" class=\"data row29 col1\" >False</td>\n",
       "            </tr>\n",
       "            <tr>\n",
       "                        <th id=\"T_5387095e_53c3_11eb_a40f_44032c87eac3level0_row30\" class=\"row_heading level0 row30\" >30</th>\n",
       "                        <td id=\"T_5387095e_53c3_11eb_a40f_44032c87eac3row30_col0\" class=\"data row30 col0\" >Normalize Method</td>\n",
       "                        <td id=\"T_5387095e_53c3_11eb_a40f_44032c87eac3row30_col1\" class=\"data row30 col1\" >None</td>\n",
       "            </tr>\n",
       "            <tr>\n",
       "                        <th id=\"T_5387095e_53c3_11eb_a40f_44032c87eac3level0_row31\" class=\"row_heading level0 row31\" >31</th>\n",
       "                        <td id=\"T_5387095e_53c3_11eb_a40f_44032c87eac3row31_col0\" class=\"data row31 col0\" >Transformation</td>\n",
       "                        <td id=\"T_5387095e_53c3_11eb_a40f_44032c87eac3row31_col1\" class=\"data row31 col1\" >False</td>\n",
       "            </tr>\n",
       "            <tr>\n",
       "                        <th id=\"T_5387095e_53c3_11eb_a40f_44032c87eac3level0_row32\" class=\"row_heading level0 row32\" >32</th>\n",
       "                        <td id=\"T_5387095e_53c3_11eb_a40f_44032c87eac3row32_col0\" class=\"data row32 col0\" >Transformation Method</td>\n",
       "                        <td id=\"T_5387095e_53c3_11eb_a40f_44032c87eac3row32_col1\" class=\"data row32 col1\" >None</td>\n",
       "            </tr>\n",
       "            <tr>\n",
       "                        <th id=\"T_5387095e_53c3_11eb_a40f_44032c87eac3level0_row33\" class=\"row_heading level0 row33\" >33</th>\n",
       "                        <td id=\"T_5387095e_53c3_11eb_a40f_44032c87eac3row33_col0\" class=\"data row33 col0\" >PCA</td>\n",
       "                        <td id=\"T_5387095e_53c3_11eb_a40f_44032c87eac3row33_col1\" class=\"data row33 col1\" >True</td>\n",
       "            </tr>\n",
       "            <tr>\n",
       "                        <th id=\"T_5387095e_53c3_11eb_a40f_44032c87eac3level0_row34\" class=\"row_heading level0 row34\" >34</th>\n",
       "                        <td id=\"T_5387095e_53c3_11eb_a40f_44032c87eac3row34_col0\" class=\"data row34 col0\" >PCA Method</td>\n",
       "                        <td id=\"T_5387095e_53c3_11eb_a40f_44032c87eac3row34_col1\" class=\"data row34 col1\" >incremental</td>\n",
       "            </tr>\n",
       "            <tr>\n",
       "                        <th id=\"T_5387095e_53c3_11eb_a40f_44032c87eac3level0_row35\" class=\"row_heading level0 row35\" >35</th>\n",
       "                        <td id=\"T_5387095e_53c3_11eb_a40f_44032c87eac3row35_col0\" class=\"data row35 col0\" >PCA Components</td>\n",
       "                        <td id=\"T_5387095e_53c3_11eb_a40f_44032c87eac3row35_col1\" class=\"data row35 col1\" >8</td>\n",
       "            </tr>\n",
       "            <tr>\n",
       "                        <th id=\"T_5387095e_53c3_11eb_a40f_44032c87eac3level0_row36\" class=\"row_heading level0 row36\" >36</th>\n",
       "                        <td id=\"T_5387095e_53c3_11eb_a40f_44032c87eac3row36_col0\" class=\"data row36 col0\" >Ignore Low Variance</td>\n",
       "                        <td id=\"T_5387095e_53c3_11eb_a40f_44032c87eac3row36_col1\" class=\"data row36 col1\" >False</td>\n",
       "            </tr>\n",
       "            <tr>\n",
       "                        <th id=\"T_5387095e_53c3_11eb_a40f_44032c87eac3level0_row37\" class=\"row_heading level0 row37\" >37</th>\n",
       "                        <td id=\"T_5387095e_53c3_11eb_a40f_44032c87eac3row37_col0\" class=\"data row37 col0\" >Combine Rare Levels</td>\n",
       "                        <td id=\"T_5387095e_53c3_11eb_a40f_44032c87eac3row37_col1\" class=\"data row37 col1\" >False</td>\n",
       "            </tr>\n",
       "            <tr>\n",
       "                        <th id=\"T_5387095e_53c3_11eb_a40f_44032c87eac3level0_row38\" class=\"row_heading level0 row38\" >38</th>\n",
       "                        <td id=\"T_5387095e_53c3_11eb_a40f_44032c87eac3row38_col0\" class=\"data row38 col0\" >Rare Level Threshold</td>\n",
       "                        <td id=\"T_5387095e_53c3_11eb_a40f_44032c87eac3row38_col1\" class=\"data row38 col1\" >None</td>\n",
       "            </tr>\n",
       "            <tr>\n",
       "                        <th id=\"T_5387095e_53c3_11eb_a40f_44032c87eac3level0_row39\" class=\"row_heading level0 row39\" >39</th>\n",
       "                        <td id=\"T_5387095e_53c3_11eb_a40f_44032c87eac3row39_col0\" class=\"data row39 col0\" >Numeric Binning</td>\n",
       "                        <td id=\"T_5387095e_53c3_11eb_a40f_44032c87eac3row39_col1\" class=\"data row39 col1\" >False</td>\n",
       "            </tr>\n",
       "            <tr>\n",
       "                        <th id=\"T_5387095e_53c3_11eb_a40f_44032c87eac3level0_row40\" class=\"row_heading level0 row40\" >40</th>\n",
       "                        <td id=\"T_5387095e_53c3_11eb_a40f_44032c87eac3row40_col0\" class=\"data row40 col0\" >Remove Outliers</td>\n",
       "                        <td id=\"T_5387095e_53c3_11eb_a40f_44032c87eac3row40_col1\" class=\"data row40 col1\" >False</td>\n",
       "            </tr>\n",
       "            <tr>\n",
       "                        <th id=\"T_5387095e_53c3_11eb_a40f_44032c87eac3level0_row41\" class=\"row_heading level0 row41\" >41</th>\n",
       "                        <td id=\"T_5387095e_53c3_11eb_a40f_44032c87eac3row41_col0\" class=\"data row41 col0\" >Outliers Threshold</td>\n",
       "                        <td id=\"T_5387095e_53c3_11eb_a40f_44032c87eac3row41_col1\" class=\"data row41 col1\" >None</td>\n",
       "            </tr>\n",
       "            <tr>\n",
       "                        <th id=\"T_5387095e_53c3_11eb_a40f_44032c87eac3level0_row42\" class=\"row_heading level0 row42\" >42</th>\n",
       "                        <td id=\"T_5387095e_53c3_11eb_a40f_44032c87eac3row42_col0\" class=\"data row42 col0\" >Remove Multicollinearity</td>\n",
       "                        <td id=\"T_5387095e_53c3_11eb_a40f_44032c87eac3row42_col1\" class=\"data row42 col1\" >False</td>\n",
       "            </tr>\n",
       "            <tr>\n",
       "                        <th id=\"T_5387095e_53c3_11eb_a40f_44032c87eac3level0_row43\" class=\"row_heading level0 row43\" >43</th>\n",
       "                        <td id=\"T_5387095e_53c3_11eb_a40f_44032c87eac3row43_col0\" class=\"data row43 col0\" >Multicollinearity Threshold</td>\n",
       "                        <td id=\"T_5387095e_53c3_11eb_a40f_44032c87eac3row43_col1\" class=\"data row43 col1\" >None</td>\n",
       "            </tr>\n",
       "            <tr>\n",
       "                        <th id=\"T_5387095e_53c3_11eb_a40f_44032c87eac3level0_row44\" class=\"row_heading level0 row44\" >44</th>\n",
       "                        <td id=\"T_5387095e_53c3_11eb_a40f_44032c87eac3row44_col0\" class=\"data row44 col0\" >Clustering</td>\n",
       "                        <td id=\"T_5387095e_53c3_11eb_a40f_44032c87eac3row44_col1\" class=\"data row44 col1\" >False</td>\n",
       "            </tr>\n",
       "            <tr>\n",
       "                        <th id=\"T_5387095e_53c3_11eb_a40f_44032c87eac3level0_row45\" class=\"row_heading level0 row45\" >45</th>\n",
       "                        <td id=\"T_5387095e_53c3_11eb_a40f_44032c87eac3row45_col0\" class=\"data row45 col0\" >Clustering Iteration</td>\n",
       "                        <td id=\"T_5387095e_53c3_11eb_a40f_44032c87eac3row45_col1\" class=\"data row45 col1\" >None</td>\n",
       "            </tr>\n",
       "            <tr>\n",
       "                        <th id=\"T_5387095e_53c3_11eb_a40f_44032c87eac3level0_row46\" class=\"row_heading level0 row46\" >46</th>\n",
       "                        <td id=\"T_5387095e_53c3_11eb_a40f_44032c87eac3row46_col0\" class=\"data row46 col0\" >Polynomial Features</td>\n",
       "                        <td id=\"T_5387095e_53c3_11eb_a40f_44032c87eac3row46_col1\" class=\"data row46 col1\" >False</td>\n",
       "            </tr>\n",
       "            <tr>\n",
       "                        <th id=\"T_5387095e_53c3_11eb_a40f_44032c87eac3level0_row47\" class=\"row_heading level0 row47\" >47</th>\n",
       "                        <td id=\"T_5387095e_53c3_11eb_a40f_44032c87eac3row47_col0\" class=\"data row47 col0\" >Polynomial Degree</td>\n",
       "                        <td id=\"T_5387095e_53c3_11eb_a40f_44032c87eac3row47_col1\" class=\"data row47 col1\" >None</td>\n",
       "            </tr>\n",
       "            <tr>\n",
       "                        <th id=\"T_5387095e_53c3_11eb_a40f_44032c87eac3level0_row48\" class=\"row_heading level0 row48\" >48</th>\n",
       "                        <td id=\"T_5387095e_53c3_11eb_a40f_44032c87eac3row48_col0\" class=\"data row48 col0\" >Trignometry Features</td>\n",
       "                        <td id=\"T_5387095e_53c3_11eb_a40f_44032c87eac3row48_col1\" class=\"data row48 col1\" >False</td>\n",
       "            </tr>\n",
       "            <tr>\n",
       "                        <th id=\"T_5387095e_53c3_11eb_a40f_44032c87eac3level0_row49\" class=\"row_heading level0 row49\" >49</th>\n",
       "                        <td id=\"T_5387095e_53c3_11eb_a40f_44032c87eac3row49_col0\" class=\"data row49 col0\" >Polynomial Threshold</td>\n",
       "                        <td id=\"T_5387095e_53c3_11eb_a40f_44032c87eac3row49_col1\" class=\"data row49 col1\" >None</td>\n",
       "            </tr>\n",
       "            <tr>\n",
       "                        <th id=\"T_5387095e_53c3_11eb_a40f_44032c87eac3level0_row50\" class=\"row_heading level0 row50\" >50</th>\n",
       "                        <td id=\"T_5387095e_53c3_11eb_a40f_44032c87eac3row50_col0\" class=\"data row50 col0\" >Group Features</td>\n",
       "                        <td id=\"T_5387095e_53c3_11eb_a40f_44032c87eac3row50_col1\" class=\"data row50 col1\" >False</td>\n",
       "            </tr>\n",
       "            <tr>\n",
       "                        <th id=\"T_5387095e_53c3_11eb_a40f_44032c87eac3level0_row51\" class=\"row_heading level0 row51\" >51</th>\n",
       "                        <td id=\"T_5387095e_53c3_11eb_a40f_44032c87eac3row51_col0\" class=\"data row51 col0\" >Feature Selection</td>\n",
       "                        <td id=\"T_5387095e_53c3_11eb_a40f_44032c87eac3row51_col1\" class=\"data row51 col1\" >True</td>\n",
       "            </tr>\n",
       "            <tr>\n",
       "                        <th id=\"T_5387095e_53c3_11eb_a40f_44032c87eac3level0_row52\" class=\"row_heading level0 row52\" >52</th>\n",
       "                        <td id=\"T_5387095e_53c3_11eb_a40f_44032c87eac3row52_col0\" class=\"data row52 col0\" >Features Selection Threshold</td>\n",
       "                        <td id=\"T_5387095e_53c3_11eb_a40f_44032c87eac3row52_col1\" class=\"data row52 col1\" >0.500000</td>\n",
       "            </tr>\n",
       "            <tr>\n",
       "                        <th id=\"T_5387095e_53c3_11eb_a40f_44032c87eac3level0_row53\" class=\"row_heading level0 row53\" >53</th>\n",
       "                        <td id=\"T_5387095e_53c3_11eb_a40f_44032c87eac3row53_col0\" class=\"data row53 col0\" >Feature Interaction</td>\n",
       "                        <td id=\"T_5387095e_53c3_11eb_a40f_44032c87eac3row53_col1\" class=\"data row53 col1\" >False</td>\n",
       "            </tr>\n",
       "            <tr>\n",
       "                        <th id=\"T_5387095e_53c3_11eb_a40f_44032c87eac3level0_row54\" class=\"row_heading level0 row54\" >54</th>\n",
       "                        <td id=\"T_5387095e_53c3_11eb_a40f_44032c87eac3row54_col0\" class=\"data row54 col0\" >Feature Ratio</td>\n",
       "                        <td id=\"T_5387095e_53c3_11eb_a40f_44032c87eac3row54_col1\" class=\"data row54 col1\" >False</td>\n",
       "            </tr>\n",
       "            <tr>\n",
       "                        <th id=\"T_5387095e_53c3_11eb_a40f_44032c87eac3level0_row55\" class=\"row_heading level0 row55\" >55</th>\n",
       "                        <td id=\"T_5387095e_53c3_11eb_a40f_44032c87eac3row55_col0\" class=\"data row55 col0\" >Interaction Threshold</td>\n",
       "                        <td id=\"T_5387095e_53c3_11eb_a40f_44032c87eac3row55_col1\" class=\"data row55 col1\" >None</td>\n",
       "            </tr>\n",
       "            <tr>\n",
       "                        <th id=\"T_5387095e_53c3_11eb_a40f_44032c87eac3level0_row56\" class=\"row_heading level0 row56\" >56</th>\n",
       "                        <td id=\"T_5387095e_53c3_11eb_a40f_44032c87eac3row56_col0\" class=\"data row56 col0\" >Fix Imbalance</td>\n",
       "                        <td id=\"T_5387095e_53c3_11eb_a40f_44032c87eac3row56_col1\" class=\"data row56 col1\" >False</td>\n",
       "            </tr>\n",
       "            <tr>\n",
       "                        <th id=\"T_5387095e_53c3_11eb_a40f_44032c87eac3level0_row57\" class=\"row_heading level0 row57\" >57</th>\n",
       "                        <td id=\"T_5387095e_53c3_11eb_a40f_44032c87eac3row57_col0\" class=\"data row57 col0\" >Fix Imbalance Method</td>\n",
       "                        <td id=\"T_5387095e_53c3_11eb_a40f_44032c87eac3row57_col1\" class=\"data row57 col1\" >SMOTE</td>\n",
       "            </tr>\n",
       "    </tbody></table>"
      ],
      "text/plain": [
       "<pandas.io.formats.style.Styler at 0x7f5a63be4b10>"
      ]
     },
     "metadata": {},
     "output_type": "display_data"
    },
    {
     "name": "stdout",
     "output_type": "stream",
     "text": [
      "Execution time :  0:00:11.787022\n",
      "Job Ended at: 2021-01-11 10:13:15.209116\n"
     ]
    }
   ],
   "source": [
    "init_time = datetime.now()\n",
    "print (f\"Job Started at: {init_time}\")\n",
    "#fold_strategy = 'kfold' Default = 'stratifiedkfold'\n",
    "clf = setup(data = df, target = 'num', session_id=123,\n",
    "            data_split_stratify = True,\n",
    "            #normalize = True, \n",
    "            #normalize_method = 'minmax',\n",
    "            #transformation = True, \n",
    "            #transformation_method = 'quantile',\n",
    "            pca = True,\n",
    "            pca_method = 'incremental',\n",
    "            feature_selection = True,\n",
    "            feature_selection_threshold = 0.5,\n",
    "            feature_selection_method = 'boruta'\n",
    "            #remove_outliers = True,\n",
    "            #outliers_threshold = 0.05,\n",
    "            #fix_imbalance = True\n",
    "           )\n",
    "fin_time = datetime.now()\n",
    "print(\"Execution time : \", (fin_time-init_time))\n",
    "print (f\"Job Ended at: {fin_time}\")"
   ]
  },
  {
   "cell_type": "markdown",
   "metadata": {
    "heading_collapsed": true,
    "hidden": true
   },
   "source": [
    "### Finding optimal model"
   ]
  },
  {
   "cell_type": "code",
   "execution_count": 44,
   "metadata": {
    "hidden": true
   },
   "outputs": [
    {
     "data": {
      "text/html": [
       "<style  type=\"text/css\" >\n",
       "    #T_d82e0a4e_53c4_11eb_a40f_44032c87eac3 th {\n",
       "          text-align: left;\n",
       "    }#T_d82e0a4e_53c4_11eb_a40f_44032c87eac3row0_col0,#T_d82e0a4e_53c4_11eb_a40f_44032c87eac3row1_col0,#T_d82e0a4e_53c4_11eb_a40f_44032c87eac3row1_col1,#T_d82e0a4e_53c4_11eb_a40f_44032c87eac3row1_col2,#T_d82e0a4e_53c4_11eb_a40f_44032c87eac3row1_col3,#T_d82e0a4e_53c4_11eb_a40f_44032c87eac3row1_col4,#T_d82e0a4e_53c4_11eb_a40f_44032c87eac3row1_col5,#T_d82e0a4e_53c4_11eb_a40f_44032c87eac3row1_col6,#T_d82e0a4e_53c4_11eb_a40f_44032c87eac3row1_col7,#T_d82e0a4e_53c4_11eb_a40f_44032c87eac3row2_col0,#T_d82e0a4e_53c4_11eb_a40f_44032c87eac3row2_col1,#T_d82e0a4e_53c4_11eb_a40f_44032c87eac3row2_col2,#T_d82e0a4e_53c4_11eb_a40f_44032c87eac3row2_col3,#T_d82e0a4e_53c4_11eb_a40f_44032c87eac3row2_col5,#T_d82e0a4e_53c4_11eb_a40f_44032c87eac3row2_col6,#T_d82e0a4e_53c4_11eb_a40f_44032c87eac3row2_col7,#T_d82e0a4e_53c4_11eb_a40f_44032c87eac3row3_col0,#T_d82e0a4e_53c4_11eb_a40f_44032c87eac3row3_col1,#T_d82e0a4e_53c4_11eb_a40f_44032c87eac3row3_col2,#T_d82e0a4e_53c4_11eb_a40f_44032c87eac3row3_col3,#T_d82e0a4e_53c4_11eb_a40f_44032c87eac3row3_col4,#T_d82e0a4e_53c4_11eb_a40f_44032c87eac3row3_col5,#T_d82e0a4e_53c4_11eb_a40f_44032c87eac3row3_col6,#T_d82e0a4e_53c4_11eb_a40f_44032c87eac3row3_col7,#T_d82e0a4e_53c4_11eb_a40f_44032c87eac3row4_col0,#T_d82e0a4e_53c4_11eb_a40f_44032c87eac3row4_col1,#T_d82e0a4e_53c4_11eb_a40f_44032c87eac3row4_col2,#T_d82e0a4e_53c4_11eb_a40f_44032c87eac3row4_col3,#T_d82e0a4e_53c4_11eb_a40f_44032c87eac3row4_col4,#T_d82e0a4e_53c4_11eb_a40f_44032c87eac3row4_col5,#T_d82e0a4e_53c4_11eb_a40f_44032c87eac3row4_col6,#T_d82e0a4e_53c4_11eb_a40f_44032c87eac3row4_col7,#T_d82e0a4e_53c4_11eb_a40f_44032c87eac3row5_col0,#T_d82e0a4e_53c4_11eb_a40f_44032c87eac3row5_col1,#T_d82e0a4e_53c4_11eb_a40f_44032c87eac3row5_col2,#T_d82e0a4e_53c4_11eb_a40f_44032c87eac3row5_col3,#T_d82e0a4e_53c4_11eb_a40f_44032c87eac3row5_col4,#T_d82e0a4e_53c4_11eb_a40f_44032c87eac3row5_col5,#T_d82e0a4e_53c4_11eb_a40f_44032c87eac3row5_col6,#T_d82e0a4e_53c4_11eb_a40f_44032c87eac3row5_col7,#T_d82e0a4e_53c4_11eb_a40f_44032c87eac3row6_col0,#T_d82e0a4e_53c4_11eb_a40f_44032c87eac3row6_col1,#T_d82e0a4e_53c4_11eb_a40f_44032c87eac3row6_col2,#T_d82e0a4e_53c4_11eb_a40f_44032c87eac3row6_col3,#T_d82e0a4e_53c4_11eb_a40f_44032c87eac3row6_col4,#T_d82e0a4e_53c4_11eb_a40f_44032c87eac3row6_col5,#T_d82e0a4e_53c4_11eb_a40f_44032c87eac3row6_col6,#T_d82e0a4e_53c4_11eb_a40f_44032c87eac3row6_col7,#T_d82e0a4e_53c4_11eb_a40f_44032c87eac3row7_col0,#T_d82e0a4e_53c4_11eb_a40f_44032c87eac3row7_col1,#T_d82e0a4e_53c4_11eb_a40f_44032c87eac3row7_col2,#T_d82e0a4e_53c4_11eb_a40f_44032c87eac3row7_col3,#T_d82e0a4e_53c4_11eb_a40f_44032c87eac3row7_col4,#T_d82e0a4e_53c4_11eb_a40f_44032c87eac3row7_col5,#T_d82e0a4e_53c4_11eb_a40f_44032c87eac3row7_col6,#T_d82e0a4e_53c4_11eb_a40f_44032c87eac3row7_col7,#T_d82e0a4e_53c4_11eb_a40f_44032c87eac3row8_col0,#T_d82e0a4e_53c4_11eb_a40f_44032c87eac3row8_col1,#T_d82e0a4e_53c4_11eb_a40f_44032c87eac3row8_col2,#T_d82e0a4e_53c4_11eb_a40f_44032c87eac3row8_col3,#T_d82e0a4e_53c4_11eb_a40f_44032c87eac3row8_col4,#T_d82e0a4e_53c4_11eb_a40f_44032c87eac3row8_col5,#T_d82e0a4e_53c4_11eb_a40f_44032c87eac3row8_col6,#T_d82e0a4e_53c4_11eb_a40f_44032c87eac3row8_col7,#T_d82e0a4e_53c4_11eb_a40f_44032c87eac3row9_col0,#T_d82e0a4e_53c4_11eb_a40f_44032c87eac3row9_col1,#T_d82e0a4e_53c4_11eb_a40f_44032c87eac3row9_col2,#T_d82e0a4e_53c4_11eb_a40f_44032c87eac3row9_col3,#T_d82e0a4e_53c4_11eb_a40f_44032c87eac3row9_col4,#T_d82e0a4e_53c4_11eb_a40f_44032c87eac3row9_col5,#T_d82e0a4e_53c4_11eb_a40f_44032c87eac3row9_col6,#T_d82e0a4e_53c4_11eb_a40f_44032c87eac3row9_col7,#T_d82e0a4e_53c4_11eb_a40f_44032c87eac3row10_col0,#T_d82e0a4e_53c4_11eb_a40f_44032c87eac3row10_col1,#T_d82e0a4e_53c4_11eb_a40f_44032c87eac3row10_col2,#T_d82e0a4e_53c4_11eb_a40f_44032c87eac3row10_col3,#T_d82e0a4e_53c4_11eb_a40f_44032c87eac3row10_col4,#T_d82e0a4e_53c4_11eb_a40f_44032c87eac3row10_col5,#T_d82e0a4e_53c4_11eb_a40f_44032c87eac3row10_col6,#T_d82e0a4e_53c4_11eb_a40f_44032c87eac3row10_col7,#T_d82e0a4e_53c4_11eb_a40f_44032c87eac3row11_col0,#T_d82e0a4e_53c4_11eb_a40f_44032c87eac3row11_col1,#T_d82e0a4e_53c4_11eb_a40f_44032c87eac3row11_col2,#T_d82e0a4e_53c4_11eb_a40f_44032c87eac3row11_col3,#T_d82e0a4e_53c4_11eb_a40f_44032c87eac3row11_col4,#T_d82e0a4e_53c4_11eb_a40f_44032c87eac3row11_col5,#T_d82e0a4e_53c4_11eb_a40f_44032c87eac3row11_col6,#T_d82e0a4e_53c4_11eb_a40f_44032c87eac3row11_col7,#T_d82e0a4e_53c4_11eb_a40f_44032c87eac3row12_col0,#T_d82e0a4e_53c4_11eb_a40f_44032c87eac3row12_col1,#T_d82e0a4e_53c4_11eb_a40f_44032c87eac3row12_col2,#T_d82e0a4e_53c4_11eb_a40f_44032c87eac3row12_col3,#T_d82e0a4e_53c4_11eb_a40f_44032c87eac3row12_col4,#T_d82e0a4e_53c4_11eb_a40f_44032c87eac3row12_col5,#T_d82e0a4e_53c4_11eb_a40f_44032c87eac3row12_col6,#T_d82e0a4e_53c4_11eb_a40f_44032c87eac3row12_col7,#T_d82e0a4e_53c4_11eb_a40f_44032c87eac3row13_col0,#T_d82e0a4e_53c4_11eb_a40f_44032c87eac3row13_col1,#T_d82e0a4e_53c4_11eb_a40f_44032c87eac3row13_col2,#T_d82e0a4e_53c4_11eb_a40f_44032c87eac3row13_col3,#T_d82e0a4e_53c4_11eb_a40f_44032c87eac3row13_col4,#T_d82e0a4e_53c4_11eb_a40f_44032c87eac3row13_col5,#T_d82e0a4e_53c4_11eb_a40f_44032c87eac3row13_col6,#T_d82e0a4e_53c4_11eb_a40f_44032c87eac3row13_col7,#T_d82e0a4e_53c4_11eb_a40f_44032c87eac3row14_col0,#T_d82e0a4e_53c4_11eb_a40f_44032c87eac3row14_col1,#T_d82e0a4e_53c4_11eb_a40f_44032c87eac3row14_col2,#T_d82e0a4e_53c4_11eb_a40f_44032c87eac3row14_col3,#T_d82e0a4e_53c4_11eb_a40f_44032c87eac3row14_col4,#T_d82e0a4e_53c4_11eb_a40f_44032c87eac3row14_col5,#T_d82e0a4e_53c4_11eb_a40f_44032c87eac3row14_col6,#T_d82e0a4e_53c4_11eb_a40f_44032c87eac3row14_col7{\n",
       "            text-align:  left;\n",
       "            text-align:  left;\n",
       "        }#T_d82e0a4e_53c4_11eb_a40f_44032c87eac3row0_col1,#T_d82e0a4e_53c4_11eb_a40f_44032c87eac3row0_col2,#T_d82e0a4e_53c4_11eb_a40f_44032c87eac3row0_col3,#T_d82e0a4e_53c4_11eb_a40f_44032c87eac3row0_col4,#T_d82e0a4e_53c4_11eb_a40f_44032c87eac3row0_col5,#T_d82e0a4e_53c4_11eb_a40f_44032c87eac3row0_col6,#T_d82e0a4e_53c4_11eb_a40f_44032c87eac3row0_col7,#T_d82e0a4e_53c4_11eb_a40f_44032c87eac3row2_col4{\n",
       "            text-align:  left;\n",
       "            text-align:  left;\n",
       "            background-color:  yellow;\n",
       "        }#T_d82e0a4e_53c4_11eb_a40f_44032c87eac3row0_col8,#T_d82e0a4e_53c4_11eb_a40f_44032c87eac3row1_col8,#T_d82e0a4e_53c4_11eb_a40f_44032c87eac3row2_col8,#T_d82e0a4e_53c4_11eb_a40f_44032c87eac3row4_col8,#T_d82e0a4e_53c4_11eb_a40f_44032c87eac3row5_col8,#T_d82e0a4e_53c4_11eb_a40f_44032c87eac3row6_col8,#T_d82e0a4e_53c4_11eb_a40f_44032c87eac3row7_col8,#T_d82e0a4e_53c4_11eb_a40f_44032c87eac3row8_col8,#T_d82e0a4e_53c4_11eb_a40f_44032c87eac3row9_col8,#T_d82e0a4e_53c4_11eb_a40f_44032c87eac3row10_col8,#T_d82e0a4e_53c4_11eb_a40f_44032c87eac3row11_col8,#T_d82e0a4e_53c4_11eb_a40f_44032c87eac3row12_col8,#T_d82e0a4e_53c4_11eb_a40f_44032c87eac3row13_col8,#T_d82e0a4e_53c4_11eb_a40f_44032c87eac3row14_col8{\n",
       "            text-align:  left;\n",
       "            text-align:  left;\n",
       "            background-color:  lightgrey;\n",
       "        }#T_d82e0a4e_53c4_11eb_a40f_44032c87eac3row3_col8{\n",
       "            text-align:  left;\n",
       "            text-align:  left;\n",
       "            background-color:  yellow;\n",
       "            background-color:  lightgrey;\n",
       "        }</style><table id=\"T_d82e0a4e_53c4_11eb_a40f_44032c87eac3\" ><thead>    <tr>        <th class=\"blank level0\" ></th>        <th class=\"col_heading level0 col0\" >Model</th>        <th class=\"col_heading level0 col1\" >Accuracy</th>        <th class=\"col_heading level0 col2\" >AUC</th>        <th class=\"col_heading level0 col3\" >Recall</th>        <th class=\"col_heading level0 col4\" >Prec.</th>        <th class=\"col_heading level0 col5\" >F1</th>        <th class=\"col_heading level0 col6\" >Kappa</th>        <th class=\"col_heading level0 col7\" >MCC</th>        <th class=\"col_heading level0 col8\" >TT (Sec)</th>    </tr></thead><tbody>\n",
       "                <tr>\n",
       "                        <th id=\"T_d82e0a4e_53c4_11eb_a40f_44032c87eac3level0_row0\" class=\"row_heading level0 row0\" >lda</th>\n",
       "                        <td id=\"T_d82e0a4e_53c4_11eb_a40f_44032c87eac3row0_col0\" class=\"data row0 col0\" >Linear Discriminant Analysis</td>\n",
       "                        <td id=\"T_d82e0a4e_53c4_11eb_a40f_44032c87eac3row0_col1\" class=\"data row0 col1\" >0.8346</td>\n",
       "                        <td id=\"T_d82e0a4e_53c4_11eb_a40f_44032c87eac3row0_col2\" class=\"data row0 col2\" >0.8852</td>\n",
       "                        <td id=\"T_d82e0a4e_53c4_11eb_a40f_44032c87eac3row0_col3\" class=\"data row0 col3\" >0.7644</td>\n",
       "                        <td id=\"T_d82e0a4e_53c4_11eb_a40f_44032c87eac3row0_col4\" class=\"data row0 col4\" >0.8679</td>\n",
       "                        <td id=\"T_d82e0a4e_53c4_11eb_a40f_44032c87eac3row0_col5\" class=\"data row0 col5\" >0.8081</td>\n",
       "                        <td id=\"T_d82e0a4e_53c4_11eb_a40f_44032c87eac3row0_col6\" class=\"data row0 col6\" >0.6637</td>\n",
       "                        <td id=\"T_d82e0a4e_53c4_11eb_a40f_44032c87eac3row0_col7\" class=\"data row0 col7\" >0.6726</td>\n",
       "                        <td id=\"T_d82e0a4e_53c4_11eb_a40f_44032c87eac3row0_col8\" class=\"data row0 col8\" >0.0130</td>\n",
       "            </tr>\n",
       "            <tr>\n",
       "                        <th id=\"T_d82e0a4e_53c4_11eb_a40f_44032c87eac3level0_row1\" class=\"row_heading level0 row1\" >lr</th>\n",
       "                        <td id=\"T_d82e0a4e_53c4_11eb_a40f_44032c87eac3row1_col0\" class=\"data row1 col0\" >Logistic Regression</td>\n",
       "                        <td id=\"T_d82e0a4e_53c4_11eb_a40f_44032c87eac3row1_col1\" class=\"data row1 col1\" >0.8299</td>\n",
       "                        <td id=\"T_d82e0a4e_53c4_11eb_a40f_44032c87eac3row1_col2\" class=\"data row1 col2\" >0.8822</td>\n",
       "                        <td id=\"T_d82e0a4e_53c4_11eb_a40f_44032c87eac3row1_col3\" class=\"data row1 col3\" >0.7633</td>\n",
       "                        <td id=\"T_d82e0a4e_53c4_11eb_a40f_44032c87eac3row1_col4\" class=\"data row1 col4\" >0.8648</td>\n",
       "                        <td id=\"T_d82e0a4e_53c4_11eb_a40f_44032c87eac3row1_col5\" class=\"data row1 col5\" >0.8041</td>\n",
       "                        <td id=\"T_d82e0a4e_53c4_11eb_a40f_44032c87eac3row1_col6\" class=\"data row1 col6\" >0.6541</td>\n",
       "                        <td id=\"T_d82e0a4e_53c4_11eb_a40f_44032c87eac3row1_col7\" class=\"data row1 col7\" >0.6655</td>\n",
       "                        <td id=\"T_d82e0a4e_53c4_11eb_a40f_44032c87eac3row1_col8\" class=\"data row1 col8\" >0.0210</td>\n",
       "            </tr>\n",
       "            <tr>\n",
       "                        <th id=\"T_d82e0a4e_53c4_11eb_a40f_44032c87eac3level0_row2\" class=\"row_heading level0 row2\" >ridge</th>\n",
       "                        <td id=\"T_d82e0a4e_53c4_11eb_a40f_44032c87eac3row2_col0\" class=\"data row2 col0\" >Ridge Classifier</td>\n",
       "                        <td id=\"T_d82e0a4e_53c4_11eb_a40f_44032c87eac3row2_col1\" class=\"data row2 col1\" >0.8299</td>\n",
       "                        <td id=\"T_d82e0a4e_53c4_11eb_a40f_44032c87eac3row2_col2\" class=\"data row2 col2\" >0.0000</td>\n",
       "                        <td id=\"T_d82e0a4e_53c4_11eb_a40f_44032c87eac3row2_col3\" class=\"data row2 col3\" >0.7533</td>\n",
       "                        <td id=\"T_d82e0a4e_53c4_11eb_a40f_44032c87eac3row2_col4\" class=\"data row2 col4\" >0.8679</td>\n",
       "                        <td id=\"T_d82e0a4e_53c4_11eb_a40f_44032c87eac3row2_col5\" class=\"data row2 col5\" >0.8015</td>\n",
       "                        <td id=\"T_d82e0a4e_53c4_11eb_a40f_44032c87eac3row2_col6\" class=\"data row2 col6\" >0.6536</td>\n",
       "                        <td id=\"T_d82e0a4e_53c4_11eb_a40f_44032c87eac3row2_col7\" class=\"data row2 col7\" >0.6637</td>\n",
       "                        <td id=\"T_d82e0a4e_53c4_11eb_a40f_44032c87eac3row2_col8\" class=\"data row2 col8\" >0.0130</td>\n",
       "            </tr>\n",
       "            <tr>\n",
       "                        <th id=\"T_d82e0a4e_53c4_11eb_a40f_44032c87eac3level0_row3\" class=\"row_heading level0 row3\" >qda</th>\n",
       "                        <td id=\"T_d82e0a4e_53c4_11eb_a40f_44032c87eac3row3_col0\" class=\"data row3 col0\" >Quadratic Discriminant Analysis</td>\n",
       "                        <td id=\"T_d82e0a4e_53c4_11eb_a40f_44032c87eac3row3_col1\" class=\"data row3 col1\" >0.7968</td>\n",
       "                        <td id=\"T_d82e0a4e_53c4_11eb_a40f_44032c87eac3row3_col2\" class=\"data row3 col2\" >0.8556</td>\n",
       "                        <td id=\"T_d82e0a4e_53c4_11eb_a40f_44032c87eac3row3_col3\" class=\"data row3 col3\" >0.7422</td>\n",
       "                        <td id=\"T_d82e0a4e_53c4_11eb_a40f_44032c87eac3row3_col4\" class=\"data row3 col4\" >0.8073</td>\n",
       "                        <td id=\"T_d82e0a4e_53c4_11eb_a40f_44032c87eac3row3_col5\" class=\"data row3 col5\" >0.7674</td>\n",
       "                        <td id=\"T_d82e0a4e_53c4_11eb_a40f_44032c87eac3row3_col6\" class=\"data row3 col6\" >0.5872</td>\n",
       "                        <td id=\"T_d82e0a4e_53c4_11eb_a40f_44032c87eac3row3_col7\" class=\"data row3 col7\" >0.5956</td>\n",
       "                        <td id=\"T_d82e0a4e_53c4_11eb_a40f_44032c87eac3row3_col8\" class=\"data row3 col8\" >0.0110</td>\n",
       "            </tr>\n",
       "            <tr>\n",
       "                        <th id=\"T_d82e0a4e_53c4_11eb_a40f_44032c87eac3level0_row4\" class=\"row_heading level0 row4\" >et</th>\n",
       "                        <td id=\"T_d82e0a4e_53c4_11eb_a40f_44032c87eac3row4_col0\" class=\"data row4 col0\" >Extra Trees Classifier</td>\n",
       "                        <td id=\"T_d82e0a4e_53c4_11eb_a40f_44032c87eac3row4_col1\" class=\"data row4 col1\" >0.7827</td>\n",
       "                        <td id=\"T_d82e0a4e_53c4_11eb_a40f_44032c87eac3row4_col2\" class=\"data row4 col2\" >0.8578</td>\n",
       "                        <td id=\"T_d82e0a4e_53c4_11eb_a40f_44032c87eac3row4_col3\" class=\"data row4 col3\" >0.7411</td>\n",
       "                        <td id=\"T_d82e0a4e_53c4_11eb_a40f_44032c87eac3row4_col4\" class=\"data row4 col4\" >0.7915</td>\n",
       "                        <td id=\"T_d82e0a4e_53c4_11eb_a40f_44032c87eac3row4_col5\" class=\"data row4 col5\" >0.7582</td>\n",
       "                        <td id=\"T_d82e0a4e_53c4_11eb_a40f_44032c87eac3row4_col6\" class=\"data row4 col6\" >0.5600</td>\n",
       "                        <td id=\"T_d82e0a4e_53c4_11eb_a40f_44032c87eac3row4_col7\" class=\"data row4 col7\" >0.5703</td>\n",
       "                        <td id=\"T_d82e0a4e_53c4_11eb_a40f_44032c87eac3row4_col8\" class=\"data row4 col8\" >0.2060</td>\n",
       "            </tr>\n",
       "            <tr>\n",
       "                        <th id=\"T_d82e0a4e_53c4_11eb_a40f_44032c87eac3level0_row5\" class=\"row_heading level0 row5\" >nb</th>\n",
       "                        <td id=\"T_d82e0a4e_53c4_11eb_a40f_44032c87eac3row5_col0\" class=\"data row5 col0\" >Naive Bayes</td>\n",
       "                        <td id=\"T_d82e0a4e_53c4_11eb_a40f_44032c87eac3row5_col1\" class=\"data row5 col1\" >0.7781</td>\n",
       "                        <td id=\"T_d82e0a4e_53c4_11eb_a40f_44032c87eac3row5_col2\" class=\"data row5 col2\" >0.8580</td>\n",
       "                        <td id=\"T_d82e0a4e_53c4_11eb_a40f_44032c87eac3row5_col3\" class=\"data row5 col3\" >0.7622</td>\n",
       "                        <td id=\"T_d82e0a4e_53c4_11eb_a40f_44032c87eac3row5_col4\" class=\"data row5 col4\" >0.7601</td>\n",
       "                        <td id=\"T_d82e0a4e_53c4_11eb_a40f_44032c87eac3row5_col5\" class=\"data row5 col5\" >0.7561</td>\n",
       "                        <td id=\"T_d82e0a4e_53c4_11eb_a40f_44032c87eac3row5_col6\" class=\"data row5 col6\" >0.5516</td>\n",
       "                        <td id=\"T_d82e0a4e_53c4_11eb_a40f_44032c87eac3row5_col7\" class=\"data row5 col7\" >0.5574</td>\n",
       "                        <td id=\"T_d82e0a4e_53c4_11eb_a40f_44032c87eac3row5_col8\" class=\"data row5 col8\" >0.0150</td>\n",
       "            </tr>\n",
       "            <tr>\n",
       "                        <th id=\"T_d82e0a4e_53c4_11eb_a40f_44032c87eac3level0_row6\" class=\"row_heading level0 row6\" >ada</th>\n",
       "                        <td id=\"T_d82e0a4e_53c4_11eb_a40f_44032c87eac3row6_col0\" class=\"data row6 col0\" >Ada Boost Classifier</td>\n",
       "                        <td id=\"T_d82e0a4e_53c4_11eb_a40f_44032c87eac3row6_col1\" class=\"data row6 col1\" >0.7639</td>\n",
       "                        <td id=\"T_d82e0a4e_53c4_11eb_a40f_44032c87eac3row6_col2\" class=\"data row6 col2\" >0.8277</td>\n",
       "                        <td id=\"T_d82e0a4e_53c4_11eb_a40f_44032c87eac3row6_col3\" class=\"data row6 col3\" >0.7533</td>\n",
       "                        <td id=\"T_d82e0a4e_53c4_11eb_a40f_44032c87eac3row6_col4\" class=\"data row6 col4\" >0.7448</td>\n",
       "                        <td id=\"T_d82e0a4e_53c4_11eb_a40f_44032c87eac3row6_col5\" class=\"data row6 col5\" >0.7446</td>\n",
       "                        <td id=\"T_d82e0a4e_53c4_11eb_a40f_44032c87eac3row6_col6\" class=\"data row6 col6\" >0.5241</td>\n",
       "                        <td id=\"T_d82e0a4e_53c4_11eb_a40f_44032c87eac3row6_col7\" class=\"data row6 col7\" >0.5300</td>\n",
       "                        <td id=\"T_d82e0a4e_53c4_11eb_a40f_44032c87eac3row6_col8\" class=\"data row6 col8\" >0.0520</td>\n",
       "            </tr>\n",
       "            <tr>\n",
       "                        <th id=\"T_d82e0a4e_53c4_11eb_a40f_44032c87eac3level0_row7\" class=\"row_heading level0 row7\" >rf</th>\n",
       "                        <td id=\"T_d82e0a4e_53c4_11eb_a40f_44032c87eac3row7_col0\" class=\"data row7 col0\" >Random Forest Classifier</td>\n",
       "                        <td id=\"T_d82e0a4e_53c4_11eb_a40f_44032c87eac3row7_col1\" class=\"data row7 col1\" >0.7636</td>\n",
       "                        <td id=\"T_d82e0a4e_53c4_11eb_a40f_44032c87eac3row7_col2\" class=\"data row7 col2\" >0.8614</td>\n",
       "                        <td id=\"T_d82e0a4e_53c4_11eb_a40f_44032c87eac3row7_col3\" class=\"data row7 col3\" >0.7333</td>\n",
       "                        <td id=\"T_d82e0a4e_53c4_11eb_a40f_44032c87eac3row7_col4\" class=\"data row7 col4\" >0.7583</td>\n",
       "                        <td id=\"T_d82e0a4e_53c4_11eb_a40f_44032c87eac3row7_col5\" class=\"data row7 col5\" >0.7370</td>\n",
       "                        <td id=\"T_d82e0a4e_53c4_11eb_a40f_44032c87eac3row7_col6\" class=\"data row7 col6\" >0.5218</td>\n",
       "                        <td id=\"T_d82e0a4e_53c4_11eb_a40f_44032c87eac3row7_col7\" class=\"data row7 col7\" >0.5309</td>\n",
       "                        <td id=\"T_d82e0a4e_53c4_11eb_a40f_44032c87eac3row7_col8\" class=\"data row7 col8\" >0.2520</td>\n",
       "            </tr>\n",
       "            <tr>\n",
       "                        <th id=\"T_d82e0a4e_53c4_11eb_a40f_44032c87eac3level0_row8\" class=\"row_heading level0 row8\" >catboost</th>\n",
       "                        <td id=\"T_d82e0a4e_53c4_11eb_a40f_44032c87eac3row8_col0\" class=\"data row8 col0\" >CatBoost Classifier</td>\n",
       "                        <td id=\"T_d82e0a4e_53c4_11eb_a40f_44032c87eac3row8_col1\" class=\"data row8 col1\" >0.7593</td>\n",
       "                        <td id=\"T_d82e0a4e_53c4_11eb_a40f_44032c87eac3row8_col2\" class=\"data row8 col2\" >0.8552</td>\n",
       "                        <td id=\"T_d82e0a4e_53c4_11eb_a40f_44032c87eac3row8_col3\" class=\"data row8 col3\" >0.6933</td>\n",
       "                        <td id=\"T_d82e0a4e_53c4_11eb_a40f_44032c87eac3row8_col4\" class=\"data row8 col4\" >0.7825</td>\n",
       "                        <td id=\"T_d82e0a4e_53c4_11eb_a40f_44032c87eac3row8_col5\" class=\"data row8 col5\" >0.7264</td>\n",
       "                        <td id=\"T_d82e0a4e_53c4_11eb_a40f_44032c87eac3row8_col6\" class=\"data row8 col6\" >0.5126</td>\n",
       "                        <td id=\"T_d82e0a4e_53c4_11eb_a40f_44032c87eac3row8_col7\" class=\"data row8 col7\" >0.5237</td>\n",
       "                        <td id=\"T_d82e0a4e_53c4_11eb_a40f_44032c87eac3row8_col8\" class=\"data row8 col8\" >1.7200</td>\n",
       "            </tr>\n",
       "            <tr>\n",
       "                        <th id=\"T_d82e0a4e_53c4_11eb_a40f_44032c87eac3level0_row9\" class=\"row_heading level0 row9\" >lightgbm</th>\n",
       "                        <td id=\"T_d82e0a4e_53c4_11eb_a40f_44032c87eac3row9_col0\" class=\"data row9 col0\" >Light Gradient Boosting Machine</td>\n",
       "                        <td id=\"T_d82e0a4e_53c4_11eb_a40f_44032c87eac3row9_col1\" class=\"data row9 col1\" >0.7498</td>\n",
       "                        <td id=\"T_d82e0a4e_53c4_11eb_a40f_44032c87eac3row9_col2\" class=\"data row9 col2\" >0.8443</td>\n",
       "                        <td id=\"T_d82e0a4e_53c4_11eb_a40f_44032c87eac3row9_col3\" class=\"data row9 col3\" >0.7033</td>\n",
       "                        <td id=\"T_d82e0a4e_53c4_11eb_a40f_44032c87eac3row9_col4\" class=\"data row9 col4\" >0.7590</td>\n",
       "                        <td id=\"T_d82e0a4e_53c4_11eb_a40f_44032c87eac3row9_col5\" class=\"data row9 col5\" >0.7200</td>\n",
       "                        <td id=\"T_d82e0a4e_53c4_11eb_a40f_44032c87eac3row9_col6\" class=\"data row9 col6\" >0.4936</td>\n",
       "                        <td id=\"T_d82e0a4e_53c4_11eb_a40f_44032c87eac3row9_col7\" class=\"data row9 col7\" >0.5044</td>\n",
       "                        <td id=\"T_d82e0a4e_53c4_11eb_a40f_44032c87eac3row9_col8\" class=\"data row9 col8\" >0.0200</td>\n",
       "            </tr>\n",
       "            <tr>\n",
       "                        <th id=\"T_d82e0a4e_53c4_11eb_a40f_44032c87eac3level0_row10\" class=\"row_heading level0 row10\" >xgboost</th>\n",
       "                        <td id=\"T_d82e0a4e_53c4_11eb_a40f_44032c87eac3row10_col0\" class=\"data row10 col0\" >Extreme Gradient Boosting</td>\n",
       "                        <td id=\"T_d82e0a4e_53c4_11eb_a40f_44032c87eac3row10_col1\" class=\"data row10 col1\" >0.7357</td>\n",
       "                        <td id=\"T_d82e0a4e_53c4_11eb_a40f_44032c87eac3row10_col2\" class=\"data row10 col2\" >0.8205</td>\n",
       "                        <td id=\"T_d82e0a4e_53c4_11eb_a40f_44032c87eac3row10_col3\" class=\"data row10 col3\" >0.7022</td>\n",
       "                        <td id=\"T_d82e0a4e_53c4_11eb_a40f_44032c87eac3row10_col4\" class=\"data row10 col4\" >0.7324</td>\n",
       "                        <td id=\"T_d82e0a4e_53c4_11eb_a40f_44032c87eac3row10_col5\" class=\"data row10 col5\" >0.7116</td>\n",
       "                        <td id=\"T_d82e0a4e_53c4_11eb_a40f_44032c87eac3row10_col6\" class=\"data row10 col6\" >0.4667</td>\n",
       "                        <td id=\"T_d82e0a4e_53c4_11eb_a40f_44032c87eac3row10_col7\" class=\"data row10 col7\" >0.4727</td>\n",
       "                        <td id=\"T_d82e0a4e_53c4_11eb_a40f_44032c87eac3row10_col8\" class=\"data row10 col8\" >30.8780</td>\n",
       "            </tr>\n",
       "            <tr>\n",
       "                        <th id=\"T_d82e0a4e_53c4_11eb_a40f_44032c87eac3level0_row11\" class=\"row_heading level0 row11\" >gbc</th>\n",
       "                        <td id=\"T_d82e0a4e_53c4_11eb_a40f_44032c87eac3row11_col0\" class=\"data row11 col0\" >Gradient Boosting Classifier</td>\n",
       "                        <td id=\"T_d82e0a4e_53c4_11eb_a40f_44032c87eac3row11_col1\" class=\"data row11 col1\" >0.7312</td>\n",
       "                        <td id=\"T_d82e0a4e_53c4_11eb_a40f_44032c87eac3row11_col2\" class=\"data row11 col2\" >0.8270</td>\n",
       "                        <td id=\"T_d82e0a4e_53c4_11eb_a40f_44032c87eac3row11_col3\" class=\"data row11 col3\" >0.6578</td>\n",
       "                        <td id=\"T_d82e0a4e_53c4_11eb_a40f_44032c87eac3row11_col4\" class=\"data row11 col4\" >0.7625</td>\n",
       "                        <td id=\"T_d82e0a4e_53c4_11eb_a40f_44032c87eac3row11_col5\" class=\"data row11 col5\" >0.6930</td>\n",
       "                        <td id=\"T_d82e0a4e_53c4_11eb_a40f_44032c87eac3row11_col6\" class=\"data row11 col6\" >0.4529</td>\n",
       "                        <td id=\"T_d82e0a4e_53c4_11eb_a40f_44032c87eac3row11_col7\" class=\"data row11 col7\" >0.4680</td>\n",
       "                        <td id=\"T_d82e0a4e_53c4_11eb_a40f_44032c87eac3row11_col8\" class=\"data row11 col8\" >0.0470</td>\n",
       "            </tr>\n",
       "            <tr>\n",
       "                        <th id=\"T_d82e0a4e_53c4_11eb_a40f_44032c87eac3level0_row12\" class=\"row_heading level0 row12\" >svm</th>\n",
       "                        <td id=\"T_d82e0a4e_53c4_11eb_a40f_44032c87eac3row12_col0\" class=\"data row12 col0\" >SVM - Linear Kernel</td>\n",
       "                        <td id=\"T_d82e0a4e_53c4_11eb_a40f_44032c87eac3row12_col1\" class=\"data row12 col1\" >0.6548</td>\n",
       "                        <td id=\"T_d82e0a4e_53c4_11eb_a40f_44032c87eac3row12_col2\" class=\"data row12 col2\" >0.0000</td>\n",
       "                        <td id=\"T_d82e0a4e_53c4_11eb_a40f_44032c87eac3row12_col3\" class=\"data row12 col3\" >0.5878</td>\n",
       "                        <td id=\"T_d82e0a4e_53c4_11eb_a40f_44032c87eac3row12_col4\" class=\"data row12 col4\" >0.6389</td>\n",
       "                        <td id=\"T_d82e0a4e_53c4_11eb_a40f_44032c87eac3row12_col5\" class=\"data row12 col5\" >0.6098</td>\n",
       "                        <td id=\"T_d82e0a4e_53c4_11eb_a40f_44032c87eac3row12_col6\" class=\"data row12 col6\" >0.3010</td>\n",
       "                        <td id=\"T_d82e0a4e_53c4_11eb_a40f_44032c87eac3row12_col7\" class=\"data row12 col7\" >0.3041</td>\n",
       "                        <td id=\"T_d82e0a4e_53c4_11eb_a40f_44032c87eac3row12_col8\" class=\"data row12 col8\" >0.0130</td>\n",
       "            </tr>\n",
       "            <tr>\n",
       "                        <th id=\"T_d82e0a4e_53c4_11eb_a40f_44032c87eac3level0_row13\" class=\"row_heading level0 row13\" >dt</th>\n",
       "                        <td id=\"T_d82e0a4e_53c4_11eb_a40f_44032c87eac3row13_col0\" class=\"data row13 col0\" >Decision Tree Classifier</td>\n",
       "                        <td id=\"T_d82e0a4e_53c4_11eb_a40f_44032c87eac3row13_col1\" class=\"data row13 col1\" >0.6366</td>\n",
       "                        <td id=\"T_d82e0a4e_53c4_11eb_a40f_44032c87eac3row13_col2\" class=\"data row13 col2\" >0.6323</td>\n",
       "                        <td id=\"T_d82e0a4e_53c4_11eb_a40f_44032c87eac3row13_col3\" class=\"data row13 col3\" >0.6056</td>\n",
       "                        <td id=\"T_d82e0a4e_53c4_11eb_a40f_44032c87eac3row13_col4\" class=\"data row13 col4\" >0.6149</td>\n",
       "                        <td id=\"T_d82e0a4e_53c4_11eb_a40f_44032c87eac3row13_col5\" class=\"data row13 col5\" >0.6002</td>\n",
       "                        <td id=\"T_d82e0a4e_53c4_11eb_a40f_44032c87eac3row13_col6\" class=\"data row13 col6\" >0.2655</td>\n",
       "                        <td id=\"T_d82e0a4e_53c4_11eb_a40f_44032c87eac3row13_col7\" class=\"data row13 col7\" >0.2745</td>\n",
       "                        <td id=\"T_d82e0a4e_53c4_11eb_a40f_44032c87eac3row13_col8\" class=\"data row13 col8\" >0.0120</td>\n",
       "            </tr>\n",
       "            <tr>\n",
       "                        <th id=\"T_d82e0a4e_53c4_11eb_a40f_44032c87eac3level0_row14\" class=\"row_heading level0 row14\" >knn</th>\n",
       "                        <td id=\"T_d82e0a4e_53c4_11eb_a40f_44032c87eac3row14_col0\" class=\"data row14 col0\" >K Neighbors Classifier</td>\n",
       "                        <td id=\"T_d82e0a4e_53c4_11eb_a40f_44032c87eac3row14_col1\" class=\"data row14 col1\" >0.6364</td>\n",
       "                        <td id=\"T_d82e0a4e_53c4_11eb_a40f_44032c87eac3row14_col2\" class=\"data row14 col2\" >0.6650</td>\n",
       "                        <td id=\"T_d82e0a4e_53c4_11eb_a40f_44032c87eac3row14_col3\" class=\"data row14 col3\" >0.5422</td>\n",
       "                        <td id=\"T_d82e0a4e_53c4_11eb_a40f_44032c87eac3row14_col4\" class=\"data row14 col4\" >0.6070</td>\n",
       "                        <td id=\"T_d82e0a4e_53c4_11eb_a40f_44032c87eac3row14_col5\" class=\"data row14 col5\" >0.5629</td>\n",
       "                        <td id=\"T_d82e0a4e_53c4_11eb_a40f_44032c87eac3row14_col6\" class=\"data row14 col6\" >0.2557</td>\n",
       "                        <td id=\"T_d82e0a4e_53c4_11eb_a40f_44032c87eac3row14_col7\" class=\"data row14 col7\" >0.2598</td>\n",
       "                        <td id=\"T_d82e0a4e_53c4_11eb_a40f_44032c87eac3row14_col8\" class=\"data row14 col8\" >0.0480</td>\n",
       "            </tr>\n",
       "    </tbody></table>"
      ],
      "text/plain": [
       "<pandas.io.formats.style.Styler at 0x7f5a686f2cd0>"
      ]
     },
     "metadata": {},
     "output_type": "display_data"
    },
    {
     "name": "stdout",
     "output_type": "stream",
     "text": [
      "Execution time :  0:09:44.442315\n",
      "Job Ended at: 2021-01-11 10:24:07.066914\n"
     ]
    }
   ],
   "source": [
    "init_time = datetime.now()\n",
    "print (f\"Job Started at: {init_time}\")\n",
    "top3_models = compare_models(n_select = 3)\n",
    "best = compare_models()\n",
    "fin_time = datetime.now()\n",
    "print(\"Execution time : \", (fin_time-init_time))\n",
    "print (f\"Job Ended at: {fin_time}\")"
   ]
  },
  {
   "cell_type": "code",
   "execution_count": 45,
   "metadata": {
    "hidden": true
   },
   "outputs": [
    {
     "name": "stdout",
     "output_type": "stream",
     "text": [
      "Job Started at: 2021-01-11 10:33:15.428354\n",
      "Execution time :  0:00:08.547608\n",
      "Job Ended at: 2021-01-11 10:33:23.975962\n"
     ]
    }
   ],
   "source": [
    "init_time = datetime.now()\n",
    "print (f\"Job Started at: {init_time}\")\n",
    "best_model = finalize_model(best)\n",
    "fin_time = datetime.now()\n",
    "print(\"Execution time : \", (fin_time-init_time))\n",
    "print (f\"Job Ended at: {fin_time}\")"
   ]
  },
  {
   "cell_type": "code",
   "execution_count": 46,
   "metadata": {
    "hidden": true
   },
   "outputs": [
    {
     "name": "stdout",
     "output_type": "stream",
     "text": [
      "LinearDiscriminantAnalysis(n_components=None, priors=None, shrinkage=None,\n",
      "                           solver='svd', store_covariance=False, tol=0.0001)\n"
     ]
    }
   ],
   "source": [
    "print (best_model)"
   ]
  },
  {
   "cell_type": "code",
   "execution_count": null,
   "metadata": {
    "hidden": true
   },
   "outputs": [],
   "source": []
  }
 ],
 "metadata": {
  "kernelspec": {
   "display_name": "PyCaret_Env",
   "language": "python",
   "name": "py_caret_env"
  },
  "language_info": {
   "codemirror_mode": {
    "name": "ipython",
    "version": 3
   },
   "file_extension": ".py",
   "mimetype": "text/x-python",
   "name": "python",
   "nbconvert_exporter": "python",
   "pygments_lexer": "ipython3",
   "version": "3.7.9"
  }
 },
 "nbformat": 4,
 "nbformat_minor": 4
}
