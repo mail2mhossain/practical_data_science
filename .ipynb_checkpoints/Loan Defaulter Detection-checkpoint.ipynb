{
 "cells": [
  {
   "cell_type": "code",
   "execution_count": 1,
   "metadata": {
    "tags": []
   },
   "outputs": [
    {
     "name": "stdout",
     "output_type": "stream",
     "text": [
      "WARN: OMP_NUM_THREADS=None =>\n",
      "... If you are using openblas if you are using openblas set OMP_NUM_THREADS=1 or risk subprocess calls hanging indefinitely\n"
     ]
    }
   ],
   "source": [
    "from datetime import datetime\n",
    "import numpy as np\n",
    "import pandas as pd\n",
    "from sklearn.model_selection import train_test_split\n",
    "from sklearn.preprocessing import LabelEncoder\n",
    "from hpsklearn import HyperoptEstimator, pca, min_max_scaler, standard_scaler\n",
    "from hpsklearn import xgboost_classification, random_forest, ada_boost, gradient_boosting, extra_trees\n",
    "from hpsklearn import svc, svc_linear, svc_rbf, svc_poly, svc_sigmoid, liblinear_svc\n",
    "from hpsklearn import any_classifier\n",
    "from hpsklearn import any_preprocessing\n",
    "from hyperopt import tpe, hp\n",
    "from sklearn.preprocessing import MinMaxScaler\n",
    "from xgboost import XGBClassifier\n",
    "from sklearn.model_selection import cross_val_score\n",
    "from sklearn.model_selection import RepeatedStratifiedKFold\n",
    "from sklearn.pipeline import Pipeline\n",
    "from sklearn.metrics import f1_score, recall_score, classification_report,confusion_matrix,plot_confusion_matrix\n",
    "from sklearn.ensemble import ExtraTreesClassifier, RandomForestClassifier\n",
    "from sklearn.pipeline import Pipeline\n",
    "from sklearn.preprocessing import StandardScaler, PowerTransformer, MinMaxScaler"
   ]
  },
  {
   "cell_type": "code",
   "execution_count": 2,
   "metadata": {},
   "outputs": [],
   "source": [
    "df = pd.read_csv('Data/classification_testData_shape(395219,82).csv')"
   ]
  },
  {
   "cell_type": "code",
   "execution_count": 3,
   "metadata": {},
   "outputs": [
    {
     "data": {
      "text/html": [
       "<div>\n",
       "<style scoped>\n",
       "    .dataframe tbody tr th:only-of-type {\n",
       "        vertical-align: middle;\n",
       "    }\n",
       "\n",
       "    .dataframe tbody tr th {\n",
       "        vertical-align: top;\n",
       "    }\n",
       "\n",
       "    .dataframe thead th {\n",
       "        text-align: right;\n",
       "    }\n",
       "</style>\n",
       "<table border=\"1\" class=\"dataframe\">\n",
       "  <thead>\n",
       "    <tr style=\"text-align: right;\">\n",
       "      <th></th>\n",
       "      <th>Unnamed: 0</th>\n",
       "      <th>loan_amnt</th>\n",
       "      <th>term</th>\n",
       "      <th>int_rate</th>\n",
       "      <th>installment</th>\n",
       "      <th>annual_inc</th>\n",
       "      <th>loan_status</th>\n",
       "      <th>dti</th>\n",
       "      <th>open_acc</th>\n",
       "      <th>pub_rec</th>\n",
       "      <th>...</th>\n",
       "      <th>cr_year</th>\n",
       "      <th>05113</th>\n",
       "      <th>11650</th>\n",
       "      <th>22690</th>\n",
       "      <th>29597</th>\n",
       "      <th>30723</th>\n",
       "      <th>48052</th>\n",
       "      <th>70466</th>\n",
       "      <th>86630</th>\n",
       "      <th>93700</th>\n",
       "    </tr>\n",
       "  </thead>\n",
       "  <tbody>\n",
       "    <tr>\n",
       "      <th>0</th>\n",
       "      <td>0</td>\n",
       "      <td>10000.0</td>\n",
       "      <td>0</td>\n",
       "      <td>11.44</td>\n",
       "      <td>329.48</td>\n",
       "      <td>117000.0</td>\n",
       "      <td>0</td>\n",
       "      <td>26.24</td>\n",
       "      <td>16.0</td>\n",
       "      <td>0.0</td>\n",
       "      <td>...</td>\n",
       "      <td>1990</td>\n",
       "      <td>0</td>\n",
       "      <td>0</td>\n",
       "      <td>1</td>\n",
       "      <td>0</td>\n",
       "      <td>0</td>\n",
       "      <td>0</td>\n",
       "      <td>0</td>\n",
       "      <td>0</td>\n",
       "      <td>0</td>\n",
       "    </tr>\n",
       "    <tr>\n",
       "      <th>1</th>\n",
       "      <td>1</td>\n",
       "      <td>8000.0</td>\n",
       "      <td>0</td>\n",
       "      <td>11.99</td>\n",
       "      <td>265.68</td>\n",
       "      <td>65000.0</td>\n",
       "      <td>0</td>\n",
       "      <td>22.05</td>\n",
       "      <td>17.0</td>\n",
       "      <td>0.0</td>\n",
       "      <td>...</td>\n",
       "      <td>2004</td>\n",
       "      <td>1</td>\n",
       "      <td>0</td>\n",
       "      <td>0</td>\n",
       "      <td>0</td>\n",
       "      <td>0</td>\n",
       "      <td>0</td>\n",
       "      <td>0</td>\n",
       "      <td>0</td>\n",
       "      <td>0</td>\n",
       "    </tr>\n",
       "    <tr>\n",
       "      <th>2</th>\n",
       "      <td>2</td>\n",
       "      <td>15600.0</td>\n",
       "      <td>0</td>\n",
       "      <td>10.49</td>\n",
       "      <td>506.97</td>\n",
       "      <td>43057.0</td>\n",
       "      <td>0</td>\n",
       "      <td>12.79</td>\n",
       "      <td>13.0</td>\n",
       "      <td>0.0</td>\n",
       "      <td>...</td>\n",
       "      <td>2007</td>\n",
       "      <td>1</td>\n",
       "      <td>0</td>\n",
       "      <td>0</td>\n",
       "      <td>0</td>\n",
       "      <td>0</td>\n",
       "      <td>0</td>\n",
       "      <td>0</td>\n",
       "      <td>0</td>\n",
       "      <td>0</td>\n",
       "    </tr>\n",
       "    <tr>\n",
       "      <th>3</th>\n",
       "      <td>3</td>\n",
       "      <td>7200.0</td>\n",
       "      <td>0</td>\n",
       "      <td>6.49</td>\n",
       "      <td>220.65</td>\n",
       "      <td>54000.0</td>\n",
       "      <td>0</td>\n",
       "      <td>2.60</td>\n",
       "      <td>6.0</td>\n",
       "      <td>0.0</td>\n",
       "      <td>...</td>\n",
       "      <td>2006</td>\n",
       "      <td>0</td>\n",
       "      <td>0</td>\n",
       "      <td>0</td>\n",
       "      <td>0</td>\n",
       "      <td>0</td>\n",
       "      <td>0</td>\n",
       "      <td>0</td>\n",
       "      <td>0</td>\n",
       "      <td>0</td>\n",
       "    </tr>\n",
       "    <tr>\n",
       "      <th>4</th>\n",
       "      <td>4</td>\n",
       "      <td>24375.0</td>\n",
       "      <td>1</td>\n",
       "      <td>17.27</td>\n",
       "      <td>609.33</td>\n",
       "      <td>55000.0</td>\n",
       "      <td>1</td>\n",
       "      <td>33.95</td>\n",
       "      <td>13.0</td>\n",
       "      <td>0.0</td>\n",
       "      <td>...</td>\n",
       "      <td>1999</td>\n",
       "      <td>0</td>\n",
       "      <td>1</td>\n",
       "      <td>0</td>\n",
       "      <td>0</td>\n",
       "      <td>0</td>\n",
       "      <td>0</td>\n",
       "      <td>0</td>\n",
       "      <td>0</td>\n",
       "      <td>0</td>\n",
       "    </tr>\n",
       "  </tbody>\n",
       "</table>\n",
       "<p>5 rows × 83 columns</p>\n",
       "</div>"
      ],
      "text/plain": [
       "   Unnamed: 0  loan_amnt  term  int_rate  installment  annual_inc  \\\n",
       "0           0    10000.0     0     11.44       329.48    117000.0   \n",
       "1           1     8000.0     0     11.99       265.68     65000.0   \n",
       "2           2    15600.0     0     10.49       506.97     43057.0   \n",
       "3           3     7200.0     0      6.49       220.65     54000.0   \n",
       "4           4    24375.0     1     17.27       609.33     55000.0   \n",
       "\n",
       "   loan_status    dti  open_acc  pub_rec  ...  cr_year  05113  11650  22690  \\\n",
       "0            0  26.24      16.0      0.0  ...     1990      0      0      1   \n",
       "1            0  22.05      17.0      0.0  ...     2004      1      0      0   \n",
       "2            0  12.79      13.0      0.0  ...     2007      1      0      0   \n",
       "3            0   2.60       6.0      0.0  ...     2006      0      0      0   \n",
       "4            1  33.95      13.0      0.0  ...     1999      0      1      0   \n",
       "\n",
       "   29597  30723  48052  70466  86630  93700  \n",
       "0      0      0      0      0      0      0  \n",
       "1      0      0      0      0      0      0  \n",
       "2      0      0      0      0      0      0  \n",
       "3      0      0      0      0      0      0  \n",
       "4      0      0      0      0      0      0  \n",
       "\n",
       "[5 rows x 83 columns]"
      ]
     },
     "execution_count": 3,
     "metadata": {},
     "output_type": "execute_result"
    }
   ],
   "source": [
    "df.head()"
   ]
  },
  {
   "cell_type": "code",
   "execution_count": 4,
   "metadata": {
    "tags": []
   },
   "outputs": [
    {
     "name": "stdout",
     "output_type": "stream",
     "text": [
      "<class 'pandas.core.frame.DataFrame'>\n",
      "RangeIndex: 395219 entries, 0 to 395218\n",
      "Data columns (total 83 columns):\n",
      " #   Column                               Non-Null Count   Dtype  \n",
      "---  ------                               --------------   -----  \n",
      " 0   Unnamed: 0                           395219 non-null  int64  \n",
      " 1   loan_amnt                            395219 non-null  float64\n",
      " 2   term                                 395219 non-null  int64  \n",
      " 3   int_rate                             395219 non-null  float64\n",
      " 4   installment                          395219 non-null  float64\n",
      " 5   annual_inc                           395219 non-null  float64\n",
      " 6   loan_status                          395219 non-null  int64  \n",
      " 7   dti                                  395219 non-null  float64\n",
      " 8   open_acc                             395219 non-null  float64\n",
      " 9   pub_rec                              395219 non-null  float64\n",
      " 10  revol_bal                            395219 non-null  float64\n",
      " 11  revol_util                           395219 non-null  float64\n",
      " 12  total_acc                            395219 non-null  float64\n",
      " 13  mort_acc                             395219 non-null  float64\n",
      " 14  pub_rec_bankruptcies                 395219 non-null  int64  \n",
      " 15  A2                                   395219 non-null  int64  \n",
      " 16  A3                                   395219 non-null  int64  \n",
      " 17  A4                                   395219 non-null  int64  \n",
      " 18  A5                                   395219 non-null  int64  \n",
      " 19  B1                                   395219 non-null  int64  \n",
      " 20  B2                                   395219 non-null  int64  \n",
      " 21  B3                                   395219 non-null  int64  \n",
      " 22  B4                                   395219 non-null  int64  \n",
      " 23  B5                                   395219 non-null  int64  \n",
      " 24  C1                                   395219 non-null  int64  \n",
      " 25  C2                                   395219 non-null  int64  \n",
      " 26  C3                                   395219 non-null  int64  \n",
      " 27  C4                                   395219 non-null  int64  \n",
      " 28  C5                                   395219 non-null  int64  \n",
      " 29  D1                                   395219 non-null  int64  \n",
      " 30  D2                                   395219 non-null  int64  \n",
      " 31  D3                                   395219 non-null  int64  \n",
      " 32  D4                                   395219 non-null  int64  \n",
      " 33  D5                                   395219 non-null  int64  \n",
      " 34  E1                                   395219 non-null  int64  \n",
      " 35  E2                                   395219 non-null  int64  \n",
      " 36  E3                                   395219 non-null  int64  \n",
      " 37  E4                                   395219 non-null  int64  \n",
      " 38  E5                                   395219 non-null  int64  \n",
      " 39  F1                                   395219 non-null  int64  \n",
      " 40  F2                                   395219 non-null  int64  \n",
      " 41  F3                                   395219 non-null  int64  \n",
      " 42  F4                                   395219 non-null  int64  \n",
      " 43  F5                                   395219 non-null  int64  \n",
      " 44  G1                                   395219 non-null  int64  \n",
      " 45  G2                                   395219 non-null  int64  \n",
      " 46  G3                                   395219 non-null  int64  \n",
      " 47  G4                                   395219 non-null  int64  \n",
      " 48  G5                                   395219 non-null  int64  \n",
      " 49  OTHER                                395219 non-null  int64  \n",
      " 50  OWN                                  395219 non-null  int64  \n",
      " 51  RENT                                 395219 non-null  int64  \n",
      " 52  verification_status_Source Verified  395219 non-null  int64  \n",
      " 53  verification_status_Verified         395219 non-null  int64  \n",
      " 54  application_type_INDIVIDUAL          395219 non-null  int64  \n",
      " 55  application_type_JOINT               395219 non-null  int64  \n",
      " 56  initial_list_status_w                395219 non-null  int64  \n",
      " 57  purpose_credit_card                  395219 non-null  int64  \n",
      " 58  purpose_debt_consolidation           395219 non-null  int64  \n",
      " 59  purpose_educational                  395219 non-null  int64  \n",
      " 60  purpose_home_improvement             395219 non-null  int64  \n",
      " 61  purpose_house                        395219 non-null  int64  \n",
      " 62  purpose_major_purchase               395219 non-null  int64  \n",
      " 63  purpose_medical                      395219 non-null  int64  \n",
      " 64  purpose_moving                       395219 non-null  int64  \n",
      " 65  purpose_other                        395219 non-null  int64  \n",
      " 66  purpose_renewable_energy             395219 non-null  int64  \n",
      " 67  purpose_small_business               395219 non-null  int64  \n",
      " 68  purpose_vacation                     395219 non-null  int64  \n",
      " 69  purpose_wedding                      395219 non-null  int64  \n",
      " 70  issue_month                          395219 non-null  int64  \n",
      " 71  issue_year                           395219 non-null  int64  \n",
      " 72  cr_month                             395219 non-null  int64  \n",
      " 73  cr_year                              395219 non-null  int64  \n",
      " 74  05113                                395219 non-null  int64  \n",
      " 75  11650                                395219 non-null  int64  \n",
      " 76  22690                                395219 non-null  int64  \n",
      " 77  29597                                395219 non-null  int64  \n",
      " 78  30723                                395219 non-null  int64  \n",
      " 79  48052                                395219 non-null  int64  \n",
      " 80  70466                                395219 non-null  int64  \n",
      " 81  86630                                395219 non-null  int64  \n",
      " 82  93700                                395219 non-null  int64  \n",
      "dtypes: float64(11), int64(72)\n",
      "memory usage: 250.3 MB\n"
     ]
    }
   ],
   "source": [
    "df.info()"
   ]
  },
  {
   "cell_type": "code",
   "execution_count": 5,
   "metadata": {},
   "outputs": [
    {
     "data": {
      "text/plain": [
       "(395219, 83)"
      ]
     },
     "execution_count": 5,
     "metadata": {},
     "output_type": "execute_result"
    }
   ],
   "source": [
    "df.shape"
   ]
  },
  {
   "cell_type": "code",
   "execution_count": 6,
   "metadata": {},
   "outputs": [
    {
     "data": {
      "text/html": [
       "<div>\n",
       "<style scoped>\n",
       "    .dataframe tbody tr th:only-of-type {\n",
       "        vertical-align: middle;\n",
       "    }\n",
       "\n",
       "    .dataframe tbody tr th {\n",
       "        vertical-align: top;\n",
       "    }\n",
       "\n",
       "    .dataframe thead th {\n",
       "        text-align: right;\n",
       "    }\n",
       "</style>\n",
       "<table border=\"1\" class=\"dataframe\">\n",
       "  <thead>\n",
       "    <tr style=\"text-align: right;\">\n",
       "      <th></th>\n",
       "      <th>Unnamed: 0</th>\n",
       "      <th>loan_amnt</th>\n",
       "      <th>term</th>\n",
       "      <th>int_rate</th>\n",
       "      <th>installment</th>\n",
       "      <th>annual_inc</th>\n",
       "      <th>loan_status</th>\n",
       "      <th>dti</th>\n",
       "      <th>open_acc</th>\n",
       "      <th>pub_rec</th>\n",
       "      <th>...</th>\n",
       "      <th>cr_year</th>\n",
       "      <th>05113</th>\n",
       "      <th>11650</th>\n",
       "      <th>22690</th>\n",
       "      <th>29597</th>\n",
       "      <th>30723</th>\n",
       "      <th>48052</th>\n",
       "      <th>70466</th>\n",
       "      <th>86630</th>\n",
       "      <th>93700</th>\n",
       "    </tr>\n",
       "  </thead>\n",
       "  <tbody>\n",
       "    <tr>\n",
       "      <th>count</th>\n",
       "      <td>395219.000000</td>\n",
       "      <td>395219.000000</td>\n",
       "      <td>395219.000000</td>\n",
       "      <td>395219.000000</td>\n",
       "      <td>395219.000000</td>\n",
       "      <td>3.952190e+05</td>\n",
       "      <td>395219.000000</td>\n",
       "      <td>395219.000000</td>\n",
       "      <td>395219.000000</td>\n",
       "      <td>395219.000000</td>\n",
       "      <td>...</td>\n",
       "      <td>395219.000000</td>\n",
       "      <td>395219.000000</td>\n",
       "      <td>395219.000000</td>\n",
       "      <td>395219.000000</td>\n",
       "      <td>395219.000000</td>\n",
       "      <td>395219.000000</td>\n",
       "      <td>395219.000000</td>\n",
       "      <td>395219.000000</td>\n",
       "      <td>395219.000000</td>\n",
       "      <td>395219.000000</td>\n",
       "    </tr>\n",
       "    <tr>\n",
       "      <th>mean</th>\n",
       "      <td>198014.357931</td>\n",
       "      <td>14122.061250</td>\n",
       "      <td>0.237772</td>\n",
       "      <td>13.642094</td>\n",
       "      <td>432.069020</td>\n",
       "      <td>7.419937e+04</td>\n",
       "      <td>0.196152</td>\n",
       "      <td>17.390758</td>\n",
       "      <td>11.318494</td>\n",
       "      <td>0.178481</td>\n",
       "      <td>...</td>\n",
       "      <td>1997.861636</td>\n",
       "      <td>0.114620</td>\n",
       "      <td>0.028364</td>\n",
       "      <td>0.142739</td>\n",
       "      <td>0.114855</td>\n",
       "      <td>0.142711</td>\n",
       "      <td>0.141215</td>\n",
       "      <td>0.143920</td>\n",
       "      <td>0.027729</td>\n",
       "      <td>0.028151</td>\n",
       "    </tr>\n",
       "    <tr>\n",
       "      <th>std</th>\n",
       "      <td>114330.568945</td>\n",
       "      <td>8357.054944</td>\n",
       "      <td>0.425719</td>\n",
       "      <td>4.472944</td>\n",
       "      <td>250.700153</td>\n",
       "      <td>6.155725e+04</td>\n",
       "      <td>0.397085</td>\n",
       "      <td>18.032696</td>\n",
       "      <td>5.134901</td>\n",
       "      <td>0.531098</td>\n",
       "      <td>...</td>\n",
       "      <td>7.199028</td>\n",
       "      <td>0.318563</td>\n",
       "      <td>0.166011</td>\n",
       "      <td>0.349807</td>\n",
       "      <td>0.318848</td>\n",
       "      <td>0.349778</td>\n",
       "      <td>0.348244</td>\n",
       "      <td>0.351009</td>\n",
       "      <td>0.164195</td>\n",
       "      <td>0.165406</td>\n",
       "    </tr>\n",
       "    <tr>\n",
       "      <th>min</th>\n",
       "      <td>0.000000</td>\n",
       "      <td>500.000000</td>\n",
       "      <td>0.000000</td>\n",
       "      <td>5.320000</td>\n",
       "      <td>16.080000</td>\n",
       "      <td>0.000000e+00</td>\n",
       "      <td>0.000000</td>\n",
       "      <td>0.000000</td>\n",
       "      <td>1.000000</td>\n",
       "      <td>0.000000</td>\n",
       "      <td>...</td>\n",
       "      <td>1944.000000</td>\n",
       "      <td>0.000000</td>\n",
       "      <td>0.000000</td>\n",
       "      <td>0.000000</td>\n",
       "      <td>0.000000</td>\n",
       "      <td>0.000000</td>\n",
       "      <td>0.000000</td>\n",
       "      <td>0.000000</td>\n",
       "      <td>0.000000</td>\n",
       "      <td>0.000000</td>\n",
       "    </tr>\n",
       "    <tr>\n",
       "      <th>25%</th>\n",
       "      <td>98998.500000</td>\n",
       "      <td>8000.000000</td>\n",
       "      <td>0.000000</td>\n",
       "      <td>10.490000</td>\n",
       "      <td>250.330000</td>\n",
       "      <td>4.500000e+04</td>\n",
       "      <td>0.000000</td>\n",
       "      <td>11.300000</td>\n",
       "      <td>8.000000</td>\n",
       "      <td>0.000000</td>\n",
       "      <td>...</td>\n",
       "      <td>1994.000000</td>\n",
       "      <td>0.000000</td>\n",
       "      <td>0.000000</td>\n",
       "      <td>0.000000</td>\n",
       "      <td>0.000000</td>\n",
       "      <td>0.000000</td>\n",
       "      <td>0.000000</td>\n",
       "      <td>0.000000</td>\n",
       "      <td>0.000000</td>\n",
       "      <td>0.000000</td>\n",
       "    </tr>\n",
       "    <tr>\n",
       "      <th>50%</th>\n",
       "      <td>198015.000000</td>\n",
       "      <td>12000.000000</td>\n",
       "      <td>0.000000</td>\n",
       "      <td>13.330000</td>\n",
       "      <td>375.490000</td>\n",
       "      <td>6.400000e+04</td>\n",
       "      <td>0.000000</td>\n",
       "      <td>16.920000</td>\n",
       "      <td>10.000000</td>\n",
       "      <td>0.000000</td>\n",
       "      <td>...</td>\n",
       "      <td>1999.000000</td>\n",
       "      <td>0.000000</td>\n",
       "      <td>0.000000</td>\n",
       "      <td>0.000000</td>\n",
       "      <td>0.000000</td>\n",
       "      <td>0.000000</td>\n",
       "      <td>0.000000</td>\n",
       "      <td>0.000000</td>\n",
       "      <td>0.000000</td>\n",
       "      <td>0.000000</td>\n",
       "    </tr>\n",
       "    <tr>\n",
       "      <th>75%</th>\n",
       "      <td>297032.500000</td>\n",
       "      <td>20000.000000</td>\n",
       "      <td>0.000000</td>\n",
       "      <td>16.550000</td>\n",
       "      <td>567.790000</td>\n",
       "      <td>9.000000e+04</td>\n",
       "      <td>0.000000</td>\n",
       "      <td>22.990000</td>\n",
       "      <td>14.000000</td>\n",
       "      <td>0.000000</td>\n",
       "      <td>...</td>\n",
       "      <td>2003.000000</td>\n",
       "      <td>0.000000</td>\n",
       "      <td>0.000000</td>\n",
       "      <td>0.000000</td>\n",
       "      <td>0.000000</td>\n",
       "      <td>0.000000</td>\n",
       "      <td>0.000000</td>\n",
       "      <td>0.000000</td>\n",
       "      <td>0.000000</td>\n",
       "      <td>0.000000</td>\n",
       "    </tr>\n",
       "    <tr>\n",
       "      <th>max</th>\n",
       "      <td>396029.000000</td>\n",
       "      <td>40000.000000</td>\n",
       "      <td>1.000000</td>\n",
       "      <td>30.990000</td>\n",
       "      <td>1533.810000</td>\n",
       "      <td>8.706582e+06</td>\n",
       "      <td>1.000000</td>\n",
       "      <td>9999.000000</td>\n",
       "      <td>90.000000</td>\n",
       "      <td>86.000000</td>\n",
       "      <td>...</td>\n",
       "      <td>2013.000000</td>\n",
       "      <td>1.000000</td>\n",
       "      <td>1.000000</td>\n",
       "      <td>1.000000</td>\n",
       "      <td>1.000000</td>\n",
       "      <td>1.000000</td>\n",
       "      <td>1.000000</td>\n",
       "      <td>1.000000</td>\n",
       "      <td>1.000000</td>\n",
       "      <td>1.000000</td>\n",
       "    </tr>\n",
       "  </tbody>\n",
       "</table>\n",
       "<p>8 rows × 83 columns</p>\n",
       "</div>"
      ],
      "text/plain": [
       "          Unnamed: 0      loan_amnt           term       int_rate  \\\n",
       "count  395219.000000  395219.000000  395219.000000  395219.000000   \n",
       "mean   198014.357931   14122.061250       0.237772      13.642094   \n",
       "std    114330.568945    8357.054944       0.425719       4.472944   \n",
       "min         0.000000     500.000000       0.000000       5.320000   \n",
       "25%     98998.500000    8000.000000       0.000000      10.490000   \n",
       "50%    198015.000000   12000.000000       0.000000      13.330000   \n",
       "75%    297032.500000   20000.000000       0.000000      16.550000   \n",
       "max    396029.000000   40000.000000       1.000000      30.990000   \n",
       "\n",
       "         installment    annual_inc    loan_status            dti  \\\n",
       "count  395219.000000  3.952190e+05  395219.000000  395219.000000   \n",
       "mean      432.069020  7.419937e+04       0.196152      17.390758   \n",
       "std       250.700153  6.155725e+04       0.397085      18.032696   \n",
       "min        16.080000  0.000000e+00       0.000000       0.000000   \n",
       "25%       250.330000  4.500000e+04       0.000000      11.300000   \n",
       "50%       375.490000  6.400000e+04       0.000000      16.920000   \n",
       "75%       567.790000  9.000000e+04       0.000000      22.990000   \n",
       "max      1533.810000  8.706582e+06       1.000000    9999.000000   \n",
       "\n",
       "            open_acc        pub_rec  ...        cr_year          05113  \\\n",
       "count  395219.000000  395219.000000  ...  395219.000000  395219.000000   \n",
       "mean       11.318494       0.178481  ...    1997.861636       0.114620   \n",
       "std         5.134901       0.531098  ...       7.199028       0.318563   \n",
       "min         1.000000       0.000000  ...    1944.000000       0.000000   \n",
       "25%         8.000000       0.000000  ...    1994.000000       0.000000   \n",
       "50%        10.000000       0.000000  ...    1999.000000       0.000000   \n",
       "75%        14.000000       0.000000  ...    2003.000000       0.000000   \n",
       "max        90.000000      86.000000  ...    2013.000000       1.000000   \n",
       "\n",
       "               11650          22690          29597          30723  \\\n",
       "count  395219.000000  395219.000000  395219.000000  395219.000000   \n",
       "mean        0.028364       0.142739       0.114855       0.142711   \n",
       "std         0.166011       0.349807       0.318848       0.349778   \n",
       "min         0.000000       0.000000       0.000000       0.000000   \n",
       "25%         0.000000       0.000000       0.000000       0.000000   \n",
       "50%         0.000000       0.000000       0.000000       0.000000   \n",
       "75%         0.000000       0.000000       0.000000       0.000000   \n",
       "max         1.000000       1.000000       1.000000       1.000000   \n",
       "\n",
       "               48052          70466          86630          93700  \n",
       "count  395219.000000  395219.000000  395219.000000  395219.000000  \n",
       "mean        0.141215       0.143920       0.027729       0.028151  \n",
       "std         0.348244       0.351009       0.164195       0.165406  \n",
       "min         0.000000       0.000000       0.000000       0.000000  \n",
       "25%         0.000000       0.000000       0.000000       0.000000  \n",
       "50%         0.000000       0.000000       0.000000       0.000000  \n",
       "75%         0.000000       0.000000       0.000000       0.000000  \n",
       "max         1.000000       1.000000       1.000000       1.000000  \n",
       "\n",
       "[8 rows x 83 columns]"
      ]
     },
     "execution_count": 6,
     "metadata": {},
     "output_type": "execute_result"
    }
   ],
   "source": [
    "df.describe()"
   ]
  },
  {
   "cell_type": "code",
   "execution_count": 7,
   "metadata": {
    "tags": []
   },
   "outputs": [
    {
     "name": "stdout",
     "output_type": "stream",
     "text": [
      "Paid        317696\n",
      "Not Paid     77523\n",
      "Name: loan_status, dtype: int64\n"
     ]
    }
   ],
   "source": [
    "class_names = {0:'Paid', 1:'Not Paid'}\n",
    "print(df.loan_status.value_counts().rename(index = class_names))"
   ]
  },
  {
   "cell_type": "code",
   "execution_count": 8,
   "metadata": {},
   "outputs": [],
   "source": [
    "X = df.drop('loan_status',axis=1)\n",
    "y = df['loan_status']"
   ]
  },
  {
   "cell_type": "code",
   "execution_count": 9,
   "metadata": {},
   "outputs": [
    {
     "data": {
      "text/plain": [
       "(395219,)"
      ]
     },
     "execution_count": 9,
     "metadata": {},
     "output_type": "execute_result"
    }
   ],
   "source": [
    "y.shape"
   ]
  },
  {
   "cell_type": "code",
   "execution_count": 10,
   "metadata": {},
   "outputs": [],
   "source": [
    "X_train, X_test, y_train, y_test = train_test_split(X, y, test_size=0.30, stratify=y, random_state=42)"
   ]
  },
  {
   "cell_type": "code",
   "execution_count": 11,
   "metadata": {},
   "outputs": [],
   "source": [
    "preproc = hp.choice('myprepros_name', \n",
    "                    [\n",
    "                        [min_max_scaler('myprepros_name.only_norm')],\n",
    "                        [standard_scaler('myprepros_name.only_std_scaler')],\n",
    "                        [pca('myprepros_name.only_pca')],\n",
    "                        [pca('myprepros_name.pca'), min_max_scaler('myprepros_name.norm')],\n",
    "                        [min_max_scaler('myprepros_name.first_norm'), standard_scaler('myprepros_name.second_std_scaler')],\n",
    "                        []\n",
    "                    ])"
   ]
  },
  {
   "cell_type": "code",
   "execution_count": 12,
   "metadata": {},
   "outputs": [],
   "source": [
    "clf = hp.choice( 'model_name',\n",
    "            [ random_forest ('model_name.random_forest'),\n",
    "            ada_boost ('model_name.ada_boost'),\n",
    "            gradient_boosting ('model_name.gradient_boosting'),\n",
    "            xgboost_classification ('model_name.xgboost_classification'),\n",
    "            extra_trees('model_name.extra_trees'),\n",
    "            svc_linear('model_name.svc_linear'),\n",
    "            svc_rbf('model_name.svc_rbf'),\n",
    "            svc('model_name.svc')]) "
   ]
  },
  {
   "cell_type": "code",
   "execution_count": 13,
   "metadata": {},
   "outputs": [],
   "source": [
    "#preprocessing=[min_max_scaler('norm_scaler'), pca('my_pca') ]\n",
    "#classifier=xgboost_classification('xgboost')\n",
    "#preprocessing=any_preprocessing('pre')\n",
    "#preprocessing = preproc\n",
    "#classifier=any_classifier('cla')\n",
    "#classifier=clf\n",
    "\n",
    "#01. 100 times with classifier=any_classifier('cla') & preprocessing=any_preprocessing('pre')\n",
    "\n",
    "#02. 100 times with classifier=clf & preprocessing = preproc\n",
    "\n",
    "#03. 100 times with classifier=xgboost_classification('xgboost') & preprocessing = preproc\n",
    "\n",
    "#04. 100 times with classifier=xgboost_classification('xgboost') & preprocessing = any_preprocessing('pre')"
   ]
  },
  {
   "cell_type": "code",
   "execution_count": 14,
   "metadata": {
    "tags": []
   },
   "outputs": [
    {
     "name": "stdout",
     "output_type": "stream",
     "text": [
      "100%|██████████| 1/1 [01:28<00:00, 88.46s/trial, best loss: 0.11113119227919255]\n",
      "100%|██████████| 2/2 [07:03<00:00, 211.75s/trial, best loss: 0.10993837089515823]\n",
      "100%|██████████| 3/3 [12:21<00:00, 247.07s/trial, best loss: 0.10993837089515823]\n",
      "100%|██████████| 4/4 [06:09<00:00, 92.38s/trial, best loss: 0.10993837089515823] \n",
      "100%|██████████| 5/5 [02:57<00:00, 35.49s/trial, best loss: 0.10993837089515823] \n",
      "100%|██████████| 6/6 [05:24<00:00, 54.12s/trial, best loss: 0.10993837089515823] \n",
      "100%|██████████| 7/7 [00:13<00:00,  1.88s/trial, best loss: 0.10993837089515823]\n",
      "100%|██████████| 8/8 [06:43<00:00, 50.46s/trial, best loss: 0.10993837089515823] \n",
      "100%|██████████| 9/9 [09:38<00:00, 64.28s/trial, best loss: 0.10993837089515823] \n",
      "100%|██████████| 10/10 [05:35<00:00, 33.52s/trial, best loss: 0.10993837089515823] \n",
      "100%|██████████| 11/11 [10:54<00:00, 59.51s/trial, best loss: 0.10993837089515823] \n",
      "100%|██████████| 12/12 [02:29<00:00, 12.49s/trial, best loss: 0.10993837089515823] \n",
      "100%|██████████| 13/13 [07:04<00:00, 32.63s/trial, best loss: 0.10943232545950732] \n",
      "100%|██████████| 14/14 [08:27<00:00, 36.24s/trial, best loss: 0.10943232545950732] \n",
      "100%|██████████| 15/15 [09:18<00:00, 37.26s/trial, best loss: 0.10943232545950732] \n",
      "100%|██████████| 16/16 [17:04<00:00, 64.00s/trial, best loss: 0.10943232545950732]  \n",
      "100%|██████████| 17/17 [09:42<00:00, 34.28s/trial, best loss: 0.10943232545950732] \n",
      "100%|██████████| 18/18 [00:39<00:00,  2.19s/trial, best loss: 0.10943232545950732]\n",
      "100%|██████████| 19/19 [16:21<00:00, 51.65s/trial, best loss: 0.10943232545950732] \n",
      "100%|██████████| 20/20 [03:24<00:00, 10.24s/trial, best loss: 0.10943232545950732] \n",
      "100%|██████████| 21/21 [05:02<00:00, 14.40s/trial, best loss: 0.10943232545950732] \n",
      "100%|██████████| 22/22 [05:12<00:00, 14.20s/trial, best loss: 0.10943232545950732] \n",
      "100%|██████████| 23/23 [05:34<00:00, 14.54s/trial, best loss: 0.10943232545950732] \n",
      "100%|██████████| 24/24 [04:59<00:00, 12.48s/trial, best loss: 0.10943232545950732] \n",
      "100%|██████████| 25/25 [21:08<00:00, 50.75s/trial, best loss: 0.10943232545950732]  \n",
      "Execution time :  3:13:34.824851\n"
     ]
    }
   ],
   "source": [
    "init_time = datetime.now()\n",
    "accuracy = 0\n",
    "best_model = None\n",
    "#for i in range(100):\n",
    "    #print (i)\n",
    "model = HyperoptEstimator(  classifier= xgboost_classification('xgboost'), \n",
    "                                preprocessing= [], \n",
    "                                algo=tpe.suggest, \n",
    "                                max_evals=25, \n",
    "                                trial_timeout=5000)\n",
    "    # perform the search\n",
    "model.fit(X_train, y_train)\n",
    "acc = model.score(X_test, y_test)\n",
    "    #if acc > accuracy:\n",
    "        #accuracy = acc\n",
    "        #best_model = model\n",
    "        #print (accuracy)\n",
    "\n",
    "fin_time = datetime.now()\n",
    "print(\"Execution time : \", (fin_time-init_time))"
   ]
  },
  {
   "cell_type": "code",
   "execution_count": 15,
   "metadata": {},
   "outputs": [
    {
     "name": "stdout",
     "output_type": "stream",
     "text": [
      "Accuracy: 0.890\n",
      "{'learner': XGBClassifier(base_score=0.5, booster='gbtree',\n",
      "              colsample_bylevel=0.9028348772888999, colsample_bynode=1,\n",
      "              colsample_bytree=0.9857497638163848, gamma=0.0009618993047680283,\n",
      "              gpu_id=-1, importance_type='gain', interaction_constraints='',\n",
      "              learning_rate=0.07257415276026341, max_delta_step=0, max_depth=1,\n",
      "              min_child_weight=81, missing=nan, monotone_constraints='()',\n",
      "              n_estimators=6000, n_jobs=0, num_parallel_tree=1, random_state=2,\n",
      "              reg_alpha=0.0013250385503230163, reg_lambda=2.969799449331543,\n",
      "              scale_pos_weight=1, seed=2, subsample=0.9867143129907193,\n",
      "              tree_method='exact', validate_parameters=1, verbosity=None), 'preprocs': (), 'ex_preprocs': ()}\n"
     ]
    }
   ],
   "source": [
    "#summarize the best model\n",
    "print(\"Accuracy: %.3f\" % acc)\n",
    "print(model.best_model())"
   ]
  },
  {
   "cell_type": "code",
   "execution_count": 16,
   "metadata": {},
   "outputs": [
    {
     "name": "stdout",
     "output_type": "stream",
     "text": [
      "Execution time :  0:07:59.339010\n"
     ]
    }
   ],
   "source": [
    "init_time = datetime.now()\n",
    "model = XGBClassifier(base_score=0.5, booster='gbtree',\n",
    "              colsample_bylevel=0.9028348772888999, colsample_bynode=1,\n",
    "              colsample_bytree=0.9857497638163848, gamma=0.0009618993047680283,\n",
    "              gpu_id=-1, importance_type='gain', interaction_constraints='',\n",
    "              learning_rate=0.07257415276026341, max_delta_step=0, max_depth=1,\n",
    "              min_child_weight=81, missing=None, monotone_constraints='()',\n",
    "              n_estimators=6000, n_jobs=0, num_parallel_tree=1, random_state=2,\n",
    "              reg_alpha=0.0013250385503230163, reg_lambda=2.969799449331543,\n",
    "              scale_pos_weight=1, seed=2, subsample=0.9867143129907193,\n",
    "              tree_method='exact', validate_parameters=1, verbosity=None)\n",
    "model.fit(X_train, y_train)\n",
    "prediction = model.predict(X_test)\n",
    "#print(f\"F-measure of XGB: {mean(scores):.3f}\")\n",
    "fin_time = datetime.now()\n",
    "print(\"Execution time : \", (fin_time-init_time))"
   ]
  },
  {
   "cell_type": "code",
   "execution_count": 17,
   "metadata": {},
   "outputs": [
    {
     "name": "stdout",
     "output_type": "stream",
     "text": [
      "Sensitivity/Recall: 0.47\n",
      "F1 Score: 0.63\n"
     ]
    }
   ],
   "source": [
    "f1_score = round(f1_score(y_test, prediction), 2)\n",
    "recall_score = round(recall_score(y_test, prediction), 2)\n",
    "print(\"Sensitivity/Recall: {recall_score}\".format(recall_score = recall_score))\n",
    "print(\"F1 Score: {f1_score}\".format(f1_score = f1_score))"
   ]
  },
  {
   "cell_type": "code",
   "execution_count": 18,
   "metadata": {},
   "outputs": [
    {
     "name": "stdout",
     "output_type": "stream",
     "text": [
      "              precision    recall  f1-score   support\n",
      "\n",
      "           0       0.88      0.99      0.94     95309\n",
      "           1       0.94      0.47      0.63     23257\n",
      "\n",
      "    accuracy                           0.89    118566\n",
      "   macro avg       0.91      0.73      0.78    118566\n",
      "weighted avg       0.90      0.89      0.87    118566\n",
      "\n"
     ]
    }
   ],
   "source": [
    "print(classification_report(y_test, prediction))"
   ]
  },
  {
   "cell_type": "code",
   "execution_count": 19,
   "metadata": {},
   "outputs": [
    {
     "data": {
      "image/png": "[encoded data removed]",
      "text/plain": [
       "<Figure size 432x288 with 2 Axes>"
      ]
     },
     "metadata": {
      "needs_background": "light"
     },
     "output_type": "display_data"
    }
   ],
   "source": [
    "plot_confusion_matrix(model, X_test, y_test, values_format='d', display_labels=[\"Not Fraud\",\"Fraud\"]);"
   ]
  },
  {
   "cell_type": "code",
   "execution_count": null,
   "metadata": {},
   "outputs": [],
   "source": []
  },
  {
   "cell_type": "code",
   "execution_count": 15,
   "metadata": {
    "tags": []
   },
   "outputs": [
    {
     "name": "stdout",
     "output_type": "stream",
     "text": [
      "Accuracy: 0.890\n",
      "{'learner': XGBClassifier(base_score=0.5, booster='gbtree',\n",
      "              colsample_bylevel=0.6606635042367097, colsample_bynode=1,\n",
      "              colsample_bytree=0.539503526884835, gamma=0.2829235642773983,\n",
      "              gpu_id=-1, importance_type='gain', interaction_constraints='',\n",
      "              learning_rate=0.0050678950480702875, max_delta_step=0,\n",
      "              max_depth=8, min_child_weight=12, missing=nan,\n",
      "              monotone_constraints='()', n_estimators=2800, n_jobs=0,\n",
      "              num_parallel_tree=1, random_state=4,\n",
      "              reg_alpha=0.00015627688161596324, reg_lambda=1.2142350925763328,\n",
      "              scale_pos_weight=1, seed=4, subsample=0.7678023176548983,\n",
      "              tree_method='exact', validate_parameters=1, verbosity=None), 'preprocs': (), 'ex_preprocs': ()}\n"
     ]
    }
   ],
   "source": [
    "#summarize the best model\n",
    "print(\"Accuracy: %.3f\" % acc)\n",
    "print(model.best_model())"
   ]
  },
  {
   "cell_type": "code",
   "execution_count": 16,
   "metadata": {
    "tags": []
   },
   "outputs": [
    {
     "name": "stdout",
     "output_type": "stream",
     "text": [
      "Execution time :  0:12:12.396865\n"
     ]
    }
   ],
   "source": [
    "init_time = datetime.now()\n",
    "model = XGBClassifier(base_score=0.5, booster='gbtree',\n",
    "              colsample_bylevel=0.6606635042367097, colsample_bynode=1,\n",
    "              colsample_bytree=0.539503526884835, gamma=0.2829235642773983,\n",
    "              gpu_id=-1, importance_type='gain', interaction_constraints='',\n",
    "              learning_rate=0.0050678950480702875, max_delta_step=0,\n",
    "              max_depth=8, min_child_weight=12, missing=None,\n",
    "              monotone_constraints='()', n_estimators=2800, n_jobs=0,\n",
    "              num_parallel_tree=1, random_state=4,\n",
    "              reg_alpha=0.00015627688161596324, reg_lambda=1.2142350925763328,\n",
    "              scale_pos_weight=1, seed=4, subsample=0.7678023176548983,\n",
    "              tree_method='exact', validate_parameters=1, verbosity=None)\n",
    "model.fit(X_train, y_train)\n",
    "prediction = model.predict(X_test)\n",
    "#print(f\"F-measure of XGB: {mean(scores):.3f}\")\n",
    "fin_time = datetime.now()\n",
    "print(\"Execution time : \", (fin_time-init_time))"
   ]
  },
  {
   "cell_type": "code",
   "execution_count": 17,
   "metadata": {
    "tags": []
   },
   "outputs": [
    {
     "name": "stdout",
     "output_type": "stream",
     "text": [
      "Sensitivity/Recall: 0.47\n",
      "F1 Score: 0.63\n"
     ]
    }
   ],
   "source": [
    "f1_score = round(f1_score(y_test, prediction), 2)\n",
    "recall_score = round(recall_score(y_test, prediction), 2)\n",
    "print(\"Sensitivity/Recall: {recall_score}\".format(recall_score = recall_score))\n",
    "print(\"F1 Score: {f1_score}\".format(f1_score = f1_score))"
   ]
  },
  {
   "cell_type": "code",
   "execution_count": 18,
   "metadata": {
    "tags": []
   },
   "outputs": [
    {
     "name": "stdout",
     "output_type": "stream",
     "text": [
      "              precision    recall  f1-score   support\n",
      "\n",
      "           0       0.89      0.99      0.94     95309\n",
      "           1       0.93      0.47      0.63     23257\n",
      "\n",
      "    accuracy                           0.89    118566\n",
      "   macro avg       0.91      0.73      0.78    118566\n",
      "weighted avg       0.89      0.89      0.87    118566\n",
      "\n"
     ]
    }
   ],
   "source": [
    "print(classification_report(y_test, prediction))"
   ]
  },
  {
   "cell_type": "code",
   "execution_count": 19,
   "metadata": {},
   "outputs": [
    {
     "data": {
      "image/png": "[encoded data removed]",
      "text/plain": [
       "<Figure size 432x288 with 2 Axes>"
      ]
     },
     "metadata": {
      "needs_background": "light"
     },
     "output_type": "display_data"
    }
   ],
   "source": [
    "#class_names = {0:'Not Fraud', 1:'Fraud'}\n",
    "plot_confusion_matrix(model, X_test, y_test, values_format='d', display_labels=[\"Not Fraud\",\"Fraud\"]);"
   ]
  },
  {
   "cell_type": "code",
   "execution_count": null,
   "metadata": {},
   "outputs": [],
   "source": []
  }
 ],
 "metadata": {
  "kernelspec": {
   "display_name": "Python 3",
   "language": "python",
   "name": "python3"
  },
  "language_info": {
   "codemirror_mode": {
    "name": "ipython",
    "version": 3
   },
   "file_extension": ".py",
   "mimetype": "text/x-python",
   "name": "python",
   "nbconvert_exporter": "python",
   "pygments_lexer": "ipython3",
   "version": "3.8.3"
  }
 },
 "nbformat": 4,
 "nbformat_minor": 2
}
