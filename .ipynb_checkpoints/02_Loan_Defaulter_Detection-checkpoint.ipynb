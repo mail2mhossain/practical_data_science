{
 "cells": [
  {
   "cell_type": "markdown",
   "metadata": {
    "heading_collapsed": true
   },
   "source": [
    "### Import Libraries"
   ]
  },
  {
   "cell_type": "code",
   "execution_count": 1,
   "metadata": {
    "hidden": true
   },
   "outputs": [],
   "source": [
    "from datetime import datetime\n",
    "from numpy import mean\n",
    "from numpy import std\n",
    "import numpy as np\n",
    "import pandas  as pd\n",
    "from matplotlib import pyplot\n",
    "import operator\n",
    "from scipy.stats import shapiro, normaltest\n",
    "from sklearn.preprocessing import LabelEncoder\n",
    "from sklearn.preprocessing import OrdinalEncoder\n",
    "from sklearn.preprocessing import OneHotEncoder\n",
    "from sklearn.compose import ColumnTransformer\n",
    "from sklearn.model_selection import cross_val_score\n",
    "from sklearn.model_selection import KFold, StratifiedKFold, RepeatedStratifiedKFold\n",
    "from sklearn.metrics import make_scorer\n",
    "from sklearn.metrics import fbeta_score\n",
    "from sklearn.metrics import f1_score, accuracy_score\n",
    "from sklearn.model_selection import GridSearchCV\n",
    "from sklearn.model_selection import RandomizedSearchCV\n",
    "from sklearn.linear_model import LogisticRegression\n",
    "from sklearn.tree import DecisionTreeClassifier\n",
    "from sklearn.neighbors import KNeighborsClassifier\n",
    "from sklearn.discriminant_analysis import LinearDiscriminantAnalysis\n",
    "from sklearn.naive_bayes import GaussianNB\n",
    "from sklearn.naive_bayes import MultinomialNB\n",
    "from sklearn.gaussian_process import GaussianProcessClassifier\n",
    "from sklearn.svm import SVC\n",
    "from sklearn.ensemble import AdaBoostClassifier\n",
    "from sklearn.ensemble import GradientBoostingClassifier\n",
    "from sklearn.ensemble import RandomForestClassifier\n",
    "from sklearn.ensemble import ExtraTreesClassifier\n",
    "from sklearn.linear_model import SGDClassifier\n",
    "from sklearn.kernel_approximation import RBFSampler\n",
    "from sklearn.model_selection import train_test_split\n",
    "from sklearn.metrics import classification_report,confusion_matrix,plot_confusion_matrix\n",
    "#from sklearn.ensemble import BalancedBaggingClassifier\n",
    "from xgboost import XGBClassifier\n",
    "from imblearn.combine import SMOTEENN\n",
    "from imblearn.combine import SMOTETomek\n",
    "from imblearn.under_sampling import TomekLinks\n",
    "from imblearn.under_sampling import EditedNearestNeighbours\n",
    "from sklearn.pipeline import Pipeline\n",
    "from sklearn.pipeline import FeatureUnion\n",
    "from sklearn.preprocessing import StandardScaler\n",
    "from sklearn.preprocessing import PowerTransformer\n",
    "from sklearn.preprocessing import QuantileTransformer\n",
    "from sklearn.preprocessing import MinMaxScaler\n",
    "from sklearn.decomposition import PCA, TruncatedSVD\n",
    "from sklearn.neighbors import LocalOutlierFactor\n",
    "from sklearn.feature_selection import RFE, SelectFromModel"
   ]
  },
  {
   "cell_type": "markdown",
   "metadata": {
    "heading_collapsed": true
   },
   "source": [
    "### Load the Dataset"
   ]
  },
  {
   "cell_type": "code",
   "execution_count": 2,
   "metadata": {
    "hidden": true
   },
   "outputs": [],
   "source": [
    "#print(\"F1 micro: %1.4f\\n\" % f1_score(y_test, y_predicted, average='micro'))\n",
    "#print(\"F1 macro: %1.4f\\n\" % f1_score(y_test, y_predicted, average='macro'))\n",
    "#print(\"F1 weighted: %1.4f\\n\" % f1_score(y_test, y_predicted, average='weighted'))\n",
    "#print(\"Accuracy: %1.4f\" % (accuracy_score(y_test, y_predicted)))\n",
    "#scores = cross_val_score(clf, X, y, cv=5, scoring='f1_macro')\n",
    "#knn_scores = cross_val_score(knn, X, y, cv=10)\n",
    "#print(\"Accuracy: %0.2f (+/- %0.2f)\" % (knn_scores.mean(), knn_scores.std() * 2))"
   ]
  },
  {
   "cell_type": "code",
   "execution_count": 3,
   "metadata": {
    "hidden": true
   },
   "outputs": [],
   "source": [
    "df = pd.read_csv('Data/classification_testData_shape(395219,82).csv')"
   ]
  },
  {
   "cell_type": "code",
   "execution_count": 4,
   "metadata": {
    "hidden": true
   },
   "outputs": [
    {
     "data": {
      "text/plain": [
       "(395219, 83)"
      ]
     },
     "execution_count": 4,
     "metadata": {},
     "output_type": "execute_result"
    }
   ],
   "source": [
    "df.shape"
   ]
  },
  {
   "cell_type": "code",
   "execution_count": 5,
   "metadata": {
    "hidden": true
   },
   "outputs": [
    {
     "data": {
      "text/plain": [
       "Index(['Unnamed: 0', 'loan_amnt', 'term', 'int_rate', 'installment',\n",
       "       'annual_inc', 'loan_status', 'dti', 'open_acc', 'pub_rec', 'revol_bal',\n",
       "       'revol_util', 'total_acc', 'mort_acc', 'pub_rec_bankruptcies', 'A2',\n",
       "       'A3', 'A4', 'A5', 'B1', 'B2', 'B3', 'B4', 'B5', 'C1', 'C2', 'C3', 'C4',\n",
       "       'C5', 'D1', 'D2', 'D3', 'D4', 'D5', 'E1', 'E2', 'E3', 'E4', 'E5', 'F1',\n",
       "       'F2', 'F3', 'F4', 'F5', 'G1', 'G2', 'G3', 'G4', 'G5', 'OTHER', 'OWN',\n",
       "       'RENT', 'verification_status_Source Verified',\n",
       "       'verification_status_Verified', 'application_type_INDIVIDUAL',\n",
       "       'application_type_JOINT', 'initial_list_status_w',\n",
       "       'purpose_credit_card', 'purpose_debt_consolidation',\n",
       "       'purpose_educational', 'purpose_home_improvement', 'purpose_house',\n",
       "       'purpose_major_purchase', 'purpose_medical', 'purpose_moving',\n",
       "       'purpose_other', 'purpose_renewable_energy', 'purpose_small_business',\n",
       "       'purpose_vacation', 'purpose_wedding', 'issue_month', 'issue_year',\n",
       "       'cr_month', 'cr_year', '05113', '11650', '22690', '29597', '30723',\n",
       "       '48052', '70466', '86630', '93700'],\n",
       "      dtype='object')"
      ]
     },
     "execution_count": 5,
     "metadata": {},
     "output_type": "execute_result"
    }
   ],
   "source": [
    "df.columns"
   ]
  },
  {
   "cell_type": "code",
   "execution_count": 6,
   "metadata": {
    "hidden": true
   },
   "outputs": [
    {
     "data": {
      "text/html": [
       "<div>\n",
       "<style scoped>\n",
       "    .dataframe tbody tr th:only-of-type {\n",
       "        vertical-align: middle;\n",
       "    }\n",
       "\n",
       "    .dataframe tbody tr th {\n",
       "        vertical-align: top;\n",
       "    }\n",
       "\n",
       "    .dataframe thead th {\n",
       "        text-align: right;\n",
       "    }\n",
       "</style>\n",
       "<table border=\"1\" class=\"dataframe\">\n",
       "  <thead>\n",
       "    <tr style=\"text-align: right;\">\n",
       "      <th></th>\n",
       "      <th>Unnamed: 0</th>\n",
       "      <th>loan_amnt</th>\n",
       "      <th>term</th>\n",
       "      <th>int_rate</th>\n",
       "      <th>installment</th>\n",
       "      <th>annual_inc</th>\n",
       "      <th>loan_status</th>\n",
       "      <th>dti</th>\n",
       "      <th>open_acc</th>\n",
       "      <th>pub_rec</th>\n",
       "      <th>...</th>\n",
       "      <th>cr_year</th>\n",
       "      <th>05113</th>\n",
       "      <th>11650</th>\n",
       "      <th>22690</th>\n",
       "      <th>29597</th>\n",
       "      <th>30723</th>\n",
       "      <th>48052</th>\n",
       "      <th>70466</th>\n",
       "      <th>86630</th>\n",
       "      <th>93700</th>\n",
       "    </tr>\n",
       "  </thead>\n",
       "  <tbody>\n",
       "    <tr>\n",
       "      <th>0</th>\n",
       "      <td>0</td>\n",
       "      <td>10000.0</td>\n",
       "      <td>0</td>\n",
       "      <td>11.44</td>\n",
       "      <td>329.48</td>\n",
       "      <td>117000.0</td>\n",
       "      <td>0</td>\n",
       "      <td>26.24</td>\n",
       "      <td>16.0</td>\n",
       "      <td>0.0</td>\n",
       "      <td>...</td>\n",
       "      <td>1990</td>\n",
       "      <td>0</td>\n",
       "      <td>0</td>\n",
       "      <td>1</td>\n",
       "      <td>0</td>\n",
       "      <td>0</td>\n",
       "      <td>0</td>\n",
       "      <td>0</td>\n",
       "      <td>0</td>\n",
       "      <td>0</td>\n",
       "    </tr>\n",
       "    <tr>\n",
       "      <th>1</th>\n",
       "      <td>1</td>\n",
       "      <td>8000.0</td>\n",
       "      <td>0</td>\n",
       "      <td>11.99</td>\n",
       "      <td>265.68</td>\n",
       "      <td>65000.0</td>\n",
       "      <td>0</td>\n",
       "      <td>22.05</td>\n",
       "      <td>17.0</td>\n",
       "      <td>0.0</td>\n",
       "      <td>...</td>\n",
       "      <td>2004</td>\n",
       "      <td>1</td>\n",
       "      <td>0</td>\n",
       "      <td>0</td>\n",
       "      <td>0</td>\n",
       "      <td>0</td>\n",
       "      <td>0</td>\n",
       "      <td>0</td>\n",
       "      <td>0</td>\n",
       "      <td>0</td>\n",
       "    </tr>\n",
       "    <tr>\n",
       "      <th>2</th>\n",
       "      <td>2</td>\n",
       "      <td>15600.0</td>\n",
       "      <td>0</td>\n",
       "      <td>10.49</td>\n",
       "      <td>506.97</td>\n",
       "      <td>43057.0</td>\n",
       "      <td>0</td>\n",
       "      <td>12.79</td>\n",
       "      <td>13.0</td>\n",
       "      <td>0.0</td>\n",
       "      <td>...</td>\n",
       "      <td>2007</td>\n",
       "      <td>1</td>\n",
       "      <td>0</td>\n",
       "      <td>0</td>\n",
       "      <td>0</td>\n",
       "      <td>0</td>\n",
       "      <td>0</td>\n",
       "      <td>0</td>\n",
       "      <td>0</td>\n",
       "      <td>0</td>\n",
       "    </tr>\n",
       "    <tr>\n",
       "      <th>3</th>\n",
       "      <td>3</td>\n",
       "      <td>7200.0</td>\n",
       "      <td>0</td>\n",
       "      <td>6.49</td>\n",
       "      <td>220.65</td>\n",
       "      <td>54000.0</td>\n",
       "      <td>0</td>\n",
       "      <td>2.60</td>\n",
       "      <td>6.0</td>\n",
       "      <td>0.0</td>\n",
       "      <td>...</td>\n",
       "      <td>2006</td>\n",
       "      <td>0</td>\n",
       "      <td>0</td>\n",
       "      <td>0</td>\n",
       "      <td>0</td>\n",
       "      <td>0</td>\n",
       "      <td>0</td>\n",
       "      <td>0</td>\n",
       "      <td>0</td>\n",
       "      <td>0</td>\n",
       "    </tr>\n",
       "    <tr>\n",
       "      <th>4</th>\n",
       "      <td>4</td>\n",
       "      <td>24375.0</td>\n",
       "      <td>1</td>\n",
       "      <td>17.27</td>\n",
       "      <td>609.33</td>\n",
       "      <td>55000.0</td>\n",
       "      <td>1</td>\n",
       "      <td>33.95</td>\n",
       "      <td>13.0</td>\n",
       "      <td>0.0</td>\n",
       "      <td>...</td>\n",
       "      <td>1999</td>\n",
       "      <td>0</td>\n",
       "      <td>1</td>\n",
       "      <td>0</td>\n",
       "      <td>0</td>\n",
       "      <td>0</td>\n",
       "      <td>0</td>\n",
       "      <td>0</td>\n",
       "      <td>0</td>\n",
       "      <td>0</td>\n",
       "    </tr>\n",
       "  </tbody>\n",
       "</table>\n",
       "<p>5 rows × 83 columns</p>\n",
       "</div>"
      ],
      "text/plain": [
       "   Unnamed: 0  loan_amnt  term  int_rate  installment  annual_inc  \\\n",
       "0           0    10000.0     0     11.44       329.48    117000.0   \n",
       "1           1     8000.0     0     11.99       265.68     65000.0   \n",
       "2           2    15600.0     0     10.49       506.97     43057.0   \n",
       "3           3     7200.0     0      6.49       220.65     54000.0   \n",
       "4           4    24375.0     1     17.27       609.33     55000.0   \n",
       "\n",
       "   loan_status    dti  open_acc  pub_rec  ...  cr_year  05113  11650  22690  \\\n",
       "0            0  26.24      16.0      0.0  ...     1990      0      0      1   \n",
       "1            0  22.05      17.0      0.0  ...     2004      1      0      0   \n",
       "2            0  12.79      13.0      0.0  ...     2007      1      0      0   \n",
       "3            0   2.60       6.0      0.0  ...     2006      0      0      0   \n",
       "4            1  33.95      13.0      0.0  ...     1999      0      1      0   \n",
       "\n",
       "   29597  30723  48052  70466  86630  93700  \n",
       "0      0      0      0      0      0      0  \n",
       "1      0      0      0      0      0      0  \n",
       "2      0      0      0      0      0      0  \n",
       "3      0      0      0      0      0      0  \n",
       "4      0      0      0      0      0      0  \n",
       "\n",
       "[5 rows x 83 columns]"
      ]
     },
     "execution_count": 6,
     "metadata": {},
     "output_type": "execute_result"
    }
   ],
   "source": [
    "df.head(5)"
   ]
  },
  {
   "cell_type": "code",
   "execution_count": 7,
   "metadata": {
    "hidden": true
   },
   "outputs": [
    {
     "data": {
      "text/plain": [
       "array([0, 0, 0, ..., 0, 0, 0], dtype=int64)"
      ]
     },
     "execution_count": 7,
     "metadata": {},
     "output_type": "execute_result"
    }
   ],
   "source": [
    "df[\"loan_status\"].values"
   ]
  },
  {
   "cell_type": "code",
   "execution_count": 8,
   "metadata": {
    "hidden": true
   },
   "outputs": [
    {
     "data": {
      "text/plain": [
       "0    317696\n",
       "1     77523\n",
       "Name: loan_status, dtype: int64"
      ]
     },
     "execution_count": 8,
     "metadata": {},
     "output_type": "execute_result"
    }
   ],
   "source": [
    "df[\"loan_status\"].value_counts()"
   ]
  },
  {
   "cell_type": "code",
   "execution_count": 21,
   "metadata": {
    "hidden": true
   },
   "outputs": [],
   "source": [
    "X = df.drop('loan_status',axis=1)\n",
    "y = df['loan_status']"
   ]
  },
  {
   "cell_type": "code",
   "execution_count": 22,
   "metadata": {
    "hidden": true
   },
   "outputs": [],
   "source": [
    "# label encode the target variable to have the classes 0 and 1\n",
    "y = LabelEncoder().fit_transform(y)"
   ]
  },
  {
   "cell_type": "code",
   "execution_count": 23,
   "metadata": {
    "hidden": true
   },
   "outputs": [
    {
     "name": "stdout",
     "output_type": "stream",
     "text": [
      "(395219, 82) (395219,)\n"
     ]
    }
   ],
   "source": [
    "print(X.shape, y.shape)"
   ]
  },
  {
   "cell_type": "code",
   "execution_count": 24,
   "metadata": {
    "hidden": true
   },
   "outputs": [
    {
     "name": "stdout",
     "output_type": "stream",
     "text": [
      "395219\n",
      "82\n"
     ]
    }
   ],
   "source": [
    "print(X.shape[0])\n",
    "print(X.shape[1])"
   ]
  },
  {
   "cell_type": "markdown",
   "metadata": {
    "heading_collapsed": true
   },
   "source": [
    "### Class Ratio Calculation"
   ]
  },
  {
   "cell_type": "code",
   "execution_count": 25,
   "metadata": {
    "hidden": true
   },
   "outputs": [
    {
     "name": "stdout",
     "output_type": "stream",
     "text": [
      "4.098087019336197\n"
     ]
    }
   ],
   "source": [
    "from collections import Counter\n",
    "counter = Counter(y)\n",
    "weight = counter[0] / counter[1]\n",
    "print (weight)"
   ]
  },
  {
   "cell_type": "markdown",
   "metadata": {
    "heading_collapsed": true
   },
   "source": [
    "### Classical Model Generation Function"
   ]
  },
  {
   "cell_type": "code",
   "execution_count": 26,
   "metadata": {
    "hidden": true
   },
   "outputs": [],
   "source": [
    "# define models to test\n",
    "def get_models():\n",
    "    models = list()\n",
    "    # LR\n",
    "    models.append(('LR', LogisticRegression(solver='lbfgs')))\n",
    "    # LDA\n",
    "    models.append(('LDA', LinearDiscriminantAnalysis()))\n",
    "    #KNN\n",
    "    models.append(('KNN', KNeighborsClassifier()))\n",
    "    #NB\n",
    "    models.append(('NB', GaussianNB()))\n",
    "    #CART\n",
    "    models.append(('CART', DecisionTreeClassifier()))\n",
    "    if X.shape[0] < 100000:\n",
    "        #SVM\n",
    "        models.append(('SVM', SVC(gamma='auto')))\n",
    "\n",
    "    return models"
   ]
  },
  {
   "cell_type": "markdown",
   "metadata": {
    "heading_collapsed": true
   },
   "source": [
    "### Ensemble Model Generation Function"
   ]
  },
  {
   "cell_type": "code",
   "execution_count": 27,
   "metadata": {
    "hidden": true
   },
   "outputs": [],
   "source": [
    "# define models to test\n",
    "def get_ensemble_models():\n",
    "    models = list()\n",
    "    #XGB\n",
    "    models.append(('XGB', XGBClassifier()))\n",
    "    #SGD\n",
    "    models.append(('SGD', SGDClassifier()))\n",
    "    #ADA\n",
    "    models.append(('AD', AdaBoostClassifier())) \n",
    "    #ET \n",
    "    models.append(('ET', ExtraTreesClassifier()))\n",
    "    #RF\n",
    "    models.append(('RF', RandomForestClassifier(n_estimators=1000)))\n",
    "    #GBM\n",
    "    models.append(('GBM', GradientBoostingClassifier(n_estimators=1000)))\n",
    "    \n",
    "    return models"
   ]
  },
  {
   "cell_type": "markdown",
   "metadata": {
    "heading_collapsed": true
   },
   "source": [
    "### Balanced Model Generation Function"
   ]
  },
  {
   "cell_type": "code",
   "execution_count": 28,
   "metadata": {
    "hidden": true
   },
   "outputs": [],
   "source": [
    "# define models to test\n",
    "def get_balanced_models():\n",
    "    models = list()\n",
    "    #XGB\n",
    "    models.append(('XGB_W', XGBClassifier(scale_pos_weight=weight)))    \n",
    "    #LR\n",
    "    models.append(('LR_Bal', LogisticRegression(solver='lbfgs', class_weight='balanced'))) \n",
    "    if X.shape[0] < 100000:\n",
    "        #SVM Balanced\n",
    "        models.append(('SVM_Bal', SVC(gamma='scale', class_weight='balanced')))    \n",
    "        #SVM Weight\n",
    "        models.append(('SVM_W', SVC(gamma='scale', class_weight=weights)))    \n",
    "    #Balanced RF\n",
    "    models.append(('Bal_RF', BalancedRandomForestClassifier(n_estimators=1000)))      \n",
    "    #RF\n",
    "    models.append(('RF_Bal', RandomForestClassifier(n_estimators=1000, class_weight='balanced')))\n",
    "\n",
    "    return models"
   ]
  },
  {
   "cell_type": "markdown",
   "metadata": {
    "heading_collapsed": true
   },
   "source": [
    "### Normality Test"
   ]
  },
  {
   "cell_type": "code",
   "execution_count": 29,
   "metadata": {
    "hidden": true
   },
   "outputs": [],
   "source": [
    "def is_normal(data):\n",
    "    alpha = 0.05\n",
    "    stat, p = normaltest(data)\n",
    "    if p > alpha:\n",
    "        normalTest = True\n",
    "    else:\n",
    "        normalTest = False\n",
    "    \n",
    "    stat, p = shapiro(data)\n",
    "    if p > alpha:\n",
    "        shapiroTest = True\n",
    "    else:\n",
    "        shapiroTest = False\n",
    "        \n",
    "    return normalTest and shapiroTest"
   ]
  },
  {
   "cell_type": "code",
   "execution_count": 30,
   "metadata": {
    "hidden": true
   },
   "outputs": [
    {
     "name": "stderr",
     "output_type": "stream",
     "text": [
      "Z:\\ProgramData\\Anaconda3\\lib\\site-packages\\scipy\\stats\\morestats.py:1681: UserWarning: p-value may not be accurate for N > 5000.\n",
      "  warnings.warn(\"p-value may not be accurate for N > 5000.\")\n"
     ]
    },
    {
     "name": "stdout",
     "output_type": "stream",
     "text": [
      "Gaussian Like columns: []\n",
      "Non-Gaussian Like columns: ['Unnamed: 0', 'loan_amnt', 'term', 'int_rate', 'installment', 'annual_inc', 'dti', 'open_acc', 'pub_rec', 'revol_bal', 'revol_util', 'total_acc', 'mort_acc', 'pub_rec_bankruptcies', 'A2', 'A3', 'A4', 'A5', 'B1', 'B2', 'B3', 'B4', 'B5', 'C1', 'C2', 'C3', 'C4', 'C5', 'D1', 'D2', 'D3', 'D4', 'D5', 'E1', 'E2', 'E3', 'E4', 'E5', 'F1', 'F2', 'F3', 'F4', 'F5', 'G1', 'G2', 'G3', 'G4', 'G5', 'OTHER', 'OWN', 'RENT', 'verification_status_Source Verified', 'verification_status_Verified', 'application_type_INDIVIDUAL', 'application_type_JOINT', 'initial_list_status_w', 'purpose_credit_card', 'purpose_debt_consolidation', 'purpose_educational', 'purpose_home_improvement', 'purpose_house', 'purpose_major_purchase', 'purpose_medical', 'purpose_moving', 'purpose_other', 'purpose_renewable_energy', 'purpose_small_business', 'purpose_vacation', 'purpose_wedding', 'issue_month', 'issue_year', 'cr_month', 'cr_year', '05113', '11650', '22690', '29597', '30723', '48052', '70466', '86630', '93700']\n"
     ]
    }
   ],
   "source": [
    "Gaussian_Like = []\n",
    "Non_Gaussian = []\n",
    "\n",
    "for i, name in enumerate (X.columns):\n",
    "    if is_normal(X[name]):\n",
    "        Gaussian_Like.append(name)\n",
    "    else:\n",
    "        Non_Gaussian.append(name)\n",
    "        \n",
    "print (f\"Gaussian Like columns: {Gaussian_Like}\")\n",
    "print (f\"Non-Gaussian Like columns: {Non_Gaussian}\")"
   ]
  },
  {
   "cell_type": "code",
   "execution_count": null,
   "metadata": {
    "hidden": true
   },
   "outputs": [],
   "source": [
    "# Standardize Only Gaussian-Like Input Variables\n",
    "# Normalize Only Non-Gaussian Input Variables"
   ]
  },
  {
   "cell_type": "code",
   "execution_count": null,
   "metadata": {
    "hidden": true
   },
   "outputs": [],
   "source": [
    "if len(Gaussian_Like)> 0 and len(Non_Gaussian) > 0:\n",
    "    print(\"Normality Function is working\")"
   ]
  },
  {
   "cell_type": "markdown",
   "metadata": {
    "heading_collapsed": true
   },
   "source": [
    "### Sample Generation Models"
   ]
  },
  {
   "cell_type": "code",
   "execution_count": 33,
   "metadata": {
    "hidden": true
   },
   "outputs": [],
   "source": [
    "def get_sampling_models():\n",
    "    models = list()\n",
    "    # SMOTETomek\n",
    "    models.append((\"SMOTETomek\", SMOTETomek(tomek=TomekLinks(sampling_strategy='majority'))))\n",
    "    #SMOTEENN\n",
    "    models.append((\"SMOTEENN\", SMOTEENN()))\n",
    "    return models"
   ]
  },
  {
   "cell_type": "code",
   "execution_count": 34,
   "metadata": {
    "hidden": true
   },
   "outputs": [],
   "source": [
    "# define models to test\n",
    "def get_xgb_sampling_models():\n",
    "    models = list()\n",
    "    #SMOTEENN\n",
    "    sampling = SMOTEENN(enn=EditedNearestNeighbours(sampling_strategy='majority'))\n",
    "    model = XGBClassifier()\n",
    "    steps = [('e', sampling), ('m', model)]\n",
    "    models.append(('XGB-Sampling',Pipeline(steps=steps)))\n",
    "    #SMOTEENN + Norm\n",
    "    sampling = SMOTEENN(enn=EditedNearestNeighbours(sampling_strategy='majority'))\n",
    "    model = XGBClassifier()\n",
    "    steps = [('t', MinMaxScaler()), ('e', sampling), ('m', model)]\n",
    "    models.append(('XGB-Norm-Sampling', Pipeline(steps=steps)))\n",
    "    #SMOTEENN + Std\n",
    "    sampling = SMOTEENN(enn=EditedNearestNeighbours(sampling_strategy='majority'))\n",
    "    model = XGBClassifier()\n",
    "    steps = [('t', StandardScaler()), ('e', sampling), ('m', model)]\n",
    "    models.append(('XGB-Std_Sampling', Pipeline(steps=steps)))\n",
    "    #SMOTEENN + Power\n",
    "    sampling = SMOTEENN(enn=EditedNearestNeighbours(sampling_strategy='majority'))\n",
    "    model = XGBClassifier()\n",
    "    steps = [('t1', MinMaxScaler()), ('t2', PowerTransformer()), ('e', sampling), ('m', model)]\n",
    "    models.append(('XGB-Norm-Power-Sampling', Pipeline(steps=steps)))\n",
    "    \n",
    "    return models, names"
   ]
  },
  {
   "cell_type": "markdown",
   "metadata": {
    "heading_collapsed": true
   },
   "source": [
    "### Model Evaluation Function"
   ]
  },
  {
   "cell_type": "code",
   "execution_count": 35,
   "metadata": {
    "hidden": true
   },
   "outputs": [],
   "source": [
    "# evaluate a model\n",
    "def evaluate_model(X, y, model):\n",
    "    # define evaluation procedure\n",
    "    cv = RepeatedStratifiedKFold(n_splits=10, n_repeats=3, random_state=1)\n",
    "        # evaluate model\n",
    "    scores = cross_val_score(model, X, y, scoring='f1_micro', cv=cv, n_jobs=-1)\n",
    "    #print('F-measure: %.3f' % score)\n",
    "    return scores"
   ]
  },
  {
   "cell_type": "markdown",
   "metadata": {
    "heading_collapsed": true
   },
   "source": [
    "### Spot Check Algorithms"
   ]
  },
  {
   "cell_type": "code",
   "execution_count": 36,
   "metadata": {
    "hidden": true
   },
   "outputs": [
    {
     "name": "stdout",
     "output_type": "stream",
     "text": [
      "F-measure of LR: 0.804\n",
      "F-measure of LDA: 0.888\n",
      "F-measure of KNN: 0.771\n",
      "F-measure of NB: 0.804\n",
      "F-measure of CART: 0.831\n",
      "Execution time :  0:09:10.509524\n"
     ]
    }
   ],
   "source": [
    "init_time = datetime.now()\n",
    "models = get_models()\n",
    "for name, model in models:\n",
    "    scores = evaluate_model(X, y, model)\n",
    "    print(f\"F-measure of {name}: {mean(scores):.3f}\")\n",
    "    \n",
    "fin_time = datetime.now()\n",
    "print(\"Execution time : \", (fin_time-init_time))"
   ]
  },
  {
   "cell_type": "markdown",
   "metadata": {
    "heading_collapsed": true
   },
   "source": [
    "### Spot  Check Algorithms with Normalization"
   ]
  },
  {
   "cell_type": "code",
   "execution_count": 37,
   "metadata": {
    "hidden": true
   },
   "outputs": [
    {
     "name": "stdout",
     "output_type": "stream",
     "text": [
      "F-measure of LR: 0.889\n",
      "F-measure of LDA: 0.888\n",
      "F-measure of KNN: 0.866\n",
      "F-measure of NB: 0.865\n",
      "F-measure of CART: 0.830\n",
      "Execution time :  6:32:28.956152\n"
     ]
    }
   ],
   "source": [
    "init_time = datetime.now()\n",
    "models = get_models()\n",
    "for name, model in models:\n",
    "    # define pipeline\n",
    "    pipeline = Pipeline(steps=[('norm', MinMaxScaler()), ('m', model)])\n",
    "    scores = evaluate_model(X, y, pipeline)\n",
    "    print(f\"F-measure of {name}: {mean(scores):.3f}\")\n",
    "fin_time = datetime.now()\n",
    "print(\"Execution time : \", (fin_time-init_time))"
   ]
  },
  {
   "cell_type": "markdown",
   "metadata": {
    "heading_collapsed": true
   },
   "source": [
    "### Spot  Check Algorithms with Standardization"
   ]
  },
  {
   "cell_type": "code",
   "execution_count": null,
   "metadata": {
    "hidden": true
   },
   "outputs": [],
   "source": [
    "init_time = datetime.now()\n",
    "models = get_models()\n",
    "for name, model in models:\n",
    "    # define pipeline\n",
    "    pipeline = Pipeline(steps=[('Stnd', StandardScaler()), ('m', model)])\n",
    "    scores = evaluate_model(X, y, pipeline)\n",
    "    print(f\"F-measure of {name}: {mean(scores):.3f}\")\n",
    "fin_time = datetime.now()\n",
    "print(\"Execution time : \", (fin_time-init_time))"
   ]
  },
  {
   "cell_type": "markdown",
   "metadata": {
    "heading_collapsed": true
   },
   "source": [
    "### Spot Check Ensemble Algorithms"
   ]
  },
  {
   "cell_type": "code",
   "execution_count": 38,
   "metadata": {
    "hidden": true
   },
   "outputs": [
    {
     "name": "stdout",
     "output_type": "stream",
     "text": [
      "F-measure of XGB: 0.890\n",
      "F-measure of SGD: 0.727\n",
      "F-measure of AD: 0.889\n",
      "F-measure of ET: 0.888\n",
      "F-measure of RF: 0.889\n",
      "F-measure of GBM: 0.890\n",
      "Execution time :  11:11:38.949747\n"
     ]
    }
   ],
   "source": [
    "init_time = datetime.now()\n",
    "models = get_ensemble_models()\n",
    "for name, model in models:\n",
    "    scores = evaluate_model(X, y, model)\n",
    "    print(f\"F-measure of {name}: {mean(scores):.3f}\")\n",
    "fin_time = datetime.now()\n",
    "print(\"Execution time : \", (fin_time-init_time))"
   ]
  },
  {
   "cell_type": "markdown",
   "metadata": {
    "heading_collapsed": true
   },
   "source": [
    "### Spot Check Ensemble Algorithms with Normalization"
   ]
  },
  {
   "cell_type": "code",
   "execution_count": null,
   "metadata": {
    "hidden": true
   },
   "outputs": [],
   "source": [
    "init_time = datetime.now()\n",
    "models = get_ensemble_models()\n",
    "for name, model in models:\n",
    "    # define pipeline\n",
    "    pipeline = Pipeline(steps=[('norm', MinMaxScaler()), ('m', model)])\n",
    "    scores = evaluate_model(X, y, pipeline)\n",
    "    print(f\"F-measure of {name}: {mean(scores):.3f}\")\n",
    "fin_time = datetime.now()\n",
    "print(\"Execution time : \", (fin_time-init_time))"
   ]
  },
  {
   "cell_type": "markdown",
   "metadata": {
    "heading_collapsed": true
   },
   "source": [
    "### Spot Check Ensemble Algorithms with Standardization"
   ]
  },
  {
   "cell_type": "code",
   "execution_count": null,
   "metadata": {
    "hidden": true
   },
   "outputs": [],
   "source": [
    "init_time = datetime.now()\n",
    "models = get_ensemble_models()\n",
    "for name, model in models:\n",
    "    # define pipeline\n",
    "    pipeline = Pipeline(steps=[('Stnd', StandardScaler()), ('m', model)])\n",
    "    scores = evaluate_model(X, y, pipeline)\n",
    "    print(f\"F-measure of {name}: {mean(scores):.3f}\")\n",
    "fin_time = datetime.now()\n",
    "print(\"Execution time : \", (fin_time-init_time))"
   ]
  },
  {
   "cell_type": "markdown",
   "metadata": {
    "heading_collapsed": true
   },
   "source": [
    "### Spot Check Balanced Model Algorithms"
   ]
  },
  {
   "cell_type": "code",
   "execution_count": null,
   "metadata": {
    "hidden": true
   },
   "outputs": [],
   "source": [
    "init_time = datetime.now()\n",
    "models = get_balanced_models()\n",
    "for name, model in models:\n",
    "    scores = evaluate_model(X, y, model)\n",
    "    print(f\"F-measure of {name}: {mean(scores):.3f}\")\n",
    "fin_time = datetime.now()\n",
    "print(\"Execution time : \", (fin_time-init_time))"
   ]
  },
  {
   "cell_type": "markdown",
   "metadata": {
    "heading_collapsed": true
   },
   "source": [
    "### Spot Check Balanced Model Algorithms with Normalization"
   ]
  },
  {
   "cell_type": "code",
   "execution_count": null,
   "metadata": {
    "hidden": true
   },
   "outputs": [],
   "source": [
    "init_time = datetime.now()\n",
    "models = get_balanced_models()\n",
    "for name, model in models:\n",
    "    # define pipeline\n",
    "    pipeline = Pipeline(steps=[('norm', MinMaxScaler()), ('m', model)])\n",
    "    scores = evaluate_model(X, y, pipeline)\n",
    "    print(f\"F-measure of {name}: {mean(scores):.3f}\")\n",
    "fin_time = datetime.now()\n",
    "print(\"Execution time : \", (fin_time-init_time))"
   ]
  },
  {
   "cell_type": "markdown",
   "metadata": {
    "heading_collapsed": true
   },
   "source": [
    "### Spot Check Balanced Model Algorithms with Standardization"
   ]
  },
  {
   "cell_type": "code",
   "execution_count": null,
   "metadata": {
    "hidden": true
   },
   "outputs": [],
   "source": [
    "init_time = datetime.now()\n",
    "models = get_balanced_models()\n",
    "for name, model in models:\n",
    "    # define pipeline\n",
    "    pipeline = Pipeline(steps=[('Stnd', StandardScaler()), ('m', model)])\n",
    "    scores = evaluate_model(X, y, pipeline)\n",
    "    print(f\"F-measure of {name}: {mean(scores):.3f}\")\n",
    "fin_time = datetime.now()\n",
    "print(\"Execution time : \", (fin_time-init_time))"
   ]
  },
  {
   "cell_type": "markdown",
   "metadata": {
    "heading_collapsed": true
   },
   "source": [
    "### Raw XGB Classifier Testing"
   ]
  },
  {
   "cell_type": "code",
   "execution_count": 24,
   "metadata": {
    "hidden": true
   },
   "outputs": [
    {
     "name": "stdout",
     "output_type": "stream",
     "text": [
      "F-measure of XGB: 0.889\n"
     ]
    }
   ],
   "source": [
    "init_time = datetime.now()\n",
    "model = XGBClassifier()\n",
    "scores = evaluate_model(X, y, model)\n",
    "print(f\"F-measure of XGB: {mean(scores):.3f}\")\n",
    "fin_time = datetime.now()\n",
    "print(\"Execution time : \", (fin_time-init_time))"
   ]
  },
  {
   "cell_type": "markdown",
   "metadata": {
    "heading_collapsed": true
   },
   "source": [
    "### Scale Weighted XGB Classifier Testing"
   ]
  },
  {
   "cell_type": "code",
   "execution_count": 25,
   "metadata": {
    "hidden": true
   },
   "outputs": [
    {
     "name": "stdout",
     "output_type": "stream",
     "text": [
      "F-measure of Weighted XGB: 0.810\n"
     ]
    }
   ],
   "source": [
    "init_time = datetime.now()\n",
    "model = XGBClassifier(scale_pos_weight=weight)\n",
    "scores = evaluate_model(X, y, model)\n",
    "print(f\"F-measure of Weighted XGB: {mean(scores):.3f}\")\n",
    "fin_time = datetime.now()\n",
    "print(\"Execution time : \", (fin_time-init_time))"
   ]
  },
  {
   "cell_type": "code",
   "execution_count": 27,
   "metadata": {
    "hidden": true
   },
   "outputs": [
    {
     "name": "stdout",
     "output_type": "stream",
     "text": [
      "F-measure of Weighted XGB: 0.782\n"
     ]
    }
   ],
   "source": [
    "init_time = datetime.now()\n",
    "model = XGBClassifier(scale_pos_weight=5)\n",
    "scores = evaluate_model(X, y, model)\n",
    "print(f\"F-measure of Weighted XGB: {mean(scores):.3f}\")\n",
    "fin_time = datetime.now()\n",
    "print(\"Execution time : \", (fin_time-init_time))"
   ]
  },
  {
   "cell_type": "markdown",
   "metadata": {
    "heading_collapsed": true
   },
   "source": [
    "### XGB with Normalization"
   ]
  },
  {
   "cell_type": "code",
   "execution_count": 28,
   "metadata": {
    "hidden": true
   },
   "outputs": [
    {
     "name": "stdout",
     "output_type": "stream",
     "text": [
      "F-measure of XGB + Norm: 0.889\n"
     ]
    }
   ],
   "source": [
    "init_time = datetime.now()\n",
    "# define model\n",
    "model = XGBClassifier()\n",
    "# define pipeline\n",
    "pipeline = Pipeline(steps=[('norm', MinMaxScaler()), ('m', model)])\n",
    "scores = evaluate_model(X, y, pipeline)\n",
    "print(f\"F-measure of XGB + Norm: {mean(scores):.3f}\")\n",
    "fin_time = datetime.now()\n",
    "print(\"Execution time : \", (fin_time-init_time))"
   ]
  },
  {
   "cell_type": "markdown",
   "metadata": {
    "heading_collapsed": true
   },
   "source": [
    "### XGB with Standardization"
   ]
  },
  {
   "cell_type": "code",
   "execution_count": 29,
   "metadata": {
    "hidden": true
   },
   "outputs": [
    {
     "name": "stdout",
     "output_type": "stream",
     "text": [
      "F-measure of XGB + Standardization: 0.889\n"
     ]
    }
   ],
   "source": [
    "init_time = datetime.now()\n",
    "# define model\n",
    "model = XGBClassifier()\n",
    "# define pipeline\n",
    "pipeline = Pipeline(steps=[('Stnd', StandardScaler()), ('m', model)])\n",
    "scores = evaluate_model(X, y, pipeline)\n",
    "print(f\"F-measure of XGB + Standardization: {mean(scores):.3f}\")\n",
    "fin_time = datetime.now()\n",
    "print(\"Execution time : \", (fin_time-init_time))"
   ]
  },
  {
   "cell_type": "markdown",
   "metadata": {
    "heading_collapsed": true
   },
   "source": [
    "### XGB with Normalization & Standardization"
   ]
  },
  {
   "cell_type": "code",
   "execution_count": 30,
   "metadata": {
    "hidden": true
   },
   "outputs": [
    {
     "name": "stdout",
     "output_type": "stream",
     "text": [
      "F-measure of XGB + Norm + sampling: 0.889\n"
     ]
    }
   ],
   "source": [
    "init_time = datetime.now()\n",
    "# define model\n",
    "model = XGBClassifier()\n",
    "# define pipeline\n",
    "pipeline = Pipeline(steps=[('Stnd', StandardScaler()), ('norm', MinMaxScaler()), ('m', model)])\n",
    "scores = evaluate_model(X, y, pipeline)\n",
    "print(f\"F-measure of XGB + Norm + Stand: {mean(scores):.3f}\")\n",
    "fin_time = datetime.now()\n",
    "print(\"Execution time : \", (fin_time-init_time))"
   ]
  },
  {
   "cell_type": "markdown",
   "metadata": {
    "heading_collapsed": true
   },
   "source": [
    "### Normalize Only Non-Gaussian Input Variables"
   ]
  },
  {
   "cell_type": "code",
   "execution_count": null,
   "metadata": {
    "hidden": true
   },
   "outputs": [],
   "source": [
    "if len(Gaussian_Like)> 0 and len(Non_Gaussian) > 0:\n",
    "    init_time = datetime.now()\n",
    "    # define the selective transforms\n",
    "    t = [('e', MinMaxScaler(), Non_Gaussian)]\n",
    "    selective = ColumnTransformer(transformers=t, remainder='passthrough')\n",
    "    # define pipeline\n",
    "    model = XGBRegressor()\n",
    "    # define pipeline\n",
    "    pipeline = Pipeline(steps=[('s', selective), ('m', model)])\n",
    "    scores = evaluate_model(X, y, pipeline)\n",
    "    display_scores(scores)\n",
    "    fin_time = datetime.now()\n",
    "    print(\"Execution time : \", (fin_time-init_time))"
   ]
  },
  {
   "cell_type": "markdown",
   "metadata": {
    "heading_collapsed": true
   },
   "source": [
    "### Standardize Only Gaussian-Like Input Variables"
   ]
  },
  {
   "cell_type": "code",
   "execution_count": null,
   "metadata": {
    "hidden": true
   },
   "outputs": [],
   "source": [
    "if len(Gaussian_Like)> 0 and len(Non_Gaussian) > 0:\n",
    "    init_time = datetime.now()\n",
    "    # define the selective transforms\n",
    "    t = [('n', StandardScaler(), Gaussian_Like)]\n",
    "    selective = ColumnTransformer(transformers=t, remainder='passthrough')\n",
    "    # define pipeline\n",
    "    model = XGBRegressor()\n",
    "    # define pipeline\n",
    "    pipeline = Pipeline(steps=[('s', selective), ('m', model)])\n",
    "    scores = evaluate_model(X, y, pipeline)\n",
    "    display_scores(scores)\n",
    "    fin_time = datetime.now()\n",
    "    print(\"Execution time : \", (fin_time-init_time))"
   ]
  },
  {
   "cell_type": "markdown",
   "metadata": {
    "heading_collapsed": true
   },
   "source": [
    "### XGB with Selectively Normalize and Standardize Input Variables"
   ]
  },
  {
   "cell_type": "code",
   "execution_count": null,
   "metadata": {
    "hidden": true
   },
   "outputs": [],
   "source": [
    "if len(Gaussian_Like)> 0 and len(Non_Gaussian) > 0:\n",
    "    init_time = datetime.now()\n",
    "    # define the selective transforms\n",
    "    t = [('e', MinMaxScaler(), Non_Gaussian), ('n', StandardScaler(), Gaussian_Like)]\n",
    "    selective = ColumnTransformer(transformers=t)\n",
    "    # define pipeline\n",
    "    model = XGBRegressor()\n",
    "    # define pipeline\n",
    "    pipeline = Pipeline(steps=[('s', selective), ('m', model)])\n",
    "    scores = evaluate_model(X, y, pipeline)\n",
    "    display_scores(scores)\n",
    "    fin_time = datetime.now()\n",
    "    print(\"Execution time : \", (fin_time-init_time))"
   ]
  },
  {
   "cell_type": "markdown",
   "metadata": {
    "heading_collapsed": true
   },
   "source": [
    "### XGB with PowerTransformer/QuantileTransformer"
   ]
  },
  {
   "cell_type": "code",
   "execution_count": 31,
   "metadata": {
    "hidden": true
   },
   "outputs": [
    {
     "name": "stdout",
     "output_type": "stream",
     "text": [
      "F-measure of XGB + PowerTransformer : 0.889\n"
     ]
    }
   ],
   "source": [
    "init_time = datetime.now()\n",
    "# define model\n",
    "model = XGBClassifier()\n",
    "# define pipeline\n",
    "#trans = QuantileTransformer(n_quantiles=100, output_distribution='normal')\n",
    "#output_distribution='uniform', 'normal'\n",
    "pipeline = Pipeline(steps=[('t', PowerTransformer()), ('m', model)])\n",
    "scores = evaluate_model(X, y, pipeline)\n",
    "print(f\"F-measure of XGB + PowerTransformer : {mean(scores):.3f}\")\n",
    "fin_time = datetime.now()\n",
    "print(\"Execution time : \", (fin_time-init_time))"
   ]
  },
  {
   "cell_type": "markdown",
   "metadata": {},
   "source": [
    "### XGB with PCA & Outlier Removal"
   ]
  },
  {
   "cell_type": "code",
   "execution_count": null,
   "metadata": {},
   "outputs": [],
   "source": [
    "init_time = datetime.now()\n",
    "# get a list of models to evaluate\n",
    "def get_models():\n",
    "    models = dict()\n",
    "    for i in range(1,X.shape[1]):\n",
    "        steps = [('pca', PCA(n_components=i)), ('m', XGBRegressor())]\n",
    "        #steps = [('svd', TruncatedSVD(n_components=i)), ('m', XGBRegressor())]\n",
    "        models[str(i)] = Pipeline(steps=steps)\n",
    "    return models\n",
    "\n",
    "# get the models to evaluate\n",
    "models = get_models() \n",
    "# evaluate the models and store results\n",
    "results, names = list(), list()\n",
    "for name, model in models.items():\n",
    "    scores = evaluate_model(X, y, model)\n",
    "    scores = np.sqrt(-scores)\n",
    "    results.append(scores.mean())\n",
    "    names.append(name)\n",
    "\n",
    "maxIndex = results.index(max(results))\n",
    "print(f\"RMSE of PCA value {names[maxIndex]} is {results[maxIndex]}\")\n",
    "print(results, names)\n",
    "fin_time = datetime.now()\n",
    "print(\"Execution time : \", (fin_time-init_time))\n",
    "best_n_components = int(names[maxIndex])\n",
    "print(best_n_components)"
   ]
  },
  {
   "cell_type": "code",
   "execution_count": 24,
   "metadata": {},
   "outputs": [
    {
     "name": "stdout",
     "output_type": "stream",
     "text": [
      "F-measure of XGB + PCA: 0.888\n"
     ]
    }
   ],
   "source": [
    "init_time = datetime.now()\n",
    "# define transform\n",
    "pca = PCA(n_components=best_n_components)\n",
    "# prepare transform on dataset\n",
    "pca.fit(X)\n",
    "# apply transform to dataset\n",
    "X_transformed = pca.transform(X)\n",
    "# identify outliers in the training dataset\n",
    "lof = LocalOutlierFactor()\n",
    "yhat = lof.fit_predict(X_transformed)\n",
    "# select all rows that are not outliers\n",
    "mask = yhat != -1\n",
    "X_transformed, y_transformed = X_transformed[mask, :], y[mask]\n",
    "# define model\n",
    "model = XGBClassifier()\n",
    "# evaluate the model\n",
    "scores = evaluate_model(X_transformed, y_transformed, model)\n",
    "\n",
    "print(f\"F-measure of XGB + PCA: {mean(scores):.3f}\")\n",
    "fin_time = datetime.now()\n",
    "print(\"Execution time : \", (fin_time-init_time))\n",
    "# n_components=40 -> 0.888"
   ]
  },
  {
   "cell_type": "markdown",
   "metadata": {
    "heading_collapsed": true
   },
   "source": [
    "### XGB with Normalization and PowerTransformer "
   ]
  },
  {
   "cell_type": "code",
   "execution_count": 26,
   "metadata": {
    "hidden": true
   },
   "outputs": [
    {
     "name": "stdout",
     "output_type": "stream",
     "text": [
      "F-measure of XGB + Norm + PowerTransformer: 0.889\n",
      "Execution time :  0:43:55.649322\n"
     ]
    }
   ],
   "source": [
    "init_time = datetime.now()\n",
    "# define model\n",
    "model = XGBClassifier()\n",
    "# define pipeline\n",
    "steps = list()\n",
    "steps.append(('norm', MinMaxScaler()))\n",
    "steps.append(('power', PowerTransformer()))\n",
    "steps.append(('m', model))\n",
    "pipeline = Pipeline(steps=steps)\n",
    "scores = evaluate_model(X, y, pipeline)\n",
    "print(f\"F-measure of XGB + Norm + PowerTransformer: {mean(scores):.3f}\")\n",
    "fin_time = datetime.now()\n",
    "print(\"Execution time : \", (fin_time-init_time))"
   ]
  },
  {
   "cell_type": "markdown",
   "metadata": {
    "heading_collapsed": true
   },
   "source": [
    "### XGB with Normalization & PCA "
   ]
  },
  {
   "cell_type": "code",
   "execution_count": 37,
   "metadata": {
    "hidden": true
   },
   "outputs": [
    {
     "name": "stdout",
     "output_type": "stream",
     "text": [
      "F-measure of XGB + Norm + PCA : 0.889\n",
      "Execution time :  1:59:51.619810\n"
     ]
    }
   ],
   "source": [
    "init_time = datetime.now()\n",
    "# define model\n",
    "model = XGBClassifier()\n",
    "# define pipeline\n",
    "steps = list()\n",
    "steps.append(('norm', MinMaxScaler()))\n",
    "steps.append(('pca', PCA()))\n",
    "steps.append(('m', model))\n",
    "pipeline = Pipeline(steps=steps)\n",
    "scores = evaluate_model(X, y, pipeline)\n",
    "print(f\"F-measure of XGB + Norm + PCA : {mean(scores):.3f}\")\n",
    "fin_time = datetime.now()\n",
    "print(\"Execution time : \", (fin_time-init_time))"
   ]
  },
  {
   "cell_type": "markdown",
   "metadata": {
    "heading_collapsed": true
   },
   "source": [
    "### XGB with Normalization, PCA and PowerTransformer "
   ]
  },
  {
   "cell_type": "code",
   "execution_count": 29,
   "metadata": {
    "hidden": true
   },
   "outputs": [
    {
     "name": "stdout",
     "output_type": "stream",
     "text": [
      "F-measure of XGB + Norm + Power + PCA: 0.887\n",
      "Execution time :  1:12:02.963438\n"
     ]
    }
   ],
   "source": [
    "init_time = datetime.now()\n",
    "# define model\n",
    "model = XGBClassifier()\n",
    "# define pipeline\n",
    "steps = list()\n",
    "steps.append(('norm', MinMaxScaler()))\n",
    "steps.append(('power', PowerTransformer()))\n",
    "steps.append(('pca', PCA(n_components=40)))\n",
    "steps.append(('m', model))\n",
    "pipeline = Pipeline(steps=steps)\n",
    "scores = evaluate_model(X, y, pipeline)\n",
    "print(f\"F-measure of XGB + Norm + Power + PCA: {mean(scores):.3f}\")\n",
    "fin_time = datetime.now()\n",
    "print(\"Execution time : \", (fin_time-init_time))"
   ]
  },
  {
   "cell_type": "code",
   "execution_count": null,
   "metadata": {
    "hidden": true
   },
   "outputs": [],
   "source": []
  },
  {
   "cell_type": "code",
   "execution_count": null,
   "metadata": {
    "hidden": true
   },
   "outputs": [],
   "source": []
  },
  {
   "cell_type": "markdown",
   "metadata": {
    "heading_collapsed": true
   },
   "source": [
    "### XGB with Sampling"
   ]
  },
  {
   "cell_type": "code",
   "execution_count": 11,
   "metadata": {
    "hidden": true
   },
   "outputs": [
    {
     "name": "stdout",
     "output_type": "stream",
     "text": [
      "F-measure of XGB + UnderSample : 0.868\n",
      "Execution time :  0:28:00.000010\n"
     ]
    }
   ],
   "source": [
    "from datetime import datetime\n",
    "from numpy import mean\n",
    "import numpy as np\n",
    "import pandas  as pd\n",
    "from sklearn.preprocessing import LabelEncoder\n",
    "from sklearn.model_selection import cross_val_score\n",
    "from sklearn.model_selection import RepeatedStratifiedKFold\n",
    "from imblearn.pipeline import Pipeline\n",
    "from sklearn.preprocessing import StandardScaler\n",
    "from sklearn.preprocessing import PowerTransformer\n",
    "from sklearn.preprocessing import MinMaxScaler\n",
    "from sklearn.decomposition import PCA\n",
    "from xgboost import XGBClassifier\n",
    "from imblearn.over_sampling import RandomOverSampler\n",
    "from imblearn.under_sampling import RandomUnderSampler\n",
    "from imblearn.over_sampling import SMOTE\n",
    "from imblearn.combine import SMOTETomek\n",
    "from imblearn.combine import SMOTEENN\n",
    "from imblearn.under_sampling import EditedNearestNeighbours\n",
    "from imblearn.under_sampling import TomekLinks\n",
    "\n",
    "def convert(value):\n",
    "    if value == 0:\n",
    "        return 1\n",
    "    else:\n",
    "        return 0\n",
    "    \n",
    "def load_dataset():\n",
    "    df = pd.read_csv('../Data/classification_testData_shape(395219,79).csv')\n",
    "    df[\"loan_repaid\"] = df[\"loan_repaid\"].apply(lambda v: convert(v))\n",
    "    \n",
    "    X = df.drop('loan_repaid',axis=1).values\n",
    "    y = df['loan_repaid'].values\n",
    "    y = LabelEncoder().fit_transform(y)\n",
    "    \n",
    "    return X, y\n",
    "\n",
    "# evaluate a model\n",
    "def evaluate_model(X, y, model):\n",
    "    # define evaluation procedure\n",
    "    cv = RepeatedStratifiedKFold(n_splits=10, n_repeats=3, random_state=1)\n",
    "        # evaluate model\n",
    "    scores = cross_val_score(model, X, y, scoring='f1_micro', cv=cv, n_jobs=-1)\n",
    "    #print('F-measure: %.3f' % score)\n",
    "    return scores\n",
    "\n",
    "init_time = datetime.now()\n",
    "# load the dataset\n",
    "X, y = load_dataset()\n",
    "# define model\n",
    "model = XGBClassifier()\n",
    "# Define Sampling\n",
    "#resample = SMOTEENN(enn=EditedNearestNeighbours(sampling_strategy='majority'))\n",
    "resample = SMOTETomek(tomek=TomekLinks(sampling_strategy='majority'))\n",
    "#over = RandomOverSampler()\n",
    "#under = RandomUnderSampler()\n",
    "#oversample = SMOTE()\n",
    "#undersample = TomekLinks()\n",
    "undersample = EditedNearestNeighbours(n_neighbors=3)\n",
    "# Define Pipeline\n",
    "steps = list()\n",
    "steps.append(('norm', MinMaxScaler()))\n",
    "steps.append(('u', resample))\n",
    "steps.append(('m', model))\n",
    "pipeline = Pipeline(steps=steps)\n",
    "# evaluate model\n",
    "scores = evaluate_model(X, y, pipeline)\n",
    "# summarize performance\n",
    "print(f\"F-measure of XGB + Norm + SMOTETomek : {mean(scores):.3f}\")\n",
    "fin_time = datetime.now()\n",
    "print(\"Execution time : \", (fin_time-init_time))\n",
    "\n",
    "# F-measure of XGB + SMOTEENN : 0.854\n",
    "# F-measure of XGB + SMOTETomek : 0.889\n",
    "# F-measure of XGB + Random_Over_Under : 0.811\n",
    "# F-measure of XGB + Over_Sampling : 0.889\n",
    "# F-measure of XGB + UnderSample (Tomek) : 0.888\n",
    "# F-measure of XGB + UnderSample (ENN) : 0.868"
   ]
  },
  {
   "cell_type": "code",
   "execution_count": null,
   "metadata": {
    "hidden": true
   },
   "outputs": [],
   "source": []
  },
  {
   "cell_type": "markdown",
   "metadata": {
    "scrolled": true
   },
   "source": [
    "### XGB with Grid Search"
   ]
  },
  {
   "cell_type": "markdown",
   "metadata": {
    "heading_collapsed": true
   },
   "source": [
    "#### Train, Test Validation Data Split"
   ]
  },
  {
   "cell_type": "code",
   "execution_count": 39,
   "metadata": {
    "hidden": true
   },
   "outputs": [],
   "source": [
    "X_train, X_test, y_train, y_test = train_test_split(X, y, test_size=0.20, stratify=y, random_state=42)"
   ]
  },
  {
   "cell_type": "code",
   "execution_count": 40,
   "metadata": {
    "hidden": true
   },
   "outputs": [],
   "source": [
    "X_train, X_valid, y_train, y_valid = train_test_split(X_train, y_train, test_size=0.20, stratify=y_train, random_state=42)"
   ]
  },
  {
   "cell_type": "code",
   "execution_count": 67,
   "metadata": {
    "hidden": true
   },
   "outputs": [],
   "source": [
    "#sampling = SMOTEENN()\n",
    "#sampling = SMOTEENN (enn= EditedNearestNeighbours (sampling_strategy ='majority'))\n",
    "#X_resampled, y_resampled = sampling.fit_sample(X_train, y_train)"
   ]
  },
  {
   "cell_type": "markdown",
   "metadata": {
    "heading_collapsed": true
   },
   "source": [
    "#### Base line"
   ]
  },
  {
   "cell_type": "code",
   "execution_count": 42,
   "metadata": {
    "hidden": true
   },
   "outputs": [
    {
     "name": "stdout",
     "output_type": "stream",
     "text": [
      "Execution time :  0:00:26.730484\n"
     ]
    }
   ],
   "source": [
    "init_time = datetime.now()\n",
    "clf_xgb = XGBClassifier()\n",
    "#norm_scaler = MinMaxScaler()\n",
    "#norm_scaler.fit(X_train)\n",
    "#pipeline = Pipeline(steps=[('norm', ), ('m', model)])\n",
    "clf_xgb.fit(X_train, y_train, verbose=False, \n",
    "            early_stopping_rounds=10, eval_metric='aucpr',\n",
    "            eval_set=[(X_valid, y_valid)])\n",
    "fin_time = datetime.now()\n",
    "print(\"Execution time : \", (fin_time-init_time))"
   ]
  },
  {
   "cell_type": "code",
   "execution_count": 43,
   "metadata": {
    "hidden": true
   },
   "outputs": [
    {
     "name": "stdout",
     "output_type": "stream",
     "text": [
      "              precision    recall  f1-score   support\n",
      "\n",
      "           0       0.88      0.99      0.94     63539\n",
      "           1       0.93      0.47      0.63     15505\n",
      "\n",
      "    accuracy                           0.89     79044\n",
      "   macro avg       0.91      0.73      0.78     79044\n",
      "weighted avg       0.89      0.89      0.87     79044\n",
      "\n"
     ]
    }
   ],
   "source": [
    "print(classification_report(y_test, clf_xgb.predict(X_test)))"
   ]
  },
  {
   "cell_type": "code",
   "execution_count": 44,
   "metadata": {
    "hidden": true
   },
   "outputs": [
    {
     "data": {
      "image/png": "[encoded data removed]",
      "text/plain": [
       "<Figure size 432x288 with 2 Axes>"
      ]
     },
     "metadata": {
      "needs_background": "light"
     },
     "output_type": "display_data"
    }
   ],
   "source": [
    "plot_confusion_matrix(clf_xgb, X_test, y_test, values_format='d', display_labels=[\"Paid\",\"Not Paid\"]);"
   ]
  },
  {
   "cell_type": "markdown",
   "metadata": {
    "heading_collapsed": true
   },
   "source": [
    "#### Randomized Search Function"
   ]
  },
  {
   "cell_type": "code",
   "execution_count": 45,
   "metadata": {
    "hidden": true
   },
   "outputs": [],
   "source": [
    "def get_RandomizedSearch_model(parameters):\n",
    "    model = XGBClassifier(objective='binary:logistic')\n",
    "    xgb_grid = RandomizedSearchCV(model,\n",
    "                        parameters,\n",
    "                        scoring='f1_micro',\n",
    "                        cv = 5,\n",
    "                        n_jobs = 10,\n",
    "                        verbose=False)\n",
    "    xgb_grid.fit(X_train, y_train)\n",
    "    return xgb_grid"
   ]
  },
  {
   "cell_type": "markdown",
   "metadata": {
    "heading_collapsed": true
   },
   "source": [
    "#### First Grid Search Experiment"
   ]
  },
  {
   "cell_type": "code",
   "execution_count": 47,
   "metadata": {
    "hidden": true
   },
   "outputs": [],
   "source": [
    "parameters = {\n",
    "                'n_estimators': [100, 200, 300, 400, 500, 600, 700, 800, 900, 1000],\n",
    "                'max_depth': [3, 4, 5, 6, 7, 8, 9, 10],\n",
    "                'learning_rate': [0.0001, 0.001, 0.01, 0.02, 0.1, 0.2, 0.3], \n",
    "                'subsample' : [0.3, 0.4, 0.5, 0.6, 0.7, 0.8, 1.0],\n",
    "                'colsample_bytree' : [0.3, 0.4, 0.5, 0.6, 0.7, 0.8, 1.0],\n",
    "                'colsample_bylevel' : [0.3, 0.4, 0.5, 0.6, 0.7, 0.8, 1.0],\n",
    "                'gamma': [0],\n",
    "                'reg_lambda': [0, 1.0, 3.0, 5.0, 7.0, 10.0, 12.0],\n",
    "                'scale_pos_weight': [1, 2, 3, 4, 5, 6]\n",
    "              }"
   ]
  },
  {
   "cell_type": "code",
   "execution_count": 50,
   "metadata": {
    "hidden": true
   },
   "outputs": [
    {
     "name": "stdout",
     "output_type": "stream",
     "text": [
      "Execution time :  0:23:57.528534\n"
     ]
    }
   ],
   "source": [
    "init_time = datetime.now()\n",
    "grid_model = get_RandomizedSearch_model(parameters)\n",
    "grid_predictions = grid_model.predict(X_test)\n",
    "fin_time = datetime.now()\n",
    "print(\"Execution time : \", (fin_time-init_time))"
   ]
  },
  {
   "cell_type": "code",
   "execution_count": 56,
   "metadata": {
    "hidden": true
   },
   "outputs": [
    {
     "name": "stdout",
     "output_type": "stream",
     "text": [
      "0.5943520239336385\n",
      "0.8867845756793684\n"
     ]
    }
   ],
   "source": [
    "#f1_score, accuracy_score\n",
    "\n",
    "print(f1_score(y_test, grid_predictions))\n",
    "print(accuracy_score(y_test, grid_predictions))"
   ]
  },
  {
   "cell_type": "code",
   "execution_count": 57,
   "metadata": {
    "hidden": true
   },
   "outputs": [
    {
     "data": {
      "text/plain": [
       "{'subsample': 0.5,\n",
       " 'scale_pos_weight': 3,\n",
       " 'reg_lambda': 12.0,\n",
       " 'n_estimators': 800,\n",
       " 'max_depth': 3,\n",
       " 'learning_rate': 0.0001,\n",
       " 'gamma': 0,\n",
       " 'colsample_bytree': 0.8,\n",
       " 'colsample_bylevel': 0.8}"
      ]
     },
     "execution_count": 57,
     "metadata": {},
     "output_type": "execute_result"
    }
   ],
   "source": [
    "grid_model.best_params_\n",
    "\n",
    "#f1_score = 0.594, accuracy_score = 0.886"
   ]
  },
  {
   "cell_type": "code",
   "execution_count": 53,
   "metadata": {
    "hidden": true
   },
   "outputs": [
    {
     "data": {
      "image/png": "[encoded data removed]",
      "text/plain": [
       "<Figure size 432x288 with 2 Axes>"
      ]
     },
     "metadata": {
      "needs_background": "light"
     },
     "output_type": "display_data"
    }
   ],
   "source": [
    "plot_confusion_matrix(grid_model, X_test, y_test, values_format='d', display_labels=[\"Paid\",\"Not Paid\"]);"
   ]
  },
  {
   "cell_type": "code",
   "execution_count": 54,
   "metadata": {
    "hidden": true
   },
   "outputs": [
    {
     "data": {
      "text/plain": [
       "{'subsample': 0.5,\n",
       " 'scale_pos_weight': 3,\n",
       " 'reg_lambda': 12.0,\n",
       " 'n_estimators': 800,\n",
       " 'max_depth': 3,\n",
       " 'learning_rate': 0.0001,\n",
       " 'gamma': 0,\n",
       " 'colsample_bytree': 0.8,\n",
       " 'colsample_bylevel': 0.8}"
      ]
     },
     "execution_count": 54,
     "metadata": {},
     "output_type": "execute_result"
    }
   ],
   "source": [
    "grid_model.best_params_"
   ]
  },
  {
   "cell_type": "code",
   "execution_count": 75,
   "metadata": {
    "hidden": true
   },
   "outputs": [],
   "source": [
    "grid_predictions = opyimal_params.predict(X_test)"
   ]
  },
  {
   "cell_type": "code",
   "execution_count": 76,
   "metadata": {
    "hidden": true
   },
   "outputs": [
    {
     "name": "stdout",
     "output_type": "stream",
     "text": [
      "              precision    recall  f1-score   support\n",
      "\n",
      "           0       0.88      1.00      0.93     47655\n",
      "           1       0.98      0.44      0.60     11628\n",
      "\n",
      "    accuracy                           0.89     59283\n",
      "   macro avg       0.93      0.72      0.77     59283\n",
      "weighted avg       0.90      0.89      0.87     59283\n",
      "\n"
     ]
    }
   ],
   "source": [
    "print(classification_report(y_test, grid_predictions))"
   ]
  },
  {
   "cell_type": "code",
   "execution_count": 77,
   "metadata": {
    "hidden": true
   },
   "outputs": [
    {
     "data": {
      "image/png": "[encoded data removed]",
      "text/plain": [
       "<Figure size 432x288 with 2 Axes>"
      ]
     },
     "metadata": {
      "needs_background": "light"
     },
     "output_type": "display_data"
    }
   ],
   "source": [
    "plot_confusion_matrix(opyimal_params, X_test, y_test, values_format='d', display_labels=[\"Paid\",\"Not Paid\"]);"
   ]
  },
  {
   "cell_type": "code",
   "execution_count": 78,
   "metadata": {
    "hidden": true
   },
   "outputs": [
    {
     "data": {
      "text/plain": [
       "{'gamma': 0,\n",
       " 'learning_rate': 0.1,\n",
       " 'max_depth': 5,\n",
       " 'reg_lambda': 1.0,\n",
       " 'scale_pos_weight': 1}"
      ]
     },
     "execution_count": 78,
     "metadata": {},
     "output_type": "execute_result"
    }
   ],
   "source": [
    "opyimal_params.best_params_"
   ]
  },
  {
   "cell_type": "markdown",
   "metadata": {
    "heading_collapsed": true
   },
   "source": [
    "#### Second GridSearch Experiment"
   ]
  },
  {
   "cell_type": "code",
   "execution_count": null,
   "metadata": {
    "hidden": true
   },
   "outputs": [],
   "source": [
    "init_time = datetime.now()\n",
    "param_grid = {\n",
    "    'max_depth': [5, 6, 7],\n",
    "    'learning_rate': [0.1, 0.25, 0.5],\n",
    "    'booster':['gbtree','gblinear', 'dart'],\n",
    "    'gamma': [0, 0.25, 1.0],\n",
    "    'reg_lambda': [0, 1.0, 10.0],\n",
    "    'scale_pos_weight': [1, 5, 10]\n",
    "}\n",
    "opyimal_params = GridSearchCV (\n",
    "    estimator=XGBClassifier(objective='binary:logistic', \n",
    "                            seed=42),\n",
    "    param_grid=param_grid,\n",
    "    scoring='roc_auc',\n",
    "    verbose=0,\n",
    "    n_jobs=10,\n",
    "    cv=3\n",
    ")\n",
    "opyimal_params.fit(X_train, y_train)\n",
    "\n",
    "fin_time = datetime.now()\n",
    "print(\"Execution time : \", (fin_time-init_time))"
   ]
  },
  {
   "cell_type": "code",
   "execution_count": null,
   "metadata": {
    "hidden": true
   },
   "outputs": [],
   "source": [
    "grid_predictions = opyimal_params.predict(X_test)"
   ]
  },
  {
   "cell_type": "code",
   "execution_count": null,
   "metadata": {
    "hidden": true
   },
   "outputs": [],
   "source": [
    "print(classification_report(y_test, grid_predictions))"
   ]
  },
  {
   "cell_type": "code",
   "execution_count": null,
   "metadata": {
    "hidden": true
   },
   "outputs": [],
   "source": [
    "plot_confusion_matrix(opyimal_params, X_test, y_test, values_format='d', display_labels=[\"Paid\",\"Not Paid\"]);"
   ]
  },
  {
   "cell_type": "code",
   "execution_count": null,
   "metadata": {
    "hidden": true
   },
   "outputs": [],
   "source": [
    "opyimal_params.best_params_"
   ]
  },
  {
   "cell_type": "markdown",
   "metadata": {
    "heading_collapsed": true
   },
   "source": [
    "#### Final Experiment"
   ]
  },
  {
   "cell_type": "code",
   "execution_count": null,
   "metadata": {
    "hidden": true
   },
   "outputs": [],
   "source": [
    "init_time = datetime.now()\n",
    "\n",
    "clf_xgb=XGBClassifier(seed=42,\n",
    "                      gamma=0,\n",
    "                      learning_rate=0.1,\n",
    "                      max_depth=5,\n",
    "                      reg_lambda=1.0,\n",
    "                      scale_pos_weight=1)\n",
    "\n",
    "clf_xgb.fit(X_train, y_train,verbose=False,\n",
    "            early_stopping_rounds=10,\n",
    "            eval_metric='aucpr',\n",
    "            eval_set=[(X_valid,y_valid)])\n",
    "\n",
    "fin_time = datetime.now()\n",
    "print(\"Execution time : \", (fin_time-init_time))"
   ]
  },
  {
   "cell_type": "code",
   "execution_count": null,
   "metadata": {
    "hidden": true
   },
   "outputs": [],
   "source": [
    "print(classification_report(y_test, clf_xgb.predict(X_test)))"
   ]
  },
  {
   "cell_type": "code",
   "execution_count": null,
   "metadata": {
    "hidden": true
   },
   "outputs": [],
   "source": [
    "plot_confusion_matrix(clf_xgb, X_test, y_test, values_format='d', display_labels=[\"Paid\",\"Not Paid\"]);"
   ]
  },
  {
   "cell_type": "code",
   "execution_count": 1,
   "metadata": {
    "hidden": true
   },
   "outputs": [],
   "source": [
    "from tensorflow.keras.regularizers import l1, l2, L1L2"
   ]
  },
  {
   "cell_type": "code",
   "execution_count": null,
   "metadata": {
    "hidden": true
   },
   "outputs": [],
   "source": [
    "L1L2(l1=0.0, l2=0.0)"
   ]
  }
 ],
 "metadata": {
  "kernelspec": {
   "display_name": "Python 3",
   "language": "python",
   "name": "python3"
  },
  "language_info": {
   "codemirror_mode": {
    "name": "ipython",
    "version": 3
   },
   "file_extension": ".py",
   "mimetype": "text/x-python",
   "name": "python",
   "nbconvert_exporter": "python",
   "pygments_lexer": "ipython3",
   "version": "3.8.3"
  }
 },
 "nbformat": 4,
 "nbformat_minor": 4
}
