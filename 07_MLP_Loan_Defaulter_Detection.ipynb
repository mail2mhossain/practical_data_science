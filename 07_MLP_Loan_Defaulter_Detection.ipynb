{
 "cells": [
  {
   "cell_type": "markdown",
   "metadata": {},
   "source": [
    "## Load Libraries"
   ]
  },
  {
   "cell_type": "code",
   "execution_count": 2,
   "metadata": {},
   "outputs": [],
   "source": [
    "import sys\n",
    "import math\n",
    "import numpy as np\n",
    "import pandas as pd\n",
    "from datetime import datetime\n",
    "import matplotlib.pyplot as pyplot\n",
    "import ppscore as pps\n",
    "import optuna\n",
    "from bayes_opt import BayesianOptimization\n",
    "from skopt import BayesSearchCV\n",
    "from skopt import gp_minimize\n",
    "from skopt.space import Real, Integer, Categorical\n",
    "import hyperopt\n",
    "from hyperopt import fmin, tpe, hp, STATUS_OK, Trials\n",
    "from scipy.stats import shapiro, normaltest\n",
    "from tensorflow.keras.models import load_model\n",
    "from tensorflow.keras.callbacks import ModelCheckpoint\n",
    "from tensorflow.keras.callbacks import EarlyStopping\n",
    "from tensorflow.keras.utils import to_categorical\n",
    "from tensorflow.keras.constraints import max_norm, unit_norm, min_max_norm\n",
    "from tensorflow.keras.models import Sequential\n",
    "from tensorflow.keras.layers import Input, Dense, Activation, Dropout, BatchNormalization, GaussianNoise\n",
    "from tensorflow.keras.layers import ReLU, PReLU, LeakyReLU, ELU\n",
    "from tensorflow.keras.wrappers.scikit_learn import KerasClassifier\n",
    "from tensorflow.keras.optimizers import SGD, Adam, Adagrad, RMSprop, Adamax, Nadam\n",
    "from tensorflow.keras.callbacks import LearningRateScheduler\n",
    "from tensorflow.keras.regularizers import l1, l2, L1L2\n",
    "from sklearn.model_selection import cross_val_score\n",
    "from sklearn.model_selection import KFold, StratifiedKFold, RepeatedStratifiedKFold\n",
    "from sklearn.model_selection import GridSearchCV, RandomizedSearchCV\n",
    "from sklearn.model_selection import train_test_split\n",
    "from sklearn.preprocessing import LabelEncoder\n",
    "from sklearn.preprocessing import StandardScaler\n",
    "from sklearn.preprocessing import PowerTransformer\n",
    "from sklearn.preprocessing import MinMaxScaler\n",
    "from sklearn.decomposition import PCA\n",
    "from sklearn.decomposition import TruncatedSVD\n",
    "from sklearn.pipeline import Pipeline\n",
    "from sklearn.metrics import classification_report,confusion_matrix, plot_confusion_matrix\n",
    "from sklearn.metrics import f1_score, accuracy_score, roc_auc_score\n",
    "from imblearn.combine import SMOTEENN\n",
    "from imblearn.combine import SMOTETomek\n",
    "from imblearn.under_sampling import TomekLinks\n",
    "from imblearn.under_sampling import EditedNearestNeighbours"
   ]
  },
  {
   "cell_type": "markdown",
   "metadata": {},
   "source": [
    "## Load & Prepare Data"
   ]
  },
  {
   "cell_type": "code",
   "execution_count": 3,
   "metadata": {},
   "outputs": [],
   "source": [
    "df = pd.read_csv('Data/classification_testData_shape(395219,82).csv')"
   ]
  },
  {
   "cell_type": "code",
   "execution_count": 4,
   "metadata": {},
   "outputs": [
    {
     "data": {
      "text/plain": [
       "(395219, 83)"
      ]
     },
     "execution_count": 4,
     "metadata": {},
     "output_type": "execute_result"
    }
   ],
   "source": [
    "df.shape"
   ]
  },
  {
   "cell_type": "markdown",
   "metadata": {
    "heading_collapsed": true
   },
   "source": [
    "## Split Dataset"
   ]
  },
  {
   "cell_type": "code",
   "execution_count": 4,
   "metadata": {
    "hidden": true
   },
   "outputs": [],
   "source": [
    "X = df.drop('loan_status',axis=1)\n",
    "y = df['loan_status']"
   ]
  },
  {
   "cell_type": "code",
   "execution_count": 5,
   "metadata": {
    "hidden": true
   },
   "outputs": [
    {
     "name": "stdout",
     "output_type": "stream",
     "text": [
      "(395219, 82) (395219,)\n"
     ]
    }
   ],
   "source": [
    "print(X.shape, y.shape)"
   ]
  },
  {
   "cell_type": "code",
   "execution_count": 6,
   "metadata": {
    "hidden": true
   },
   "outputs": [
    {
     "name": "stdout",
     "output_type": "stream",
     "text": [
      "395219\n",
      "82\n"
     ]
    }
   ],
   "source": [
    "print(X.shape[0])\n",
    "print(X.shape[1])"
   ]
  },
  {
   "cell_type": "code",
   "execution_count": 7,
   "metadata": {
    "hidden": true
   },
   "outputs": [],
   "source": [
    "# label encode the target variable to have the classes 0 and 1 FOR BINARY CLASSIFICATION\n",
    "y = LabelEncoder().fit_transform(y)"
   ]
  },
  {
   "cell_type": "code",
   "execution_count": 8,
   "metadata": {
    "hidden": true
   },
   "outputs": [],
   "source": [
    "# one hot encode output variable FOR MULTICLASS CLASSIFICATION\n",
    "#y = to_categorical(y)\n",
    "\n",
    "# For Regression\n",
    "# created scaler\n",
    "#scaler = StandardScaler()\n",
    "# fit scaler on training dataset\n",
    "#scaler.fit(trainy)\n",
    "# transform training dataset\n",
    "#trainy = scaler.transform(trainy)\n",
    "# transform test dataset\n",
    "#testy = scaler.transform(testy)"
   ]
  },
  {
   "cell_type": "code",
   "execution_count": 9,
   "metadata": {
    "hidden": true
   },
   "outputs": [],
   "source": [
    "X_train, X_test, y_train, y_test = train_test_split(X, y, test_size=0.30, random_state=42)"
   ]
  },
  {
   "cell_type": "code",
   "execution_count": 10,
   "metadata": {
    "hidden": true
   },
   "outputs": [],
   "source": [
    "X_train, X_valid, y_train, y_valid = train_test_split(X_train, y_train, test_size=0.30, random_state=42)"
   ]
  },
  {
   "cell_type": "code",
   "execution_count": 11,
   "metadata": {
    "hidden": true
   },
   "outputs": [],
   "source": [
    "# FOR BINARY CLASSIFICATION\n",
    "n_input = X_train.shape[1]\n",
    "n_classes = len(np.unique(y_train))\n",
    "num_nodes = n_input"
   ]
  },
  {
   "cell_type": "code",
   "execution_count": 12,
   "metadata": {
    "hidden": true
   },
   "outputs": [],
   "source": [
    "# FOR MULTICLASS CLASSIFICATION\n",
    "#n_input, n_classes = X_train.shape[1], y_train.shape[1]\n",
    "#num_nodes = n_input"
   ]
  },
  {
   "cell_type": "code",
   "execution_count": 13,
   "metadata": {
    "hidden": true
   },
   "outputs": [
    {
     "data": {
      "text/plain": [
       "array([0, 1])"
      ]
     },
     "execution_count": 13,
     "metadata": {},
     "output_type": "execute_result"
    }
   ],
   "source": [
    "np.unique(y)"
   ]
  },
  {
   "cell_type": "code",
   "execution_count": 1,
   "metadata": {
    "hidden": true
   },
   "outputs": [
    {
     "ename": "NameError",
     "evalue": "name 'num_nodes' is not defined",
     "output_type": "error",
     "traceback": [
      "\u001b[0;31m---------------------------------------------------------------------------\u001b[0m",
      "\u001b[0;31mNameError\u001b[0m                                 Traceback (most recent call last)",
      "\u001b[0;32m<ipython-input-1-06ad3ebc8bfd>\u001b[0m in \u001b[0;36m<module>\u001b[0;34m\u001b[0m\n\u001b[0;32m----> 1\u001b[0;31m \u001b[0mnum_nodes\u001b[0m\u001b[0;34m\u001b[0m\u001b[0;34m\u001b[0m\u001b[0m\n\u001b[0m",
      "\u001b[0;31mNameError\u001b[0m: name 'num_nodes' is not defined"
     ]
    }
   ],
   "source": [
    "num_nodes"
   ]
  },
  {
   "cell_type": "code",
   "execution_count": 15,
   "metadata": {
    "hidden": true
   },
   "outputs": [
    {
     "data": {
      "text/plain": [
       "2"
      ]
     },
     "execution_count": 15,
     "metadata": {},
     "output_type": "execute_result"
    }
   ],
   "source": [
    "n_classes"
   ]
  },
  {
   "cell_type": "code",
   "execution_count": 16,
   "metadata": {
    "hidden": true
   },
   "outputs": [
    {
     "data": {
      "text/plain": [
       "42"
      ]
     },
     "execution_count": 16,
     "metadata": {},
     "output_type": "execute_result"
    }
   ],
   "source": [
    "(num_nodes+n_classes)//2"
   ]
  },
  {
   "cell_type": "code",
   "execution_count": 17,
   "metadata": {
    "hidden": true
   },
   "outputs": [
    {
     "data": {
      "text/plain": [
       "56.0"
      ]
     },
     "execution_count": 17,
     "metadata": {},
     "output_type": "execute_result"
    }
   ],
   "source": [
    "(num_nodes+n_classes) * (2/3)"
   ]
  },
  {
   "cell_type": "markdown",
   "metadata": {
    "heading_collapsed": true
   },
   "source": [
    "## Normality Test"
   ]
  },
  {
   "cell_type": "code",
   "execution_count": 18,
   "metadata": {
    "hidden": true
   },
   "outputs": [],
   "source": [
    "def is_normal(data):\n",
    "    alpha = 0.05\n",
    "    stat, p = normaltest(data)\n",
    "    if p > alpha:\n",
    "        normalTest = True\n",
    "    else:\n",
    "        normalTest = False\n",
    "    \n",
    "    stat, p = shapiro(data)\n",
    "    if p > alpha:\n",
    "        shapiroTest = True\n",
    "    else:\n",
    "        shapiroTest = False\n",
    "        \n",
    "    return normalTest and shapiroTest"
   ]
  },
  {
   "cell_type": "code",
   "execution_count": 19,
   "metadata": {
    "hidden": true
   },
   "outputs": [
    {
     "name": "stderr",
     "output_type": "stream",
     "text": [
      "Z:\\ProgramData\\Anaconda3\\lib\\site-packages\\scipy\\stats\\morestats.py:1681: UserWarning: p-value may not be accurate for N > 5000.\n",
      "  warnings.warn(\"p-value may not be accurate for N > 5000.\")\n"
     ]
    },
    {
     "name": "stdout",
     "output_type": "stream",
     "text": [
      "Gaussian Like columns: []\n",
      "Non-Gaussian Like columns: ['Unnamed: 0', 'loan_amnt', 'term', 'int_rate', 'installment', 'annual_inc', 'dti', 'open_acc', 'pub_rec', 'revol_bal', 'revol_util', 'total_acc', 'mort_acc', 'pub_rec_bankruptcies', 'A2', 'A3', 'A4', 'A5', 'B1', 'B2', 'B3', 'B4', 'B5', 'C1', 'C2', 'C3', 'C4', 'C5', 'D1', 'D2', 'D3', 'D4', 'D5', 'E1', 'E2', 'E3', 'E4', 'E5', 'F1', 'F2', 'F3', 'F4', 'F5', 'G1', 'G2', 'G3', 'G4', 'G5', 'OTHER', 'OWN', 'RENT', 'verification_status_Source Verified', 'verification_status_Verified', 'application_type_INDIVIDUAL', 'application_type_JOINT', 'initial_list_status_w', 'purpose_credit_card', 'purpose_debt_consolidation', 'purpose_educational', 'purpose_home_improvement', 'purpose_house', 'purpose_major_purchase', 'purpose_medical', 'purpose_moving', 'purpose_other', 'purpose_renewable_energy', 'purpose_small_business', 'purpose_vacation', 'purpose_wedding', 'issue_month', 'issue_year', 'cr_month', 'cr_year', '05113', '11650', '22690', '29597', '30723', '48052', '70466', '86630', '93700']\n"
     ]
    }
   ],
   "source": [
    "Gaussian_Like = []\n",
    "Non_Gaussian = []\n",
    "\n",
    "for i, name in enumerate (X.columns):\n",
    "    if is_normal(X[name]):\n",
    "        Gaussian_Like.append(name)\n",
    "    else:\n",
    "        Non_Gaussian.append(name)\n",
    "        \n",
    "print (f\"Gaussian Like columns: {Gaussian_Like}\")\n",
    "print (f\"Non-Gaussian Like columns: {Non_Gaussian}\")"
   ]
  },
  {
   "cell_type": "markdown",
   "metadata": {},
   "source": [
    "## Baseline Model"
   ]
  },
  {
   "cell_type": "code",
   "execution_count": 18,
   "metadata": {},
   "outputs": [],
   "source": [
    "def create_baseline_model():\n",
    "    # create model\n",
    "    model = Sequential()\n",
    "    #Input Layer\n",
    "    model.add(Input(shape=(n_input,)))\n",
    "    #Hidden Layers\n",
    "    model.add(Dense(units=32, activation='relu', kernel_initializer='he_uniform'))\n",
    "    model.add(Dense(units=32, activation='relu', kernel_initializer='he_uniform'))\n",
    "    # Output Layer\n",
    "    model.add(Dense(1, activation='sigmoid'))   \n",
    "    # Compile model\n",
    "    model.compile(loss='binary_crossentropy', optimizer='adam', metrics=['accuracy'])\n",
    "    return model"
   ]
  },
  {
   "cell_type": "code",
   "execution_count": 21,
   "metadata": {},
   "outputs": [],
   "source": [
    "estimators = []\n",
    "estimators.append(('norm', MinMaxScaler()))\n",
    "estimators.append(('mlp', KerasClassifier(build_fn=create_baseline_model, epochs=300, batch_size=32, verbose=0)))\n",
    "pipeline = Pipeline(estimators)"
   ]
  },
  {
   "cell_type": "code",
   "execution_count": 22,
   "metadata": {},
   "outputs": [
    {
     "name": "stdout",
     "output_type": "stream",
     "text": [
      "Baseline: 88.48% (0.15%)\n",
      "Execution time :  7:13:16.131950\n"
     ]
    }
   ],
   "source": [
    "init_time = datetime.now()\n",
    "kfold = StratifiedKFold(n_splits=5, shuffle=True)\n",
    "results = cross_val_score(pipeline, X, y, cv=kfold)\n",
    "print(\"Baseline: %.2f%% (%.2f%%)\" % (results.mean()*100, results.std()*100))\n",
    "fin_time = datetime.now()\n",
    "print(\"Execution time : \", (fin_time-init_time))"
   ]
  },
  {
   "cell_type": "markdown",
   "metadata": {},
   "source": [
    "## Hyperparameter Tunning with HyperOpt"
   ]
  },
  {
   "cell_type": "code",
   "execution_count": null,
   "metadata": {},
   "outputs": [],
   "source": [
    "params = dict()\n",
    "params['layers'] = hp.choice('layers', [1, 2, 3, 4, 5, 6, 7, 8, 9, 10])\n",
    "params['units'] = hp.choice('units', [16, 32, 64, 128])\n",
    "params['batch_size'] = hp.choice('batch_size', [16, 32, 64, 128, 256, 512])\n",
    "params['optimizer'] = hp.choice('optimizer', [SGD(), RMSprop(), Adagrad(), Adam(), Adamax(), Nadam()])\n",
    "params['activation']= hp.choice('activation', [ReLU(), PReLU(), LeakyReLU(), ELU()])\n",
    "params['learning_rate'] = hp.uniform('learning_rate',1e-7, 1.0)\n",
    "params['init_mode']= hp.choice('init_mode', \n",
    "['uniform', 'lecun_uniform', 'normal', 'zero', 'glorot_normal', 'glorot_uniform', 'he_normal', 'he_uniform'])\n",
    "params['dropout_rate']= hp.choice('dropout_rate', [0.0, 0.1, 0.2, 0.3, 0.4, 0.5])\n",
    "params['weight_constraint'] = hp.choice('weight_constraint',\n",
    "                            [unit_norm(), max_norm(1), max_norm(2), max_norm(3), max_norm(4), max_norm(5)])"
   ]
  },
  {
   "cell_type": "code",
   "execution_count": null,
   "metadata": {},
   "outputs": [],
   "source": [
    "norm = MinMaxScaler()\n",
    "norm.fit(X_train)\n",
    "X_train = norm.transform(X_train)\n",
    "X_test = norm.transform(X_test)\n",
    "X_valid = norm.transform(X_valid)"
   ]
  },
  {
   "cell_type": "code",
   "execution_count": null,
   "metadata": {},
   "outputs": [],
   "source": [
    "best_score = 0\n",
    "best_param = []\n",
    "testing = 1"
   ]
  },
  {
   "cell_type": "code",
   "execution_count": null,
   "metadata": {},
   "outputs": [],
   "source": [
    "def hyperparameters(params):  \n",
    "    global best_score\n",
    "    global testing\n",
    "    \n",
    "    #print (f'Testing - {testing}: {params}')\n",
    "    #create model\n",
    "    model = Sequential()\n",
    "    #Input Layer\n",
    "    model.add(Input(shape=(n_input,)))\n",
    "    \n",
    "    #Hidden Layers  \n",
    "    for i in range(params['layers']):\n",
    "        model.add(Dense(units=params['units'], kernel_initializer=params['init_mode'], \n",
    "                        activation=params['activation'], \n",
    "                        kernel_constraint=params['weight_constraint']))\n",
    "        model.add(Dropout(params['dropout_rate']))\n",
    "        #model.add(BatchNormalization())\n",
    "    \n",
    "    #Output Layer\n",
    "    model.add(Dense(1, activation='sigmoid'))\n",
    "    #Compile model\n",
    "    optimizer = params['optimizer']\n",
    "    optimizer.learning_rate=params['learning_rate'];\n",
    "    model.compile(loss='binary_crossentropy', optimizer=optimizer, metrics=['accuracy'])\n",
    "    #model.summary()  \n",
    "    \n",
    "    model.fit(x=X_train, \n",
    "              y=y_train, \n",
    "              epochs=1000,\n",
    "              batch_size=params['batch_size'],\n",
    "              validation_data=(X_valid, y_valid), \n",
    "              #validation_split=0.2, \n",
    "              verbose=0,\n",
    "              callbacks=[early_stop]\n",
    "             )\n",
    "\n",
    "    pred_auc =model.predict(X_test, batch_size = params['batch_size'], verbose = 0)\n",
    "    acc = roc_auc_score(y_test, pred_auc) #accuracy_score roc_auc_score\n",
    "    testing = testing + 1\n",
    "    if best_score==0:\n",
    "        best_score=acc\n",
    "    if acc > best_score:\n",
    "        best_score=acc\n",
    "        best_param=params\n",
    "        print(f'BEST AUC:{best_score:.4f}')\n",
    "        print (f'BEST PARAMS: {testing} -> {params}')\n",
    "        \n",
    "    #sys.stdout.flush() \n",
    "    return {'loss': acc, 'status': STATUS_OK, 'model': model}"
   ]
  },
  {
   "cell_type": "code",
   "execution_count": null,
   "metadata": {},
   "outputs": [],
   "source": [
    "trials = Trials()\n",
    "best = fmin(fn=hyperparameters,\n",
    "            space=params,\n",
    "            algo=tpe.suggest,\n",
    "            max_evals=100,\n",
    "            trials=trials)"
   ]
  },
  {
   "cell_type": "code",
   "execution_count": null,
   "metadata": {},
   "outputs": [],
   "source": [
    "print (f\"Best Score: {best_score}\")\n",
    "print (f\"Best Params: {best_param}\")"
   ]
  },
  {
   "cell_type": "code",
   "execution_count": null,
   "metadata": {},
   "outputs": [],
   "source": [
    "loss = trials.best_trial['result']['loss']\n",
    "print ('loss :', loss)\n",
    "model = trials.best_trial['result']['model']\n",
    "print (model)"
   ]
  },
  {
   "cell_type": "code",
   "execution_count": null,
   "metadata": {},
   "outputs": [],
   "source": []
  },
  {
   "cell_type": "code",
   "execution_count": null,
   "metadata": {},
   "outputs": [],
   "source": []
  },
  {
   "cell_type": "markdown",
   "metadata": {
    "heading_collapsed": true
   },
   "source": [
    "### 1-2. Tune Batch Size and Number of Epochs"
   ]
  },
  {
   "cell_type": "code",
   "execution_count": 49,
   "metadata": {
    "hidden": true
   },
   "outputs": [],
   "source": [
    "def create_model():\n",
    "    # create model\n",
    "    model = Sequential()\n",
    "    # Input + Hidden Layers\n",
    "    model.add(Dense(num_nodes, input_dim=n_input, activation='relu'))\n",
    "    # Hidden Layers\n",
    "    model.add(Dense((num_nodes+1)//2, activation='relu'))\n",
    "    # Output Layer\n",
    "    model.add(Dense(1, activation='sigmoid'))   \n",
    "    # Compile model\n",
    "    #sgd = SGD(lr=0.01, momentum=0.8)\n",
    "    model.compile(loss='binary_crossentropy', optimizer='adam', metrics=['accuracy'])\n",
    "    \n",
    "    return model"
   ]
  },
  {
   "cell_type": "code",
   "execution_count": 50,
   "metadata": {
    "hidden": true
   },
   "outputs": [],
   "source": [
    "estimators = []\n",
    "estimators.append(('norm', MinMaxScaler()))\n",
    "estimators.append(('mlp', KerasClassifier(build_fn=create_model, verbose=0)))\n",
    "pipeline = Pipeline(estimators)"
   ]
  },
  {
   "cell_type": "code",
   "execution_count": 52,
   "metadata": {
    "hidden": true
   },
   "outputs": [
    {
     "name": "stdout",
     "output_type": "stream",
     "text": [
      "Best: 0.884988 using {'mlp__batch_size': 512, 'mlp__epochs': 50}\n",
      "0.876638 (0.003409) with: {'mlp__batch_size': 16, 'mlp__epochs': 50}\n",
      "0.864177 (0.004338) with: {'mlp__batch_size': 16, 'mlp__epochs': 100}\n",
      "0.860116 (0.003607) with: {'mlp__batch_size': 16, 'mlp__epochs': 150}\n",
      "0.858155 (0.002768) with: {'mlp__batch_size': 16, 'mlp__epochs': 200}\n",
      "0.860837 (0.001818) with: {'mlp__batch_size': 16, 'mlp__epochs': 200}\n",
      "0.855157 (0.001381) with: {'mlp__batch_size': 16, 'mlp__epochs': 250}\n",
      "0.854638 (0.002760) with: {'mlp__batch_size': 16, 'mlp__epochs': 300}\n",
      "0.869490 (0.002094) with: {'mlp__batch_size': 32, 'mlp__epochs': 50}\n",
      "0.857446 (0.006471) with: {'mlp__batch_size': 32, 'mlp__epochs': 100}\n",
      "0.853892 (0.004657) with: {'mlp__batch_size': 32, 'mlp__epochs': 150}\n",
      "0.851564 (0.004904) with: {'mlp__batch_size': 32, 'mlp__epochs': 200}\n",
      "0.852917 (0.001733) with: {'mlp__batch_size': 32, 'mlp__epochs': 200}\n",
      "0.847073 (0.003577) with: {'mlp__batch_size': 32, 'mlp__epochs': 250}\n",
      "0.845694 (0.002205) with: {'mlp__batch_size': 32, 'mlp__epochs': 300}\n",
      "0.872754 (0.003941) with: {'mlp__batch_size': 64, 'mlp__epochs': 50}\n",
      "0.864822 (0.005129) with: {'mlp__batch_size': 64, 'mlp__epochs': 100}\n",
      "0.856093 (0.001774) with: {'mlp__batch_size': 64, 'mlp__epochs': 150}\n",
      "0.850083 (0.007917) with: {'mlp__batch_size': 64, 'mlp__epochs': 200}\n",
      "0.851197 (0.004243) with: {'mlp__batch_size': 64, 'mlp__epochs': 200}\n",
      "0.851703 (0.006456) with: {'mlp__batch_size': 64, 'mlp__epochs': 250}\n",
      "0.848312 (0.006480) with: {'mlp__batch_size': 64, 'mlp__epochs': 300}\n",
      "0.877220 (0.005229) with: {'mlp__batch_size': 128, 'mlp__epochs': 50}\n",
      "0.866277 (0.008670) with: {'mlp__batch_size': 128, 'mlp__epochs': 100}\n",
      "0.862595 (0.006978) with: {'mlp__batch_size': 128, 'mlp__epochs': 150}\n",
      "0.859850 (0.004417) with: {'mlp__batch_size': 128, 'mlp__epochs': 200}\n",
      "0.858383 (0.008539) with: {'mlp__batch_size': 128, 'mlp__epochs': 200}\n",
      "0.853525 (0.006307) with: {'mlp__batch_size': 128, 'mlp__epochs': 250}\n",
      "0.849970 (0.005437) with: {'mlp__batch_size': 128, 'mlp__epochs': 300}\n",
      "0.881180 (0.003939) with: {'mlp__batch_size': 256, 'mlp__epochs': 50}\n",
      "0.878017 (0.004669) with: {'mlp__batch_size': 256, 'mlp__epochs': 100}\n",
      "0.875930 (0.004178) with: {'mlp__batch_size': 256, 'mlp__epochs': 150}\n",
      "0.867061 (0.009842) with: {'mlp__batch_size': 256, 'mlp__epochs': 200}\n",
      "0.862684 (0.016167) with: {'mlp__batch_size': 256, 'mlp__epochs': 200}\n",
      "0.860521 (0.010464) with: {'mlp__batch_size': 256, 'mlp__epochs': 250}\n",
      "0.865733 (0.004133) with: {'mlp__batch_size': 256, 'mlp__epochs': 300}\n",
      "0.884988 (0.003328) with: {'mlp__batch_size': 512, 'mlp__epochs': 50}\n",
      "0.875727 (0.002975) with: {'mlp__batch_size': 512, 'mlp__epochs': 100}\n",
      "0.871603 (0.008046) with: {'mlp__batch_size': 512, 'mlp__epochs': 150}\n",
      "0.878321 (0.003924) with: {'mlp__batch_size': 512, 'mlp__epochs': 200}\n",
      "0.872969 (0.005016) with: {'mlp__batch_size': 512, 'mlp__epochs': 200}\n",
      "0.866695 (0.002704) with: {'mlp__batch_size': 512, 'mlp__epochs': 250}\n",
      "0.865720 (0.007080) with: {'mlp__batch_size': 512, 'mlp__epochs': 300}\n",
      "Execution time :  5:54:42.997249\n"
     ]
    }
   ],
   "source": [
    "init_time = datetime.now()\n",
    "# create model\n",
    "#model = KerasClassifier(build_fn=create_model, verbose=0)\n",
    "\n",
    "# define the grid search parameters\n",
    "param_grid = {\n",
    "    # Key = step name from pipeline + __ + hyperparameter, value = tuple of possible values\n",
    "    'mlp__batch_size': (16, 32, 64, 128, 256, 512),\n",
    "    'mlp__epochs': (100, 150, 200, 250, 300, 350)\n",
    "}\n",
    "#batch_size = [16, 32, 64, 128, 256, 512]\n",
    "#epochs = [50, 100, 150, 200, 200, 250, 300]\n",
    "#param_grid = dict(batch_size=batch_size, epochs=epochs)\n",
    "kfold = StratifiedKFold(n_splits=5, shuffle=True)\n",
    "grid = GridSearchCV(estimator=pipeline, param_grid=param_grid, n_jobs=-1, cv=kfold)\n",
    "grid_result = grid.fit(X_test, y_test)\n",
    "\n",
    "# summarize results\n",
    "print(\"Best: %f using %s\" % (grid_result.best_score_, grid_result.best_params_))\n",
    "means = grid_result.cv_results_['mean_test_score']\n",
    "stds = grid_result.cv_results_['std_test_score']\n",
    "params = grid_result.cv_results_['params']\n",
    "for mean, stdev, param in zip(means, stds, params):\n",
    "    print(\"%f (%f) with: %r\" % (mean, stdev, param))\n",
    "    \n",
    "fin_time = datetime.now()\n",
    "print(\"Execution time : \", (fin_time-init_time))"
   ]
  },
  {
   "cell_type": "markdown",
   "metadata": {
    "heading_collapsed": true
   },
   "source": [
    "### 3. Tune the Training Optimization Algorithm"
   ]
  },
  {
   "cell_type": "code",
   "execution_count": 19,
   "metadata": {
    "hidden": true
   },
   "outputs": [],
   "source": [
    "# Function to create model, required for KerasClassifier\n",
    "def create_model(optimizer='adam'):\n",
    "    # create model\n",
    "    model = Sequential()\n",
    "    # Input + Hidden Layers\n",
    "    model.add(Dense(num_nodes, input_dim=n_input, activation='relu'))\n",
    "    # Hidden Layers\n",
    "    model.add(Dense((num_nodes+1)//2, activation='relu'))\n",
    "    # Output Layer\n",
    "    model.add(Dense(1, activation='sigmoid'))\n",
    "    # Compile model\n",
    "    model.compile(loss='binary_crossentropy', optimizer=optimizer, metrics=['accuracy'])\n",
    "    return model"
   ]
  },
  {
   "cell_type": "code",
   "execution_count": 20,
   "metadata": {
    "hidden": true
   },
   "outputs": [],
   "source": [
    "estimators = []\n",
    "estimators.append(('norm', MinMaxScaler()))\n",
    "estimators.append(('mlp', KerasClassifier(build_fn=create_model, epochs=300, batch_size=32, verbose=0)))\n",
    "pipeline = Pipeline(estimators)"
   ]
  },
  {
   "cell_type": "code",
   "execution_count": 21,
   "metadata": {
    "hidden": true
   },
   "outputs": [
    {
     "name": "stdout",
     "output_type": "stream",
     "text": [
      "Best: 0.889479 using {'mlp__optimizer': 'Adagrad'}\n",
      "0.884963 (0.002223) with: {'mlp__optimizer': 'SGD'}\n",
      "0.887594 (0.002305) with: {'mlp__optimizer': 'RMSprop'}\n",
      "0.889479 (0.000944) with: {'mlp__optimizer': 'Adagrad'}\n",
      "0.888530 (0.001181) with: {'mlp__optimizer': 'Adadelta'}\n",
      "0.848768 (0.004870) with: {'mlp__optimizer': 'Adam'}\n",
      "0.869161 (0.000882) with: {'mlp__optimizer': 'Adamax'}\n",
      "0.847566 (0.001521) with: {'mlp__optimizer': 'Nadam'}\n",
      "Execution time :  2:34:12.603498\n"
     ]
    }
   ],
   "source": [
    "init_time = datetime.now()\n",
    "# create model\n",
    "# model = KerasClassifier(build_fn=create_model, epochs=300, batch_size=32, verbose=0)\n",
    "# define the grid search parameters\n",
    "param_grid = {\n",
    "    # Key = step name from pipeline + __ + hyperparameter, value = tuple of possible values\n",
    "    'mlp__optimizer': ('SGD', 'RMSprop', 'Adagrad', 'Adadelta', 'Adam', 'Adamax', 'Nadam')\n",
    "}\n",
    "#optimizer = ['SGD', 'RMSprop', 'Adagrad', 'Adadelta', 'Adam', 'Adamax', 'Nadam']\n",
    "#param_grid = dict(optimizer=optimizer)\n",
    "kfold = StratifiedKFold(n_splits=5, shuffle=True)\n",
    "grid = GridSearchCV(estimator=pipeline, param_grid=param_grid, n_jobs=-1, cv=kfold)\n",
    "grid_result = grid.fit(X_test, y_test)\n",
    "# summarize results\n",
    "print(\"Best: %f using %s\" % (grid_result.best_score_, grid_result.best_params_))\n",
    "means = grid_result.cv_results_['mean_test_score']\n",
    "stds = grid_result.cv_results_['std_test_score']\n",
    "params = grid_result.cv_results_['params']\n",
    "for mean, stdev, param in zip(means, stds, params):\n",
    "    print(\"%f (%f) with: %r\" % (mean, stdev, param))\n",
    "\n",
    "fin_time = datetime.now()\n",
    "print(\"Execution time : \", (fin_time-init_time))"
   ]
  },
  {
   "cell_type": "markdown",
   "metadata": {
    "heading_collapsed": true
   },
   "source": [
    "### 4-5. Tune Learning Rate and Momentum"
   ]
  },
  {
   "cell_type": "code",
   "execution_count": 23,
   "metadata": {
    "hidden": true
   },
   "outputs": [],
   "source": [
    "# Function to create model, required for KerasClassifier\n",
    "def create_model(learn_rate=0.01):\n",
    "    # create model\n",
    "    model = Sequential()\n",
    "    # Input + Hidden Layers\n",
    "    model.add(Dense(num_nodes, input_dim=n_input, activation='relu'))\n",
    "    # Hidden Layers\n",
    "    model.add(Dense((num_nodes+1)//2, activation='relu'))\n",
    "    # Output Layer\n",
    "    model.add(Dense(1, activation='sigmoid'))\n",
    "    # Compile model\n",
    "    #optimizer = SGD(lr=learn_rate, momentum=momentum)\n",
    "    optimizer = Adagrad(learning_rate=learn_rate)\n",
    "    #optimizer.learning_rate=learn_rate;\n",
    "    model.compile(loss='binary_crossentropy', optimizer=optimizer, metrics=['accuracy'])\n",
    "    return model"
   ]
  },
  {
   "cell_type": "code",
   "execution_count": 24,
   "metadata": {
    "hidden": true
   },
   "outputs": [],
   "source": [
    "estimators = []\n",
    "estimators.append(('norm', MinMaxScaler()))\n",
    "estimators.append(('mlp', KerasClassifier(build_fn=create_model, epochs=300, batch_size=32, verbose=0)))\n",
    "pipeline = Pipeline(estimators)"
   ]
  },
  {
   "cell_type": "code",
   "execution_count": 25,
   "metadata": {
    "hidden": true
   },
   "outputs": [
    {
     "name": "stdout",
     "output_type": "stream",
     "text": [
      "Best: 0.889302 using {'mlp__learn_rate': 0.001}\n",
      "0.889302 (0.001483) with: {'mlp__learn_rate': 0.001}\n",
      "0.884406 (0.002373) with: {'mlp__learn_rate': 0.01}\n",
      "0.851349 (0.004219) with: {'mlp__learn_rate': 0.1}\n",
      "0.844896 (0.003451) with: {'mlp__learn_rate': 0.2}\n",
      "0.846503 (0.003708) with: {'mlp__learn_rate': 0.3}\n",
      "Execution time :  1:37:40.910201\n"
     ]
    }
   ],
   "source": [
    "init_time = datetime.now()\n",
    "# create model\n",
    "# model = KerasClassifier(build_fn=create_model, epochs=300, batch_size=32, verbose=0)\n",
    "# define the grid search parameters\n",
    "# define the grid search parameters\n",
    "param_grid = {\n",
    "    # Key = step name from pipeline + __ + hyperparameter, value = tuple of possible values\n",
    "    'mlp__learn_rate': (0.0001, 0.001, 0.01, 0.1, 0.2, 0.3)\n",
    "}\n",
    "#learn_rate = [0.001, 0.01, 0.1, 0.2, 0.3]\n",
    "#momentum = [0.0, 0.2, 0.4, 0.6, 0.8, 0.9]\n",
    "#param_grid = dict(learn_rate=learn_rate, momentum=momentum)\n",
    "#param_grid = dict(learn_rate=learn_rate)\n",
    "kfold = StratifiedKFold(n_splits=5, shuffle=True)\n",
    "grid = GridSearchCV(estimator=pipeline, param_grid=param_grid, n_jobs=-1, cv=kfold)\n",
    "grid_result = grid.fit(X_test, y_test)\n",
    "# summarize results\n",
    "print(\"Best: %f using %s\" % (grid_result.best_score_, grid_result.best_params_))\n",
    "means = grid_result.cv_results_['mean_test_score']\n",
    "stds = grid_result.cv_results_['std_test_score']\n",
    "params = grid_result.cv_results_['params']\n",
    "for mean, stdev, param in zip(means, stds, params):\n",
    "    print(\"%f (%f) with: %r\" % (mean, stdev, param))\n",
    "\n",
    "fin_time = datetime.now()\n",
    "print(\"Execution time : \", (fin_time-init_time))"
   ]
  },
  {
   "cell_type": "markdown",
   "metadata": {
    "heading_collapsed": true
   },
   "source": [
    "### 6. Tune Network Kernel/Weight Initialization"
   ]
  },
  {
   "cell_type": "code",
   "execution_count": 26,
   "metadata": {
    "hidden": true
   },
   "outputs": [],
   "source": [
    "# Function to create model, required for KerasClassifier\n",
    "def create_model(init_mode='uniform'):\n",
    "    # create model\n",
    "    model = Sequential()\n",
    "    # Input + Hidden Layers\n",
    "    model.add(Dense(num_nodes, input_dim=n_input, kernel_initializer=init_mode, activation='relu'))\n",
    "    # Hidden Layers\n",
    "    model.add(Dense((num_nodes+1)//2, kernel_initializer=init_mode, activation='relu'))\n",
    "    # Output Layer\n",
    "    model.add(Dense(1, kernel_initializer=init_mode, activation='sigmoid'))\n",
    "    # Compile model\n",
    "    model.compile(loss='binary_crossentropy', optimizer='Adagrad', metrics=['accuracy'])\n",
    "    return model"
   ]
  },
  {
   "cell_type": "code",
   "execution_count": 27,
   "metadata": {
    "hidden": true
   },
   "outputs": [],
   "source": [
    "estimators = []\n",
    "estimators.append(('norm', MinMaxScaler()))\n",
    "estimators.append(('mlp', KerasClassifier(build_fn=create_model, epochs=300, batch_size=32, verbose=0)))\n",
    "pipeline = Pipeline(estimators)"
   ]
  },
  {
   "cell_type": "code",
   "execution_count": 28,
   "metadata": {
    "hidden": true
   },
   "outputs": [
    {
     "name": "stdout",
     "output_type": "stream",
     "text": [
      "Best: 0.889454 using {'mlp__init_mode': 'uniform'}\n",
      "0.889454 (0.002410) with: {'mlp__init_mode': 'uniform'}\n",
      "0.889264 (0.002288) with: {'mlp__init_mode': 'lecun_uniform'}\n",
      "0.889289 (0.002312) with: {'mlp__init_mode': 'normal'}\n",
      "0.804906 (0.000025) with: {'mlp__init_mode': 'zero'}\n",
      "0.889176 (0.002344) with: {'mlp__init_mode': 'glorot_normal'}\n",
      "0.889062 (0.002333) with: {'mlp__init_mode': 'glorot_uniform'}\n",
      "0.888973 (0.002088) with: {'mlp__init_mode': 'he_normal'}\n",
      "0.888708 (0.002065) with: {'mlp__init_mode': 'he_uniform'}\n",
      "Execution time :  2:23:11.523127\n"
     ]
    }
   ],
   "source": [
    "init_time = datetime.now()\n",
    "# create model\n",
    "#model = KerasClassifier(build_fn=create_model, epochs=300, batch_size=32, verbose=0)\n",
    "# define the grid search parameters\n",
    "param_grid = {\n",
    "    # Key = step name from pipeline + __ + hyperparameter, value = tuple of possible values\n",
    "    'mlp__init_mode': ('uniform', 'lecun_uniform', 'normal', 'zero', 'glorot_normal', 'glorot_uniform', 'he_normal', 'he_uniform')\n",
    "}\n",
    "#init_mode = ['uniform', 'lecun_uniform', 'normal', 'zero', 'glorot_normal', 'glorot_uniform', 'he_normal', 'he_uniform']\n",
    "#param_grid = dict(init_mode=init_mode)\n",
    "kfold = StratifiedKFold(n_splits=5, shuffle=True)\n",
    "grid = GridSearchCV(estimator=pipeline, param_grid=param_grid, n_jobs=-1, cv=kfold)\n",
    "grid_result = grid.fit(X_test, y_test)\n",
    "# summarize results\n",
    "print(\"Best: %f using %s\" % (grid_result.best_score_, grid_result.best_params_))\n",
    "means = grid_result.cv_results_['mean_test_score']\n",
    "stds = grid_result.cv_results_['std_test_score']\n",
    "params = grid_result.cv_results_['params']\n",
    "for mean, stdev, param in zip(means, stds, params):\n",
    "    print(\"%f (%f) with: %r\" % (mean, stdev, param))\n",
    "    \n",
    "fin_time = datetime.now()\n",
    "print(\"Execution time : \", (fin_time-init_time))"
   ]
  },
  {
   "cell_type": "markdown",
   "metadata": {
    "heading_collapsed": true
   },
   "source": [
    "### 7. Tune the Activation Function"
   ]
  },
  {
   "cell_type": "code",
   "execution_count": 33,
   "metadata": {
    "hidden": true
   },
   "outputs": [],
   "source": [
    "# Function to create model, required for KerasClassifier\n",
    "def create_model(activation='relu'):\n",
    "    # create model\n",
    "    model = Sequential()\n",
    "    # Input + Hidden Layers\n",
    "    model.add(Dense(num_nodes, input_dim=n_input, activation=activation))\n",
    "    # Hidden Layers\n",
    "    model.add(Dense((num_nodes+1)//2, activation=activation))\n",
    "    # Output Layer\n",
    "    model.add(Dense(1, activation='sigmoid'))\n",
    "    # Compile model\n",
    "    model.compile(loss='binary_crossentropy', optimizer='Adagrad', metrics=['accuracy'])\n",
    "    return model"
   ]
  },
  {
   "cell_type": "code",
   "execution_count": 34,
   "metadata": {
    "hidden": true
   },
   "outputs": [],
   "source": [
    "estimators = []\n",
    "estimators.append(('norm', MinMaxScaler()))\n",
    "estimators.append(('mlp', KerasClassifier(build_fn=create_model, epochs=300, batch_size=32, verbose=0)))\n",
    "pipeline = Pipeline(estimators)"
   ]
  },
  {
   "cell_type": "code",
   "execution_count": 39,
   "metadata": {
    "hidden": true
   },
   "outputs": [
    {
     "name": "stdout",
     "output_type": "stream",
     "text": [
      "Best: 0.889479 using {'mlp__activation': 'relu'}\n",
      "0.889479 (0.001221) with: {'mlp__activation': 'relu'}\n",
      "nan (nan) with: {'mlp__activation': 'prelu'}\n",
      "nan (nan) with: {'mlp__activation': 'leakyrelu'}\n",
      "0.889252 (0.001135) with: {'mlp__activation': 'elu'}\n",
      "Execution time :  0:42:57.677364\n"
     ]
    }
   ],
   "source": [
    "init_time = datetime.now()\n",
    "# create model\n",
    "# model = KerasClassifier(build_fn=create_model, epochs=300, batch_size=32, verbose=0)\n",
    "# define the grid search parameters\n",
    "# activation = ['softmax', 'softplus', 'softsign', 'relu', 'tanh', 'sigmoid', 'hard_sigmoid', 'linear']\n",
    "# define the grid search parameters  ReLU, PReLU, LeakyReLU, ELU\n",
    "param_grid = {\n",
    "    # Key = step name from pipeline + __ + hyperparameter, value = tuple of possible values\n",
    "    'mlp__activation': ('relu', 'prelu', 'leakyrelu', 'elu')\n",
    "}\n",
    "#activation = ['relu', 'LReLU', 'PReLU', 'elu']\n",
    "#param_grid = dict(activation=activation)\n",
    "kfold = StratifiedKFold(n_splits=5, shuffle=True)\n",
    "grid = GridSearchCV(estimator=pipeline, param_grid=param_grid, n_jobs=-1, cv=kfold)\n",
    "grid_result = grid.fit(X_test, y_test)\n",
    "# summarize results\n",
    "print(\"Best: %f using %s\" % (grid_result.best_score_, grid_result.best_params_))\n",
    "means = grid_result.cv_results_['mean_test_score']\n",
    "stds = grid_result.cv_results_['std_test_score']\n",
    "params = grid_result.cv_results_['params']\n",
    "for mean, stdev, param in zip(means, stds, params):\n",
    "    print(\"%f (%f) with: %r\" % (mean, stdev, param))\n",
    "    \n",
    "fin_time = datetime.now()\n",
    "print(\"Execution time : \", (fin_time-init_time))"
   ]
  },
  {
   "cell_type": "markdown",
   "metadata": {
    "heading_collapsed": true
   },
   "source": [
    "### 8-9. Tune Activity Regularization (L1) & Weight Regularization (L2) "
   ]
  },
  {
   "cell_type": "markdown",
   "metadata": {
    "hidden": true
   },
   "source": [
    "A modern recommendation for regularization is to use early stopping with dropout and a weight constraint."
   ]
  },
  {
   "cell_type": "code",
   "execution_count": 19,
   "metadata": {
    "hidden": true
   },
   "outputs": [],
   "source": [
    "# Function to create model, required for KerasClassifier\n",
    "def create_model(l1=0.0, l2=0.0):\n",
    "    # create model\n",
    "    model = Sequential()\n",
    "    # Input + Hidden Layers\n",
    "    model.add(Dense(num_nodes, input_dim=n_input, activation='relu', \n",
    "                     kernel_regularizer=L1L2(l1=l1, l2=l2)))\n",
    "    model.add(Dropout(0.2))\n",
    "    # Hidden Layers\n",
    "    model.add(Dense((num_nodes+1)//2, activation='relu'))\n",
    "    model.add(Dropout(0.2))\n",
    "    # Output Layer\n",
    "    model.add(Dense(1, activation='sigmoid'))\n",
    "    # Compile model\n",
    "    model.compile(loss='binary_crossentropy', optimizer='Adagrad', metrics=['accuracy'])\n",
    "    return model"
   ]
  },
  {
   "cell_type": "code",
   "execution_count": 20,
   "metadata": {
    "hidden": true
   },
   "outputs": [],
   "source": [
    "estimators = []\n",
    "estimators.append(('norm', MinMaxScaler()))\n",
    "estimators.append(('mlp', KerasClassifier(build_fn=create_model, epochs=300, batch_size=32, verbose=0)))\n",
    "pipeline = Pipeline(estimators)"
   ]
  },
  {
   "cell_type": "code",
   "execution_count": 21,
   "metadata": {
    "hidden": true
   },
   "outputs": [
    {
     "name": "stdout",
     "output_type": "stream",
     "text": [
      "Best: 0.889353 using {'mlp__l1': 0.0001, 'mlp__l2': 0.0}\n",
      "0.804906 (0.000025) with: {'mlp__l1': 0.1, 'mlp__l2': 0.1}\n",
      "0.804906 (0.000025) with: {'mlp__l1': 0.1, 'mlp__l2': 0.01}\n",
      "0.804906 (0.000025) with: {'mlp__l1': 0.1, 'mlp__l2': 0.001}\n",
      "0.804906 (0.000025) with: {'mlp__l1': 0.1, 'mlp__l2': 0.0001}\n",
      "0.804906 (0.000025) with: {'mlp__l1': 0.1, 'mlp__l2': 1e-05}\n",
      "0.804906 (0.000025) with: {'mlp__l1': 0.1, 'mlp__l2': 1e-06}\n",
      "0.804906 (0.000025) with: {'mlp__l1': 0.1, 'mlp__l2': 0.0}\n",
      "0.888303 (0.001864) with: {'mlp__l1': 0.01, 'mlp__l2': 0.1}\n",
      "0.888923 (0.001714) with: {'mlp__l1': 0.01, 'mlp__l2': 0.01}\n",
      "0.888733 (0.001696) with: {'mlp__l1': 0.01, 'mlp__l2': 0.001}\n",
      "0.888720 (0.001735) with: {'mlp__l1': 0.01, 'mlp__l2': 0.0001}\n",
      "0.888897 (0.001674) with: {'mlp__l1': 0.01, 'mlp__l2': 1e-05}\n",
      "0.888897 (0.001674) with: {'mlp__l1': 0.01, 'mlp__l2': 1e-06}\n",
      "0.888897 (0.001674) with: {'mlp__l1': 0.01, 'mlp__l2': 0.0}\n",
      "0.888758 (0.001955) with: {'mlp__l1': 0.001, 'mlp__l2': 0.1}\n",
      "0.888644 (0.002058) with: {'mlp__l1': 0.001, 'mlp__l2': 0.01}\n",
      "0.888391 (0.002089) with: {'mlp__l1': 0.001, 'mlp__l2': 0.001}\n",
      "0.888379 (0.001732) with: {'mlp__l1': 0.001, 'mlp__l2': 0.0001}\n",
      "0.888594 (0.002337) with: {'mlp__l1': 0.001, 'mlp__l2': 1e-05}\n",
      "0.888404 (0.001852) with: {'mlp__l1': 0.001, 'mlp__l2': 1e-06}\n",
      "0.888581 (0.001599) with: {'mlp__l1': 0.001, 'mlp__l2': 0.0}\n",
      "0.889011 (0.001974) with: {'mlp__l1': 0.0001, 'mlp__l2': 0.1}\n",
      "0.889062 (0.001970) with: {'mlp__l1': 0.0001, 'mlp__l2': 0.01}\n",
      "0.888783 (0.001427) with: {'mlp__l1': 0.0001, 'mlp__l2': 0.001}\n",
      "0.889024 (0.001402) with: {'mlp__l1': 0.0001, 'mlp__l2': 0.0001}\n",
      "0.888961 (0.001757) with: {'mlp__l1': 0.0001, 'mlp__l2': 1e-05}\n",
      "0.888859 (0.001622) with: {'mlp__l1': 0.0001, 'mlp__l2': 1e-06}\n",
      "0.889353 (0.001438) with: {'mlp__l1': 0.0001, 'mlp__l2': 0.0}\n",
      "0.889011 (0.001970) with: {'mlp__l1': 1e-05, 'mlp__l2': 0.1}\n",
      "0.889252 (0.001900) with: {'mlp__l1': 1e-05, 'mlp__l2': 0.01}\n",
      "0.889163 (0.001747) with: {'mlp__l1': 1e-05, 'mlp__l2': 0.001}\n",
      "0.889024 (0.001475) with: {'mlp__l1': 1e-05, 'mlp__l2': 0.0001}\n",
      "0.889011 (0.001966) with: {'mlp__l1': 1e-05, 'mlp__l2': 1e-05}\n",
      "0.889188 (0.001773) with: {'mlp__l1': 1e-05, 'mlp__l2': 1e-06}\n",
      "0.888910 (0.001803) with: {'mlp__l1': 1e-05, 'mlp__l2': 0.0}\n",
      "0.888999 (0.001835) with: {'mlp__l1': 1e-06, 'mlp__l2': 0.1}\n",
      "0.889252 (0.001957) with: {'mlp__l1': 1e-06, 'mlp__l2': 0.01}\n",
      "0.889327 (0.001690) with: {'mlp__l1': 1e-06, 'mlp__l2': 0.001}\n",
      "0.888961 (0.001388) with: {'mlp__l1': 1e-06, 'mlp__l2': 0.0001}\n",
      "0.888834 (0.001412) with: {'mlp__l1': 1e-06, 'mlp__l2': 1e-05}\n",
      "0.889315 (0.001757) with: {'mlp__l1': 1e-06, 'mlp__l2': 1e-06}\n",
      "0.889087 (0.001442) with: {'mlp__l1': 1e-06, 'mlp__l2': 0.0}\n",
      "0.889125 (0.001847) with: {'mlp__l1': 0.0, 'mlp__l2': 0.1}\n",
      "0.889036 (0.001619) with: {'mlp__l1': 0.0, 'mlp__l2': 0.01}\n",
      "0.889024 (0.001507) with: {'mlp__l1': 0.0, 'mlp__l2': 0.001}\n",
      "0.889024 (0.001561) with: {'mlp__l1': 0.0, 'mlp__l2': 0.0001}\n",
      "0.889315 (0.001242) with: {'mlp__l1': 0.0, 'mlp__l2': 1e-05}\n",
      "0.889062 (0.001485) with: {'mlp__l1': 0.0, 'mlp__l2': 1e-06}\n",
      "0.889239 (0.001444) with: {'mlp__l1': 0.0, 'mlp__l2': 0.0}\n",
      "Execution time :  17:01:17.154350\n"
     ]
    }
   ],
   "source": [
    "init_time = datetime.now()\n",
    "# create model\n",
    "#model = KerasClassifier(build_fn=create_model, epochs=300, batch_size=32, verbose=0)\n",
    "# define the grid search parameters\n",
    "param_grid = {\n",
    "    # Key = step name from pipeline + __ + hyperparameter, value = tuple of possible values\n",
    "    'mlp__l1': (0.100000, 0.010000, 0.001000, 0.000100, 0.000010, 0.000001, 0.0),\n",
    "    'mlp__l2': (0.100000, 0.010000, 0.001000, 0.000100, 0.000010, 0.000001, 0.0)\n",
    "}\n",
    "#l1 = [0.100000, 0.010000, 0.001000, 0.000100, 0.000010, 0.000001, 0.0]\n",
    "#l2 = [0.100000, 0.010000, 0.001000, 0.000100, 0.000010, 0.000001, 0.0]\n",
    "#param_grid = dict(l1=l1, l2=l2)\n",
    "kfold = StratifiedKFold(n_splits=5, shuffle=True)\n",
    "grid = GridSearchCV(estimator=pipeline, param_grid=param_grid, n_jobs=-1, cv=kfold)\n",
    "grid_result = grid.fit(X_test, y_test)\n",
    "# summarize results\n",
    "print(\"Best: %f using %s\" % (grid_result.best_score_, grid_result.best_params_))\n",
    "means = grid_result.cv_results_['mean_test_score']\n",
    "stds = grid_result.cv_results_['std_test_score']\n",
    "params = grid_result.cv_results_['params']\n",
    "\n",
    "for mean, stdev, param in zip(means, stds, params):\n",
    "    print(\"%f (%f) with: %r\" % (mean, stdev, param))\n",
    "    \n",
    "fin_time = datetime.now()\n",
    "print(\"Execution time : \", (fin_time-init_time))"
   ]
  },
  {
   "cell_type": "markdown",
   "metadata": {
    "heading_collapsed": true
   },
   "source": [
    "### 10-11. Tune Dropout Regularization and Weight Constraint"
   ]
  },
  {
   "cell_type": "markdown",
   "metadata": {
    "hidden": true
   },
   "source": [
    "* Early stopping should be used almost universally.\n",
    "* The constraints are specified per-layer,"
   ]
  },
  {
   "cell_type": "code",
   "execution_count": 27,
   "metadata": {
    "hidden": true
   },
   "outputs": [],
   "source": [
    "# Function to create model, required for KerasClassifier\n",
    "def create_model(dropout_rate=0.0, weight_constraint=0):\n",
    "    # create model\n",
    "    model = Sequential()\n",
    "    # Input + Hidden Layers\n",
    "    model.add(Dense(num_nodes, input_dim=n_input, activation='relu', \n",
    "                    kernel_constraint=max_norm(weight_constraint)))\n",
    "    model.add(Dropout(dropout_rate))\n",
    "    # Hidden Layers\n",
    "    model.add(Dense((num_nodes+1)//2, activation='relu', kernel_constraint=max_norm(weight_constraint)))\n",
    "    model.add(Dropout(dropout_rate))\n",
    "    # Output Layer\n",
    "    model.add(Dense(1, activation='sigmoid'))\n",
    "    # Compile model\n",
    "    model.compile(loss='binary_crossentropy', optimizer='Adagrad', metrics=['accuracy'])\n",
    "    return model"
   ]
  },
  {
   "cell_type": "code",
   "execution_count": 28,
   "metadata": {
    "hidden": true
   },
   "outputs": [],
   "source": [
    "estimators = []\n",
    "estimators.append(('norm', MinMaxScaler()))\n",
    "estimators.append(('mlp', KerasClassifier(build_fn=create_model, epochs=300, batch_size=32, verbose=0)))\n",
    "pipeline = Pipeline(estimators)"
   ]
  },
  {
   "cell_type": "code",
   "execution_count": 29,
   "metadata": {
    "hidden": true
   },
   "outputs": [
    {
     "name": "stdout",
     "output_type": "stream",
     "text": [
      "Best: 0.889593 using {'mlp__dropout_rate': 0.0, 'mlp__weight_constraint': 1}\n",
      "0.889593 (0.001632) with: {'mlp__dropout_rate': 0.0, 'mlp__weight_constraint': 1}\n",
      "0.889479 (0.001832) with: {'mlp__dropout_rate': 0.0, 'mlp__weight_constraint': 2}\n",
      "0.889441 (0.001793) with: {'mlp__dropout_rate': 0.0, 'mlp__weight_constraint': 3}\n",
      "0.889492 (0.002170) with: {'mlp__dropout_rate': 0.0, 'mlp__weight_constraint': 4}\n",
      "0.889176 (0.001563) with: {'mlp__dropout_rate': 0.0, 'mlp__weight_constraint': 5}\n",
      "0.889087 (0.002129) with: {'mlp__dropout_rate': 0.1, 'mlp__weight_constraint': 1}\n",
      "0.888910 (0.001595) with: {'mlp__dropout_rate': 0.1, 'mlp__weight_constraint': 2}\n",
      "0.888986 (0.002102) with: {'mlp__dropout_rate': 0.1, 'mlp__weight_constraint': 3}\n",
      "0.889036 (0.001986) with: {'mlp__dropout_rate': 0.1, 'mlp__weight_constraint': 4}\n",
      "0.889201 (0.001874) with: {'mlp__dropout_rate': 0.1, 'mlp__weight_constraint': 5}\n",
      "0.889290 (0.001738) with: {'mlp__dropout_rate': 0.2, 'mlp__weight_constraint': 1}\n",
      "0.889074 (0.001925) with: {'mlp__dropout_rate': 0.2, 'mlp__weight_constraint': 2}\n",
      "0.889138 (0.002075) with: {'mlp__dropout_rate': 0.2, 'mlp__weight_constraint': 3}\n",
      "0.889176 (0.001858) with: {'mlp__dropout_rate': 0.2, 'mlp__weight_constraint': 4}\n",
      "0.888809 (0.001957) with: {'mlp__dropout_rate': 0.2, 'mlp__weight_constraint': 5}\n",
      "0.889226 (0.001712) with: {'mlp__dropout_rate': 0.3, 'mlp__weight_constraint': 1}\n",
      "0.889049 (0.002120) with: {'mlp__dropout_rate': 0.3, 'mlp__weight_constraint': 2}\n",
      "0.888973 (0.002123) with: {'mlp__dropout_rate': 0.3, 'mlp__weight_constraint': 3}\n",
      "0.888872 (0.002132) with: {'mlp__dropout_rate': 0.3, 'mlp__weight_constraint': 4}\n",
      "0.888999 (0.001933) with: {'mlp__dropout_rate': 0.3, 'mlp__weight_constraint': 5}\n",
      "0.889138 (0.002092) with: {'mlp__dropout_rate': 0.4, 'mlp__weight_constraint': 1}\n",
      "0.889150 (0.002126) with: {'mlp__dropout_rate': 0.4, 'mlp__weight_constraint': 2}\n",
      "0.888935 (0.001853) with: {'mlp__dropout_rate': 0.4, 'mlp__weight_constraint': 3}\n",
      "0.889074 (0.002234) with: {'mlp__dropout_rate': 0.4, 'mlp__weight_constraint': 4}\n",
      "0.889150 (0.002064) with: {'mlp__dropout_rate': 0.4, 'mlp__weight_constraint': 5}\n",
      "0.889087 (0.002057) with: {'mlp__dropout_rate': 0.5, 'mlp__weight_constraint': 1}\n",
      "0.888910 (0.002088) with: {'mlp__dropout_rate': 0.5, 'mlp__weight_constraint': 2}\n",
      "0.889036 (0.001954) with: {'mlp__dropout_rate': 0.5, 'mlp__weight_constraint': 3}\n",
      "0.888948 (0.002027) with: {'mlp__dropout_rate': 0.5, 'mlp__weight_constraint': 4}\n",
      "0.888935 (0.002055) with: {'mlp__dropout_rate': 0.5, 'mlp__weight_constraint': 5}\n",
      "0.888986 (0.002121) with: {'mlp__dropout_rate': 0.6, 'mlp__weight_constraint': 1}\n",
      "0.888999 (0.002092) with: {'mlp__dropout_rate': 0.6, 'mlp__weight_constraint': 2}\n",
      "0.888897 (0.002185) with: {'mlp__dropout_rate': 0.6, 'mlp__weight_constraint': 3}\n",
      "0.888961 (0.001964) with: {'mlp__dropout_rate': 0.6, 'mlp__weight_constraint': 4}\n",
      "0.889024 (0.002177) with: {'mlp__dropout_rate': 0.6, 'mlp__weight_constraint': 5}\n",
      "0.888859 (0.002057) with: {'mlp__dropout_rate': 0.7, 'mlp__weight_constraint': 1}\n",
      "0.888910 (0.002004) with: {'mlp__dropout_rate': 0.7, 'mlp__weight_constraint': 2}\n",
      "0.888872 (0.002077) with: {'mlp__dropout_rate': 0.7, 'mlp__weight_constraint': 3}\n",
      "0.888910 (0.002046) with: {'mlp__dropout_rate': 0.7, 'mlp__weight_constraint': 4}\n",
      "0.888961 (0.002133) with: {'mlp__dropout_rate': 0.7, 'mlp__weight_constraint': 5}\n",
      "0.872033 (0.026101) with: {'mlp__dropout_rate': 0.8, 'mlp__weight_constraint': 1}\n",
      "0.882230 (0.009016) with: {'mlp__dropout_rate': 0.8, 'mlp__weight_constraint': 2}\n",
      "0.872033 (0.029482) with: {'mlp__dropout_rate': 0.8, 'mlp__weight_constraint': 3}\n",
      "0.875614 (0.023046) with: {'mlp__dropout_rate': 0.8, 'mlp__weight_constraint': 4}\n",
      "0.861293 (0.029198) with: {'mlp__dropout_rate': 0.8, 'mlp__weight_constraint': 5}\n",
      "0.804906 (0.000025) with: {'mlp__dropout_rate': 0.9, 'mlp__weight_constraint': 1}\n",
      "0.804906 (0.000025) with: {'mlp__dropout_rate': 0.9, 'mlp__weight_constraint': 2}\n",
      "0.804906 (0.000025) with: {'mlp__dropout_rate': 0.9, 'mlp__weight_constraint': 3}\n",
      "0.804906 (0.000025) with: {'mlp__dropout_rate': 0.9, 'mlp__weight_constraint': 4}\n",
      "0.804906 (0.000025) with: {'mlp__dropout_rate': 0.9, 'mlp__weight_constraint': 5}\n",
      "Execution time :  17:09:07.442736\n"
     ]
    }
   ],
   "source": [
    "init_time = datetime.now()\n",
    "# create model\n",
    "# model = KerasClassifier(build_fn=create_model, epochs=300, batch_size=32, verbose=0)\n",
    "# define the grid search parameters\n",
    "# define the grid search parameters\n",
    "param_grid = {\n",
    "    # Key = step name from pipeline + __ + hyperparameter, value = tuple of possible values\n",
    "    'mlp__dropout_rate': (0.0, 0.1, 0.2, 0.3, 0.4, 0.5, 0.6, 0.7, 0.8, 0.9),\n",
    "    'mlp__weight_constraint': (1, 2, 3, 4, 5)\n",
    "}\n",
    "#weight_constraint = [1, 2, 3, 4, 5]\n",
    "#dropout_rate = [0.0, 0.1, 0.2, 0.3, 0.4, 0.5, 0.6, 0.7, 0.8, 0.9]\n",
    "#param_grid = dict(dropout_rate=dropout_rate, weight_constraint=weight_constraint)\n",
    "kfold = StratifiedKFold(n_splits=5, shuffle=True)\n",
    "grid = GridSearchCV(estimator=pipeline, param_grid=param_grid, n_jobs=-1, cv=kfold)\n",
    "grid_result = grid.fit(X_test, y_test)\n",
    "# summarize results\n",
    "print(\"Best: %f using %s\" % (grid_result.best_score_, grid_result.best_params_))\n",
    "means = grid_result.cv_results_['mean_test_score']\n",
    "stds = grid_result.cv_results_['std_test_score']\n",
    "params = grid_result.cv_results_['params']\n",
    "for mean, stdev, param in zip(means, stds, params):\n",
    "    print(\"%f (%f) with: %r\" % (mean, stdev, param))\n",
    "    \n",
    "fin_time = datetime.now()\n",
    "print(\"Execution time : \", (fin_time-init_time))"
   ]
  },
  {
   "cell_type": "markdown",
   "metadata": {
    "heading_collapsed": true
   },
   "source": [
    "### 12. Tune with Batch Normalization"
   ]
  },
  {
   "cell_type": "code",
   "execution_count": 53,
   "metadata": {
    "hidden": true
   },
   "outputs": [],
   "source": [
    "# Function to create model, required for KerasClassifier\n",
    "def create_model():\n",
    "    # create model\n",
    "    model = Sequential()\n",
    "    # Input + Hidden Layers\n",
    "    model.add(Dense(num_nodes, input_dim=n_input, activation='relu'))\n",
    "    model.add(BatchNormalization())\n",
    "    # Hidden Layers\n",
    "    model.add(Dense((num_nodes+1)//2, activation='relu'))\n",
    "    model.add(BatchNormalization())\n",
    "    \n",
    "    # Output Layer\n",
    "    model.add(Dense(1, activation='sigmoid'))\n",
    "    # Compile model\n",
    "    model.compile(loss='binary_crossentropy', optimizer='Adagrad', metrics=['accuracy'])\n",
    "    return model"
   ]
  },
  {
   "cell_type": "code",
   "execution_count": 54,
   "metadata": {
    "hidden": true
   },
   "outputs": [],
   "source": [
    "estimators = []\n",
    "estimators.append(('norm', MinMaxScaler()))\n",
    "estimators.append(('mlp', KerasClassifier(build_fn=create_model, epochs=300, batch_size=32, verbose=0)))\n",
    "pipeline = Pipeline(estimators)"
   ]
  },
  {
   "cell_type": "code",
   "execution_count": 55,
   "metadata": {
    "hidden": true
   },
   "outputs": [
    {
     "name": "stdout",
     "output_type": "stream",
     "text": [
      "Baseline: 88.75% (0.20%)\n",
      "Execution time :  0:45:37.850725\n"
     ]
    }
   ],
   "source": [
    "init_time = datetime.now()\n",
    "kfold = StratifiedKFold(n_splits=5, shuffle=True)\n",
    "results = cross_val_score(pipeline, X_test, y_test, cv=kfold)\n",
    "print(\"Baseline: %.2f%% (%.2f%%)\" % (results.mean()*100, results.std()*100))\n",
    "fin_time = datetime.now()\n",
    "print(\"Execution time : \", (fin_time-init_time))"
   ]
  },
  {
   "cell_type": "markdown",
   "metadata": {
    "heading_collapsed": true
   },
   "source": [
    "### 13. Tune the Number of Neurons in the Hidden Layer"
   ]
  },
  {
   "cell_type": "code",
   "execution_count": 20,
   "metadata": {
    "hidden": true
   },
   "outputs": [],
   "source": [
    "# Function to create model, required for KerasClassifier\n",
    "def create_model(neurons=num_nodes):\n",
    "    # create model\n",
    "    model = Sequential()\n",
    "    # Input + Hidden Layers\n",
    "    model.add(Dense(neurons, input_dim=n_input, activation='relu', \n",
    "                    kernel_constraint=max_norm(1)))\n",
    "    model.add(Dropout(0.0))\n",
    "    # Hidden Layers\n",
    "    model.add(Dense((neurons+1)//2, activation='relu'))\n",
    "    model.add(Dropout(0.0))\n",
    "    # Output Layer\n",
    "    model.add(Dense(1, activation='sigmoid'))\n",
    "    # Compile model\n",
    "    model.compile(loss='binary_crossentropy', optimizer='Adagrad', metrics=['accuracy'])\n",
    "    return model"
   ]
  },
  {
   "cell_type": "code",
   "execution_count": 21,
   "metadata": {
    "hidden": true
   },
   "outputs": [],
   "source": [
    "estimators = []\n",
    "estimators.append(('norm', MinMaxScaler()))\n",
    "estimators.append(('mlp', KerasClassifier(build_fn=create_model, epochs=300, batch_size=32, verbose=0)))\n",
    "pipeline = Pipeline(estimators)"
   ]
  },
  {
   "cell_type": "code",
   "execution_count": 22,
   "metadata": {
    "hidden": true
   },
   "outputs": [
    {
     "name": "stdout",
     "output_type": "stream",
     "text": [
      "Best: 0.889631 using {'mlp__neurons': 128}\n",
      "0.889252 (0.002310) with: {'mlp__neurons': 512}\n",
      "0.888935 (0.002385) with: {'mlp__neurons': 256}\n",
      "0.889631 (0.002567) with: {'mlp__neurons': 128}\n",
      "0.889429 (0.002557) with: {'mlp__neurons': 64}\n",
      "0.889062 (0.002145) with: {'mlp__neurons': 32}\n",
      "0.889037 (0.002306) with: {'mlp__neurons': 16}\n",
      "Execution time :  3:16:54.855942\n"
     ]
    }
   ],
   "source": [
    "init_time = datetime.now()\n",
    "# create model\n",
    "#model = KerasClassifier(build_fn=create_model, epochs=300, batch_size=32, verbose=0)\n",
    "# define the grid search parameters\n",
    "param_grid = {\n",
    "    # Key = step name from pipeline + __ + hyperparameter, value = tuple of possible values\n",
    "    'mlp__neurons': (512, 256, 128, 64, 32, 16)\n",
    "}\n",
    "#neurons = [512, 256, 128, 64, 32, 16]\n",
    "#param_grid = dict(neurons=neurons)\n",
    "kfold = StratifiedKFold(n_splits=5, shuffle=True)\n",
    "grid = GridSearchCV(estimator=pipeline, param_grid=param_grid, n_jobs=-1, cv=kfold)\n",
    "grid_result = grid.fit(X_test, y_test)\n",
    "# summarize results\n",
    "print(\"Best: %f using %s\" % (grid_result.best_score_, grid_result.best_params_))\n",
    "means = grid_result.cv_results_['mean_test_score']\n",
    "stds = grid_result.cv_results_['std_test_score']\n",
    "params = grid_result.cv_results_['params']\n",
    "for mean, stdev, param in zip(means, stds, params):\n",
    "    print(\"%f (%f) with: %r\" % (mean, stdev, param))\n",
    "    \n",
    "fin_time = datetime.now()\n",
    "print(\"Execution time : \", (fin_time-init_time))"
   ]
  },
  {
   "cell_type": "markdown",
   "metadata": {
    "heading_collapsed": true
   },
   "source": [
    "### Parameters"
   ]
  },
  {
   "cell_type": "markdown",
   "metadata": {
    "hidden": true
   },
   "source": [
    "* A modern recommendation for regularization is to use early stopping with dropout and a weight constraint instead of l1 & l2.\n",
    "* The constraints (weight_constraint) are specified per-layer\n",
    "* Early stopping should be used almost universally."
   ]
  },
  {
   "cell_type": "code",
   "execution_count": 18,
   "metadata": {
    "hidden": true
   },
   "outputs": [],
   "source": [
    "callbacks_list = []\n",
    "early_stop = EarlyStopping(monitor='val_loss', mode='min', verbose=1, patience=25)\n",
    "callbacks_list.append(early_stop)"
   ]
  },
  {
   "cell_type": "code",
   "execution_count": 19,
   "metadata": {
    "hidden": true
   },
   "outputs": [],
   "source": [
    "params = dict()\n",
    "#params['epochs'] = [1000]\n",
    "#params['validation_data']=[(X_test, y_test)],\n",
    "#params['callbacks']= early_stop,\n",
    "params['batch_size'] = hp.choice('batch_size', [16, 32, 64, 128, 256, 512])\n",
    "#params['neurons']= [16, 32, 64, 128, 256, 512]\n",
    "params['optimizer'] = hp.choice('optimizer', [SGD(), RMSprop(), Adagrad(), Adam(), Adamax(), Nadam()])\n",
    "params['activation']= hp.choice('activation', [ReLU(), PReLU(), LeakyReLU(), ELU()])\n",
    "params['learning_rate'] = hp.uniform('learning_rate',1e-7, 1.0)\n",
    "params['init_mode']= hp.choice('init_mode', \n",
    "['uniform', 'lecun_uniform', 'normal', 'zero', 'glorot_normal', 'glorot_uniform', 'he_normal', 'he_uniform'])\n",
    "params['dropout_rate']= hp.choice('dropout_rate', [0.0, 0.1, 0.2, 0.3, 0.4, 0.5, 0.6, 0.7, 0.8, 0.9])\n",
    "params['weight_constraint'] = hp.choice('weight_constraint',\n",
    "                            [unit_norm(), max_norm(1), max_norm(2), max_norm(3), max_norm(4), max_norm(5)])\n",
    "\n",
    "#params['l1'] = hp.uniform('l1', 0, 0.1)\n",
    "#params['l2'] = hp.uniform('l2', 0, 0.1)"
   ]
  },
  {
   "cell_type": "markdown",
   "metadata": {
    "heading_collapsed": true
   },
   "source": [
    "### HyperOpt Optimization"
   ]
  },
  {
   "cell_type": "markdown",
   "metadata": {
    "hidden": true
   },
   "source": [
    "Hyperopt functions for optimization:\n",
    "\n",
    "    hp.choice(label, options) — Returns one of the options, which should be a list or tuple.\n",
    "    hp.randint(label, upper) — Returns a random integer between the range [0, upper).\n",
    "    hp.uniform(label, low, high) — Returns a value uniformly between low and high.\n",
    "    hp.quniform(label, low, high, q) — Returns a value round(uniform(low, high) / q) * q, i.e it rounds the decimal values and returns an integer\n",
    "    hp.normal(label, mean, std) — Returns a real value that’s normally-distributed with mean and standard deviation sigma."
   ]
  },
  {
   "cell_type": "code",
   "execution_count": 20,
   "metadata": {
    "hidden": true
   },
   "outputs": [],
   "source": [
    "best_score = 0\n",
    "best_param = []"
   ]
  },
  {
   "cell_type": "code",
   "execution_count": 25,
   "metadata": {
    "hidden": true
   },
   "outputs": [],
   "source": [
    "def hyperparameters(params):  \n",
    "    global best_score\n",
    "    \n",
    "    #print ('Params testing: ', params)\n",
    "    # create model\n",
    "    model = Sequential()\n",
    "    # Input Layer\n",
    "    model.add(Input(shape=(n_input,)))\n",
    "    #Hidden Layers  \n",
    "    model.add(Dense(num_nodes, kernel_initializer=params['init_mode'], activation=params['activation'], \n",
    "                    kernel_constraint=params['weight_constraint']))\n",
    "    model.add(Dropout(params['dropout_rate']))\n",
    "    #model.add(BatchNormalization())\n",
    "    # Hidden Layers\n",
    "    model.add(Dense(num_nodes, kernel_initializer=params['init_mode'], activation=params['activation'],\n",
    "                   kernel_constraint=params['weight_constraint']))\n",
    "    model.add(Dropout(params['dropout_rate']))\n",
    "    #model.add(BatchNormalization())\n",
    "    # Output Layer\n",
    "    model.add(Dense(1, kernel_initializer=params['init_mode'], activation='sigmoid'))\n",
    "    # Compile model\n",
    "    optimizer = params['optimizer']\n",
    "    optimizer.learning_rate=params['learning_rate'];\n",
    "    model.compile(loss='binary_crossentropy', optimizer=optimizer, metrics=['accuracy'])\n",
    "    model.summary()  \n",
    "    \n",
    "    model.fit(x=X_train, \n",
    "              y=y_train, \n",
    "              epochs=1000,\n",
    "              batch_size=params['batch_size'],\n",
    "              validation_data=(X_valid, y_valid), \n",
    "              verbose=0,\n",
    "              callbacks=callbacks_list\n",
    "             )\n",
    "\n",
    "    #model.fit(X_train,y_train,epochs=params['epochs'],validation_data=(X_test,y_test), batch_size = 32,verbose=0)\n",
    "\n",
    "    pred_auc =model.predict(X_test, batch_size = params['batch_size'], verbose = 0)\n",
    "    acc = roc_auc_score(y_test, pred_auc)\n",
    "    if best_score==0:\n",
    "        best_score=acc\n",
    "    if acc > best_score:\n",
    "        best_score=acc\n",
    "        best_param=params\n",
    "        print(f'AUC:{best_score:.4f}')\n",
    "        print(\"PARAMS: \", paramas)\n",
    "    sys.stdout.flush() \n",
    "    return {'loss': acc, 'status': STATUS_OK, 'model': model}"
   ]
  },
  {
   "cell_type": "code",
   "execution_count": 26,
   "metadata": {
    "hidden": true
   },
   "outputs": [
    {
     "name": "stdout",
     "output_type": "stream",
     "text": [
      "Job Started at: 2020-11-29 01:59:49.616154\n",
      "Model: \"sequential_7\"                                                                                                               \n",
      "_________________________________________________________________                                                                   \n",
      "Layer (type)                 Output Shape              Param #                                                                      \n",
      "=================================================================                                                                   \n",
      "dense_19 (Dense)             (None, 82)                6806                                                                         \n",
      "_________________________________________________________________                                                                   \n",
      "dropout_12 (Dropout)         (None, 82)                0                                                                            \n",
      "_________________________________________________________________                                                                   \n",
      "dense_20 (Dense)             (None, 82)                6806                                                                         \n",
      "_________________________________________________________________                                                                   \n",
      "dropout_13 (Dropout)         (None, 82)                0                                                                            \n",
      "_________________________________________________________________                                                                   \n",
      "dense_21 (Dense)             (None, 1)                 83                                                                           \n",
      "=================================================================                                                                   \n",
      "Total params: 13,695                                                                                                                \n",
      "Trainable params: 13,695                                                                                                            \n",
      "Non-trainable params: 0                                                                                                             \n",
      "_________________________________________________________________                                                                   \n",
      "Epoch 00114: early stopping                                                                                                         \n",
      "Model: \"sequential_8\"                                                                                                               \n",
      "_________________________________________________________________                                                                   \n",
      "Layer (type)                 Output Shape              Param #                                                                      \n",
      "=================================================================                                                                   \n",
      "dense_22 (Dense)             (None, 82)                6888                                                                         \n",
      "_________________________________________________________________                                                                   \n",
      "dropout_14 (Dropout)         (None, 82)                0                                                                            \n",
      "_________________________________________________________________                                                                   \n",
      "dense_23 (Dense)             (None, 82)                6888                                                                         \n",
      "_________________________________________________________________                                                                   \n",
      "dropout_15 (Dropout)         (None, 82)                0                                                                            \n",
      "_________________________________________________________________                                                                   \n",
      "dense_24 (Dense)             (None, 1)                 83                                                                           \n",
      "=================================================================                                                                   \n",
      "Total params: 13,777                                                                                                                \n",
      "Trainable params: 13,777                                                                                                            \n",
      "Non-trainable params: 0                                                                                                             \n",
      "_________________________________________________________________                                                                   \n",
      "Epoch 00059: early stopping                                                                                                         \n",
      "Model: \"sequential_9\"                                                                                                               \n",
      "_________________________________________________________________                                                                   \n",
      "Layer (type)                 Output Shape              Param #                                                                      \n",
      "=================================================================                                                                   \n",
      "dense_25 (Dense)             (None, 82)                6806                                                                         \n",
      "_________________________________________________________________                                                                   \n",
      "dropout_16 (Dropout)         (None, 82)                0                                                                            \n",
      "_________________________________________________________________                                                                   \n",
      "dense_26 (Dense)             (None, 82)                6806                                                                         \n",
      "_________________________________________________________________                                                                   \n",
      "dropout_17 (Dropout)         (None, 82)                0                                                                            \n",
      "_________________________________________________________________                                                                   \n",
      "dense_27 (Dense)             (None, 1)                 83                                                                           \n",
      "=================================================================                                                                   \n",
      "Total params: 13,695                                                                                                                \n",
      "Trainable params: 13,695                                                                                                            \n",
      "Non-trainable params: 0                                                                                                             \n",
      "_________________________________________________________________                                                                   \n",
      "Epoch 00069: early stopping                                                                                                         \n",
      "Model: \"sequential_10\"                                                                                                              \n",
      "_________________________________________________________________                                                                   \n",
      "Layer (type)                 Output Shape              Param #                                                                      \n",
      "=================================================================                                                                   \n",
      "dense_28 (Dense)             (None, 82)                6806                                                                         \n",
      "_________________________________________________________________                                                                   \n",
      "dropout_18 (Dropout)         (None, 82)                0                                                                            \n",
      "_________________________________________________________________                                                                   \n",
      "dense_29 (Dense)             (None, 82)                6806                                                                         \n",
      "_________________________________________________________________                                                                   \n",
      "dropout_19 (Dropout)         (None, 82)                0                                                                            \n",
      "_________________________________________________________________                                                                   \n",
      "dense_30 (Dense)             (None, 1)                 83                                                                           \n",
      "=================================================================                                                                   \n",
      "Total params: 13,695                                                                                                                \n",
      "Trainable params: 13,695                                                                                                            \n",
      "Non-trainable params: 0                                                                                                             \n",
      "_________________________________________________________________                                                                   \n",
      "Epoch 00040: early stopping                                                                                                         \n",
      "Model: \"sequential_11\"                                                                                                              \n",
      "_________________________________________________________________                                                                   \n",
      "Layer (type)                 Output Shape              Param #                                                                      \n",
      "=================================================================                                                                   \n",
      "dense_31 (Dense)             (None, 82)                6888                                                                         \n",
      "_________________________________________________________________                                                                   \n",
      "dropout_20 (Dropout)         (None, 82)                0                                                                            \n",
      "_________________________________________________________________                                                                   \n",
      "dense_32 (Dense)             (None, 82)                6888                                                                         \n",
      "_________________________________________________________________                                                                   \n",
      "dropout_21 (Dropout)         (None, 82)                0                                                                            \n",
      "_________________________________________________________________                                                                   \n",
      "dense_33 (Dense)             (None, 1)                 83                                                                           \n",
      "=================================================================                                                                   \n",
      "Total params: 13,777                                                                                                                \n",
      "Trainable params: 13,777                                                                                                            \n",
      "Non-trainable params: 0                                                                                                             \n",
      "_________________________________________________________________                                                                   \n",
      "Epoch 00035: early stopping                                                                                                         \n",
      "Model: \"sequential_12\"                                                                                                              \n",
      "_________________________________________________________________                                                                   \n",
      "Layer (type)                 Output Shape              Param #                                                                      \n",
      "=================================================================                                                                   \n",
      "dense_34 (Dense)             (None, 82)                6888                                                                         \n",
      "_________________________________________________________________                                                                   \n",
      "dropout_22 (Dropout)         (None, 82)                0                                                                            \n",
      "_________________________________________________________________                                                                   \n",
      "dense_35 (Dense)             (None, 82)                6888                                                                         \n",
      "_________________________________________________________________                                                                   \n",
      "dropout_23 (Dropout)         (None, 82)                0                                                                            \n",
      "_________________________________________________________________                                                                   \n",
      "dense_36 (Dense)             (None, 1)                 83                                                                           \n",
      "=================================================================                                                                   \n",
      "Total params: 13,777                                                                                                                \n",
      "Trainable params: 13,777                                                                                                            \n",
      "Non-trainable params: 0                                                                                                             \n",
      "_________________________________________________________________                                                                   \n",
      "Epoch 00028: early stopping                                                                                                         \n",
      "Model: \"sequential_13\"                                                                                                              \n",
      "_________________________________________________________________                                                                   \n",
      "Layer (type)                 Output Shape              Param #                                                                      \n",
      "=================================================================                                                                   \n",
      "dense_37 (Dense)             (None, 82)                6888                                                                         \n",
      "_________________________________________________________________                                                                   \n",
      "dropout_24 (Dropout)         (None, 82)                0                                                                            \n",
      "_________________________________________________________________                                                                   \n"
     ]
    },
    {
     "name": "stdout",
     "output_type": "stream",
     "text": [
      "dense_38 (Dense)             (None, 82)                6888                                                                         \n",
      "_________________________________________________________________                                                                   \n",
      "dropout_25 (Dropout)         (None, 82)                0                                                                            \n",
      "_________________________________________________________________                                                                   \n",
      "dense_39 (Dense)             (None, 1)                 83                                                                           \n",
      "=================================================================                                                                   \n",
      "Total params: 13,777                                                                                                                \n",
      "Trainable params: 13,777                                                                                                            \n",
      "Non-trainable params: 0                                                                                                             \n",
      "_________________________________________________________________                                                                   \n",
      "Epoch 00028: early stopping                                                                                                         \n",
      "Model: \"sequential_14\"                                                                                                              \n",
      "_________________________________________________________________                                                                   \n",
      "Layer (type)                 Output Shape              Param #                                                                      \n",
      "=================================================================                                                                   \n",
      "dense_40 (Dense)             (None, 82)                6806                                                                         \n",
      "_________________________________________________________________                                                                   \n",
      "dropout_26 (Dropout)         (None, 82)                0                                                                            \n",
      "_________________________________________________________________                                                                   \n",
      "dense_41 (Dense)             (None, 82)                6806                                                                         \n",
      "_________________________________________________________________                                                                   \n",
      "dropout_27 (Dropout)         (None, 82)                0                                                                            \n",
      "_________________________________________________________________                                                                   \n",
      "dense_42 (Dense)             (None, 1)                 83                                                                           \n",
      "=================================================================                                                                   \n",
      "Total params: 13,695                                                                                                                \n",
      "Trainable params: 13,695                                                                                                            \n",
      "Non-trainable params: 0                                                                                                             \n",
      "_________________________________________________________________                                                                   \n",
      "Epoch 00046: early stopping                                                                                                         \n",
      "Model: \"sequential_15\"                                                                                                              \n",
      "_________________________________________________________________                                                                   \n",
      "Layer (type)                 Output Shape              Param #                                                                      \n",
      "=================================================================                                                                   \n",
      "dense_43 (Dense)             (None, 82)                6806                                                                         \n",
      "_________________________________________________________________                                                                   \n",
      "dropout_28 (Dropout)         (None, 82)                0                                                                            \n",
      "_________________________________________________________________                                                                   \n",
      "dense_44 (Dense)             (None, 82)                6806                                                                         \n",
      "_________________________________________________________________                                                                   \n",
      "dropout_29 (Dropout)         (None, 82)                0                                                                            \n",
      "_________________________________________________________________                                                                   \n",
      "dense_45 (Dense)             (None, 1)                 83                                                                           \n",
      "=================================================================                                                                   \n",
      "Total params: 13,695                                                                                                                \n",
      "Trainable params: 13,695                                                                                                            \n",
      "Non-trainable params: 0                                                                                                             \n",
      "_________________________________________________________________                                                                   \n",
      "Epoch 00031: early stopping                                                                                                         \n",
      "Model: \"sequential_16\"                                                                                                              \n",
      "_________________________________________________________________                                                                   \n",
      "Layer (type)                 Output Shape              Param #                                                                      \n",
      "=================================================================                                                                   \n",
      "dense_46 (Dense)             (None, 82)                6806                                                                         \n",
      "_________________________________________________________________                                                                   \n",
      "dropout_30 (Dropout)         (None, 82)                0                                                                            \n",
      "_________________________________________________________________                                                                   \n",
      "dense_47 (Dense)             (None, 82)                6806                                                                         \n",
      "_________________________________________________________________                                                                   \n",
      "dropout_31 (Dropout)         (None, 82)                0                                                                            \n",
      "_________________________________________________________________                                                                   \n",
      "dense_48 (Dense)             (None, 1)                 83                                                                           \n",
      "=================================================================                                                                   \n",
      "Total params: 13,695                                                                                                                \n",
      "Trainable params: 13,695                                                                                                            \n",
      "Non-trainable params: 0                                                                                                             \n",
      "_________________________________________________________________                                                                   \n",
      "Epoch 00027: early stopping                                                                                                         \n",
      "Model: \"sequential_17\"                                                                                                              \n",
      "_________________________________________________________________                                                                   \n",
      "Layer (type)                 Output Shape              Param #                                                                      \n",
      "=================================================================                                                                   \n",
      "dense_49 (Dense)             (None, 82)                6806                                                                         \n",
      "_________________________________________________________________                                                                   \n",
      "dropout_32 (Dropout)         (None, 82)                0                                                                            \n",
      "_________________________________________________________________                                                                   \n",
      "dense_50 (Dense)             (None, 82)                6806                                                                         \n",
      "_________________________________________________________________                                                                   \n",
      "dropout_33 (Dropout)         (None, 82)                0                                                                            \n",
      "_________________________________________________________________                                                                   \n",
      "dense_51 (Dense)             (None, 1)                 83                                                                           \n",
      "=================================================================                                                                   \n",
      "Total params: 13,695                                                                                                                \n",
      "Trainable params: 13,695                                                                                                            \n",
      "Non-trainable params: 0                                                                                                             \n",
      "_________________________________________________________________                                                                   \n",
      "Epoch 00071: early stopping                                                                                                         \n",
      "Model: \"sequential_18\"                                                                                                              \n",
      "_________________________________________________________________                                                                   \n",
      "Layer (type)                 Output Shape              Param #                                                                      \n",
      "=================================================================                                                                   \n",
      "dense_52 (Dense)             (None, 82)                6888                                                                         \n",
      "_________________________________________________________________                                                                   \n",
      "dropout_34 (Dropout)         (None, 82)                0                                                                            \n",
      "_________________________________________________________________                                                                   \n",
      "dense_53 (Dense)             (None, 82)                6888                                                                         \n",
      "_________________________________________________________________                                                                   \n",
      "dropout_35 (Dropout)         (None, 82)                0                                                                            \n",
      "_________________________________________________________________                                                                   \n",
      "dense_54 (Dense)             (None, 1)                 83                                                                           \n",
      "=================================================================                                                                   \n",
      "Total params: 13,777                                                                                                                \n",
      "Trainable params: 13,777                                                                                                            \n",
      "Non-trainable params: 0                                                                                                             \n",
      "_________________________________________________________________                                                                   \n",
      "Epoch 00166: early stopping                                                                                                         \n",
      "Model: \"sequential_19\"                                                                                                              \n",
      "_________________________________________________________________                                                                   \n",
      "Layer (type)                 Output Shape              Param #                                                                      \n",
      "=================================================================                                                                   \n",
      "dense_55 (Dense)             (None, 82)                6806                                                                         \n",
      "_________________________________________________________________                                                                   \n",
      "dropout_36 (Dropout)         (None, 82)                0                                                                            \n",
      "_________________________________________________________________                                                                   \n",
      "dense_56 (Dense)             (None, 82)                6806                                                                         \n",
      "_________________________________________________________________                                                                   \n",
      "dropout_37 (Dropout)         (None, 82)                0                                                                            \n",
      "_________________________________________________________________                                                                   \n",
      "dense_57 (Dense)             (None, 1)                 83                                                                           \n",
      "=================================================================                                                                   \n",
      "Total params: 13,695                                                                                                                \n",
      "Trainable params: 13,695                                                                                                            \n"
     ]
    },
    {
     "name": "stdout",
     "output_type": "stream",
     "text": [
      "Non-trainable params: 0                                                                                                             \n",
      "_________________________________________________________________                                                                   \n",
      "Epoch 00047: early stopping                                                                                                         \n",
      "Model: \"sequential_20\"                                                                                                              \n",
      "_________________________________________________________________                                                                   \n",
      "Layer (type)                 Output Shape              Param #                                                                      \n",
      "=================================================================                                                                   \n",
      "dense_58 (Dense)             (None, 82)                6806                                                                         \n",
      "_________________________________________________________________                                                                   \n",
      "dropout_38 (Dropout)         (None, 82)                0                                                                            \n",
      "_________________________________________________________________                                                                   \n",
      "dense_59 (Dense)             (None, 82)                6806                                                                         \n",
      "_________________________________________________________________                                                                   \n",
      "dropout_39 (Dropout)         (None, 82)                0                                                                            \n",
      "_________________________________________________________________                                                                   \n",
      "dense_60 (Dense)             (None, 1)                 83                                                                           \n",
      "=================================================================                                                                   \n",
      "Total params: 13,695                                                                                                                \n",
      "Trainable params: 13,695                                                                                                            \n",
      "Non-trainable params: 0                                                                                                             \n",
      "_________________________________________________________________                                                                   \n",
      "Epoch 00148: early stopping                                                                                                         \n",
      "AUC:0.6479                                                                                                                          \n",
      " 13%|████████▉                                                            | 13/100 [2:03:18<14:33:09, 602.18s/trial, best loss: 0.5]"
     ]
    },
    {
     "name": "stderr",
     "output_type": "stream",
     "text": [
      "job exception: name 'paramas' is not defined\n",
      "\n"
     ]
    },
    {
     "name": "stdout",
     "output_type": "stream",
     "text": [
      " 13%|████████▉                                                            | 13/100 [2:03:18<13:45:10, 569.09s/trial, best loss: 0.5]\n"
     ]
    },
    {
     "ename": "NameError",
     "evalue": "name 'paramas' is not defined",
     "output_type": "error",
     "traceback": [
      "\u001b[1;31m---------------------------------------------------------------------------\u001b[0m",
      "\u001b[1;31mNameError\u001b[0m                                 Traceback (most recent call last)",
      "\u001b[1;32m<ipython-input-26-ea1c3163ec56>\u001b[0m in \u001b[0;36m<module>\u001b[1;34m\u001b[0m\n\u001b[0;32m      2\u001b[0m \u001b[0mprint\u001b[0m \u001b[1;33m(\u001b[0m\u001b[1;34mf\"Job Started at: {init_time}\"\u001b[0m\u001b[1;33m)\u001b[0m\u001b[1;33m\u001b[0m\u001b[1;33m\u001b[0m\u001b[0m\n\u001b[0;32m      3\u001b[0m \u001b[0mtrials\u001b[0m \u001b[1;33m=\u001b[0m \u001b[0mTrials\u001b[0m\u001b[1;33m(\u001b[0m\u001b[1;33m)\u001b[0m\u001b[1;33m\u001b[0m\u001b[1;33m\u001b[0m\u001b[0m\n\u001b[1;32m----> 4\u001b[1;33m best = fmin(fn=hyperparameters,\n\u001b[0m\u001b[0;32m      5\u001b[0m             \u001b[0mspace\u001b[0m\u001b[1;33m=\u001b[0m\u001b[0mparams\u001b[0m\u001b[1;33m,\u001b[0m\u001b[1;33m\u001b[0m\u001b[1;33m\u001b[0m\u001b[0m\n\u001b[0;32m      6\u001b[0m             \u001b[0malgo\u001b[0m\u001b[1;33m=\u001b[0m\u001b[0mtpe\u001b[0m\u001b[1;33m.\u001b[0m\u001b[0msuggest\u001b[0m\u001b[1;33m,\u001b[0m\u001b[1;33m\u001b[0m\u001b[1;33m\u001b[0m\u001b[0m\n",
      "\u001b[1;32mZ:\\ProgramData\\Anaconda3\\lib\\site-packages\\hyperopt\\fmin.py\u001b[0m in \u001b[0;36mfmin\u001b[1;34m(fn, space, algo, max_evals, timeout, loss_threshold, trials, rstate, allow_trials_fmin, pass_expr_memo_ctrl, catch_eval_exceptions, verbose, return_argmin, points_to_evaluate, max_queue_len, show_progressbar, early_stop_fn, trials_save_file)\u001b[0m\n\u001b[0;32m    505\u001b[0m \u001b[1;33m\u001b[0m\u001b[0m\n\u001b[0;32m    506\u001b[0m     \u001b[1;32mif\u001b[0m \u001b[0mallow_trials_fmin\u001b[0m \u001b[1;32mand\u001b[0m \u001b[0mhasattr\u001b[0m\u001b[1;33m(\u001b[0m\u001b[0mtrials\u001b[0m\u001b[1;33m,\u001b[0m \u001b[1;34m\"fmin\"\u001b[0m\u001b[1;33m)\u001b[0m\u001b[1;33m:\u001b[0m\u001b[1;33m\u001b[0m\u001b[1;33m\u001b[0m\u001b[0m\n\u001b[1;32m--> 507\u001b[1;33m         return trials.fmin(\n\u001b[0m\u001b[0;32m    508\u001b[0m             \u001b[0mfn\u001b[0m\u001b[1;33m,\u001b[0m\u001b[1;33m\u001b[0m\u001b[1;33m\u001b[0m\u001b[0m\n\u001b[0;32m    509\u001b[0m             \u001b[0mspace\u001b[0m\u001b[1;33m,\u001b[0m\u001b[1;33m\u001b[0m\u001b[1;33m\u001b[0m\u001b[0m\n",
      "\u001b[1;32mZ:\\ProgramData\\Anaconda3\\lib\\site-packages\\hyperopt\\base.py\u001b[0m in \u001b[0;36mfmin\u001b[1;34m(self, fn, space, algo, max_evals, timeout, loss_threshold, max_queue_len, rstate, verbose, pass_expr_memo_ctrl, catch_eval_exceptions, return_argmin, show_progressbar, early_stop_fn, trials_save_file)\u001b[0m\n\u001b[0;32m    680\u001b[0m         \u001b[1;32mfrom\u001b[0m \u001b[1;33m.\u001b[0m\u001b[0mfmin\u001b[0m \u001b[1;32mimport\u001b[0m \u001b[0mfmin\u001b[0m\u001b[1;33m\u001b[0m\u001b[1;33m\u001b[0m\u001b[0m\n\u001b[0;32m    681\u001b[0m \u001b[1;33m\u001b[0m\u001b[0m\n\u001b[1;32m--> 682\u001b[1;33m         return fmin(\n\u001b[0m\u001b[0;32m    683\u001b[0m             \u001b[0mfn\u001b[0m\u001b[1;33m,\u001b[0m\u001b[1;33m\u001b[0m\u001b[1;33m\u001b[0m\u001b[0m\n\u001b[0;32m    684\u001b[0m             \u001b[0mspace\u001b[0m\u001b[1;33m,\u001b[0m\u001b[1;33m\u001b[0m\u001b[1;33m\u001b[0m\u001b[0m\n",
      "\u001b[1;32mZ:\\ProgramData\\Anaconda3\\lib\\site-packages\\hyperopt\\fmin.py\u001b[0m in \u001b[0;36mfmin\u001b[1;34m(fn, space, algo, max_evals, timeout, loss_threshold, trials, rstate, allow_trials_fmin, pass_expr_memo_ctrl, catch_eval_exceptions, verbose, return_argmin, points_to_evaluate, max_queue_len, show_progressbar, early_stop_fn, trials_save_file)\u001b[0m\n\u001b[0;32m    551\u001b[0m \u001b[1;33m\u001b[0m\u001b[0m\n\u001b[0;32m    552\u001b[0m     \u001b[1;31m# next line is where the fmin is actually executed\u001b[0m\u001b[1;33m\u001b[0m\u001b[1;33m\u001b[0m\u001b[1;33m\u001b[0m\u001b[0m\n\u001b[1;32m--> 553\u001b[1;33m     \u001b[0mrval\u001b[0m\u001b[1;33m.\u001b[0m\u001b[0mexhaust\u001b[0m\u001b[1;33m(\u001b[0m\u001b[1;33m)\u001b[0m\u001b[1;33m\u001b[0m\u001b[1;33m\u001b[0m\u001b[0m\n\u001b[0m\u001b[0;32m    554\u001b[0m \u001b[1;33m\u001b[0m\u001b[0m\n\u001b[0;32m    555\u001b[0m     \u001b[1;32mif\u001b[0m \u001b[0mreturn_argmin\u001b[0m\u001b[1;33m:\u001b[0m\u001b[1;33m\u001b[0m\u001b[1;33m\u001b[0m\u001b[0m\n",
      "\u001b[1;32mZ:\\ProgramData\\Anaconda3\\lib\\site-packages\\hyperopt\\fmin.py\u001b[0m in \u001b[0;36mexhaust\u001b[1;34m(self)\u001b[0m\n\u001b[0;32m    354\u001b[0m     \u001b[1;32mdef\u001b[0m \u001b[0mexhaust\u001b[0m\u001b[1;33m(\u001b[0m\u001b[0mself\u001b[0m\u001b[1;33m)\u001b[0m\u001b[1;33m:\u001b[0m\u001b[1;33m\u001b[0m\u001b[1;33m\u001b[0m\u001b[0m\n\u001b[0;32m    355\u001b[0m         \u001b[0mn_done\u001b[0m \u001b[1;33m=\u001b[0m \u001b[0mlen\u001b[0m\u001b[1;33m(\u001b[0m\u001b[0mself\u001b[0m\u001b[1;33m.\u001b[0m\u001b[0mtrials\u001b[0m\u001b[1;33m)\u001b[0m\u001b[1;33m\u001b[0m\u001b[1;33m\u001b[0m\u001b[0m\n\u001b[1;32m--> 356\u001b[1;33m         \u001b[0mself\u001b[0m\u001b[1;33m.\u001b[0m\u001b[0mrun\u001b[0m\u001b[1;33m(\u001b[0m\u001b[0mself\u001b[0m\u001b[1;33m.\u001b[0m\u001b[0mmax_evals\u001b[0m \u001b[1;33m-\u001b[0m \u001b[0mn_done\u001b[0m\u001b[1;33m,\u001b[0m \u001b[0mblock_until_done\u001b[0m\u001b[1;33m=\u001b[0m\u001b[0mself\u001b[0m\u001b[1;33m.\u001b[0m\u001b[0masynchronous\u001b[0m\u001b[1;33m)\u001b[0m\u001b[1;33m\u001b[0m\u001b[1;33m\u001b[0m\u001b[0m\n\u001b[0m\u001b[0;32m    357\u001b[0m         \u001b[0mself\u001b[0m\u001b[1;33m.\u001b[0m\u001b[0mtrials\u001b[0m\u001b[1;33m.\u001b[0m\u001b[0mrefresh\u001b[0m\u001b[1;33m(\u001b[0m\u001b[1;33m)\u001b[0m\u001b[1;33m\u001b[0m\u001b[1;33m\u001b[0m\u001b[0m\n\u001b[0;32m    358\u001b[0m         \u001b[1;32mreturn\u001b[0m \u001b[0mself\u001b[0m\u001b[1;33m\u001b[0m\u001b[1;33m\u001b[0m\u001b[0m\n",
      "\u001b[1;32mZ:\\ProgramData\\Anaconda3\\lib\\site-packages\\hyperopt\\fmin.py\u001b[0m in \u001b[0;36mrun\u001b[1;34m(self, N, block_until_done)\u001b[0m\n\u001b[0;32m    290\u001b[0m                 \u001b[1;32melse\u001b[0m\u001b[1;33m:\u001b[0m\u001b[1;33m\u001b[0m\u001b[1;33m\u001b[0m\u001b[0m\n\u001b[0;32m    291\u001b[0m                     \u001b[1;31m# -- loop over trials and do the jobs directly\u001b[0m\u001b[1;33m\u001b[0m\u001b[1;33m\u001b[0m\u001b[1;33m\u001b[0m\u001b[0m\n\u001b[1;32m--> 292\u001b[1;33m                     \u001b[0mself\u001b[0m\u001b[1;33m.\u001b[0m\u001b[0mserial_evaluate\u001b[0m\u001b[1;33m(\u001b[0m\u001b[1;33m)\u001b[0m\u001b[1;33m\u001b[0m\u001b[1;33m\u001b[0m\u001b[0m\n\u001b[0m\u001b[0;32m    293\u001b[0m \u001b[1;33m\u001b[0m\u001b[0m\n\u001b[0;32m    294\u001b[0m                 \u001b[0mself\u001b[0m\u001b[1;33m.\u001b[0m\u001b[0mtrials\u001b[0m\u001b[1;33m.\u001b[0m\u001b[0mrefresh\u001b[0m\u001b[1;33m(\u001b[0m\u001b[1;33m)\u001b[0m\u001b[1;33m\u001b[0m\u001b[1;33m\u001b[0m\u001b[0m\n",
      "\u001b[1;32mZ:\\ProgramData\\Anaconda3\\lib\\site-packages\\hyperopt\\fmin.py\u001b[0m in \u001b[0;36mserial_evaluate\u001b[1;34m(self, N)\u001b[0m\n\u001b[0;32m    168\u001b[0m                 \u001b[0mctrl\u001b[0m \u001b[1;33m=\u001b[0m \u001b[0mbase\u001b[0m\u001b[1;33m.\u001b[0m\u001b[0mCtrl\u001b[0m\u001b[1;33m(\u001b[0m\u001b[0mself\u001b[0m\u001b[1;33m.\u001b[0m\u001b[0mtrials\u001b[0m\u001b[1;33m,\u001b[0m \u001b[0mcurrent_trial\u001b[0m\u001b[1;33m=\u001b[0m\u001b[0mtrial\u001b[0m\u001b[1;33m)\u001b[0m\u001b[1;33m\u001b[0m\u001b[1;33m\u001b[0m\u001b[0m\n\u001b[0;32m    169\u001b[0m                 \u001b[1;32mtry\u001b[0m\u001b[1;33m:\u001b[0m\u001b[1;33m\u001b[0m\u001b[1;33m\u001b[0m\u001b[0m\n\u001b[1;32m--> 170\u001b[1;33m                     \u001b[0mresult\u001b[0m \u001b[1;33m=\u001b[0m \u001b[0mself\u001b[0m\u001b[1;33m.\u001b[0m\u001b[0mdomain\u001b[0m\u001b[1;33m.\u001b[0m\u001b[0mevaluate\u001b[0m\u001b[1;33m(\u001b[0m\u001b[0mspec\u001b[0m\u001b[1;33m,\u001b[0m \u001b[0mctrl\u001b[0m\u001b[1;33m)\u001b[0m\u001b[1;33m\u001b[0m\u001b[1;33m\u001b[0m\u001b[0m\n\u001b[0m\u001b[0;32m    171\u001b[0m                 \u001b[1;32mexcept\u001b[0m \u001b[0mException\u001b[0m \u001b[1;32mas\u001b[0m \u001b[0me\u001b[0m\u001b[1;33m:\u001b[0m\u001b[1;33m\u001b[0m\u001b[1;33m\u001b[0m\u001b[0m\n\u001b[0;32m    172\u001b[0m                     \u001b[0mlogger\u001b[0m\u001b[1;33m.\u001b[0m\u001b[0merror\u001b[0m\u001b[1;33m(\u001b[0m\u001b[1;34m\"job exception: %s\"\u001b[0m \u001b[1;33m%\u001b[0m \u001b[0mstr\u001b[0m\u001b[1;33m(\u001b[0m\u001b[0me\u001b[0m\u001b[1;33m)\u001b[0m\u001b[1;33m)\u001b[0m\u001b[1;33m\u001b[0m\u001b[1;33m\u001b[0m\u001b[0m\n",
      "\u001b[1;32mZ:\\ProgramData\\Anaconda3\\lib\\site-packages\\hyperopt\\base.py\u001b[0m in \u001b[0;36mevaluate\u001b[1;34m(self, config, ctrl, attach_attachments)\u001b[0m\n\u001b[0;32m    905\u001b[0m                 \u001b[0mprint_node_on_error\u001b[0m\u001b[1;33m=\u001b[0m\u001b[0mself\u001b[0m\u001b[1;33m.\u001b[0m\u001b[0mrec_eval_print_node_on_error\u001b[0m\u001b[1;33m,\u001b[0m\u001b[1;33m\u001b[0m\u001b[1;33m\u001b[0m\u001b[0m\n\u001b[0;32m    906\u001b[0m             )\n\u001b[1;32m--> 907\u001b[1;33m             \u001b[0mrval\u001b[0m \u001b[1;33m=\u001b[0m \u001b[0mself\u001b[0m\u001b[1;33m.\u001b[0m\u001b[0mfn\u001b[0m\u001b[1;33m(\u001b[0m\u001b[0mpyll_rval\u001b[0m\u001b[1;33m)\u001b[0m\u001b[1;33m\u001b[0m\u001b[1;33m\u001b[0m\u001b[0m\n\u001b[0m\u001b[0;32m    908\u001b[0m \u001b[1;33m\u001b[0m\u001b[0m\n\u001b[0;32m    909\u001b[0m         \u001b[1;32mif\u001b[0m \u001b[0misinstance\u001b[0m\u001b[1;33m(\u001b[0m\u001b[0mrval\u001b[0m\u001b[1;33m,\u001b[0m \u001b[1;33m(\u001b[0m\u001b[0mfloat\u001b[0m\u001b[1;33m,\u001b[0m \u001b[0mint\u001b[0m\u001b[1;33m,\u001b[0m \u001b[0mnp\u001b[0m\u001b[1;33m.\u001b[0m\u001b[0mnumber\u001b[0m\u001b[1;33m)\u001b[0m\u001b[1;33m)\u001b[0m\u001b[1;33m:\u001b[0m\u001b[1;33m\u001b[0m\u001b[1;33m\u001b[0m\u001b[0m\n",
      "\u001b[1;32m<ipython-input-25-8417d1566e3a>\u001b[0m in \u001b[0;36mhyperparameters\u001b[1;34m(params)\u001b[0m\n\u001b[0;32m     44\u001b[0m         \u001b[0mbest_param\u001b[0m\u001b[1;33m=\u001b[0m\u001b[0mparams\u001b[0m\u001b[1;33m\u001b[0m\u001b[1;33m\u001b[0m\u001b[0m\n\u001b[0;32m     45\u001b[0m         \u001b[0mprint\u001b[0m\u001b[1;33m(\u001b[0m\u001b[1;34mf'AUC:{best_score:.4f}'\u001b[0m\u001b[1;33m)\u001b[0m\u001b[1;33m\u001b[0m\u001b[1;33m\u001b[0m\u001b[0m\n\u001b[1;32m---> 46\u001b[1;33m         \u001b[0mprint\u001b[0m\u001b[1;33m(\u001b[0m\u001b[1;34m\"PARAMS: \"\u001b[0m\u001b[1;33m,\u001b[0m \u001b[0mparamas\u001b[0m\u001b[1;33m)\u001b[0m\u001b[1;33m\u001b[0m\u001b[1;33m\u001b[0m\u001b[0m\n\u001b[0m\u001b[0;32m     47\u001b[0m     \u001b[0msys\u001b[0m\u001b[1;33m.\u001b[0m\u001b[0mstdout\u001b[0m\u001b[1;33m.\u001b[0m\u001b[0mflush\u001b[0m\u001b[1;33m(\u001b[0m\u001b[1;33m)\u001b[0m\u001b[1;33m\u001b[0m\u001b[1;33m\u001b[0m\u001b[0m\n\u001b[0;32m     48\u001b[0m     \u001b[1;32mreturn\u001b[0m \u001b[1;33m{\u001b[0m\u001b[1;34m'loss'\u001b[0m\u001b[1;33m:\u001b[0m \u001b[0macc\u001b[0m\u001b[1;33m,\u001b[0m \u001b[1;34m'status'\u001b[0m\u001b[1;33m:\u001b[0m \u001b[0mSTATUS_OK\u001b[0m\u001b[1;33m,\u001b[0m \u001b[1;34m'model'\u001b[0m\u001b[1;33m:\u001b[0m \u001b[0mmodel\u001b[0m\u001b[1;33m}\u001b[0m\u001b[1;33m\u001b[0m\u001b[1;33m\u001b[0m\u001b[0m\n",
      "\u001b[1;31mNameError\u001b[0m: name 'paramas' is not defined"
     ]
    }
   ],
   "source": [
    "init_time = datetime.now()\n",
    "print (f\"Job Started at: {init_time}\")\n",
    "trials = Trials()\n",
    "best = fmin(fn=hyperparameters,\n",
    "            space=params,\n",
    "            algo=tpe.suggest,\n",
    "            max_evals=100,\n",
    "            trials=trials)\n",
    "fin_time = datetime.now()\n",
    "print(\"Execution time : \", (fin_time-init_time))"
   ]
  },
  {
   "cell_type": "code",
   "execution_count": null,
   "metadata": {
    "hidden": true
   },
   "outputs": [],
   "source": [
    "print (f\"Best Score: {best_score}\")\n",
    "print (f\"Best Params: {best_param}\")"
   ]
  },
  {
   "cell_type": "code",
   "execution_count": null,
   "metadata": {
    "hidden": true
   },
   "outputs": [],
   "source": [
    "loss = trials.best_trial['result']['loss']\n",
    "print ('loss :', loss)\n",
    "model = trials.best_trial['result']['model']\n",
    "print (model)"
   ]
  },
  {
   "cell_type": "code",
   "execution_count": null,
   "metadata": {
    "hidden": true
   },
   "outputs": [],
   "source": []
  },
  {
   "cell_type": "code",
   "execution_count": null,
   "metadata": {
    "hidden": true
   },
   "outputs": [],
   "source": []
  },
  {
   "cell_type": "markdown",
   "metadata": {
    "heading_collapsed": true
   },
   "source": [
    "### skopt Optimization"
   ]
  },
  {
   "cell_type": "code",
   "execution_count": 35,
   "metadata": {
    "hidden": true
   },
   "outputs": [
    {
     "data": {
      "text/plain": [
       "82"
      ]
     },
     "execution_count": 35,
     "metadata": {},
     "output_type": "execute_result"
    }
   ],
   "source": [
    "params = dict()\n",
    "params['epochs'] = [1000]\n",
    "params['validation_data']=[(X_test, y_test)],\n",
    "params['callbacks']= early_stop,\n",
    "params['batch_size'] = [16, 32, 64, 128, 256, 512]\n",
    "#params['neurons']= [16, 32, 64, 128, 256, 512]\n",
    "params['optimizer'] = [SGD(), RMSprop(), Adagrad(), Adam(), Adamax(), Nadam()]\n",
    "params['activation']= [ReLU(), PReLU(), LeakyReLU(), ELU()]\n",
    "params['learning_rate'] = (1e-7, 1.0)\n",
    "params['init_mode']= \n",
    "['uniform', 'lecun_uniform', 'normal', 'zero', 'glorot_normal', 'glorot_uniform', 'he_normal', 'he_uniform']\n",
    "params['l1'] = (0, 0.1)\n",
    "params['l2'] = (0, 0.1)\n",
    "#params['dropout_rate']= [0.0, 0.1, 0.2, 0.3, 0.4, 0.5, 0.6, 0.7, 0.8, 0.9],\n",
    "#params['weight_constraint'] = [1, 2, 3, 4, 5]"
   ]
  },
  {
   "cell_type": "code",
   "execution_count": 52,
   "metadata": {
    "hidden": true
   },
   "outputs": [],
   "source": [
    "# Function to create model, required for KerasClassifier\n",
    "#dropout_rate=0.0, weight_constraint=0\n",
    "#kernel_constraint=max_norm(weight_constraint)\n",
    "#learn_rate=0.01\n",
    "def create_model(neurons=num_nodes, activation=ReLU(), optimizer=Adam(), learning_rate=0.01, init_mode='uniform', \n",
    "                 l1=0.0, l2=0.0):\n",
    "    # create model\n",
    "    model = Sequential()\n",
    "    # Input Layer\n",
    "    model.add(Input(shape=(n_input,)))\n",
    "    #Hidden Layers  \n",
    "    model.add(Dense(neurons, kernel_initializer=init_mode, activation=activation, \n",
    "                    kernel_regularizer=L1L2(l1=l1, l2=l2)))\n",
    "    #model.add(Dropout(0.0))\n",
    "    model.add(BatchNormalization())\n",
    "    # Hidden Layers\n",
    "    model.add(Dense((neurons+1)//2, kernel_initializer=init_mode, activation=activation))\n",
    "    #model.add(Dropout(0.0))\n",
    "    model.add(BatchNormalization())\n",
    "    # Output Layer\n",
    "    model.add(Dense(1, kernel_initializer=init_mode, activation='sigmoid'))\n",
    "    # Compile model\n",
    "    optimizer.learning_rate=learning_rate;\n",
    "    model.compile(loss='binary_crossentropy', optimizer=optimizer, metrics=['accuracy'])\n",
    "    return model"
   ]
  },
  {
   "cell_type": "code",
   "execution_count": 56,
   "metadata": {
    "hidden": true
   },
   "outputs": [],
   "source": [
    "mlp_model = KerasClassifier(build_fn=create_model, verbose=0)"
   ]
  },
  {
   "cell_type": "code",
   "execution_count": 57,
   "metadata": {
    "hidden": true
   },
   "outputs": [],
   "source": [
    "search = BayesSearchCV(estimator=mlp_model, search_spaces=params, n_jobs=-1) "
   ]
  },
  {
   "cell_type": "code",
   "execution_count": 58,
   "metadata": {
    "hidden": true
   },
   "outputs": [],
   "source": [
    "# callback handler\n",
    "def on_step(optim_result):\n",
    "    score = search.best_score_\n",
    "    print (f\"{datetime.now()}: Best Score- {score:.4f}\")\n",
    "    print (f\"Best Params- {search.best_params_}\")\n",
    "    if score >= 0.98:\n",
    "        print('Interrupting!')\n",
    "        return True"
   ]
  },
  {
   "cell_type": "code",
   "execution_count": 59,
   "metadata": {
    "hidden": true
   },
   "outputs": [
    {
     "name": "stdout",
     "output_type": "stream",
     "text": [
      "Job Started at: 2020-11-27 19:06:43.432621\n",
      "2020-11-28 00:40:11.624274: Best Score- 0.7786\n",
      "2020-11-28 03:12:48.363644: Best Score- 0.8042\n",
      "2020-11-28 11:02:11.661192: Best Score- 0.8042\n"
     ]
    },
    {
     "ename": "ValueError",
     "evalue": "Dimensions must be equal, but are 64 and 32 for '{{node dense_10/p_re_lu_4/mul}} = Mul[T=DT_FLOAT](dense_10/p_re_lu_4/Neg, dense_10/p_re_lu_4/Relu_1)' with input shapes: [64], [?,32].",
     "output_type": "error",
     "traceback": [
      "\u001b[0;31m---------------------------------------------------------------------------\u001b[0m",
      "\u001b[0;31m_RemoteTraceback\u001b[0m                          Traceback (most recent call last)",
      "\u001b[0;31m_RemoteTraceback\u001b[0m: \n\"\"\"\nTraceback (most recent call last):\n  File \"/home/mhossain/anaconda3/lib/python3.8/site-packages/tensorflow/python/framework/ops.py\", line 1812, in _create_c_op\n    c_op = pywrap_tf_session.TF_FinishOperation(op_desc)\ntensorflow.python.framework.errors_impl.InvalidArgumentError: Dimensions must be equal, but are 64 and 32 for '{{node dense_10/p_re_lu_4/mul/mul}} = Mul[T=DT_FLOAT](dense_10/p_re_lu_4/Neg, dense_10/p_re_lu_4/Relu_1)' with input shapes: [64], [?,32].\n\nDuring handling of the above exception, another exception occurred:\n\nTraceback (most recent call last):\n  File \"/home/mhossain/anaconda3/lib/python3.8/site-packages/tensorflow/python/ops/math_ops.py\", line 1136, in binary_op_wrapper\n    out = r_op(x)\n  File \"/home/mhossain/anaconda3/lib/python3.8/site-packages/tensorflow/python/ops/math_ops.py\", line 1156, in r_binary_op_wrapper\n    return func(x, y, name=name)\n  File \"/home/mhossain/anaconda3/lib/python3.8/site-packages/tensorflow/python/ops/math_ops.py\", line 1457, in _mul_dispatch\n    return multiply(x, y, name=name)\n  File \"/home/mhossain/anaconda3/lib/python3.8/site-packages/tensorflow/python/util/dispatch.py\", line 201, in wrapper\n    return target(*args, **kwargs)\n  File \"/home/mhossain/anaconda3/lib/python3.8/site-packages/tensorflow/python/ops/math_ops.py\", line 509, in multiply\n    return gen_math_ops.mul(x, y, name)\n  File \"/home/mhossain/anaconda3/lib/python3.8/site-packages/tensorflow/python/ops/gen_math_ops.py\", line 6175, in mul\n    _, _, _op, _outputs = _op_def_library._apply_op_helper(\n  File \"/home/mhossain/anaconda3/lib/python3.8/site-packages/tensorflow/python/framework/op_def_library.py\", line 742, in _apply_op_helper\n    op = g._create_op_internal(op_type_name, inputs, dtypes=None,\n  File \"/home/mhossain/anaconda3/lib/python3.8/site-packages/tensorflow/python/framework/func_graph.py\", line 591, in _create_op_internal\n    return super(FuncGraph, self)._create_op_internal(  # pylint: disable=protected-access\n  File \"/home/mhossain/anaconda3/lib/python3.8/site-packages/tensorflow/python/framework/ops.py\", line 3477, in _create_op_internal\n    ret = Operation(\n  File \"/home/mhossain/anaconda3/lib/python3.8/site-packages/tensorflow/python/framework/ops.py\", line 1974, in __init__\n    self._c_op = _create_c_op(self._graph, node_def, inputs,\n  File \"/home/mhossain/anaconda3/lib/python3.8/site-packages/tensorflow/python/framework/ops.py\", line 1815, in _create_c_op\n    raise ValueError(str(e))\nValueError: Dimensions must be equal, but are 64 and 32 for '{{node dense_10/p_re_lu_4/mul/mul}} = Mul[T=DT_FLOAT](dense_10/p_re_lu_4/Neg, dense_10/p_re_lu_4/Relu_1)' with input shapes: [64], [?,32].\n\nDuring handling of the above exception, another exception occurred:\n\nTraceback (most recent call last):\n  File \"/home/mhossain/anaconda3/lib/python3.8/site-packages/joblib/externals/loky/process_executor.py\", line 431, in _process_worker\n    r = call_item()\n  File \"/home/mhossain/anaconda3/lib/python3.8/site-packages/joblib/externals/loky/process_executor.py\", line 285, in __call__\n    return self.fn(*self.args, **self.kwargs)\n  File \"/home/mhossain/anaconda3/lib/python3.8/site-packages/joblib/_parallel_backends.py\", line 595, in __call__\n    return self.func(*args, **kwargs)\n  File \"/home/mhossain/anaconda3/lib/python3.8/site-packages/joblib/parallel.py\", line 252, in __call__\n    return [func(*args, **kwargs)\n  File \"/home/mhossain/anaconda3/lib/python3.8/site-packages/joblib/parallel.py\", line 252, in <listcomp>\n    return [func(*args, **kwargs)\n  File \"/home/mhossain/anaconda3/lib/python3.8/site-packages/sklearn/model_selection/_validation.py\", line 531, in _fit_and_score\n    estimator.fit(X_train, y_train, **fit_params)\n  File \"/home/mhossain/anaconda3/lib/python3.8/site-packages/tensorflow/python/keras/wrappers/scikit_learn.py\", line 223, in fit\n    return super(KerasClassifier, self).fit(x, y, **kwargs)\n  File \"/home/mhossain/anaconda3/lib/python3.8/site-packages/tensorflow/python/keras/wrappers/scikit_learn.py\", line 157, in fit\n    self.model = self.build_fn(**self.filter_sk_params(self.build_fn))\n  File \"<ipython-input-52-f9d230b647aa>\", line 17, in create_model\n  File \"/home/mhossain/anaconda3/lib/python3.8/site-packages/tensorflow/python/training/tracking/base.py\", line 457, in _method_wrapper\n    result = method(self, *args, **kwargs)\n  File \"/home/mhossain/anaconda3/lib/python3.8/site-packages/tensorflow/python/keras/engine/sequential.py\", line 221, in add\n    output_tensor = layer(self.outputs[0])\n  File \"/home/mhossain/anaconda3/lib/python3.8/site-packages/tensorflow/python/keras/engine/base_layer.py\", line 925, in __call__\n    return self._functional_construction_call(inputs, args, kwargs,\n  File \"/home/mhossain/anaconda3/lib/python3.8/site-packages/tensorflow/python/keras/engine/base_layer.py\", line 1117, in _functional_construction_call\n    outputs = call_fn(cast_inputs, *args, **kwargs)\n  File \"/home/mhossain/anaconda3/lib/python3.8/site-packages/tensorflow/python/keras/layers/core.py\", line 1193, in call\n    return core_ops.dense(\n  File \"/home/mhossain/anaconda3/lib/python3.8/site-packages/tensorflow/python/keras/layers/ops/core.py\", line 67, in dense\n    outputs = activation(outputs)\n  File \"/home/mhossain/anaconda3/lib/python3.8/site-packages/tensorflow/python/keras/engine/base_layer.py\", line 925, in __call__\n    return self._functional_construction_call(inputs, args, kwargs,\n  File \"/home/mhossain/anaconda3/lib/python3.8/site-packages/tensorflow/python/keras/engine/base_layer.py\", line 1117, in _functional_construction_call\n    outputs = call_fn(cast_inputs, *args, **kwargs)\n  File \"/home/mhossain/anaconda3/lib/python3.8/site-packages/tensorflow/python/keras/layers/advanced_activations.py\", line 161, in call\n    neg = -self.alpha * K.relu(-inputs)\n  File \"/home/mhossain/anaconda3/lib/python3.8/site-packages/tensorflow/python/ops/math_ops.py\", line 1141, in binary_op_wrapper\n    raise e\n  File \"/home/mhossain/anaconda3/lib/python3.8/site-packages/tensorflow/python/ops/math_ops.py\", line 1125, in binary_op_wrapper\n    return func(x, y, name=name)\n  File \"/home/mhossain/anaconda3/lib/python3.8/site-packages/tensorflow/python/ops/math_ops.py\", line 1457, in _mul_dispatch\n    return multiply(x, y, name=name)\n  File \"/home/mhossain/anaconda3/lib/python3.8/site-packages/tensorflow/python/util/dispatch.py\", line 201, in wrapper\n    return target(*args, **kwargs)\n  File \"/home/mhossain/anaconda3/lib/python3.8/site-packages/tensorflow/python/ops/math_ops.py\", line 509, in multiply\n    return gen_math_ops.mul(x, y, name)\n  File \"/home/mhossain/anaconda3/lib/python3.8/site-packages/tensorflow/python/ops/gen_math_ops.py\", line 6175, in mul\n    _, _, _op, _outputs = _op_def_library._apply_op_helper(\n  File \"/home/mhossain/anaconda3/lib/python3.8/site-packages/tensorflow/python/framework/op_def_library.py\", line 742, in _apply_op_helper\n    op = g._create_op_internal(op_type_name, inputs, dtypes=None,\n  File \"/home/mhossain/anaconda3/lib/python3.8/site-packages/tensorflow/python/framework/func_graph.py\", line 591, in _create_op_internal\n    return super(FuncGraph, self)._create_op_internal(  # pylint: disable=protected-access\n  File \"/home/mhossain/anaconda3/lib/python3.8/site-packages/tensorflow/python/framework/ops.py\", line 3477, in _create_op_internal\n    ret = Operation(\n  File \"/home/mhossain/anaconda3/lib/python3.8/site-packages/tensorflow/python/framework/ops.py\", line 1974, in __init__\n    self._c_op = _create_c_op(self._graph, node_def, inputs,\n  File \"/home/mhossain/anaconda3/lib/python3.8/site-packages/tensorflow/python/framework/ops.py\", line 1815, in _create_c_op\n    raise ValueError(str(e))\nValueError: Dimensions must be equal, but are 64 and 32 for '{{node dense_10/p_re_lu_4/mul}} = Mul[T=DT_FLOAT](dense_10/p_re_lu_4/Neg, dense_10/p_re_lu_4/Relu_1)' with input shapes: [64], [?,32].\n\"\"\"",
      "\nThe above exception was the direct cause of the following exception:\n",
      "\u001b[0;31mValueError\u001b[0m                                Traceback (most recent call last)",
      "\u001b[0;32m<ipython-input-59-a73a7bcb3ec8>\u001b[0m in \u001b[0;36m<module>\u001b[0;34m\u001b[0m\n\u001b[1;32m      2\u001b[0m \u001b[0mprint\u001b[0m \u001b[0;34m(\u001b[0m\u001b[0;34mf\"Job Started at: {init_time}\"\u001b[0m\u001b[0;34m)\u001b[0m\u001b[0;34m\u001b[0m\u001b[0;34m\u001b[0m\u001b[0m\n\u001b[1;32m      3\u001b[0m \u001b[0;31m# perform the search\u001b[0m\u001b[0;34m\u001b[0m\u001b[0;34m\u001b[0m\u001b[0;34m\u001b[0m\u001b[0m\n\u001b[0;32m----> 4\u001b[0;31m \u001b[0msearch\u001b[0m\u001b[0;34m.\u001b[0m\u001b[0mfit\u001b[0m\u001b[0;34m(\u001b[0m\u001b[0mX_train\u001b[0m\u001b[0;34m,\u001b[0m \u001b[0my_train\u001b[0m\u001b[0;34m,\u001b[0m \u001b[0mcallback\u001b[0m\u001b[0;34m=\u001b[0m\u001b[0mon_step\u001b[0m\u001b[0;34m)\u001b[0m \u001b[0;31m#callback=on_step\u001b[0m\u001b[0;34m\u001b[0m\u001b[0;34m\u001b[0m\u001b[0m\n\u001b[0m\u001b[1;32m      5\u001b[0m \u001b[0mfin_time\u001b[0m \u001b[0;34m=\u001b[0m \u001b[0mdatetime\u001b[0m\u001b[0;34m.\u001b[0m\u001b[0mnow\u001b[0m\u001b[0;34m(\u001b[0m\u001b[0;34m)\u001b[0m\u001b[0;34m\u001b[0m\u001b[0;34m\u001b[0m\u001b[0m\n\u001b[1;32m      6\u001b[0m \u001b[0mprint\u001b[0m\u001b[0;34m(\u001b[0m\u001b[0;34m\"Execution time : \"\u001b[0m\u001b[0;34m,\u001b[0m \u001b[0;34m(\u001b[0m\u001b[0mfin_time\u001b[0m\u001b[0;34m-\u001b[0m\u001b[0minit_time\u001b[0m\u001b[0;34m)\u001b[0m\u001b[0;34m)\u001b[0m\u001b[0;34m\u001b[0m\u001b[0;34m\u001b[0m\u001b[0m\n",
      "\u001b[0;32m~/anaconda3/lib/python3.8/site-packages/skopt/searchcv.py\u001b[0m in \u001b[0;36mfit\u001b[0;34m(self, X, y, groups, callback)\u001b[0m\n\u001b[1;32m    690\u001b[0m                 \u001b[0mn_points_adjusted\u001b[0m \u001b[0;34m=\u001b[0m \u001b[0mmin\u001b[0m\u001b[0;34m(\u001b[0m\u001b[0mn_iter\u001b[0m\u001b[0;34m,\u001b[0m \u001b[0mn_points\u001b[0m\u001b[0;34m)\u001b[0m\u001b[0;34m\u001b[0m\u001b[0;34m\u001b[0m\u001b[0m\n\u001b[1;32m    691\u001b[0m \u001b[0;34m\u001b[0m\u001b[0m\n\u001b[0;32m--> 692\u001b[0;31m                 optim_result = self._step(\n\u001b[0m\u001b[1;32m    693\u001b[0m                     \u001b[0mX\u001b[0m\u001b[0;34m,\u001b[0m \u001b[0my\u001b[0m\u001b[0;34m,\u001b[0m \u001b[0msearch_space\u001b[0m\u001b[0;34m,\u001b[0m \u001b[0moptimizer\u001b[0m\u001b[0;34m,\u001b[0m\u001b[0;34m\u001b[0m\u001b[0;34m\u001b[0m\u001b[0m\n\u001b[1;32m    694\u001b[0m                     \u001b[0mgroups\u001b[0m\u001b[0;34m=\u001b[0m\u001b[0mgroups\u001b[0m\u001b[0;34m,\u001b[0m \u001b[0mn_points\u001b[0m\u001b[0;34m=\u001b[0m\u001b[0mn_points_adjusted\u001b[0m\u001b[0;34m\u001b[0m\u001b[0;34m\u001b[0m\u001b[0m\n",
      "\u001b[0;32m~/anaconda3/lib/python3.8/site-packages/skopt/searchcv.py\u001b[0m in \u001b[0;36m_step\u001b[0;34m(self, X, y, search_space, optimizer, groups, n_points)\u001b[0m\n\u001b[1;32m    577\u001b[0m         \u001b[0mrefit\u001b[0m \u001b[0;34m=\u001b[0m \u001b[0mself\u001b[0m\u001b[0;34m.\u001b[0m\u001b[0mrefit\u001b[0m\u001b[0;34m\u001b[0m\u001b[0;34m\u001b[0m\u001b[0m\n\u001b[1;32m    578\u001b[0m         \u001b[0mself\u001b[0m\u001b[0;34m.\u001b[0m\u001b[0mrefit\u001b[0m \u001b[0;34m=\u001b[0m \u001b[0;32mFalse\u001b[0m\u001b[0;34m\u001b[0m\u001b[0;34m\u001b[0m\u001b[0m\n\u001b[0;32m--> 579\u001b[0;31m         \u001b[0mself\u001b[0m\u001b[0;34m.\u001b[0m\u001b[0m_fit\u001b[0m\u001b[0;34m(\u001b[0m\u001b[0mX\u001b[0m\u001b[0;34m,\u001b[0m \u001b[0my\u001b[0m\u001b[0;34m,\u001b[0m \u001b[0mgroups\u001b[0m\u001b[0;34m,\u001b[0m \u001b[0mparams_dict\u001b[0m\u001b[0;34m)\u001b[0m\u001b[0;34m\u001b[0m\u001b[0;34m\u001b[0m\u001b[0m\n\u001b[0m\u001b[1;32m    580\u001b[0m         \u001b[0mself\u001b[0m\u001b[0;34m.\u001b[0m\u001b[0mrefit\u001b[0m \u001b[0;34m=\u001b[0m \u001b[0mrefit\u001b[0m\u001b[0;34m\u001b[0m\u001b[0;34m\u001b[0m\u001b[0m\n\u001b[1;32m    581\u001b[0m \u001b[0;34m\u001b[0m\u001b[0m\n",
      "\u001b[0;32m~/anaconda3/lib/python3.8/site-packages/skopt/searchcv.py\u001b[0m in \u001b[0;36m_fit\u001b[0;34m(self, X, y, groups, parameter_iterable)\u001b[0m\n\u001b[1;32m    408\u001b[0m \u001b[0;34m\u001b[0m\u001b[0m\n\u001b[1;32m    409\u001b[0m         \u001b[0mcv_iter\u001b[0m \u001b[0;34m=\u001b[0m \u001b[0mlist\u001b[0m\u001b[0;34m(\u001b[0m\u001b[0mcv\u001b[0m\u001b[0;34m.\u001b[0m\u001b[0msplit\u001b[0m\u001b[0;34m(\u001b[0m\u001b[0mX\u001b[0m\u001b[0;34m,\u001b[0m \u001b[0my\u001b[0m\u001b[0;34m,\u001b[0m \u001b[0mgroups\u001b[0m\u001b[0;34m)\u001b[0m\u001b[0;34m)\u001b[0m\u001b[0;34m\u001b[0m\u001b[0;34m\u001b[0m\u001b[0m\n\u001b[0;32m--> 410\u001b[0;31m         out = Parallel(\n\u001b[0m\u001b[1;32m    411\u001b[0m             \u001b[0mn_jobs\u001b[0m\u001b[0;34m=\u001b[0m\u001b[0mself\u001b[0m\u001b[0;34m.\u001b[0m\u001b[0mn_jobs\u001b[0m\u001b[0;34m,\u001b[0m \u001b[0mverbose\u001b[0m\u001b[0;34m=\u001b[0m\u001b[0mself\u001b[0m\u001b[0;34m.\u001b[0m\u001b[0mverbose\u001b[0m\u001b[0;34m,\u001b[0m\u001b[0;34m\u001b[0m\u001b[0;34m\u001b[0m\u001b[0m\n\u001b[1;32m    412\u001b[0m             \u001b[0mpre_dispatch\u001b[0m\u001b[0;34m=\u001b[0m\u001b[0mpre_dispatch\u001b[0m\u001b[0;34m\u001b[0m\u001b[0;34m\u001b[0m\u001b[0m\n",
      "\u001b[0;32m~/anaconda3/lib/python3.8/site-packages/joblib/parallel.py\u001b[0m in \u001b[0;36m__call__\u001b[0;34m(self, iterable)\u001b[0m\n\u001b[1;32m   1040\u001b[0m \u001b[0;34m\u001b[0m\u001b[0m\n\u001b[1;32m   1041\u001b[0m             \u001b[0;32mwith\u001b[0m \u001b[0mself\u001b[0m\u001b[0;34m.\u001b[0m\u001b[0m_backend\u001b[0m\u001b[0;34m.\u001b[0m\u001b[0mretrieval_context\u001b[0m\u001b[0;34m(\u001b[0m\u001b[0;34m)\u001b[0m\u001b[0;34m:\u001b[0m\u001b[0;34m\u001b[0m\u001b[0;34m\u001b[0m\u001b[0m\n\u001b[0;32m-> 1042\u001b[0;31m                 \u001b[0mself\u001b[0m\u001b[0;34m.\u001b[0m\u001b[0mretrieve\u001b[0m\u001b[0;34m(\u001b[0m\u001b[0;34m)\u001b[0m\u001b[0;34m\u001b[0m\u001b[0;34m\u001b[0m\u001b[0m\n\u001b[0m\u001b[1;32m   1043\u001b[0m             \u001b[0;31m# Make sure that we get a last message telling us we are done\u001b[0m\u001b[0;34m\u001b[0m\u001b[0;34m\u001b[0m\u001b[0;34m\u001b[0m\u001b[0m\n\u001b[1;32m   1044\u001b[0m             \u001b[0melapsed_time\u001b[0m \u001b[0;34m=\u001b[0m \u001b[0mtime\u001b[0m\u001b[0;34m.\u001b[0m\u001b[0mtime\u001b[0m\u001b[0;34m(\u001b[0m\u001b[0;34m)\u001b[0m \u001b[0;34m-\u001b[0m \u001b[0mself\u001b[0m\u001b[0;34m.\u001b[0m\u001b[0m_start_time\u001b[0m\u001b[0;34m\u001b[0m\u001b[0;34m\u001b[0m\u001b[0m\n",
      "\u001b[0;32m~/anaconda3/lib/python3.8/site-packages/joblib/parallel.py\u001b[0m in \u001b[0;36mretrieve\u001b[0;34m(self)\u001b[0m\n\u001b[1;32m    919\u001b[0m             \u001b[0;32mtry\u001b[0m\u001b[0;34m:\u001b[0m\u001b[0;34m\u001b[0m\u001b[0;34m\u001b[0m\u001b[0m\n\u001b[1;32m    920\u001b[0m                 \u001b[0;32mif\u001b[0m \u001b[0mgetattr\u001b[0m\u001b[0;34m(\u001b[0m\u001b[0mself\u001b[0m\u001b[0;34m.\u001b[0m\u001b[0m_backend\u001b[0m\u001b[0;34m,\u001b[0m \u001b[0;34m'supports_timeout'\u001b[0m\u001b[0;34m,\u001b[0m \u001b[0;32mFalse\u001b[0m\u001b[0;34m)\u001b[0m\u001b[0;34m:\u001b[0m\u001b[0;34m\u001b[0m\u001b[0;34m\u001b[0m\u001b[0m\n\u001b[0;32m--> 921\u001b[0;31m                     \u001b[0mself\u001b[0m\u001b[0;34m.\u001b[0m\u001b[0m_output\u001b[0m\u001b[0;34m.\u001b[0m\u001b[0mextend\u001b[0m\u001b[0;34m(\u001b[0m\u001b[0mjob\u001b[0m\u001b[0;34m.\u001b[0m\u001b[0mget\u001b[0m\u001b[0;34m(\u001b[0m\u001b[0mtimeout\u001b[0m\u001b[0;34m=\u001b[0m\u001b[0mself\u001b[0m\u001b[0;34m.\u001b[0m\u001b[0mtimeout\u001b[0m\u001b[0;34m)\u001b[0m\u001b[0;34m)\u001b[0m\u001b[0;34m\u001b[0m\u001b[0;34m\u001b[0m\u001b[0m\n\u001b[0m\u001b[1;32m    922\u001b[0m                 \u001b[0;32melse\u001b[0m\u001b[0;34m:\u001b[0m\u001b[0;34m\u001b[0m\u001b[0;34m\u001b[0m\u001b[0m\n\u001b[1;32m    923\u001b[0m                     \u001b[0mself\u001b[0m\u001b[0;34m.\u001b[0m\u001b[0m_output\u001b[0m\u001b[0;34m.\u001b[0m\u001b[0mextend\u001b[0m\u001b[0;34m(\u001b[0m\u001b[0mjob\u001b[0m\u001b[0;34m.\u001b[0m\u001b[0mget\u001b[0m\u001b[0;34m(\u001b[0m\u001b[0;34m)\u001b[0m\u001b[0;34m)\u001b[0m\u001b[0;34m\u001b[0m\u001b[0;34m\u001b[0m\u001b[0m\n",
      "\u001b[0;32m~/anaconda3/lib/python3.8/site-packages/joblib/_parallel_backends.py\u001b[0m in \u001b[0;36mwrap_future_result\u001b[0;34m(future, timeout)\u001b[0m\n\u001b[1;32m    540\u001b[0m         AsyncResults.get from multiprocessing.\"\"\"\n\u001b[1;32m    541\u001b[0m         \u001b[0;32mtry\u001b[0m\u001b[0;34m:\u001b[0m\u001b[0;34m\u001b[0m\u001b[0;34m\u001b[0m\u001b[0m\n\u001b[0;32m--> 542\u001b[0;31m             \u001b[0;32mreturn\u001b[0m \u001b[0mfuture\u001b[0m\u001b[0;34m.\u001b[0m\u001b[0mresult\u001b[0m\u001b[0;34m(\u001b[0m\u001b[0mtimeout\u001b[0m\u001b[0;34m=\u001b[0m\u001b[0mtimeout\u001b[0m\u001b[0;34m)\u001b[0m\u001b[0;34m\u001b[0m\u001b[0;34m\u001b[0m\u001b[0m\n\u001b[0m\u001b[1;32m    543\u001b[0m         \u001b[0;32mexcept\u001b[0m \u001b[0mCfTimeoutError\u001b[0m \u001b[0;32mas\u001b[0m \u001b[0me\u001b[0m\u001b[0;34m:\u001b[0m\u001b[0;34m\u001b[0m\u001b[0;34m\u001b[0m\u001b[0m\n\u001b[1;32m    544\u001b[0m             \u001b[0;32mraise\u001b[0m \u001b[0mTimeoutError\u001b[0m \u001b[0;32mfrom\u001b[0m \u001b[0me\u001b[0m\u001b[0;34m\u001b[0m\u001b[0;34m\u001b[0m\u001b[0m\n",
      "\u001b[0;32m~/anaconda3/lib/python3.8/concurrent/futures/_base.py\u001b[0m in \u001b[0;36mresult\u001b[0;34m(self, timeout)\u001b[0m\n\u001b[1;32m    437\u001b[0m                 \u001b[0;32mraise\u001b[0m \u001b[0mCancelledError\u001b[0m\u001b[0;34m(\u001b[0m\u001b[0;34m)\u001b[0m\u001b[0;34m\u001b[0m\u001b[0;34m\u001b[0m\u001b[0m\n\u001b[1;32m    438\u001b[0m             \u001b[0;32melif\u001b[0m \u001b[0mself\u001b[0m\u001b[0;34m.\u001b[0m\u001b[0m_state\u001b[0m \u001b[0;34m==\u001b[0m \u001b[0mFINISHED\u001b[0m\u001b[0;34m:\u001b[0m\u001b[0;34m\u001b[0m\u001b[0;34m\u001b[0m\u001b[0m\n\u001b[0;32m--> 439\u001b[0;31m                 \u001b[0;32mreturn\u001b[0m \u001b[0mself\u001b[0m\u001b[0;34m.\u001b[0m\u001b[0m__get_result\u001b[0m\u001b[0;34m(\u001b[0m\u001b[0;34m)\u001b[0m\u001b[0;34m\u001b[0m\u001b[0;34m\u001b[0m\u001b[0m\n\u001b[0m\u001b[1;32m    440\u001b[0m             \u001b[0;32melse\u001b[0m\u001b[0;34m:\u001b[0m\u001b[0;34m\u001b[0m\u001b[0;34m\u001b[0m\u001b[0m\n\u001b[1;32m    441\u001b[0m                 \u001b[0;32mraise\u001b[0m \u001b[0mTimeoutError\u001b[0m\u001b[0;34m(\u001b[0m\u001b[0;34m)\u001b[0m\u001b[0;34m\u001b[0m\u001b[0;34m\u001b[0m\u001b[0m\n",
      "\u001b[0;32m~/anaconda3/lib/python3.8/concurrent/futures/_base.py\u001b[0m in \u001b[0;36m__get_result\u001b[0;34m(self)\u001b[0m\n\u001b[1;32m    386\u001b[0m     \u001b[0;32mdef\u001b[0m \u001b[0m__get_result\u001b[0m\u001b[0;34m(\u001b[0m\u001b[0mself\u001b[0m\u001b[0;34m)\u001b[0m\u001b[0;34m:\u001b[0m\u001b[0;34m\u001b[0m\u001b[0;34m\u001b[0m\u001b[0m\n\u001b[1;32m    387\u001b[0m         \u001b[0;32mif\u001b[0m \u001b[0mself\u001b[0m\u001b[0;34m.\u001b[0m\u001b[0m_exception\u001b[0m\u001b[0;34m:\u001b[0m\u001b[0;34m\u001b[0m\u001b[0;34m\u001b[0m\u001b[0m\n\u001b[0;32m--> 388\u001b[0;31m             \u001b[0;32mraise\u001b[0m \u001b[0mself\u001b[0m\u001b[0;34m.\u001b[0m\u001b[0m_exception\u001b[0m\u001b[0;34m\u001b[0m\u001b[0;34m\u001b[0m\u001b[0m\n\u001b[0m\u001b[1;32m    389\u001b[0m         \u001b[0;32melse\u001b[0m\u001b[0;34m:\u001b[0m\u001b[0;34m\u001b[0m\u001b[0;34m\u001b[0m\u001b[0m\n\u001b[1;32m    390\u001b[0m             \u001b[0;32mreturn\u001b[0m \u001b[0mself\u001b[0m\u001b[0;34m.\u001b[0m\u001b[0m_result\u001b[0m\u001b[0;34m\u001b[0m\u001b[0;34m\u001b[0m\u001b[0m\n",
      "\u001b[0;31mValueError\u001b[0m: Dimensions must be equal, but are 64 and 32 for '{{node dense_10/p_re_lu_4/mul}} = Mul[T=DT_FLOAT](dense_10/p_re_lu_4/Neg, dense_10/p_re_lu_4/Relu_1)' with input shapes: [64], [?,32]."
     ]
    }
   ],
   "source": [
    "init_time = datetime.now()\n",
    "print (f\"Job Started at: {init_time}\")\n",
    "# perform the search\n",
    "search.fit(X_train, y_train, callback=on_step) \n",
    "fin_time = datetime.now()\n",
    "print(\"Execution time : \", (fin_time-init_time))"
   ]
  },
  {
   "cell_type": "code",
   "execution_count": null,
   "metadata": {
    "hidden": true
   },
   "outputs": [],
   "source": [
    "# report the best result\n",
    "print(search.best_score_)\n",
    "print(search.best_params_)"
   ]
  },
  {
   "cell_type": "markdown",
   "metadata": {
    "heading_collapsed": true
   },
   "source": [
    "### Keras Tuner"
   ]
  },
  {
   "cell_type": "code",
   "execution_count": 18,
   "metadata": {
    "hidden": true
   },
   "outputs": [],
   "source": [
    "from kerastuner import HyperParameters\n",
    "from kerastuner import HyperModel\n",
    "from kerastuner import BayesianOptimization"
   ]
  },
  {
   "cell_type": "code",
   "execution_count": 19,
   "metadata": {
    "hidden": true
   },
   "outputs": [],
   "source": [
    "init_mode = ['uniform', 'lecun_uniform', 'normal', 'zero', 'glorot_normal', \\\n",
    "             'glorot_uniform', 'he_normal', 'he_uniform']"
   ]
  },
  {
   "cell_type": "code",
   "execution_count": 25,
   "metadata": {
    "hidden": true
   },
   "outputs": [],
   "source": [
    "def build_model(hp):\n",
    "    model = Sequential()\n",
    "    model.add(Dense(units=hp.Int('units',\n",
    "                                 min_value=80,\n",
    "                                 max_value=256,\n",
    "                                 step=16),\n",
    "                    input_dim=n_input,\n",
    "                    kernel_initializer=hp.Choice('init_mode', init_mode),\n",
    "                    activation='relu'\n",
    "                    #activation=hp.Choice('activation', ['relu', 'tanh'])\n",
    "                    )\n",
    "             )\n",
    "    for i in range(hp.Int('num_layers', 2, 10)):\n",
    "        model.add(Dense(units=hp.Int('units_' + str(i),\n",
    "                                     min_value=80,\n",
    "                                     max_value=256,\n",
    "                                     step=16),\n",
    "                        kernel_initializer=hp.Choice('init_mode_' + str(i), init_mode),\n",
    "                        activation='relu'\n",
    "                        #activation=hp.Choice('activation', ['relu', 'tanh'])\n",
    "                       )\n",
    "                 )\n",
    "        model.add(Dropout(hp.Float('dropout_' + str(i),\n",
    "                                   min_value=0.0,\n",
    "                                   max_value=1.0,\n",
    "                                   step=0.1\n",
    "                                  )\n",
    "                         )\n",
    "                 )\n",
    "        #model.add(BatchNormalization())\n",
    "    #[0.0, 0.1, 0.2, 0.3, 0.4, 0.5, 0.6, 0.7, 0.8, 0.9]\n",
    "                \n",
    "    model.add(Dense(1, activation='sigmoid'))\n",
    "    \n",
    "    model.compile(\n",
    "        optimizer=Adam(\n",
    "            hp.Choice('learning_rate',\n",
    "                      values=[1e-2, 1e-3, 1e-4])),\n",
    "        loss='binary_crossentropy',\n",
    "        metrics=['accuracy'])\n",
    "    return model"
   ]
  },
  {
   "cell_type": "code",
   "execution_count": 26,
   "metadata": {
    "hidden": true
   },
   "outputs": [
    {
     "name": "stdout",
     "output_type": "stream",
     "text": [
      "INFO:tensorflow:Reloading Oracle from existing project ./untitled_project/oracle.json\n",
      "INFO:tensorflow:Reloading Tuner from ./untitled_project/tuner0.json\n"
     ]
    }
   ],
   "source": [
    "tuner_bo = BayesianOptimization(\n",
    "            build_model,\n",
    "            objective='accuracy',\n",
    "            max_trials=10,\n",
    "            seed=42,\n",
    "            executions_per_trial=2\n",
    "        )"
   ]
  },
  {
   "cell_type": "code",
   "execution_count": 27,
   "metadata": {
    "hidden": true
   },
   "outputs": [],
   "source": [
    "early_stop = EarlyStopping(monitor='val_loss', mode='min', verbose=1, patience=25)"
   ]
  },
  {
   "cell_type": "code",
   "execution_count": 28,
   "metadata": {
    "hidden": true
   },
   "outputs": [
    {
     "name": "stdout",
     "output_type": "stream",
     "text": [
      "INFO:tensorflow:Oracle triggered exit\n"
     ]
    }
   ],
   "source": [
    "tuner_bo.search(X_train, y_train, validation_data=(X_valid, y_valid), \n",
    "                epochs=10000, batch_size=32, verbose=1,\n",
    "                callbacks=[early_stop])"
   ]
  },
  {
   "cell_type": "code",
   "execution_count": 29,
   "metadata": {
    "hidden": true
   },
   "outputs": [],
   "source": [
    "best_model = tuner_bo.get_best_models(num_models=1)[0]"
   ]
  },
  {
   "cell_type": "code",
   "execution_count": 31,
   "metadata": {
    "hidden": true
   },
   "outputs": [
    {
     "name": "stdout",
     "output_type": "stream",
     "text": [
      "3706/3706 [==============================] - 4s 1ms/step - loss: 0.4945 - accuracy: 0.8042\n"
     ]
    },
    {
     "data": {
      "text/plain": [
       "[0.4944514036178589, 0.8042440414428711]"
      ]
     },
     "execution_count": 31,
     "metadata": {},
     "output_type": "execute_result"
    }
   ],
   "source": [
    "best_model.evaluate(X_test, y_test)"
   ]
  },
  {
   "cell_type": "code",
   "execution_count": 32,
   "metadata": {
    "hidden": true
   },
   "outputs": [
    {
     "name": "stdout",
     "output_type": "stream",
     "text": [
      "Epoch 1/1000\n",
      "6052/6052 [==============================] - 15s 2ms/step - loss: 0.4947 - accuracy: 0.8041 - val_loss: 0.4966 - val_accuracy: 0.8027\n",
      "Epoch 2/1000\n",
      "6052/6052 [==============================] - 17s 3ms/step - loss: 0.4947 - accuracy: 0.8041 - val_loss: 0.4966 - val_accuracy: 0.8027\n",
      "Epoch 3/1000\n",
      "6052/6052 [==============================] - 17s 3ms/step - loss: 0.4947 - accuracy: 0.8041 - val_loss: 0.4966 - val_accuracy: 0.8027\n",
      "Epoch 4/1000\n",
      "6052/6052 [==============================] - 17s 3ms/step - loss: 0.4947 - accuracy: 0.8041 - val_loss: 0.4966 - val_accuracy: 0.8027\n",
      "Epoch 5/1000\n",
      "6052/6052 [==============================] - 17s 3ms/step - loss: 0.4947 - accuracy: 0.8041 - val_loss: 0.4966 - val_accuracy: 0.8027\n",
      "Epoch 6/1000\n",
      "6052/6052 [==============================] - 17s 3ms/step - loss: 0.4947 - accuracy: 0.8041 - val_loss: 0.4966 - val_accuracy: 0.8027\n",
      "Epoch 7/1000\n",
      "6052/6052 [==============================] - 16s 3ms/step - loss: 0.4947 - accuracy: 0.8041 - val_loss: 0.4966 - val_accuracy: 0.8027\n",
      "Epoch 8/1000\n",
      "6052/6052 [==============================] - 16s 3ms/step - loss: 0.4947 - accuracy: 0.8041 - val_loss: 0.4966 - val_accuracy: 0.8027\n",
      "Epoch 9/1000\n",
      "6052/6052 [==============================] - 17s 3ms/step - loss: 0.4947 - accuracy: 0.8041 - val_loss: 0.4966 - val_accuracy: 0.8027\n",
      "Epoch 10/1000\n",
      "6052/6052 [==============================] - 17s 3ms/step - loss: 0.4947 - accuracy: 0.8041 - val_loss: 0.4966 - val_accuracy: 0.8027\n",
      "Epoch 11/1000\n",
      "6052/6052 [==============================] - 16s 3ms/step - loss: 0.4947 - accuracy: 0.8041 - val_loss: 0.4966 - val_accuracy: 0.8027\n",
      "Epoch 12/1000\n",
      "6052/6052 [==============================] - 17s 3ms/step - loss: 0.4947 - accuracy: 0.8041 - val_loss: 0.4966 - val_accuracy: 0.8027\n",
      "Epoch 13/1000\n",
      "6052/6052 [==============================] - 19s 3ms/step - loss: 0.4947 - accuracy: 0.8041 - val_loss: 0.4966 - val_accuracy: 0.8027\n",
      "Epoch 14/1000\n",
      "6052/6052 [==============================] - 18s 3ms/step - loss: 0.4947 - accuracy: 0.8041 - val_loss: 0.4966 - val_accuracy: 0.8027\n",
      "Epoch 15/1000\n",
      "6052/6052 [==============================] - 17s 3ms/step - loss: 0.4947 - accuracy: 0.8041 - val_loss: 0.4966 - val_accuracy: 0.8027\n",
      "Epoch 16/1000\n",
      "6052/6052 [==============================] - 16s 3ms/step - loss: 0.4947 - accuracy: 0.8041 - val_loss: 0.4966 - val_accuracy: 0.8027\n",
      "Epoch 17/1000\n",
      "6052/6052 [==============================] - 17s 3ms/step - loss: 0.4947 - accuracy: 0.8041 - val_loss: 0.4966 - val_accuracy: 0.8027\n",
      "Epoch 18/1000\n",
      "6052/6052 [==============================] - 16s 3ms/step - loss: 0.4947 - accuracy: 0.8041 - val_loss: 0.4966 - val_accuracy: 0.8027\n",
      "Epoch 19/1000\n",
      "6052/6052 [==============================] - 16s 3ms/step - loss: 0.4947 - accuracy: 0.8041 - val_loss: 0.4966 - val_accuracy: 0.8027\n",
      "Epoch 20/1000\n",
      "6052/6052 [==============================] - 16s 3ms/step - loss: 0.4947 - accuracy: 0.8041 - val_loss: 0.4966 - val_accuracy: 0.8027\n",
      "Epoch 21/1000\n",
      "6052/6052 [==============================] - 17s 3ms/step - loss: 0.4947 - accuracy: 0.8041 - val_loss: 0.4966 - val_accuracy: 0.8027\n",
      "Epoch 22/1000\n",
      "6052/6052 [==============================] - 17s 3ms/step - loss: 0.4947 - accuracy: 0.8041 - val_loss: 0.4966 - val_accuracy: 0.8027\n",
      "Epoch 23/1000\n",
      "6052/6052 [==============================] - 17s 3ms/step - loss: 0.4947 - accuracy: 0.8041 - val_loss: 0.4966 - val_accuracy: 0.8027\n",
      "Epoch 24/1000\n",
      "6052/6052 [==============================] - 17s 3ms/step - loss: 0.4947 - accuracy: 0.8041 - val_loss: 0.4966 - val_accuracy: 0.8027\n",
      "Epoch 25/1000\n",
      "6052/6052 [==============================] - 17s 3ms/step - loss: 0.4947 - accuracy: 0.8041 - val_loss: 0.4966 - val_accuracy: 0.8027\n",
      "Epoch 26/1000\n",
      "6052/6052 [==============================] - 17s 3ms/step - loss: 0.4947 - accuracy: 0.8041 - val_loss: 0.4966 - val_accuracy: 0.8027\n",
      "Epoch 27/1000\n",
      "6052/6052 [==============================] - 17s 3ms/step - loss: 0.4947 - accuracy: 0.8041 - val_loss: 0.4966 - val_accuracy: 0.8027\n",
      "Epoch 28/1000\n",
      "6052/6052 [==============================] - 18s 3ms/step - loss: 0.4947 - accuracy: 0.8041 - val_loss: 0.4966 - val_accuracy: 0.8027\n",
      "Epoch 29/1000\n",
      "6052/6052 [==============================] - 18s 3ms/step - loss: 0.4947 - accuracy: 0.8041 - val_loss: 0.4966 - val_accuracy: 0.8027\n",
      "Epoch 30/1000\n",
      "6052/6052 [==============================] - 19s 3ms/step - loss: 0.4947 - accuracy: 0.8041 - val_loss: 0.4966 - val_accuracy: 0.8027\n",
      "Epoch 31/1000\n",
      "6052/6052 [==============================] - 17s 3ms/step - loss: 0.4947 - accuracy: 0.8041 - val_loss: 0.4966 - val_accuracy: 0.8027\n",
      "Epoch 32/1000\n",
      "6052/6052 [==============================] - 19s 3ms/step - loss: 0.4947 - accuracy: 0.8041 - val_loss: 0.4966 - val_accuracy: 0.8027\n",
      "Epoch 33/1000\n",
      "6052/6052 [==============================] - 20s 3ms/step - loss: 0.4947 - accuracy: 0.8041 - val_loss: 0.4966 - val_accuracy: 0.8027\n",
      "Epoch 34/1000\n",
      "6052/6052 [==============================] - 21s 3ms/step - loss: 0.4947 - accuracy: 0.8041 - val_loss: 0.4966 - val_accuracy: 0.8027\n",
      "Epoch 35/1000\n",
      "6052/6052 [==============================] - 19s 3ms/step - loss: 0.4947 - accuracy: 0.8041 - val_loss: 0.4966 - val_accuracy: 0.8027\n",
      "Epoch 36/1000\n",
      "6052/6052 [==============================] - 18s 3ms/step - loss: 0.4947 - accuracy: 0.8041 - val_loss: 0.4966 - val_accuracy: 0.8027\n",
      "Epoch 37/1000\n",
      "6052/6052 [==============================] - 17s 3ms/step - loss: 0.4947 - accuracy: 0.8041 - val_loss: 0.4966 - val_accuracy: 0.8027\n",
      "Epoch 38/1000\n",
      "6052/6052 [==============================] - 19s 3ms/step - loss: 0.4947 - accuracy: 0.8041 - val_loss: 0.4966 - val_accuracy: 0.8027\n",
      "Epoch 39/1000\n",
      "6052/6052 [==============================] - 18s 3ms/step - loss: 0.4947 - accuracy: 0.8041 - val_loss: 0.4966 - val_accuracy: 0.8027\n",
      "Epoch 40/1000\n",
      "6052/6052 [==============================] - 17s 3ms/step - loss: 0.4947 - accuracy: 0.8041 - val_loss: 0.4966 - val_accuracy: 0.8027\n",
      "Epoch 00040: early stopping\n"
     ]
    },
    {
     "data": {
      "text/plain": [
       "<tensorflow.python.keras.callbacks.History at 0x7fa551010700>"
      ]
     },
     "execution_count": 32,
     "metadata": {},
     "output_type": "execute_result"
    }
   ],
   "source": [
    "best_model.fit(x=X_train, \n",
    "               y=y_train, \n",
    "               epochs=1000,\n",
    "               batch_size=32,\n",
    "               validation_data=(X_valid, y_valid), verbose=1,\n",
    "               callbacks=[early_stop])"
   ]
  },
  {
   "cell_type": "code",
   "execution_count": 33,
   "metadata": {
    "hidden": true
   },
   "outputs": [
    {
     "name": "stdout",
     "output_type": "stream",
     "text": [
      "WARNING:tensorflow:From <ipython-input-33-10e79d90968e>:1: Sequential.predict_classes (from tensorflow.python.keras.engine.sequential) is deprecated and will be removed after 2021-01-01.\n",
      "Instructions for updating:\n",
      "Please use instead:* `np.argmax(model.predict(x), axis=-1)`,   if your model does multi-class classification   (e.g. if it uses a `softmax` last-layer activation).* `(model.predict(x) > 0.5).astype(\"int32\")`,   if your model does binary classification   (e.g. if it uses a `sigmoid` last-layer activation).\n"
     ]
    }
   ],
   "source": [
    "predictions = best_model.predict_classes(X_test)"
   ]
  },
  {
   "cell_type": "code",
   "execution_count": 34,
   "metadata": {
    "hidden": true
   },
   "outputs": [
    {
     "name": "stdout",
     "output_type": "stream",
     "text": [
      "              precision    recall  f1-score   support\n",
      "\n",
      "           0       0.80      1.00      0.89     95356\n",
      "           1       0.00      0.00      0.00     23210\n",
      "\n",
      "    accuracy                           0.80    118566\n",
      "   macro avg       0.40      0.50      0.45    118566\n",
      "weighted avg       0.65      0.80      0.72    118566\n",
      "\n"
     ]
    },
    {
     "name": "stderr",
     "output_type": "stream",
     "text": [
      "/home/mhossain/anaconda3/lib/python3.8/site-packages/sklearn/metrics/_classification.py:1221: UndefinedMetricWarning: Precision and F-score are ill-defined and being set to 0.0 in labels with no predicted samples. Use `zero_division` parameter to control this behavior.\n",
      "  _warn_prf(average, modifier, msg_start, len(result))\n"
     ]
    }
   ],
   "source": [
    "print(classification_report(y_test, predictions))"
   ]
  },
  {
   "cell_type": "markdown",
   "metadata": {},
   "source": [
    "## Multilayer Perceotron (MLP) Model"
   ]
  },
  {
   "cell_type": "markdown",
   "metadata": {},
   "source": [
    "### Common Methods"
   ]
  },
  {
   "cell_type": "code",
   "execution_count": 17,
   "metadata": {},
   "outputs": [],
   "source": [
    "def evaluate_model(X_train, y_train, X_valid, y_valid, model, optimizer):\n",
    "    # evaluate the model\n",
    "    _, train_acc = model.evaluate(X_train, y_train, verbose=0)\n",
    "    _, test_acc = model.evaluate(X_valid, y_valid, verbose=0)\n",
    "    \n",
    "    print(f\"Optimizer: {optimizer} Training Loss: {train_acc:.3f} Validation Accuracy:{test_acc:.3f}\")\n",
    "    \n",
    "# evaluate the Regression model\n",
    "#train_mse = model.evaluate(trainX, trainy, verbose=0)\n",
    "#test_mse = model.evaluate(testX, testy, verbose=0)"
   ]
  },
  {
   "cell_type": "code",
   "execution_count": 18,
   "metadata": {},
   "outputs": [],
   "source": [
    "def plot_loss(history, optimizer):\n",
    "    # plot loss during training\n",
    "    pyplot.figure(figsize=(15,10))\n",
    "    pyplot.subplot(211) \n",
    "    pyplot.title(f\"Binary Cross-Entropy Loss of optimizer {optimizer}\" , pad=-20)\n",
    "    pyplot.plot(history.history['loss'], label='train')\n",
    "    pyplot.plot(history.history['val_loss'], label='test')\n",
    "    pyplot.legend()"
   ]
  },
  {
   "cell_type": "code",
   "execution_count": 19,
   "metadata": {},
   "outputs": [],
   "source": [
    "def plot_accuracy(history, optimizer):\n",
    "    # plot accuracy during training\n",
    "    pyplot.figure(figsize=(15,10))\n",
    "    pyplot.subplot(212)\n",
    "    pyplot.title(f\"Classification Accuracy of optimizer {optimizer}\" , pad=-20)\n",
    "    pyplot.plot(history.history['accuracy'], label='train')\n",
    "    pyplot.plot(history.history['val_accuracy'], label='test')\n",
    "    pyplot.legend()"
   ]
  },
  {
   "cell_type": "code",
   "execution_count": 20,
   "metadata": {},
   "outputs": [],
   "source": [
    "callbacks_list = []"
   ]
  },
  {
   "cell_type": "code",
   "execution_count": 21,
   "metadata": {},
   "outputs": [],
   "source": [
    "# checkpoint\n",
    "#filepath=\"weights-improvement-{epoch:02d}-{val_accuracy:.2f}.hdf5\"\n",
    "filepath=\"weights.best.hdf5\" # Checkpoint Best Neural Network Model Only\n",
    "checkpoint = ModelCheckpoint(filepath, monitor='val_accuracy', verbose=1, save_best_only=True, mode='max')\n",
    "callbacks_list.append(checkpoint)"
   ]
  },
  {
   "cell_type": "code",
   "execution_count": 22,
   "metadata": {},
   "outputs": [],
   "source": [
    "early_stop = EarlyStopping(monitor='val_loss', mode='min', verbose=1, patience=25)\n",
    "callbacks_list.append(early_stop)"
   ]
  },
  {
   "cell_type": "code",
   "execution_count": 23,
   "metadata": {},
   "outputs": [],
   "source": [
    "# create learning curves for different optimizers\n",
    "optimizers = ['sgd', 'rmsprop', 'adagrad', 'adam']"
   ]
  },
  {
   "cell_type": "markdown",
   "metadata": {
    "heading_collapsed": true
   },
   "source": [
    "### Experiment with Dropout + kernel_constraint(max_norm)"
   ]
  },
  {
   "cell_type": "code",
   "execution_count": 122,
   "metadata": {
    "hidden": true
   },
   "outputs": [],
   "source": [
    "def create_experiment_model(hidden_layer=3, optimizer='adam'):\n",
    "    # create model\n",
    "    model = Sequential()\n",
    "    # Input Layer\n",
    "    model.add(Dropout(0.2, input_shape=(n_input,)))\n",
    "    \n",
    "    # grid search values\n",
    "    #values = [1e-1, 1e-2, 1e-3, 1e-4, 1e-5, 1e-6]\n",
    "    #model.add(Dense(500, input_dim=2, activation='relu', kernel_initializer='he_uniform', kernel_regularizer=l2(0.001)))\n",
    "    \n",
    "    # Hidden Layers\n",
    "    if hidden_layer==1:\n",
    "        model.add(Dense(82, activation='relu', kernel_constraint=max_norm(3)))\n",
    "        model.add(Dropout(0.2))\n",
    "        \n",
    "    if hidden_layer==2:\n",
    "        model.add(Dense(82, activation='relu', kernel_constraint=max_norm(3)))\n",
    "        model.add(Dropout(0.2))\n",
    "        \n",
    "        model.add(Dense(41, activation='relu', kernel_constraint=max_norm(3)))\n",
    "        model.add(Dropout(0.2))\n",
    "    \n",
    "    if hidden_layer==3:\n",
    "        model.add(Dense(82, activation='relu', kernel_constraint=max_norm(3)))\n",
    "        model.add(Dropout(0.2))\n",
    "        \n",
    "        model.add(Dense(41, activation='relu', kernel_constraint=max_norm(3)))\n",
    "        model.add(Dropout(0.2))\n",
    "        \n",
    "        model.add(Dense(21, activation='relu', kernel_constraint=max_norm(3)))\n",
    "        model.add(Dropout(0.2))\n",
    "    \n",
    "    # Output Layer\n",
    "    model.add(Dense(1, activation='sigmoid'))   \n",
    "    # Compile model\n",
    "    model.compile(loss='binary_crossentropy', optimizer=optimizer, metrics=['accuracy'])\n",
    "    \n",
    "    return model"
   ]
  },
  {
   "cell_type": "markdown",
   "metadata": {
    "heading_collapsed": true
   },
   "source": [
    "### Experiment with adam + 3 hidden layer"
   ]
  },
  {
   "cell_type": "code",
   "execution_count": 219,
   "metadata": {
    "hidden": true
   },
   "outputs": [
    {
     "name": "stdout",
     "output_type": "stream",
     "text": [
      "Epoch 1/600\n",
      "7897/7905 [============================>.] - ETA: 0s - loss: 49.7820 - accuracy: 0.7846\n",
      "Epoch 00001: val_accuracy improved from -inf to 0.80109, saving model to weights.best.hdf5\n",
      "7905/7905 [==============================] - 9s 1ms/step - loss: 49.7361 - accuracy: 0.7846 - val_loss: 0.4989 - val_accuracy: 0.8011\n",
      "Epoch 2/600\n",
      "7903/7905 [============================>.] - ETA: 0s - loss: 0.5144 - accuracy: 0.8041\n",
      "Epoch 00002: val_accuracy did not improve from 0.80109\n",
      "7905/7905 [==============================] - 9s 1ms/step - loss: 0.5144 - accuracy: 0.8041 - val_loss: 0.4989 - val_accuracy: 0.8011\n",
      "Epoch 3/600\n",
      "7899/7905 [============================>.] - ETA: 0s - loss: 0.4967 - accuracy: 0.8042\n",
      "Epoch 00003: val_accuracy did not improve from 0.80109\n",
      "7905/7905 [==============================] - 9s 1ms/step - loss: 0.4967 - accuracy: 0.8042 - val_loss: 0.4989 - val_accuracy: 0.8011\n",
      "Epoch 4/600\n",
      "7903/7905 [============================>.] - ETA: 0s - loss: 0.4968 - accuracy: 0.8042\n",
      "Epoch 00004: val_accuracy did not improve from 0.80109\n",
      "7905/7905 [==============================] - 11s 1ms/step - loss: 0.4968 - accuracy: 0.8042 - val_loss: 0.4989 - val_accuracy: 0.8011\n",
      "Epoch 5/600\n",
      "7878/7905 [============================>.] - ETA: 0s - loss: 0.4955 - accuracy: 0.8042\n",
      "Epoch 00005: val_accuracy did not improve from 0.80109\n",
      "7905/7905 [==============================] - 12s 1ms/step - loss: 0.4956 - accuracy: 0.8042 - val_loss: 0.4989 - val_accuracy: 0.8011\n",
      "Epoch 6/600\n",
      "7891/7905 [============================>.] - ETA: 0s - loss: 0.5167 - accuracy: 0.8042\n",
      "Epoch 00006: val_accuracy did not improve from 0.80109\n",
      "7905/7905 [==============================] - 11s 1ms/step - loss: 0.5166 - accuracy: 0.8042 - val_loss: 0.4989 - val_accuracy: 0.8011\n",
      "Epoch 7/600\n",
      "7872/7905 [============================>.] - ETA: 0s - loss: 0.5054 - accuracy: 0.8042\n",
      "Epoch 00007: val_accuracy did not improve from 0.80109\n",
      "7905/7905 [==============================] - 10s 1ms/step - loss: 0.5054 - accuracy: 0.8042 - val_loss: 0.4989 - val_accuracy: 0.8011\n",
      "Epoch 8/600\n",
      "7901/7905 [============================>.] - ETA: 0s - loss: 0.4999 - accuracy: 0.8042\n",
      "Epoch 00008: val_accuracy did not improve from 0.80109\n",
      "7905/7905 [==============================] - 10s 1ms/step - loss: 0.4999 - accuracy: 0.8042 - val_loss: 0.4989 - val_accuracy: 0.8011\n",
      "Epoch 9/600\n",
      "7879/7905 [============================>.] - ETA: 0s - loss: 0.5064 - accuracy: 0.8041\n",
      "Epoch 00009: val_accuracy did not improve from 0.80109\n",
      "7905/7905 [==============================] - 10s 1ms/step - loss: 0.5063 - accuracy: 0.8042 - val_loss: 0.4991 - val_accuracy: 0.8011\n",
      "Epoch 10/600\n",
      "7877/7905 [============================>.] - ETA: 0s - loss: 0.4953 - accuracy: 0.8042\n",
      "Epoch 00010: val_accuracy did not improve from 0.80109\n",
      "7905/7905 [==============================] - 11s 1ms/step - loss: 0.4953 - accuracy: 0.8042 - val_loss: 0.4989 - val_accuracy: 0.8011\n",
      "Epoch 11/600\n",
      "7901/7905 [============================>.] - ETA: 0s - loss: 0.4945 - accuracy: 0.8042\n",
      "Epoch 00011: val_accuracy did not improve from 0.80109\n",
      "7905/7905 [==============================] - 11s 1ms/step - loss: 0.4946 - accuracy: 0.8042 - val_loss: 0.4989 - val_accuracy: 0.8011\n",
      "Epoch 12/600\n",
      "7866/7905 [============================>.] - ETA: 0s - loss: 0.4945 - accuracy: 0.8042\n",
      "Epoch 00012: val_accuracy did not improve from 0.80109\n",
      "7905/7905 [==============================] - 11s 1ms/step - loss: 0.4945 - accuracy: 0.8042 - val_loss: 0.4990 - val_accuracy: 0.8011\n",
      "Epoch 13/600\n",
      "7871/7905 [============================>.] - ETA: 0s - loss: 0.4955 - accuracy: 0.8042\n",
      "Epoch 00013: val_accuracy did not improve from 0.80109\n",
      "7905/7905 [==============================] - 10s 1ms/step - loss: 0.4954 - accuracy: 0.8042 - val_loss: 0.4990 - val_accuracy: 0.8011\n",
      "Epoch 14/600\n",
      "7897/7905 [============================>.] - ETA: 0s - loss: 0.4952 - accuracy: 0.8042\n",
      "Epoch 00014: val_accuracy did not improve from 0.80109\n",
      "7905/7905 [==============================] - 10s 1ms/step - loss: 0.4952 - accuracy: 0.8042 - val_loss: 0.4989 - val_accuracy: 0.8011\n",
      "Epoch 15/600\n",
      "7893/7905 [============================>.] - ETA: 0s - loss: 0.4947 - accuracy: 0.8042\n",
      "Epoch 00015: val_accuracy did not improve from 0.80109\n",
      "7905/7905 [==============================] - 10s 1ms/step - loss: 0.4947 - accuracy: 0.8042 - val_loss: 0.4989 - val_accuracy: 0.8011\n",
      "Epoch 16/600\n",
      "7863/7905 [============================>.] - ETA: 0s - loss: 0.4958 - accuracy: 0.8042\n",
      "Epoch 00016: val_accuracy did not improve from 0.80109\n",
      "7905/7905 [==============================] - 10s 1ms/step - loss: 0.4959 - accuracy: 0.8042 - val_loss: 0.4989 - val_accuracy: 0.8011\n",
      "Epoch 17/600\n",
      "7869/7905 [============================>.] - ETA: 0s - loss: 0.5004 - accuracy: 0.8042\n",
      "Epoch 00017: val_accuracy did not improve from 0.80109\n",
      "7905/7905 [==============================] - 10s 1ms/step - loss: 0.5004 - accuracy: 0.8042 - val_loss: 0.4990 - val_accuracy: 0.8011\n",
      "Epoch 18/600\n",
      "7867/7905 [============================>.] - ETA: 0s - loss: 0.4947 - accuracy: 0.8042\n",
      "Epoch 00018: val_accuracy did not improve from 0.80109\n",
      "7905/7905 [==============================] - 10s 1ms/step - loss: 0.4947 - accuracy: 0.8042 - val_loss: 0.4989 - val_accuracy: 0.8011\n",
      "Epoch 19/600\n",
      "7893/7905 [============================>.] - ETA: 0s - loss: 0.4947 - accuracy: 0.8042\n",
      "Epoch 00019: val_accuracy did not improve from 0.80109\n",
      "7905/7905 [==============================] - 10s 1ms/step - loss: 0.4947 - accuracy: 0.8042 - val_loss: 0.4989 - val_accuracy: 0.8011\n",
      "Epoch 20/600\n",
      "7873/7905 [============================>.] - ETA: 0s - loss: 0.4946 - accuracy: 0.8042\n",
      "Epoch 00020: val_accuracy did not improve from 0.80109\n",
      "7905/7905 [==============================] - 11s 1ms/step - loss: 0.4946 - accuracy: 0.8042 - val_loss: 0.4990 - val_accuracy: 0.8011\n",
      "Epoch 21/600\n",
      "7904/7905 [============================>.] - ETA: 0s - loss: 0.4951 - accuracy: 0.8042\n",
      "Epoch 00021: val_accuracy did not improve from 0.80109\n",
      "7905/7905 [==============================] - 10s 1ms/step - loss: 0.4951 - accuracy: 0.8042 - val_loss: 0.4989 - val_accuracy: 0.8011\n",
      "Epoch 22/600\n",
      "7899/7905 [============================>.] - ETA: 0s - loss: 0.4956 - accuracy: 0.8042\n",
      "Epoch 00022: val_accuracy did not improve from 0.80109\n",
      "7905/7905 [==============================] - 10s 1ms/step - loss: 0.4956 - accuracy: 0.8042 - val_loss: 0.4989 - val_accuracy: 0.8011\n",
      "Epoch 23/600\n",
      "7884/7905 [============================>.] - ETA: 0s - loss: 0.4949 - accuracy: 0.8042\n",
      "Epoch 00023: val_accuracy did not improve from 0.80109\n",
      "7905/7905 [==============================] - 10s 1ms/step - loss: 0.4950 - accuracy: 0.8042 - val_loss: 0.4989 - val_accuracy: 0.8011\n",
      "Epoch 24/600\n",
      "7888/7905 [============================>.] - ETA: 0s - loss: 0.4947 - accuracy: 0.8042\n",
      "Epoch 00024: val_accuracy did not improve from 0.80109\n",
      "7905/7905 [==============================] - 10s 1ms/step - loss: 0.4947 - accuracy: 0.8042 - val_loss: 0.4989 - val_accuracy: 0.8011\n",
      "Epoch 25/600\n",
      "7866/7905 [============================>.] - ETA: 0s - loss: 0.4945 - accuracy: 0.8042\n",
      "Epoch 00025: val_accuracy did not improve from 0.80109\n",
      "7905/7905 [==============================] - 10s 1ms/step - loss: 0.4945 - accuracy: 0.8042 - val_loss: 0.4989 - val_accuracy: 0.8011\n",
      "Epoch 26/600\n",
      "7871/7905 [============================>.] - ETA: 0s - loss: 0.4945 - accuracy: 0.8042\n",
      "Epoch 00026: val_accuracy did not improve from 0.80109\n",
      "7905/7905 [==============================] - 10s 1ms/step - loss: 0.4945 - accuracy: 0.8042 - val_loss: 0.4989 - val_accuracy: 0.8011\n",
      "Epoch 27/600\n",
      "7894/7905 [============================>.] - ETA: 0s - loss: 0.4974 - accuracy: 0.8042\n",
      "Epoch 00027: val_accuracy did not improve from 0.80109\n",
      "7905/7905 [==============================] - 10s 1ms/step - loss: 0.4974 - accuracy: 0.8042 - val_loss: 0.4990 - val_accuracy: 0.8011\n",
      "Epoch 28/600\n",
      "7903/7905 [============================>.] - ETA: 0s - loss: 0.4946 - accuracy: 0.8042\n",
      "Epoch 00028: val_accuracy did not improve from 0.80109\n",
      "7905/7905 [==============================] - 10s 1ms/step - loss: 0.4946 - accuracy: 0.8042 - val_loss: 0.4989 - val_accuracy: 0.8011\n",
      "Epoch 29/600\n",
      "7890/7905 [============================>.] - ETA: 0s - loss: 0.4946 - accuracy: 0.8042\n",
      "Epoch 00029: val_accuracy did not improve from 0.80109\n",
      "7905/7905 [==============================] - 10s 1ms/step - loss: 0.4945 - accuracy: 0.8042 - val_loss: 0.4989 - val_accuracy: 0.8011\n",
      "Epoch 30/600\n",
      "7888/7905 [============================>.] - ETA: 0s - loss: 0.4946 - accuracy: 0.8042\n",
      "Epoch 00030: val_accuracy did not improve from 0.80109\n",
      "7905/7905 [==============================] - 10s 1ms/step - loss: 0.4945 - accuracy: 0.8042 - val_loss: 0.4989 - val_accuracy: 0.8011\n",
      "Epoch 31/600\n",
      "7863/7905 [============================>.] - ETA: 0s - loss: 0.4947 - accuracy: 0.8042\n",
      "Epoch 00031: val_accuracy did not improve from 0.80109\n",
      "7905/7905 [==============================] - 10s 1ms/step - loss: 0.4947 - accuracy: 0.8042 - val_loss: 0.4989 - val_accuracy: 0.8011\n",
      "Epoch 32/600\n",
      "7883/7905 [============================>.] - ETA: 0s - loss: 0.4947 - accuracy: 0.8041\n",
      "Epoch 00032: val_accuracy did not improve from 0.80109\n",
      "7905/7905 [==============================] - 10s 1ms/step - loss: 0.4946 - accuracy: 0.8042 - val_loss: 0.4989 - val_accuracy: 0.8011\n",
      "Epoch 33/600\n",
      "7896/7905 [============================>.] - ETA: 0s - loss: 0.4946 - accuracy: 0.8042\n",
      "Epoch 00033: val_accuracy did not improve from 0.80109\n",
      "7905/7905 [==============================] - 10s 1ms/step - loss: 0.4946 - accuracy: 0.8042 - val_loss: 0.4989 - val_accuracy: 0.8011\n",
      "Epoch 34/600\n",
      "7887/7905 [============================>.] - ETA: 0s - loss: 0.4947 - accuracy: 0.8041\n",
      "Epoch 00034: val_accuracy did not improve from 0.80109\n",
      "7905/7905 [==============================] - 10s 1ms/step - loss: 0.4946 - accuracy: 0.8042 - val_loss: 0.4989 - val_accuracy: 0.8011\n",
      "Epoch 35/600\n",
      "7863/7905 [============================>.] - ETA: 0s - loss: 0.4954 - accuracy: 0.8042\n",
      "Epoch 00035: val_accuracy did not improve from 0.80109\n",
      "7905/7905 [==============================] - 10s 1ms/step - loss: 0.4954 - accuracy: 0.8042 - val_loss: 0.4989 - val_accuracy: 0.8011\n",
      "Epoch 36/600\n",
      "7890/7905 [============================>.] - ETA: 0s - loss: 0.5001 - accuracy: 0.8042\n",
      "Epoch 00036: val_accuracy did not improve from 0.80109\n",
      "7905/7905 [==============================] - 10s 1ms/step - loss: 0.5001 - accuracy: 0.8042 - val_loss: 0.4989 - val_accuracy: 0.8011\n",
      "Epoch 37/600\n",
      "7872/7905 [============================>.] - ETA: 0s - loss: 0.4947 - accuracy: 0.8042\n",
      "Epoch 00037: val_accuracy did not improve from 0.80109\n",
      "7905/7905 [==============================] - 11s 1ms/step - loss: 0.4947 - accuracy: 0.8042 - val_loss: 0.4989 - val_accuracy: 0.8011\n",
      "Epoch 38/600\n",
      "7882/7905 [============================>.] - ETA: 0s - loss: 0.4946 - accuracy: 0.8042\n",
      "Epoch 00038: val_accuracy did not improve from 0.80109\n",
      "7905/7905 [==============================] - 11s 1ms/step - loss: 0.4945 - accuracy: 0.8042 - val_loss: 0.4990 - val_accuracy: 0.8011\n",
      "Epoch 39/600\n",
      "7874/7905 [============================>.] - ETA: 0s - loss: 0.4948 - accuracy: 0.8042\n",
      "Epoch 00039: val_accuracy did not improve from 0.80109\n",
      "7905/7905 [==============================] - 10s 1ms/step - loss: 0.4948 - accuracy: 0.8042 - val_loss: 0.4989 - val_accuracy: 0.8011\n",
      "Epoch 40/600\n",
      "7869/7905 [============================>.] - ETA: 0s - loss: 0.4951 - accuracy: 0.8042\n",
      "Epoch 00040: val_accuracy did not improve from 0.80109\n",
      "7905/7905 [==============================] - 10s 1ms/step - loss: 0.4951 - accuracy: 0.8042 - val_loss: 0.4989 - val_accuracy: 0.8011\n",
      "Epoch 41/600\n",
      "7885/7905 [============================>.] - ETA: 0s - loss: 0.4945 - accuracy: 0.8043 ETA: 0s - loss: 0.4948 - accuracy: 0.\n",
      "Epoch 00041: val_accuracy did not improve from 0.80109\n",
      "7905/7905 [==============================] - 11s 1ms/step - loss: 0.4946 - accuracy: 0.8042 - val_loss: 0.4989 - val_accuracy: 0.8011\n",
      "Epoch 42/600\n",
      "7897/7905 [============================>.] - ETA: 0s - loss: 0.5016 - accuracy: 0.8042\n",
      "Epoch 00042: val_accuracy did not improve from 0.80109\n",
      "7905/7905 [==============================] - 11s 1ms/step - loss: 0.5015 - accuracy: 0.8042 - val_loss: 0.4990 - val_accuracy: 0.8011\n",
      "Epoch 43/600\n",
      "7876/7905 [============================>.] - ETA: 0s - loss: 0.4945 - accuracy: 0.8042\n",
      "Epoch 00043: val_accuracy did not improve from 0.80109\n",
      "7905/7905 [==============================] - 11s 1ms/step - loss: 0.4945 - accuracy: 0.8042 - val_loss: 0.4989 - val_accuracy: 0.8011\n",
      "Epoch 44/600\n",
      "7875/7905 [============================>.] - ETA: 0s - loss: 0.4945 - accuracy: 0.8042\n",
      "Epoch 00044: val_accuracy did not improve from 0.80109\n",
      "7905/7905 [==============================] - 11s 1ms/step - loss: 0.4945 - accuracy: 0.8042 - val_loss: 0.4989 - val_accuracy: 0.8011\n",
      "Epoch 45/600\n",
      "7900/7905 [============================>.] - ETA: 0s - loss: 0.4946 - accuracy: 0.8042\n",
      "Epoch 00045: val_accuracy did not improve from 0.80109\n",
      "7905/7905 [==============================] - 11s 1ms/step - loss: 0.4946 - accuracy: 0.8042 - val_loss: 0.4989 - val_accuracy: 0.8011\n",
      "Epoch 46/600\n",
      "7881/7905 [============================>.] - ETA: 0s - loss: 0.4946 - accuracy: 0.8042\n",
      "Epoch 00046: val_accuracy did not improve from 0.80109\n",
      "7905/7905 [==============================] - 11s 1ms/step - loss: 0.4945 - accuracy: 0.8042 - val_loss: 0.4989 - val_accuracy: 0.8011\n",
      "Epoch 47/600\n",
      "7883/7905 [============================>.] - ETA: 0s - loss: 0.4946 - accuracy: 0.8042 ETA: 0s\n",
      "Epoch 00047: val_accuracy did not improve from 0.80109\n",
      "7905/7905 [==============================] - 10s 1ms/step - loss: 0.4945 - accuracy: 0.8042 - val_loss: 0.4989 - val_accuracy: 0.8011\n",
      "Epoch 48/600\n",
      "7883/7905 [============================>.] - ETA: 0s - loss: 0.4946 - accuracy: 0.8042\n",
      "Epoch 00048: val_accuracy did not improve from 0.80109\n",
      "7905/7905 [==============================] - 10s 1ms/step - loss: 0.4945 - accuracy: 0.8042 - val_loss: 0.4989 - val_accuracy: 0.8011\n",
      "Epoch 49/600\n",
      "7902/7905 [============================>.] - ETA: 0s - loss: 0.4945 - accuracy: 0.8042\n",
      "Epoch 00049: val_accuracy did not improve from 0.80109\n",
      "7905/7905 [==============================] - 10s 1ms/step - loss: 0.4945 - accuracy: 0.8042 - val_loss: 0.4989 - val_accuracy: 0.8011\n",
      "Epoch 50/600\n",
      "7901/7905 [============================>.] - ETA: 0s - loss: 0.4946 - accuracy: 0.8042\n",
      "Epoch 00050: val_accuracy did not improve from 0.80109\n",
      "7905/7905 [==============================] - 10s 1ms/step - loss: 0.4947 - accuracy: 0.8042 - val_loss: 0.4989 - val_accuracy: 0.8011\n",
      "Epoch 51/600\n",
      "7881/7905 [============================>.] - ETA: 0s - loss: 0.4945 - accuracy: 0.8042\n",
      "Epoch 00051: val_accuracy did not improve from 0.80109\n",
      "7905/7905 [==============================] - 10s 1ms/step - loss: 0.4945 - accuracy: 0.8042 - val_loss: 0.4989 - val_accuracy: 0.8011\n",
      "Epoch 52/600\n",
      "7905/7905 [==============================] - ETA: 0s - loss: 0.4962 - accuracy: 0.8042\n",
      "Epoch 00052: val_accuracy did not improve from 0.80109\n",
      "7905/7905 [==============================] - 10s 1ms/step - loss: 0.4962 - accuracy: 0.8042 - val_loss: 0.4989 - val_accuracy: 0.8011\n",
      "Epoch 53/600\n",
      "7874/7905 [============================>.] - ETA: 0s - loss: 0.4946 - accuracy: 0.8042\n",
      "Epoch 00053: val_accuracy did not improve from 0.80109\n",
      "7905/7905 [==============================] - 11s 1ms/step - loss: 0.4945 - accuracy: 0.8042 - val_loss: 0.4990 - val_accuracy: 0.8011\n",
      "Epoch 54/600\n",
      "7882/7905 [============================>.] - ETA: 0s - loss: 0.4947 - accuracy: 0.8042\n",
      "Epoch 00054: val_accuracy did not improve from 0.80109\n",
      "7905/7905 [==============================] - 10s 1ms/step - loss: 0.4947 - accuracy: 0.8042 - val_loss: 0.4989 - val_accuracy: 0.8011\n",
      "Epoch 00054: early stopping\n",
      "Execution time :  0:09:15.354543\n"
     ]
    }
   ],
   "source": [
    "init_time = datetime.now()\n",
    "model = create_experiment_model()\n",
    "history = model.fit(x=X_train, \n",
    "                    y=y_train, \n",
    "                    epochs=600,\n",
    "                    batch_size=32,\n",
    "                    validation_data=(X_valid, y_valid), verbose=1,\n",
    "                    callbacks=callbacks_list\n",
    "                   )\n",
    "fin_time = datetime.now()\n",
    "print(\"Execution time : \", (fin_time-init_time))"
   ]
  },
  {
   "cell_type": "code",
   "execution_count": 220,
   "metadata": {
    "hidden": true
   },
   "outputs": [
    {
     "name": "stdout",
     "output_type": "stream",
     "text": [
      "Optimizer: adam Train: 0.804 Test:0.801\n"
     ]
    }
   ],
   "source": [
    "evaluate_model(X_train, y_train, X_valid, y_valid, model, optimizers[3])"
   ]
  },
  {
   "cell_type": "code",
   "execution_count": 221,
   "metadata": {
    "hidden": true
   },
   "outputs": [
    {
     "data": {
      "image/png": "[encoded data removed]",
      "text/plain": [
       "<Figure size 1080x720 with 1 Axes>"
      ]
     },
     "metadata": {
      "needs_background": "light"
     },
     "output_type": "display_data"
    }
   ],
   "source": [
    "plot_loss(history, optimizers[3])"
   ]
  },
  {
   "cell_type": "code",
   "execution_count": 222,
   "metadata": {
    "hidden": true
   },
   "outputs": [
    {
     "data": {
      "image/png": "[encoded data removed]",
      "text/plain": [
       "<Figure size 1080x720 with 1 Axes>"
      ]
     },
     "metadata": {
      "needs_background": "light"
     },
     "output_type": "display_data"
    }
   ],
   "source": [
    "plot_accuracy(history, optimizers[3])"
   ]
  },
  {
   "cell_type": "markdown",
   "metadata": {
    "heading_collapsed": true
   },
   "source": [
    "### Experiment with Stabilize Learning with Data Scaling (Normalization)"
   ]
  },
  {
   "cell_type": "code",
   "execution_count": 26,
   "metadata": {
    "hidden": true
   },
   "outputs": [],
   "source": [
    "norm_scaler = MinMaxScaler()\n",
    "norm_scaler.fit(X_train)\n",
    "\n",
    "X_train_norm = norm_scaler.transform(X_train)\n",
    "X_test_norm = norm_scaler.transform(X_test)\n",
    "X_valid_norm = norm_scaler.transform(X_valid)"
   ]
  },
  {
   "cell_type": "code",
   "execution_count": 224,
   "metadata": {
    "hidden": true
   },
   "outputs": [
    {
     "name": "stdout",
     "output_type": "stream",
     "text": [
      "Epoch 1/600\n",
      "7878/7905 [============================>.] - ETA: 0s - loss: 0.3310 - accuracy: 0.8693\n",
      "Epoch 00001: val_accuracy improved from 0.80109 to 0.88693, saving model to weights.best.hdf5\n",
      "7905/7905 [==============================] - 8s 955us/step - loss: 0.3309 - accuracy: 0.8693 - val_loss: 0.2777 - val_accuracy: 0.8869\n",
      "Epoch 2/600\n",
      "7903/7905 [============================>.] - ETA: 0s - loss: 0.3208 - accuracy: 0.8716\n",
      "Epoch 00002: val_accuracy did not improve from 0.88693\n",
      "7905/7905 [==============================] - 7s 908us/step - loss: 0.3208 - accuracy: 0.8716 - val_loss: 0.2769 - val_accuracy: 0.8869\n",
      "Epoch 3/600\n",
      "7877/7905 [============================>.] - ETA: 0s - loss: 0.3198 - accuracy: 0.8717\n",
      "Epoch 00003: val_accuracy did not improve from 0.88693\n",
      "7905/7905 [==============================] - 9s 1ms/step - loss: 0.3199 - accuracy: 0.8717 - val_loss: 0.2795 - val_accuracy: 0.8869\n",
      "Epoch 4/600\n",
      "7888/7905 [============================>.] - ETA: 0s - loss: 0.3200 - accuracy: 0.8712\n",
      "Epoch 00004: val_accuracy did not improve from 0.88693\n",
      "7905/7905 [==============================] - 9s 1ms/step - loss: 0.3200 - accuracy: 0.8712 - val_loss: 0.2780 - val_accuracy: 0.8869\n",
      "Epoch 5/600\n",
      "7901/7905 [============================>.] - ETA: 0s - loss: 0.3206 - accuracy: 0.8713\n",
      "Epoch 00005: val_accuracy did not improve from 0.88693\n",
      "7905/7905 [==============================] - 9s 1ms/step - loss: 0.3206 - accuracy: 0.8713 - val_loss: 0.2787 - val_accuracy: 0.8869\n",
      "Epoch 6/600\n",
      "7871/7905 [============================>.] - ETA: 0s - loss: 0.3204 - accuracy: 0.8709\n",
      "Epoch 00006: val_accuracy did not improve from 0.88693\n",
      "7905/7905 [==============================] - 9s 1ms/step - loss: 0.3204 - accuracy: 0.8709 - val_loss: 0.2790 - val_accuracy: 0.8869\n",
      "Epoch 7/600\n",
      "7864/7905 [============================>.] - ETA: 0s - loss: 0.3200 - accuracy: 0.8712\n",
      "Epoch 00007: val_accuracy did not improve from 0.88693\n",
      "7905/7905 [==============================] - 9s 1ms/step - loss: 0.3201 - accuracy: 0.8712 - val_loss: 0.2793 - val_accuracy: 0.8869\n",
      "Epoch 8/600\n",
      "7900/7905 [============================>.] - ETA: 0s - loss: 0.3197 - accuracy: 0.8712\n",
      "Epoch 00008: val_accuracy did not improve from 0.88693\n",
      "7905/7905 [==============================] - 9s 1ms/step - loss: 0.3198 - accuracy: 0.8712 - val_loss: 0.2790 - val_accuracy: 0.8869\n",
      "Epoch 9/600\n",
      "7867/7905 [============================>.] - ETA: 0s - loss: 0.3193 - accuracy: 0.8715\n",
      "Epoch 00009: val_accuracy did not improve from 0.88693\n",
      "7905/7905 [==============================] - 9s 1ms/step - loss: 0.3193 - accuracy: 0.8715 - val_loss: 0.2782 - val_accuracy: 0.8869\n",
      "Epoch 10/600\n",
      "7871/7905 [============================>.] - ETA: 0s - loss: 0.3194 - accuracy: 0.8714\n",
      "Epoch 00010: val_accuracy improved from 0.88693 to 0.88698, saving model to weights.best.hdf5\n",
      "7905/7905 [==============================] - 10s 1ms/step - loss: 0.3195 - accuracy: 0.8713 - val_loss: 0.2795 - val_accuracy: 0.8870\n",
      "Epoch 11/600\n",
      "7861/7905 [============================>.] - ETA: 0s - loss: 0.3194 - accuracy: 0.8716\n",
      "Epoch 00011: val_accuracy did not improve from 0.88698\n",
      "7905/7905 [==============================] - 9s 1ms/step - loss: 0.3193 - accuracy: 0.8716 - val_loss: 0.2766 - val_accuracy: 0.8869\n",
      "Epoch 12/600\n",
      "7894/7905 [============================>.] - ETA: 0s - loss: 0.3201 - accuracy: 0.8707\n",
      "Epoch 00012: val_accuracy improved from 0.88698 to 0.88702, saving model to weights.best.hdf5\n",
      "7905/7905 [==============================] - 9s 1ms/step - loss: 0.3201 - accuracy: 0.8706 - val_loss: 0.2805 - val_accuracy: 0.8870\n",
      "Epoch 13/600\n",
      "7868/7905 [============================>.] - ETA: 0s - loss: 0.3189 - accuracy: 0.8716\n",
      "Epoch 00013: val_accuracy did not improve from 0.88702\n",
      "7905/7905 [==============================] - 9s 1ms/step - loss: 0.3189 - accuracy: 0.8716 - val_loss: 0.2775 - val_accuracy: 0.8870\n",
      "Epoch 14/600\n",
      "7888/7905 [============================>.] - ETA: 0s - loss: 0.3197 - accuracy: 0.8710\n",
      "Epoch 00014: val_accuracy did not improve from 0.88702\n",
      "7905/7905 [==============================] - 9s 1ms/step - loss: 0.3197 - accuracy: 0.8711 - val_loss: 0.2784 - val_accuracy: 0.8869\n",
      "Epoch 15/600\n",
      "7878/7905 [============================>.] - ETA: 0s - loss: 0.3203 - accuracy: 0.8709\n",
      "Epoch 00015: val_accuracy did not improve from 0.88702\n",
      "7905/7905 [==============================] - 9s 1ms/step - loss: 0.3203 - accuracy: 0.8709 - val_loss: 0.2783 - val_accuracy: 0.8869\n",
      "Epoch 16/600\n",
      "7866/7905 [============================>.] - ETA: 0s - loss: 0.3198 - accuracy: 0.8708 ETA: 0s - loss: 0.3\n",
      "Epoch 00016: val_accuracy did not improve from 0.88702\n",
      "7905/7905 [==============================] - 9s 1ms/step - loss: 0.3196 - accuracy: 0.8709 - val_loss: 0.2769 - val_accuracy: 0.8869\n",
      "Epoch 17/600\n",
      "7892/7905 [============================>.] - ETA: 0s - loss: 0.3186 - accuracy: 0.8714\n",
      "Epoch 00017: val_accuracy did not improve from 0.88702\n",
      "7905/7905 [==============================] - 9s 1ms/step - loss: 0.3186 - accuracy: 0.8714 - val_loss: 0.2795 - val_accuracy: 0.8870\n",
      "Epoch 18/600\n",
      "7868/7905 [============================>.] - ETA: 0s - loss: 0.3200 - accuracy: 0.8711\n",
      "Epoch 00018: val_accuracy did not improve from 0.88702\n",
      "7905/7905 [==============================] - 9s 1ms/step - loss: 0.3200 - accuracy: 0.8711 - val_loss: 0.2786 - val_accuracy: 0.8869\n",
      "Epoch 19/600\n",
      "7867/7905 [============================>.] - ETA: 0s - loss: 0.3188 - accuracy: 0.8713\n",
      "Epoch 00019: val_accuracy did not improve from 0.88702\n",
      "7905/7905 [==============================] - 9s 1ms/step - loss: 0.3189 - accuracy: 0.8713 - val_loss: 0.2787 - val_accuracy: 0.8869\n",
      "Epoch 20/600\n",
      "7870/7905 [============================>.] - ETA: 0s - loss: 0.3200 - accuracy: 0.8709\n",
      "Epoch 00020: val_accuracy improved from 0.88702 to 0.88709, saving model to weights.best.hdf5\n",
      "7905/7905 [==============================] - 10s 1ms/step - loss: 0.3199 - accuracy: 0.8709 - val_loss: 0.2768 - val_accuracy: 0.8871\n",
      "Epoch 21/600\n",
      "7883/7905 [============================>.] - ETA: 0s - loss: 0.3191 - accuracy: 0.8709\n",
      "Epoch 00021: val_accuracy did not improve from 0.88709\n",
      "7905/7905 [==============================] - 9s 1ms/step - loss: 0.3190 - accuracy: 0.8709 - val_loss: 0.2776 - val_accuracy: 0.8869\n",
      "Epoch 22/600\n",
      "7896/7905 [============================>.] - ETA: 0s - loss: 0.3191 - accuracy: 0.8715\n",
      "Epoch 00022: val_accuracy did not improve from 0.88709\n",
      "7905/7905 [==============================] - 9s 1ms/step - loss: 0.3191 - accuracy: 0.8714 - val_loss: 0.2790 - val_accuracy: 0.8869\n",
      "Epoch 23/600\n",
      "7874/7905 [============================>.] - ETA: 0s - loss: 0.3189 - accuracy: 0.8711\n",
      "Epoch 00023: val_accuracy did not improve from 0.88709\n",
      "7905/7905 [==============================] - 9s 1ms/step - loss: 0.3190 - accuracy: 0.8711 - val_loss: 0.2775 - val_accuracy: 0.8869\n",
      "Epoch 24/600\n",
      "7904/7905 [============================>.] - ETA: 0s - loss: 0.3187 - accuracy: 0.8716\n",
      "Epoch 00024: val_accuracy did not improve from 0.88709\n",
      "7905/7905 [==============================] - 9s 1ms/step - loss: 0.3187 - accuracy: 0.8716 - val_loss: 0.2750 - val_accuracy: 0.8869\n",
      "Epoch 25/600\n",
      "7876/7905 [============================>.] - ETA: 0s - loss: 0.3189 - accuracy: 0.8713\n",
      "Epoch 00025: val_accuracy did not improve from 0.88709\n",
      "7905/7905 [==============================] - 9s 1ms/step - loss: 0.3188 - accuracy: 0.8713 - val_loss: 0.2785 - val_accuracy: 0.8870\n",
      "Epoch 26/600\n",
      "7884/7905 [============================>.] - ETA: 0s - loss: 0.3191 - accuracy: 0.8712\n",
      "Epoch 00026: val_accuracy did not improve from 0.88709\n",
      "7905/7905 [==============================] - 9s 1ms/step - loss: 0.3191 - accuracy: 0.8712 - val_loss: 0.2772 - val_accuracy: 0.8869\n",
      "Epoch 27/600\n",
      "7886/7905 [============================>.] - ETA: 0s - loss: 0.3201 - accuracy: 0.8711\n",
      "Epoch 00027: val_accuracy improved from 0.88709 to 0.88720, saving model to weights.best.hdf5\n",
      "7905/7905 [==============================] - 10s 1ms/step - loss: 0.3201 - accuracy: 0.8710 - val_loss: 0.2775 - val_accuracy: 0.8872\n",
      "Epoch 28/600\n",
      "7903/7905 [============================>.] - ETA: 0s - loss: 0.3186 - accuracy: 0.8715\n",
      "Epoch 00028: val_accuracy did not improve from 0.88720\n",
      "7905/7905 [==============================] - 10s 1ms/step - loss: 0.3187 - accuracy: 0.8714 - val_loss: 0.2781 - val_accuracy: 0.8871\n"
     ]
    },
    {
     "name": "stdout",
     "output_type": "stream",
     "text": [
      "Epoch 29/600\n",
      "7861/7905 [============================>.] - ETA: 0s - loss: 0.3193 - accuracy: 0.8710\n",
      "Epoch 00029: val_accuracy did not improve from 0.88720\n",
      "7905/7905 [==============================] - 10s 1ms/step - loss: 0.3193 - accuracy: 0.8710 - val_loss: 0.2787 - val_accuracy: 0.8869\n",
      "Epoch 30/600\n",
      "7871/7905 [============================>.] - ETA: 0s - loss: 0.3189 - accuracy: 0.8715\n",
      "Epoch 00030: val_accuracy did not improve from 0.88720\n",
      "7905/7905 [==============================] - 9s 1ms/step - loss: 0.3188 - accuracy: 0.8714 - val_loss: 0.2780 - val_accuracy: 0.8870\n",
      "Epoch 31/600\n",
      "7891/7905 [============================>.] - ETA: 0s - loss: 0.3188 - accuracy: 0.8713\n",
      "Epoch 00031: val_accuracy did not improve from 0.88720\n",
      "7905/7905 [==============================] - 9s 1ms/step - loss: 0.3188 - accuracy: 0.8713 - val_loss: 0.2772 - val_accuracy: 0.8869\n",
      "Epoch 32/600\n",
      "7867/7905 [============================>.] - ETA: 0s - loss: 0.3195 - accuracy: 0.8713\n",
      "Epoch 00032: val_accuracy did not improve from 0.88720\n",
      "7905/7905 [==============================] - 9s 1ms/step - loss: 0.3196 - accuracy: 0.8712 - val_loss: 0.2791 - val_accuracy: 0.8869\n",
      "Epoch 33/600\n",
      "7887/7905 [============================>.] - ETA: 0s - loss: 0.3196 - accuracy: 0.8709\n",
      "Epoch 00033: val_accuracy did not improve from 0.88720\n",
      "7905/7905 [==============================] - 9s 1ms/step - loss: 0.3197 - accuracy: 0.8709 - val_loss: 0.2776 - val_accuracy: 0.8869\n",
      "Epoch 34/600\n",
      "7864/7905 [============================>.] - ETA: 0s - loss: 0.3189 - accuracy: 0.8712\n",
      "Epoch 00034: val_accuracy did not improve from 0.88720\n",
      "7905/7905 [==============================] - 9s 1ms/step - loss: 0.3189 - accuracy: 0.8712 - val_loss: 0.2793 - val_accuracy: 0.8869\n",
      "Epoch 35/600\n",
      "7860/7905 [============================>.] - ETA: 0s - loss: 0.3191 - accuracy: 0.8714\n",
      "Epoch 00035: val_accuracy did not improve from 0.88720\n",
      "7905/7905 [==============================] - 9s 1ms/step - loss: 0.3190 - accuracy: 0.8714 - val_loss: 0.2770 - val_accuracy: 0.8870\n",
      "Epoch 36/600\n",
      "7881/7905 [============================>.] - ETA: 0s - loss: 0.3186 - accuracy: 0.8715\n",
      "Epoch 00036: val_accuracy did not improve from 0.88720\n",
      "7905/7905 [==============================] - 9s 1ms/step - loss: 0.3186 - accuracy: 0.8715 - val_loss: 0.2770 - val_accuracy: 0.8869\n",
      "Epoch 37/600\n",
      "7868/7905 [============================>.] - ETA: 0s - loss: 0.3189 - accuracy: 0.8713\n",
      "Epoch 00037: val_accuracy did not improve from 0.88720\n",
      "7905/7905 [==============================] - 9s 1ms/step - loss: 0.3187 - accuracy: 0.8714 - val_loss: 0.2760 - val_accuracy: 0.8870\n",
      "Epoch 38/600\n",
      "7873/7905 [============================>.] - ETA: 0s - loss: 0.3194 - accuracy: 0.8709\n",
      "Epoch 00038: val_accuracy did not improve from 0.88720\n",
      "7905/7905 [==============================] - 9s 1ms/step - loss: 0.3194 - accuracy: 0.8708 - val_loss: 0.2765 - val_accuracy: 0.8870\n",
      "Epoch 39/600\n",
      "7889/7905 [============================>.] - ETA: 0s - loss: 0.3190 - accuracy: 0.8714\n",
      "Epoch 00039: val_accuracy did not improve from 0.88720\n",
      "7905/7905 [==============================] - 9s 1ms/step - loss: 0.3191 - accuracy: 0.8713 - val_loss: 0.2796 - val_accuracy: 0.8870\n",
      "Epoch 40/600\n",
      "7863/7905 [============================>.] - ETA: 0s - loss: 0.3178 - accuracy: 0.8717\n",
      "Epoch 00040: val_accuracy did not improve from 0.88720\n",
      "7905/7905 [==============================] - 9s 1ms/step - loss: 0.3179 - accuracy: 0.8717 - val_loss: 0.2783 - val_accuracy: 0.8869\n",
      "Epoch 41/600\n",
      "7877/7905 [============================>.] - ETA: 0s - loss: 0.3182 - accuracy: 0.8714 ETA: 0s - los\n",
      "Epoch 00041: val_accuracy did not improve from 0.88720\n",
      "7905/7905 [==============================] - 10s 1ms/step - loss: 0.3181 - accuracy: 0.8715 - val_loss: 0.2772 - val_accuracy: 0.8869\n",
      "Epoch 42/600\n",
      "7897/7905 [============================>.] - ETA: 0s - loss: 0.3179 - accuracy: 0.8717\n",
      "Epoch 00042: val_accuracy did not improve from 0.88720\n",
      "7905/7905 [==============================] - 10s 1ms/step - loss: 0.3179 - accuracy: 0.8717 - val_loss: 0.2766 - val_accuracy: 0.8869\n",
      "Epoch 43/600\n",
      "7867/7905 [============================>.] - ETA: 0s - loss: 0.3177 - accuracy: 0.8718\n",
      "Epoch 00043: val_accuracy improved from 0.88720 to 0.88802, saving model to weights.best.hdf5\n",
      "7905/7905 [==============================] - 10s 1ms/step - loss: 0.3178 - accuracy: 0.8717 - val_loss: 0.2790 - val_accuracy: 0.8880\n",
      "Epoch 44/600\n",
      "7895/7905 [============================>.] - ETA: 0s - loss: 0.3182 - accuracy: 0.8716\n",
      "Epoch 00044: val_accuracy did not improve from 0.88802\n",
      "7905/7905 [==============================] - 9s 1ms/step - loss: 0.3182 - accuracy: 0.8716 - val_loss: 0.2774 - val_accuracy: 0.8869\n",
      "Epoch 45/600\n",
      "7879/7905 [============================>.] - ETA: 0s - loss: 0.3194 - accuracy: 0.8708\n",
      "Epoch 00045: val_accuracy did not improve from 0.88802\n",
      "7905/7905 [==============================] - 9s 1ms/step - loss: 0.3195 - accuracy: 0.8707 - val_loss: 0.2774 - val_accuracy: 0.8869\n",
      "Epoch 46/600\n",
      "7862/7905 [============================>.] - ETA: 0s - loss: 0.3190 - accuracy: 0.8713\n",
      "Epoch 00046: val_accuracy did not improve from 0.88802\n",
      "7905/7905 [==============================] - 9s 1ms/step - loss: 0.3189 - accuracy: 0.8713 - val_loss: 0.2788 - val_accuracy: 0.8869\n",
      "Epoch 47/600\n",
      "7889/7905 [============================>.] - ETA: 0s - loss: 0.3192 - accuracy: 0.8714\n",
      "Epoch 00047: val_accuracy did not improve from 0.88802\n",
      "7905/7905 [==============================] - 9s 1ms/step - loss: 0.3193 - accuracy: 0.8714 - val_loss: 0.2775 - val_accuracy: 0.8869\n",
      "Epoch 48/600\n",
      "7868/7905 [============================>.] - ETA: 0s - loss: 0.3186 - accuracy: 0.8712\n",
      "Epoch 00048: val_accuracy did not improve from 0.88802\n",
      "7905/7905 [==============================] - 9s 1ms/step - loss: 0.3186 - accuracy: 0.8712 - val_loss: 0.2774 - val_accuracy: 0.8870\n",
      "Epoch 49/600\n",
      "7875/7905 [============================>.] - ETA: 0s - loss: 0.3188 - accuracy: 0.8712\n",
      "Epoch 00049: val_accuracy did not improve from 0.88802\n",
      "7905/7905 [==============================] - 9s 1ms/step - loss: 0.3189 - accuracy: 0.8712 - val_loss: 0.2780 - val_accuracy: 0.8870\n",
      "Epoch 00049: early stopping\n",
      "Execution time :  0:07:37.137330\n"
     ]
    }
   ],
   "source": [
    "init_time = datetime.now()\n",
    "model = create_experiment_model()\n",
    "history = model.fit(x=X_train_norm, \n",
    "                    y=y_train, \n",
    "                    epochs=600,\n",
    "                    batch_size=32,\n",
    "                    validation_data=(X_valid_norm, y_valid), verbose=1,\n",
    "                    callbacks=callbacks_list\n",
    "                   )\n",
    "fin_time = datetime.now()\n",
    "print(\"Execution time : \", (fin_time-init_time))"
   ]
  },
  {
   "cell_type": "code",
   "execution_count": 225,
   "metadata": {
    "hidden": true
   },
   "outputs": [
    {
     "name": "stdout",
     "output_type": "stream",
     "text": [
      "Optimizer: adam Train: 0.888 Test:0.887\n"
     ]
    }
   ],
   "source": [
    "evaluate_model(X_train_norm, y_train, X_valid_norm, y_valid, model, optimizers[3])"
   ]
  },
  {
   "cell_type": "code",
   "execution_count": 226,
   "metadata": {
    "hidden": true
   },
   "outputs": [
    {
     "data": {
      "image/png": "[encoded data removed]",
      "text/plain": [
       "<Figure size 1080x720 with 1 Axes>"
      ]
     },
     "metadata": {
      "needs_background": "light"
     },
     "output_type": "display_data"
    }
   ],
   "source": [
    "plot_loss(history, optimizers[3])"
   ]
  },
  {
   "cell_type": "code",
   "execution_count": 227,
   "metadata": {
    "hidden": true
   },
   "outputs": [
    {
     "data": {
      "image/png": "[encoded data removed]",
      "text/plain": [
       "<Figure size 1080x720 with 1 Axes>"
      ]
     },
     "metadata": {
      "needs_background": "light"
     },
     "output_type": "display_data"
    }
   ],
   "source": [
    "plot_accuracy(history, optimizers[3])"
   ]
  },
  {
   "cell_type": "markdown",
   "metadata": {
    "heading_collapsed": true
   },
   "source": [
    "### Experiment with Stabilize Learning with Data Scaling (Standardization)"
   ]
  },
  {
   "cell_type": "code",
   "execution_count": 228,
   "metadata": {
    "hidden": true
   },
   "outputs": [],
   "source": [
    "standard_scaler = StandardScaler()\n",
    "standard_scaler.fit(X_train)\n",
    "\n",
    "X_train_std = standard_scaler.transform(X_train)\n",
    "X_test_std = standard_scaler.transform(X_test)\n",
    "X_valid_std = standard_scaler.transform(X_valid)"
   ]
  },
  {
   "cell_type": "code",
   "execution_count": 229,
   "metadata": {
    "hidden": true
   },
   "outputs": [
    {
     "name": "stdout",
     "output_type": "stream",
     "text": [
      "Epoch 1/600\n",
      "7881/7905 [============================>.] - ETA: 0s - loss: 0.3329 - accuracy: 0.8692\n",
      "Epoch 00001: val_accuracy did not improve from 0.88802\n",
      "7905/7905 [==============================] - 8s 1ms/step - loss: 0.3328 - accuracy: 0.8692 - val_loss: 0.2802 - val_accuracy: 0.8869\n",
      "Epoch 2/600\n",
      "7897/7905 [============================>.] - ETA: 0s - loss: 0.3231 - accuracy: 0.8710\n",
      "Epoch 00002: val_accuracy did not improve from 0.88802\n",
      "7905/7905 [==============================] - 9s 1ms/step - loss: 0.3231 - accuracy: 0.8710 - val_loss: 0.2793 - val_accuracy: 0.8869\n",
      "Epoch 3/600\n",
      "7867/7905 [============================>.] - ETA: 0s - loss: 0.3217 - accuracy: 0.8711\n",
      "Epoch 00003: val_accuracy did not improve from 0.88802\n",
      "7905/7905 [==============================] - 9s 1ms/step - loss: 0.3215 - accuracy: 0.8712 - val_loss: 0.2786 - val_accuracy: 0.8869\n",
      "Epoch 4/600\n",
      "7867/7905 [============================>.] - ETA: 0s - loss: 0.3212 - accuracy: 0.8712\n",
      "Epoch 00004: val_accuracy did not improve from 0.88802\n",
      "7905/7905 [==============================] - 9s 1ms/step - loss: 0.3213 - accuracy: 0.8712 - val_loss: 0.2794 - val_accuracy: 0.8869\n",
      "Epoch 5/600\n",
      "7874/7905 [============================>.] - ETA: 0s - loss: 0.3216 - accuracy: 0.8709\n",
      "Epoch 00005: val_accuracy did not improve from 0.88802\n",
      "7905/7905 [==============================] - 9s 1ms/step - loss: 0.3216 - accuracy: 0.8709 - val_loss: 0.2789 - val_accuracy: 0.8869\n",
      "Epoch 6/600\n",
      "7870/7905 [============================>.] - ETA: 0s - loss: 0.3203 - accuracy: 0.8712\n",
      "Epoch 00006: val_accuracy did not improve from 0.88802\n",
      "7905/7905 [==============================] - 10s 1ms/step - loss: 0.3203 - accuracy: 0.8712 - val_loss: 0.2786 - val_accuracy: 0.8869\n",
      "Epoch 7/600\n",
      "7901/7905 [============================>.] - ETA: 0s - loss: 0.3208 - accuracy: 0.8712\n",
      "Epoch 00007: val_accuracy did not improve from 0.88802\n",
      "7905/7905 [==============================] - 10s 1ms/step - loss: 0.3208 - accuracy: 0.8712 - val_loss: 0.2796 - val_accuracy: 0.8869\n",
      "Epoch 8/600\n",
      "7891/7905 [============================>.] - ETA: 0s - loss: 0.3201 - accuracy: 0.8712 ETA: 0s - loss: 0.3200 - accura\n",
      "Epoch 00008: val_accuracy did not improve from 0.88802\n",
      "7905/7905 [==============================] - 10s 1ms/step - loss: 0.3201 - accuracy: 0.8712 - val_loss: 0.2789 - val_accuracy: 0.8869\n",
      "Epoch 9/600\n",
      "7863/7905 [============================>.] - ETA: 0s - loss: 0.3210 - accuracy: 0.8711\n",
      "Epoch 00009: val_accuracy did not improve from 0.88802\n",
      "7905/7905 [==============================] - 9s 1ms/step - loss: 0.3209 - accuracy: 0.8711 - val_loss: 0.2772 - val_accuracy: 0.8870\n",
      "Epoch 10/600\n",
      "7872/7905 [============================>.] - ETA: 0s - loss: 0.3203 - accuracy: 0.8712\n",
      "Epoch 00010: val_accuracy did not improve from 0.88802\n",
      "7905/7905 [==============================] - 10s 1ms/step - loss: 0.3202 - accuracy: 0.8713 - val_loss: 0.2780 - val_accuracy: 0.8868\n",
      "Epoch 11/600\n",
      "7892/7905 [============================>.] - ETA: 0s - loss: 0.3202 - accuracy: 0.8711\n",
      "Epoch 00011: val_accuracy did not improve from 0.88802\n",
      "7905/7905 [==============================] - 10s 1ms/step - loss: 0.3203 - accuracy: 0.8711 - val_loss: 0.2799 - val_accuracy: 0.8869\n",
      "Epoch 12/600\n",
      "7886/7905 [============================>.] - ETA: 0s - loss: 0.3201 - accuracy: 0.8711\n",
      "Epoch 00012: val_accuracy did not improve from 0.88802\n",
      "7905/7905 [==============================] - 10s 1ms/step - loss: 0.3201 - accuracy: 0.8712 - val_loss: 0.2784 - val_accuracy: 0.8869\n",
      "Epoch 13/600\n",
      "7882/7905 [============================>.] - ETA: 0s - loss: 0.3205 - accuracy: 0.8712\n",
      "Epoch 00013: val_accuracy did not improve from 0.88802\n",
      "7905/7905 [==============================] - 9s 1ms/step - loss: 0.3205 - accuracy: 0.8712 - val_loss: 0.2802 - val_accuracy: 0.8869\n",
      "Epoch 14/600\n",
      "7890/7905 [============================>.] - ETA: 0s - loss: 0.3203 - accuracy: 0.8712\n",
      "Epoch 00014: val_accuracy did not improve from 0.88802\n",
      "7905/7905 [==============================] - 9s 1ms/step - loss: 0.3203 - accuracy: 0.8713 - val_loss: 0.2798 - val_accuracy: 0.8869\n",
      "Epoch 15/600\n",
      "7904/7905 [============================>.] - ETA: 0s - loss: 0.3198 - accuracy: 0.8713\n",
      "Epoch 00015: val_accuracy did not improve from 0.88802\n",
      "7905/7905 [==============================] - 9s 1ms/step - loss: 0.3198 - accuracy: 0.8713 - val_loss: 0.2778 - val_accuracy: 0.8869\n",
      "Epoch 16/600\n",
      "7884/7905 [============================>.] - ETA: 0s - loss: 0.3211 - accuracy: 0.8709\n",
      "Epoch 00016: val_accuracy did not improve from 0.88802\n",
      "7905/7905 [==============================] - 9s 1ms/step - loss: 0.3210 - accuracy: 0.8710 - val_loss: 0.2760 - val_accuracy: 0.8869\n",
      "Epoch 17/600\n",
      "7863/7905 [============================>.] - ETA: 0s - loss: 0.3196 - accuracy: 0.8715\n",
      "Epoch 00017: val_accuracy did not improve from 0.88802\n",
      "7905/7905 [==============================] - 10s 1ms/step - loss: 0.3198 - accuracy: 0.8713 - val_loss: 0.2815 - val_accuracy: 0.8869\n",
      "Epoch 18/600\n",
      "7868/7905 [============================>.] - ETA: 0s - loss: 0.3198 - accuracy: 0.8714\n",
      "Epoch 00018: val_accuracy did not improve from 0.88802\n",
      "7905/7905 [==============================] - 10s 1ms/step - loss: 0.3197 - accuracy: 0.8715 - val_loss: 0.2769 - val_accuracy: 0.8869\n",
      "Epoch 19/600\n",
      "7887/7905 [============================>.] - ETA: 0s - loss: 0.3192 - accuracy: 0.8717\n",
      "Epoch 00019: val_accuracy did not improve from 0.88802\n",
      "7905/7905 [==============================] - 9s 1ms/step - loss: 0.3192 - accuracy: 0.8717 - val_loss: 0.2775 - val_accuracy: 0.8870\n",
      "Epoch 20/600\n",
      "7898/7905 [============================>.] - ETA: 0s - loss: 0.3209 - accuracy: 0.8707\n",
      "Epoch 00020: val_accuracy did not improve from 0.88802\n",
      "7905/7905 [==============================] - 10s 1ms/step - loss: 0.3209 - accuracy: 0.8707 - val_loss: 0.2771 - val_accuracy: 0.8869\n",
      "Epoch 21/600\n",
      "7869/7905 [============================>.] - ETA: 0s - loss: 0.3193 - accuracy: 0.8715\n",
      "Epoch 00021: val_accuracy did not improve from 0.88802\n",
      "7905/7905 [==============================] - 10s 1ms/step - loss: 0.3194 - accuracy: 0.8714 - val_loss: 0.2787 - val_accuracy: 0.8869\n",
      "Epoch 22/600\n",
      "7874/7905 [============================>.] - ETA: 0s - loss: 0.3197 - accuracy: 0.8713\n",
      "Epoch 00022: val_accuracy did not improve from 0.88802\n",
      "7905/7905 [==============================] - 10s 1ms/step - loss: 0.3197 - accuracy: 0.8712 - val_loss: 0.2774 - val_accuracy: 0.8870\n",
      "Epoch 23/600\n",
      "7861/7905 [============================>.] - ETA: 0s - loss: 0.3199 - accuracy: 0.8713\n",
      "Epoch 00023: val_accuracy did not improve from 0.88802\n",
      "7905/7905 [==============================] - 10s 1ms/step - loss: 0.3199 - accuracy: 0.8712 - val_loss: 0.2780 - val_accuracy: 0.8870\n",
      "Epoch 24/600\n",
      "7899/7905 [============================>.] - ETA: 0s - loss: 0.3202 - accuracy: 0.8713\n",
      "Epoch 00024: val_accuracy did not improve from 0.88802\n",
      "7905/7905 [==============================] - 10s 1ms/step - loss: 0.3202 - accuracy: 0.8713 - val_loss: 0.2786 - val_accuracy: 0.8869\n",
      "Epoch 25/600\n",
      "7877/7905 [============================>.] - ETA: 0s - loss: 0.3206 - accuracy: 0.8709\n",
      "Epoch 00025: val_accuracy did not improve from 0.88802\n",
      "7905/7905 [==============================] - 10s 1ms/step - loss: 0.3206 - accuracy: 0.8709 - val_loss: 0.2778 - val_accuracy: 0.8870\n",
      "Epoch 26/600\n",
      "7888/7905 [============================>.] - ETA: 0s - loss: 0.3199 - accuracy: 0.8711\n",
      "Epoch 00026: val_accuracy did not improve from 0.88802\n",
      "7905/7905 [==============================] - 10s 1ms/step - loss: 0.3198 - accuracy: 0.8711 - val_loss: 0.2776 - val_accuracy: 0.8870\n",
      "Epoch 27/600\n",
      "7887/7905 [============================>.] - ETA: 0s - loss: 0.3202 - accuracy: 0.8710 E\n",
      "Epoch 00027: val_accuracy did not improve from 0.88802\n",
      "7905/7905 [==============================] - 11s 1ms/step - loss: 0.3202 - accuracy: 0.8711 - val_loss: 0.2804 - val_accuracy: 0.8869\n",
      "Epoch 28/600\n",
      "7883/7905 [============================>.] - ETA: 0s - loss: 0.3203 - accuracy: 0.8711\n",
      "Epoch 00028: val_accuracy did not improve from 0.88802\n",
      "7905/7905 [==============================] - 10s 1ms/step - loss: 0.3203 - accuracy: 0.8711 - val_loss: 0.2763 - val_accuracy: 0.8869\n",
      "Epoch 29/600\n",
      "7895/7905 [============================>.] - ETA: 0s - loss: 0.3209 - accuracy: 0.8705\n",
      "Epoch 00029: val_accuracy did not improve from 0.88802\n",
      "7905/7905 [==============================] - 11s 1ms/step - loss: 0.3208 - accuracy: 0.8705 - val_loss: 0.2783 - val_accuracy: 0.8869\n",
      "Epoch 30/600\n",
      "7868/7905 [============================>.] - ETA: 0s - loss: 0.3194 - accuracy: 0.8713\n",
      "Epoch 00030: val_accuracy did not improve from 0.88802\n",
      "7905/7905 [==============================] - 10s 1ms/step - loss: 0.3194 - accuracy: 0.8713 - val_loss: 0.2766 - val_accuracy: 0.8869\n",
      "Epoch 31/600\n",
      "7866/7905 [============================>.] - ETA: 0s - loss: 0.3195 - accuracy: 0.8711\n",
      "Epoch 00031: val_accuracy did not improve from 0.88802\n",
      "7905/7905 [==============================] - 10s 1ms/step - loss: 0.3195 - accuracy: 0.8711 - val_loss: 0.2775 - val_accuracy: 0.8870\n",
      "Epoch 32/600\n",
      "7889/7905 [============================>.] - ETA: 0s - loss: 0.3199 - accuracy: 0.8710\n",
      "Epoch 00032: val_accuracy did not improve from 0.88802\n",
      "7905/7905 [==============================] - 10s 1ms/step - loss: 0.3199 - accuracy: 0.8711 - val_loss: 0.2802 - val_accuracy: 0.8869\n",
      "Epoch 33/600\n",
      "7893/7905 [============================>.] - ETA: 0s - loss: 0.3203 - accuracy: 0.8709\n",
      "Epoch 00033: val_accuracy did not improve from 0.88802\n",
      "7905/7905 [==============================] - 10s 1ms/step - loss: 0.3203 - accuracy: 0.8708 - val_loss: 0.2772 - val_accuracy: 0.8871\n",
      "Epoch 34/600\n",
      "7874/7905 [============================>.] - ETA: 0s - loss: 0.3201 - accuracy: 0.8707\n",
      "Epoch 00034: val_accuracy did not improve from 0.88802\n",
      "7905/7905 [==============================] - 10s 1ms/step - loss: 0.3201 - accuracy: 0.8707 - val_loss: 0.2763 - val_accuracy: 0.8869\n",
      "Epoch 35/600\n",
      "7880/7905 [============================>.] - ETA: 0s - loss: 0.3193 - accuracy: 0.8711\n",
      "Epoch 00035: val_accuracy did not improve from 0.88802\n",
      "7905/7905 [==============================] - 11s 1ms/step - loss: 0.3192 - accuracy: 0.8712 - val_loss: 0.2772 - val_accuracy: 0.8869\n",
      "Epoch 36/600\n",
      "7863/7905 [============================>.] - ETA: 0s - loss: 0.3199 - accuracy: 0.8709\n",
      "Epoch 00036: val_accuracy did not improve from 0.88802\n",
      "7905/7905 [==============================] - 11s 1ms/step - loss: 0.3199 - accuracy: 0.8709 - val_loss: 0.2791 - val_accuracy: 0.8869\n",
      "Epoch 37/600\n",
      "7878/7905 [============================>.] - ETA: 0s - loss: 0.3205 - accuracy: 0.8710\n",
      "Epoch 00037: val_accuracy did not improve from 0.88802\n",
      "7905/7905 [==============================] - 10s 1ms/step - loss: 0.3205 - accuracy: 0.8710 - val_loss: 0.2792 - val_accuracy: 0.8869\n",
      "Epoch 38/600\n",
      "7867/7905 [============================>.] - ETA: 0s - loss: 0.3202 - accuracy: 0.8708\n",
      "Epoch 00038: val_accuracy did not improve from 0.88802\n",
      "7905/7905 [==============================] - 10s 1ms/step - loss: 0.3202 - accuracy: 0.8708 - val_loss: 0.2781 - val_accuracy: 0.8869\n",
      "Epoch 39/600\n",
      "7893/7905 [============================>.] - ETA: 0s - loss: 0.3188 - accuracy: 0.8715\n",
      "Epoch 00039: val_accuracy did not improve from 0.88802\n",
      "7905/7905 [==============================] - 10s 1ms/step - loss: 0.3188 - accuracy: 0.8715 - val_loss: 0.2781 - val_accuracy: 0.8869\n",
      "Epoch 40/600\n",
      "7903/7905 [============================>.] - ETA: 0s - loss: 0.3196 - accuracy: 0.8710\n",
      "Epoch 00040: val_accuracy did not improve from 0.88802\n",
      "7905/7905 [==============================] - 10s 1ms/step - loss: 0.3196 - accuracy: 0.8710 - val_loss: 0.2774 - val_accuracy: 0.8869\n",
      "Epoch 41/600\n",
      "7873/7905 [============================>.] - ETA: 0s - loss: 0.3194 - accuracy: 0.8714\n",
      "Epoch 00041: val_accuracy did not improve from 0.88802\n",
      "7905/7905 [==============================] - 10s 1ms/step - loss: 0.3194 - accuracy: 0.8714 - val_loss: 0.2779 - val_accuracy: 0.8869\n",
      "Epoch 00041: early stopping\n",
      "Execution time :  0:06:42.831133\n"
     ]
    }
   ],
   "source": [
    "init_time = datetime.now()\n",
    "model = create_experiment_model()\n",
    "history = model.fit(x=X_train_norm, \n",
    "                    y=y_train, \n",
    "                    epochs=600,\n",
    "                    batch_size=32, \n",
    "                    validation_data=(X_valid_norm, y_valid), verbose=1,\n",
    "                    callbacks=callbacks_list\n",
    "                   )\n",
    "fin_time = datetime.now()\n",
    "print(\"Execution time : \", (fin_time-init_time))"
   ]
  },
  {
   "cell_type": "code",
   "execution_count": 230,
   "metadata": {
    "hidden": true
   },
   "outputs": [
    {
     "name": "stdout",
     "output_type": "stream",
     "text": [
      "Optimizer: adam Train: 0.888 Test:0.887\n"
     ]
    }
   ],
   "source": [
    "evaluate_model(X_train_norm, y_train, X_valid_norm, y_valid, model, optimizers[3])"
   ]
  },
  {
   "cell_type": "code",
   "execution_count": 231,
   "metadata": {
    "hidden": true
   },
   "outputs": [
    {
     "data": {
      "image/png": "[encoded data removed]",
      "text/plain": [
       "<Figure size 1080x720 with 1 Axes>"
      ]
     },
     "metadata": {
      "needs_background": "light"
     },
     "output_type": "display_data"
    }
   ],
   "source": [
    "plot_loss(history, optimizers[3])"
   ]
  },
  {
   "cell_type": "code",
   "execution_count": 232,
   "metadata": {
    "hidden": true
   },
   "outputs": [
    {
     "data": {
      "image/png": "[encoded data removed]",
      "text/plain": [
       "<Figure size 1080x720 with 1 Axes>"
      ]
     },
     "metadata": {
      "needs_background": "light"
     },
     "output_type": "display_data"
    }
   ],
   "source": [
    "plot_accuracy(history, optimizers[3])"
   ]
  },
  {
   "cell_type": "markdown",
   "metadata": {
    "heading_collapsed": true
   },
   "source": [
    "### Experiment with Accelerate Learning with Batch Normalization"
   ]
  },
  {
   "cell_type": "code",
   "execution_count": 32,
   "metadata": {
    "hidden": true
   },
   "outputs": [],
   "source": [
    "def create_batch_normalization_model(optimizer):\n",
    "    # create model\n",
    "    model = Sequential()\n",
    "   \n",
    "    # Hidden Layers\n",
    "    #model.add(Dense(82, activation='relu', kernel_initializer='he_uniform', kernel_constraint=max_norm(3)))\n",
    "    #model.add(Dense(500, input_dim=2, activation='relu', kernel_regularizer=l2(0.001)))\n",
    "    #values of c range from 3 to 4.\n",
    "    model.add(Dense(82, input_dim=n_input, activation='relu', kernel_constraint=max_norm(3)))\n",
    "    model.add(BatchNormalization())\n",
    "        \n",
    "    model.add(Dense(82, activation='relu', kernel_constraint=max_norm(3)))\n",
    "    model.add(BatchNormalization())\n",
    "    \n",
    "    model.add(Dense(41, activation='relu', kernel_constraint=max_norm(3)))\n",
    "    model.add(BatchNormalization())\n",
    "    \n",
    "    model.add(Dense(21, activation='relu', kernel_constraint=max_norm(3)))\n",
    "    model.add(BatchNormalization())\n",
    "    \n",
    "    # Output Layer\n",
    "    model.add(Dense(1, activation='sigmoid'))   \n",
    "    # Compile model\n",
    "    model.compile(loss='binary_crossentropy', optimizer=optimizer, metrics=['accuracy'])\n",
    "    \n",
    "    return model"
   ]
  },
  {
   "cell_type": "code",
   "execution_count": 281,
   "metadata": {
    "hidden": true
   },
   "outputs": [
    {
     "name": "stdout",
     "output_type": "stream",
     "text": [
      "Epoch 1/600\n",
      "7899/7905 [============================>.] - ETA: 0s - loss: 0.2798 - accuracy: 0.8832\n",
      "Epoch 00001: val_accuracy did not improve from 0.88927\n",
      "7905/7905 [==============================] - 38s 5ms/step - loss: 0.2798 - accuracy: 0.8833 - val_loss: 0.2606 - val_accuracy: 0.8871\n",
      "Epoch 2/600\n",
      "7893/7905 [============================>.] - ETA: 0s - loss: 0.2647 - accuracy: 0.8876\n",
      "Epoch 00002: val_accuracy did not improve from 0.88927\n",
      "7905/7905 [==============================] - 34s 4ms/step - loss: 0.2646 - accuracy: 0.8876 - val_loss: 0.2600 - val_accuracy: 0.8870\n",
      "Epoch 3/600\n",
      "7887/7905 [============================>.] - ETA: 0s - loss: 0.2627 - accuracy: 0.8881\n",
      "Epoch 00003: val_accuracy did not improve from 0.88927\n",
      "7905/7905 [==============================] - 19s 2ms/step - loss: 0.2627 - accuracy: 0.8881 - val_loss: 0.2606 - val_accuracy: 0.8871\n",
      "Epoch 4/600\n",
      "7901/7905 [============================>.] - ETA: 0s - loss: 0.2614 - accuracy: 0.8882\n",
      "Epoch 00004: val_accuracy did not improve from 0.88927\n",
      "7905/7905 [==============================] - 20s 2ms/step - loss: 0.2614 - accuracy: 0.8881 - val_loss: 0.2606 - val_accuracy: 0.8869\n",
      "Epoch 5/600\n",
      "7904/7905 [============================>.] - ETA: 0s - loss: 0.2609 - accuracy: 0.8883\n",
      "Epoch 00005: val_accuracy did not improve from 0.88927\n",
      "7905/7905 [==============================] - 18s 2ms/step - loss: 0.2609 - accuracy: 0.8883 - val_loss: 0.2590 - val_accuracy: 0.8870\n",
      "Epoch 6/600\n",
      "7893/7905 [============================>.] - ETA: 0s - loss: 0.2603 - accuracy: 0.8880\n",
      "Epoch 00006: val_accuracy did not improve from 0.88927\n",
      "7905/7905 [==============================] - 17s 2ms/step - loss: 0.2603 - accuracy: 0.8880 - val_loss: 0.2608 - val_accuracy: 0.8876\n",
      "Epoch 7/600\n",
      "7903/7905 [============================>.] - ETA: 0s - loss: 0.2598 - accuracy: 0.8882\n",
      "Epoch 00007: val_accuracy did not improve from 0.88927\n",
      "7905/7905 [==============================] - 18s 2ms/step - loss: 0.2598 - accuracy: 0.8882 - val_loss: 0.2572 - val_accuracy: 0.8884\n",
      "Epoch 8/600\n",
      "7903/7905 [============================>.] - ETA: 0s - loss: 0.2593 - accuracy: 0.8886\n",
      "Epoch 00008: val_accuracy did not improve from 0.88927\n",
      "7905/7905 [==============================] - 19s 2ms/step - loss: 0.2593 - accuracy: 0.8886 - val_loss: 0.2577 - val_accuracy: 0.8883\n",
      "Epoch 9/600\n",
      "7897/7905 [============================>.] - ETA: 0s - loss: 0.2590 - accuracy: 0.8884\n",
      "Epoch 00009: val_accuracy did not improve from 0.88927\n",
      "7905/7905 [==============================] - 21s 3ms/step - loss: 0.2590 - accuracy: 0.8884 - val_loss: 0.2581 - val_accuracy: 0.8878\n",
      "Epoch 10/600\n",
      "7903/7905 [============================>.] - ETA: 0s - loss: 0.2589 - accuracy: 0.8884\n",
      "Epoch 00010: val_accuracy did not improve from 0.88927\n",
      "7905/7905 [==============================] - 19s 2ms/step - loss: 0.2589 - accuracy: 0.8884 - val_loss: 0.2587 - val_accuracy: 0.8871\n",
      "Epoch 11/600\n",
      "7899/7905 [============================>.] - ETA: 0s - loss: 0.2589 - accuracy: 0.8886\n",
      "Epoch 00011: val_accuracy did not improve from 0.88927\n",
      "7905/7905 [==============================] - 20s 3ms/step - loss: 0.2589 - accuracy: 0.8886 - val_loss: 0.2572 - val_accuracy: 0.8878\n",
      "Epoch 12/600\n",
      "7899/7905 [============================>.] - ETA: 0s - loss: 0.2588 - accuracy: 0.8886\n",
      "Epoch 00012: val_accuracy did not improve from 0.88927\n",
      "7905/7905 [==============================] - 29s 4ms/step - loss: 0.2588 - accuracy: 0.8886 - val_loss: 0.2566 - val_accuracy: 0.8890\n",
      "Epoch 13/600\n",
      "7885/7905 [============================>.] - ETA: 0s - loss: 0.2587 - accuracy: 0.8884\n",
      "Epoch 00013: val_accuracy did not improve from 0.88927\n",
      "7905/7905 [==============================] - 25s 3ms/step - loss: 0.2587 - accuracy: 0.8884 - val_loss: 0.2576 - val_accuracy: 0.8877\n",
      "Epoch 14/600\n",
      "7885/7905 [============================>.] - ETA: 0s - loss: 0.2583 - accuracy: 0.8882\n",
      "Epoch 00014: val_accuracy did not improve from 0.88927\n",
      "7905/7905 [==============================] - 18s 2ms/step - loss: 0.2583 - accuracy: 0.8882 - val_loss: 0.2574 - val_accuracy: 0.8883\n",
      "Epoch 15/600\n",
      "7894/7905 [============================>.] - ETA: 0s - loss: 0.2585 - accuracy: 0.8887\n",
      "Epoch 00015: val_accuracy did not improve from 0.88927\n",
      "7905/7905 [==============================] - 18s 2ms/step - loss: 0.2586 - accuracy: 0.8887 - val_loss: 0.2578 - val_accuracy: 0.8876\n",
      "Epoch 16/600\n",
      "7895/7905 [============================>.] - ETA: 0s - loss: 0.2586 - accuracy: 0.8884\n",
      "Epoch 00016: val_accuracy did not improve from 0.88927\n",
      "7905/7905 [==============================] - 18s 2ms/step - loss: 0.2586 - accuracy: 0.8884 - val_loss: 0.2573 - val_accuracy: 0.8872\n",
      "Epoch 17/600\n",
      "7891/7905 [============================>.] - ETA: 0s - loss: 0.2584 - accuracy: 0.8885\n",
      "Epoch 00017: val_accuracy did not improve from 0.88927\n",
      "7905/7905 [==============================] - 18s 2ms/step - loss: 0.2584 - accuracy: 0.8885 - val_loss: 0.2575 - val_accuracy: 0.8879\n",
      "Epoch 18/600\n",
      "7897/7905 [============================>.] - ETA: 0s - loss: 0.2585 - accuracy: 0.8882\n",
      "Epoch 00018: val_accuracy did not improve from 0.88927\n",
      "7905/7905 [==============================] - 37s 5ms/step - loss: 0.2585 - accuracy: 0.8882 - val_loss: 0.2571 - val_accuracy: 0.8883\n",
      "Epoch 19/600\n",
      "7903/7905 [============================>.] - ETA: 0s - loss: 0.2584 - accuracy: 0.8885\n",
      "Epoch 00019: val_accuracy did not improve from 0.88927\n",
      "7905/7905 [==============================] - 35s 4ms/step - loss: 0.2584 - accuracy: 0.8885 - val_loss: 0.2575 - val_accuracy: 0.8890\n",
      "Epoch 20/600\n",
      "7898/7905 [============================>.] - ETA: 0s - loss: 0.2584 - accuracy: 0.8885\n",
      "Epoch 00020: val_accuracy did not improve from 0.88927\n",
      "7905/7905 [==============================] - 35s 4ms/step - loss: 0.2584 - accuracy: 0.8885 - val_loss: 0.2580 - val_accuracy: 0.8885\n",
      "Epoch 21/600\n",
      "7896/7905 [============================>.] - ETA: 0s - loss: 0.2582 - accuracy: 0.8886\n",
      "Epoch 00021: val_accuracy did not improve from 0.88927\n",
      "7905/7905 [==============================] - 35s 4ms/step - loss: 0.2582 - accuracy: 0.8886 - val_loss: 0.2598 - val_accuracy: 0.8884\n",
      "Epoch 22/600\n",
      "7899/7905 [============================>.] - ETA: 0s - loss: 0.2585 - accuracy: 0.8885\n",
      "Epoch 00022: val_accuracy did not improve from 0.88927\n",
      "7905/7905 [==============================] - 34s 4ms/step - loss: 0.2584 - accuracy: 0.8885 - val_loss: 0.2614 - val_accuracy: 0.8872\n",
      "Epoch 23/600\n",
      "7901/7905 [============================>.] - ETA: 0s - loss: 0.2585 - accuracy: 0.8887\n",
      "Epoch 00023: val_accuracy did not improve from 0.88927\n",
      "7905/7905 [==============================] - 34s 4ms/step - loss: 0.2585 - accuracy: 0.8887 - val_loss: 0.2578 - val_accuracy: 0.8883\n",
      "Epoch 24/600\n",
      "7893/7905 [============================>.] - ETA: 0s - loss: 0.2582 - accuracy: 0.8885\n",
      "Epoch 00024: val_accuracy did not improve from 0.88927\n",
      "7905/7905 [==============================] - 34s 4ms/step - loss: 0.2582 - accuracy: 0.8885 - val_loss: 0.2576 - val_accuracy: 0.8886\n",
      "Epoch 25/600\n",
      "7902/7905 [============================>.] - ETA: 0s - loss: 0.2584 - accuracy: 0.8885\n",
      "Epoch 00025: val_accuracy did not improve from 0.88927\n",
      "7905/7905 [==============================] - 35s 4ms/step - loss: 0.2584 - accuracy: 0.8885 - val_loss: 0.2579 - val_accuracy: 0.8876\n",
      "Epoch 26/600\n",
      "7895/7905 [============================>.] - ETA: 0s - loss: 0.2585 - accuracy: 0.8887\n",
      "Epoch 00026: val_accuracy did not improve from 0.88927\n",
      "7905/7905 [==============================] - 34s 4ms/step - loss: 0.2585 - accuracy: 0.8886 - val_loss: 0.2572 - val_accuracy: 0.8886\n",
      "Epoch 27/600\n",
      "7896/7905 [============================>.] - ETA: 0s - loss: 0.2584 - accuracy: 0.8884\n",
      "Epoch 00027: val_accuracy did not improve from 0.88927\n",
      "7905/7905 [==============================] - 34s 4ms/step - loss: 0.2584 - accuracy: 0.8884 - val_loss: 0.2573 - val_accuracy: 0.8888\n",
      "Epoch 28/600\n",
      "7897/7905 [============================>.] - ETA: 0s - loss: 0.2582 - accuracy: 0.8886\n",
      "Epoch 00028: val_accuracy did not improve from 0.88927\n",
      "7905/7905 [==============================] - 34s 4ms/step - loss: 0.2583 - accuracy: 0.8886 - val_loss: 0.2598 - val_accuracy: 0.8882\n",
      "Epoch 29/600\n",
      "7904/7905 [============================>.] - ETA: 0s - loss: 0.2584 - accuracy: 0.8888\n",
      "Epoch 00029: val_accuracy did not improve from 0.88927\n",
      "7905/7905 [==============================] - 34s 4ms/step - loss: 0.2584 - accuracy: 0.8888 - val_loss: 0.2576 - val_accuracy: 0.8883\n"
     ]
    },
    {
     "name": "stdout",
     "output_type": "stream",
     "text": [
      "Epoch 30/600\n",
      "7897/7905 [============================>.] - ETA: 0s - loss: 0.2580 - accuracy: 0.8886\n",
      "Epoch 00030: val_accuracy did not improve from 0.88927\n",
      "7905/7905 [==============================] - 34s 4ms/step - loss: 0.2580 - accuracy: 0.8886 - val_loss: 0.2568 - val_accuracy: 0.8890\n",
      "Epoch 31/600\n",
      "7903/7905 [============================>.] - ETA: 0s - loss: 0.2581 - accuracy: 0.8889\n",
      "Epoch 00031: val_accuracy did not improve from 0.88927\n",
      "7905/7905 [==============================] - 34s 4ms/step - loss: 0.2580 - accuracy: 0.8889 - val_loss: 0.2590 - val_accuracy: 0.8872\n",
      "Epoch 32/600\n",
      "7902/7905 [============================>.] - ETA: 0s - loss: 0.2580 - accuracy: 0.8888\n",
      "Epoch 00032: val_accuracy did not improve from 0.88927\n",
      "7905/7905 [==============================] - 34s 4ms/step - loss: 0.2580 - accuracy: 0.8888 - val_loss: 0.2568 - val_accuracy: 0.8879\n",
      "Epoch 33/600\n",
      "7897/7905 [============================>.] - ETA: 0s - loss: 0.2580 - accuracy: 0.8890\n",
      "Epoch 00033: val_accuracy did not improve from 0.88927\n",
      "7905/7905 [==============================] - 34s 4ms/step - loss: 0.2580 - accuracy: 0.8890 - val_loss: 0.2580 - val_accuracy: 0.8886\n",
      "Epoch 34/600\n",
      "7901/7905 [============================>.] - ETA: 0s - loss: 0.2580 - accuracy: 0.8887\n",
      "Epoch 00034: val_accuracy did not improve from 0.88927\n",
      "7905/7905 [==============================] - 34s 4ms/step - loss: 0.2579 - accuracy: 0.8887 - val_loss: 0.2576 - val_accuracy: 0.8882\n",
      "Epoch 35/600\n",
      "7894/7905 [============================>.] - ETA: 0s - loss: 0.2580 - accuracy: 0.8889\n",
      "Epoch 00035: val_accuracy did not improve from 0.88927\n",
      "7905/7905 [==============================] - 35s 4ms/step - loss: 0.2580 - accuracy: 0.8889 - val_loss: 0.2571 - val_accuracy: 0.8879\n",
      "Epoch 36/600\n",
      "7894/7905 [============================>.] - ETA: 0s - loss: 0.2583 - accuracy: 0.8886\n",
      "Epoch 00036: val_accuracy did not improve from 0.88927\n",
      "7905/7905 [==============================] - 34s 4ms/step - loss: 0.2583 - accuracy: 0.8886 - val_loss: 0.2576 - val_accuracy: 0.8884\n",
      "Epoch 37/600\n",
      "7905/7905 [==============================] - ETA: 0s - loss: 0.2582 - accuracy: 0.8888\n",
      "Epoch 00037: val_accuracy did not improve from 0.88927\n",
      "7905/7905 [==============================] - 34s 4ms/step - loss: 0.2582 - accuracy: 0.8888 - val_loss: 0.2563 - val_accuracy: 0.8881\n",
      "Epoch 38/600\n",
      "7898/7905 [============================>.] - ETA: 0s - loss: 0.2580 - accuracy: 0.8888\n",
      "Epoch 00038: val_accuracy did not improve from 0.88927\n",
      "7905/7905 [==============================] - 33s 4ms/step - loss: 0.2580 - accuracy: 0.8888 - val_loss: 0.2575 - val_accuracy: 0.8884\n",
      "Epoch 39/600\n",
      "7894/7905 [============================>.] - ETA: 0s - loss: 0.2581 - accuracy: 0.8887\n",
      "Epoch 00039: val_accuracy did not improve from 0.88927\n",
      "7905/7905 [==============================] - 33s 4ms/step - loss: 0.2581 - accuracy: 0.8887 - val_loss: 0.2564 - val_accuracy: 0.8880\n",
      "Epoch 40/600\n",
      "7894/7905 [============================>.] - ETA: 0s - loss: 0.2582 - accuracy: 0.8885\n",
      "Epoch 00040: val_accuracy improved from 0.88927 to 0.88929, saving model to weights.best.hdf5\n",
      "7905/7905 [==============================] - 33s 4ms/step - loss: 0.2582 - accuracy: 0.8885 - val_loss: 0.2579 - val_accuracy: 0.8893\n",
      "Epoch 41/600\n",
      "7900/7905 [============================>.] - ETA: 0s - loss: 0.2582 - accuracy: 0.8888\n",
      "Epoch 00041: val_accuracy did not improve from 0.88929\n",
      "7905/7905 [==============================] - 34s 4ms/step - loss: 0.2582 - accuracy: 0.8888 - val_loss: 0.2574 - val_accuracy: 0.8886\n",
      "Epoch 42/600\n",
      "7895/7905 [============================>.] - ETA: 0s - loss: 0.2579 - accuracy: 0.8885\n",
      "Epoch 00042: val_accuracy did not improve from 0.88929\n",
      "7905/7905 [==============================] - 34s 4ms/step - loss: 0.2580 - accuracy: 0.8885 - val_loss: 0.2567 - val_accuracy: 0.8888\n",
      "Epoch 43/600\n",
      "7897/7905 [============================>.] - ETA: 0s - loss: 0.2582 - accuracy: 0.8888\n",
      "Epoch 00043: val_accuracy did not improve from 0.88929\n",
      "7905/7905 [==============================] - 34s 4ms/step - loss: 0.2582 - accuracy: 0.8888 - val_loss: 0.2595 - val_accuracy: 0.8881\n",
      "Epoch 44/600\n",
      "7896/7905 [============================>.] - ETA: 0s - loss: 0.2583 - accuracy: 0.8887\n",
      "Epoch 00044: val_accuracy improved from 0.88929 to 0.88935, saving model to weights.best.hdf5\n",
      "7905/7905 [==============================] - 34s 4ms/step - loss: 0.2583 - accuracy: 0.8887 - val_loss: 0.2568 - val_accuracy: 0.8893\n",
      "Epoch 45/600\n",
      "7903/7905 [============================>.] - ETA: 0s - loss: 0.2584 - accuracy: 0.8887\n",
      "Epoch 00045: val_accuracy did not improve from 0.88935\n",
      "7905/7905 [==============================] - 34s 4ms/step - loss: 0.2584 - accuracy: 0.8887 - val_loss: 0.2569 - val_accuracy: 0.8885\n",
      "Epoch 46/600\n",
      "7900/7905 [============================>.] - ETA: 0s - loss: 0.2580 - accuracy: 0.8888\n",
      "Epoch 00046: val_accuracy did not improve from 0.88935\n",
      "7905/7905 [==============================] - 34s 4ms/step - loss: 0.2580 - accuracy: 0.8888 - val_loss: 0.2578 - val_accuracy: 0.8878\n",
      "Epoch 47/600\n",
      "7905/7905 [==============================] - ETA: 0s - loss: 0.2582 - accuracy: 0.8885\n",
      "Epoch 00047: val_accuracy did not improve from 0.88935\n",
      "7905/7905 [==============================] - 34s 4ms/step - loss: 0.2582 - accuracy: 0.8885 - val_loss: 0.2568 - val_accuracy: 0.8887\n",
      "Epoch 48/600\n",
      "7898/7905 [============================>.] - ETA: 0s - loss: 0.2578 - accuracy: 0.8890\n",
      "Epoch 00048: val_accuracy did not improve from 0.88935\n",
      "7905/7905 [==============================] - 34s 4ms/step - loss: 0.2579 - accuracy: 0.8890 - val_loss: 0.2596 - val_accuracy: 0.8880\n",
      "Epoch 49/600\n",
      "7893/7905 [============================>.] - ETA: 0s - loss: 0.2581 - accuracy: 0.8886\n",
      "Epoch 00049: val_accuracy did not improve from 0.88935\n",
      "7905/7905 [==============================] - 36s 5ms/step - loss: 0.2581 - accuracy: 0.8885 - val_loss: 0.2569 - val_accuracy: 0.8883\n",
      "Epoch 50/600\n",
      "7898/7905 [============================>.] - ETA: 0s - loss: 0.2581 - accuracy: 0.8886\n",
      "Epoch 00050: val_accuracy did not improve from 0.88935\n",
      "7905/7905 [==============================] - 35s 4ms/step - loss: 0.2581 - accuracy: 0.8886 - val_loss: 0.2580 - val_accuracy: 0.8883\n",
      "Epoch 51/600\n",
      "7893/7905 [============================>.] - ETA: 0s - loss: 0.2580 - accuracy: 0.8888\n",
      "Epoch 00051: val_accuracy did not improve from 0.88935\n",
      "7905/7905 [==============================] - 36s 5ms/step - loss: 0.2580 - accuracy: 0.8888 - val_loss: 0.2577 - val_accuracy: 0.8881\n",
      "Epoch 52/600\n",
      "7901/7905 [============================>.] - ETA: 0s - loss: 0.2580 - accuracy: 0.8887\n",
      "Epoch 00052: val_accuracy did not improve from 0.88935\n",
      "7905/7905 [==============================] - 36s 5ms/step - loss: 0.2580 - accuracy: 0.8887 - val_loss: 0.2582 - val_accuracy: 0.8875\n",
      "Epoch 53/600\n",
      "7900/7905 [============================>.] - ETA: 0s - loss: 0.2579 - accuracy: 0.8886\n",
      "Epoch 00053: val_accuracy did not improve from 0.88935\n",
      "7905/7905 [==============================] - 35s 4ms/step - loss: 0.2580 - accuracy: 0.8886 - val_loss: 0.2573 - val_accuracy: 0.8883\n",
      "Epoch 54/600\n",
      "7898/7905 [============================>.] - ETA: 0s - loss: 0.2579 - accuracy: 0.8890\n",
      "Epoch 00054: val_accuracy did not improve from 0.88935\n",
      "7905/7905 [==============================] - 35s 4ms/step - loss: 0.2579 - accuracy: 0.8890 - val_loss: 0.2592 - val_accuracy: 0.8874\n",
      "Epoch 55/600\n",
      "7897/7905 [============================>.] - ETA: 0s - loss: 0.2580 - accuracy: 0.8887\n",
      "Epoch 00055: val_accuracy did not improve from 0.88935\n",
      "7905/7905 [==============================] - 34s 4ms/step - loss: 0.2580 - accuracy: 0.8887 - val_loss: 0.2568 - val_accuracy: 0.8885\n",
      "Epoch 56/600\n",
      "7890/7905 [============================>.] - ETA: 0s - loss: 0.2580 - accuracy: 0.8888\n",
      "Epoch 00056: val_accuracy did not improve from 0.88935\n",
      "7905/7905 [==============================] - 35s 4ms/step - loss: 0.2579 - accuracy: 0.8888 - val_loss: 0.2567 - val_accuracy: 0.8887\n",
      "Epoch 57/600\n",
      "7902/7905 [============================>.] - ETA: 0s - loss: 0.2579 - accuracy: 0.8888\n",
      "Epoch 00057: val_accuracy did not improve from 0.88935\n",
      "7905/7905 [==============================] - 34s 4ms/step - loss: 0.2580 - accuracy: 0.8888 - val_loss: 0.2589 - val_accuracy: 0.8869\n",
      "Epoch 58/600\n",
      "7899/7905 [============================>.] - ETA: 0s - loss: 0.2581 - accuracy: 0.8888\n",
      "Epoch 00058: val_accuracy did not improve from 0.88935\n",
      "7905/7905 [==============================] - 34s 4ms/step - loss: 0.2581 - accuracy: 0.8888 - val_loss: 0.2569 - val_accuracy: 0.8881\n",
      "Epoch 59/600\n",
      "7902/7905 [============================>.] - ETA: 0s - loss: 0.2581 - accuracy: 0.8885\n",
      "Epoch 00059: val_accuracy did not improve from 0.88935\n",
      "7905/7905 [==============================] - 34s 4ms/step - loss: 0.2581 - accuracy: 0.8885 - val_loss: 0.2599 - val_accuracy: 0.8883\n",
      "Epoch 60/600\n",
      "7899/7905 [============================>.] - ETA: 0s - loss: 0.2579 - accuracy: 0.8890\n",
      "Epoch 00060: val_accuracy did not improve from 0.88935\n",
      "7905/7905 [==============================] - 33s 4ms/step - loss: 0.2579 - accuracy: 0.8890 - val_loss: 0.2586 - val_accuracy: 0.8883\n",
      "Epoch 61/600\n",
      "7898/7905 [============================>.] - ETA: 0s - loss: 0.2582 - accuracy: 0.8889\n",
      "Epoch 00061: val_accuracy did not improve from 0.88935\n",
      "7905/7905 [==============================] - 33s 4ms/step - loss: 0.2583 - accuracy: 0.8888 - val_loss: 0.2571 - val_accuracy: 0.8887\n",
      "Epoch 62/600\n",
      "7900/7905 [============================>.] - ETA: 0s - loss: 0.2578 - accuracy: 0.8889\n",
      "Epoch 00062: val_accuracy did not improve from 0.88935\n",
      "7905/7905 [==============================] - 34s 4ms/step - loss: 0.2578 - accuracy: 0.8889 - val_loss: 0.2569 - val_accuracy: 0.8889\n",
      "Epoch 00062: early stopping\n",
      "Execution time :  0:31:55.065557\n"
     ]
    }
   ],
   "source": [
    "init_time = datetime.now()\n",
    "optimizer = Adam()\n",
    "model = create_batch_normalization_model(optimizer)\n",
    "history = model.fit(x=X_train_norm, \n",
    "                    y=y_train, \n",
    "                    epochs=600,\n",
    "                    batch_size=32,\n",
    "                    validation_data=(X_valid_norm, y_valid), verbose=1,\n",
    "                    callbacks=callbacks_list\n",
    "                   )\n",
    "fin_time = datetime.now()\n",
    "print(\"Execution time : \", (fin_time-init_time))"
   ]
  },
  {
   "cell_type": "code",
   "execution_count": 284,
   "metadata": {
    "hidden": true
   },
   "outputs": [
    {
     "name": "stdout",
     "output_type": "stream",
     "text": [
      "Optimizer: adam Training Loss: 0.890 Validation Accuracy:0.889\n"
     ]
    }
   ],
   "source": [
    "evaluate_model(X_train_norm, y_train, X_valid_norm, y_valid, model, optimizers[3])\n",
    "#Training Loss: 0.890 Validation Accuracy:0.889"
   ]
  },
  {
   "cell_type": "code",
   "execution_count": 285,
   "metadata": {
    "hidden": true
   },
   "outputs": [
    {
     "data": {
      "image/png": "[encoded data removed]",
      "text/plain": [
       "<Figure size 1080x720 with 1 Axes>"
      ]
     },
     "metadata": {
      "needs_background": "light"
     },
     "output_type": "display_data"
    }
   ],
   "source": [
    "plot_loss(history, optimizers[3])"
   ]
  },
  {
   "cell_type": "code",
   "execution_count": 286,
   "metadata": {
    "hidden": true
   },
   "outputs": [
    {
     "data": {
      "image/png": "[encoded data removed]",
      "text/plain": [
       "<Figure size 1080x720 with 1 Axes>"
      ]
     },
     "metadata": {
      "needs_background": "light"
     },
     "output_type": "display_data"
    }
   ],
   "source": [
    "plot_accuracy(history, optimizers[3])"
   ]
  },
  {
   "cell_type": "code",
   "execution_count": 287,
   "metadata": {
    "hidden": true
   },
   "outputs": [],
   "source": [
    "predictions = model.predict_classes(X_test_norm)"
   ]
  },
  {
   "cell_type": "code",
   "execution_count": 288,
   "metadata": {
    "hidden": true
   },
   "outputs": [
    {
     "name": "stdout",
     "output_type": "stream",
     "text": [
      "0.6200721519537532\n",
      "0.8894160214564041\n"
     ]
    }
   ],
   "source": [
    "print(f1_score(y_test, predictions))\n",
    "print(accuracy_score(y_test, predictions))"
   ]
  },
  {
   "cell_type": "code",
   "execution_count": 289,
   "metadata": {
    "hidden": true
   },
   "outputs": [
    {
     "name": "stdout",
     "output_type": "stream",
     "text": [
      "              precision    recall  f1-score   support\n",
      "\n",
      "           0       0.88      0.99      0.94     63623\n",
      "           1       0.94      0.46      0.62     15421\n",
      "\n",
      "    accuracy                           0.89     79044\n",
      "   macro avg       0.91      0.73      0.78     79044\n",
      "weighted avg       0.89      0.89      0.87     79044\n",
      "\n"
     ]
    }
   ],
   "source": [
    "print(classification_report(y_test, predictions))"
   ]
  },
  {
   "cell_type": "code",
   "execution_count": 290,
   "metadata": {
    "hidden": true
   },
   "outputs": [
    {
     "name": "stdout",
     "output_type": "stream",
     "text": [
      "[[63170   453]\n",
      " [ 8288  7133]]\n"
     ]
    }
   ],
   "source": [
    "print(confusion_matrix(y_test, predictions))"
   ]
  },
  {
   "cell_type": "code",
   "execution_count": 210,
   "metadata": {
    "hidden": true
   },
   "outputs": [],
   "source": [
    "#plot_confusion_matrix(model, X_test_norm, y_test, values_format='d', display_labels=[\"Paid\",\"Not Paid\"]);"
   ]
  },
  {
   "cell_type": "markdown",
   "metadata": {
    "heading_collapsed": true
   },
   "source": [
    "### Optimizing Adam with LearningRateScheduler (step_decay)"
   ]
  },
  {
   "cell_type": "markdown",
   "metadata": {
    "hidden": true
   },
   "source": [
    "Default parameers: \n",
    "    learning_rate=0.001,\n",
    "    beta_1=0.9,\n",
    "    beta_2=0.999,\n",
    "    epsilon=1e-07,"
   ]
  },
  {
   "cell_type": "code",
   "execution_count": 306,
   "metadata": {
    "hidden": true
   },
   "outputs": [],
   "source": [
    "def step_decay(epoch):\n",
    "    initial_lrate = 0.1\n",
    "    drop = 0.5\n",
    "    epochs_drop = 10.0\n",
    "    lrate = initial_lrate * math.pow(drop, math.floor((1+epoch)/epochs_drop))\n",
    "    \n",
    "    return lrate\n",
    "\n",
    "lrate = LearningRateScheduler(step_decay)\n",
    "callbacks_list.append(lrate)"
   ]
  },
  {
   "cell_type": "code",
   "execution_count": 307,
   "metadata": {
    "hidden": true
   },
   "outputs": [
    {
     "name": "stdout",
     "output_type": "stream",
     "text": [
      "Epoch 1/600\n",
      "7874/7905 [============================>.] - ETA: 0s - loss: 0.3519 - accuracy: 0.8631\n",
      "Epoch 00001: val_accuracy improved from -inf to 0.84646, saving model to weights.best.hdf5\n",
      "7905/7905 [==============================] - 13s 2ms/step - loss: 0.3518 - accuracy: 0.8631 - val_loss: 0.4450 - val_accuracy: 0.8465\n",
      "Epoch 2/600\n",
      "7885/7905 [============================>.] - ETA: 0s - loss: 0.3483 - accuracy: 0.8649\n",
      "Epoch 00002: val_accuracy improved from 0.84646 to 0.87690, saving model to weights.best.hdf5\n",
      "7905/7905 [==============================] - 16s 2ms/step - loss: 0.3483 - accuracy: 0.8649 - val_loss: 0.3350 - val_accuracy: 0.8769\n",
      "Epoch 3/600\n",
      "7905/7905 [==============================] - ETA: 0s - loss: 0.3465 - accuracy: 0.8657\n",
      "Epoch 00003: val_accuracy did not improve from 0.87690\n",
      "7905/7905 [==============================] - 16s 2ms/step - loss: 0.3465 - accuracy: 0.8657 - val_loss: 35.7169 - val_accuracy: 0.1989\n",
      "Epoch 4/600\n",
      "7880/7905 [============================>.] - ETA: 0s - loss: 0.3462 - accuracy: 0.8670\n",
      "Epoch 00004: val_accuracy did not improve from 0.87690\n",
      "7905/7905 [==============================] - 16s 2ms/step - loss: 0.3463 - accuracy: 0.8669 - val_loss: 0.9590 - val_accuracy: 0.8118\n",
      "Epoch 5/600\n",
      "7891/7905 [============================>.] - ETA: 0s - loss: 0.4307 - accuracy: 0.8319\n",
      "Epoch 00005: val_accuracy did not improve from 0.87690\n",
      "7905/7905 [==============================] - 16s 2ms/step - loss: 0.4308 - accuracy: 0.8319 - val_loss: 0.4991 - val_accuracy: 0.8011\n",
      "Epoch 6/600\n",
      "7894/7905 [============================>.] - ETA: 0s - loss: 0.4990 - accuracy: 0.8041\n",
      "Epoch 00006: val_accuracy did not improve from 0.87690\n",
      "7905/7905 [==============================] - 17s 2ms/step - loss: 0.4991 - accuracy: 0.8041 - val_loss: 0.4990 - val_accuracy: 0.8011\n",
      "Epoch 7/600\n",
      "7889/7905 [============================>.] - ETA: 0s - loss: 0.4993 - accuracy: 0.8042\n",
      "Epoch 00007: val_accuracy did not improve from 0.87690\n",
      "7905/7905 [==============================] - 16s 2ms/step - loss: 0.4993 - accuracy: 0.8042 - val_loss: 0.4991 - val_accuracy: 0.8011\n",
      "Epoch 8/600\n",
      "7892/7905 [============================>.] - ETA: 0s - loss: 0.4989 - accuracy: 0.8042\n",
      "Epoch 00008: val_accuracy did not improve from 0.87690\n",
      "7905/7905 [==============================] - 17s 2ms/step - loss: 0.4990 - accuracy: 0.8042 - val_loss: 0.4999 - val_accuracy: 0.8011\n",
      "Epoch 9/600\n",
      "7896/7905 [============================>.] - ETA: 0s - loss: 0.4991 - accuracy: 0.8042\n",
      "Epoch 00009: val_accuracy did not improve from 0.87690\n",
      "7905/7905 [==============================] - 17s 2ms/step - loss: 0.4990 - accuracy: 0.8042 - val_loss: 0.5021 - val_accuracy: 0.8011\n",
      "Epoch 10/600\n",
      "7892/7905 [============================>.] - ETA: 0s - loss: 0.4963 - accuracy: 0.8042\n",
      "Epoch 00010: val_accuracy did not improve from 0.87690\n",
      "7905/7905 [==============================] - 16s 2ms/step - loss: 0.4963 - accuracy: 0.8042 - val_loss: 0.4995 - val_accuracy: 0.8011\n",
      "Epoch 11/600\n",
      "7903/7905 [============================>.] - ETA: 0s - loss: 0.4964 - accuracy: 0.8042\n",
      "Epoch 00011: val_accuracy did not improve from 0.87690\n",
      "7905/7905 [==============================] - 16s 2ms/step - loss: 0.4965 - accuracy: 0.8042 - val_loss: 0.4997 - val_accuracy: 0.8011\n",
      "Epoch 12/600\n",
      "7900/7905 [============================>.] - ETA: 0s - loss: 0.4965 - accuracy: 0.8042\n",
      "Epoch 00012: val_accuracy did not improve from 0.87690\n",
      "7905/7905 [==============================] - 17s 2ms/step - loss: 0.4965 - accuracy: 0.8042 - val_loss: 0.4991 - val_accuracy: 0.8011\n",
      "Epoch 13/600\n",
      "7903/7905 [============================>.] - ETA: 0s - loss: 0.4966 - accuracy: 0.8042\n",
      "Epoch 00013: val_accuracy did not improve from 0.87690\n",
      "7905/7905 [==============================] - 17s 2ms/step - loss: 0.4966 - accuracy: 0.8042 - val_loss: 0.4991 - val_accuracy: 0.8011\n",
      "Epoch 14/600\n",
      "7890/7905 [============================>.] - ETA: 0s - loss: 0.4967 - accuracy: 0.8042\n",
      "Epoch 00014: val_accuracy did not improve from 0.87690\n",
      "7905/7905 [==============================] - 21s 3ms/step - loss: 0.4967 - accuracy: 0.8042 - val_loss: 0.4996 - val_accuracy: 0.8011\n",
      "Epoch 15/600\n",
      "7886/7905 [============================>.] - ETA: 0s - loss: 0.4964 - accuracy: 0.8042\n",
      "Epoch 00015: val_accuracy did not improve from 0.87690\n",
      "7905/7905 [==============================] - 22s 3ms/step - loss: 0.4964 - accuracy: 0.8042 - val_loss: 0.4992 - val_accuracy: 0.8011\n",
      "Epoch 16/600\n",
      "7897/7905 [============================>.] - ETA: 0s - loss: 0.4965 - accuracy: 0.8042\n",
      "Epoch 00016: val_accuracy did not improve from 0.87690\n",
      "7905/7905 [==============================] - 21s 3ms/step - loss: 0.4965 - accuracy: 0.8042 - val_loss: 0.4993 - val_accuracy: 0.8011\n",
      "Epoch 17/600\n",
      "7882/7905 [============================>.] - ETA: 0s - loss: 0.4966 - accuracy: 0.8042\n",
      "Epoch 00017: val_accuracy did not improve from 0.87690\n",
      "7905/7905 [==============================] - 19s 2ms/step - loss: 0.4966 - accuracy: 0.8042 - val_loss: 0.4994 - val_accuracy: 0.8011\n",
      "Epoch 18/600\n",
      "7887/7905 [============================>.] - ETA: 0s - loss: 0.4964 - accuracy: 0.8043\n",
      "Epoch 00018: val_accuracy did not improve from 0.87690\n",
      "7905/7905 [==============================] - 18s 2ms/step - loss: 0.4965 - accuracy: 0.8042 - val_loss: 0.5010 - val_accuracy: 0.8011\n",
      "Epoch 19/600\n",
      "7902/7905 [============================>.] - ETA: 0s - loss: 0.4965 - accuracy: 0.8042\n",
      "Epoch 00019: val_accuracy did not improve from 0.87690\n",
      "7905/7905 [==============================] - 18s 2ms/step - loss: 0.4965 - accuracy: 0.8042 - val_loss: 0.5063 - val_accuracy: 0.8011\n",
      "Epoch 20/600\n",
      "7902/7905 [============================>.] - ETA: 0s - loss: 0.4954 - accuracy: 0.8042\n",
      "Epoch 00020: val_accuracy did not improve from 0.87690\n",
      "7905/7905 [==============================] - 18s 2ms/step - loss: 0.4954 - accuracy: 0.8042 - val_loss: 0.4993 - val_accuracy: 0.8011\n",
      "Epoch 21/600\n",
      "7882/7905 [============================>.] - ETA: 0s - loss: 0.4953 - accuracy: 0.8043\n",
      "Epoch 00021: val_accuracy did not improve from 0.87690\n",
      "7905/7905 [==============================] - 18s 2ms/step - loss: 0.4955 - accuracy: 0.8042 - val_loss: 0.4990 - val_accuracy: 0.8011\n",
      "Epoch 22/600\n",
      "7880/7905 [============================>.] - ETA: 0s - loss: 0.4955 - accuracy: 0.8041\n",
      "Epoch 00022: val_accuracy did not improve from 0.87690\n",
      "7905/7905 [==============================] - 18s 2ms/step - loss: 0.4954 - accuracy: 0.8042 - val_loss: 0.5021 - val_accuracy: 0.8011\n",
      "Epoch 23/600\n",
      "7894/7905 [============================>.] - ETA: 0s - loss: 0.4953 - accuracy: 0.8042\n",
      "Epoch 00023: val_accuracy did not improve from 0.87690\n",
      "7905/7905 [==============================] - 18s 2ms/step - loss: 0.4953 - accuracy: 0.8042 - val_loss: 0.4990 - val_accuracy: 0.8011\n",
      "Epoch 24/600\n",
      "7905/7905 [==============================] - ETA: 0s - loss: 0.4953 - accuracy: 0.8042\n",
      "Epoch 00024: val_accuracy did not improve from 0.87690\n",
      "7905/7905 [==============================] - 18s 2ms/step - loss: 0.4953 - accuracy: 0.8042 - val_loss: 0.4989 - val_accuracy: 0.8011\n",
      "Epoch 25/600\n",
      "7899/7905 [============================>.] - ETA: 0s - loss: 0.4954 - accuracy: 0.8042\n",
      "Epoch 00025: val_accuracy did not improve from 0.87690\n",
      "7905/7905 [==============================] - 18s 2ms/step - loss: 0.4954 - accuracy: 0.8042 - val_loss: 0.4989 - val_accuracy: 0.8011\n",
      "Epoch 26/600\n",
      "7884/7905 [============================>.] - ETA: 0s - loss: 0.4953 - accuracy: 0.8042\n",
      "Epoch 00026: val_accuracy did not improve from 0.87690\n",
      "7905/7905 [==============================] - 18s 2ms/step - loss: 0.4953 - accuracy: 0.8042 - val_loss: 0.4989 - val_accuracy: 0.8011\n",
      "Epoch 27/600\n",
      "7895/7905 [============================>.] - ETA: 0s - loss: 0.4954 - accuracy: 0.8042\n",
      "Epoch 00027: val_accuracy did not improve from 0.87690\n",
      "7905/7905 [==============================] - 18s 2ms/step - loss: 0.4953 - accuracy: 0.8042 - val_loss: 0.4989 - val_accuracy: 0.8011\n",
      "Epoch 00027: early stopping\n",
      "Execution time :  0:07:51.153694\n"
     ]
    }
   ],
   "source": [
    "init_time = datetime.now()\n",
    "opt = Adam(learning_rate=0.1)\n",
    "model = create_batch_normalization_model(opt)\n",
    "history = model.fit(x=X_train_norm, \n",
    "                    y=y_train, \n",
    "                    epochs=600,\n",
    "                    batch_size=32,\n",
    "                    validation_data=(X_valid_norm, y_valid), verbose=1,\n",
    "                    callbacks=callbacks_list\n",
    "                   )\n",
    "fin_time = datetime.now()\n",
    "print(\"Execution time : \", (fin_time-init_time))"
   ]
  },
  {
   "cell_type": "code",
   "execution_count": 308,
   "metadata": {
    "hidden": true
   },
   "outputs": [
    {
     "name": "stdout",
     "output_type": "stream",
     "text": [
      "Optimizer: adam Training Loss: 0.804 Validation Accuracy:0.801\n"
     ]
    }
   ],
   "source": [
    "evaluate_model(X_train_norm, y_train, X_valid_norm, y_valid, model, optimizers[3])"
   ]
  },
  {
   "cell_type": "code",
   "execution_count": null,
   "metadata": {
    "hidden": true
   },
   "outputs": [],
   "source": [
    "plot_loss(history, optimizers[3])"
   ]
  },
  {
   "cell_type": "code",
   "execution_count": null,
   "metadata": {
    "hidden": true
   },
   "outputs": [],
   "source": [
    "plot_accuracy(history, optimizers[3])"
   ]
  },
  {
   "cell_type": "code",
   "execution_count": 297,
   "metadata": {
    "hidden": true
   },
   "outputs": [],
   "source": [
    "predictions = model.predict_classes(X_test_norm)"
   ]
  },
  {
   "cell_type": "code",
   "execution_count": 298,
   "metadata": {
    "hidden": true
   },
   "outputs": [
    {
     "name": "stdout",
     "output_type": "stream",
     "text": [
      "0.0\n",
      "0.804906128232377\n"
     ]
    }
   ],
   "source": [
    "print(f1_score(y_test, predictions))\n",
    "print(accuracy_score(y_test, predictions))"
   ]
  },
  {
   "cell_type": "code",
   "execution_count": null,
   "metadata": {
    "hidden": true
   },
   "outputs": [],
   "source": [
    "print(classification_report(y_test, predictions))"
   ]
  },
  {
   "cell_type": "code",
   "execution_count": null,
   "metadata": {
    "hidden": true
   },
   "outputs": [],
   "source": [
    "print(confusion_matrix(y_test, predictions))"
   ]
  },
  {
   "cell_type": "markdown",
   "metadata": {
    "heading_collapsed": true
   },
   "source": [
    "### Optimizing Adam with LearningRateScheduler (Exponential Decay)"
   ]
  },
  {
   "cell_type": "code",
   "execution_count": 330,
   "metadata": {
    "hidden": true
   },
   "outputs": [],
   "source": [
    "def exp_decay(epoch):\n",
    "    initial_lrate = 0.1\n",
    "    k = 0.1\n",
    "    lrate = initial_lrate * math.exp(-k*epoch)\n",
    "    return lrate\n",
    "\n",
    "lrate = LearningRateScheduler(exp_decay)\n",
    "callbacks_list.append(lrate)"
   ]
  },
  {
   "cell_type": "code",
   "execution_count": 331,
   "metadata": {
    "hidden": true
   },
   "outputs": [
    {
     "name": "stdout",
     "output_type": "stream",
     "text": [
      "Epoch 1/600\n",
      "7880/7905 [============================>.] - ETA: 0s - loss: 0.3491 - accuracy: 0.8644\n",
      "Epoch 00001: val_accuracy improved from -inf to 0.84112, saving model to weights.best.hdf5\n",
      "7905/7905 [==============================] - 13s 2ms/step - loss: 0.3491 - accuracy: 0.8644 - val_loss: 0.4580 - val_accuracy: 0.8411\n",
      "Epoch 2/600\n",
      "7890/7905 [============================>.] - ETA: 0s - loss: 0.3461 - accuracy: 0.8660\n",
      "Epoch 00002: val_accuracy did not improve from 0.84112\n",
      "7905/7905 [==============================] - 13s 2ms/step - loss: 0.3461 - accuracy: 0.8660 - val_loss: 8.0028 - val_accuracy: 0.8011\n",
      "Epoch 3/600\n",
      "7880/7905 [============================>.] - ETA: 0s - loss: 0.4504 - accuracy: 0.8233\n",
      "Epoch 00003: val_accuracy did not improve from 0.84112\n",
      "7905/7905 [==============================] - 15s 2ms/step - loss: 0.4505 - accuracy: 0.8233 - val_loss: 0.4996 - val_accuracy: 0.8011\n",
      "Epoch 4/600\n",
      "7884/7905 [============================>.] - ETA: 0s - loss: 0.4975 - accuracy: 0.8043\n",
      "Epoch 00004: val_accuracy did not improve from 0.84112\n",
      "7905/7905 [==============================] - 15s 2ms/step - loss: 0.4976 - accuracy: 0.8042 - val_loss: 0.5105 - val_accuracy: 0.8011\n",
      "Epoch 5/600\n",
      "7901/7905 [============================>.] - ETA: 0s - loss: 0.4975 - accuracy: 0.8042\n",
      "Epoch 00005: val_accuracy did not improve from 0.84112\n",
      "7905/7905 [==============================] - 15s 2ms/step - loss: 0.4975 - accuracy: 0.8042 - val_loss: 0.4989 - val_accuracy: 0.8011\n",
      "Epoch 6/600\n",
      "7905/7905 [==============================] - ETA: 0s - loss: 0.4972 - accuracy: 0.8042\n",
      "Epoch 00006: val_accuracy did not improve from 0.84112\n",
      "7905/7905 [==============================] - 15s 2ms/step - loss: 0.4972 - accuracy: 0.8042 - val_loss: 0.4990 - val_accuracy: 0.8011\n",
      "Epoch 7/600\n",
      "7888/7905 [============================>.] - ETA: 0s - loss: 0.4971 - accuracy: 0.8042\n",
      "Epoch 00007: val_accuracy did not improve from 0.84112\n",
      "7905/7905 [==============================] - 15s 2ms/step - loss: 0.4971 - accuracy: 0.8042 - val_loss: 0.4991 - val_accuracy: 0.8011\n",
      "Epoch 8/600\n",
      "7894/7905 [============================>.] - ETA: 0s - loss: 0.4966 - accuracy: 0.8042\n",
      "Epoch 00008: val_accuracy did not improve from 0.84112\n",
      "7905/7905 [==============================] - 15s 2ms/step - loss: 0.4966 - accuracy: 0.8042 - val_loss: 0.4989 - val_accuracy: 0.8011\n",
      "Epoch 9/600\n",
      "7902/7905 [============================>.] - ETA: 0s - loss: 0.4962 - accuracy: 0.8042\n",
      "Epoch 00009: val_accuracy did not improve from 0.84112\n",
      "7905/7905 [==============================] - 15s 2ms/step - loss: 0.4962 - accuracy: 0.8042 - val_loss: 0.4990 - val_accuracy: 0.8011\n",
      "Epoch 10/600\n",
      "7892/7905 [============================>.] - ETA: 0s - loss: 0.4961 - accuracy: 0.8042\n",
      "Epoch 00010: val_accuracy did not improve from 0.84112\n",
      "7905/7905 [==============================] - 15s 2ms/step - loss: 0.4961 - accuracy: 0.8042 - val_loss: 0.5007 - val_accuracy: 0.8011\n",
      "Epoch 11/600\n",
      "7889/7905 [============================>.] - ETA: 0s - loss: 0.4961 - accuracy: 0.8042\n",
      "Epoch 00011: val_accuracy did not improve from 0.84112\n",
      "7905/7905 [==============================] - 15s 2ms/step - loss: 0.4961 - accuracy: 0.8042 - val_loss: 0.4993 - val_accuracy: 0.8011\n",
      "Epoch 12/600\n",
      "7878/7905 [============================>.] - ETA: 0s - loss: 0.4960 - accuracy: 0.8042\n",
      "Epoch 00012: val_accuracy did not improve from 0.84112\n",
      "7905/7905 [==============================] - 15s 2ms/step - loss: 0.4960 - accuracy: 0.8042 - val_loss: 0.4999 - val_accuracy: 0.8011\n",
      "Epoch 13/600\n",
      "7887/7905 [============================>.] - ETA: 0s - loss: 0.4955 - accuracy: 0.8042\n",
      "Epoch 00013: val_accuracy did not improve from 0.84112\n",
      "7905/7905 [==============================] - 15s 2ms/step - loss: 0.4955 - accuracy: 0.8042 - val_loss: 0.5118 - val_accuracy: 0.8011\n",
      "Epoch 14/600\n",
      "7879/7905 [============================>.] - ETA: 0s - loss: 0.4954 - accuracy: 0.8042\n",
      "Epoch 00014: val_accuracy did not improve from 0.84112\n",
      "7905/7905 [==============================] - 15s 2ms/step - loss: 0.4955 - accuracy: 0.8042 - val_loss: 0.4991 - val_accuracy: 0.8011\n",
      "Epoch 15/600\n",
      "7887/7905 [============================>.] - ETA: 0s - loss: 0.4952 - accuracy: 0.8042\n",
      "Epoch 00015: val_accuracy did not improve from 0.84112\n",
      "7905/7905 [==============================] - 16s 2ms/step - loss: 0.4953 - accuracy: 0.8042 - val_loss: 0.5000 - val_accuracy: 0.8011\n",
      "Epoch 16/600\n",
      "7889/7905 [============================>.] - ETA: 0s - loss: 0.4950 - accuracy: 0.8042\n",
      "Epoch 00016: val_accuracy did not improve from 0.84112\n",
      "7905/7905 [==============================] - 16s 2ms/step - loss: 0.4950 - accuracy: 0.8042 - val_loss: 0.4989 - val_accuracy: 0.8011\n",
      "Epoch 17/600\n",
      "7905/7905 [==============================] - ETA: 0s - loss: 0.4950 - accuracy: 0.8042\n",
      "Epoch 00017: val_accuracy did not improve from 0.84112\n",
      "7905/7905 [==============================] - 19s 2ms/step - loss: 0.4950 - accuracy: 0.8042 - val_loss: 0.4989 - val_accuracy: 0.8011\n",
      "Epoch 18/600\n",
      "7883/7905 [============================>.] - ETA: 0s - loss: 0.4951 - accuracy: 0.8042\n",
      "Epoch 00018: val_accuracy did not improve from 0.84112\n",
      "7905/7905 [==============================] - 18s 2ms/step - loss: 0.4951 - accuracy: 0.8042 - val_loss: 0.4989 - val_accuracy: 0.8011\n",
      "Epoch 19/600\n",
      "7893/7905 [============================>.] - ETA: 0s - loss: 0.4950 - accuracy: 0.8043\n",
      "Epoch 00019: val_accuracy did not improve from 0.84112\n",
      "7905/7905 [==============================] - 17s 2ms/step - loss: 0.4951 - accuracy: 0.8042 - val_loss: 0.4996 - val_accuracy: 0.8011\n",
      "Epoch 20/600\n",
      "7891/7905 [============================>.] - ETA: 0s - loss: 0.4949 - accuracy: 0.8042\n",
      "Epoch 00020: val_accuracy did not improve from 0.84112\n",
      "7905/7905 [==============================] - 16s 2ms/step - loss: 0.4949 - accuracy: 0.8042 - val_loss: 0.4989 - val_accuracy: 0.8011\n",
      "Epoch 21/600\n",
      "7892/7905 [============================>.] - ETA: 0s - loss: 0.4949 - accuracy: 0.8042\n",
      "Epoch 00021: val_accuracy did not improve from 0.84112\n",
      "7905/7905 [==============================] - 16s 2ms/step - loss: 0.4950 - accuracy: 0.8042 - val_loss: 0.4996 - val_accuracy: 0.8011\n",
      "Epoch 22/600\n",
      "7898/7905 [============================>.] - ETA: 0s - loss: 0.4949 - accuracy: 0.8042\n",
      "Epoch 00022: val_accuracy did not improve from 0.84112\n",
      "7905/7905 [==============================] - 17s 2ms/step - loss: 0.4949 - accuracy: 0.8042 - val_loss: 0.4994 - val_accuracy: 0.8011\n",
      "Epoch 23/600\n",
      "7888/7905 [============================>.] - ETA: 0s - loss: 0.4949 - accuracy: 0.8042\n",
      "Epoch 00023: val_accuracy did not improve from 0.84112\n",
      "7905/7905 [==============================] - 17s 2ms/step - loss: 0.4948 - accuracy: 0.8042 - val_loss: 0.4990 - val_accuracy: 0.8011\n",
      "Epoch 24/600\n",
      "7885/7905 [============================>.] - ETA: 0s - loss: 0.4948 - accuracy: 0.8042\n",
      "Epoch 00024: val_accuracy did not improve from 0.84112\n",
      "7905/7905 [==============================] - 17s 2ms/step - loss: 0.4948 - accuracy: 0.8042 - val_loss: 0.4990 - val_accuracy: 0.8011\n",
      "Epoch 25/600\n",
      "7884/7905 [============================>.] - ETA: 0s - loss: 0.4947 - accuracy: 0.8042\n",
      "Epoch 00025: val_accuracy did not improve from 0.84112\n",
      "7905/7905 [==============================] - 17s 2ms/step - loss: 0.4948 - accuracy: 0.8042 - val_loss: 0.4990 - val_accuracy: 0.8011\n",
      "Epoch 26/600\n",
      "7886/7905 [============================>.] - ETA: 0s - loss: 0.4949 - accuracy: 0.8042\n",
      "Epoch 00026: val_accuracy did not improve from 0.84112\n",
      "7905/7905 [==============================] - 17s 2ms/step - loss: 0.4948 - accuracy: 0.8042 - val_loss: 0.4994 - val_accuracy: 0.8011\n",
      "Epoch 00026: early stopping\n",
      "Execution time :  0:06:50.115232\n"
     ]
    }
   ],
   "source": [
    "init_time = datetime.now()\n",
    "opt = Adam(learning_rate=0.1)\n",
    "model = create_batch_normalization_model(opt)\n",
    "history = model.fit(x=X_train_norm, \n",
    "                    y=y_train, \n",
    "                    epochs=600,\n",
    "                    batch_size=32,\n",
    "                    validation_data=(X_valid_norm, y_valid), verbose=1,\n",
    "                    callbacks=callbacks_list\n",
    "                   )\n",
    "fin_time = datetime.now()\n",
    "print(\"Execution time : \", (fin_time-init_time))"
   ]
  },
  {
   "cell_type": "code",
   "execution_count": 332,
   "metadata": {
    "hidden": true
   },
   "outputs": [
    {
     "name": "stdout",
     "output_type": "stream",
     "text": [
      "Optimizer: adam Training Loss: 0.804 Validation Accuracy:0.801\n"
     ]
    }
   ],
   "source": [
    "evaluate_model(X_train_norm, y_train, X_valid_norm, y_valid, model, optimizers[3])"
   ]
  },
  {
   "cell_type": "markdown",
   "metadata": {
    "heading_collapsed": true
   },
   "source": [
    "### Resampling with Batch Normalization & kernel_constraint (max_norm)"
   ]
  },
  {
   "cell_type": "code",
   "execution_count": 39,
   "metadata": {
    "hidden": true
   },
   "outputs": [
    {
     "name": "stdout",
     "output_type": "stream",
     "text": [
      "Execution time :  2:19:44.264295\n"
     ]
    }
   ],
   "source": [
    "init_time = datetime.now()\n",
    "#resample = SMOTETomek(tomek=TomekLinks(sampling_strategy='majority')) \n",
    "#Training Loss: 0.859 Validation Accuracy:0.841 \n",
    "resample = SMOTEENN(enn=EditedNearestNeighbours(sampling_strategy='majority'))\n",
    "\n",
    "# fit and apply the transform\n",
    "X_sample, y_sample = resample.fit_resample(X_train_norm, y_train)\n",
    "fin_time = datetime.now()\n",
    "print(\"Execution time : \", (fin_time-init_time))"
   ]
  },
  {
   "cell_type": "code",
   "execution_count": 58,
   "metadata": {
    "hidden": true
   },
   "outputs": [
    {
     "name": "stdout",
     "output_type": "stream",
     "text": [
      "Epoch 1/600\n",
      "10763/10784 [============================>.] - ETA: 0s - loss: 0.2622 - accuracy: 0.8738\n",
      "Epoch 00001: val_accuracy did not improve from 0.88957\n",
      "10784/10784 [==============================] - 16s 1ms/step - loss: 0.2622 - accuracy: 0.8739 - val_loss: 0.5362 - val_accuracy: 0.7302\n",
      "Epoch 2/600\n",
      "10766/10784 [============================>.] - ETA: 0s - loss: 0.2383 - accuracy: 0.8864\n",
      "Epoch 00002: val_accuracy did not improve from 0.88957\n",
      "10784/10784 [==============================] - 19s 2ms/step - loss: 0.2383 - accuracy: 0.8864 - val_loss: 0.5587 - val_accuracy: 0.7209\n",
      "Epoch 3/600\n",
      "10764/10784 [============================>.] - ETA: 0s - loss: 0.2313 - accuracy: 0.8907\n",
      "Epoch 00003: val_accuracy did not improve from 0.88957\n",
      "10784/10784 [==============================] - 19s 2ms/step - loss: 0.2313 - accuracy: 0.8907 - val_loss: 0.5768 - val_accuracy: 0.7030\n",
      "Epoch 4/600\n",
      "10773/10784 [============================>.] - ETA: 0s - loss: 0.2276 - accuracy: 0.8931\n",
      "Epoch 00004: val_accuracy did not improve from 0.88957\n",
      "10784/10784 [==============================] - 18s 2ms/step - loss: 0.2276 - accuracy: 0.8931 - val_loss: 0.6053 - val_accuracy: 0.7092\n",
      "Epoch 5/600\n",
      "10775/10784 [============================>.] - ETA: 0s - loss: 0.2245 - accuracy: 0.8952\n",
      "Epoch 00005: val_accuracy did not improve from 0.88957\n",
      "10784/10784 [==============================] - 19s 2ms/step - loss: 0.2245 - accuracy: 0.8952 - val_loss: 0.5380 - val_accuracy: 0.7067\n",
      "Epoch 6/600\n",
      "10775/10784 [============================>.] - ETA: 0s - loss: 0.2222 - accuracy: 0.8967\n",
      "Epoch 00006: val_accuracy did not improve from 0.88957\n",
      "10784/10784 [==============================] - 19s 2ms/step - loss: 0.2222 - accuracy: 0.8966 - val_loss: 0.5358 - val_accuracy: 0.7363\n",
      "Epoch 7/600\n",
      "10757/10784 [============================>.] - ETA: 0s - loss: 0.2203 - accuracy: 0.8970\n",
      "Epoch 00007: val_accuracy did not improve from 0.88957\n",
      "10784/10784 [==============================] - 18s 2ms/step - loss: 0.2203 - accuracy: 0.8970 - val_loss: 0.5302 - val_accuracy: 0.7365\n",
      "Epoch 8/600\n",
      "10766/10784 [============================>.] - ETA: 0s - loss: 0.2194 - accuracy: 0.8982\n",
      "Epoch 00008: val_accuracy did not improve from 0.88957\n",
      "10784/10784 [==============================] - 19s 2ms/step - loss: 0.2194 - accuracy: 0.8982 - val_loss: 0.5792 - val_accuracy: 0.7139\n",
      "Epoch 9/600\n",
      "10767/10784 [============================>.] - ETA: 0s - loss: 0.2182 - accuracy: 0.8992\n",
      "Epoch 00009: val_accuracy did not improve from 0.88957\n",
      "10784/10784 [==============================] - 19s 2ms/step - loss: 0.2183 - accuracy: 0.8992 - val_loss: 0.5800 - val_accuracy: 0.7210\n",
      "Epoch 10/600\n",
      "10762/10784 [============================>.] - ETA: 0s - loss: 0.2161 - accuracy: 0.9004\n",
      "Epoch 00010: val_accuracy did not improve from 0.88957\n",
      "10784/10784 [==============================] - 19s 2ms/step - loss: 0.2162 - accuracy: 0.9004 - val_loss: 0.5403 - val_accuracy: 0.7379\n",
      "Epoch 11/600\n",
      "10784/10784 [==============================] - ETA: 0s - loss: 0.2150 - accuracy: 0.9006\n",
      "Epoch 00011: val_accuracy did not improve from 0.88957\n",
      "10784/10784 [==============================] - 19s 2ms/step - loss: 0.2150 - accuracy: 0.9006 - val_loss: 0.5150 - val_accuracy: 0.7575\n",
      "Epoch 12/600\n",
      "10780/10784 [============================>.] - ETA: 0s - loss: 0.2143 - accuracy: 0.9013\n",
      "Epoch 00012: val_accuracy did not improve from 0.88957\n",
      "10784/10784 [==============================] - 20s 2ms/step - loss: 0.2143 - accuracy: 0.9013 - val_loss: 0.5668 - val_accuracy: 0.7368\n",
      "Epoch 13/600\n",
      "10777/10784 [============================>.] - ETA: 0s - loss: 0.2141 - accuracy: 0.9015\n",
      "Epoch 00013: val_accuracy did not improve from 0.88957\n",
      "10784/10784 [==============================] - 20s 2ms/step - loss: 0.2141 - accuracy: 0.9015 - val_loss: 0.5365 - val_accuracy: 0.7170\n",
      "Epoch 14/600\n",
      "10762/10784 [============================>.] - ETA: 0s - loss: 0.2128 - accuracy: 0.9020\n",
      "Epoch 00014: val_accuracy did not improve from 0.88957\n",
      "10784/10784 [==============================] - 20s 2ms/step - loss: 0.2127 - accuracy: 0.9020 - val_loss: 0.5789 - val_accuracy: 0.7245\n",
      "Epoch 15/600\n",
      "10766/10784 [============================>.] - ETA: 0s - loss: 0.2111 - accuracy: 0.9034\n",
      "Epoch 00015: val_accuracy did not improve from 0.88957\n",
      "10784/10784 [==============================] - 20s 2ms/step - loss: 0.2112 - accuracy: 0.9034 - val_loss: 0.5074 - val_accuracy: 0.7530\n",
      "Epoch 16/600\n",
      "10757/10784 [============================>.] - ETA: 0s - loss: 0.2110 - accuracy: 0.9037\n",
      "Epoch 00016: val_accuracy did not improve from 0.88957\n",
      "10784/10784 [==============================] - 20s 2ms/step - loss: 0.2110 - accuracy: 0.9037 - val_loss: 0.5570 - val_accuracy: 0.7355\n",
      "Epoch 17/600\n",
      "10784/10784 [==============================] - ETA: 0s - loss: 0.2106 - accuracy: 0.9036\n",
      "Epoch 00017: val_accuracy did not improve from 0.88957\n",
      "10784/10784 [==============================] - 20s 2ms/step - loss: 0.2106 - accuracy: 0.9036 - val_loss: 0.5628 - val_accuracy: 0.7264\n",
      "Epoch 18/600\n",
      "10767/10784 [============================>.] - ETA: 0s - loss: 0.2091 - accuracy: 0.9048\n",
      "Epoch 00018: val_accuracy did not improve from 0.88957\n",
      "10784/10784 [==============================] - 20s 2ms/step - loss: 0.2091 - accuracy: 0.9048 - val_loss: 0.5648 - val_accuracy: 0.7239\n",
      "Epoch 19/600\n",
      "10767/10784 [============================>.] - ETA: 0s - loss: 0.2086 - accuracy: 0.9051\n",
      "Epoch 00019: val_accuracy did not improve from 0.88957\n",
      "10784/10784 [==============================] - 20s 2ms/step - loss: 0.2085 - accuracy: 0.9051 - val_loss: 0.5911 - val_accuracy: 0.7317\n",
      "Epoch 20/600\n",
      "10773/10784 [============================>.] - ETA: 0s - loss: 0.2082 - accuracy: 0.9051\n",
      "Epoch 00020: val_accuracy did not improve from 0.88957\n",
      "10784/10784 [==============================] - 20s 2ms/step - loss: 0.2082 - accuracy: 0.9051 - val_loss: 0.5877 - val_accuracy: 0.7162\n",
      "Epoch 21/600\n",
      "10778/10784 [============================>.] - ETA: 0s - loss: 0.2076 - accuracy: 0.9054\n",
      "Epoch 00021: val_accuracy did not improve from 0.88957\n",
      "10784/10784 [==============================] - 21s 2ms/step - loss: 0.2076 - accuracy: 0.9054 - val_loss: 0.5363 - val_accuracy: 0.7399\n",
      "Epoch 22/600\n",
      "10766/10784 [============================>.] - ETA: 0s - loss: 0.2066 - accuracy: 0.9059\n",
      "Epoch 00022: val_accuracy did not improve from 0.88957\n",
      "10784/10784 [==============================] - 22s 2ms/step - loss: 0.2066 - accuracy: 0.9059 - val_loss: 0.5742 - val_accuracy: 0.7317\n",
      "Epoch 23/600\n",
      "10771/10784 [============================>.] - ETA: 0s - loss: 0.2060 - accuracy: 0.9061\n",
      "Epoch 00023: val_accuracy did not improve from 0.88957\n",
      "10784/10784 [==============================] - 20s 2ms/step - loss: 0.2060 - accuracy: 0.9061 - val_loss: 0.5490 - val_accuracy: 0.7335\n",
      "Epoch 24/600\n",
      "10782/10784 [============================>.] - ETA: 0s - loss: 0.2053 - accuracy: 0.9070\n",
      "Epoch 00024: val_accuracy did not improve from 0.88957\n",
      "10784/10784 [==============================] - 21s 2ms/step - loss: 0.2053 - accuracy: 0.9071 - val_loss: 0.5286 - val_accuracy: 0.7382\n",
      "Epoch 25/600\n",
      "10771/10784 [============================>.] - ETA: 0s - loss: 0.2044 - accuracy: 0.9072\n",
      "Epoch 00025: val_accuracy did not improve from 0.88957\n",
      "10784/10784 [==============================] - 20s 2ms/step - loss: 0.2044 - accuracy: 0.9072 - val_loss: 0.5750 - val_accuracy: 0.7332\n",
      "Epoch 26/600\n",
      "10774/10784 [============================>.] - ETA: 0s - loss: 0.2046 - accuracy: 0.9075\n",
      "Epoch 00026: val_accuracy did not improve from 0.88957\n",
      "10784/10784 [==============================] - 20s 2ms/step - loss: 0.2046 - accuracy: 0.9075 - val_loss: 0.5635 - val_accuracy: 0.7195\n",
      "Epoch 27/600\n",
      "10756/10784 [============================>.] - ETA: 0s - loss: 0.2042 - accuracy: 0.9075\n",
      "Epoch 00027: val_accuracy did not improve from 0.88957\n",
      "10784/10784 [==============================] - 20s 2ms/step - loss: 0.2042 - accuracy: 0.9075 - val_loss: 0.5135 - val_accuracy: 0.7476\n",
      "Epoch 28/600\n",
      "10780/10784 [============================>.] - ETA: 0s - loss: 0.2034 - accuracy: 0.9079\n",
      "Epoch 00028: val_accuracy did not improve from 0.88957\n",
      "10784/10784 [==============================] - 21s 2ms/step - loss: 0.2033 - accuracy: 0.9080 - val_loss: 0.5302 - val_accuracy: 0.7353\n"
     ]
    },
    {
     "name": "stdout",
     "output_type": "stream",
     "text": [
      "Epoch 29/600\n",
      "10779/10784 [============================>.] - ETA: 0s - loss: 0.2031 - accuracy: 0.9081\n",
      "Epoch 00029: val_accuracy did not improve from 0.88957\n",
      "10784/10784 [==============================] - 20s 2ms/step - loss: 0.2031 - accuracy: 0.9081 - val_loss: 0.4915 - val_accuracy: 0.7602\n",
      "Epoch 30/600\n",
      "10774/10784 [============================>.] - ETA: 0s - loss: 0.2021 - accuracy: 0.9090\n",
      "Epoch 00030: val_accuracy did not improve from 0.88957\n",
      "10784/10784 [==============================] - 20s 2ms/step - loss: 0.2021 - accuracy: 0.9090 - val_loss: 0.5224 - val_accuracy: 0.7451\n",
      "Epoch 31/600\n",
      "10757/10784 [============================>.] - ETA: 0s - loss: 0.2018 - accuracy: 0.9082\n",
      "Epoch 00031: val_accuracy did not improve from 0.88957\n",
      "10784/10784 [==============================] - 20s 2ms/step - loss: 0.2018 - accuracy: 0.9082 - val_loss: 0.5334 - val_accuracy: 0.7392\n",
      "Epoch 32/600\n",
      "10763/10784 [============================>.] - ETA: 0s - loss: 0.2011 - accuracy: 0.9091\n",
      "Epoch 00032: val_accuracy did not improve from 0.88957\n",
      "10784/10784 [==============================] - 23s 2ms/step - loss: 0.2011 - accuracy: 0.9090 - val_loss: 0.5110 - val_accuracy: 0.7623\n",
      "Epoch 33/600\n",
      "10781/10784 [============================>.] - ETA: 0s - loss: 0.2019 - accuracy: 0.9090\n",
      "Epoch 00033: val_accuracy did not improve from 0.88957\n",
      "10784/10784 [==============================] - 20s 2ms/step - loss: 0.2019 - accuracy: 0.9090 - val_loss: 0.4678 - val_accuracy: 0.7642\n",
      "Epoch 34/600\n",
      "10764/10784 [============================>.] - ETA: 0s - loss: 0.2008 - accuracy: 0.9095\n",
      "Epoch 00034: val_accuracy did not improve from 0.88957\n",
      "10784/10784 [==============================] - 21s 2ms/step - loss: 0.2008 - accuracy: 0.9095 - val_loss: 0.5285 - val_accuracy: 0.7427\n",
      "Epoch 35/600\n",
      "10778/10784 [============================>.] - ETA: 0s - loss: 0.2007 - accuracy: 0.9099\n",
      "Epoch 00035: val_accuracy did not improve from 0.88957\n",
      "10784/10784 [==============================] - 20s 2ms/step - loss: 0.2006 - accuracy: 0.9098 - val_loss: 0.5595 - val_accuracy: 0.7347\n",
      "Epoch 36/600\n",
      "10772/10784 [============================>.] - ETA: 0s - loss: 0.1998 - accuracy: 0.9101\n",
      "Epoch 00036: val_accuracy did not improve from 0.88957\n",
      "10784/10784 [==============================] - 21s 2ms/step - loss: 0.1998 - accuracy: 0.9101 - val_loss: 0.5574 - val_accuracy: 0.7296\n",
      "Epoch 37/600\n",
      "10784/10784 [==============================] - ETA: 0s - loss: 0.1997 - accuracy: 0.9095\n",
      "Epoch 00037: val_accuracy did not improve from 0.88957\n",
      "10784/10784 [==============================] - 21s 2ms/step - loss: 0.1997 - accuracy: 0.9095 - val_loss: 0.5488 - val_accuracy: 0.7438\n",
      "Epoch 38/600\n",
      "10780/10784 [============================>.] - ETA: 0s - loss: 0.1999 - accuracy: 0.9100\n",
      "Epoch 00038: val_accuracy did not improve from 0.88957\n",
      "10784/10784 [==============================] - 21s 2ms/step - loss: 0.1998 - accuracy: 0.9100 - val_loss: 0.5698 - val_accuracy: 0.7289\n",
      "Epoch 39/600\n",
      "10781/10784 [============================>.] - ETA: 0s - loss: 0.1988 - accuracy: 0.9107\n",
      "Epoch 00039: val_accuracy did not improve from 0.88957\n",
      "10784/10784 [==============================] - 21s 2ms/step - loss: 0.1988 - accuracy: 0.9107 - val_loss: 0.5135 - val_accuracy: 0.7606\n",
      "Epoch 40/600\n",
      "10774/10784 [============================>.] - ETA: 0s - loss: 0.1984 - accuracy: 0.9111\n",
      "Epoch 00040: val_accuracy did not improve from 0.88957\n",
      "10784/10784 [==============================] - 21s 2ms/step - loss: 0.1985 - accuracy: 0.9111 - val_loss: 0.5224 - val_accuracy: 0.7468\n",
      "Epoch 41/600\n",
      "10778/10784 [============================>.] - ETA: 0s - loss: 0.1989 - accuracy: 0.9105\n",
      "Epoch 00041: val_accuracy did not improve from 0.88957\n",
      "10784/10784 [==============================] - 21s 2ms/step - loss: 0.1989 - accuracy: 0.9105 - val_loss: 0.5310 - val_accuracy: 0.7539\n",
      "Epoch 42/600\n",
      "10782/10784 [============================>.] - ETA: 0s - loss: 0.1979 - accuracy: 0.9112\n",
      "Epoch 00042: val_accuracy did not improve from 0.88957\n",
      "10784/10784 [==============================] - 21s 2ms/step - loss: 0.1979 - accuracy: 0.9112 - val_loss: 0.6076 - val_accuracy: 0.7320\n",
      "Epoch 43/600\n",
      "10781/10784 [============================>.] - ETA: 0s - loss: 0.1976 - accuracy: 0.9110\n",
      "Epoch 00043: val_accuracy did not improve from 0.88957\n",
      "10784/10784 [==============================] - 21s 2ms/step - loss: 0.1975 - accuracy: 0.9110 - val_loss: 0.5251 - val_accuracy: 0.7538\n",
      "Epoch 44/600\n",
      "10764/10784 [============================>.] - ETA: 0s - loss: 0.1980 - accuracy: 0.9112\n",
      "Epoch 00044: val_accuracy did not improve from 0.88957\n",
      "10784/10784 [==============================] - 21s 2ms/step - loss: 0.1979 - accuracy: 0.9113 - val_loss: 0.6112 - val_accuracy: 0.7212\n",
      "Epoch 45/600\n",
      "10778/10784 [============================>.] - ETA: 0s - loss: 0.1967 - accuracy: 0.9123\n",
      "Epoch 00045: val_accuracy did not improve from 0.88957\n",
      "10784/10784 [==============================] - 21s 2ms/step - loss: 0.1967 - accuracy: 0.9123 - val_loss: 0.5463 - val_accuracy: 0.7451\n",
      "Epoch 46/600\n",
      "10781/10784 [============================>.] - ETA: 0s - loss: 0.1970 - accuracy: 0.9120\n",
      "Epoch 00046: val_accuracy did not improve from 0.88957\n",
      "10784/10784 [==============================] - 21s 2ms/step - loss: 0.1970 - accuracy: 0.9120 - val_loss: 0.5574 - val_accuracy: 0.7302\n",
      "Epoch 47/600\n",
      "10775/10784 [============================>.] - ETA: 0s - loss: 0.1967 - accuracy: 0.9118\n",
      "Epoch 00047: val_accuracy did not improve from 0.88957\n",
      "10784/10784 [==============================] - 21s 2ms/step - loss: 0.1967 - accuracy: 0.9118 - val_loss: 0.5506 - val_accuracy: 0.7465\n",
      "Epoch 48/600\n",
      "10774/10784 [============================>.] - ETA: 0s - loss: 0.1966 - accuracy: 0.9123\n",
      "Epoch 00048: val_accuracy did not improve from 0.88957\n",
      "10784/10784 [==============================] - 21s 2ms/step - loss: 0.1966 - accuracy: 0.9123 - val_loss: 0.5443 - val_accuracy: 0.7449\n",
      "Epoch 49/600\n",
      "10782/10784 [============================>.] - ETA: 0s - loss: 0.1973 - accuracy: 0.9112\n",
      "Epoch 00049: val_accuracy did not improve from 0.88957\n",
      "10784/10784 [==============================] - 21s 2ms/step - loss: 0.1973 - accuracy: 0.9112 - val_loss: 0.5250 - val_accuracy: 0.7502\n",
      "Epoch 50/600\n",
      "10782/10784 [============================>.] - ETA: 0s - loss: 0.1973 - accuracy: 0.9119\n",
      "Epoch 00050: val_accuracy did not improve from 0.88957\n",
      "10784/10784 [==============================] - 21s 2ms/step - loss: 0.1973 - accuracy: 0.9119 - val_loss: 0.5192 - val_accuracy: 0.7406\n",
      "Epoch 51/600\n",
      "10780/10784 [============================>.] - ETA: 0s - loss: 0.1966 - accuracy: 0.9119\n",
      "Epoch 00051: val_accuracy did not improve from 0.88957\n",
      "10784/10784 [==============================] - 20s 2ms/step - loss: 0.1966 - accuracy: 0.9119 - val_loss: 0.5492 - val_accuracy: 0.7414\n",
      "Epoch 52/600\n",
      "10773/10784 [============================>.] - ETA: 0s - loss: 0.1963 - accuracy: 0.9118\n",
      "Epoch 00052: val_accuracy did not improve from 0.88957\n",
      "10784/10784 [==============================] - 21s 2ms/step - loss: 0.1963 - accuracy: 0.9118 - val_loss: 0.5129 - val_accuracy: 0.7571\n",
      "Epoch 53/600\n",
      "10759/10784 [============================>.] - ETA: 0s - loss: 0.1965 - accuracy: 0.9118\n",
      "Epoch 00053: val_accuracy did not improve from 0.88957\n",
      "10784/10784 [==============================] - 21s 2ms/step - loss: 0.1965 - accuracy: 0.9118 - val_loss: 0.5976 - val_accuracy: 0.7214\n",
      "Epoch 54/600\n",
      "10764/10784 [============================>.] - ETA: 0s - loss: 0.1961 - accuracy: 0.9119\n",
      "Epoch 00054: val_accuracy did not improve from 0.88957\n",
      "10784/10784 [==============================] - 20s 2ms/step - loss: 0.1961 - accuracy: 0.9119 - val_loss: 0.5458 - val_accuracy: 0.7367\n",
      "Epoch 55/600\n",
      "10781/10784 [============================>.] - ETA: 0s - loss: 0.1958 - accuracy: 0.9125\n",
      "Epoch 00055: val_accuracy did not improve from 0.88957\n",
      "10784/10784 [==============================] - 21s 2ms/step - loss: 0.1958 - accuracy: 0.9125 - val_loss: 0.5759 - val_accuracy: 0.7287\n",
      "Epoch 56/600\n",
      "10775/10784 [============================>.] - ETA: 0s - loss: 0.1956 - accuracy: 0.9124\n",
      "Epoch 00056: val_accuracy did not improve from 0.88957\n",
      "10784/10784 [==============================] - 21s 2ms/step - loss: 0.1955 - accuracy: 0.9124 - val_loss: 0.5695 - val_accuracy: 0.7392\n"
     ]
    },
    {
     "name": "stdout",
     "output_type": "stream",
     "text": [
      "Epoch 57/600\n",
      "10764/10784 [============================>.] - ETA: 0s - loss: 0.1955 - accuracy: 0.9124\n",
      "Epoch 00057: val_accuracy did not improve from 0.88957\n",
      "10784/10784 [==============================] - 20s 2ms/step - loss: 0.1955 - accuracy: 0.9124 - val_loss: 0.5280 - val_accuracy: 0.7493\n",
      "Epoch 58/600\n",
      "10764/10784 [============================>.] - ETA: 0s - loss: 0.1954 - accuracy: 0.9125\n",
      "Epoch 00058: val_accuracy did not improve from 0.88957\n",
      "10784/10784 [==============================] - 22s 2ms/step - loss: 0.1954 - accuracy: 0.9124 - val_loss: 0.5748 - val_accuracy: 0.7332\n",
      "Epoch 00058: early stopping\n",
      "Execution time :  0:19:35.773169\n"
     ]
    }
   ],
   "source": [
    "init_time = datetime.now()\n",
    "optimizer = Adam()\n",
    "model = create_batch_normalization_model(optimizer)\n",
    "history = model.fit(x=X_sample, \n",
    "                    y=y_sample, \n",
    "                    epochs=600,\n",
    "                    batch_size=32,\n",
    "                    validation_data=(X_valid_norm, y_valid), verbose=1,\n",
    "                    callbacks=callbacks_list\n",
    "                   )\n",
    "fin_time = datetime.now()\n",
    "print(\"Execution time : \", (fin_time-init_time))"
   ]
  },
  {
   "cell_type": "code",
   "execution_count": 59,
   "metadata": {
    "hidden": true
   },
   "outputs": [
    {
     "name": "stdout",
     "output_type": "stream",
     "text": [
      "Optimizer: adam Training Loss: 0.918 Validation Accuracy:0.733\n"
     ]
    }
   ],
   "source": [
    "evaluate_model(X_sample, y_sample, X_valid_norm, y_valid, model, optimizers[3])"
   ]
  },
  {
   "cell_type": "code",
   "execution_count": 60,
   "metadata": {
    "hidden": true
   },
   "outputs": [
    {
     "data": {
      "image/png": "[encoded data removed]",
      "text/plain": [
       "<Figure size 1080x720 with 1 Axes>"
      ]
     },
     "metadata": {
      "needs_background": "light"
     },
     "output_type": "display_data"
    }
   ],
   "source": [
    "plot_loss(history, optimizers[3])"
   ]
  },
  {
   "cell_type": "code",
   "execution_count": 61,
   "metadata": {
    "hidden": true
   },
   "outputs": [
    {
     "data": {
      "image/png": "[encoded data removed]",
      "text/plain": [
       "<Figure size 1080x720 with 1 Axes>"
      ]
     },
     "metadata": {
      "needs_background": "light"
     },
     "output_type": "display_data"
    }
   ],
   "source": [
    "plot_accuracy(history, optimizers[3])"
   ]
  },
  {
   "cell_type": "code",
   "execution_count": 62,
   "metadata": {
    "hidden": true
   },
   "outputs": [],
   "source": [
    "predictions = model.predict_classes(X_test_norm)"
   ]
  },
  {
   "cell_type": "code",
   "execution_count": 63,
   "metadata": {
    "hidden": true
   },
   "outputs": [
    {
     "name": "stdout",
     "output_type": "stream",
     "text": [
      "              precision    recall  f1-score   support\n",
      "\n",
      "           0       0.96      0.69      0.80     63623\n",
      "           1       0.41      0.87      0.55     15421\n",
      "\n",
      "    accuracy                           0.73     79044\n",
      "   macro avg       0.68      0.78      0.68     79044\n",
      "weighted avg       0.85      0.73      0.75     79044\n",
      "\n"
     ]
    }
   ],
   "source": [
    "print(classification_report(y_test, predictions))"
   ]
  },
  {
   "cell_type": "code",
   "execution_count": 64,
   "metadata": {
    "hidden": true
   },
   "outputs": [
    {
     "name": "stdout",
     "output_type": "stream",
     "text": [
      "[[44084 19539]\n",
      " [ 2040 13381]]\n"
     ]
    }
   ],
   "source": [
    "print(confusion_matrix(y_test, predictions))"
   ]
  },
  {
   "cell_type": "markdown",
   "metadata": {
    "heading_collapsed": true
   },
   "source": [
    "### Experiment with Activity Regularization (L1) & Weight Regularization (L2) \n",
    "[0.100000, 0.010000, 0.001000, 0.000100, 0.000010, 0.000001]"
   ]
  },
  {
   "cell_type": "code",
   "execution_count": 196,
   "metadata": {
    "hidden": true
   },
   "outputs": [],
   "source": [
    "def create_model_with_L1L2():\n",
    "    # create model\n",
    "    model = Sequential()\n",
    "   \n",
    "    # Hidden Layers\n",
    "    #model.add(Dense(32, activation='linear', activity_regularizer=l1(0.001)))\n",
    "    #model.add(Activation('relu'))\n",
    "    #model.add(Dense(82, input_dim=n_input, activation='linear', kernel_regularizer=L1L2(l1=0.0, l2=0.0)))\n",
    "    #model.add(GaussianNoise(0.01, input_shape=(2,)))\n",
    "    #model.add(Dense(500, activation='relu'))\n",
    "    \n",
    "    model.add(Dense(82, input_dim=n_input, activation='relu', kernel_regularizer=L1L2(l1=0.0, l2=0.0)))\n",
    "    #model.add(Activation('relu'))\n",
    "    model.add(BatchNormalization())\n",
    "        \n",
    "    model.add(Dense(82, activation='relu', kernel_regularizer=L1L2(l1=0.0, l2=0.0)))\n",
    "    #model.add(Activation('relu'))\n",
    "    model.add(BatchNormalization())\n",
    "    \n",
    "    model.add(Dense(41, activation='relu', kernel_regularizer=L1L2(l1=0.0, l2=0.0)))\n",
    "    #model.add(Activation('relu'))\n",
    "    model.add(BatchNormalization())\n",
    "    \n",
    "    model.add(Dense(41, activation='relu', kernel_regularizer=L1L2(l1=0.0, l2=0.0)))\n",
    "    #model.add(Activation('relu'))\n",
    "    model.add(BatchNormalization())\n",
    "    \n",
    "    model.add(Dense(21, activation='relu', kernel_regularizer=L1L2(l1=0.0, l2=0.0)))\n",
    "    #model.add(Activation('relu'))\n",
    "    model.add(BatchNormalization())\n",
    "    \n",
    "    model.add(Dense(21, activation='relu', kernel_regularizer=L1L2(l1=0.0, l2=0.0)))\n",
    "    #model.add(Activation('relu'))\n",
    "    model.add(BatchNormalization())\n",
    "    \n",
    "    # Output Layer\n",
    "    model.add(Dense(1, activation='sigmoid'))   \n",
    "    # Compile model\n",
    "    model.compile(loss='binary_crossentropy', optimizer=Adam(), metrics=['accuracy'])\n",
    "    \n",
    "    return model"
   ]
  },
  {
   "cell_type": "code",
   "execution_count": 197,
   "metadata": {
    "hidden": true
   },
   "outputs": [
    {
     "name": "stdout",
     "output_type": "stream",
     "text": [
      "Epoch 1/600\n",
      "7899/7905 [============================>.] - ETA: 0s - loss: 0.2888 - accuracy: 0.8801\n",
      "Epoch 00001: val_accuracy did not improve from 0.88992\n",
      "7905/7905 [==============================] - 14s 2ms/step - loss: 0.2888 - accuracy: 0.8801 - val_loss: 0.2622 - val_accuracy: 0.8869\n",
      "Epoch 2/600\n",
      "7901/7905 [============================>.] - ETA: 0s - loss: 0.2653 - accuracy: 0.8878\n",
      "Epoch 00002: val_accuracy did not improve from 0.88992\n",
      "7905/7905 [==============================] - 16s 2ms/step - loss: 0.2653 - accuracy: 0.8878 - val_loss: 0.2610 - val_accuracy: 0.8870\n",
      "Epoch 3/600\n",
      "7896/7905 [============================>.] - ETA: 0s - loss: 0.2632 - accuracy: 0.8878\n",
      "Epoch 00003: val_accuracy did not improve from 0.88992\n",
      "7905/7905 [==============================] - 16s 2ms/step - loss: 0.2632 - accuracy: 0.8878 - val_loss: 0.2594 - val_accuracy: 0.8870\n",
      "Epoch 4/600\n",
      "7905/7905 [==============================] - ETA: 0s - loss: 0.2621 - accuracy: 0.8879\n",
      "Epoch 00004: val_accuracy did not improve from 0.88992\n",
      "7905/7905 [==============================] - 16s 2ms/step - loss: 0.2621 - accuracy: 0.8879 - val_loss: 0.2599 - val_accuracy: 0.8870\n",
      "Epoch 5/600\n",
      "7884/7905 [============================>.] - ETA: 0s - loss: 0.2609 - accuracy: 0.8878\n",
      "Epoch 00005: val_accuracy did not improve from 0.88992\n",
      "7905/7905 [==============================] - 17s 2ms/step - loss: 0.2609 - accuracy: 0.8878 - val_loss: 0.2593 - val_accuracy: 0.8876\n",
      "Epoch 6/600\n",
      "7900/7905 [============================>.] - ETA: 0s - loss: 0.2599 - accuracy: 0.8882\n",
      "Epoch 00006: val_accuracy did not improve from 0.88992\n",
      "7905/7905 [==============================] - 17s 2ms/step - loss: 0.2599 - accuracy: 0.8882 - val_loss: 0.2579 - val_accuracy: 0.8875\n",
      "Epoch 7/600\n",
      "7894/7905 [============================>.] - ETA: 0s - loss: 0.2592 - accuracy: 0.8878\n",
      "Epoch 00007: val_accuracy did not improve from 0.88992\n",
      "7905/7905 [==============================] - 18s 2ms/step - loss: 0.2591 - accuracy: 0.8879 - val_loss: 0.2579 - val_accuracy: 0.8875\n",
      "Epoch 8/600\n",
      "7882/7905 [============================>.] - ETA: 0s - loss: 0.2582 - accuracy: 0.8885\n",
      "Epoch 00008: val_accuracy did not improve from 0.88992\n",
      "7905/7905 [==============================] - 18s 2ms/step - loss: 0.2581 - accuracy: 0.8886 - val_loss: 0.2565 - val_accuracy: 0.8890\n",
      "Epoch 9/600\n",
      "7887/7905 [============================>.] - ETA: 0s - loss: 0.2580 - accuracy: 0.8885\n",
      "Epoch 00009: val_accuracy did not improve from 0.88992\n",
      "7905/7905 [==============================] - 18s 2ms/step - loss: 0.2580 - accuracy: 0.8885 - val_loss: 0.2561 - val_accuracy: 0.8888\n",
      "Epoch 10/600\n",
      "7883/7905 [============================>.] - ETA: 0s - loss: 0.2575 - accuracy: 0.8890\n",
      "Epoch 00010: val_accuracy did not improve from 0.88992\n",
      "7905/7905 [==============================] - 19s 2ms/step - loss: 0.2575 - accuracy: 0.8890 - val_loss: 0.2573 - val_accuracy: 0.8885\n",
      "Epoch 11/600\n",
      "7904/7905 [============================>.] - ETA: 0s - loss: 0.2571 - accuracy: 0.8887\n",
      "Epoch 00011: val_accuracy did not improve from 0.88992\n",
      "7905/7905 [==============================] - 18s 2ms/step - loss: 0.2571 - accuracy: 0.8887 - val_loss: 0.2564 - val_accuracy: 0.8892\n",
      "Epoch 12/600\n",
      "7888/7905 [============================>.] - ETA: 0s - loss: 0.2566 - accuracy: 0.8890\n",
      "Epoch 00012: val_accuracy did not improve from 0.88992\n",
      "7905/7905 [==============================] - 20s 2ms/step - loss: 0.2566 - accuracy: 0.8890 - val_loss: 0.2558 - val_accuracy: 0.8893\n",
      "Epoch 13/600\n",
      "7895/7905 [============================>.] - ETA: 0s - loss: 0.2566 - accuracy: 0.8890\n",
      "Epoch 00013: val_accuracy did not improve from 0.88992\n",
      "7905/7905 [==============================] - 19s 2ms/step - loss: 0.2566 - accuracy: 0.8890 - val_loss: 0.2565 - val_accuracy: 0.8890\n",
      "Epoch 14/600\n",
      "7899/7905 [============================>.] - ETA: 0s - loss: 0.2564 - accuracy: 0.8890\n",
      "Epoch 00014: val_accuracy did not improve from 0.88992\n",
      "7905/7905 [==============================] - 19s 2ms/step - loss: 0.2563 - accuracy: 0.8890 - val_loss: 0.2567 - val_accuracy: 0.8890\n",
      "Epoch 15/600\n",
      "7896/7905 [============================>.] - ETA: 0s - loss: 0.2558 - accuracy: 0.8894\n",
      "Epoch 00015: val_accuracy did not improve from 0.88992\n",
      "7905/7905 [==============================] - 19s 2ms/step - loss: 0.2558 - accuracy: 0.8894 - val_loss: 0.2561 - val_accuracy: 0.8891\n",
      "Epoch 16/600\n",
      "7886/7905 [============================>.] - ETA: 0s - loss: 0.2553 - accuracy: 0.8893\n",
      "Epoch 00016: val_accuracy did not improve from 0.88992\n",
      "7905/7905 [==============================] - 19s 2ms/step - loss: 0.2552 - accuracy: 0.8893 - val_loss: 0.2566 - val_accuracy: 0.8885\n",
      "Epoch 17/600\n",
      "7885/7905 [============================>.] - ETA: 0s - loss: 0.2551 - accuracy: 0.8895\n",
      "Epoch 00017: val_accuracy did not improve from 0.88992\n",
      "7905/7905 [==============================] - 19s 2ms/step - loss: 0.2551 - accuracy: 0.8896 - val_loss: 0.2570 - val_accuracy: 0.8893\n",
      "Epoch 18/600\n",
      "7899/7905 [============================>.] - ETA: 0s - loss: 0.2549 - accuracy: 0.8894\n",
      "Epoch 00018: val_accuracy did not improve from 0.88992\n",
      "7905/7905 [==============================] - 19s 2ms/step - loss: 0.2549 - accuracy: 0.8895 - val_loss: 0.2556 - val_accuracy: 0.8893\n",
      "Epoch 19/600\n",
      "7894/7905 [============================>.] - ETA: 0s - loss: 0.2547 - accuracy: 0.8894\n",
      "Epoch 00019: val_accuracy did not improve from 0.88992\n",
      "7905/7905 [==============================] - 19s 2ms/step - loss: 0.2546 - accuracy: 0.8894 - val_loss: 0.2576 - val_accuracy: 0.8874\n",
      "Epoch 20/600\n",
      "7897/7905 [============================>.] - ETA: 0s - loss: 0.2540 - accuracy: 0.8897\n",
      "Epoch 00020: val_accuracy did not improve from 0.88992\n",
      "7905/7905 [==============================] - 19s 2ms/step - loss: 0.2541 - accuracy: 0.8897 - val_loss: 0.2565 - val_accuracy: 0.8891\n",
      "Epoch 21/600\n",
      "7895/7905 [============================>.] - ETA: 0s - loss: 0.2539 - accuracy: 0.8898\n",
      "Epoch 00021: val_accuracy did not improve from 0.88992\n",
      "7905/7905 [==============================] - 19s 2ms/step - loss: 0.2538 - accuracy: 0.8898 - val_loss: 0.2558 - val_accuracy: 0.8890\n",
      "Epoch 22/600\n",
      "7888/7905 [============================>.] - ETA: 0s - loss: 0.2540 - accuracy: 0.8897\n",
      "Epoch 00022: val_accuracy did not improve from 0.88992\n",
      "7905/7905 [==============================] - 19s 2ms/step - loss: 0.2540 - accuracy: 0.8898 - val_loss: 0.2559 - val_accuracy: 0.8887\n",
      "Epoch 23/600\n",
      "7896/7905 [============================>.] - ETA: 0s - loss: 0.2536 - accuracy: 0.8897\n",
      "Epoch 00023: val_accuracy did not improve from 0.88992\n",
      "7905/7905 [==============================] - 19s 2ms/step - loss: 0.2536 - accuracy: 0.8896 - val_loss: 0.2557 - val_accuracy: 0.8886\n",
      "Epoch 24/600\n",
      "7884/7905 [============================>.] - ETA: 0s - loss: 0.2534 - accuracy: 0.8899\n",
      "Epoch 00024: val_accuracy did not improve from 0.88992\n",
      "7905/7905 [==============================] - 19s 2ms/step - loss: 0.2534 - accuracy: 0.8899 - val_loss: 0.2564 - val_accuracy: 0.8886\n",
      "Epoch 25/600\n",
      "7895/7905 [============================>.] - ETA: 0s - loss: 0.2531 - accuracy: 0.8902\n",
      "Epoch 00025: val_accuracy did not improve from 0.88992\n",
      "7905/7905 [==============================] - 19s 2ms/step - loss: 0.2531 - accuracy: 0.8902 - val_loss: 0.2571 - val_accuracy: 0.8875\n",
      "Epoch 26/600\n",
      "7901/7905 [============================>.] - ETA: 0s - loss: 0.2528 - accuracy: 0.8900\n",
      "Epoch 00026: val_accuracy did not improve from 0.88992\n",
      "7905/7905 [==============================] - 19s 2ms/step - loss: 0.2528 - accuracy: 0.8900 - val_loss: 0.2553 - val_accuracy: 0.8889\n",
      "Epoch 27/600\n",
      "7900/7905 [============================>.] - ETA: 0s - loss: 0.2526 - accuracy: 0.8904\n",
      "Epoch 00027: val_accuracy did not improve from 0.88992\n",
      "7905/7905 [==============================] - 19s 2ms/step - loss: 0.2526 - accuracy: 0.8905 - val_loss: 0.2560 - val_accuracy: 0.8893\n",
      "Epoch 28/600\n",
      "7900/7905 [============================>.] - ETA: 0s - loss: 0.2522 - accuracy: 0.8898\n",
      "Epoch 00028: val_accuracy did not improve from 0.88992\n",
      "7905/7905 [==============================] - 23s 3ms/step - loss: 0.2522 - accuracy: 0.8898 - val_loss: 0.2560 - val_accuracy: 0.8888\n",
      "Epoch 29/600\n",
      "7884/7905 [============================>.] - ETA: 0s - loss: 0.2524 - accuracy: 0.8903\n",
      "Epoch 00029: val_accuracy did not improve from 0.88992\n",
      "7905/7905 [==============================] - 20s 3ms/step - loss: 0.2525 - accuracy: 0.8903 - val_loss: 0.2559 - val_accuracy: 0.8882\n"
     ]
    },
    {
     "name": "stdout",
     "output_type": "stream",
     "text": [
      "Epoch 30/600\n",
      "7902/7905 [============================>.] - ETA: 0s - loss: 0.2519 - accuracy: 0.8906\n",
      "Epoch 00030: val_accuracy did not improve from 0.88992\n",
      "7905/7905 [==============================] - 19s 2ms/step - loss: 0.2520 - accuracy: 0.8906 - val_loss: 0.2563 - val_accuracy: 0.8894\n",
      "Epoch 31/600\n",
      "7899/7905 [============================>.] - ETA: 0s - loss: 0.2518 - accuracy: 0.8905\n",
      "Epoch 00031: val_accuracy did not improve from 0.88992\n",
      "7905/7905 [==============================] - 19s 2ms/step - loss: 0.2518 - accuracy: 0.8905 - val_loss: 0.2558 - val_accuracy: 0.8888\n",
      "Epoch 32/600\n",
      "7885/7905 [============================>.] - ETA: 0s - loss: 0.2518 - accuracy: 0.8905\n",
      "Epoch 00032: val_accuracy did not improve from 0.88992\n",
      "7905/7905 [==============================] - 19s 2ms/step - loss: 0.2518 - accuracy: 0.8905 - val_loss: 0.2563 - val_accuracy: 0.8889\n",
      "Epoch 33/600\n",
      "7892/7905 [============================>.] - ETA: 0s - loss: 0.2513 - accuracy: 0.8908\n",
      "Epoch 00033: val_accuracy did not improve from 0.88992\n",
      "7905/7905 [==============================] - 19s 2ms/step - loss: 0.2512 - accuracy: 0.8908 - val_loss: 0.2576 - val_accuracy: 0.8890\n",
      "Epoch 34/600\n",
      "7885/7905 [============================>.] - ETA: 0s - loss: 0.2513 - accuracy: 0.8908\n",
      "Epoch 00034: val_accuracy did not improve from 0.88992\n",
      "7905/7905 [==============================] - 19s 2ms/step - loss: 0.2513 - accuracy: 0.8908 - val_loss: 0.2569 - val_accuracy: 0.8886\n",
      "Epoch 35/600\n",
      "7896/7905 [============================>.] - ETA: 0s - loss: 0.2511 - accuracy: 0.8910\n",
      "Epoch 00035: val_accuracy did not improve from 0.88992\n",
      "7905/7905 [==============================] - 19s 2ms/step - loss: 0.2510 - accuracy: 0.8910 - val_loss: 0.2584 - val_accuracy: 0.8887\n",
      "Epoch 36/600\n",
      "7892/7905 [============================>.] - ETA: 0s - loss: 0.2512 - accuracy: 0.8912\n",
      "Epoch 00036: val_accuracy did not improve from 0.88992\n",
      "7905/7905 [==============================] - 19s 2ms/step - loss: 0.2512 - accuracy: 0.8911 - val_loss: 0.2569 - val_accuracy: 0.8885\n",
      "Epoch 37/600\n",
      "7904/7905 [============================>.] - ETA: 0s - loss: 0.2508 - accuracy: 0.8906\n",
      "Epoch 00037: val_accuracy did not improve from 0.88992\n",
      "7905/7905 [==============================] - 20s 2ms/step - loss: 0.2508 - accuracy: 0.8906 - val_loss: 0.2564 - val_accuracy: 0.8890\n",
      "Epoch 38/600\n",
      "7899/7905 [============================>.] - ETA: 0s - loss: 0.2508 - accuracy: 0.8909\n",
      "Epoch 00038: val_accuracy did not improve from 0.88992\n",
      "7905/7905 [==============================] - 20s 2ms/step - loss: 0.2508 - accuracy: 0.8909 - val_loss: 0.2568 - val_accuracy: 0.8891\n",
      "Epoch 39/600\n",
      "7903/7905 [============================>.] - ETA: 0s - loss: 0.2506 - accuracy: 0.8912\n",
      "Epoch 00039: val_accuracy did not improve from 0.88992\n",
      "7905/7905 [==============================] - 19s 2ms/step - loss: 0.2505 - accuracy: 0.8912 - val_loss: 0.2566 - val_accuracy: 0.8884\n",
      "Epoch 40/600\n",
      "7904/7905 [============================>.] - ETA: 0s - loss: 0.2501 - accuracy: 0.8913\n",
      "Epoch 00040: val_accuracy did not improve from 0.88992\n",
      "7905/7905 [==============================] - 19s 2ms/step - loss: 0.2501 - accuracy: 0.8913 - val_loss: 0.2571 - val_accuracy: 0.8886\n",
      "Epoch 41/600\n",
      "7892/7905 [============================>.] - ETA: 0s - loss: 0.2501 - accuracy: 0.8913\n",
      "Epoch 00041: val_accuracy did not improve from 0.88992\n",
      "7905/7905 [==============================] - 19s 2ms/step - loss: 0.2501 - accuracy: 0.8913 - val_loss: 0.2584 - val_accuracy: 0.8881\n",
      "Epoch 42/600\n",
      "7903/7905 [============================>.] - ETA: 0s - loss: 0.2502 - accuracy: 0.8914\n",
      "Epoch 00042: val_accuracy did not improve from 0.88992\n",
      "7905/7905 [==============================] - 19s 2ms/step - loss: 0.2502 - accuracy: 0.8914 - val_loss: 0.2575 - val_accuracy: 0.8885\n",
      "Epoch 43/600\n",
      "7901/7905 [============================>.] - ETA: 0s - loss: 0.2500 - accuracy: 0.8912\n",
      "Epoch 00043: val_accuracy did not improve from 0.88992\n",
      "7905/7905 [==============================] - 19s 2ms/step - loss: 0.2500 - accuracy: 0.8912 - val_loss: 0.2569 - val_accuracy: 0.8881\n",
      "Epoch 44/600\n",
      "7887/7905 [============================>.] - ETA: 0s - loss: 0.2498 - accuracy: 0.8911\n",
      "Epoch 00044: val_accuracy did not improve from 0.88992\n",
      "7905/7905 [==============================] - 19s 2ms/step - loss: 0.2497 - accuracy: 0.8912 - val_loss: 0.2575 - val_accuracy: 0.8885\n",
      "Epoch 45/600\n",
      "7898/7905 [============================>.] - ETA: 0s - loss: 0.2497 - accuracy: 0.8914\n",
      "Epoch 00045: val_accuracy did not improve from 0.88992\n",
      "7905/7905 [==============================] - 19s 2ms/step - loss: 0.2497 - accuracy: 0.8914 - val_loss: 0.2572 - val_accuracy: 0.8884\n",
      "Epoch 46/600\n",
      "7894/7905 [============================>.] - ETA: 0s - loss: 0.2492 - accuracy: 0.8916\n",
      "Epoch 00046: val_accuracy did not improve from 0.88992\n",
      "7905/7905 [==============================] - 19s 2ms/step - loss: 0.2492 - accuracy: 0.8915 - val_loss: 0.2577 - val_accuracy: 0.8863\n",
      "Epoch 47/600\n",
      "7896/7905 [============================>.] - ETA: 0s - loss: 0.2494 - accuracy: 0.8916\n",
      "Epoch 00047: val_accuracy did not improve from 0.88992\n",
      "7905/7905 [==============================] - 19s 2ms/step - loss: 0.2494 - accuracy: 0.8916 - val_loss: 0.2570 - val_accuracy: 0.8882\n",
      "Epoch 48/600\n",
      "7903/7905 [============================>.] - ETA: 0s - loss: 0.2491 - accuracy: 0.8915\n",
      "Epoch 00048: val_accuracy did not improve from 0.88992\n",
      "7905/7905 [==============================] - 20s 2ms/step - loss: 0.2491 - accuracy: 0.8915 - val_loss: 0.2574 - val_accuracy: 0.8879\n",
      "Epoch 49/600\n",
      "7896/7905 [============================>.] - ETA: 0s - loss: 0.2489 - accuracy: 0.8915\n",
      "Epoch 00049: val_accuracy did not improve from 0.88992\n",
      "7905/7905 [==============================] - 19s 2ms/step - loss: 0.2490 - accuracy: 0.8915 - val_loss: 0.2577 - val_accuracy: 0.8884\n",
      "Epoch 50/600\n",
      "7893/7905 [============================>.] - ETA: 0s - loss: 0.2486 - accuracy: 0.8918\n",
      "Epoch 00050: val_accuracy did not improve from 0.88992\n",
      "7905/7905 [==============================] - 19s 2ms/step - loss: 0.2486 - accuracy: 0.8918 - val_loss: 0.2597 - val_accuracy: 0.8877\n",
      "Epoch 51/600\n",
      "7891/7905 [============================>.] - ETA: 0s - loss: 0.2484 - accuracy: 0.8917\n",
      "Epoch 00051: val_accuracy did not improve from 0.88992\n",
      "7905/7905 [==============================] - 20s 2ms/step - loss: 0.2484 - accuracy: 0.8917 - val_loss: 0.2582 - val_accuracy: 0.8877\n",
      "Epoch 00051: early stopping\n",
      "Execution time :  0:15:58.213170\n"
     ]
    }
   ],
   "source": [
    "init_time = datetime.now()\n",
    "model = create_model_with_L1L2()\n",
    "history = model.fit(x=X_train_norm, \n",
    "                    y=y_train, \n",
    "                    epochs=600,\n",
    "                    batch_size=32,\n",
    "                    validation_data=(X_valid_norm, y_valid), verbose=1,\n",
    "                    callbacks=callbacks_list\n",
    "                   )\n",
    "fin_time = datetime.now()\n",
    "print(\"Execution time : \", (fin_time-init_time))"
   ]
  },
  {
   "cell_type": "code",
   "execution_count": 198,
   "metadata": {
    "hidden": true
   },
   "outputs": [
    {
     "name": "stdout",
     "output_type": "stream",
     "text": [
      "Optimizer: adam Training Loss: 0.894 Validation Accuracy:0.888\n"
     ]
    }
   ],
   "source": [
    "evaluate_model(X_train_norm, y_train, X_valid_norm, y_valid, model, optimizers[3])\n",
    "#Training Loss: 0.892 Validation Accuracy:0.889"
   ]
  },
  {
   "cell_type": "code",
   "execution_count": 199,
   "metadata": {
    "hidden": true
   },
   "outputs": [
    {
     "data": {
      "image/png": "[encoded data removed]",
      "text/plain": [
       "<Figure size 1080x720 with 1 Axes>"
      ]
     },
     "metadata": {
      "needs_background": "light"
     },
     "output_type": "display_data"
    }
   ],
   "source": [
    "plot_loss(history, optimizers[3])"
   ]
  },
  {
   "cell_type": "code",
   "execution_count": 200,
   "metadata": {
    "hidden": true
   },
   "outputs": [
    {
     "data": {
      "image/png": "[encoded data removed]",
      "text/plain": [
       "<Figure size 1080x720 with 1 Axes>"
      ]
     },
     "metadata": {
      "needs_background": "light"
     },
     "output_type": "display_data"
    }
   ],
   "source": [
    "plot_accuracy(history, optimizers[3])"
   ]
  },
  {
   "cell_type": "code",
   "execution_count": 201,
   "metadata": {
    "hidden": true
   },
   "outputs": [],
   "source": [
    "predictions = model.predict_classes(X_test_norm)"
   ]
  },
  {
   "cell_type": "code",
   "execution_count": 202,
   "metadata": {
    "hidden": true
   },
   "outputs": [
    {
     "name": "stdout",
     "output_type": "stream",
     "text": [
      "              precision    recall  f1-score   support\n",
      "\n",
      "           0       0.89      0.99      0.93     63623\n",
      "           1       0.90      0.48      0.63     15421\n",
      "\n",
      "    accuracy                           0.89     79044\n",
      "   macro avg       0.90      0.73      0.78     79044\n",
      "weighted avg       0.89      0.89      0.87     79044\n",
      "\n"
     ]
    }
   ],
   "source": [
    "print(classification_report(y_test, predictions))"
   ]
  },
  {
   "cell_type": "code",
   "execution_count": 203,
   "metadata": {
    "hidden": true
   },
   "outputs": [
    {
     "name": "stdout",
     "output_type": "stream",
     "text": [
      "[[62832   791]\n",
      " [ 7993  7428]]\n"
     ]
    }
   ],
   "source": [
    "print(confusion_matrix(y_test, predictions))\n",
    "#[[63021   602]\n",
    "# [ 8146  7275]]"
   ]
  },
  {
   "cell_type": "markdown",
   "metadata": {
    "heading_collapsed": true
   },
   "source": [
    "### Experiment with Noise Regularization"
   ]
  },
  {
   "cell_type": "code",
   "execution_count": 24,
   "metadata": {
    "hidden": true
   },
   "outputs": [],
   "source": [
    "def create_model_with_noise():\n",
    "    # create model\n",
    "    model = Sequential()\n",
    "   \n",
    "    # Hidden Layers\n",
    "    #model.add(Dense(32, activation='linear', activity_regularizer=l1(0.001)))\n",
    "    #model.add(Activation('relu'))\n",
    "    #model.add(Dense(82, input_dim=n_input, activation='linear', kernel_regularizer=L1L2(l1=0.0, l2=0.0)))\n",
    "    #model.add(GaussianNoise(0.01, input_shape=(2,)))\n",
    "    #model.add(Dense(500, activation='relu'))\n",
    "    \n",
    "    model.add(GaussianNoise(0.01, input_shape=(n_input,)))\n",
    "    #model.add(Dense(164, input_dim=n_input, activation='relu', kernel_regularizer=L1L2(l1=0.000001, l2=0.0)))\n",
    "    model.add(Dense(164, activation='relu', kernel_regularizer=L1L2(l1=0.0, l2=0.0)))\n",
    "    #model.add(Activation('relu'))\n",
    "    model.add(BatchNormalization())\n",
    "        \n",
    "    model.add(Dense(164, activation='relu', kernel_regularizer=L1L2(l1=0.0, l2=0.0)))\n",
    "    #model.add(Activation('relu'))\n",
    "    model.add(BatchNormalization())\n",
    "    \n",
    "    model.add(Dense(82, activation='relu', kernel_regularizer=L1L2(l1=0.0, l2=0.0)))\n",
    "    #model.add(Activation('relu'))\n",
    "    model.add(BatchNormalization())\n",
    "    \n",
    "    model.add(Dense(82, activation='relu', kernel_regularizer=L1L2(l1=0.0, l2=0.0)))\n",
    "    #model.add(Activation('relu'))\n",
    "    model.add(BatchNormalization())\n",
    "    \n",
    "    model.add(Dense(41, activation='relu', kernel_regularizer=L1L2(l1=0.0, l2=0.0)))\n",
    "    #model.add(Activation('relu'))\n",
    "    model.add(BatchNormalization())\n",
    "    \n",
    "    model.add(Dense(41, activation='relu', kernel_regularizer=L1L2(l1=0.0, l2=0.0)))\n",
    "    #model.add(Activation('relu'))\n",
    "    model.add(BatchNormalization())\n",
    "    \n",
    "    model.add(Dense(21, activation='relu', kernel_regularizer=L1L2(l1=0.0, l2=0.0)))\n",
    "    #model.add(Activation('relu'))\n",
    "    model.add(BatchNormalization())\n",
    "    \n",
    "    model.add(Dense(21, activation='relu', kernel_regularizer=L1L2(l1=0.0, l2=0.0)))\n",
    "    #model.add(Activation('relu'))\n",
    "    model.add(BatchNormalization())\n",
    "    \n",
    "    # Output Layer\n",
    "    model.add(Dense(1, activation='sigmoid'))   \n",
    "    # Compile model\n",
    "    model.compile(loss='binary_crossentropy', optimizer=Adam(), metrics=['accuracy'])\n",
    "    \n",
    "    return model"
   ]
  },
  {
   "cell_type": "code",
   "execution_count": 27,
   "metadata": {
    "hidden": true
   },
   "outputs": [
    {
     "name": "stdout",
     "output_type": "stream",
     "text": [
      "Epoch 1/600\n",
      "7896/7905 [============================>.] - ETA: 0s - loss: 0.2877 - accuracy: 0.8805\n",
      "Epoch 00001: val_accuracy improved from -inf to 0.88247, saving model to weights.best.hdf5\n",
      "7905/7905 [==============================] - 26s 3ms/step - loss: 0.2877 - accuracy: 0.8804 - val_loss: 0.2654 - val_accuracy: 0.8825\n",
      "Epoch 2/600\n",
      "7902/7905 [============================>.] - ETA: 0s - loss: 0.2663 - accuracy: 0.8875\n",
      "Epoch 00002: val_accuracy improved from 0.88247 to 0.88702, saving model to weights.best.hdf5\n",
      "7905/7905 [==============================] - 30s 4ms/step - loss: 0.2663 - accuracy: 0.8875 - val_loss: 0.2605 - val_accuracy: 0.8870\n",
      "Epoch 3/600\n",
      "7904/7905 [============================>.] - ETA: 0s - loss: 0.2643 - accuracy: 0.8876\n",
      "Epoch 00003: val_accuracy did not improve from 0.88702\n",
      "7905/7905 [==============================] - 32s 4ms/step - loss: 0.2643 - accuracy: 0.8876 - val_loss: 0.2614 - val_accuracy: 0.8869\n",
      "Epoch 4/600\n",
      "7894/7905 [============================>.] - ETA: 0s - loss: 0.2629 - accuracy: 0.8876\n",
      "Epoch 00004: val_accuracy did not improve from 0.88702\n",
      "7905/7905 [==============================] - 33s 4ms/step - loss: 0.2629 - accuracy: 0.8876 - val_loss: 0.2604 - val_accuracy: 0.8869\n",
      "Epoch 5/600\n",
      "7904/7905 [============================>.] - ETA: 0s - loss: 0.2618 - accuracy: 0.8879\n",
      "Epoch 00005: val_accuracy improved from 0.88702 to 0.88791, saving model to weights.best.hdf5\n",
      "7905/7905 [==============================] - 34s 4ms/step - loss: 0.2618 - accuracy: 0.8879 - val_loss: 0.2584 - val_accuracy: 0.8879\n",
      "Epoch 6/600\n",
      "7905/7905 [==============================] - ETA: 0s - loss: 0.2610 - accuracy: 0.8878\n",
      "Epoch 00006: val_accuracy improved from 0.88791 to 0.88827, saving model to weights.best.hdf5\n",
      "7905/7905 [==============================] - 36s 5ms/step - loss: 0.2610 - accuracy: 0.8878 - val_loss: 0.2587 - val_accuracy: 0.8883\n",
      "Epoch 7/600\n",
      "7898/7905 [============================>.] - ETA: 0s - loss: 0.2604 - accuracy: 0.8879\n",
      "Epoch 00007: val_accuracy did not improve from 0.88827\n",
      "7905/7905 [==============================] - 34s 4ms/step - loss: 0.2604 - accuracy: 0.8879 - val_loss: 0.2584 - val_accuracy: 0.8878\n",
      "Epoch 8/600\n",
      "7894/7905 [============================>.] - ETA: 0s - loss: 0.2597 - accuracy: 0.8879\n",
      "Epoch 00008: val_accuracy did not improve from 0.88827\n",
      "7905/7905 [==============================] - 33s 4ms/step - loss: 0.2597 - accuracy: 0.8879 - val_loss: 0.2575 - val_accuracy: 0.8879\n",
      "Epoch 9/600\n",
      "7894/7905 [============================>.] - ETA: 0s - loss: 0.2593 - accuracy: 0.8879\n",
      "Epoch 00009: val_accuracy did not improve from 0.88827\n",
      "7905/7905 [==============================] - 35s 4ms/step - loss: 0.2593 - accuracy: 0.8879 - val_loss: 0.2581 - val_accuracy: 0.8874\n",
      "Epoch 10/600\n",
      "7898/7905 [============================>.] - ETA: 0s - loss: 0.2587 - accuracy: 0.8879\n",
      "Epoch 00010: val_accuracy did not improve from 0.88827\n",
      "7905/7905 [==============================] - 35s 4ms/step - loss: 0.2587 - accuracy: 0.8879 - val_loss: 0.2594 - val_accuracy: 0.8878\n",
      "Epoch 11/600\n",
      "7896/7905 [============================>.] - ETA: 0s - loss: 0.2581 - accuracy: 0.8884\n",
      "Epoch 00011: val_accuracy did not improve from 0.88827\n",
      "7905/7905 [==============================] - 35s 4ms/step - loss: 0.2582 - accuracy: 0.8884 - val_loss: 0.2586 - val_accuracy: 0.8878\n",
      "Epoch 12/600\n",
      "7902/7905 [============================>.] - ETA: 0s - loss: 0.2581 - accuracy: 0.8881\n",
      "Epoch 00012: val_accuracy did not improve from 0.88827\n",
      "7905/7905 [==============================] - 42s 5ms/step - loss: 0.2582 - accuracy: 0.8881 - val_loss: 0.2591 - val_accuracy: 0.8869\n",
      "Epoch 13/600\n",
      "7899/7905 [============================>.] - ETA: 0s - loss: 0.2576 - accuracy: 0.8887\n",
      "Epoch 00013: val_accuracy did not improve from 0.88827\n",
      "7905/7905 [==============================] - 35s 4ms/step - loss: 0.2576 - accuracy: 0.8887 - val_loss: 0.2576 - val_accuracy: 0.8879\n",
      "Epoch 14/600\n",
      "7900/7905 [============================>.] - ETA: 0s - loss: 0.2573 - accuracy: 0.8885\n",
      "Epoch 00014: val_accuracy did not improve from 0.88827\n",
      "7905/7905 [==============================] - 33s 4ms/step - loss: 0.2573 - accuracy: 0.8885 - val_loss: 0.2592 - val_accuracy: 0.8875\n",
      "Epoch 15/600\n",
      "7895/7905 [============================>.] - ETA: 0s - loss: 0.2574 - accuracy: 0.8886\n",
      "Epoch 00015: val_accuracy did not improve from 0.88827\n",
      "7905/7905 [==============================] - 33s 4ms/step - loss: 0.2573 - accuracy: 0.8886 - val_loss: 0.2584 - val_accuracy: 0.8881\n",
      "Epoch 16/600\n",
      "7903/7905 [============================>.] - ETA: 0s - loss: 0.2566 - accuracy: 0.8885\n",
      "Epoch 00016: val_accuracy did not improve from 0.88827\n",
      "7905/7905 [==============================] - 34s 4ms/step - loss: 0.2566 - accuracy: 0.8885 - val_loss: 0.2583 - val_accuracy: 0.8875\n",
      "Epoch 17/600\n",
      "7900/7905 [============================>.] - ETA: 0s - loss: 0.2566 - accuracy: 0.8887\n",
      "Epoch 00017: val_accuracy improved from 0.88827 to 0.88837, saving model to weights.best.hdf5\n",
      "7905/7905 [==============================] - 34s 4ms/step - loss: 0.2567 - accuracy: 0.8887 - val_loss: 0.2574 - val_accuracy: 0.8884\n",
      "Epoch 18/600\n",
      "7893/7905 [============================>.] - ETA: 0s - loss: 0.2562 - accuracy: 0.8891\n",
      "Epoch 00018: val_accuracy improved from 0.88837 to 0.88846, saving model to weights.best.hdf5\n",
      "7905/7905 [==============================] - 33s 4ms/step - loss: 0.2562 - accuracy: 0.8891 - val_loss: 0.2583 - val_accuracy: 0.8885\n",
      "Epoch 19/600\n",
      "7898/7905 [============================>.] - ETA: 0s - loss: 0.2563 - accuracy: 0.8890\n",
      "Epoch 00019: val_accuracy did not improve from 0.88846\n",
      "7905/7905 [==============================] - 33s 4ms/step - loss: 0.2563 - accuracy: 0.8890 - val_loss: 0.2592 - val_accuracy: 0.8876\n",
      "Epoch 20/600\n",
      "7905/7905 [==============================] - ETA: 0s - loss: 0.2562 - accuracy: 0.8892\n",
      "Epoch 00020: val_accuracy did not improve from 0.88846\n",
      "7905/7905 [==============================] - 34s 4ms/step - loss: 0.2562 - accuracy: 0.8892 - val_loss: 0.2583 - val_accuracy: 0.8884\n",
      "Epoch 21/600\n",
      "7899/7905 [============================>.] - ETA: 0s - loss: 0.2557 - accuracy: 0.8893\n",
      "Epoch 00021: val_accuracy did not improve from 0.88846\n",
      "7905/7905 [==============================] - 35s 4ms/step - loss: 0.2557 - accuracy: 0.8893 - val_loss: 0.2583 - val_accuracy: 0.8882\n",
      "Epoch 22/600\n",
      "7897/7905 [============================>.] - ETA: 0s - loss: 0.2554 - accuracy: 0.8891\n",
      "Epoch 00022: val_accuracy improved from 0.88846 to 0.88886, saving model to weights.best.hdf5\n",
      "7905/7905 [==============================] - 33s 4ms/step - loss: 0.2555 - accuracy: 0.8890 - val_loss: 0.2575 - val_accuracy: 0.8889\n",
      "Epoch 23/600\n",
      "7904/7905 [============================>.] - ETA: 0s - loss: 0.2554 - accuracy: 0.8891\n",
      "Epoch 00023: val_accuracy did not improve from 0.88886\n",
      "7905/7905 [==============================] - 34s 4ms/step - loss: 0.2554 - accuracy: 0.8891 - val_loss: 0.2588 - val_accuracy: 0.8878\n",
      "Epoch 24/600\n",
      "7903/7905 [============================>.] - ETA: 0s - loss: 0.2552 - accuracy: 0.8891\n",
      "Epoch 00024: val_accuracy did not improve from 0.88886\n",
      "7905/7905 [==============================] - 37s 5ms/step - loss: 0.2552 - accuracy: 0.8891 - val_loss: 0.2593 - val_accuracy: 0.8878\n",
      "Epoch 25/600\n",
      "7895/7905 [============================>.] - ETA: 0s - loss: 0.2550 - accuracy: 0.8893\n",
      "Epoch 00025: val_accuracy did not improve from 0.88886\n",
      "7905/7905 [==============================] - 33s 4ms/step - loss: 0.2550 - accuracy: 0.8893 - val_loss: 0.2600 - val_accuracy: 0.8877\n",
      "Epoch 26/600\n",
      "7891/7905 [============================>.] - ETA: 0s - loss: 0.2543 - accuracy: 0.8899\n",
      "Epoch 00026: val_accuracy did not improve from 0.88886\n",
      "7905/7905 [==============================] - 33s 4ms/step - loss: 0.2543 - accuracy: 0.8899 - val_loss: 0.2591 - val_accuracy: 0.8882\n",
      "Epoch 27/600\n",
      "7895/7905 [============================>.] - ETA: 0s - loss: 0.2539 - accuracy: 0.8901\n",
      "Epoch 00027: val_accuracy did not improve from 0.88886\n",
      "7905/7905 [==============================] - 33s 4ms/step - loss: 0.2539 - accuracy: 0.8901 - val_loss: 0.2600 - val_accuracy: 0.8874\n",
      "Epoch 28/600\n",
      "7904/7905 [============================>.] - ETA: 0s - loss: 0.2539 - accuracy: 0.8896\n",
      "Epoch 00028: val_accuracy did not improve from 0.88886\n",
      "7905/7905 [==============================] - 35s 4ms/step - loss: 0.2539 - accuracy: 0.8896 - val_loss: 0.2586 - val_accuracy: 0.8879\n"
     ]
    },
    {
     "name": "stdout",
     "output_type": "stream",
     "text": [
      "Epoch 29/600\n",
      "7904/7905 [============================>.] - ETA: 0s - loss: 0.2539 - accuracy: 0.8898\n",
      "Epoch 00029: val_accuracy did not improve from 0.88886\n",
      "7905/7905 [==============================] - 34s 4ms/step - loss: 0.2540 - accuracy: 0.8898 - val_loss: 0.2582 - val_accuracy: 0.8882\n",
      "Epoch 30/600\n",
      "7902/7905 [============================>.] - ETA: 0s - loss: 0.2539 - accuracy: 0.8897\n",
      "Epoch 00030: val_accuracy did not improve from 0.88886\n",
      "7905/7905 [==============================] - 33s 4ms/step - loss: 0.2539 - accuracy: 0.8897 - val_loss: 0.2595 - val_accuracy: 0.8876\n",
      "Epoch 31/600\n",
      "7898/7905 [============================>.] - ETA: 0s - loss: 0.2533 - accuracy: 0.8900\n",
      "Epoch 00031: val_accuracy did not improve from 0.88886\n",
      "7905/7905 [==============================] - 35s 4ms/step - loss: 0.2534 - accuracy: 0.8900 - val_loss: 0.2593 - val_accuracy: 0.8878\n",
      "Epoch 32/600\n",
      "7899/7905 [============================>.] - ETA: 0s - loss: 0.2531 - accuracy: 0.8900\n",
      "Epoch 00032: val_accuracy did not improve from 0.88886\n",
      "7905/7905 [==============================] - 36s 5ms/step - loss: 0.2531 - accuracy: 0.8900 - val_loss: 0.2605 - val_accuracy: 0.8879\n",
      "Epoch 33/600\n",
      "7902/7905 [============================>.] - ETA: 0s - loss: 0.2531 - accuracy: 0.8902\n",
      "Epoch 00033: val_accuracy did not improve from 0.88886\n",
      "7905/7905 [==============================] - 37s 5ms/step - loss: 0.2531 - accuracy: 0.8902 - val_loss: 0.2599 - val_accuracy: 0.8875\n",
      "Epoch 34/600\n",
      "7899/7905 [============================>.] - ETA: 0s - loss: 0.2523 - accuracy: 0.8902\n",
      "Epoch 00034: val_accuracy did not improve from 0.88886\n",
      "7905/7905 [==============================] - 35s 4ms/step - loss: 0.2523 - accuracy: 0.8901 - val_loss: 0.2608 - val_accuracy: 0.8879\n",
      "Epoch 35/600\n",
      "7894/7905 [============================>.] - ETA: 0s - loss: 0.2523 - accuracy: 0.8901\n",
      "Epoch 00035: val_accuracy did not improve from 0.88886\n",
      "7905/7905 [==============================] - 34s 4ms/step - loss: 0.2523 - accuracy: 0.8901 - val_loss: 0.2610 - val_accuracy: 0.8861\n",
      "Epoch 36/600\n",
      "7898/7905 [============================>.] - ETA: 0s - loss: 0.2527 - accuracy: 0.8903\n",
      "Epoch 00036: val_accuracy did not improve from 0.88886\n",
      "7905/7905 [==============================] - 35s 4ms/step - loss: 0.2527 - accuracy: 0.8903 - val_loss: 0.2596 - val_accuracy: 0.8879\n",
      "Epoch 37/600\n",
      "7894/7905 [============================>.] - ETA: 0s - loss: 0.2524 - accuracy: 0.8906\n",
      "Epoch 00037: val_accuracy did not improve from 0.88886\n",
      "7905/7905 [==============================] - 31s 4ms/step - loss: 0.2524 - accuracy: 0.8906 - val_loss: 0.2615 - val_accuracy: 0.8875\n",
      "Epoch 38/600\n",
      "7896/7905 [============================>.] - ETA: 0s - loss: 0.2518 - accuracy: 0.8907\n",
      "Epoch 00038: val_accuracy did not improve from 0.88886\n",
      "7905/7905 [==============================] - 34s 4ms/step - loss: 0.2517 - accuracy: 0.8907 - val_loss: 0.2611 - val_accuracy: 0.8877\n",
      "Epoch 39/600\n",
      "7903/7905 [============================>.] - ETA: 0s - loss: 0.2516 - accuracy: 0.8907\n",
      "Epoch 00039: val_accuracy did not improve from 0.88886\n",
      "7905/7905 [==============================] - 36s 5ms/step - loss: 0.2516 - accuracy: 0.8908 - val_loss: 0.2629 - val_accuracy: 0.8875\n",
      "Epoch 40/600\n",
      "7903/7905 [============================>.] - ETA: 0s - loss: 0.2515 - accuracy: 0.8908\n",
      "Epoch 00040: val_accuracy did not improve from 0.88886\n",
      "7905/7905 [==============================] - 36s 5ms/step - loss: 0.2515 - accuracy: 0.8908 - val_loss: 0.2608 - val_accuracy: 0.8880\n",
      "Epoch 41/600\n",
      "7898/7905 [============================>.] - ETA: 0s - loss: 0.2513 - accuracy: 0.8913\n",
      "Epoch 00041: val_accuracy did not improve from 0.88886\n",
      "7905/7905 [==============================] - 43s 5ms/step - loss: 0.2512 - accuracy: 0.8913 - val_loss: 0.2622 - val_accuracy: 0.8876\n",
      "Epoch 42/600\n",
      "7900/7905 [============================>.] - ETA: 0s - loss: 0.2512 - accuracy: 0.8911\n",
      "Epoch 00042: val_accuracy did not improve from 0.88886\n",
      "7905/7905 [==============================] - 43s 5ms/step - loss: 0.2512 - accuracy: 0.8911 - val_loss: 0.2622 - val_accuracy: 0.8877\n",
      "Epoch 00042: early stopping\n",
      "Execution time :  0:24:09.483480\n"
     ]
    }
   ],
   "source": [
    "init_time = datetime.now()\n",
    "model = create_model_with_noise()\n",
    "history_sampling = model.fit(x=X_train_norm, \n",
    "                    y=y_train, \n",
    "                    epochs=600,\n",
    "                    batch_size=32,\n",
    "                    validation_data=(X_valid_norm, y_valid), verbose=1,\n",
    "                    callbacks=callbacks_list\n",
    "                   )\n",
    "fin_time = datetime.now()\n",
    "print(\"Execution time : \", (fin_time-init_time))"
   ]
  },
  {
   "cell_type": "code",
   "execution_count": 28,
   "metadata": {
    "hidden": true
   },
   "outputs": [
    {
     "name": "stdout",
     "output_type": "stream",
     "text": [
      "Optimizer: adam Training Loss: 0.893 Validation Accuracy:0.888\n"
     ]
    }
   ],
   "source": [
    "evaluate_model(X_train_norm, y_train, X_valid_norm, y_valid, model, optimizers[3])"
   ]
  },
  {
   "cell_type": "code",
   "execution_count": 183,
   "metadata": {
    "hidden": true
   },
   "outputs": [
    {
     "data": {
      "image/png": "[encoded data removed]",
      "text/plain": [
       "<Figure size 1080x720 with 1 Axes>"
      ]
     },
     "metadata": {
      "needs_background": "light"
     },
     "output_type": "display_data"
    }
   ],
   "source": [
    "plot_loss(history_sampling, optimizers[3])"
   ]
  },
  {
   "cell_type": "code",
   "execution_count": 184,
   "metadata": {
    "hidden": true
   },
   "outputs": [
    {
     "data": {
      "image/png": "[encoded data removed]",
      "text/plain": [
       "<Figure size 1080x720 with 1 Axes>"
      ]
     },
     "metadata": {
      "needs_background": "light"
     },
     "output_type": "display_data"
    }
   ],
   "source": [
    "plot_accuracy(history_sampling, optimizers[3])"
   ]
  },
  {
   "cell_type": "code",
   "execution_count": 186,
   "metadata": {
    "hidden": true
   },
   "outputs": [],
   "source": [
    "predictions = model.predict_classes(X_test_norm)"
   ]
  },
  {
   "cell_type": "code",
   "execution_count": 187,
   "metadata": {
    "hidden": true
   },
   "outputs": [
    {
     "name": "stdout",
     "output_type": "stream",
     "text": [
      "              precision    recall  f1-score   support\n",
      "\n",
      "           0       0.88      0.99      0.94     63623\n",
      "           1       0.93      0.47      0.62     15421\n",
      "\n",
      "    accuracy                           0.89     79044\n",
      "   macro avg       0.91      0.73      0.78     79044\n",
      "weighted avg       0.89      0.89      0.87     79044\n",
      "\n"
     ]
    }
   ],
   "source": [
    "print(classification_report(y_test, predictions))"
   ]
  },
  {
   "cell_type": "code",
   "execution_count": 188,
   "metadata": {
    "hidden": true
   },
   "outputs": [
    {
     "name": "stdout",
     "output_type": "stream",
     "text": [
      "[[63082   541]\n",
      " [ 8226  7195]]\n"
     ]
    }
   ],
   "source": [
    "print(confusion_matrix(y_test, predictions))"
   ]
  },
  {
   "cell_type": "markdown",
   "metadata": {
    "heading_collapsed": true
   },
   "source": [
    "### Load the Saved Model"
   ]
  },
  {
   "cell_type": "code",
   "execution_count": 191,
   "metadata": {
    "hidden": true
   },
   "outputs": [],
   "source": [
    "# load the saved model\n",
    "saved_model = load_model('weights.best.hdf5')"
   ]
  },
  {
   "cell_type": "code",
   "execution_count": 192,
   "metadata": {
    "hidden": true
   },
   "outputs": [
    {
     "name": "stdout",
     "output_type": "stream",
     "text": [
      "Optimizer: adam Training Loss: 0.891 Validation Accuracy:0.890\n"
     ]
    }
   ],
   "source": [
    "# evaluate the model\n",
    "evaluate_model(X_train_norm, y_train, X_valid_norm, y_valid, saved_model, optimizers[3])"
   ]
  },
  {
   "cell_type": "code",
   "execution_count": 193,
   "metadata": {
    "hidden": true
   },
   "outputs": [],
   "source": [
    "predictions = saved_model.predict_classes(X_test_norm)"
   ]
  },
  {
   "cell_type": "code",
   "execution_count": 194,
   "metadata": {
    "hidden": true
   },
   "outputs": [
    {
     "name": "stdout",
     "output_type": "stream",
     "text": [
      "              precision    recall  f1-score   support\n",
      "\n",
      "           0       0.88      0.99      0.94     63623\n",
      "           1       0.94      0.46      0.62     15421\n",
      "\n",
      "    accuracy                           0.89     79044\n",
      "   macro avg       0.91      0.73      0.78     79044\n",
      "weighted avg       0.90      0.89      0.87     79044\n",
      "\n"
     ]
    }
   ],
   "source": [
    "print(classification_report(y_test, predictions))"
   ]
  },
  {
   "cell_type": "code",
   "execution_count": 195,
   "metadata": {
    "hidden": true
   },
   "outputs": [
    {
     "name": "stdout",
     "output_type": "stream",
     "text": [
      "[[63187   436]\n",
      " [ 8318  7103]]\n"
     ]
    }
   ],
   "source": [
    "print(confusion_matrix(y_test, predictions))"
   ]
  },
  {
   "cell_type": "code",
   "execution_count": null,
   "metadata": {
    "hidden": true
   },
   "outputs": [],
   "source": []
  }
 ],
 "metadata": {
  "kernelspec": {
   "display_name": "Python 3",
   "language": "python",
   "name": "python3"
  },
  "language_info": {
   "codemirror_mode": {
    "name": "ipython",
    "version": 3
   },
   "file_extension": ".py",
   "mimetype": "text/x-python",
   "name": "python",
   "nbconvert_exporter": "python",
   "pygments_lexer": "ipython3",
   "version": "3.8.3"
  }
 },
 "nbformat": 4,
 "nbformat_minor": 4
}
