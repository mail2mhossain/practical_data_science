{
 "cells": [
  {
   "cell_type": "code",
   "execution_count": 7,
   "metadata": {},
   "outputs": [],
   "source": [
    "import pandas as pd\n",
    "import numpy as np\n",
    "%matplotlib inline"
   ]
  },
  {
   "cell_type": "code",
   "execution_count": 8,
   "metadata": {},
   "outputs": [],
   "source": [
    "import warnings\n",
    "warnings.filterwarnings(\"ignore\")"
   ]
  },
  {
   "cell_type": "code",
   "execution_count": 8,
   "metadata": {},
   "outputs": [],
   "source": [
    "#df = pd.read_csv('Data/HospitalityEmployees.csv',index_col='Date',parse_dates=True)\n",
    "#df.index.freq = 'MS'"
   ]
  },
  {
   "cell_type": "code",
   "execution_count": 9,
   "metadata": {},
   "outputs": [],
   "source": [
    "df = pd.read_csv('Data/HospitalityEmployees.csv')"
   ]
  },
  {
   "cell_type": "code",
   "execution_count": 10,
   "metadata": {},
   "outputs": [],
   "source": [
    "from fbprophet import Prophet"
   ]
  },
  {
   "cell_type": "code",
   "execution_count": 11,
   "metadata": {},
   "outputs": [
    {
     "data": {
      "text/html": [
       "<div>\n",
       "<style scoped>\n",
       "    .dataframe tbody tr th:only-of-type {\n",
       "        vertical-align: middle;\n",
       "    }\n",
       "\n",
       "    .dataframe tbody tr th {\n",
       "        vertical-align: top;\n",
       "    }\n",
       "\n",
       "    .dataframe thead th {\n",
       "        text-align: right;\n",
       "    }\n",
       "</style>\n",
       "<table border=\"1\" class=\"dataframe\">\n",
       "  <thead>\n",
       "    <tr style=\"text-align: right;\">\n",
       "      <th></th>\n",
       "      <th>Date</th>\n",
       "      <th>Employees</th>\n",
       "    </tr>\n",
       "  </thead>\n",
       "  <tbody>\n",
       "    <tr>\n",
       "      <th>0</th>\n",
       "      <td>1/1/1990</td>\n",
       "      <td>1064.5</td>\n",
       "    </tr>\n",
       "    <tr>\n",
       "      <th>1</th>\n",
       "      <td>2/1/1990</td>\n",
       "      <td>1074.5</td>\n",
       "    </tr>\n",
       "    <tr>\n",
       "      <th>2</th>\n",
       "      <td>3/1/1990</td>\n",
       "      <td>1090.0</td>\n",
       "    </tr>\n",
       "    <tr>\n",
       "      <th>3</th>\n",
       "      <td>4/1/1990</td>\n",
       "      <td>1097.4</td>\n",
       "    </tr>\n",
       "    <tr>\n",
       "      <th>4</th>\n",
       "      <td>5/1/1990</td>\n",
       "      <td>1108.7</td>\n",
       "    </tr>\n",
       "  </tbody>\n",
       "</table>\n",
       "</div>"
      ],
      "text/plain": [
       "       Date  Employees\n",
       "0  1/1/1990     1064.5\n",
       "1  2/1/1990     1074.5\n",
       "2  3/1/1990     1090.0\n",
       "3  4/1/1990     1097.4\n",
       "4  5/1/1990     1108.7"
      ]
     },
     "execution_count": 11,
     "metadata": {},
     "output_type": "execute_result"
    }
   ],
   "source": [
    "df.head()"
   ]
  },
  {
   "cell_type": "markdown",
   "metadata": {},
   "source": [
    "## Format the Data"
   ]
  },
  {
   "cell_type": "code",
   "execution_count": 11,
   "metadata": {},
   "outputs": [],
   "source": [
    "df.columns = ['ds','y']"
   ]
  },
  {
   "cell_type": "code",
   "execution_count": 30,
   "metadata": {},
   "outputs": [],
   "source": [
    "df['ds'] = pd.to_datetime(df['ds'])"
   ]
  },
  {
   "cell_type": "markdown",
   "metadata": {},
   "source": [
    "## Train/Test Split"
   ]
  },
  {
   "cell_type": "code",
   "execution_count": 31,
   "metadata": {},
   "outputs": [
    {
     "data": {
      "text/plain": [
       "348"
      ]
     },
     "execution_count": 31,
     "metadata": {},
     "output_type": "execute_result"
    }
   ],
   "source": [
    "len(df)"
   ]
  },
  {
   "cell_type": "code",
   "execution_count": 32,
   "metadata": {},
   "outputs": [
    {
     "data": {
      "text/plain": [
       "336"
      ]
     },
     "execution_count": 32,
     "metadata": {},
     "output_type": "execute_result"
    }
   ],
   "source": [
    "len(df) - 12"
   ]
  },
  {
   "cell_type": "code",
   "execution_count": 47,
   "metadata": {},
   "outputs": [],
   "source": [
    "train = df.iloc[:336]\n",
    "test = df.iloc[336:]"
   ]
  },
  {
   "cell_type": "code",
   "execution_count": 48,
   "metadata": {},
   "outputs": [
    {
     "data": {
      "text/html": [
       "<div>\n",
       "<style scoped>\n",
       "    .dataframe tbody tr th:only-of-type {\n",
       "        vertical-align: middle;\n",
       "    }\n",
       "\n",
       "    .dataframe tbody tr th {\n",
       "        vertical-align: top;\n",
       "    }\n",
       "\n",
       "    .dataframe thead th {\n",
       "        text-align: right;\n",
       "    }\n",
       "</style>\n",
       "<table border=\"1\" class=\"dataframe\">\n",
       "  <thead>\n",
       "    <tr style=\"text-align: right;\">\n",
       "      <th></th>\n",
       "      <th>ds</th>\n",
       "      <th>y</th>\n",
       "    </tr>\n",
       "  </thead>\n",
       "  <tbody>\n",
       "    <tr>\n",
       "      <th>336</th>\n",
       "      <td>2018-01-01</td>\n",
       "      <td>1916.8</td>\n",
       "    </tr>\n",
       "    <tr>\n",
       "      <th>337</th>\n",
       "      <td>2018-02-01</td>\n",
       "      <td>1944.5</td>\n",
       "    </tr>\n",
       "    <tr>\n",
       "      <th>338</th>\n",
       "      <td>2018-03-01</td>\n",
       "      <td>1962.2</td>\n",
       "    </tr>\n",
       "    <tr>\n",
       "      <th>339</th>\n",
       "      <td>2018-04-01</td>\n",
       "      <td>1984.9</td>\n",
       "    </tr>\n",
       "    <tr>\n",
       "      <th>340</th>\n",
       "      <td>2018-05-01</td>\n",
       "      <td>2001.5</td>\n",
       "    </tr>\n",
       "    <tr>\n",
       "      <th>341</th>\n",
       "      <td>2018-06-01</td>\n",
       "      <td>2015.3</td>\n",
       "    </tr>\n",
       "    <tr>\n",
       "      <th>342</th>\n",
       "      <td>2018-07-01</td>\n",
       "      <td>2022.1</td>\n",
       "    </tr>\n",
       "    <tr>\n",
       "      <th>343</th>\n",
       "      <td>2018-08-01</td>\n",
       "      <td>2019.1</td>\n",
       "    </tr>\n",
       "    <tr>\n",
       "      <th>344</th>\n",
       "      <td>2018-09-01</td>\n",
       "      <td>1992.5</td>\n",
       "    </tr>\n",
       "    <tr>\n",
       "      <th>345</th>\n",
       "      <td>2018-10-01</td>\n",
       "      <td>1984.3</td>\n",
       "    </tr>\n",
       "    <tr>\n",
       "      <th>346</th>\n",
       "      <td>2018-11-01</td>\n",
       "      <td>1990.1</td>\n",
       "    </tr>\n",
       "    <tr>\n",
       "      <th>347</th>\n",
       "      <td>2018-12-01</td>\n",
       "      <td>2000.2</td>\n",
       "    </tr>\n",
       "  </tbody>\n",
       "</table>\n",
       "</div>"
      ],
      "text/plain": [
       "            ds       y\n",
       "336 2018-01-01  1916.8\n",
       "337 2018-02-01  1944.5\n",
       "338 2018-03-01  1962.2\n",
       "339 2018-04-01  1984.9\n",
       "340 2018-05-01  2001.5\n",
       "341 2018-06-01  2015.3\n",
       "342 2018-07-01  2022.1\n",
       "343 2018-08-01  2019.1\n",
       "344 2018-09-01  1992.5\n",
       "345 2018-10-01  1984.3\n",
       "346 2018-11-01  1990.1\n",
       "347 2018-12-01  2000.2"
      ]
     },
     "execution_count": 48,
     "metadata": {},
     "output_type": "execute_result"
    }
   ],
   "source": [
    "test"
   ]
  },
  {
   "cell_type": "markdown",
   "metadata": {},
   "source": [
    "## Create and Fit Model"
   ]
  },
  {
   "cell_type": "code",
   "execution_count": 65,
   "metadata": {},
   "outputs": [
    {
     "name": "stderr",
     "output_type": "stream",
     "text": [
      "INFO:fbprophet:Disabling weekly seasonality. Run prophet with weekly_seasonality=True to override this.\n",
      "INFO:fbprophet:Disabling daily seasonality. Run prophet with daily_seasonality=True to override this.\n"
     ]
    },
    {
     "data": {
      "text/plain": [
       "<fbprophet.forecaster.Prophet at 0x208c5f3c7c8>"
      ]
     },
     "execution_count": 65,
     "metadata": {},
     "output_type": "execute_result"
    }
   ],
   "source": [
    "m = Prophet(seasonality_mode='multiplicative')\n",
    "m.fit(train)"
   ]
  },
  {
   "cell_type": "markdown",
   "metadata": {},
   "source": [
    "## Forecasting"
   ]
  },
  {
   "cell_type": "markdown",
   "metadata": {},
   "source": [
    "### Step 1: Create \"future\" placeholder dataframe"
   ]
  },
  {
   "cell_type": "markdown",
   "metadata": {},
   "source": [
    "NOTE: Prophet by default is for daily data. You need to pass a frequency for sub-daily or monthly data. Info: https://facebook.github.io/prophet/docs/non-daily_data.html"
   ]
  },
  {
   "cell_type": "code",
   "execution_count": 66,
   "metadata": {},
   "outputs": [],
   "source": [
    "future = m.make_future_dataframe(periods=12,freq = 'MS')"
   ]
  },
  {
   "cell_type": "code",
   "execution_count": 67,
   "metadata": {},
   "outputs": [
    {
     "data": {
      "text/html": [
       "<div>\n",
       "<style scoped>\n",
       "    .dataframe tbody tr th:only-of-type {\n",
       "        vertical-align: middle;\n",
       "    }\n",
       "\n",
       "    .dataframe tbody tr th {\n",
       "        vertical-align: top;\n",
       "    }\n",
       "\n",
       "    .dataframe thead th {\n",
       "        text-align: right;\n",
       "    }\n",
       "</style>\n",
       "<table border=\"1\" class=\"dataframe\">\n",
       "  <thead>\n",
       "    <tr style=\"text-align: right;\">\n",
       "      <th></th>\n",
       "      <th>ds</th>\n",
       "      <th>y</th>\n",
       "    </tr>\n",
       "  </thead>\n",
       "  <tbody>\n",
       "    <tr>\n",
       "      <th>343</th>\n",
       "      <td>2018-08-01</td>\n",
       "      <td>2019.1</td>\n",
       "    </tr>\n",
       "    <tr>\n",
       "      <th>344</th>\n",
       "      <td>2018-09-01</td>\n",
       "      <td>1992.5</td>\n",
       "    </tr>\n",
       "    <tr>\n",
       "      <th>345</th>\n",
       "      <td>2018-10-01</td>\n",
       "      <td>1984.3</td>\n",
       "    </tr>\n",
       "    <tr>\n",
       "      <th>346</th>\n",
       "      <td>2018-11-01</td>\n",
       "      <td>1990.1</td>\n",
       "    </tr>\n",
       "    <tr>\n",
       "      <th>347</th>\n",
       "      <td>2018-12-01</td>\n",
       "      <td>2000.2</td>\n",
       "    </tr>\n",
       "  </tbody>\n",
       "</table>\n",
       "</div>"
      ],
      "text/plain": [
       "            ds       y\n",
       "343 2018-08-01  2019.1\n",
       "344 2018-09-01  1992.5\n",
       "345 2018-10-01  1984.3\n",
       "346 2018-11-01  1990.1\n",
       "347 2018-12-01  2000.2"
      ]
     },
     "execution_count": 67,
     "metadata": {},
     "output_type": "execute_result"
    }
   ],
   "source": [
    "df.tail()"
   ]
  },
  {
   "cell_type": "code",
   "execution_count": 68,
   "metadata": {},
   "outputs": [
    {
     "data": {
      "text/html": [
       "<div>\n",
       "<style scoped>\n",
       "    .dataframe tbody tr th:only-of-type {\n",
       "        vertical-align: middle;\n",
       "    }\n",
       "\n",
       "    .dataframe tbody tr th {\n",
       "        vertical-align: top;\n",
       "    }\n",
       "\n",
       "    .dataframe thead th {\n",
       "        text-align: right;\n",
       "    }\n",
       "</style>\n",
       "<table border=\"1\" class=\"dataframe\">\n",
       "  <thead>\n",
       "    <tr style=\"text-align: right;\">\n",
       "      <th></th>\n",
       "      <th>ds</th>\n",
       "    </tr>\n",
       "  </thead>\n",
       "  <tbody>\n",
       "    <tr>\n",
       "      <th>343</th>\n",
       "      <td>2018-08-01</td>\n",
       "    </tr>\n",
       "    <tr>\n",
       "      <th>344</th>\n",
       "      <td>2018-09-01</td>\n",
       "    </tr>\n",
       "    <tr>\n",
       "      <th>345</th>\n",
       "      <td>2018-10-01</td>\n",
       "    </tr>\n",
       "    <tr>\n",
       "      <th>346</th>\n",
       "      <td>2018-11-01</td>\n",
       "    </tr>\n",
       "    <tr>\n",
       "      <th>347</th>\n",
       "      <td>2018-12-01</td>\n",
       "    </tr>\n",
       "  </tbody>\n",
       "</table>\n",
       "</div>"
      ],
      "text/plain": [
       "            ds\n",
       "343 2018-08-01\n",
       "344 2018-09-01\n",
       "345 2018-10-01\n",
       "346 2018-11-01\n",
       "347 2018-12-01"
      ]
     },
     "execution_count": 68,
     "metadata": {},
     "output_type": "execute_result"
    }
   ],
   "source": [
    "future.tail()"
   ]
  },
  {
   "cell_type": "markdown",
   "metadata": {},
   "source": [
    "### Step 2: Predict and fill in the Future"
   ]
  },
  {
   "cell_type": "code",
   "execution_count": 69,
   "metadata": {},
   "outputs": [],
   "source": [
    "forecast = m.predict(future)"
   ]
  },
  {
   "cell_type": "code",
   "execution_count": 70,
   "metadata": {},
   "outputs": [
    {
     "data": {
      "text/html": [
       "<div>\n",
       "<style scoped>\n",
       "    .dataframe tbody tr th:only-of-type {\n",
       "        vertical-align: middle;\n",
       "    }\n",
       "\n",
       "    .dataframe tbody tr th {\n",
       "        vertical-align: top;\n",
       "    }\n",
       "\n",
       "    .dataframe thead th {\n",
       "        text-align: right;\n",
       "    }\n",
       "</style>\n",
       "<table border=\"1\" class=\"dataframe\">\n",
       "  <thead>\n",
       "    <tr style=\"text-align: right;\">\n",
       "      <th></th>\n",
       "      <th>ds</th>\n",
       "      <th>trend</th>\n",
       "      <th>yhat_lower</th>\n",
       "      <th>yhat_upper</th>\n",
       "      <th>trend_lower</th>\n",
       "      <th>trend_upper</th>\n",
       "      <th>multiplicative_terms</th>\n",
       "      <th>multiplicative_terms_lower</th>\n",
       "      <th>multiplicative_terms_upper</th>\n",
       "      <th>yearly</th>\n",
       "      <th>yearly_lower</th>\n",
       "      <th>yearly_upper</th>\n",
       "      <th>additive_terms</th>\n",
       "      <th>additive_terms_lower</th>\n",
       "      <th>additive_terms_upper</th>\n",
       "      <th>yhat</th>\n",
       "    </tr>\n",
       "  </thead>\n",
       "  <tbody>\n",
       "    <tr>\n",
       "      <th>343</th>\n",
       "      <td>2018-08-01</td>\n",
       "      <td>2046.402011</td>\n",
       "      <td>2076.181850</td>\n",
       "      <td>2098.271635</td>\n",
       "      <td>2041.527553</td>\n",
       "      <td>2051.284217</td>\n",
       "      <td>0.020101</td>\n",
       "      <td>0.020101</td>\n",
       "      <td>0.020101</td>\n",
       "      <td>0.020101</td>\n",
       "      <td>0.020101</td>\n",
       "      <td>0.020101</td>\n",
       "      <td>0.0</td>\n",
       "      <td>0.0</td>\n",
       "      <td>0.0</td>\n",
       "      <td>2087.536336</td>\n",
       "    </tr>\n",
       "    <tr>\n",
       "      <th>344</th>\n",
       "      <td>2018-09-01</td>\n",
       "      <td>2052.510993</td>\n",
       "      <td>2058.630577</td>\n",
       "      <td>2082.922121</td>\n",
       "      <td>2046.397020</td>\n",
       "      <td>2058.657392</td>\n",
       "      <td>0.008942</td>\n",
       "      <td>0.008942</td>\n",
       "      <td>0.008942</td>\n",
       "      <td>0.008942</td>\n",
       "      <td>0.008942</td>\n",
       "      <td>0.008942</td>\n",
       "      <td>0.0</td>\n",
       "      <td>0.0</td>\n",
       "      <td>0.0</td>\n",
       "      <td>2070.863534</td>\n",
       "    </tr>\n",
       "    <tr>\n",
       "      <th>345</th>\n",
       "      <td>2018-10-01</td>\n",
       "      <td>2058.422912</td>\n",
       "      <td>2041.080602</td>\n",
       "      <td>2065.534162</td>\n",
       "      <td>2051.058482</td>\n",
       "      <td>2066.162562</td>\n",
       "      <td>-0.002868</td>\n",
       "      <td>-0.002868</td>\n",
       "      <td>-0.002868</td>\n",
       "      <td>-0.002868</td>\n",
       "      <td>-0.002868</td>\n",
       "      <td>-0.002868</td>\n",
       "      <td>0.0</td>\n",
       "      <td>0.0</td>\n",
       "      <td>0.0</td>\n",
       "      <td>2052.520364</td>\n",
       "    </tr>\n",
       "    <tr>\n",
       "      <th>346</th>\n",
       "      <td>2018-11-01</td>\n",
       "      <td>2064.531895</td>\n",
       "      <td>2033.340582</td>\n",
       "      <td>2060.239849</td>\n",
       "      <td>2055.687962</td>\n",
       "      <td>2073.795383</td>\n",
       "      <td>-0.008623</td>\n",
       "      <td>-0.008623</td>\n",
       "      <td>-0.008623</td>\n",
       "      <td>-0.008623</td>\n",
       "      <td>-0.008623</td>\n",
       "      <td>-0.008623</td>\n",
       "      <td>0.0</td>\n",
       "      <td>0.0</td>\n",
       "      <td>0.0</td>\n",
       "      <td>2046.728785</td>\n",
       "    </tr>\n",
       "    <tr>\n",
       "      <th>347</th>\n",
       "      <td>2018-12-01</td>\n",
       "      <td>2070.443813</td>\n",
       "      <td>2044.523987</td>\n",
       "      <td>2072.374498</td>\n",
       "      <td>2059.854751</td>\n",
       "      <td>2081.321999</td>\n",
       "      <td>-0.005701</td>\n",
       "      <td>-0.005701</td>\n",
       "      <td>-0.005701</td>\n",
       "      <td>-0.005701</td>\n",
       "      <td>-0.005701</td>\n",
       "      <td>-0.005701</td>\n",
       "      <td>0.0</td>\n",
       "      <td>0.0</td>\n",
       "      <td>0.0</td>\n",
       "      <td>2058.640474</td>\n",
       "    </tr>\n",
       "  </tbody>\n",
       "</table>\n",
       "</div>"
      ],
      "text/plain": [
       "            ds        trend   yhat_lower   yhat_upper  trend_lower  \\\n",
       "343 2018-08-01  2046.402011  2076.181850  2098.271635  2041.527553   \n",
       "344 2018-09-01  2052.510993  2058.630577  2082.922121  2046.397020   \n",
       "345 2018-10-01  2058.422912  2041.080602  2065.534162  2051.058482   \n",
       "346 2018-11-01  2064.531895  2033.340582  2060.239849  2055.687962   \n",
       "347 2018-12-01  2070.443813  2044.523987  2072.374498  2059.854751   \n",
       "\n",
       "     trend_upper  multiplicative_terms  multiplicative_terms_lower  \\\n",
       "343  2051.284217              0.020101                    0.020101   \n",
       "344  2058.657392              0.008942                    0.008942   \n",
       "345  2066.162562             -0.002868                   -0.002868   \n",
       "346  2073.795383             -0.008623                   -0.008623   \n",
       "347  2081.321999             -0.005701                   -0.005701   \n",
       "\n",
       "     multiplicative_terms_upper    yearly  yearly_lower  yearly_upper  \\\n",
       "343                    0.020101  0.020101      0.020101      0.020101   \n",
       "344                    0.008942  0.008942      0.008942      0.008942   \n",
       "345                   -0.002868 -0.002868     -0.002868     -0.002868   \n",
       "346                   -0.008623 -0.008623     -0.008623     -0.008623   \n",
       "347                   -0.005701 -0.005701     -0.005701     -0.005701   \n",
       "\n",
       "     additive_terms  additive_terms_lower  additive_terms_upper         yhat  \n",
       "343             0.0                   0.0                   0.0  2087.536336  \n",
       "344             0.0                   0.0                   0.0  2070.863534  \n",
       "345             0.0                   0.0                   0.0  2052.520364  \n",
       "346             0.0                   0.0                   0.0  2046.728785  \n",
       "347             0.0                   0.0                   0.0  2058.640474  "
      ]
     },
     "execution_count": 70,
     "metadata": {},
     "output_type": "execute_result"
    }
   ],
   "source": [
    "forecast.tail()"
   ]
  },
  {
   "cell_type": "code",
   "execution_count": 71,
   "metadata": {},
   "outputs": [
    {
     "data": {
      "text/plain": [
       "Index(['ds', 'trend', 'yhat_lower', 'yhat_upper', 'trend_lower', 'trend_upper',\n",
       "       'multiplicative_terms', 'multiplicative_terms_lower',\n",
       "       'multiplicative_terms_upper', 'yearly', 'yearly_lower', 'yearly_upper',\n",
       "       'additive_terms', 'additive_terms_lower', 'additive_terms_upper',\n",
       "       'yhat'],\n",
       "      dtype='object')"
      ]
     },
     "execution_count": 71,
     "metadata": {},
     "output_type": "execute_result"
    }
   ],
   "source": [
    "forecast.columns"
   ]
  },
  {
   "cell_type": "code",
   "execution_count": 72,
   "metadata": {},
   "outputs": [
    {
     "data": {
      "text/html": [
       "<div>\n",
       "<style scoped>\n",
       "    .dataframe tbody tr th:only-of-type {\n",
       "        vertical-align: middle;\n",
       "    }\n",
       "\n",
       "    .dataframe tbody tr th {\n",
       "        vertical-align: top;\n",
       "    }\n",
       "\n",
       "    .dataframe thead th {\n",
       "        text-align: right;\n",
       "    }\n",
       "</style>\n",
       "<table border=\"1\" class=\"dataframe\">\n",
       "  <thead>\n",
       "    <tr style=\"text-align: right;\">\n",
       "      <th></th>\n",
       "      <th>ds</th>\n",
       "      <th>yhat</th>\n",
       "      <th>yhat_lower</th>\n",
       "      <th>yhat_upper</th>\n",
       "    </tr>\n",
       "  </thead>\n",
       "  <tbody>\n",
       "    <tr>\n",
       "      <th>336</th>\n",
       "      <td>2018-01-01</td>\n",
       "      <td>1940.469372</td>\n",
       "      <td>1931.459530</td>\n",
       "      <td>1949.492517</td>\n",
       "    </tr>\n",
       "    <tr>\n",
       "      <th>337</th>\n",
       "      <td>2018-02-01</td>\n",
       "      <td>1966.448493</td>\n",
       "      <td>1957.551843</td>\n",
       "      <td>1975.866264</td>\n",
       "    </tr>\n",
       "    <tr>\n",
       "      <th>338</th>\n",
       "      <td>2018-03-01</td>\n",
       "      <td>1991.919531</td>\n",
       "      <td>1982.344100</td>\n",
       "      <td>2001.806734</td>\n",
       "    </tr>\n",
       "    <tr>\n",
       "      <th>339</th>\n",
       "      <td>2018-04-01</td>\n",
       "      <td>2019.471920</td>\n",
       "      <td>2009.659920</td>\n",
       "      <td>2028.868459</td>\n",
       "    </tr>\n",
       "    <tr>\n",
       "      <th>340</th>\n",
       "      <td>2018-05-01</td>\n",
       "      <td>2048.233730</td>\n",
       "      <td>2038.738333</td>\n",
       "      <td>2057.904680</td>\n",
       "    </tr>\n",
       "    <tr>\n",
       "      <th>341</th>\n",
       "      <td>2018-06-01</td>\n",
       "      <td>2073.019621</td>\n",
       "      <td>2062.537038</td>\n",
       "      <td>2082.985420</td>\n",
       "    </tr>\n",
       "    <tr>\n",
       "      <th>342</th>\n",
       "      <td>2018-07-01</td>\n",
       "      <td>2080.074636</td>\n",
       "      <td>2069.617270</td>\n",
       "      <td>2090.447022</td>\n",
       "    </tr>\n",
       "    <tr>\n",
       "      <th>343</th>\n",
       "      <td>2018-08-01</td>\n",
       "      <td>2087.536336</td>\n",
       "      <td>2076.181850</td>\n",
       "      <td>2098.271635</td>\n",
       "    </tr>\n",
       "    <tr>\n",
       "      <th>344</th>\n",
       "      <td>2018-09-01</td>\n",
       "      <td>2070.863534</td>\n",
       "      <td>2058.630577</td>\n",
       "      <td>2082.922121</td>\n",
       "    </tr>\n",
       "    <tr>\n",
       "      <th>345</th>\n",
       "      <td>2018-10-01</td>\n",
       "      <td>2052.520364</td>\n",
       "      <td>2041.080602</td>\n",
       "      <td>2065.534162</td>\n",
       "    </tr>\n",
       "    <tr>\n",
       "      <th>346</th>\n",
       "      <td>2018-11-01</td>\n",
       "      <td>2046.728785</td>\n",
       "      <td>2033.340582</td>\n",
       "      <td>2060.239849</td>\n",
       "    </tr>\n",
       "    <tr>\n",
       "      <th>347</th>\n",
       "      <td>2018-12-01</td>\n",
       "      <td>2058.640474</td>\n",
       "      <td>2044.523987</td>\n",
       "      <td>2072.374498</td>\n",
       "    </tr>\n",
       "  </tbody>\n",
       "</table>\n",
       "</div>"
      ],
      "text/plain": [
       "            ds         yhat   yhat_lower   yhat_upper\n",
       "336 2018-01-01  1940.469372  1931.459530  1949.492517\n",
       "337 2018-02-01  1966.448493  1957.551843  1975.866264\n",
       "338 2018-03-01  1991.919531  1982.344100  2001.806734\n",
       "339 2018-04-01  2019.471920  2009.659920  2028.868459\n",
       "340 2018-05-01  2048.233730  2038.738333  2057.904680\n",
       "341 2018-06-01  2073.019621  2062.537038  2082.985420\n",
       "342 2018-07-01  2080.074636  2069.617270  2090.447022\n",
       "343 2018-08-01  2087.536336  2076.181850  2098.271635\n",
       "344 2018-09-01  2070.863534  2058.630577  2082.922121\n",
       "345 2018-10-01  2052.520364  2041.080602  2065.534162\n",
       "346 2018-11-01  2046.728785  2033.340582  2060.239849\n",
       "347 2018-12-01  2058.640474  2044.523987  2072.374498"
      ]
     },
     "execution_count": 72,
     "metadata": {},
     "output_type": "execute_result"
    }
   ],
   "source": [
    "forecast[['ds', 'yhat', 'yhat_lower', 'yhat_upper']].tail(12)"
   ]
  },
  {
   "cell_type": "markdown",
   "metadata": {},
   "source": [
    "### Plotting Forecast"
   ]
  },
  {
   "cell_type": "markdown",
   "metadata": {},
   "source": [
    "We can use Prophet's own built in plotting tools"
   ]
  },
  {
   "cell_type": "code",
   "execution_count": 73,
   "metadata": {},
   "outputs": [
    {
     "data": {
      "text/plain": [
       "<matplotlib.axes._subplots.AxesSubplot at 0x208c5b39a08>"
      ]
     },
     "execution_count": 73,
     "metadata": {},
     "output_type": "execute_result"
    },
    {
     "data": {
      "image/png": "[encoded data removed]",
      "text/plain": [
       "<Figure size 864x576 with 1 Axes>"
      ]
     },
     "metadata": {
      "needs_background": "light"
     },
     "output_type": "display_data"
    }
   ],
   "source": [
    "ax = forecast.plot(x='ds',y='yhat',label='Predictions',legend=True,figsize=(12,8))\n",
    "\n",
    "test.plot(x='ds',y='y',label='True Miles',legend=True,ax=ax,xlim=('2018-01-01','2019-12-01'))"
   ]
  },
  {
   "cell_type": "markdown",
   "metadata": {},
   "source": [
    "### Forecast Evaluations"
   ]
  },
  {
   "cell_type": "code",
   "execution_count": 74,
   "metadata": {},
   "outputs": [],
   "source": [
    "from statsmodels.tools.eval_measures import rmse"
   ]
  },
  {
   "cell_type": "code",
   "execution_count": 75,
   "metadata": {},
   "outputs": [],
   "source": [
    "predictions = forecast.iloc[-12:]['yhat']"
   ]
  },
  {
   "cell_type": "code",
   "execution_count": 76,
   "metadata": {},
   "outputs": [
    {
     "data": {
      "text/plain": [
       "336    1940.469372\n",
       "337    1966.448493\n",
       "338    1991.919531\n",
       "339    2019.471920\n",
       "340    2048.233730\n",
       "341    2073.019621\n",
       "342    2080.074636\n",
       "343    2087.536336\n",
       "344    2070.863534\n",
       "345    2052.520364\n",
       "346    2046.728785\n",
       "347    2058.640474\n",
       "Name: yhat, dtype: float64"
      ]
     },
     "execution_count": 76,
     "metadata": {},
     "output_type": "execute_result"
    }
   ],
   "source": [
    "predictions"
   ]
  },
  {
   "cell_type": "code",
   "execution_count": 77,
   "metadata": {},
   "outputs": [
    {
     "data": {
      "text/plain": [
       "336    1916.8\n",
       "337    1944.5\n",
       "338    1962.2\n",
       "339    1984.9\n",
       "340    2001.5\n",
       "341    2015.3\n",
       "342    2022.1\n",
       "343    2019.1\n",
       "344    1992.5\n",
       "345    1984.3\n",
       "346    1990.1\n",
       "347    2000.2\n",
       "Name: y, dtype: float64"
      ]
     },
     "execution_count": 77,
     "metadata": {},
     "output_type": "execute_result"
    }
   ],
   "source": [
    "test['y']"
   ]
  },
  {
   "cell_type": "code",
   "execution_count": 78,
   "metadata": {},
   "outputs": [
    {
     "data": {
      "text/plain": [
       "53.30540959394743"
      ]
     },
     "execution_count": 78,
     "metadata": {},
     "output_type": "execute_result"
    }
   ],
   "source": [
    "rmse(predictions,test['y'])"
   ]
  },
  {
   "cell_type": "code",
   "execution_count": 79,
   "metadata": {},
   "outputs": [
    {
     "data": {
      "text/plain": [
       "y    1986.125\n",
       "dtype: float64"
      ]
     },
     "execution_count": 79,
     "metadata": {},
     "output_type": "execute_result"
    }
   ],
   "source": [
    "test.mean()"
   ]
  },
  {
   "cell_type": "markdown",
   "metadata": {},
   "source": [
    "### Retrain the model on the full data and forecast one year into the future"
   ]
  },
  {
   "cell_type": "code",
   "execution_count": 80,
   "metadata": {},
   "outputs": [
    {
     "name": "stderr",
     "output_type": "stream",
     "text": [
      "INFO:fbprophet:Disabling weekly seasonality. Run prophet with weekly_seasonality=True to override this.\n",
      "INFO:fbprophet:Disabling daily seasonality. Run prophet with daily_seasonality=True to override this.\n"
     ]
    },
    {
     "data": {
      "text/plain": [
       "<fbprophet.forecaster.Prophet at 0x208c77fe988>"
      ]
     },
     "execution_count": 80,
     "metadata": {},
     "output_type": "execute_result"
    }
   ],
   "source": [
    "m = Prophet(seasonality_mode='multiplicative')\n",
    "m.fit(df)"
   ]
  },
  {
   "cell_type": "code",
   "execution_count": 81,
   "metadata": {},
   "outputs": [],
   "source": [
    "future = m.make_future_dataframe(periods=12,freq = 'MS')"
   ]
  },
  {
   "cell_type": "code",
   "execution_count": 82,
   "metadata": {},
   "outputs": [],
   "source": [
    "forecast = m.predict(future)"
   ]
  },
  {
   "cell_type": "code",
   "execution_count": 83,
   "metadata": {},
   "outputs": [
    {
     "data": {
      "text/html": [
       "<div>\n",
       "<style scoped>\n",
       "    .dataframe tbody tr th:only-of-type {\n",
       "        vertical-align: middle;\n",
       "    }\n",
       "\n",
       "    .dataframe tbody tr th {\n",
       "        vertical-align: top;\n",
       "    }\n",
       "\n",
       "    .dataframe thead th {\n",
       "        text-align: right;\n",
       "    }\n",
       "</style>\n",
       "<table border=\"1\" class=\"dataframe\">\n",
       "  <thead>\n",
       "    <tr style=\"text-align: right;\">\n",
       "      <th></th>\n",
       "      <th>ds</th>\n",
       "      <th>yhat</th>\n",
       "      <th>yhat_lower</th>\n",
       "      <th>yhat_upper</th>\n",
       "    </tr>\n",
       "  </thead>\n",
       "  <tbody>\n",
       "    <tr>\n",
       "      <th>348</th>\n",
       "      <td>2019-01-01</td>\n",
       "      <td>1982.761391</td>\n",
       "      <td>1970.183543</td>\n",
       "      <td>1995.637041</td>\n",
       "    </tr>\n",
       "    <tr>\n",
       "      <th>349</th>\n",
       "      <td>2019-02-01</td>\n",
       "      <td>2009.801362</td>\n",
       "      <td>1996.674678</td>\n",
       "      <td>2023.667247</td>\n",
       "    </tr>\n",
       "    <tr>\n",
       "      <th>350</th>\n",
       "      <td>2019-03-01</td>\n",
       "      <td>2028.773724</td>\n",
       "      <td>2014.890770</td>\n",
       "      <td>2041.976736</td>\n",
       "    </tr>\n",
       "    <tr>\n",
       "      <th>351</th>\n",
       "      <td>2019-04-01</td>\n",
       "      <td>2058.513309</td>\n",
       "      <td>2045.345777</td>\n",
       "      <td>2071.556206</td>\n",
       "    </tr>\n",
       "    <tr>\n",
       "      <th>352</th>\n",
       "      <td>2019-05-01</td>\n",
       "      <td>2088.054501</td>\n",
       "      <td>2074.586711</td>\n",
       "      <td>2100.662924</td>\n",
       "    </tr>\n",
       "    <tr>\n",
       "      <th>353</th>\n",
       "      <td>2019-06-01</td>\n",
       "      <td>2113.166439</td>\n",
       "      <td>2099.028452</td>\n",
       "      <td>2127.203698</td>\n",
       "    </tr>\n",
       "    <tr>\n",
       "      <th>354</th>\n",
       "      <td>2019-07-01</td>\n",
       "      <td>2119.042760</td>\n",
       "      <td>2104.656766</td>\n",
       "      <td>2132.154481</td>\n",
       "    </tr>\n",
       "    <tr>\n",
       "      <th>355</th>\n",
       "      <td>2019-08-01</td>\n",
       "      <td>2124.501158</td>\n",
       "      <td>2110.176407</td>\n",
       "      <td>2139.028616</td>\n",
       "    </tr>\n",
       "    <tr>\n",
       "      <th>356</th>\n",
       "      <td>2019-09-01</td>\n",
       "      <td>2106.606745</td>\n",
       "      <td>2092.329490</td>\n",
       "      <td>2120.912103</td>\n",
       "    </tr>\n",
       "    <tr>\n",
       "      <th>357</th>\n",
       "      <td>2019-10-01</td>\n",
       "      <td>2087.430674</td>\n",
       "      <td>2071.417097</td>\n",
       "      <td>2101.062982</td>\n",
       "    </tr>\n",
       "    <tr>\n",
       "      <th>358</th>\n",
       "      <td>2019-11-01</td>\n",
       "      <td>2082.353084</td>\n",
       "      <td>2065.903333</td>\n",
       "      <td>2096.476668</td>\n",
       "    </tr>\n",
       "    <tr>\n",
       "      <th>359</th>\n",
       "      <td>2019-12-01</td>\n",
       "      <td>2093.742712</td>\n",
       "      <td>2077.029674</td>\n",
       "      <td>2108.884835</td>\n",
       "    </tr>\n",
       "  </tbody>\n",
       "</table>\n",
       "</div>"
      ],
      "text/plain": [
       "            ds         yhat   yhat_lower   yhat_upper\n",
       "348 2019-01-01  1982.761391  1970.183543  1995.637041\n",
       "349 2019-02-01  2009.801362  1996.674678  2023.667247\n",
       "350 2019-03-01  2028.773724  2014.890770  2041.976736\n",
       "351 2019-04-01  2058.513309  2045.345777  2071.556206\n",
       "352 2019-05-01  2088.054501  2074.586711  2100.662924\n",
       "353 2019-06-01  2113.166439  2099.028452  2127.203698\n",
       "354 2019-07-01  2119.042760  2104.656766  2132.154481\n",
       "355 2019-08-01  2124.501158  2110.176407  2139.028616\n",
       "356 2019-09-01  2106.606745  2092.329490  2120.912103\n",
       "357 2019-10-01  2087.430674  2071.417097  2101.062982\n",
       "358 2019-11-01  2082.353084  2065.903333  2096.476668\n",
       "359 2019-12-01  2093.742712  2077.029674  2108.884835"
      ]
     },
     "execution_count": 83,
     "metadata": {},
     "output_type": "execute_result"
    }
   ],
   "source": [
    "forecast[['ds', 'yhat', 'yhat_lower', 'yhat_upper']].tail(12)"
   ]
  },
  {
   "cell_type": "code",
   "execution_count": null,
   "metadata": {},
   "outputs": [],
   "source": []
  }
 ],
 "metadata": {
  "kernelspec": {
   "display_name": "Python 3",
   "language": "python",
   "name": "python3"
  },
  "language_info": {
   "codemirror_mode": {
    "name": "ipython",
    "version": 3
   },
   "file_extension": ".py",
   "mimetype": "text/x-python",
   "name": "python",
   "nbconvert_exporter": "python",
   "pygments_lexer": "ipython3",
   "version": "3.7.6"
  }
 },
 "nbformat": 4,
 "nbformat_minor": 4
}
