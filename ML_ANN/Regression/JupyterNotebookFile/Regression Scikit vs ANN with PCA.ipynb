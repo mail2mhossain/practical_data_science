{
 "cells": [
  {
   "cell_type": "code",
   "execution_count": 1,
   "metadata": {},
   "outputs": [],
   "source": [
    "import pandas as pd\n",
    "import numpy as np\n",
    "import matplotlib.pyplot as plt\n",
    "import seaborn as sns"
   ]
  },
  {
   "cell_type": "code",
   "execution_count": 2,
   "metadata": {},
   "outputs": [],
   "source": [
    "df = pd.read_csv('../data/kc_house_data.csv')"
   ]
  },
  {
   "cell_type": "code",
   "execution_count": 3,
   "metadata": {},
   "outputs": [],
   "source": [
    "df = df.drop('id',axis=1)"
   ]
  },
  {
   "cell_type": "code",
   "execution_count": 4,
   "metadata": {},
   "outputs": [
    {
     "data": {
      "text/html": [
       "<div>\n",
       "<style scoped>\n",
       "    .dataframe tbody tr th:only-of-type {\n",
       "        vertical-align: middle;\n",
       "    }\n",
       "\n",
       "    .dataframe tbody tr th {\n",
       "        vertical-align: top;\n",
       "    }\n",
       "\n",
       "    .dataframe thead th {\n",
       "        text-align: right;\n",
       "    }\n",
       "</style>\n",
       "<table border=\"1\" class=\"dataframe\">\n",
       "  <thead>\n",
       "    <tr style=\"text-align: right;\">\n",
       "      <th></th>\n",
       "      <th>date</th>\n",
       "      <th>price</th>\n",
       "      <th>bedrooms</th>\n",
       "      <th>bathrooms</th>\n",
       "      <th>sqft_living</th>\n",
       "      <th>sqft_lot</th>\n",
       "      <th>floors</th>\n",
       "      <th>waterfront</th>\n",
       "      <th>view</th>\n",
       "      <th>condition</th>\n",
       "      <th>grade</th>\n",
       "      <th>sqft_above</th>\n",
       "      <th>sqft_basement</th>\n",
       "      <th>yr_built</th>\n",
       "      <th>yr_renovated</th>\n",
       "      <th>zipcode</th>\n",
       "      <th>lat</th>\n",
       "      <th>long</th>\n",
       "      <th>sqft_living15</th>\n",
       "      <th>sqft_lot15</th>\n",
       "    </tr>\n",
       "  </thead>\n",
       "  <tbody>\n",
       "    <tr>\n",
       "      <th>0</th>\n",
       "      <td>10/13/2014</td>\n",
       "      <td>221900.0</td>\n",
       "      <td>3</td>\n",
       "      <td>1.00</td>\n",
       "      <td>1180</td>\n",
       "      <td>5650</td>\n",
       "      <td>1.0</td>\n",
       "      <td>0</td>\n",
       "      <td>0</td>\n",
       "      <td>3</td>\n",
       "      <td>7</td>\n",
       "      <td>1180</td>\n",
       "      <td>0</td>\n",
       "      <td>1955</td>\n",
       "      <td>0</td>\n",
       "      <td>98178</td>\n",
       "      <td>47.5112</td>\n",
       "      <td>-122.257</td>\n",
       "      <td>1340</td>\n",
       "      <td>5650</td>\n",
       "    </tr>\n",
       "    <tr>\n",
       "      <th>1</th>\n",
       "      <td>12/9/2014</td>\n",
       "      <td>538000.0</td>\n",
       "      <td>3</td>\n",
       "      <td>2.25</td>\n",
       "      <td>2570</td>\n",
       "      <td>7242</td>\n",
       "      <td>2.0</td>\n",
       "      <td>0</td>\n",
       "      <td>0</td>\n",
       "      <td>3</td>\n",
       "      <td>7</td>\n",
       "      <td>2170</td>\n",
       "      <td>400</td>\n",
       "      <td>1951</td>\n",
       "      <td>1991</td>\n",
       "      <td>98125</td>\n",
       "      <td>47.7210</td>\n",
       "      <td>-122.319</td>\n",
       "      <td>1690</td>\n",
       "      <td>7639</td>\n",
       "    </tr>\n",
       "    <tr>\n",
       "      <th>2</th>\n",
       "      <td>2/25/2015</td>\n",
       "      <td>180000.0</td>\n",
       "      <td>2</td>\n",
       "      <td>1.00</td>\n",
       "      <td>770</td>\n",
       "      <td>10000</td>\n",
       "      <td>1.0</td>\n",
       "      <td>0</td>\n",
       "      <td>0</td>\n",
       "      <td>3</td>\n",
       "      <td>6</td>\n",
       "      <td>770</td>\n",
       "      <td>0</td>\n",
       "      <td>1933</td>\n",
       "      <td>0</td>\n",
       "      <td>98028</td>\n",
       "      <td>47.7379</td>\n",
       "      <td>-122.233</td>\n",
       "      <td>2720</td>\n",
       "      <td>8062</td>\n",
       "    </tr>\n",
       "    <tr>\n",
       "      <th>3</th>\n",
       "      <td>12/9/2014</td>\n",
       "      <td>604000.0</td>\n",
       "      <td>4</td>\n",
       "      <td>3.00</td>\n",
       "      <td>1960</td>\n",
       "      <td>5000</td>\n",
       "      <td>1.0</td>\n",
       "      <td>0</td>\n",
       "      <td>0</td>\n",
       "      <td>5</td>\n",
       "      <td>7</td>\n",
       "      <td>1050</td>\n",
       "      <td>910</td>\n",
       "      <td>1965</td>\n",
       "      <td>0</td>\n",
       "      <td>98136</td>\n",
       "      <td>47.5208</td>\n",
       "      <td>-122.393</td>\n",
       "      <td>1360</td>\n",
       "      <td>5000</td>\n",
       "    </tr>\n",
       "    <tr>\n",
       "      <th>4</th>\n",
       "      <td>2/18/2015</td>\n",
       "      <td>510000.0</td>\n",
       "      <td>3</td>\n",
       "      <td>2.00</td>\n",
       "      <td>1680</td>\n",
       "      <td>8080</td>\n",
       "      <td>1.0</td>\n",
       "      <td>0</td>\n",
       "      <td>0</td>\n",
       "      <td>3</td>\n",
       "      <td>8</td>\n",
       "      <td>1680</td>\n",
       "      <td>0</td>\n",
       "      <td>1987</td>\n",
       "      <td>0</td>\n",
       "      <td>98074</td>\n",
       "      <td>47.6168</td>\n",
       "      <td>-122.045</td>\n",
       "      <td>1800</td>\n",
       "      <td>7503</td>\n",
       "    </tr>\n",
       "  </tbody>\n",
       "</table>\n",
       "</div>"
      ],
      "text/plain": [
       "         date     price  bedrooms  bathrooms  sqft_living  sqft_lot  floors  \\\n",
       "0  10/13/2014  221900.0         3       1.00         1180      5650     1.0   \n",
       "1   12/9/2014  538000.0         3       2.25         2570      7242     2.0   \n",
       "2   2/25/2015  180000.0         2       1.00          770     10000     1.0   \n",
       "3   12/9/2014  604000.0         4       3.00         1960      5000     1.0   \n",
       "4   2/18/2015  510000.0         3       2.00         1680      8080     1.0   \n",
       "\n",
       "   waterfront  view  condition  grade  sqft_above  sqft_basement  yr_built  \\\n",
       "0           0     0          3      7        1180              0      1955   \n",
       "1           0     0          3      7        2170            400      1951   \n",
       "2           0     0          3      6         770              0      1933   \n",
       "3           0     0          5      7        1050            910      1965   \n",
       "4           0     0          3      8        1680              0      1987   \n",
       "\n",
       "   yr_renovated  zipcode      lat     long  sqft_living15  sqft_lot15  \n",
       "0             0    98178  47.5112 -122.257           1340        5650  \n",
       "1          1991    98125  47.7210 -122.319           1690        7639  \n",
       "2             0    98028  47.7379 -122.233           2720        8062  \n",
       "3             0    98136  47.5208 -122.393           1360        5000  \n",
       "4             0    98074  47.6168 -122.045           1800        7503  "
      ]
     },
     "execution_count": 4,
     "metadata": {},
     "output_type": "execute_result"
    }
   ],
   "source": [
    "df.head()"
   ]
  },
  {
   "cell_type": "code",
   "execution_count": 5,
   "metadata": {},
   "outputs": [
    {
     "name": "stdout",
     "output_type": "stream",
     "text": [
      "<class 'pandas.core.frame.DataFrame'>\n",
      "RangeIndex: 21597 entries, 0 to 21596\n",
      "Data columns (total 20 columns):\n",
      " #   Column         Non-Null Count  Dtype  \n",
      "---  ------         --------------  -----  \n",
      " 0   date           21597 non-null  object \n",
      " 1   price          21597 non-null  float64\n",
      " 2   bedrooms       21597 non-null  int64  \n",
      " 3   bathrooms      21597 non-null  float64\n",
      " 4   sqft_living    21597 non-null  int64  \n",
      " 5   sqft_lot       21597 non-null  int64  \n",
      " 6   floors         21597 non-null  float64\n",
      " 7   waterfront     21597 non-null  int64  \n",
      " 8   view           21597 non-null  int64  \n",
      " 9   condition      21597 non-null  int64  \n",
      " 10  grade          21597 non-null  int64  \n",
      " 11  sqft_above     21597 non-null  int64  \n",
      " 12  sqft_basement  21597 non-null  int64  \n",
      " 13  yr_built       21597 non-null  int64  \n",
      " 14  yr_renovated   21597 non-null  int64  \n",
      " 15  zipcode        21597 non-null  int64  \n",
      " 16  lat            21597 non-null  float64\n",
      " 17  long           21597 non-null  float64\n",
      " 18  sqft_living15  21597 non-null  int64  \n",
      " 19  sqft_lot15     21597 non-null  int64  \n",
      "dtypes: float64(5), int64(14), object(1)\n",
      "memory usage: 3.3+ MB\n"
     ]
    }
   ],
   "source": [
    "df.info()"
   ]
  },
  {
   "cell_type": "code",
   "execution_count": 6,
   "metadata": {},
   "outputs": [],
   "source": [
    "df['date'] = pd.to_datetime(df['date'])"
   ]
  },
  {
   "cell_type": "code",
   "execution_count": 7,
   "metadata": {},
   "outputs": [],
   "source": [
    "df['month'] = df['date'].apply(lambda date:date.month)"
   ]
  },
  {
   "cell_type": "code",
   "execution_count": 8,
   "metadata": {},
   "outputs": [],
   "source": [
    "df['year'] = df['date'].apply(lambda date:date.year)"
   ]
  },
  {
   "cell_type": "code",
   "execution_count": 9,
   "metadata": {},
   "outputs": [
    {
     "data": {
      "image/png": "[encoded data removed]",
      "text/plain": [
       "<Figure size 432x288 with 1 Axes>"
      ]
     },
     "metadata": {
      "needs_background": "light"
     },
     "output_type": "display_data"
    }
   ],
   "source": [
    "df.groupby('month').mean()['price'].plot();"
   ]
  },
  {
   "cell_type": "code",
   "execution_count": 10,
   "metadata": {},
   "outputs": [
    {
     "data": {
      "image/png": "[encoded data removed]",
      "text/plain": [
       "<Figure size 432x288 with 1 Axes>"
      ]
     },
     "metadata": {
      "needs_background": "light"
     },
     "output_type": "display_data"
    }
   ],
   "source": [
    "df.groupby('year').mean()['price'].plot();"
   ]
  },
  {
   "cell_type": "code",
   "execution_count": 11,
   "metadata": {},
   "outputs": [],
   "source": [
    "df = df.drop('date',axis=1)"
   ]
  },
  {
   "cell_type": "code",
   "execution_count": 12,
   "metadata": {},
   "outputs": [
    {
     "data": {
      "text/plain": [
       "Index(['price', 'bedrooms', 'bathrooms', 'sqft_living', 'sqft_lot', 'floors',\n",
       "       'waterfront', 'view', 'condition', 'grade', 'sqft_above',\n",
       "       'sqft_basement', 'yr_built', 'yr_renovated', 'zipcode', 'lat', 'long',\n",
       "       'sqft_living15', 'sqft_lot15', 'month', 'year'],\n",
       "      dtype='object')"
      ]
     },
     "execution_count": 12,
     "metadata": {},
     "output_type": "execute_result"
    }
   ],
   "source": [
    "df.columns"
   ]
  },
  {
   "cell_type": "code",
   "execution_count": 13,
   "metadata": {},
   "outputs": [
    {
     "data": {
      "text/plain": [
       "98103    602\n",
       "98038    589\n",
       "98115    583\n",
       "98052    574\n",
       "98117    553\n",
       "        ... \n",
       "98102    104\n",
       "98010    100\n",
       "98024     80\n",
       "98148     57\n",
       "98039     50\n",
       "Name: zipcode, Length: 70, dtype: int64"
      ]
     },
     "execution_count": 13,
     "metadata": {},
     "output_type": "execute_result"
    }
   ],
   "source": [
    "df['zipcode'].value_counts()"
   ]
  },
  {
   "cell_type": "code",
   "execution_count": 14,
   "metadata": {},
   "outputs": [],
   "source": [
    "df = df.drop('zipcode',axis=1)"
   ]
  },
  {
   "cell_type": "code",
   "execution_count": 15,
   "metadata": {},
   "outputs": [
    {
     "data": {
      "text/plain": [
       "0       20683\n",
       "2014       91\n",
       "2013       37\n",
       "2003       36\n",
       "2000       35\n",
       "        ...  \n",
       "1934        1\n",
       "1959        1\n",
       "1951        1\n",
       "1948        1\n",
       "1944        1\n",
       "Name: yr_renovated, Length: 70, dtype: int64"
      ]
     },
     "execution_count": 15,
     "metadata": {},
     "output_type": "execute_result"
    }
   ],
   "source": [
    "df['yr_renovated'].value_counts()"
   ]
  },
  {
   "cell_type": "code",
   "execution_count": 16,
   "metadata": {},
   "outputs": [
    {
     "data": {
      "text/plain": [
       "0       13110\n",
       "600       221\n",
       "700       218\n",
       "500       214\n",
       "800       206\n",
       "        ...  \n",
       "792         1\n",
       "2590        1\n",
       "935         1\n",
       "2390        1\n",
       "248         1\n",
       "Name: sqft_basement, Length: 306, dtype: int64"
      ]
     },
     "execution_count": 16,
     "metadata": {},
     "output_type": "execute_result"
    }
   ],
   "source": [
    "df['sqft_basement'].value_counts()"
   ]
  },
  {
   "cell_type": "markdown",
   "metadata": {},
   "source": [
    "### Train Test Split"
   ]
  },
  {
   "cell_type": "code",
   "execution_count": 17,
   "metadata": {},
   "outputs": [],
   "source": [
    "X = df.drop('price',axis=1)\n",
    "y = df['price']"
   ]
  },
  {
   "cell_type": "code",
   "execution_count": 18,
   "metadata": {},
   "outputs": [],
   "source": [
    "from sklearn.model_selection import train_test_split"
   ]
  },
  {
   "cell_type": "code",
   "execution_count": 19,
   "metadata": {},
   "outputs": [],
   "source": [
    "X_train, X_test, y_train, y_test = train_test_split(X,y,test_size=0.3,random_state=101)"
   ]
  },
  {
   "cell_type": "markdown",
   "metadata": {},
   "source": [
    "### Scaling using MinMaxScaler"
   ]
  },
  {
   "cell_type": "code",
   "execution_count": 20,
   "metadata": {},
   "outputs": [],
   "source": [
    "from sklearn.preprocessing import MinMaxScaler"
   ]
  },
  {
   "cell_type": "code",
   "execution_count": 21,
   "metadata": {},
   "outputs": [],
   "source": [
    "scaler = MinMaxScaler() \n",
    "scaler.fit(X_train)\n",
    "X_train = scaler.transform(X_train)\n",
    "X_test = scaler.transform(X_test)"
   ]
  },
  {
   "cell_type": "code",
   "execution_count": 22,
   "metadata": {},
   "outputs": [],
   "source": [
    "full_scaler = MinMaxScaler() \n",
    "full_scaler.fit(X)\n",
    "X = scaler.transform(X)"
   ]
  },
  {
   "cell_type": "code",
   "execution_count": 23,
   "metadata": {},
   "outputs": [
    {
     "data": {
      "text/plain": [
       "0.0"
      ]
     },
     "execution_count": 23,
     "metadata": {},
     "output_type": "execute_result"
    }
   ],
   "source": [
    "X_train.min()"
   ]
  },
  {
   "cell_type": "code",
   "execution_count": 24,
   "metadata": {},
   "outputs": [
    {
     "data": {
      "text/plain": [
       "1.0"
      ]
     },
     "execution_count": 24,
     "metadata": {},
     "output_type": "execute_result"
    }
   ],
   "source": [
    "X_train.max()"
   ]
  },
  {
   "cell_type": "code",
   "execution_count": 25,
   "metadata": {},
   "outputs": [
    {
     "data": {
      "text/plain": [
       "(21597, 19)"
      ]
     },
     "execution_count": 25,
     "metadata": {},
     "output_type": "execute_result"
    }
   ],
   "source": [
    "X.shape"
   ]
  },
  {
   "cell_type": "markdown",
   "metadata": {},
   "source": [
    "### Principal Component Analysis (PCA)"
   ]
  },
  {
   "cell_type": "code",
   "execution_count": 46,
   "metadata": {},
   "outputs": [],
   "source": [
    "from sklearn.decomposition import PCA"
   ]
  },
  {
   "cell_type": "code",
   "execution_count": 47,
   "metadata": {},
   "outputs": [],
   "source": [
    "n_components = 0.95"
   ]
  },
  {
   "cell_type": "code",
   "execution_count": 58,
   "metadata": {},
   "outputs": [],
   "source": [
    "pca = PCA(n_components = n_components)"
   ]
  },
  {
   "cell_type": "code",
   "execution_count": 59,
   "metadata": {},
   "outputs": [
    {
     "data": {
      "text/plain": [
       "PCA(copy=True, iterated_power='auto', n_components=0.95, random_state=None,\n",
       "    svd_solver='auto', tol=0.0, whiten=False)"
      ]
     },
     "execution_count": 59,
     "metadata": {},
     "output_type": "execute_result"
    }
   ],
   "source": [
    "pca.fit(X_train)"
   ]
  },
  {
   "cell_type": "code",
   "execution_count": 60,
   "metadata": {},
   "outputs": [],
   "source": [
    "X_train_pca = pca.transform(X_train)\n",
    "X_test_pca = pca.transform(X_test)"
   ]
  },
  {
   "cell_type": "code",
   "execution_count": 61,
   "metadata": {},
   "outputs": [
    {
     "data": {
      "text/plain": [
       "(15117, 19)"
      ]
     },
     "execution_count": 61,
     "metadata": {},
     "output_type": "execute_result"
    }
   ],
   "source": [
    "X_train.shape"
   ]
  },
  {
   "cell_type": "code",
   "execution_count": 62,
   "metadata": {},
   "outputs": [
    {
     "data": {
      "text/plain": [
       "(15117, 10)"
      ]
     },
     "execution_count": 62,
     "metadata": {},
     "output_type": "execute_result"
    }
   ],
   "source": [
    "X_train_pca.shape"
   ]
  },
  {
   "cell_type": "code",
   "execution_count": 63,
   "metadata": {},
   "outputs": [
    {
     "data": {
      "text/plain": [
       "(6480, 19)"
      ]
     },
     "execution_count": 63,
     "metadata": {},
     "output_type": "execute_result"
    }
   ],
   "source": [
    "X_test.shape"
   ]
  },
  {
   "cell_type": "code",
   "execution_count": 64,
   "metadata": {},
   "outputs": [
    {
     "data": {
      "text/plain": [
       "(6480, 10)"
      ]
     },
     "execution_count": 64,
     "metadata": {},
     "output_type": "execute_result"
    }
   ],
   "source": [
    "X_test_pca.shape"
   ]
  },
  {
   "cell_type": "code",
   "execution_count": 65,
   "metadata": {},
   "outputs": [],
   "source": [
    "pca = PCA(n_components = n_components)"
   ]
  },
  {
   "cell_type": "code",
   "execution_count": 66,
   "metadata": {},
   "outputs": [],
   "source": [
    "pca.fit(X)\n",
    "X_pca = pca.transform(X)"
   ]
  },
  {
   "cell_type": "code",
   "execution_count": 67,
   "metadata": {},
   "outputs": [
    {
     "data": {
      "text/plain": [
       "(21597, 19)"
      ]
     },
     "execution_count": 67,
     "metadata": {},
     "output_type": "execute_result"
    }
   ],
   "source": [
    "X.shape"
   ]
  },
  {
   "cell_type": "code",
   "execution_count": 68,
   "metadata": {},
   "outputs": [
    {
     "data": {
      "text/plain": [
       "(21597, 10)"
      ]
     },
     "execution_count": 68,
     "metadata": {},
     "output_type": "execute_result"
    }
   ],
   "source": [
    "X_pca.shape"
   ]
  },
  {
   "cell_type": "code",
   "execution_count": 90,
   "metadata": {},
   "outputs": [],
   "source": [
    "def display_scores(scores):\n",
    "    print(\"Scores:\", scores)\n",
    "    print(\"Mean:\", scores.mean())\n",
    "    print(\"Standard deviation:\", scores.std())"
   ]
  },
  {
   "cell_type": "markdown",
   "metadata": {},
   "source": [
    "## Cross Validation if data < 100 k"
   ]
  },
  {
   "cell_type": "code",
   "execution_count": 69,
   "metadata": {},
   "outputs": [],
   "source": [
    "from sklearn.linear_model import LinearRegression\n",
    "from sklearn.tree import DecisionTreeRegressor\n",
    "from sklearn.ensemble import RandomForestRegressor\n",
    "from sklearn.svm import SVR"
   ]
  },
  {
   "cell_type": "code",
   "execution_count": 70,
   "metadata": {},
   "outputs": [],
   "source": []
  },
  {
   "cell_type": "code",
   "execution_count": 71,
   "metadata": {},
   "outputs": [],
   "source": [
    "from sklearn.model_selection import cross_val_score"
   ]
  },
  {
   "cell_type": "code",
   "execution_count": 72,
   "metadata": {},
   "outputs": [
    {
     "name": "stdout",
     "output_type": "stream",
     "text": [
      "Scores: [227860.74597446 247810.04621959 205468.78997895 248870.16231172\n",
      " 202406.85741385 203665.81266296 200769.87732543 207890.45355133\n",
      " 216109.90756833 238913.00743315]\n",
      "Mean: 219976.56604397637\n",
      "Standard deviation: 18290.50187302486\n"
     ]
    }
   ],
   "source": [
    "lin_reg_cvs = LinearRegression()\n",
    "lin_scores = cross_val_score(lin_reg_cvs, X_pca, y,\n",
    "                             scoring=\"neg_mean_squared_error\", cv=10, verbose=0)\n",
    "lin_rmse_scores = np.sqrt(-lin_scores)\n",
    "display_scores(lin_rmse_scores)"
   ]
  },
  {
   "cell_type": "code",
   "execution_count": 73,
   "metadata": {},
   "outputs": [
    {
     "name": "stdout",
     "output_type": "stream",
     "text": [
      "Scores: [246608.2363728  280433.07271452 209001.5838789  262408.48353439\n",
      " 236924.25456652 253037.76352331 210848.99148669 224296.76950798\n",
      " 258817.50138457 237465.31238342]\n",
      "Mean: 241984.19693531067\n",
      "Standard deviation: 21768.12566852023\n"
     ]
    }
   ],
   "source": [
    "tree_reg_cvs = DecisionTreeRegressor(random_state=42)\n",
    "scores = cross_val_score(tree_reg_cvs, X_pca, y,\n",
    "                         scoring=\"neg_mean_squared_error\", cv=10, verbose=0)\n",
    "tree_rmse_scores = np.sqrt(-scores)\n",
    "display_scores(tree_rmse_scores)"
   ]
  },
  {
   "cell_type": "code",
   "execution_count": 74,
   "metadata": {},
   "outputs": [
    {
     "name": "stdout",
     "output_type": "stream",
     "text": [
      "Scores: [172150.79603669 202005.76379307 153752.30961684 185229.69486079\n",
      " 149314.59187486 166391.08980048 156741.6241164  164077.90575786\n",
      " 168919.14071085 184166.86884719]\n",
      "Mean: 170274.97854150174\n",
      "Standard deviation: 15420.130541204651\n"
     ]
    }
   ],
   "source": [
    "forest_reg_cvs = RandomForestRegressor(n_estimators=100, random_state=42)\n",
    "forest_scores = cross_val_score(forest_reg_cvs, X_pca, y,\n",
    "                                scoring=\"neg_mean_squared_error\", cv=10, verbose=0)\n",
    "forest_rmse_scores = np.sqrt(-forest_scores)\n",
    "display_scores(forest_rmse_scores)"
   ]
  },
  {
   "cell_type": "code",
   "execution_count": null,
   "metadata": {},
   "outputs": [],
   "source": [
    "svm_reg_rbf = SVR(kernel=\"rbf\")\n",
    "svm_rbf_scores = cross_val_score(svm_reg_rbf, X_pca, y, scoring=\"neg_mean_squared_error\", cv=10)\n",
    "svm_rbf_rmse_scores = np.sqrt(-svm_rbf_scores)\n",
    "display_scores(svm_rbf_rmse_scores)"
   ]
  },
  {
   "cell_type": "code",
   "execution_count": 75,
   "metadata": {},
   "outputs": [],
   "source": [
    "#svm_reg_cvs = SVR(kernel=\"linear\")\n",
    "#svm_scores = cross_val_score(svm_reg_cvs, X_pca, y, scoring=\"neg_mean_squared_error\", cv=10)\n",
    "#svm_rmse_scores = np.sqrt(-svm_scores)\n",
    "#display_scores(svm_rmse_scores)"
   ]
  },
  {
   "cell_type": "code",
   "execution_count": 76,
   "metadata": {},
   "outputs": [
    {
     "name": "stdout",
     "output_type": "stream",
     "text": [
      "RMSE of Lnear Regression: 219976.56604397637\n",
      "RMSE of Decision Tree: 241984.19693531067\n",
      "RMSE of Random Forest: 170274.97854150174\n"
     ]
    }
   ],
   "source": [
    "print(\"RMSE of Lnear Regression:\", lin_rmse_scores.mean())\n",
    "print(\"RMSE of Decision Tree:\", tree_rmse_scores.mean())\n",
    "print(\"RMSE of Random Forest:\", forest_rmse_scores.mean())\n",
    "print(\"RMSE of Support Vector (rbf):\", svm_rbf_rmse_scores.mean())\n",
    "#print(\"RMSE of Support Vector (linear):\", svm_rmse_scores.mean())"
   ]
  },
  {
   "cell_type": "code",
   "execution_count": 77,
   "metadata": {},
   "outputs": [],
   "source": [
    "from sklearn.metrics import mean_squared_error,mean_absolute_error,explained_variance_score"
   ]
  },
  {
   "cell_type": "code",
   "execution_count": 79,
   "metadata": {},
   "outputs": [
    {
     "data": {
      "text/plain": [
       "(21597, 10)"
      ]
     },
     "execution_count": 79,
     "metadata": {},
     "output_type": "execute_result"
    }
   ],
   "source": [
    "X_pca.shape"
   ]
  },
  {
   "cell_type": "markdown",
   "metadata": {},
   "source": [
    "## Cross Validation if data >= 100 k"
   ]
  },
  {
   "cell_type": "code",
   "execution_count": 87,
   "metadata": {},
   "outputs": [],
   "source": [
    "from xgboost import XGBRegressor"
   ]
  },
  {
   "cell_type": "code",
   "execution_count": 88,
   "metadata": {},
   "outputs": [],
   "source": [
    "from sklearn.model_selection import cross_val_score"
   ]
  },
  {
   "cell_type": "code",
   "execution_count": 89,
   "metadata": {},
   "outputs": [],
   "source": [
    "xgb_model = XGBRegressor()\n",
    "xgb_scores = cross_val_score(xgb_model, X_pca, y,\n",
    "                             scoring=\"neg_mean_squared_error\", cv=5)"
   ]
  },
  {
   "cell_type": "code",
   "execution_count": 91,
   "metadata": {},
   "outputs": [
    {
     "name": "stdout",
     "output_type": "stream",
     "text": [
      "Scores: [185622.76770493 176414.83994944 154635.61063056 163577.64126115\n",
      " 180302.04911108]\n",
      "Mean: 172110.5817314318\n",
      "Standard deviation: 11370.062747999338\n"
     ]
    }
   ],
   "source": [
    "xgb_rmse_scores = np.sqrt(-xgb_scores)\n",
    "display_scores(xgb_rmse_scores)"
   ]
  },
  {
   "cell_type": "code",
   "execution_count": 85,
   "metadata": {},
   "outputs": [],
   "source": []
  },
  {
   "cell_type": "markdown",
   "metadata": {},
   "source": [
    "## Creating a Model with Scikit if data < 100 k"
   ]
  },
  {
   "cell_type": "code",
   "execution_count": 50,
   "metadata": {},
   "outputs": [],
   "source": [
    "from pprint import pprint"
   ]
  },
  {
   "cell_type": "code",
   "execution_count": 151,
   "metadata": {},
   "outputs": [],
   "source": [
    "def evaluate(model, test_features, test_labels):\n",
    "    predictions = model.predict(test_features)\n",
    "    errors = abs(predictions - test_labels)\n",
    "    mape = 100 * np.mean(errors / test_labels)\n",
    "    accuracy = 100 - mape\n",
    "    print('Model Performance')\n",
    "    print('Average Error: {:0.4f} degrees.'.format(np.mean(errors)))\n",
    "    print('Accuracy = {:0.2f}%.'.format(accuracy))\n",
    "\n",
    "    return accuracy"
   ]
  },
  {
   "cell_type": "code",
   "execution_count": 51,
   "metadata": {},
   "outputs": [
    {
     "name": "stdout",
     "output_type": "stream",
     "text": [
      "Model Performance\n",
      "Average Error: 95683.7967 degrees.\n",
      "Accuracy = 81.96%.\n"
     ]
    }
   ],
   "source": [
    "base_model = RandomForestRegressor(n_estimators = 10, random_state = 42)\n",
    "base_model.fit(X_train_pca, y_train)\n",
    "base_accuracy = evaluate(base_model, X_test_pca, y_test)"
   ]
  },
  {
   "cell_type": "code",
   "execution_count": 52,
   "metadata": {},
   "outputs": [],
   "source": [
    "from sklearn.model_selection import GridSearchCV"
   ]
  },
  {
   "cell_type": "code",
   "execution_count": 53,
   "metadata": {},
   "outputs": [],
   "source": [
    "# Create the parameter grid based on the results of random search \n",
    "param_grid = {\n",
    "    'bootstrap': [True],\n",
    "    'max_depth': [80, 90, 100, 110],\n",
    "    'max_features': [2, 4, 8, 10],\n",
    "    'min_samples_leaf': [1, 3, 4, 5],\n",
    "    'min_samples_split': [2, 4, 8, 10, 12],\n",
    "    'n_estimators': [100, 200, 300, 1000]\n",
    "}# Create a based model\n",
    "rf = RandomForestRegressor()# Instantiate the grid search model\n",
    "grid_search = GridSearchCV(estimator = rf, param_grid = param_grid, \n",
    "                          cv = 3, n_jobs = -1, verbose = 2)"
   ]
  },
  {
   "cell_type": "code",
   "execution_count": 56,
   "metadata": {},
   "outputs": [
    {
     "name": "stdout",
     "output_type": "stream",
     "text": [
      "Fitting 3 folds for each of 1280 candidates, totalling 3840 fits\n"
     ]
    },
    {
     "name": "stderr",
     "output_type": "stream",
     "text": [
      "[Parallel(n_jobs=-1)]: Using backend LokyBackend with 8 concurrent workers.\n",
      "[Parallel(n_jobs=-1)]: Done  25 tasks      | elapsed:   34.4s\n",
      "[Parallel(n_jobs=-1)]: Done 146 tasks      | elapsed:  2.9min\n",
      "[Parallel(n_jobs=-1)]: Done 349 tasks      | elapsed:  7.9min\n",
      "[Parallel(n_jobs=-1)]: Done 632 tasks      | elapsed: 19.4min\n",
      "[Parallel(n_jobs=-1)]: Done 997 tasks      | elapsed: 38.7min\n",
      "[Parallel(n_jobs=-1)]: Done 1442 tasks      | elapsed: 50.0min\n",
      "[Parallel(n_jobs=-1)]: Done 1969 tasks      | elapsed: 77.0min\n",
      "[Parallel(n_jobs=-1)]: Done 2576 tasks      | elapsed: 97.4min\n",
      "[Parallel(n_jobs=-1)]: Done 3265 tasks      | elapsed: 128.0min\n",
      "[Parallel(n_jobs=-1)]: Done 3840 out of 3840 | elapsed: 164.3min finished\n"
     ]
    },
    {
     "data": {
      "text/plain": [
       "{'bootstrap': True,\n",
       " 'max_depth': 80,\n",
       " 'max_features': 10,\n",
       " 'min_samples_leaf': 1,\n",
       " 'min_samples_split': 4,\n",
       " 'n_estimators': 1000}"
      ]
     },
     "execution_count": 56,
     "metadata": {},
     "output_type": "execute_result"
    }
   ],
   "source": [
    "# Fit the grid search to the data\n",
    "grid_search.fit(X_train_pca, y_train)\n",
    "grid_search.best_params_"
   ]
  },
  {
   "cell_type": "code",
   "execution_count": 57,
   "metadata": {},
   "outputs": [
    {
     "name": "stdout",
     "output_type": "stream",
     "text": [
      "Model Performance\n",
      "Average Error: 55166.3609 degrees.\n",
      "Accuracy = 87.74%.\n"
     ]
    }
   ],
   "source": [
    "best_grid = grid_search.best_estimator_\n",
    "grid_accuracy = evaluate(best_grid, X_test_pca, y_test)"
   ]
  },
  {
   "cell_type": "code",
   "execution_count": 58,
   "metadata": {},
   "outputs": [
    {
     "name": "stdout",
     "output_type": "stream",
     "text": [
      "Improvement of 0.97%.\n"
     ]
    }
   ],
   "source": [
    "print('Improvement of {:0.2f}%.'.format( 100 * (grid_accuracy - base_accuracy) / base_accuracy))"
   ]
  },
  {
   "cell_type": "markdown",
   "metadata": {},
   "source": [
    "### Predicting on a brand new house"
   ]
  },
  {
   "cell_type": "code",
   "execution_count": 54,
   "metadata": {},
   "outputs": [],
   "source": [
    "single_house = df.drop('price',axis=1).iloc[0]"
   ]
  },
  {
   "cell_type": "code",
   "execution_count": 55,
   "metadata": {},
   "outputs": [],
   "source": [
    "single_house = scaler.transform(single_house.values.reshape(-1, 19))"
   ]
  },
  {
   "cell_type": "code",
   "execution_count": 56,
   "metadata": {},
   "outputs": [],
   "source": [
    "single_house = pca.transform(single_house)"
   ]
  },
  {
   "cell_type": "code",
   "execution_count": 57,
   "metadata": {},
   "outputs": [
    {
     "data": {
      "text/plain": [
       "array([[  -84.10999106,  -627.88468573,  -126.16578076,    74.73166203,\n",
       "            3.22399423,   -32.4621464 ,    -6.87844078,   208.20104805,\n",
       "        -1950.33043487,   176.35104753,    59.8499402 ,  -420.06634312]])"
      ]
     },
     "execution_count": 57,
     "metadata": {},
     "output_type": "execute_result"
    }
   ],
   "source": [
    "single_house"
   ]
  },
  {
   "cell_type": "code",
   "execution_count": 58,
   "metadata": {},
   "outputs": [
    {
     "data": {
      "text/plain": [
       "array([3547000.])"
      ]
     },
     "execution_count": 58,
     "metadata": {},
     "output_type": "execute_result"
    }
   ],
   "source": [
    "base_model.predict(single_house)\n",
    "#random_accuracy = evaluate(best_random, test_features, test_labels)"
   ]
  },
  {
   "cell_type": "code",
   "execution_count": 64,
   "metadata": {},
   "outputs": [
    {
     "data": {
      "text/plain": [
       "array([231812.36035159])"
      ]
     },
     "execution_count": 64,
     "metadata": {},
     "output_type": "execute_result"
    }
   ],
   "source": [
    "best_grid.predict(single_house)"
   ]
  },
  {
   "cell_type": "code",
   "execution_count": 83,
   "metadata": {},
   "outputs": [
    {
     "data": {
      "text/plain": [
       "price            221900.0000\n",
       "bedrooms              3.0000\n",
       "bathrooms             1.0000\n",
       "sqft_living        1180.0000\n",
       "sqft_lot           5650.0000\n",
       "floors                1.0000\n",
       "waterfront            0.0000\n",
       "view                  0.0000\n",
       "condition             3.0000\n",
       "grade                 7.0000\n",
       "sqft_above         1180.0000\n",
       "sqft_basement         0.0000\n",
       "yr_built           1955.0000\n",
       "yr_renovated          0.0000\n",
       "lat                  47.5112\n",
       "long               -122.2570\n",
       "sqft_living15      1340.0000\n",
       "sqft_lot15         5650.0000\n",
       "month                10.0000\n",
       "year               2014.0000\n",
       "Name: 0, dtype: float64"
      ]
     },
     "execution_count": 83,
     "metadata": {},
     "output_type": "execute_result"
    }
   ],
   "source": [
    "df.iloc[0]"
   ]
  },
  {
   "cell_type": "markdown",
   "metadata": {},
   "source": [
    "## Creating a Model with Scikit if data >= 100 k"
   ]
  },
  {
   "cell_type": "code",
   "execution_count": 92,
   "metadata": {},
   "outputs": [],
   "source": [
    "from sklearn.model_selection import GridSearchCV"
   ]
  },
  {
   "cell_type": "code",
   "execution_count": 93,
   "metadata": {},
   "outputs": [],
   "source": [
    "parameters = {'nthread':[4], #when use hyperthread, xgboost may become slower\n",
    "              'objective':['reg:linear'],\n",
    "              'learning_rate': [.03, 0.05, .07], #so called `eta` value\n",
    "              'max_depth': [5, 6, 7],\n",
    "              'min_child_weight': [4],\n",
    "              'silent': [1],\n",
    "              'subsample': [0.7],\n",
    "              'colsample_bytree': [0.7],\n",
    "              'n_estimators': [500]}"
   ]
  },
  {
   "cell_type": "code",
   "execution_count": 94,
   "metadata": {},
   "outputs": [],
   "source": [
    "xgb_reg = XGBRegressor()\n",
    "xgb_grid = GridSearchCV(xgb_reg,\n",
    "                        parameters,\n",
    "                        cv = 2,\n",
    "                        n_jobs = 5,\n",
    "                        verbose=True)"
   ]
  },
  {
   "cell_type": "code",
   "execution_count": 95,
   "metadata": {},
   "outputs": [
    {
     "name": "stdout",
     "output_type": "stream",
     "text": [
      "Fitting 2 folds for each of 9 candidates, totalling 18 fits\n"
     ]
    },
    {
     "name": "stderr",
     "output_type": "stream",
     "text": [
      "[Parallel(n_jobs=5)]: Using backend LokyBackend with 5 concurrent workers.\n",
      "[Parallel(n_jobs=5)]: Done  18 out of  18 | elapsed:  1.4min finished\n"
     ]
    },
    {
     "name": "stdout",
     "output_type": "stream",
     "text": [
      "[19:03:26] WARNING: C:/Users/Administrator/workspace/xgboost-win64_release_1.1.0/src/objective/regression_obj.cu:168: reg:linear is now deprecated in favor of reg:squarederror.\n",
      "[19:03:26] WARNING: C:\\Users\\Administrator\\workspace\\xgboost-win64_release_1.1.0\\src\\learner.cc:480: \n",
      "Parameters: { silent } might not be used.\n",
      "\n",
      "  This may not be accurate due to some parameters are only used in language bindings but\n",
      "  passed down to XGBoost core.  Or some parameters are not used but slip through this\n",
      "  verification. Please open an issue if you find above cases.\n",
      "\n",
      "\n",
      "[19:03:40] WARNING: C:/Users/Administrator/workspace/xgboost-win64_release_1.1.0/src/objective/regression_obj.cu:168: reg:linear is now deprecated in favor of reg:squarederror.\n"
     ]
    },
    {
     "data": {
      "text/plain": [
       "GridSearchCV(cv=2, error_score=nan,\n",
       "             estimator=XGBRegressor(base_score=None, booster=None,\n",
       "                                    colsample_bylevel=None,\n",
       "                                    colsample_bynode=None,\n",
       "                                    colsample_bytree=None, gamma=None,\n",
       "                                    gpu_id=None, importance_type='gain',\n",
       "                                    interaction_constraints=None,\n",
       "                                    learning_rate=None, max_delta_step=None,\n",
       "                                    max_depth=None, min_child_weight=None,\n",
       "                                    missing=nan, monotone_constraints=None,\n",
       "                                    n_estima...\n",
       "                                    validate_parameters=None, verbosity=None),\n",
       "             iid='deprecated', n_jobs=5,\n",
       "             param_grid={'colsample_bytree': [0.7],\n",
       "                         'learning_rate': [0.03, 0.05, 0.07],\n",
       "                         'max_depth': [5, 6, 7], 'min_child_weight': [4],\n",
       "                         'n_estimators': [500], 'nthread': [4],\n",
       "                         'objective': ['reg:linear'], 'silent': [1],\n",
       "                         'subsample': [0.7]},\n",
       "             pre_dispatch='2*n_jobs', refit=True, return_train_score=False,\n",
       "             scoring=None, verbose=True)"
      ]
     },
     "execution_count": 95,
     "metadata": {},
     "output_type": "execute_result"
    }
   ],
   "source": [
    "xgb_grid.fit(X_train_pca,y_train)"
   ]
  },
  {
   "cell_type": "code",
   "execution_count": 96,
   "metadata": {},
   "outputs": [
    {
     "name": "stdout",
     "output_type": "stream",
     "text": [
      "0.772121481062169\n"
     ]
    }
   ],
   "source": [
    "print(xgb_grid.best_score_)"
   ]
  },
  {
   "cell_type": "code",
   "execution_count": 97,
   "metadata": {},
   "outputs": [
    {
     "name": "stdout",
     "output_type": "stream",
     "text": [
      "{'colsample_bytree': 0.7, 'learning_rate': 0.03, 'max_depth': 7, 'min_child_weight': 4, 'n_estimators': 500, 'nthread': 4, 'objective': 'reg:linear', 'silent': 1, 'subsample': 0.7}\n"
     ]
    }
   ],
   "source": [
    "print(xgb_grid.best_params_)"
   ]
  },
  {
   "cell_type": "code",
   "execution_count": 98,
   "metadata": {},
   "outputs": [],
   "source": [
    "xgb_best_grid = xgb_grid.best_estimator_"
   ]
  },
  {
   "cell_type": "code",
   "execution_count": 99,
   "metadata": {},
   "outputs": [],
   "source": [
    "xgb_predictions = xgb_best_grid.predict(X_test_pca)"
   ]
  },
  {
   "cell_type": "code",
   "execution_count": 100,
   "metadata": {},
   "outputs": [
    {
     "name": "stdout",
     "output_type": "stream",
     "text": [
      "Mean Absolute Error: 87456.98685619213\n"
     ]
    }
   ],
   "source": [
    "mae = mean_absolute_error(xgb_predictions, y_test)\n",
    "print(\"Mean Absolute Error:\" , mae)"
   ]
  },
  {
   "cell_type": "markdown",
   "metadata": {},
   "source": [
    "### Predicting on a brand new house"
   ]
  },
  {
   "cell_type": "code",
   "execution_count": 140,
   "metadata": {},
   "outputs": [],
   "source": [
    "import random\n",
    "random.seed(101)\n",
    "random_ind = random.randint(0,len(X_test_pca))\n",
    "\n",
    "single_house = X_test_pca[6001]"
   ]
  },
  {
   "cell_type": "code",
   "execution_count": 141,
   "metadata": {},
   "outputs": [
    {
     "data": {
      "text/plain": [
       "(15117, 10)"
      ]
     },
     "execution_count": 141,
     "metadata": {},
     "output_type": "execute_result"
    }
   ],
   "source": [
    "X_train_pca.shape"
   ]
  },
  {
   "cell_type": "code",
   "execution_count": 142,
   "metadata": {},
   "outputs": [
    {
     "data": {
      "text/plain": [
       "(10,)"
      ]
     },
     "execution_count": 142,
     "metadata": {},
     "output_type": "execute_result"
    }
   ],
   "source": [
    "single_house.shape"
   ]
  },
  {
   "cell_type": "code",
   "execution_count": 143,
   "metadata": {},
   "outputs": [],
   "source": [
    "single_house = single_house.reshape(-1, 10)"
   ]
  },
  {
   "cell_type": "code",
   "execution_count": 144,
   "metadata": {},
   "outputs": [
    {
     "data": {
      "text/plain": [
       "(1, 10)"
      ]
     },
     "execution_count": 144,
     "metadata": {},
     "output_type": "execute_result"
    }
   ],
   "source": [
    "single_house.shape"
   ]
  },
  {
   "cell_type": "code",
   "execution_count": 145,
   "metadata": {},
   "outputs": [
    {
     "data": {
      "text/plain": [
       "array([[-0.42805279, -0.15975653,  0.04773907, -0.31353064, -0.03022382,\n",
       "        -0.20048219,  0.15756176, -0.08563807, -0.00430118,  0.01663552]])"
      ]
     },
     "execution_count": 145,
     "metadata": {},
     "output_type": "execute_result"
    }
   ],
   "source": [
    "single_house"
   ]
  },
  {
   "cell_type": "code",
   "execution_count": 146,
   "metadata": {},
   "outputs": [
    {
     "data": {
      "text/plain": [
       "array([344175.9], dtype=float32)"
      ]
     },
     "execution_count": 146,
     "metadata": {},
     "output_type": "execute_result"
    }
   ],
   "source": [
    "xgb_best_grid.predict(single_house)"
   ]
  },
  {
   "cell_type": "code",
   "execution_count": 147,
   "metadata": {},
   "outputs": [
    {
     "data": {
      "text/plain": [
       "6480"
      ]
     },
     "execution_count": 147,
     "metadata": {},
     "output_type": "execute_result"
    }
   ],
   "source": [
    "len(X_test_pca)"
   ]
  },
  {
   "cell_type": "code",
   "execution_count": 148,
   "metadata": {},
   "outputs": [
    {
     "data": {
      "text/plain": [
       "6480"
      ]
     },
     "execution_count": 148,
     "metadata": {},
     "output_type": "execute_result"
    }
   ],
   "source": [
    "len(y_test)"
   ]
  },
  {
   "cell_type": "code",
   "execution_count": 150,
   "metadata": {},
   "outputs": [
    {
     "data": {
      "text/plain": [
       "464625.0"
      ]
     },
     "execution_count": 150,
     "metadata": {},
     "output_type": "execute_result"
    }
   ],
   "source": [
    "y_test[6001]"
   ]
  },
  {
   "cell_type": "markdown",
   "metadata": {},
   "source": []
  },
  {
   "cell_type": "markdown",
   "metadata": {},
   "source": [
    "## Creating a Model with TensorFlow"
   ]
  },
  {
   "cell_type": "code",
   "execution_count": 66,
   "metadata": {},
   "outputs": [],
   "source": [
    "from tensorflow.keras.models import Sequential\n",
    "from tensorflow.keras.layers import Dense, Activation, Dropout\n",
    "from tensorflow.keras.optimizers import Adam"
   ]
  },
  {
   "cell_type": "code",
   "execution_count": 67,
   "metadata": {},
   "outputs": [],
   "source": [
    "from tensorflow.keras.callbacks import EarlyStopping"
   ]
  },
  {
   "cell_type": "code",
   "execution_count": 68,
   "metadata": {},
   "outputs": [],
   "source": [
    "early_stop = EarlyStopping(monitor='val_loss', mode='min', verbose=1, patience=25)"
   ]
  },
  {
   "cell_type": "code",
   "execution_count": 77,
   "metadata": {},
   "outputs": [],
   "source": [
    "model = Sequential()\n",
    "\n",
    "model.add(Dense(19,activation='relu'))\n",
    "model.add(Dropout(0.2))\n",
    "model.add(Dense(19,activation='relu'))\n",
    "model.add(Dropout(0.25))\n",
    "model.add(Dense(19,activation='relu'))\n",
    "model.add(Dropout(0.25))\n",
    "model.add(Dense(19,activation='relu'))\n",
    "model.add(Dropout(0.25))\n",
    "\n",
    "model.add(Dense(1))\n",
    "\n",
    "model.compile(optimizer='adam',loss='mse')"
   ]
  },
  {
   "cell_type": "markdown",
   "metadata": {},
   "source": [
    "## Training the Model"
   ]
  },
  {
   "cell_type": "code",
   "execution_count": 78,
   "metadata": {},
   "outputs": [
    {
     "name": "stdout",
     "output_type": "stream",
     "text": [
      "Epoch 1/600\n",
      "473/473 [==============================] - 1s 1ms/step - loss: 419634315264.0000 - val_loss: 373171027968.0000\n",
      "Epoch 2/600\n",
      "473/473 [==============================] - 1s 1ms/step - loss: 299662966784.0000 - val_loss: 165668405248.0000\n",
      "Epoch 3/600\n",
      "473/473 [==============================] - 1s 2ms/step - loss: 154914979840.0000 - val_loss: 99866230784.0000\n",
      "Epoch 4/600\n",
      "473/473 [==============================] - 1s 2ms/step - loss: 120767488000.0000 - val_loss: 77518372864.0000\n",
      "Epoch 5/600\n",
      "473/473 [==============================] - 1s 2ms/step - loss: 112722894848.0000 - val_loss: 67957628928.0000\n",
      "Epoch 6/600\n",
      "473/473 [==============================] - 1s 1ms/step - loss: 102330777600.0000 - val_loss: 63160971264.0000\n",
      "Epoch 7/600\n",
      "473/473 [==============================] - 1s 2ms/step - loss: 98760695808.0000 - val_loss: 59861667840.0000\n",
      "Epoch 8/600\n",
      "473/473 [==============================] - 1s 1ms/step - loss: 98636390400.0000 - val_loss: 58547892224.0000\n",
      "Epoch 9/600\n",
      "473/473 [==============================] - 1s 1ms/step - loss: 96459833344.0000 - val_loss: 54070775808.0000\n",
      "Epoch 10/600\n",
      "473/473 [==============================] - 1s 2ms/step - loss: 95202738176.0000 - val_loss: 55946571776.0000\n",
      "Epoch 11/600\n",
      "473/473 [==============================] - 1s 2ms/step - loss: 95007596544.0000 - val_loss: 54128766976.0000\n",
      "Epoch 12/600\n",
      "473/473 [==============================] - 1s 1ms/step - loss: 91312693248.0000 - val_loss: 50766098432.0000\n",
      "Epoch 13/600\n",
      "473/473 [==============================] - 1s 1ms/step - loss: 87709827072.0000 - val_loss: 50158804992.0000\n",
      "Epoch 14/600\n",
      "473/473 [==============================] - 1s 1ms/step - loss: 86379544576.0000 - val_loss: 50248327168.0000\n",
      "Epoch 15/600\n",
      "473/473 [==============================] - 1s 2ms/step - loss: 86102392832.0000 - val_loss: 50072014848.0000\n",
      "Epoch 16/600\n",
      "473/473 [==============================] - 1s 1ms/step - loss: 87526817792.0000 - val_loss: 50413727744.0000\n",
      "Epoch 17/600\n",
      "473/473 [==============================] - 1s 2ms/step - loss: 86498443264.0000 - val_loss: 47701323776.0000\n",
      "Epoch 18/600\n",
      "473/473 [==============================] - 1s 2ms/step - loss: 85474402304.0000 - val_loss: 48908718080.0000\n",
      "Epoch 19/600\n",
      "473/473 [==============================] - 1s 1ms/step - loss: 81731854336.0000 - val_loss: 47195836416.0000\n",
      "Epoch 20/600\n",
      "473/473 [==============================] - 1s 2ms/step - loss: 83282788352.0000 - val_loss: 47815319552.0000\n",
      "Epoch 21/600\n",
      "473/473 [==============================] - 1s 2ms/step - loss: 80150872064.0000 - val_loss: 46681899008.0000\n",
      "Epoch 22/600\n",
      "473/473 [==============================] - 1s 1ms/step - loss: 82409111552.0000 - val_loss: 46083960832.0000\n",
      "Epoch 23/600\n",
      "473/473 [==============================] - 1s 1ms/step - loss: 82095235072.0000 - val_loss: 44975915008.0000\n",
      "Epoch 24/600\n",
      "473/473 [==============================] - 1s 1ms/step - loss: 79212470272.0000 - val_loss: 46183546880.0000\n",
      "Epoch 25/600\n",
      "473/473 [==============================] - 1s 1ms/step - loss: 82187345920.0000 - val_loss: 45628817408.0000\n",
      "Epoch 26/600\n",
      "473/473 [==============================] - 1s 2ms/step - loss: 77680787456.0000 - val_loss: 44275875840.0000\n",
      "Epoch 27/600\n",
      "473/473 [==============================] - 1s 2ms/step - loss: 80069951488.0000 - val_loss: 44422721536.0000\n",
      "Epoch 28/600\n",
      "473/473 [==============================] - 1s 2ms/step - loss: 74642530304.0000 - val_loss: 44719570944.0000\n",
      "Epoch 29/600\n",
      "473/473 [==============================] - 1s 1ms/step - loss: 78068334592.0000 - val_loss: 43867967488.0000\n",
      "Epoch 30/600\n",
      "473/473 [==============================] - 1s 2ms/step - loss: 78009573376.0000 - val_loss: 43487870976.0000\n",
      "Epoch 31/600\n",
      "473/473 [==============================] - 1s 1ms/step - loss: 77298155520.0000 - val_loss: 42813276160.0000\n",
      "Epoch 32/600\n",
      "473/473 [==============================] - 1s 1ms/step - loss: 79632908288.0000 - val_loss: 43588919296.0000\n",
      "Epoch 33/600\n",
      "473/473 [==============================] - 1s 1ms/step - loss: 75695054848.0000 - val_loss: 42784534528.0000\n",
      "Epoch 34/600\n",
      "473/473 [==============================] - 1s 1ms/step - loss: 78564769792.0000 - val_loss: 42354528256.0000\n",
      "Epoch 35/600\n",
      "473/473 [==============================] - 1s 1ms/step - loss: 74383081472.0000 - val_loss: 42417848320.0000\n",
      "Epoch 36/600\n",
      "473/473 [==============================] - 1s 2ms/step - loss: 78409539584.0000 - val_loss: 41849483264.0000\n",
      "Epoch 37/600\n",
      "473/473 [==============================] - 1s 1ms/step - loss: 77591175168.0000 - val_loss: 41943629824.0000\n",
      "Epoch 38/600\n",
      "473/473 [==============================] - 1s 1ms/step - loss: 77508591616.0000 - val_loss: 40793747456.0000\n",
      "Epoch 39/600\n",
      "473/473 [==============================] - 1s 2ms/step - loss: 73116155904.0000 - val_loss: 41459621888.0000\n",
      "Epoch 40/600\n",
      "473/473 [==============================] - 1s 2ms/step - loss: 74893328384.0000 - val_loss: 41027928064.0000\n",
      "Epoch 41/600\n",
      "473/473 [==============================] - 1s 2ms/step - loss: 75375673344.0000 - val_loss: 40541011968.0000\n",
      "Epoch 42/600\n",
      "473/473 [==============================] - 1s 1ms/step - loss: 75515248640.0000 - val_loss: 41597616128.0000\n",
      "Epoch 43/600\n",
      "473/473 [==============================] - 1s 2ms/step - loss: 74594500608.0000 - val_loss: 40399503360.0000\n",
      "Epoch 44/600\n",
      "473/473 [==============================] - 1s 2ms/step - loss: 75277492224.0000 - val_loss: 41151385600.0000\n",
      "Epoch 45/600\n",
      "473/473 [==============================] - 1s 2ms/step - loss: 73440641024.0000 - val_loss: 38845562880.0000\n",
      "Epoch 46/600\n",
      "473/473 [==============================] - 1s 1ms/step - loss: 74128588800.0000 - val_loss: 40440897536.0000\n",
      "Epoch 47/600\n",
      "473/473 [==============================] - 1s 1ms/step - loss: 71385473024.0000 - val_loss: 39234838528.0000\n",
      "Epoch 48/600\n",
      "473/473 [==============================] - 1s 1ms/step - loss: 76434587648.0000 - val_loss: 38706884608.0000\n",
      "Epoch 49/600\n",
      "473/473 [==============================] - 1s 2ms/step - loss: 74383310848.0000 - val_loss: 39716864000.0000\n",
      "Epoch 50/600\n",
      "473/473 [==============================] - 1s 1ms/step - loss: 74227761152.0000 - val_loss: 38887006208.0000\n",
      "Epoch 51/600\n",
      "473/473 [==============================] - 1s 1ms/step - loss: 72753430528.0000 - val_loss: 38663413760.0000\n",
      "Epoch 52/600\n",
      "473/473 [==============================] - 1s 2ms/step - loss: 72431288320.0000 - val_loss: 39541366784.0000\n",
      "Epoch 53/600\n",
      "473/473 [==============================] - 1s 2ms/step - loss: 74684014592.0000 - val_loss: 38145560576.0000\n",
      "Epoch 54/600\n",
      "473/473 [==============================] - 1s 1ms/step - loss: 73073704960.0000 - val_loss: 39532474368.0000\n",
      "Epoch 55/600\n",
      "473/473 [==============================] - 1s 2ms/step - loss: 71198720000.0000 - val_loss: 39864774656.0000\n",
      "Epoch 56/600\n",
      "473/473 [==============================] - 1s 2ms/step - loss: 71209164800.0000 - val_loss: 37997670400.0000\n",
      "Epoch 57/600\n",
      "473/473 [==============================] - 1s 2ms/step - loss: 73353330688.0000 - val_loss: 37822898176.0000\n",
      "Epoch 58/600\n",
      "473/473 [==============================] - 1s 2ms/step - loss: 73320259584.0000 - val_loss: 38412382208.0000\n",
      "Epoch 59/600\n",
      "473/473 [==============================] - 1s 2ms/step - loss: 74592993280.0000 - val_loss: 37595693056.0000\n",
      "Epoch 60/600\n",
      "473/473 [==============================] - 1s 2ms/step - loss: 73503088640.0000 - val_loss: 38042705920.0000\n",
      "Epoch 61/600\n",
      "473/473 [==============================] - 1s 1ms/step - loss: 69745221632.0000 - val_loss: 38612062208.0000\n",
      "Epoch 62/600\n",
      "473/473 [==============================] - 1s 1ms/step - loss: 73777004544.0000 - val_loss: 38477025280.0000\n",
      "Epoch 63/600\n",
      "473/473 [==============================] - 1s 2ms/step - loss: 72181030912.0000 - val_loss: 37313220608.0000\n",
      "Epoch 64/600\n",
      "473/473 [==============================] - 1s 2ms/step - loss: 72868036608.0000 - val_loss: 36545101824.0000\n",
      "Epoch 65/600\n",
      "473/473 [==============================] - 1s 2ms/step - loss: 71498104832.0000 - val_loss: 37872238592.0000\n",
      "Epoch 66/600\n",
      "473/473 [==============================] - 1s 1ms/step - loss: 71493353472.0000 - val_loss: 38795542528.0000\n",
      "Epoch 67/600\n",
      "473/473 [==============================] - 1s 1ms/step - loss: 71885053952.0000 - val_loss: 40004419584.0000\n",
      "Epoch 68/600\n",
      "473/473 [==============================] - 1s 1ms/step - loss: 72033189888.0000 - val_loss: 37623095296.0000\n",
      "Epoch 69/600\n",
      "473/473 [==============================] - 1s 1ms/step - loss: 71199211520.0000 - val_loss: 36808785920.0000\n",
      "Epoch 70/600\n",
      "473/473 [==============================] - 1s 1ms/step - loss: 73305825280.0000 - val_loss: 36916281344.0000\n",
      "Epoch 71/600\n",
      "473/473 [==============================] - 1s 1ms/step - loss: 67924037632.0000 - val_loss: 38445830144.0000\n",
      "Epoch 72/600\n",
      "473/473 [==============================] - 1s 1ms/step - loss: 75167014912.0000 - val_loss: 38297452544.0000\n",
      "Epoch 73/600\n",
      "473/473 [==============================] - 1s 1ms/step - loss: 71212212224.0000 - val_loss: 38303817728.0000\n",
      "Epoch 74/600\n",
      "473/473 [==============================] - 1s 1ms/step - loss: 70815432704.0000 - val_loss: 37631856640.0000\n",
      "Epoch 75/600\n",
      "473/473 [==============================] - 1s 2ms/step - loss: 72392974336.0000 - val_loss: 35916419072.0000\n",
      "Epoch 76/600\n",
      "473/473 [==============================] - 1s 1ms/step - loss: 70128934912.0000 - val_loss: 36146810880.0000\n",
      "Epoch 77/600\n",
      "473/473 [==============================] - 1s 1ms/step - loss: 71832477696.0000 - val_loss: 37449195520.0000\n",
      "Epoch 78/600\n",
      "473/473 [==============================] - 1s 1ms/step - loss: 71933886464.0000 - val_loss: 37695135744.0000\n",
      "Epoch 79/600\n",
      "473/473 [==============================] - 1s 2ms/step - loss: 71240884224.0000 - val_loss: 38234976256.0000\n",
      "Epoch 80/600\n",
      "473/473 [==============================] - 1s 2ms/step - loss: 67977072640.0000 - val_loss: 38664204288.0000\n",
      "Epoch 81/600\n",
      "473/473 [==============================] - 1s 1ms/step - loss: 73924657152.0000 - val_loss: 36791447552.0000\n",
      "Epoch 82/600\n",
      "473/473 [==============================] - 1s 1ms/step - loss: 73215369216.0000 - val_loss: 39672057856.0000\n",
      "Epoch 83/600\n",
      "473/473 [==============================] - 1s 1ms/step - loss: 71906000896.0000 - val_loss: 37865201664.0000\n",
      "Epoch 84/600\n",
      "473/473 [==============================] - 1s 1ms/step - loss: 71470751744.0000 - val_loss: 38170750976.0000\n",
      "Epoch 85/600\n",
      "473/473 [==============================] - 1s 1ms/step - loss: 71003357184.0000 - val_loss: 36741443584.0000\n",
      "Epoch 86/600\n",
      "473/473 [==============================] - 1s 1ms/step - loss: 71579869184.0000 - val_loss: 37913640960.0000\n",
      "Epoch 87/600\n",
      "473/473 [==============================] - 1s 2ms/step - loss: 72041889792.0000 - val_loss: 38071111680.0000\n",
      "Epoch 88/600\n",
      "473/473 [==============================] - 1s 2ms/step - loss: 72067645440.0000 - val_loss: 36086403072.0000\n",
      "Epoch 89/600\n",
      "473/473 [==============================] - 1s 2ms/step - loss: 67973931008.0000 - val_loss: 36971577344.0000\n",
      "Epoch 90/600\n",
      "473/473 [==============================] - 1s 2ms/step - loss: 71671824384.0000 - val_loss: 36806807552.0000\n",
      "Epoch 91/600\n",
      "473/473 [==============================] - 1s 2ms/step - loss: 71523688448.0000 - val_loss: 37120708608.0000\n",
      "Epoch 92/600\n",
      "473/473 [==============================] - 1s 2ms/step - loss: 72419155968.0000 - val_loss: 36860510208.0000\n",
      "Epoch 93/600\n",
      "473/473 [==============================] - 1s 2ms/step - loss: 70775873536.0000 - val_loss: 37694693376.0000\n",
      "Epoch 94/600\n",
      "473/473 [==============================] - 1s 1ms/step - loss: 68727930880.0000 - val_loss: 35424468992.0000\n",
      "Epoch 95/600\n",
      "473/473 [==============================] - 1s 2ms/step - loss: 70067044352.0000 - val_loss: 35679993856.0000\n",
      "Epoch 96/600\n",
      "473/473 [==============================] - 1s 2ms/step - loss: 70336159744.0000 - val_loss: 36689752064.0000\n",
      "Epoch 97/600\n",
      "473/473 [==============================] - 1s 2ms/step - loss: 69604786176.0000 - val_loss: 34673434624.0000\n",
      "Epoch 98/600\n",
      "473/473 [==============================] - 1s 2ms/step - loss: 68357812224.0000 - val_loss: 35874115584.0000\n",
      "Epoch 99/600\n",
      "473/473 [==============================] - 1s 2ms/step - loss: 69118025728.0000 - val_loss: 36936912896.0000\n",
      "Epoch 100/600\n",
      "473/473 [==============================] - 1s 1ms/step - loss: 70215319552.0000 - val_loss: 35754655744.0000\n",
      "Epoch 101/600\n",
      "473/473 [==============================] - 1s 2ms/step - loss: 69751791616.0000 - val_loss: 34280499200.0000\n",
      "Epoch 102/600\n",
      "473/473 [==============================] - 1s 1ms/step - loss: 70776586240.0000 - val_loss: 36659802112.0000\n",
      "Epoch 103/600\n",
      "473/473 [==============================] - 1s 2ms/step - loss: 69918638080.0000 - val_loss: 35533709312.0000\n",
      "Epoch 104/600\n",
      "473/473 [==============================] - 1s 1ms/step - loss: 72045371392.0000 - val_loss: 35731259392.0000\n",
      "Epoch 105/600\n",
      "473/473 [==============================] - 1s 1ms/step - loss: 69220966400.0000 - val_loss: 34717888512.0000\n",
      "Epoch 106/600\n",
      "473/473 [==============================] - 1s 2ms/step - loss: 67673165824.0000 - val_loss: 35632312320.0000\n",
      "Epoch 107/600\n",
      "473/473 [==============================] - 1s 2ms/step - loss: 67785207808.0000 - val_loss: 34770903040.0000\n",
      "Epoch 108/600\n",
      "473/473 [==============================] - 1s 1ms/step - loss: 67600404480.0000 - val_loss: 37060354048.0000\n",
      "Epoch 109/600\n",
      "473/473 [==============================] - 1s 1ms/step - loss: 68629975040.0000 - val_loss: 35484962816.0000\n",
      "Epoch 110/600\n",
      "473/473 [==============================] - 1s 1ms/step - loss: 70761873408.0000 - val_loss: 40772268032.0000\n",
      "Epoch 111/600\n",
      "473/473 [==============================] - 1s 2ms/step - loss: 67693117440.0000 - val_loss: 37198966784.0000\n",
      "Epoch 112/600\n",
      "473/473 [==============================] - 1s 1ms/step - loss: 68592332800.0000 - val_loss: 36420661248.0000\n",
      "Epoch 113/600\n",
      "473/473 [==============================] - 1s 2ms/step - loss: 68094873600.0000 - val_loss: 37740785664.0000\n",
      "Epoch 114/600\n",
      "473/473 [==============================] - 1s 2ms/step - loss: 67776339968.0000 - val_loss: 35736170496.0000\n",
      "Epoch 115/600\n",
      "473/473 [==============================] - 1s 1ms/step - loss: 65809424384.0000 - val_loss: 35043860480.0000\n",
      "Epoch 116/600\n",
      "473/473 [==============================] - 1s 2ms/step - loss: 68570382336.0000 - val_loss: 35961909248.0000\n",
      "Epoch 117/600\n",
      "473/473 [==============================] - 1s 2ms/step - loss: 66280075264.0000 - val_loss: 35719147520.0000\n",
      "Epoch 118/600\n",
      "473/473 [==============================] - 1s 2ms/step - loss: 65014960128.0000 - val_loss: 35951149056.0000\n",
      "Epoch 119/600\n",
      "473/473 [==============================] - ETA: 0s - loss: 66487623680.000 - 1s 2ms/step - loss: 66202193920.0000 - val_loss: 36181209088.0000\n",
      "Epoch 120/600\n",
      "473/473 [==============================] - 1s 1ms/step - loss: 68322824192.0000 - val_loss: 34655068160.0000\n",
      "Epoch 121/600\n",
      "473/473 [==============================] - 1s 1ms/step - loss: 68624261120.0000 - val_loss: 37818753024.0000\n",
      "Epoch 122/600\n",
      "473/473 [==============================] - 1s 3ms/step - loss: 67136860160.0000 - val_loss: 35163045888.0000\n",
      "Epoch 123/600\n",
      "473/473 [==============================] - 1s 1ms/step - loss: 68646219776.0000 - val_loss: 35552313344.0000\n",
      "Epoch 124/600\n",
      "473/473 [==============================] - 1s 1ms/step - loss: 68150714368.0000 - val_loss: 33936963584.0000\n",
      "Epoch 125/600\n",
      "473/473 [==============================] - 1s 2ms/step - loss: 67091861504.0000 - val_loss: 34671333376.0000\n",
      "Epoch 126/600\n",
      "473/473 [==============================] - ETA: 0s - loss: 67707527168.000 - 1s 1ms/step - loss: 67719159808.0000 - val_loss: 35647758336.0000\n",
      "Epoch 127/600\n",
      "473/473 [==============================] - 1s 3ms/step - loss: 66922921984.0000 - val_loss: 34353311744.0000\n",
      "Epoch 128/600\n",
      "473/473 [==============================] - 1s 1ms/step - loss: 68397346816.0000 - val_loss: 34722689024.0000\n",
      "Epoch 129/600\n",
      "473/473 [==============================] - 1s 2ms/step - loss: 68776804352.0000 - val_loss: 34343784448.0000\n",
      "Epoch 130/600\n",
      "473/473 [==============================] - 1s 2ms/step - loss: 69834752000.0000 - val_loss: 34923933696.0000\n",
      "Epoch 131/600\n",
      "473/473 [==============================] - 1s 1ms/step - loss: 67128270848.0000 - val_loss: 34550624256.0000\n",
      "Epoch 132/600\n",
      "473/473 [==============================] - 1s 1ms/step - loss: 68541681664.0000 - val_loss: 35616468992.0000\n",
      "Epoch 133/600\n",
      "473/473 [==============================] - 1s 2ms/step - loss: 69010677760.0000 - val_loss: 36120285184.0000\n",
      "Epoch 134/600\n"
     ]
    },
    {
     "name": "stdout",
     "output_type": "stream",
     "text": [
      "473/473 [==============================] - 1s 2ms/step - loss: 68069625856.0000 - val_loss: 33891074048.0000\n",
      "Epoch 135/600\n",
      "473/473 [==============================] - 1s 2ms/step - loss: 66463645696.0000 - val_loss: 34415067136.0000\n",
      "Epoch 136/600\n",
      "473/473 [==============================] - 1s 2ms/step - loss: 71223828480.0000 - val_loss: 34956898304.0000\n",
      "Epoch 137/600\n",
      "473/473 [==============================] - 1s 2ms/step - loss: 66227335168.0000 - val_loss: 35734192128.0000\n",
      "Epoch 138/600\n",
      "473/473 [==============================] - 1s 2ms/step - loss: 65155936256.0000 - val_loss: 34704203776.0000\n",
      "Epoch 139/600\n",
      "473/473 [==============================] - 1s 2ms/step - loss: 68803657728.0000 - val_loss: 35552903168.0000\n",
      "Epoch 140/600\n",
      "473/473 [==============================] - 1s 1ms/step - loss: 66802167808.0000 - val_loss: 33547962368.0000\n",
      "Epoch 141/600\n",
      "473/473 [==============================] - 1s 2ms/step - loss: 67392069632.0000 - val_loss: 33158051840.0000\n",
      "Epoch 142/600\n",
      "473/473 [==============================] - 1s 2ms/step - loss: 66598674432.0000 - val_loss: 34014652416.0000\n",
      "Epoch 143/600\n",
      "473/473 [==============================] - 1s 2ms/step - loss: 66723999744.0000 - val_loss: 34294796288.0000\n",
      "Epoch 144/600\n",
      "473/473 [==============================] - 1s 2ms/step - loss: 67223121920.0000 - val_loss: 34883461120.0000\n",
      "Epoch 145/600\n",
      "473/473 [==============================] - 1s 2ms/step - loss: 67978649600.0000 - val_loss: 35594416128.0000\n",
      "Epoch 146/600\n",
      "473/473 [==============================] - 1s 2ms/step - loss: 66134425600.0000 - val_loss: 33613455360.0000\n",
      "Epoch 147/600\n",
      "473/473 [==============================] - 1s 2ms/step - loss: 65933262848.0000 - val_loss: 34307194880.0000\n",
      "Epoch 148/600\n",
      "473/473 [==============================] - 1s 1ms/step - loss: 67538755584.0000 - val_loss: 32817614848.0000\n",
      "Epoch 149/600\n",
      "473/473 [==============================] - 1s 1ms/step - loss: 64512573440.0000 - val_loss: 33819160576.0000\n",
      "Epoch 150/600\n",
      "473/473 [==============================] - 1s 2ms/step - loss: 67596529664.0000 - val_loss: 34177865728.0000\n",
      "Epoch 151/600\n",
      "473/473 [==============================] - 1s 2ms/step - loss: 66780131328.0000 - val_loss: 33569767424.0000\n",
      "Epoch 152/600\n",
      "473/473 [==============================] - 1s 2ms/step - loss: 67441860608.0000 - val_loss: 33680025600.0000\n",
      "Epoch 153/600\n",
      "473/473 [==============================] - 1s 1ms/step - loss: 65980841984.0000 - val_loss: 34005465088.0000\n",
      "Epoch 154/600\n",
      "473/473 [==============================] - 1s 1ms/step - loss: 64347664384.0000 - val_loss: 34301507584.0000\n",
      "Epoch 155/600\n",
      "473/473 [==============================] - 1s 1ms/step - loss: 65124904960.0000 - val_loss: 35134943232.0000\n",
      "Epoch 156/600\n",
      "473/473 [==============================] - 1s 1ms/step - loss: 65680412672.0000 - val_loss: 34968985600.0000\n",
      "Epoch 157/600\n",
      "473/473 [==============================] - 1s 1ms/step - loss: 65852866560.0000 - val_loss: 32958476288.0000\n",
      "Epoch 158/600\n",
      "473/473 [==============================] - 1s 1ms/step - loss: 66118909952.0000 - val_loss: 34754928640.0000\n",
      "Epoch 159/600\n",
      "473/473 [==============================] - 1s 1ms/step - loss: 66124005376.0000 - val_loss: 34736779264.0000\n",
      "Epoch 160/600\n",
      "473/473 [==============================] - 1s 1ms/step - loss: 67118391296.0000 - val_loss: 33436729344.0000\n",
      "Epoch 161/600\n",
      "473/473 [==============================] - 1s 2ms/step - loss: 63711395840.0000 - val_loss: 35938684928.0000\n",
      "Epoch 162/600\n",
      "473/473 [==============================] - 1s 1ms/step - loss: 65653325824.0000 - val_loss: 36546138112.0000\n",
      "Epoch 163/600\n",
      "473/473 [==============================] - 1s 2ms/step - loss: 64467394560.0000 - val_loss: 32507060224.0000\n",
      "Epoch 164/600\n",
      "473/473 [==============================] - 1s 2ms/step - loss: 67252305920.0000 - val_loss: 33391185920.0000\n",
      "Epoch 165/600\n",
      "473/473 [==============================] - 1s 2ms/step - loss: 64129101824.0000 - val_loss: 34280017920.0000\n",
      "Epoch 166/600\n",
      "473/473 [==============================] - 1s 1ms/step - loss: 67638775808.0000 - val_loss: 32725688320.0000\n",
      "Epoch 167/600\n",
      "473/473 [==============================] - 1s 2ms/step - loss: 65097973760.0000 - val_loss: 35026636800.0000\n",
      "Epoch 168/600\n",
      "473/473 [==============================] - 1s 1ms/step - loss: 64523403264.0000 - val_loss: 36483416064.0000\n",
      "Epoch 169/600\n",
      "473/473 [==============================] - 1s 2ms/step - loss: 66830774272.0000 - val_loss: 34253459456.0000\n",
      "Epoch 170/600\n",
      "473/473 [==============================] - 1s 2ms/step - loss: 64850743296.0000 - val_loss: 34427731968.0000\n",
      "Epoch 171/600\n",
      "473/473 [==============================] - 1s 2ms/step - loss: 63630561280.0000 - val_loss: 35463090176.0000\n",
      "Epoch 172/600\n",
      "473/473 [==============================] - 1s 2ms/step - loss: 66795425792.0000 - val_loss: 33184778240.0000\n",
      "Epoch 173/600\n",
      "473/473 [==============================] - 1s 2ms/step - loss: 63669538816.0000 - val_loss: 33015259136.0000\n",
      "Epoch 174/600\n",
      "473/473 [==============================] - 1s 2ms/step - loss: 66693697536.0000 - val_loss: 32210079744.0000\n",
      "Epoch 175/600\n",
      "473/473 [==============================] - 1s 1ms/step - loss: 66082291712.0000 - val_loss: 31551688704.0000\n",
      "Epoch 176/600\n",
      "473/473 [==============================] - 1s 1ms/step - loss: 67940745216.0000 - val_loss: 35241852928.0000\n",
      "Epoch 177/600\n",
      "473/473 [==============================] - 1s 1ms/step - loss: 66326667264.0000 - val_loss: 33114144768.0000\n",
      "Epoch 178/600\n",
      "473/473 [==============================] - 1s 1ms/step - loss: 62728396800.0000 - val_loss: 34252943360.0000\n",
      "Epoch 179/600\n",
      "473/473 [==============================] - 1s 1ms/step - loss: 66743447552.0000 - val_loss: 35942514688.0000\n",
      "Epoch 180/600\n",
      "473/473 [==============================] - 1s 2ms/step - loss: 62958714880.0000 - val_loss: 32611368960.0000\n",
      "Epoch 181/600\n",
      "473/473 [==============================] - 1s 2ms/step - loss: 64320036864.0000 - val_loss: 33025812480.0000\n",
      "Epoch 182/600\n",
      "473/473 [==============================] - 1s 1ms/step - loss: 65798377472.0000 - val_loss: 31937744896.0000\n",
      "Epoch 183/600\n",
      "473/473 [==============================] - 1s 1ms/step - loss: 68157849600.0000 - val_loss: 35510312960.0000\n",
      "Epoch 184/600\n",
      "473/473 [==============================] - 1s 1ms/step - loss: 63560613888.0000 - val_loss: 30878468096.0000\n",
      "Epoch 185/600\n",
      "473/473 [==============================] - 1s 1ms/step - loss: 62087626752.0000 - val_loss: 36777807872.0000\n",
      "Epoch 186/600\n",
      "473/473 [==============================] - 1s 1ms/step - loss: 62402236416.0000 - val_loss: 33940660224.0000\n",
      "Epoch 187/600\n",
      "473/473 [==============================] - 1s 1ms/step - loss: 62716104704.0000 - val_loss: 32941365248.0000\n",
      "Epoch 188/600\n",
      "473/473 [==============================] - 1s 1ms/step - loss: 62768766976.0000 - val_loss: 33747673088.0000\n",
      "Epoch 189/600\n",
      "473/473 [==============================] - 1s 1ms/step - loss: 65342881792.0000 - val_loss: 35231371264.0000\n",
      "Epoch 190/600\n",
      "473/473 [==============================] - 1s 1ms/step - loss: 64902676480.0000 - val_loss: 32874690560.0000\n",
      "Epoch 191/600\n",
      "473/473 [==============================] - 1s 2ms/step - loss: 62265364480.0000 - val_loss: 31838224384.0000\n",
      "Epoch 192/600\n",
      "473/473 [==============================] - 1s 2ms/step - loss: 63478980608.0000 - val_loss: 31641409536.0000\n",
      "Epoch 193/600\n",
      "473/473 [==============================] - 1s 1ms/step - loss: 65272053760.0000 - val_loss: 35885953024.0000\n",
      "Epoch 194/600\n",
      "473/473 [==============================] - 1s 1ms/step - loss: 65006338048.0000 - val_loss: 33657186304.0000\n",
      "Epoch 195/600\n",
      "473/473 [==============================] - 1s 2ms/step - loss: 64831655936.0000 - val_loss: 33219469312.0000\n",
      "Epoch 196/600\n",
      "473/473 [==============================] - 1s 2ms/step - loss: 65365811200.0000 - val_loss: 32519327744.0000\n",
      "Epoch 197/600\n",
      "473/473 [==============================] - 1s 2ms/step - loss: 63764484096.0000 - val_loss: 31555721216.0000\n",
      "Epoch 198/600\n",
      "473/473 [==============================] - 1s 2ms/step - loss: 65367617536.0000 - val_loss: 30374078464.0000\n",
      "Epoch 199/600\n",
      "473/473 [==============================] - 1s 2ms/step - loss: 65880395776.0000 - val_loss: 33365454848.0000\n",
      "Epoch 200/600\n",
      "473/473 [==============================] - 1s 2ms/step - loss: 64999030784.0000 - val_loss: 33389828096.0000\n",
      "Epoch 201/600\n",
      "473/473 [==============================] - 1s 2ms/step - loss: 63805304832.0000 - val_loss: 35103891456.0000\n",
      "Epoch 202/600\n",
      "473/473 [==============================] - 1s 2ms/step - loss: 65178509312.0000 - val_loss: 33062289408.0000\n",
      "Epoch 203/600\n",
      "473/473 [==============================] - 1s 1ms/step - loss: 63939457024.0000 - val_loss: 34415083520.0000\n",
      "Epoch 204/600\n",
      "473/473 [==============================] - 1s 1ms/step - loss: 61185507328.0000 - val_loss: 32562161664.0000\n",
      "Epoch 205/600\n",
      "473/473 [==============================] - 1s 2ms/step - loss: 64803901440.0000 - val_loss: 32112640000.0000\n",
      "Epoch 206/600\n",
      "473/473 [==============================] - 1s 2ms/step - loss: 64009154560.0000 - val_loss: 32077936640.0000\n",
      "Epoch 207/600\n",
      "473/473 [==============================] - 1s 1ms/step - loss: 62549901312.0000 - val_loss: 31939823616.0000\n",
      "Epoch 208/600\n",
      "473/473 [==============================] - 1s 1ms/step - loss: 65767944192.0000 - val_loss: 32135454720.0000\n",
      "Epoch 209/600\n",
      "473/473 [==============================] - 1s 1ms/step - loss: 63469277184.0000 - val_loss: 32314734592.0000\n",
      "Epoch 210/600\n",
      "473/473 [==============================] - 1s 1ms/step - loss: 65308651520.0000 - val_loss: 33822091264.0000\n",
      "Epoch 211/600\n",
      "473/473 [==============================] - 1s 2ms/step - loss: 65011965952.0000 - val_loss: 32358311936.0000\n",
      "Epoch 212/600\n",
      "473/473 [==============================] - 1s 2ms/step - loss: 64254316544.0000 - val_loss: 33247666176.0000\n",
      "Epoch 213/600\n",
      "473/473 [==============================] - 1s 2ms/step - loss: 65716842496.0000 - val_loss: 31126628352.0000\n",
      "Epoch 214/600\n",
      "473/473 [==============================] - 1s 2ms/step - loss: 63540510720.0000 - val_loss: 31163648000.0000\n",
      "Epoch 215/600\n",
      "473/473 [==============================] - 1s 1ms/step - loss: 62215868416.0000 - val_loss: 32461838336.0000\n",
      "Epoch 216/600\n",
      "473/473 [==============================] - 1s 1ms/step - loss: 63386030080.0000 - val_loss: 32840828928.0000\n",
      "Epoch 217/600\n",
      "473/473 [==============================] - 1s 2ms/step - loss: 63630200832.0000 - val_loss: 33081825280.0000\n",
      "Epoch 218/600\n",
      "473/473 [==============================] - 1s 1ms/step - loss: 64871661568.0000 - val_loss: 33263763456.0000\n",
      "Epoch 219/600\n",
      "473/473 [==============================] - 1s 2ms/step - loss: 65795444736.0000 - val_loss: 33716736000.0000\n",
      "Epoch 220/600\n",
      "473/473 [==============================] - 1s 2ms/step - loss: 64149020672.0000 - val_loss: 32248541184.0000\n",
      "Epoch 221/600\n",
      "473/473 [==============================] - 1s 2ms/step - loss: 65302650880.0000 - val_loss: 32309088256.0000\n",
      "Epoch 222/600\n",
      "473/473 [==============================] - 1s 2ms/step - loss: 62338322432.0000 - val_loss: 30114443264.0000\n",
      "Epoch 223/600\n",
      "473/473 [==============================] - 1s 2ms/step - loss: 63125016576.0000 - val_loss: 31531532288.0000\n",
      "Epoch 224/600\n",
      "473/473 [==============================] - 1s 2ms/step - loss: 62252232704.0000 - val_loss: 30023069696.0000\n",
      "Epoch 225/600\n",
      "473/473 [==============================] - 1s 2ms/step - loss: 63962214400.0000 - val_loss: 31849644032.0000\n",
      "Epoch 226/600\n",
      "473/473 [==============================] - 1s 1ms/step - loss: 66534539264.0000 - val_loss: 32553867264.0000\n",
      "Epoch 227/600\n",
      "473/473 [==============================] - 1s 2ms/step - loss: 63913971712.0000 - val_loss: 34873888768.0000\n",
      "Epoch 228/600\n",
      "473/473 [==============================] - 1s 1ms/step - loss: 61967605760.0000 - val_loss: 33209714688.0000\n",
      "Epoch 229/600\n",
      "473/473 [==============================] - 1s 1ms/step - loss: 62507859968.0000 - val_loss: 34054543360.0000\n",
      "Epoch 230/600\n",
      "473/473 [==============================] - 1s 1ms/step - loss: 64669978624.0000 - val_loss: 30867853312.0000\n",
      "Epoch 231/600\n",
      "473/473 [==============================] - 1s 2ms/step - loss: 61518925824.0000 - val_loss: 32010483712.0000\n",
      "Epoch 232/600\n",
      "473/473 [==============================] - 1s 2ms/step - loss: 67243032576.0000 - val_loss: 35563196416.0000\n",
      "Epoch 233/600\n",
      "473/473 [==============================] - 1s 2ms/step - loss: 65030524928.0000 - val_loss: 32699176960.0000\n",
      "Epoch 234/600\n",
      "473/473 [==============================] - 1s 1ms/step - loss: 65122066432.0000 - val_loss: 34217883648.0000\n",
      "Epoch 235/600\n",
      "473/473 [==============================] - 1s 2ms/step - loss: 66704347136.0000 - val_loss: 34698874880.0000\n",
      "Epoch 236/600\n",
      "473/473 [==============================] - 1s 1ms/step - loss: 63190470656.0000 - val_loss: 31856857088.0000\n",
      "Epoch 237/600\n",
      "473/473 [==============================] - 1s 2ms/step - loss: 65588867072.0000 - val_loss: 32595001344.0000\n",
      "Epoch 238/600\n",
      "473/473 [==============================] - 1s 2ms/step - loss: 63878221824.0000 - val_loss: 31870967808.0000\n",
      "Epoch 239/600\n",
      "473/473 [==============================] - 1s 2ms/step - loss: 61744824320.0000 - val_loss: 33232941056.0000\n",
      "Epoch 240/600\n",
      "473/473 [==============================] - 1s 1ms/step - loss: 62589734912.0000 - val_loss: 34128240640.0000\n",
      "Epoch 241/600\n",
      "473/473 [==============================] - 1s 1ms/step - loss: 64132546560.0000 - val_loss: 32213311488.0000\n",
      "Epoch 242/600\n",
      "473/473 [==============================] - 1s 1ms/step - loss: 64331558912.0000 - val_loss: 33728796672.0000\n",
      "Epoch 243/600\n",
      "473/473 [==============================] - 1s 1ms/step - loss: 64957083648.0000 - val_loss: 33917435904.0000\n",
      "Epoch 244/600\n",
      "473/473 [==============================] - 1s 1ms/step - loss: 62868770816.0000 - val_loss: 31645865984.0000\n",
      "Epoch 245/600\n",
      "473/473 [==============================] - 1s 2ms/step - loss: 61933002752.0000 - val_loss: 34523205632.0000\n",
      "Epoch 246/600\n",
      "473/473 [==============================] - 1s 2ms/step - loss: 63230046208.0000 - val_loss: 32570310656.0000\n",
      "Epoch 247/600\n",
      "473/473 [==============================] - 1s 2ms/step - loss: 62446342144.0000 - val_loss: 31289303040.0000\n",
      "Epoch 248/600\n",
      "473/473 [==============================] - 1s 1ms/step - loss: 67049152512.0000 - val_loss: 31929102336.0000\n",
      "Epoch 249/600\n",
      "473/473 [==============================] - 1s 1ms/step - loss: 63966588928.0000 - val_loss: 34949660672.0000\n",
      "Epoch 00249: early stopping\n"
     ]
    },
    {
     "data": {
      "text/plain": [
       "<tensorflow.python.keras.callbacks.History at 0x2bb78b866d0>"
      ]
     },
     "execution_count": 78,
     "metadata": {},
     "output_type": "execute_result"
    }
   ],
   "source": [
    "model.fit(x=X_train_pca,y=y_train.values,\n",
    "          validation_data=(X_test_pca,y_test.values),\n",
    "          batch_size=32,epochs=600,verbose=1,\n",
    "          callbacks=[early_stop])"
   ]
  },
  {
   "cell_type": "code",
   "execution_count": 79,
   "metadata": {},
   "outputs": [],
   "source": [
    "losses = pd.DataFrame(model.history.history)"
   ]
  },
  {
   "cell_type": "code",
   "execution_count": 80,
   "metadata": {},
   "outputs": [
    {
     "data": {
      "text/plain": [
       "<matplotlib.axes._subplots.AxesSubplot at 0x2bb7d34c460>"
      ]
     },
     "execution_count": 80,
     "metadata": {},
     "output_type": "execute_result"
    },
    {
     "data": {
      "image/png": "[encoded data removed]",
      "text/plain": [
       "<Figure size 432x288 with 1 Axes>"
      ]
     },
     "metadata": {
      "needs_background": "light"
     },
     "output_type": "display_data"
    }
   ],
   "source": [
    "losses.plot()"
   ]
  },
  {
   "cell_type": "markdown",
   "metadata": {},
   "source": [
    "### Evaluation on Test Data"
   ]
  },
  {
   "cell_type": "code",
   "execution_count": null,
   "metadata": {},
   "outputs": [],
   "source": []
  },
  {
   "cell_type": "code",
   "execution_count": 81,
   "metadata": {},
   "outputs": [],
   "source": [
    "predictions = model.predict(X_test_pca)"
   ]
  },
  {
   "cell_type": "code",
   "execution_count": 82,
   "metadata": {},
   "outputs": [
    {
     "data": {
      "text/plain": [
       "106094.63113425925"
      ]
     },
     "execution_count": 82,
     "metadata": {},
     "output_type": "execute_result"
    }
   ],
   "source": [
    "mean_absolute_error(y_test,predictions)"
   ]
  },
  {
   "cell_type": "code",
   "execution_count": 83,
   "metadata": {},
   "outputs": [
    {
     "data": {
      "text/plain": [
       "186948.27768047192"
      ]
     },
     "execution_count": 83,
     "metadata": {},
     "output_type": "execute_result"
    }
   ],
   "source": [
    "np.sqrt(mean_squared_error(y_test,predictions))"
   ]
  },
  {
   "cell_type": "code",
   "execution_count": 84,
   "metadata": {},
   "outputs": [
    {
     "data": {
      "text/plain": [
       "540296.5735055795"
      ]
     },
     "execution_count": 84,
     "metadata": {},
     "output_type": "execute_result"
    }
   ],
   "source": [
    "df['price'].mean()"
   ]
  },
  {
   "cell_type": "code",
   "execution_count": 98,
   "metadata": {},
   "outputs": [
    {
     "data": {
      "text/plain": [
       "430000.0"
      ]
     },
     "execution_count": 98,
     "metadata": {},
     "output_type": "execute_result"
    }
   ],
   "source": [
    "df['price'].median()"
   ]
  },
  {
   "cell_type": "markdown",
   "metadata": {},
   "source": [
    "### Predicting on a brand new house"
   ]
  },
  {
   "cell_type": "code",
   "execution_count": null,
   "metadata": {},
   "outputs": [],
   "source": []
  },
  {
   "cell_type": "code",
   "execution_count": 85,
   "metadata": {},
   "outputs": [
    {
     "data": {
      "text/plain": [
       "array([[ 0.        , -1.66666667, -0.66071429, -0.34496193, -0.5       ,\n",
       "         0.        ,  0.        ,  0.        ,  0.        , -0.37864078,\n",
       "         0.        , -0.43478261,  0.        , -0.29626032, -0.12871287,\n",
       "        -0.56818182, -0.39305778,  0.8       ,  0.        ]])"
      ]
     },
     "execution_count": 85,
     "metadata": {},
     "output_type": "execute_result"
    }
   ],
   "source": [
    "single_house"
   ]
  },
  {
   "cell_type": "code",
   "execution_count": 86,
   "metadata": {},
   "outputs": [
    {
     "data": {
      "text/plain": [
       "array([[271901.53]], dtype=float32)"
      ]
     },
     "execution_count": 86,
     "metadata": {},
     "output_type": "execute_result"
    }
   ],
   "source": [
    "model.predict(single_house)"
   ]
  },
  {
   "cell_type": "code",
   "execution_count": 87,
   "metadata": {},
   "outputs": [
    {
     "data": {
      "text/plain": [
       "price            221900.0000\n",
       "bedrooms              3.0000\n",
       "bathrooms             1.0000\n",
       "sqft_living        1180.0000\n",
       "sqft_lot           5650.0000\n",
       "floors                1.0000\n",
       "waterfront            0.0000\n",
       "view                  0.0000\n",
       "condition             3.0000\n",
       "grade                 7.0000\n",
       "sqft_above         1180.0000\n",
       "sqft_basement         0.0000\n",
       "yr_built           1955.0000\n",
       "yr_renovated          0.0000\n",
       "lat                  47.5112\n",
       "long               -122.2570\n",
       "sqft_living15      1340.0000\n",
       "sqft_lot15         5650.0000\n",
       "month                10.0000\n",
       "year               2014.0000\n",
       "Name: 0, dtype: float64"
      ]
     },
     "execution_count": 87,
     "metadata": {},
     "output_type": "execute_result"
    }
   ],
   "source": [
    "df.iloc[0]"
   ]
  },
  {
   "cell_type": "code",
   "execution_count": null,
   "metadata": {},
   "outputs": [],
   "source": []
  }
 ],
 "metadata": {
  "kernelspec": {
   "display_name": "Python [conda env:data_science]",
   "language": "python",
   "name": "conda-env-data_science-py"
  },
  "language_info": {
   "codemirror_mode": {
    "name": "ipython",
    "version": 3
   },
   "file_extension": ".py",
   "mimetype": "text/x-python",
   "name": "python",
   "nbconvert_exporter": "python",
   "pygments_lexer": "ipython3",
   "version": "3.8.2"
  }
 },
 "nbformat": 4,
 "nbformat_minor": 4
}
