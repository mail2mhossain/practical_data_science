{
 "cells": [
  {
   "cell_type": "code",
   "execution_count": 1,
   "metadata": {},
   "outputs": [],
   "source": [
    "import pandas as pd\n",
    "import numpy as np\n",
    "import matplotlib.pyplot as plt\n",
    "import seaborn as sns"
   ]
  },
  {
   "cell_type": "code",
   "execution_count": 2,
   "metadata": {},
   "outputs": [],
   "source": [
    "df = pd.read_csv('../data/kc_house_data.csv')"
   ]
  },
  {
   "cell_type": "code",
   "execution_count": 3,
   "metadata": {},
   "outputs": [],
   "source": [
    "df = df.drop('id',axis=1)"
   ]
  },
  {
   "cell_type": "code",
   "execution_count": 4,
   "metadata": {},
   "outputs": [
    {
     "data": {
      "text/html": [
       "<div>\n",
       "<style scoped>\n",
       "    .dataframe tbody tr th:only-of-type {\n",
       "        vertical-align: middle;\n",
       "    }\n",
       "\n",
       "    .dataframe tbody tr th {\n",
       "        vertical-align: top;\n",
       "    }\n",
       "\n",
       "    .dataframe thead th {\n",
       "        text-align: right;\n",
       "    }\n",
       "</style>\n",
       "<table border=\"1\" class=\"dataframe\">\n",
       "  <thead>\n",
       "    <tr style=\"text-align: right;\">\n",
       "      <th></th>\n",
       "      <th>date</th>\n",
       "      <th>price</th>\n",
       "      <th>bedrooms</th>\n",
       "      <th>bathrooms</th>\n",
       "      <th>sqft_living</th>\n",
       "      <th>sqft_lot</th>\n",
       "      <th>floors</th>\n",
       "      <th>waterfront</th>\n",
       "      <th>view</th>\n",
       "      <th>condition</th>\n",
       "      <th>grade</th>\n",
       "      <th>sqft_above</th>\n",
       "      <th>sqft_basement</th>\n",
       "      <th>yr_built</th>\n",
       "      <th>yr_renovated</th>\n",
       "      <th>zipcode</th>\n",
       "      <th>lat</th>\n",
       "      <th>long</th>\n",
       "      <th>sqft_living15</th>\n",
       "      <th>sqft_lot15</th>\n",
       "    </tr>\n",
       "  </thead>\n",
       "  <tbody>\n",
       "    <tr>\n",
       "      <th>0</th>\n",
       "      <td>10/13/2014</td>\n",
       "      <td>221900.0</td>\n",
       "      <td>3</td>\n",
       "      <td>1.00</td>\n",
       "      <td>1180</td>\n",
       "      <td>5650</td>\n",
       "      <td>1.0</td>\n",
       "      <td>0</td>\n",
       "      <td>0</td>\n",
       "      <td>3</td>\n",
       "      <td>7</td>\n",
       "      <td>1180</td>\n",
       "      <td>0</td>\n",
       "      <td>1955</td>\n",
       "      <td>0</td>\n",
       "      <td>98178</td>\n",
       "      <td>47.5112</td>\n",
       "      <td>-122.257</td>\n",
       "      <td>1340</td>\n",
       "      <td>5650</td>\n",
       "    </tr>\n",
       "    <tr>\n",
       "      <th>1</th>\n",
       "      <td>12/9/2014</td>\n",
       "      <td>538000.0</td>\n",
       "      <td>3</td>\n",
       "      <td>2.25</td>\n",
       "      <td>2570</td>\n",
       "      <td>7242</td>\n",
       "      <td>2.0</td>\n",
       "      <td>0</td>\n",
       "      <td>0</td>\n",
       "      <td>3</td>\n",
       "      <td>7</td>\n",
       "      <td>2170</td>\n",
       "      <td>400</td>\n",
       "      <td>1951</td>\n",
       "      <td>1991</td>\n",
       "      <td>98125</td>\n",
       "      <td>47.7210</td>\n",
       "      <td>-122.319</td>\n",
       "      <td>1690</td>\n",
       "      <td>7639</td>\n",
       "    </tr>\n",
       "    <tr>\n",
       "      <th>2</th>\n",
       "      <td>2/25/2015</td>\n",
       "      <td>180000.0</td>\n",
       "      <td>2</td>\n",
       "      <td>1.00</td>\n",
       "      <td>770</td>\n",
       "      <td>10000</td>\n",
       "      <td>1.0</td>\n",
       "      <td>0</td>\n",
       "      <td>0</td>\n",
       "      <td>3</td>\n",
       "      <td>6</td>\n",
       "      <td>770</td>\n",
       "      <td>0</td>\n",
       "      <td>1933</td>\n",
       "      <td>0</td>\n",
       "      <td>98028</td>\n",
       "      <td>47.7379</td>\n",
       "      <td>-122.233</td>\n",
       "      <td>2720</td>\n",
       "      <td>8062</td>\n",
       "    </tr>\n",
       "    <tr>\n",
       "      <th>3</th>\n",
       "      <td>12/9/2014</td>\n",
       "      <td>604000.0</td>\n",
       "      <td>4</td>\n",
       "      <td>3.00</td>\n",
       "      <td>1960</td>\n",
       "      <td>5000</td>\n",
       "      <td>1.0</td>\n",
       "      <td>0</td>\n",
       "      <td>0</td>\n",
       "      <td>5</td>\n",
       "      <td>7</td>\n",
       "      <td>1050</td>\n",
       "      <td>910</td>\n",
       "      <td>1965</td>\n",
       "      <td>0</td>\n",
       "      <td>98136</td>\n",
       "      <td>47.5208</td>\n",
       "      <td>-122.393</td>\n",
       "      <td>1360</td>\n",
       "      <td>5000</td>\n",
       "    </tr>\n",
       "    <tr>\n",
       "      <th>4</th>\n",
       "      <td>2/18/2015</td>\n",
       "      <td>510000.0</td>\n",
       "      <td>3</td>\n",
       "      <td>2.00</td>\n",
       "      <td>1680</td>\n",
       "      <td>8080</td>\n",
       "      <td>1.0</td>\n",
       "      <td>0</td>\n",
       "      <td>0</td>\n",
       "      <td>3</td>\n",
       "      <td>8</td>\n",
       "      <td>1680</td>\n",
       "      <td>0</td>\n",
       "      <td>1987</td>\n",
       "      <td>0</td>\n",
       "      <td>98074</td>\n",
       "      <td>47.6168</td>\n",
       "      <td>-122.045</td>\n",
       "      <td>1800</td>\n",
       "      <td>7503</td>\n",
       "    </tr>\n",
       "  </tbody>\n",
       "</table>\n",
       "</div>"
      ],
      "text/plain": [
       "         date     price  bedrooms  bathrooms  sqft_living  sqft_lot  floors  \\\n",
       "0  10/13/2014  221900.0         3       1.00         1180      5650     1.0   \n",
       "1   12/9/2014  538000.0         3       2.25         2570      7242     2.0   \n",
       "2   2/25/2015  180000.0         2       1.00          770     10000     1.0   \n",
       "3   12/9/2014  604000.0         4       3.00         1960      5000     1.0   \n",
       "4   2/18/2015  510000.0         3       2.00         1680      8080     1.0   \n",
       "\n",
       "   waterfront  view  condition  grade  sqft_above  sqft_basement  yr_built  \\\n",
       "0           0     0          3      7        1180              0      1955   \n",
       "1           0     0          3      7        2170            400      1951   \n",
       "2           0     0          3      6         770              0      1933   \n",
       "3           0     0          5      7        1050            910      1965   \n",
       "4           0     0          3      8        1680              0      1987   \n",
       "\n",
       "   yr_renovated  zipcode      lat     long  sqft_living15  sqft_lot15  \n",
       "0             0    98178  47.5112 -122.257           1340        5650  \n",
       "1          1991    98125  47.7210 -122.319           1690        7639  \n",
       "2             0    98028  47.7379 -122.233           2720        8062  \n",
       "3             0    98136  47.5208 -122.393           1360        5000  \n",
       "4             0    98074  47.6168 -122.045           1800        7503  "
      ]
     },
     "execution_count": 4,
     "metadata": {},
     "output_type": "execute_result"
    }
   ],
   "source": [
    "df.head()"
   ]
  },
  {
   "cell_type": "code",
   "execution_count": 5,
   "metadata": {},
   "outputs": [],
   "source": [
    "df['date'] = pd.to_datetime(df['date'])"
   ]
  },
  {
   "cell_type": "code",
   "execution_count": 6,
   "metadata": {},
   "outputs": [],
   "source": [
    "df['month'] = df['date'].apply(lambda date:date.month)"
   ]
  },
  {
   "cell_type": "code",
   "execution_count": 7,
   "metadata": {},
   "outputs": [],
   "source": [
    "df['year'] = df['date'].apply(lambda date:date.year)"
   ]
  },
  {
   "cell_type": "code",
   "execution_count": 8,
   "metadata": {},
   "outputs": [
    {
     "data": {
      "image/png": "[encoded data removed]",
      "text/plain": [
       "<Figure size 432x288 with 1 Axes>"
      ]
     },
     "metadata": {
      "needs_background": "light"
     },
     "output_type": "display_data"
    }
   ],
   "source": [
    "df.groupby('month').mean()['price'].plot();"
   ]
  },
  {
   "cell_type": "code",
   "execution_count": 9,
   "metadata": {},
   "outputs": [
    {
     "data": {
      "image/png": "[encoded data removed]",
      "text/plain": [
       "<Figure size 432x288 with 1 Axes>"
      ]
     },
     "metadata": {
      "needs_background": "light"
     },
     "output_type": "display_data"
    }
   ],
   "source": [
    "df.groupby('year').mean()['price'].plot();"
   ]
  },
  {
   "cell_type": "code",
   "execution_count": 10,
   "metadata": {},
   "outputs": [],
   "source": [
    "df = df.drop('date',axis=1)"
   ]
  },
  {
   "cell_type": "code",
   "execution_count": 11,
   "metadata": {},
   "outputs": [
    {
     "data": {
      "text/plain": [
       "Index(['price', 'bedrooms', 'bathrooms', 'sqft_living', 'sqft_lot', 'floors',\n",
       "       'waterfront', 'view', 'condition', 'grade', 'sqft_above',\n",
       "       'sqft_basement', 'yr_built', 'yr_renovated', 'zipcode', 'lat', 'long',\n",
       "       'sqft_living15', 'sqft_lot15', 'month', 'year'],\n",
       "      dtype='object')"
      ]
     },
     "execution_count": 11,
     "metadata": {},
     "output_type": "execute_result"
    }
   ],
   "source": [
    "df.columns"
   ]
  },
  {
   "cell_type": "code",
   "execution_count": 12,
   "metadata": {},
   "outputs": [
    {
     "data": {
      "text/plain": [
       "98103    602\n",
       "98038    589\n",
       "98115    583\n",
       "98052    574\n",
       "98117    553\n",
       "        ... \n",
       "98102    104\n",
       "98010    100\n",
       "98024     80\n",
       "98148     57\n",
       "98039     50\n",
       "Name: zipcode, Length: 70, dtype: int64"
      ]
     },
     "execution_count": 12,
     "metadata": {},
     "output_type": "execute_result"
    }
   ],
   "source": [
    "df['zipcode'].value_counts()"
   ]
  },
  {
   "cell_type": "code",
   "execution_count": 13,
   "metadata": {},
   "outputs": [],
   "source": [
    "df = df.drop('zipcode',axis=1)"
   ]
  },
  {
   "cell_type": "code",
   "execution_count": 14,
   "metadata": {},
   "outputs": [
    {
     "data": {
      "text/plain": [
       "0       20683\n",
       "2014       91\n",
       "2013       37\n",
       "2003       36\n",
       "2000       35\n",
       "        ...  \n",
       "1934        1\n",
       "1959        1\n",
       "1951        1\n",
       "1948        1\n",
       "1944        1\n",
       "Name: yr_renovated, Length: 70, dtype: int64"
      ]
     },
     "execution_count": 14,
     "metadata": {},
     "output_type": "execute_result"
    }
   ],
   "source": [
    "df['yr_renovated'].value_counts()"
   ]
  },
  {
   "cell_type": "code",
   "execution_count": 15,
   "metadata": {},
   "outputs": [
    {
     "data": {
      "text/plain": [
       "0       13110\n",
       "600       221\n",
       "700       218\n",
       "500       214\n",
       "800       206\n",
       "        ...  \n",
       "792         1\n",
       "2590        1\n",
       "935         1\n",
       "2390        1\n",
       "248         1\n",
       "Name: sqft_basement, Length: 306, dtype: int64"
      ]
     },
     "execution_count": 15,
     "metadata": {},
     "output_type": "execute_result"
    }
   ],
   "source": [
    "df['sqft_basement'].value_counts()"
   ]
  },
  {
   "cell_type": "markdown",
   "metadata": {},
   "source": [
    "### Train Test Split"
   ]
  },
  {
   "cell_type": "code",
   "execution_count": 16,
   "metadata": {},
   "outputs": [],
   "source": [
    "X = df.drop('price',axis=1)\n",
    "y = df['price']"
   ]
  },
  {
   "cell_type": "code",
   "execution_count": 17,
   "metadata": {},
   "outputs": [],
   "source": [
    "from sklearn.model_selection import train_test_split"
   ]
  },
  {
   "cell_type": "code",
   "execution_count": 18,
   "metadata": {},
   "outputs": [],
   "source": [
    "X_train, X_test, y_train, y_test = train_test_split(X,y,test_size=0.3,random_state=101)"
   ]
  },
  {
   "cell_type": "markdown",
   "metadata": {},
   "source": [
    "### Scaling using RobustScaler"
   ]
  },
  {
   "cell_type": "code",
   "execution_count": 19,
   "metadata": {},
   "outputs": [],
   "source": [
    "from sklearn.preprocessing import RobustScaler"
   ]
  },
  {
   "cell_type": "code",
   "execution_count": 20,
   "metadata": {},
   "outputs": [],
   "source": [
    "scaler = RobustScaler() \n",
    "scaler.fit(X_train)\n",
    "X_train = scaler.transform(X_train)\n",
    "X_test = scaler.transform(X_test)"
   ]
  },
  {
   "cell_type": "code",
   "execution_count": 21,
   "metadata": {},
   "outputs": [],
   "source": [
    "full_scaler = RobustScaler() \n",
    "full_scaler.fit(X)\n",
    "X = scaler.transform(X)"
   ]
  },
  {
   "cell_type": "code",
   "execution_count": 22,
   "metadata": {},
   "outputs": [
    {
     "data": {
      "text/plain": [
       "(15117, 19)"
      ]
     },
     "execution_count": 22,
     "metadata": {},
     "output_type": "execute_result"
    }
   ],
   "source": [
    "X_train.shape"
   ]
  },
  {
   "cell_type": "markdown",
   "metadata": {
    "heading_collapsed": true
   },
   "source": [
    "## Cross Validation if data < 100 k"
   ]
  },
  {
   "cell_type": "code",
   "execution_count": 22,
   "metadata": {
    "hidden": true
   },
   "outputs": [],
   "source": [
    "from sklearn.linear_model import LinearRegression\n",
    "from sklearn.tree import DecisionTreeRegressor\n",
    "from sklearn.ensemble import RandomForestRegressor\n",
    "from sklearn.svm import SVR"
   ]
  },
  {
   "cell_type": "code",
   "execution_count": 23,
   "metadata": {
    "hidden": true
   },
   "outputs": [],
   "source": [
    "def display_scores(scores):\n",
    "    print(\"Scores:\", scores)\n",
    "    print(\"Mean:\", scores.mean())\n",
    "    print(\"Standard deviation:\", scores.std())"
   ]
  },
  {
   "cell_type": "code",
   "execution_count": 24,
   "metadata": {
    "hidden": true
   },
   "outputs": [],
   "source": [
    "from sklearn.model_selection import cross_val_score"
   ]
  },
  {
   "cell_type": "code",
   "execution_count": 25,
   "metadata": {
    "hidden": true
   },
   "outputs": [
    {
     "name": "stdout",
     "output_type": "stream",
     "text": [
      "Scores: [210439.10864539 219848.41150675 190793.62320503 226313.58757206\n",
      " 187675.54581532 192517.61166216 188711.84585598 197721.9193357\n",
      " 202102.10612751 212991.24338029]\n",
      "Mean: 202911.5003106194\n",
      "Standard deviation: 13072.910881229745\n"
     ]
    }
   ],
   "source": [
    "lin_reg_cvs = LinearRegression()\n",
    "lin_scores = cross_val_score(lin_reg_cvs, X, y,\n",
    "                             scoring=\"neg_mean_squared_error\", cv=10)\n",
    "lin_rmse_scores = np.sqrt(-lin_scores)\n",
    "display_scores(lin_rmse_scores)"
   ]
  },
  {
   "cell_type": "code",
   "execution_count": 26,
   "metadata": {
    "hidden": true
   },
   "outputs": [
    {
     "name": "stdout",
     "output_type": "stream",
     "text": [
      "Scores: [181633.73154841 180975.38887313 168012.15063973 188968.22898956\n",
      " 179859.48211721 208252.84909133 177651.12819195 183451.60726396\n",
      " 194295.68702296 169613.43029159]\n",
      "Mean: 183271.36840298306\n",
      "Standard deviation: 11174.35067345799\n"
     ]
    }
   ],
   "source": [
    "tree_reg_cvs = DecisionTreeRegressor(random_state=42)\n",
    "scores = cross_val_score(tree_reg_cvs, X, y,\n",
    "                         scoring=\"neg_mean_squared_error\", cv=10)\n",
    "tree_rmse_scores = np.sqrt(-scores)\n",
    "display_scores(tree_rmse_scores)"
   ]
  },
  {
   "cell_type": "code",
   "execution_count": 27,
   "metadata": {
    "hidden": true
   },
   "outputs": [
    {
     "name": "stdout",
     "output_type": "stream",
     "text": [
      "Scores: [132932.57864329 138187.35655325 114288.26029755 136752.82103336\n",
      " 114819.98884888 136486.01246238 142187.81849901 119696.92864635\n",
      " 124736.21537698 133940.6988398 ]\n",
      "Mean: 129402.8679200843\n",
      "Standard deviation: 9669.334750662223\n"
     ]
    }
   ],
   "source": [
    "forest_reg_cvs = RandomForestRegressor(n_estimators=100, random_state=42)\n",
    "forest_scores = cross_val_score(forest_reg_cvs, X, y,\n",
    "                                scoring=\"neg_mean_squared_error\", cv=10)\n",
    "forest_rmse_scores = np.sqrt(-forest_scores)\n",
    "display_scores(forest_rmse_scores)"
   ]
  },
  {
   "cell_type": "code",
   "execution_count": null,
   "metadata": {
    "hidden": true
   },
   "outputs": [],
   "source": [
    "svm_reg_rbf = SVR(kernel=\"rbf\")\n",
    "svm_rbf_scores = cross_val_score(svm_reg_rbf, X, y, scoring=\"neg_mean_squared_error\", cv=10)\n",
    "svm_rbf_rmse_scores = np.sqrt(-svm_rbf_scores)\n",
    "display_scores(svm_rbf_rmse_scores)"
   ]
  },
  {
   "cell_type": "code",
   "execution_count": null,
   "metadata": {
    "hidden": true
   },
   "outputs": [],
   "source": [
    "#svm_reg_cvs = SVR(kernel=\"linear\")\n",
    "#svm_scores = cross_val_score(svm_reg_cvs, X, y, scoring=\"neg_mean_squared_error\", cv=10)\n",
    "#svm_rmse_scores = np.sqrt(-svm_scores)\n",
    "#display_scores(svm_rmse_scores)"
   ]
  },
  {
   "cell_type": "code",
   "execution_count": 28,
   "metadata": {
    "hidden": true
   },
   "outputs": [
    {
     "name": "stdout",
     "output_type": "stream",
     "text": [
      "RMSE of Lnear Regression: 202911.5003106194\n",
      "RMSE of Decision Tree: 183271.36840298306\n",
      "RMSE of Random Forest: 129402.8679200843\n"
     ]
    }
   ],
   "source": [
    "print(\"RMSE of Lnear Regression:\", lin_rmse_scores.mean())\n",
    "print(\"RMSE of Decision Tree:\", tree_rmse_scores.mean())\n",
    "print(\"RMSE of Random Forest:\", forest_rmse_scores.mean())\n",
    "print(\"RMSE of Support Vector (rbf):\", svm_rbf_rmse_scores.mean())\n",
    "#print(\"RMSE of Support Vector:\", svm_rmse_scores.mean())"
   ]
  },
  {
   "cell_type": "code",
   "execution_count": 29,
   "metadata": {
    "hidden": true
   },
   "outputs": [],
   "source": [
    "from sklearn.metrics import mean_squared_error,mean_absolute_error,explained_variance_score"
   ]
  },
  {
   "cell_type": "code",
   "execution_count": 30,
   "metadata": {
    "hidden": true
   },
   "outputs": [
    {
     "data": {
      "text/plain": [
       "(21597, 19)"
      ]
     },
     "execution_count": 30,
     "metadata": {},
     "output_type": "execute_result"
    }
   ],
   "source": [
    "X.shape"
   ]
  },
  {
   "cell_type": "code",
   "execution_count": 31,
   "metadata": {
    "hidden": true
   },
   "outputs": [],
   "source": [
    "from pprint import pprint"
   ]
  },
  {
   "cell_type": "markdown",
   "metadata": {
    "heading_collapsed": true
   },
   "source": [
    "## Cross Validation if data >= 100 k"
   ]
  },
  {
   "cell_type": "code",
   "execution_count": 36,
   "metadata": {
    "hidden": true
   },
   "outputs": [],
   "source": [
    "from xgboost import XGBRegressor"
   ]
  },
  {
   "cell_type": "code",
   "execution_count": 37,
   "metadata": {
    "hidden": true
   },
   "outputs": [],
   "source": [
    "xgb_model = XGBRegressor(n_estimators=500, learning_rate=0.05)"
   ]
  },
  {
   "cell_type": "code",
   "execution_count": 38,
   "metadata": {
    "hidden": true
   },
   "outputs": [
    {
     "data": {
      "text/plain": [
       "XGBRegressor(base_score=0.5, booster='gbtree', colsample_bylevel=1,\n",
       "             colsample_bynode=1, colsample_bytree=1, gamma=0, gpu_id=-1,\n",
       "             importance_type='gain', interaction_constraints='',\n",
       "             learning_rate=0.05, max_delta_step=0, max_depth=6,\n",
       "             min_child_weight=1, missing=nan, monotone_constraints='()',\n",
       "             n_estimators=500, n_jobs=0, num_parallel_tree=1,\n",
       "             objective='reg:squarederror', random_state=0, reg_alpha=0,\n",
       "             reg_lambda=1, scale_pos_weight=1, subsample=1, tree_method='exact',\n",
       "             validate_parameters=1, verbosity=None)"
      ]
     },
     "execution_count": 38,
     "metadata": {},
     "output_type": "execute_result"
    }
   ],
   "source": [
    "xgb_model.fit(X_train, y_train, \n",
    "             early_stopping_rounds=5, \n",
    "             eval_set=[(X_test, y_test)], \n",
    "             verbose=False)"
   ]
  },
  {
   "cell_type": "code",
   "execution_count": 41,
   "metadata": {
    "hidden": true
   },
   "outputs": [],
   "source": [
    "xgb_predictions = xgb_model.predict(X_test)"
   ]
  },
  {
   "cell_type": "code",
   "execution_count": 42,
   "metadata": {
    "hidden": true
   },
   "outputs": [],
   "source": [
    "from sklearn.metrics import mean_absolute_error"
   ]
  },
  {
   "cell_type": "code",
   "execution_count": 43,
   "metadata": {
    "hidden": true
   },
   "outputs": [
    {
     "name": "stdout",
     "output_type": "stream",
     "text": [
      "Mean Absolute Error: 63840.53592906057\n"
     ]
    }
   ],
   "source": [
    "mae = mean_absolute_error(xgb_predictions, y_test)\n",
    "print(\"Mean Absolute Error:\" , mae)"
   ]
  },
  {
   "cell_type": "markdown",
   "metadata": {
    "heading_collapsed": true
   },
   "source": [
    "## Creating a Model with Scikit if data < 100 k"
   ]
  },
  {
   "cell_type": "code",
   "execution_count": 46,
   "metadata": {
    "hidden": true
   },
   "outputs": [],
   "source": [
    "from sklearn.model_selection import GridSearchCV"
   ]
  },
  {
   "cell_type": "code",
   "execution_count": 33,
   "metadata": {
    "hidden": true
   },
   "outputs": [],
   "source": [
    "def evaluate(model, test_features, test_labels):\n",
    "    predictions = model.predict(test_features)\n",
    "    errors = abs(predictions - test_labels)\n",
    "    mape = 100 * np.mean(errors / test_labels)\n",
    "    accuracy = 100 - mape\n",
    "    print('Model Performance')\n",
    "    print('Average Error: {:0.4f} degrees.'.format(np.mean(errors)))\n",
    "    print('Accuracy = {:0.2f}%.'.format(accuracy))\n",
    "    \n",
    "    return accuracy"
   ]
  },
  {
   "cell_type": "markdown",
   "metadata": {
    "hidden": true
   },
   "source": [
    "max_depthint, default=None\n",
    "\n",
    "    The maximum depth of the tree. If None, then nodes are expanded until all leaves are pure or until all leaves contain less than min_samples_split samples.\n"
   ]
  },
  {
   "cell_type": "markdown",
   "metadata": {
    "hidden": true
   },
   "source": [
    "max_features{“auto”, “sqrt”, “log2”}, int or float, default=”auto”\n",
    "\n",
    "    The number of features to consider when looking for the best split:\n",
    "\n",
    "        If int, then consider max_features features at each split.\n",
    "\n",
    "        If float, then max_features is a fraction and int(max_features * n_features) features are considered at each split.\n",
    "\n",
    "        If “auto”, then max_features=n_features.\n",
    "\n",
    "        If “sqrt”, then max_features=sqrt(n_features).\n",
    "\n",
    "        If “log2”, then max_features=log2(n_features).\n",
    "\n",
    "        If None, then max_features=n_features.\n",
    "\n",
    "    Note: the search for a split does not stop until at least one valid partition of the node samples is found, even if it requires to effectively inspect more than max_features features.\n"
   ]
  },
  {
   "cell_type": "code",
   "execution_count": 34,
   "metadata": {
    "hidden": true
   },
   "outputs": [],
   "source": [
    "# Create the parameter grid based on the results of random search \n",
    "param_grid = {\n",
    "    'bootstrap': [True],\n",
    "    'max_depth': [80, 90, 100, 110],\n",
    "    'max_features': [2, 4, 8, 10, 12, 14],\n",
    "    'min_samples_leaf': [1, 3, 4, 5],\n",
    "    'min_samples_split': [2, 4, 8, 10, 12],\n",
    "    'n_estimators': [100, 200, 300, 1000]\n",
    "}# Create a based model\n",
    "rf = RandomForestRegressor()# Instantiate the grid search model\n",
    "grid_search = GridSearchCV(estimator = rf, param_grid = param_grid, \n",
    "                          cv = 3, n_jobs = -1, verbose = 2)"
   ]
  },
  {
   "cell_type": "code",
   "execution_count": null,
   "metadata": {
    "hidden": true
   },
   "outputs": [
    {
     "name": "stdout",
     "output_type": "stream",
     "text": [
      "Fitting 3 folds for each of 1280 candidates, totalling 3840 fits\n"
     ]
    },
    {
     "name": "stderr",
     "output_type": "stream",
     "text": [
      "[Parallel(n_jobs=-1)]: Using backend LokyBackend with 8 concurrent workers.\n",
      "[Parallel(n_jobs=-1)]: Done  25 tasks      | elapsed:   32.5s\n",
      "[Parallel(n_jobs=-1)]: Done 146 tasks      | elapsed:  2.8min\n",
      "[Parallel(n_jobs=-1)]: Done 349 tasks      | elapsed:  8.0min\n"
     ]
    }
   ],
   "source": [
    "# Fit the grid search to the data\n",
    "grid_search.fit(X_train, y_train)\n",
    "grid_search.best_params_"
   ]
  },
  {
   "cell_type": "code",
   "execution_count": 35,
   "metadata": {
    "hidden": true
   },
   "outputs": [
    {
     "name": "stdout",
     "output_type": "stream",
     "text": [
      "Model Performance\n",
      "Average Error: 71766.2059 degrees.\n",
      "Accuracy = 86.34%.\n"
     ]
    }
   ],
   "source": [
    "base_model = RandomForestRegressor(n_estimators = 10, random_state = 42)\n",
    "base_model.fit(X_train, y_train)\n",
    "base_accuracy = evaluate(base_model, X_test, y_test)"
   ]
  },
  {
   "cell_type": "code",
   "execution_count": 49,
   "metadata": {
    "hidden": true
   },
   "outputs": [
    {
     "name": "stdout",
     "output_type": "stream",
     "text": [
      "Model Performance\n",
      "Average Error: 74822.9824 degrees.\n",
      "Accuracy = 85.45%.\n"
     ]
    }
   ],
   "source": [
    "best_grid = grid_search.best_estimator_\n",
    "grid_accuracy = evaluate(best_grid, X_test, y_test)"
   ]
  },
  {
   "cell_type": "code",
   "execution_count": 43,
   "metadata": {
    "hidden": true
   },
   "outputs": [
    {
     "name": "stdout",
     "output_type": "stream",
     "text": [
      "Improvement of -1.02%.\n"
     ]
    }
   ],
   "source": [
    "print('Improvement of {:0.2f}%.'.format( 100 * (grid_accuracy - base_accuracy) / base_accuracy))"
   ]
  },
  {
   "cell_type": "markdown",
   "metadata": {
    "hidden": true
   },
   "source": [
    "### Predicting on a brand new house"
   ]
  },
  {
   "cell_type": "code",
   "execution_count": 50,
   "metadata": {
    "hidden": true
   },
   "outputs": [],
   "source": [
    "single_house = df.drop('price',axis=1).iloc[0]"
   ]
  },
  {
   "cell_type": "code",
   "execution_count": 51,
   "metadata": {
    "hidden": true
   },
   "outputs": [],
   "source": [
    "single_house = scaler.transform(single_house.values.reshape(-1, 19))"
   ]
  },
  {
   "cell_type": "code",
   "execution_count": 52,
   "metadata": {
    "hidden": true
   },
   "outputs": [
    {
     "data": {
      "text/plain": [
       "array([[ 0.        , -1.66666667, -0.66071429, -0.34496193, -0.5       ,\n",
       "         0.        ,  0.        ,  0.        ,  0.        , -0.37864078,\n",
       "         0.        , -0.43478261,  0.        , -0.29626032, -0.12871287,\n",
       "        -0.56818182, -0.39305778,  0.8       ,  0.        ]])"
      ]
     },
     "execution_count": 52,
     "metadata": {},
     "output_type": "execute_result"
    }
   ],
   "source": [
    "single_house"
   ]
  },
  {
   "cell_type": "code",
   "execution_count": 55,
   "metadata": {
    "hidden": true
   },
   "outputs": [
    {
     "data": {
      "text/plain": [
       "array([243287.46241685])"
      ]
     },
     "execution_count": 55,
     "metadata": {},
     "output_type": "execute_result"
    }
   ],
   "source": [
    "best_grid.predict(single_house)"
   ]
  },
  {
   "cell_type": "code",
   "execution_count": 56,
   "metadata": {
    "hidden": true
   },
   "outputs": [
    {
     "data": {
      "text/plain": [
       "array([237595.])"
      ]
     },
     "execution_count": 56,
     "metadata": {},
     "output_type": "execute_result"
    }
   ],
   "source": [
    "base_model.predict(single_house)"
   ]
  },
  {
   "cell_type": "code",
   "execution_count": 54,
   "metadata": {
    "hidden": true
   },
   "outputs": [
    {
     "data": {
      "text/plain": [
       "price            221900.0000\n",
       "bedrooms              3.0000\n",
       "bathrooms             1.0000\n",
       "sqft_living        1180.0000\n",
       "sqft_lot           5650.0000\n",
       "floors                1.0000\n",
       "waterfront            0.0000\n",
       "view                  0.0000\n",
       "condition             3.0000\n",
       "grade                 7.0000\n",
       "sqft_above         1180.0000\n",
       "sqft_basement         0.0000\n",
       "yr_built           1955.0000\n",
       "yr_renovated          0.0000\n",
       "lat                  47.5112\n",
       "long               -122.2570\n",
       "sqft_living15      1340.0000\n",
       "sqft_lot15         5650.0000\n",
       "month                10.0000\n",
       "year               2014.0000\n",
       "Name: 0, dtype: float64"
      ]
     },
     "execution_count": 54,
     "metadata": {},
     "output_type": "execute_result"
    }
   ],
   "source": [
    "df.iloc[0]"
   ]
  },
  {
   "cell_type": "markdown",
   "metadata": {
    "heading_collapsed": true
   },
   "source": [
    "## Creating a Model with Scikit if data >= 100 k"
   ]
  },
  {
   "cell_type": "code",
   "execution_count": 47,
   "metadata": {
    "hidden": true
   },
   "outputs": [],
   "source": [
    "from sklearn.model_selection import GridSearchCV"
   ]
  },
  {
   "cell_type": "code",
   "execution_count": 48,
   "metadata": {
    "hidden": true
   },
   "outputs": [],
   "source": [
    "parameters = {'nthread':[4], #when use hyperthread, xgboost may become slower\n",
    "              'objective':['reg:linear'],\n",
    "              'learning_rate': [.03, 0.05, .07], #so called `eta` value\n",
    "              'max_depth': [5, 6, 7],\n",
    "              'min_child_weight': [4],\n",
    "              'silent': [1],\n",
    "              'subsample': [0.7],\n",
    "              'colsample_bytree': [0.7],\n",
    "              'n_estimators': [500]}"
   ]
  },
  {
   "cell_type": "code",
   "execution_count": 49,
   "metadata": {
    "hidden": true
   },
   "outputs": [],
   "source": [
    "xgb_reg = XGBRegressor()\n",
    "xgb_grid = GridSearchCV(xgb_reg,\n",
    "                        parameters,\n",
    "                        cv = 2,\n",
    "                        n_jobs = 5,\n",
    "                        verbose=True)"
   ]
  },
  {
   "cell_type": "code",
   "execution_count": 50,
   "metadata": {
    "hidden": true
   },
   "outputs": [
    {
     "name": "stdout",
     "output_type": "stream",
     "text": [
      "Fitting 2 folds for each of 9 candidates, totalling 18 fits\n"
     ]
    },
    {
     "name": "stderr",
     "output_type": "stream",
     "text": [
      "[Parallel(n_jobs=5)]: Using backend LokyBackend with 5 concurrent workers.\n",
      "[Parallel(n_jobs=5)]: Done  18 out of  18 | elapsed:   33.7s finished\n"
     ]
    },
    {
     "name": "stdout",
     "output_type": "stream",
     "text": [
      "[16:25:36] WARNING: C:/Users/Administrator/workspace/xgboost-win64_release_1.1.0/src/objective/regression_obj.cu:168: reg:linear is now deprecated in favor of reg:squarederror.\n",
      "[16:25:36] WARNING: C:\\Users\\Administrator\\workspace\\xgboost-win64_release_1.1.0\\src\\learner.cc:480: \n",
      "Parameters: { silent } might not be used.\n",
      "\n",
      "  This may not be accurate due to some parameters are only used in language bindings but\n",
      "  passed down to XGBoost core.  Or some parameters are not used but slip through this\n",
      "  verification. Please open an issue if you find above cases.\n",
      "\n",
      "\n",
      "[16:25:41] WARNING: C:/Users/Administrator/workspace/xgboost-win64_release_1.1.0/src/objective/regression_obj.cu:168: reg:linear is now deprecated in favor of reg:squarederror.\n"
     ]
    },
    {
     "data": {
      "text/plain": [
       "GridSearchCV(cv=2, error_score=nan,\n",
       "             estimator=XGBRegressor(base_score=None, booster=None,\n",
       "                                    colsample_bylevel=None,\n",
       "                                    colsample_bynode=None,\n",
       "                                    colsample_bytree=None, gamma=None,\n",
       "                                    gpu_id=None, importance_type='gain',\n",
       "                                    interaction_constraints=None,\n",
       "                                    learning_rate=None, max_delta_step=None,\n",
       "                                    max_depth=None, min_child_weight=None,\n",
       "                                    missing=nan, monotone_constraints=None,\n",
       "                                    n_estima...\n",
       "                                    validate_parameters=None, verbosity=None),\n",
       "             iid='deprecated', n_jobs=5,\n",
       "             param_grid={'colsample_bytree': [0.7],\n",
       "                         'learning_rate': [0.03, 0.05, 0.07],\n",
       "                         'max_depth': [5, 6, 7], 'min_child_weight': [4],\n",
       "                         'n_estimators': [500], 'nthread': [4],\n",
       "                         'objective': ['reg:linear'], 'silent': [1],\n",
       "                         'subsample': [0.7]},\n",
       "             pre_dispatch='2*n_jobs', refit=True, return_train_score=False,\n",
       "             scoring=None, verbose=True)"
      ]
     },
     "execution_count": 50,
     "metadata": {},
     "output_type": "execute_result"
    }
   ],
   "source": [
    "xgb_grid.fit(X_train,y_train)"
   ]
  },
  {
   "cell_type": "code",
   "execution_count": 51,
   "metadata": {
    "hidden": true
   },
   "outputs": [
    {
     "name": "stdout",
     "output_type": "stream",
     "text": [
      "0.8879466144050354\n"
     ]
    }
   ],
   "source": [
    "print(xgb_grid.best_score_)"
   ]
  },
  {
   "cell_type": "code",
   "execution_count": 52,
   "metadata": {
    "hidden": true
   },
   "outputs": [
    {
     "name": "stdout",
     "output_type": "stream",
     "text": [
      "{'colsample_bytree': 0.7, 'learning_rate': 0.07, 'max_depth': 5, 'min_child_weight': 4, 'n_estimators': 500, 'nthread': 4, 'objective': 'reg:linear', 'silent': 1, 'subsample': 0.7}\n"
     ]
    }
   ],
   "source": [
    "print(xgb_grid.best_params_)"
   ]
  },
  {
   "cell_type": "code",
   "execution_count": 53,
   "metadata": {
    "hidden": true
   },
   "outputs": [],
   "source": [
    "xgb_best_grid = xgb_grid.best_estimator_"
   ]
  },
  {
   "cell_type": "code",
   "execution_count": 54,
   "metadata": {
    "hidden": true
   },
   "outputs": [],
   "source": [
    "xgb_predictions = xgb_best_grid.predict(X_test)"
   ]
  },
  {
   "cell_type": "code",
   "execution_count": 56,
   "metadata": {
    "hidden": true
   },
   "outputs": [
    {
     "name": "stdout",
     "output_type": "stream",
     "text": [
      "Mean Absolute Error: 63197.34867862654\n"
     ]
    }
   ],
   "source": [
    "mae = mean_absolute_error(xgb_predictions, y_test)\n",
    "print(\"Mean Absolute Error:\" , mae)"
   ]
  },
  {
   "cell_type": "markdown",
   "metadata": {
    "hidden": true
   },
   "source": [
    "### Predicting on a brand new house"
   ]
  },
  {
   "cell_type": "code",
   "execution_count": 66,
   "metadata": {
    "hidden": true
   },
   "outputs": [],
   "source": [
    "import random\n",
    "random.seed(101)\n",
    "random_ind = random.randint(0,len(X_test))\n",
    "\n",
    "single_house = X_test[random_ind]"
   ]
  },
  {
   "cell_type": "code",
   "execution_count": 59,
   "metadata": {
    "hidden": true
   },
   "outputs": [
    {
     "data": {
      "text/plain": [
       "(15117, 19)"
      ]
     },
     "execution_count": 59,
     "metadata": {},
     "output_type": "execute_result"
    }
   ],
   "source": [
    "X_train.shape"
   ]
  },
  {
   "cell_type": "code",
   "execution_count": 60,
   "metadata": {
    "hidden": true
   },
   "outputs": [],
   "source": [
    "single_house = scaler.transform(single_house.values.reshape(-1, 19))"
   ]
  },
  {
   "cell_type": "code",
   "execution_count": 62,
   "metadata": {
    "hidden": true
   },
   "outputs": [
    {
     "data": {
      "text/plain": [
       "array([215698.64], dtype=float32)"
      ]
     },
     "execution_count": 62,
     "metadata": {},
     "output_type": "execute_result"
    }
   ],
   "source": [
    "xgb_best_grid.predict(single_house)"
   ]
  },
  {
   "cell_type": "code",
   "execution_count": 63,
   "metadata": {
    "hidden": true
   },
   "outputs": [
    {
     "data": {
      "text/plain": [
       "array([226028.98], dtype=float32)"
      ]
     },
     "execution_count": 63,
     "metadata": {},
     "output_type": "execute_result"
    }
   ],
   "source": [
    "xgb_model.predict(single_house)"
   ]
  },
  {
   "cell_type": "code",
   "execution_count": 64,
   "metadata": {
    "hidden": true
   },
   "outputs": [
    {
     "data": {
      "text/plain": [
       "price            221900.0000\n",
       "bedrooms              3.0000\n",
       "bathrooms             1.0000\n",
       "sqft_living        1180.0000\n",
       "sqft_lot           5650.0000\n",
       "floors                1.0000\n",
       "waterfront            0.0000\n",
       "view                  0.0000\n",
       "condition             3.0000\n",
       "grade                 7.0000\n",
       "sqft_above         1180.0000\n",
       "sqft_basement         0.0000\n",
       "yr_built           1955.0000\n",
       "yr_renovated          0.0000\n",
       "lat                  47.5112\n",
       "long               -122.2570\n",
       "sqft_living15      1340.0000\n",
       "sqft_lot15         5650.0000\n",
       "month                10.0000\n",
       "year               2014.0000\n",
       "Name: 0, dtype: float64"
      ]
     },
     "execution_count": 64,
     "metadata": {},
     "output_type": "execute_result"
    }
   ],
   "source": [
    "df.iloc[0]"
   ]
  },
  {
   "cell_type": "markdown",
   "metadata": {},
   "source": [
    "## Creating a Model with TensorFlow"
   ]
  },
  {
   "cell_type": "code",
   "execution_count": 57,
   "metadata": {},
   "outputs": [],
   "source": [
    "from tensorflow.keras.models import Sequential\n",
    "from tensorflow.keras.layers import Dense, Activation, Dropout\n",
    "from tensorflow.keras.optimizers import Adam"
   ]
  },
  {
   "cell_type": "code",
   "execution_count": 58,
   "metadata": {},
   "outputs": [],
   "source": [
    "from tensorflow.keras.callbacks import EarlyStopping"
   ]
  },
  {
   "cell_type": "code",
   "execution_count": 59,
   "metadata": {},
   "outputs": [],
   "source": [
    "early_stop = EarlyStopping(monitor='val_loss', mode='min', verbose=1, patience=25)"
   ]
  },
  {
   "cell_type": "code",
   "execution_count": 65,
   "metadata": {},
   "outputs": [],
   "source": [
    "model = Sequential()\n",
    "\n",
    "#model.add(Dense(38,activation='relu'))\n",
    "#model.add(Dropout(0.2))\n",
    "model.add(Dense(19,activation='relu'))\n",
    "model.add(Dropout(0.3))\n",
    "model.add(Dense(19,activation='relu'))\n",
    "model.add(Dropout(0.2))\n",
    "model.add(Dense(19,activation='relu'))\n",
    "model.add(Dropout(0.3))\n",
    "model.add(Dense(10,activation='relu'))\n",
    "model.add(Dropout(0.3))\n",
    "\n",
    "model.add(Dense(1))\n",
    "\n",
    "model.compile(optimizer='adam',loss='mse')"
   ]
  },
  {
   "cell_type": "markdown",
   "metadata": {},
   "source": [
    "## Training the Model"
   ]
  },
  {
   "cell_type": "code",
   "execution_count": 66,
   "metadata": {},
   "outputs": [
    {
     "name": "stdout",
     "output_type": "stream",
     "text": [
      "Epoch 1/600\n",
      "119/119 [==============================] - 0s 2ms/step - loss: 430010040320.0000 - val_loss: 418067382272.0000\n",
      "Epoch 2/600\n",
      "119/119 [==============================] - 0s 2ms/step - loss: 420977672192.0000 - val_loss: 394910302208.0000\n",
      "Epoch 3/600\n",
      "119/119 [==============================] - 0s 2ms/step - loss: 399397289984.0000 - val_loss: 382167384064.0000\n",
      "Epoch 4/600\n",
      "119/119 [==============================] - 0s 2ms/step - loss: 389768609792.0000 - val_loss: 367024635904.0000\n",
      "Epoch 5/600\n",
      "119/119 [==============================] - 0s 2ms/step - loss: 365353566208.0000 - val_loss: 325739708416.0000\n",
      "Epoch 6/600\n",
      "119/119 [==============================] - 0s 2ms/step - loss: 311545757696.0000 - val_loss: 254870618112.0000\n",
      "Epoch 7/600\n",
      "119/119 [==============================] - 0s 2ms/step - loss: 254743183360.0000 - val_loss: 203344510976.0000\n",
      "Epoch 8/600\n",
      "119/119 [==============================] - 0s 2ms/step - loss: 217547145216.0000 - val_loss: 170346233856.0000\n",
      "Epoch 9/600\n",
      "119/119 [==============================] - 0s 2ms/step - loss: 191468601344.0000 - val_loss: 148044283904.0000\n",
      "Epoch 10/600\n",
      "119/119 [==============================] - 0s 3ms/step - loss: 169573072896.0000 - val_loss: 129504575488.0000\n",
      "Epoch 11/600\n",
      "119/119 [==============================] - 0s 2ms/step - loss: 165217042432.0000 - val_loss: 116581457920.0000\n",
      "Epoch 12/600\n",
      "119/119 [==============================] - 0s 2ms/step - loss: 146362105856.0000 - val_loss: 107110793216.0000\n",
      "Epoch 13/600\n",
      "119/119 [==============================] - 0s 2ms/step - loss: 140624199680.0000 - val_loss: 98297470976.0000\n",
      "Epoch 14/600\n",
      "119/119 [==============================] - 0s 2ms/step - loss: 130202935296.0000 - val_loss: 89703022592.0000\n",
      "Epoch 15/600\n",
      "119/119 [==============================] - 0s 2ms/step - loss: 126854062080.0000 - val_loss: 84801495040.0000\n",
      "Epoch 16/600\n",
      "119/119 [==============================] - 0s 2ms/step - loss: 118205808640.0000 - val_loss: 79040700416.0000\n",
      "Epoch 17/600\n",
      "119/119 [==============================] - 0s 2ms/step - loss: 117965225984.0000 - val_loss: 75797766144.0000\n",
      "Epoch 18/600\n",
      "119/119 [==============================] - 0s 2ms/step - loss: 112305676288.0000 - val_loss: 71105961984.0000\n",
      "Epoch 19/600\n",
      "119/119 [==============================] - 0s 2ms/step - loss: 112072802304.0000 - val_loss: 69733785600.0000\n",
      "Epoch 20/600\n",
      "119/119 [==============================] - 0s 2ms/step - loss: 108054593536.0000 - val_loss: 68124676096.0000\n",
      "Epoch 21/600\n",
      "119/119 [==============================] - 0s 2ms/step - loss: 109023969280.0000 - val_loss: 67535151104.0000\n",
      "Epoch 22/600\n",
      "119/119 [==============================] - 0s 2ms/step - loss: 104910446592.0000 - val_loss: 64107159552.0000\n",
      "Epoch 23/600\n",
      "119/119 [==============================] - 0s 2ms/step - loss: 103927128064.0000 - val_loss: 62834188288.0000\n",
      "Epoch 24/600\n",
      "119/119 [==============================] - 0s 2ms/step - loss: 101728444416.0000 - val_loss: 61068804096.0000\n",
      "Epoch 25/600\n",
      "119/119 [==============================] - 0s 2ms/step - loss: 100506968064.0000 - val_loss: 59824844800.0000\n",
      "Epoch 26/600\n",
      "119/119 [==============================] - 0s 2ms/step - loss: 100644659200.0000 - val_loss: 58028838912.0000\n",
      "Epoch 27/600\n",
      "119/119 [==============================] - 0s 2ms/step - loss: 96147251200.0000 - val_loss: 57738342400.0000\n",
      "Epoch 28/600\n",
      "119/119 [==============================] - 0s 2ms/step - loss: 98297733120.0000 - val_loss: 57688686592.0000\n",
      "Epoch 29/600\n",
      "119/119 [==============================] - 0s 2ms/step - loss: 98632040448.0000 - val_loss: 56708497408.0000\n",
      "Epoch 30/600\n",
      "119/119 [==============================] - 0s 2ms/step - loss: 98041331712.0000 - val_loss: 56582029312.0000\n",
      "Epoch 31/600\n",
      "119/119 [==============================] - 0s 2ms/step - loss: 94981750784.0000 - val_loss: 54888353792.0000\n",
      "Epoch 32/600\n",
      "119/119 [==============================] - 0s 2ms/step - loss: 93406945280.0000 - val_loss: 55843753984.0000\n",
      "Epoch 33/600\n",
      "119/119 [==============================] - 0s 2ms/step - loss: 93376143360.0000 - val_loss: 54051414016.0000\n",
      "Epoch 34/600\n",
      "119/119 [==============================] - 0s 2ms/step - loss: 96436035584.0000 - val_loss: 55396294656.0000\n",
      "Epoch 35/600\n",
      "119/119 [==============================] - 0s 2ms/step - loss: 94404116480.0000 - val_loss: 54289371136.0000\n",
      "Epoch 36/600\n",
      "119/119 [==============================] - 0s 2ms/step - loss: 94862614528.0000 - val_loss: 52797218816.0000\n",
      "Epoch 37/600\n",
      "119/119 [==============================] - 0s 2ms/step - loss: 89281363968.0000 - val_loss: 52932841472.0000\n",
      "Epoch 38/600\n",
      "119/119 [==============================] - 0s 2ms/step - loss: 88371437568.0000 - val_loss: 52511338496.0000\n",
      "Epoch 39/600\n",
      "119/119 [==============================] - 0s 2ms/step - loss: 87695892480.0000 - val_loss: 50683498496.0000\n",
      "Epoch 40/600\n",
      "119/119 [==============================] - 0s 2ms/step - loss: 93277396992.0000 - val_loss: 50578173952.0000\n",
      "Epoch 41/600\n",
      "119/119 [==============================] - 0s 2ms/step - loss: 89265618944.0000 - val_loss: 52194013184.0000\n",
      "Epoch 42/600\n",
      "119/119 [==============================] - 0s 2ms/step - loss: 89614958592.0000 - val_loss: 51343302656.0000\n",
      "Epoch 43/600\n",
      "119/119 [==============================] - 0s 2ms/step - loss: 91047845888.0000 - val_loss: 48516145152.0000\n",
      "Epoch 44/600\n",
      "119/119 [==============================] - 0s 2ms/step - loss: 88848228352.0000 - val_loss: 49381560320.0000\n",
      "Epoch 45/600\n",
      "119/119 [==============================] - 0s 2ms/step - loss: 88470142976.0000 - val_loss: 48975634432.0000\n",
      "Epoch 46/600\n",
      "119/119 [==============================] - 0s 2ms/step - loss: 90163863552.0000 - val_loss: 49214996480.0000\n",
      "Epoch 47/600\n",
      "119/119 [==============================] - 0s 2ms/step - loss: 87006142464.0000 - val_loss: 48500580352.0000\n",
      "Epoch 48/600\n",
      "119/119 [==============================] - 0s 2ms/step - loss: 91749949440.0000 - val_loss: 48426119168.0000\n",
      "Epoch 49/600\n",
      "119/119 [==============================] - 0s 2ms/step - loss: 87591215104.0000 - val_loss: 48564162560.0000\n",
      "Epoch 50/600\n",
      "119/119 [==============================] - 0s 2ms/step - loss: 89281781760.0000 - val_loss: 48834805760.0000\n",
      "Epoch 51/600\n",
      "119/119 [==============================] - 0s 2ms/step - loss: 88552177664.0000 - val_loss: 49595867136.0000\n",
      "Epoch 52/600\n",
      "119/119 [==============================] - 0s 2ms/step - loss: 83382624256.0000 - val_loss: 48284528640.0000\n",
      "Epoch 53/600\n",
      "119/119 [==============================] - 0s 2ms/step - loss: 88877375488.0000 - val_loss: 47781740544.0000\n",
      "Epoch 54/600\n",
      "119/119 [==============================] - 0s 2ms/step - loss: 86888595456.0000 - val_loss: 48227639296.0000\n",
      "Epoch 55/600\n",
      "119/119 [==============================] - 0s 2ms/step - loss: 87825645568.0000 - val_loss: 46165651456.0000\n",
      "Epoch 56/600\n",
      "119/119 [==============================] - 0s 2ms/step - loss: 85012619264.0000 - val_loss: 46777917440.0000\n",
      "Epoch 57/600\n",
      "119/119 [==============================] - 0s 2ms/step - loss: 85012815872.0000 - val_loss: 47129706496.0000\n",
      "Epoch 58/600\n",
      "119/119 [==============================] - 0s 2ms/step - loss: 84136820736.0000 - val_loss: 46520045568.0000\n",
      "Epoch 59/600\n",
      "119/119 [==============================] - 0s 2ms/step - loss: 83601833984.0000 - val_loss: 46293676032.0000\n",
      "Epoch 60/600\n",
      "119/119 [==============================] - 0s 2ms/step - loss: 84149149696.0000 - val_loss: 45565493248.0000\n",
      "Epoch 61/600\n",
      "119/119 [==============================] - 0s 2ms/step - loss: 86067208192.0000 - val_loss: 45431734272.0000\n",
      "Epoch 62/600\n",
      "119/119 [==============================] - 0s 2ms/step - loss: 85363630080.0000 - val_loss: 45875847168.0000\n",
      "Epoch 63/600\n",
      "119/119 [==============================] - 0s 2ms/step - loss: 83164848128.0000 - val_loss: 45585858560.0000\n",
      "Epoch 64/600\n",
      "119/119 [==============================] - 0s 2ms/step - loss: 82725158912.0000 - val_loss: 45428764672.0000\n",
      "Epoch 65/600\n",
      "119/119 [==============================] - 0s 2ms/step - loss: 83477307392.0000 - val_loss: 46186004480.0000\n",
      "Epoch 66/600\n",
      "119/119 [==============================] - 0s 2ms/step - loss: 87027171328.0000 - val_loss: 45265973248.0000\n",
      "Epoch 67/600\n",
      "119/119 [==============================] - 0s 2ms/step - loss: 81781792768.0000 - val_loss: 44922187776.0000\n"
     ]
    },
    {
     "name": "stdout",
     "output_type": "stream",
     "text": [
      "Epoch 68/600\n",
      "119/119 [==============================] - 0s 2ms/step - loss: 85536604160.0000 - val_loss: 45158146048.0000\n",
      "Epoch 69/600\n",
      "119/119 [==============================] - 0s 2ms/step - loss: 83332988928.0000 - val_loss: 44896698368.0000\n",
      "Epoch 70/600\n",
      "119/119 [==============================] - 0s 2ms/step - loss: 84605091840.0000 - val_loss: 44939628544.0000\n",
      "Epoch 71/600\n",
      "119/119 [==============================] - 0s 2ms/step - loss: 83937525760.0000 - val_loss: 44740583424.0000\n",
      "Epoch 72/600\n",
      "119/119 [==============================] - 0s 2ms/step - loss: 83628220416.0000 - val_loss: 43766677504.0000\n",
      "Epoch 73/600\n",
      "119/119 [==============================] - 0s 2ms/step - loss: 84954480640.0000 - val_loss: 45224742912.0000\n",
      "Epoch 74/600\n",
      "119/119 [==============================] - 0s 2ms/step - loss: 82681102336.0000 - val_loss: 43825971200.0000\n",
      "Epoch 75/600\n",
      "119/119 [==============================] - 0s 2ms/step - loss: 84010622976.0000 - val_loss: 45486624768.0000\n",
      "Epoch 76/600\n",
      "119/119 [==============================] - 0s 2ms/step - loss: 82871967744.0000 - val_loss: 43457425408.0000\n",
      "Epoch 77/600\n",
      "119/119 [==============================] - 0s 2ms/step - loss: 82030501888.0000 - val_loss: 43342188544.0000\n",
      "Epoch 78/600\n",
      "119/119 [==============================] - 0s 2ms/step - loss: 79997222912.0000 - val_loss: 43041177600.0000\n",
      "Epoch 79/600\n",
      "119/119 [==============================] - 0s 2ms/step - loss: 82147401728.0000 - val_loss: 46347317248.0000\n",
      "Epoch 80/600\n",
      "119/119 [==============================] - 0s 2ms/step - loss: 82509660160.0000 - val_loss: 43774226432.0000\n",
      "Epoch 81/600\n",
      "119/119 [==============================] - 0s 2ms/step - loss: 81330749440.0000 - val_loss: 43214716928.0000\n",
      "Epoch 82/600\n",
      "119/119 [==============================] - 0s 2ms/step - loss: 82214477824.0000 - val_loss: 41941282816.0000\n",
      "Epoch 83/600\n",
      "119/119 [==============================] - 0s 2ms/step - loss: 81209524224.0000 - val_loss: 42558980096.0000\n",
      "Epoch 84/600\n",
      "119/119 [==============================] - 0s 2ms/step - loss: 79764930560.0000 - val_loss: 43672862720.0000\n",
      "Epoch 85/600\n",
      "119/119 [==============================] - 0s 2ms/step - loss: 81302388736.0000 - val_loss: 42392526848.0000\n",
      "Epoch 86/600\n",
      "119/119 [==============================] - 0s 2ms/step - loss: 80930537472.0000 - val_loss: 42956091392.0000\n",
      "Epoch 87/600\n",
      "119/119 [==============================] - 0s 2ms/step - loss: 81017225216.0000 - val_loss: 42609221632.0000\n",
      "Epoch 88/600\n",
      "119/119 [==============================] - 0s 2ms/step - loss: 79573934080.0000 - val_loss: 42712690688.0000\n",
      "Epoch 89/600\n",
      "119/119 [==============================] - 0s 2ms/step - loss: 81048100864.0000 - val_loss: 41422794752.0000\n",
      "Epoch 90/600\n",
      "119/119 [==============================] - 0s 2ms/step - loss: 77388234752.0000 - val_loss: 42462228480.0000\n",
      "Epoch 91/600\n",
      "119/119 [==============================] - 0s 3ms/step - loss: 79736741888.0000 - val_loss: 42167693312.0000\n",
      "Epoch 92/600\n",
      "119/119 [==============================] - 0s 2ms/step - loss: 80189636608.0000 - val_loss: 41842118656.0000\n",
      "Epoch 93/600\n",
      "119/119 [==============================] - 0s 2ms/step - loss: 78597750784.0000 - val_loss: 44591697920.0000\n",
      "Epoch 94/600\n",
      "119/119 [==============================] - 0s 2ms/step - loss: 82329681920.0000 - val_loss: 41318785024.0000\n",
      "Epoch 95/600\n",
      "119/119 [==============================] - 0s 2ms/step - loss: 78045667328.0000 - val_loss: 43175489536.0000\n",
      "Epoch 96/600\n",
      "119/119 [==============================] - 0s 2ms/step - loss: 81380630528.0000 - val_loss: 41995296768.0000\n",
      "Epoch 97/600\n",
      "119/119 [==============================] - 0s 2ms/step - loss: 81607311360.0000 - val_loss: 40685211648.0000\n",
      "Epoch 98/600\n",
      "119/119 [==============================] - 0s 2ms/step - loss: 78758322176.0000 - val_loss: 42008227840.0000\n",
      "Epoch 99/600\n",
      "119/119 [==============================] - 0s 2ms/step - loss: 77626785792.0000 - val_loss: 40907603968.0000\n",
      "Epoch 100/600\n",
      "119/119 [==============================] - 0s 2ms/step - loss: 81257062400.0000 - val_loss: 41437257728.0000\n",
      "Epoch 101/600\n",
      "119/119 [==============================] - 0s 2ms/step - loss: 81086177280.0000 - val_loss: 42740363264.0000\n",
      "Epoch 102/600\n",
      "119/119 [==============================] - 0s 2ms/step - loss: 81868480512.0000 - val_loss: 41510416384.0000\n",
      "Epoch 103/600\n",
      "119/119 [==============================] - 0s 2ms/step - loss: 78977409024.0000 - val_loss: 41273036800.0000\n",
      "Epoch 104/600\n",
      "119/119 [==============================] - 0s 2ms/step - loss: 77636517888.0000 - val_loss: 43241308160.0000\n",
      "Epoch 105/600\n",
      "119/119 [==============================] - 0s 2ms/step - loss: 79756869632.0000 - val_loss: 41091170304.0000\n",
      "Epoch 106/600\n",
      "119/119 [==============================] - 0s 2ms/step - loss: 80271441920.0000 - val_loss: 42915110912.0000\n",
      "Epoch 107/600\n",
      "119/119 [==============================] - 0s 2ms/step - loss: 78957518848.0000 - val_loss: 42233270272.0000\n",
      "Epoch 108/600\n",
      "119/119 [==============================] - 0s 2ms/step - loss: 80666533888.0000 - val_loss: 41315557376.0000\n",
      "Epoch 109/600\n",
      "119/119 [==============================] - 0s 2ms/step - loss: 78500978688.0000 - val_loss: 41829675008.0000\n",
      "Epoch 110/600\n",
      "119/119 [==============================] - 0s 2ms/step - loss: 80162562048.0000 - val_loss: 41430949888.0000\n",
      "Epoch 111/600\n",
      "119/119 [==============================] - 0s 2ms/step - loss: 80414572544.0000 - val_loss: 40814190592.0000\n",
      "Epoch 112/600\n",
      "119/119 [==============================] - 0s 2ms/step - loss: 78131707904.0000 - val_loss: 42020651008.0000\n",
      "Epoch 113/600\n",
      "119/119 [==============================] - 0s 2ms/step - loss: 80783089664.0000 - val_loss: 41906597888.0000\n",
      "Epoch 114/600\n",
      "119/119 [==============================] - 0s 2ms/step - loss: 79299526656.0000 - val_loss: 39948132352.0000\n",
      "Epoch 115/600\n",
      "119/119 [==============================] - 0s 2ms/step - loss: 80626466816.0000 - val_loss: 41962319872.0000\n",
      "Epoch 116/600\n",
      "119/119 [==============================] - 0s 2ms/step - loss: 78788689920.0000 - val_loss: 40671395840.0000\n",
      "Epoch 117/600\n",
      "119/119 [==============================] - 0s 2ms/step - loss: 81108295680.0000 - val_loss: 40240984064.0000\n",
      "Epoch 118/600\n",
      "119/119 [==============================] - 0s 2ms/step - loss: 80185311232.0000 - val_loss: 40661684224.0000\n",
      "Epoch 119/600\n",
      "119/119 [==============================] - 0s 2ms/step - loss: 80784195584.0000 - val_loss: 40952770560.0000\n",
      "Epoch 120/600\n",
      "119/119 [==============================] - 0s 2ms/step - loss: 76933218304.0000 - val_loss: 39177027584.0000\n",
      "Epoch 121/600\n",
      "119/119 [==============================] - 0s 2ms/step - loss: 78538104832.0000 - val_loss: 41285136384.0000\n",
      "Epoch 122/600\n",
      "119/119 [==============================] - 0s 2ms/step - loss: 79099199488.0000 - val_loss: 40441896960.0000\n",
      "Epoch 123/600\n",
      "119/119 [==============================] - 0s 2ms/step - loss: 79564169216.0000 - val_loss: 40074727424.0000\n",
      "Epoch 124/600\n",
      "119/119 [==============================] - 0s 2ms/step - loss: 77631700992.0000 - val_loss: 41040584704.0000\n",
      "Epoch 125/600\n",
      "119/119 [==============================] - 0s 2ms/step - loss: 80867090432.0000 - val_loss: 40379883520.0000\n",
      "Epoch 126/600\n",
      "119/119 [==============================] - 0s 2ms/step - loss: 78902951936.0000 - val_loss: 41229987840.0000\n",
      "Epoch 127/600\n",
      "119/119 [==============================] - ETA: 0s - loss: 79554330624.000 - 0s 2ms/step - loss: 80622051328.0000 - val_loss: 41409916928.0000\n",
      "Epoch 128/600\n",
      "119/119 [==============================] - 0s 2ms/step - loss: 78519427072.0000 - val_loss: 42069893120.0000\n",
      "Epoch 129/600\n",
      "119/119 [==============================] - 0s 2ms/step - loss: 80064839680.0000 - val_loss: 40862687232.0000\n",
      "Epoch 130/600\n",
      "119/119 [==============================] - 0s 2ms/step - loss: 80590069760.0000 - val_loss: 40825225216.0000\n",
      "Epoch 131/600\n",
      "119/119 [==============================] - 0s 2ms/step - loss: 77838680064.0000 - val_loss: 41098063872.0000\n",
      "Epoch 132/600\n",
      "119/119 [==============================] - 0s 2ms/step - loss: 76879806464.0000 - val_loss: 40566882304.0000\n",
      "Epoch 133/600\n",
      "119/119 [==============================] - 0s 2ms/step - loss: 79209619456.0000 - val_loss: 40237568000.0000\n",
      "Epoch 134/600\n",
      "119/119 [==============================] - 0s 2ms/step - loss: 79113601024.0000 - val_loss: 40096763904.0000\n",
      "Epoch 135/600\n",
      "119/119 [==============================] - 0s 2ms/step - loss: 81218994176.0000 - val_loss: 41245859840.0000\n",
      "Epoch 136/600\n",
      "119/119 [==============================] - 0s 2ms/step - loss: 78831788032.0000 - val_loss: 39538798592.0000\n",
      "Epoch 137/600\n",
      "119/119 [==============================] - 0s 2ms/step - loss: 79354798080.0000 - val_loss: 39999913984.0000\n",
      "Epoch 138/600\n",
      "119/119 [==============================] - ETA: 0s - loss: 77074259968.000 - 0s 2ms/step - loss: 78271520768.0000 - val_loss: 40792256512.0000\n",
      "Epoch 139/600\n",
      "119/119 [==============================] - 0s 2ms/step - loss: 79543304192.0000 - val_loss: 40124973056.0000\n",
      "Epoch 140/600\n",
      "119/119 [==============================] - 0s 2ms/step - loss: 76514123776.0000 - val_loss: 41391955968.0000\n",
      "Epoch 141/600\n",
      "119/119 [==============================] - 0s 2ms/step - loss: 78507548672.0000 - val_loss: 40844439552.0000\n",
      "Epoch 142/600\n",
      "119/119 [==============================] - 0s 2ms/step - loss: 78543699968.0000 - val_loss: 40882659328.0000\n",
      "Epoch 143/600\n",
      "119/119 [==============================] - 0s 2ms/step - loss: 79736676352.0000 - val_loss: 39410909184.0000\n",
      "Epoch 144/600\n",
      "119/119 [==============================] - 0s 2ms/step - loss: 77060571136.0000 - val_loss: 39597109248.0000\n",
      "Epoch 145/600\n",
      "119/119 [==============================] - 0s 2ms/step - loss: 79143264256.0000 - val_loss: 40101470208.0000\n",
      "Epoch 00145: early stopping\n"
     ]
    },
    {
     "data": {
      "text/plain": [
       "<tensorflow.python.keras.callbacks.History at 0x2343d696cd0>"
      ]
     },
     "execution_count": 66,
     "metadata": {},
     "output_type": "execute_result"
    }
   ],
   "source": [
    "model.fit(x=X_train,y=y_train.values,\n",
    "          validation_data=(X_test,y_test.values),\n",
    "          batch_size=128,epochs=600,verbose=2,\n",
    "          callbacks=[early_stop])"
   ]
  },
  {
   "cell_type": "code",
   "execution_count": 67,
   "metadata": {},
   "outputs": [],
   "source": [
    "losses = pd.DataFrame(model.history.history)"
   ]
  },
  {
   "cell_type": "code",
   "execution_count": 68,
   "metadata": {},
   "outputs": [
    {
     "data": {
      "text/plain": [
       "<matplotlib.axes._subplots.AxesSubplot at 0x2343c1c68e0>"
      ]
     },
     "execution_count": 68,
     "metadata": {},
     "output_type": "execute_result"
    },
    {
     "data": {
      "image/png": "[encoded data removed]",
      "text/plain": [
       "<Figure size 432x288 with 1 Axes>"
      ]
     },
     "metadata": {
      "needs_background": "light"
     },
     "output_type": "display_data"
    }
   ],
   "source": [
    "losses.plot()"
   ]
  },
  {
   "cell_type": "markdown",
   "metadata": {},
   "source": [
    "### Evaluation on Test Data"
   ]
  },
  {
   "cell_type": "code",
   "execution_count": null,
   "metadata": {},
   "outputs": [],
   "source": []
  },
  {
   "cell_type": "code",
   "execution_count": 69,
   "metadata": {},
   "outputs": [],
   "source": [
    "predictions = model.predict(X_test)"
   ]
  },
  {
   "cell_type": "code",
   "execution_count": 70,
   "metadata": {},
   "outputs": [
    {
     "data": {
      "text/plain": [
       "116478.45941719714"
      ]
     },
     "execution_count": 70,
     "metadata": {},
     "output_type": "execute_result"
    }
   ],
   "source": [
    "mean_absolute_error(y_test,predictions)"
   ]
  },
  {
   "cell_type": "code",
   "execution_count": 71,
   "metadata": {},
   "outputs": [
    {
     "data": {
      "text/plain": [
       "200253.5209625533"
      ]
     },
     "execution_count": 71,
     "metadata": {},
     "output_type": "execute_result"
    }
   ],
   "source": [
    "np.sqrt(mean_squared_error(y_test,predictions))"
   ]
  },
  {
   "cell_type": "code",
   "execution_count": 72,
   "metadata": {},
   "outputs": [
    {
     "data": {
      "text/plain": [
       "540296.5735055795"
      ]
     },
     "execution_count": 72,
     "metadata": {},
     "output_type": "execute_result"
    }
   ],
   "source": [
    "df['price'].mean()"
   ]
  },
  {
   "cell_type": "code",
   "execution_count": 73,
   "metadata": {},
   "outputs": [
    {
     "data": {
      "text/plain": [
       "450000.0"
      ]
     },
     "execution_count": 73,
     "metadata": {},
     "output_type": "execute_result"
    }
   ],
   "source": [
    "df['price'].median()"
   ]
  },
  {
   "cell_type": "markdown",
   "metadata": {},
   "source": [
    "### Predicting on a brand new house"
   ]
  },
  {
   "cell_type": "code",
   "execution_count": null,
   "metadata": {},
   "outputs": [],
   "source": []
  },
  {
   "cell_type": "code",
   "execution_count": 65,
   "metadata": {},
   "outputs": [
    {
     "data": {
      "text/plain": [
       "array([[0.2       , 0.08      , 0.08376422, 0.00310751, 0.        ,\n",
       "        0.        , 0.        , 0.5       , 0.4       , 0.10785619,\n",
       "        0.        , 0.47826087, 0.        , 0.57149751, 0.21760797,\n",
       "        0.16193426, 0.00582059, 0.81818182, 0.        ]])"
      ]
     },
     "execution_count": 65,
     "metadata": {},
     "output_type": "execute_result"
    }
   ],
   "source": [
    "single_house"
   ]
  },
  {
   "cell_type": "code",
   "execution_count": 74,
   "metadata": {},
   "outputs": [
    {
     "data": {
      "text/plain": [
       "array([[257726.62]], dtype=float32)"
      ]
     },
     "execution_count": 74,
     "metadata": {},
     "output_type": "execute_result"
    }
   ],
   "source": [
    "model.predict(single_house)"
   ]
  },
  {
   "cell_type": "code",
   "execution_count": 75,
   "metadata": {},
   "outputs": [
    {
     "data": {
      "text/plain": [
       "price            221900.0000\n",
       "bedrooms              3.0000\n",
       "bathrooms             1.0000\n",
       "sqft_living        1180.0000\n",
       "sqft_lot           5650.0000\n",
       "floors                1.0000\n",
       "waterfront            0.0000\n",
       "view                  0.0000\n",
       "condition             3.0000\n",
       "grade                 7.0000\n",
       "sqft_above         1180.0000\n",
       "sqft_basement         0.0000\n",
       "yr_built           1955.0000\n",
       "yr_renovated          0.0000\n",
       "lat                  47.5112\n",
       "long               -122.2570\n",
       "sqft_living15      1340.0000\n",
       "sqft_lot15         5650.0000\n",
       "month                10.0000\n",
       "year               2014.0000\n",
       "Name: 0, dtype: float64"
      ]
     },
     "execution_count": 75,
     "metadata": {},
     "output_type": "execute_result"
    }
   ],
   "source": [
    "df.iloc[0]"
   ]
  },
  {
   "cell_type": "code",
   "execution_count": null,
   "metadata": {},
   "outputs": [],
   "source": []
  }
 ],
 "metadata": {
  "kernelspec": {
   "display_name": "Python 3 (ipykernel)",
   "language": "python",
   "name": "python3"
  },
  "language_info": {
   "codemirror_mode": {
    "name": "ipython",
    "version": 3
   },
   "file_extension": ".py",
   "mimetype": "text/x-python",
   "name": "python",
   "nbconvert_exporter": "python",
   "pygments_lexer": "ipython3",
   "version": "3.7.6"
  }
 },
 "nbformat": 4,
 "nbformat_minor": 4
}
