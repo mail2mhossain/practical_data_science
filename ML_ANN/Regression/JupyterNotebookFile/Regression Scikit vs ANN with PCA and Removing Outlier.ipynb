{
 "cells": [
  {
   "cell_type": "code",
   "execution_count": 1,
   "metadata": {},
   "outputs": [],
   "source": [
    "import pandas as pd\n",
    "import numpy as np\n",
    "import matplotlib.pyplot as plt\n",
    "import seaborn as sns"
   ]
  },
  {
   "cell_type": "code",
   "execution_count": 2,
   "metadata": {},
   "outputs": [],
   "source": [
    "from sklearn.metrics import mean_squared_error,mean_absolute_error,explained_variance_score"
   ]
  },
  {
   "cell_type": "code",
   "execution_count": 3,
   "metadata": {},
   "outputs": [],
   "source": [
    "df = pd.read_csv('../data/kc_house_data.csv')"
   ]
  },
  {
   "cell_type": "code",
   "execution_count": 4,
   "metadata": {},
   "outputs": [],
   "source": [
    "df = df.drop('id',axis=1)"
   ]
  },
  {
   "cell_type": "code",
   "execution_count": 22,
   "metadata": {},
   "outputs": [
    {
     "data": {
      "text/html": [
       "<div>\n",
       "<style scoped>\n",
       "    .dataframe tbody tr th:only-of-type {\n",
       "        vertical-align: middle;\n",
       "    }\n",
       "\n",
       "    .dataframe tbody tr th {\n",
       "        vertical-align: top;\n",
       "    }\n",
       "\n",
       "    .dataframe thead th {\n",
       "        text-align: right;\n",
       "    }\n",
       "</style>\n",
       "<table border=\"1\" class=\"dataframe\">\n",
       "  <thead>\n",
       "    <tr style=\"text-align: right;\">\n",
       "      <th></th>\n",
       "      <th>price</th>\n",
       "      <th>bedrooms</th>\n",
       "      <th>bathrooms</th>\n",
       "      <th>sqft_living</th>\n",
       "      <th>sqft_lot</th>\n",
       "      <th>floors</th>\n",
       "      <th>waterfront</th>\n",
       "      <th>view</th>\n",
       "      <th>condition</th>\n",
       "      <th>grade</th>\n",
       "      <th>sqft_above</th>\n",
       "      <th>sqft_basement</th>\n",
       "      <th>yr_built</th>\n",
       "      <th>yr_renovated</th>\n",
       "      <th>lat</th>\n",
       "      <th>long</th>\n",
       "      <th>sqft_living15</th>\n",
       "      <th>sqft_lot15</th>\n",
       "      <th>month</th>\n",
       "      <th>year</th>\n",
       "    </tr>\n",
       "  </thead>\n",
       "  <tbody>\n",
       "    <tr>\n",
       "      <th>0</th>\n",
       "      <td>221900.0</td>\n",
       "      <td>3</td>\n",
       "      <td>1.00</td>\n",
       "      <td>1180</td>\n",
       "      <td>5650</td>\n",
       "      <td>1.0</td>\n",
       "      <td>0</td>\n",
       "      <td>0</td>\n",
       "      <td>3</td>\n",
       "      <td>7</td>\n",
       "      <td>1180</td>\n",
       "      <td>0</td>\n",
       "      <td>1955</td>\n",
       "      <td>0</td>\n",
       "      <td>47.5112</td>\n",
       "      <td>-122.257</td>\n",
       "      <td>1340</td>\n",
       "      <td>5650</td>\n",
       "      <td>10</td>\n",
       "      <td>2014</td>\n",
       "    </tr>\n",
       "    <tr>\n",
       "      <th>1</th>\n",
       "      <td>538000.0</td>\n",
       "      <td>3</td>\n",
       "      <td>2.25</td>\n",
       "      <td>2570</td>\n",
       "      <td>7242</td>\n",
       "      <td>2.0</td>\n",
       "      <td>0</td>\n",
       "      <td>0</td>\n",
       "      <td>3</td>\n",
       "      <td>7</td>\n",
       "      <td>2170</td>\n",
       "      <td>400</td>\n",
       "      <td>1951</td>\n",
       "      <td>1991</td>\n",
       "      <td>47.7210</td>\n",
       "      <td>-122.319</td>\n",
       "      <td>1690</td>\n",
       "      <td>7639</td>\n",
       "      <td>12</td>\n",
       "      <td>2014</td>\n",
       "    </tr>\n",
       "    <tr>\n",
       "      <th>2</th>\n",
       "      <td>180000.0</td>\n",
       "      <td>2</td>\n",
       "      <td>1.00</td>\n",
       "      <td>770</td>\n",
       "      <td>10000</td>\n",
       "      <td>1.0</td>\n",
       "      <td>0</td>\n",
       "      <td>0</td>\n",
       "      <td>3</td>\n",
       "      <td>6</td>\n",
       "      <td>770</td>\n",
       "      <td>0</td>\n",
       "      <td>1933</td>\n",
       "      <td>0</td>\n",
       "      <td>47.7379</td>\n",
       "      <td>-122.233</td>\n",
       "      <td>2720</td>\n",
       "      <td>8062</td>\n",
       "      <td>2</td>\n",
       "      <td>2015</td>\n",
       "    </tr>\n",
       "    <tr>\n",
       "      <th>3</th>\n",
       "      <td>604000.0</td>\n",
       "      <td>4</td>\n",
       "      <td>3.00</td>\n",
       "      <td>1960</td>\n",
       "      <td>5000</td>\n",
       "      <td>1.0</td>\n",
       "      <td>0</td>\n",
       "      <td>0</td>\n",
       "      <td>5</td>\n",
       "      <td>7</td>\n",
       "      <td>1050</td>\n",
       "      <td>910</td>\n",
       "      <td>1965</td>\n",
       "      <td>0</td>\n",
       "      <td>47.5208</td>\n",
       "      <td>-122.393</td>\n",
       "      <td>1360</td>\n",
       "      <td>5000</td>\n",
       "      <td>12</td>\n",
       "      <td>2014</td>\n",
       "    </tr>\n",
       "    <tr>\n",
       "      <th>4</th>\n",
       "      <td>510000.0</td>\n",
       "      <td>3</td>\n",
       "      <td>2.00</td>\n",
       "      <td>1680</td>\n",
       "      <td>8080</td>\n",
       "      <td>1.0</td>\n",
       "      <td>0</td>\n",
       "      <td>0</td>\n",
       "      <td>3</td>\n",
       "      <td>8</td>\n",
       "      <td>1680</td>\n",
       "      <td>0</td>\n",
       "      <td>1987</td>\n",
       "      <td>0</td>\n",
       "      <td>47.6168</td>\n",
       "      <td>-122.045</td>\n",
       "      <td>1800</td>\n",
       "      <td>7503</td>\n",
       "      <td>2</td>\n",
       "      <td>2015</td>\n",
       "    </tr>\n",
       "  </tbody>\n",
       "</table>\n",
       "</div>"
      ],
      "text/plain": [
       "      price  bedrooms  bathrooms  sqft_living  sqft_lot  floors  waterfront  \\\n",
       "0  221900.0         3       1.00         1180      5650     1.0           0   \n",
       "1  538000.0         3       2.25         2570      7242     2.0           0   \n",
       "2  180000.0         2       1.00          770     10000     1.0           0   \n",
       "3  604000.0         4       3.00         1960      5000     1.0           0   \n",
       "4  510000.0         3       2.00         1680      8080     1.0           0   \n",
       "\n",
       "   view  condition  grade  sqft_above  sqft_basement  yr_built  yr_renovated  \\\n",
       "0     0          3      7        1180              0      1955             0   \n",
       "1     0          3      7        2170            400      1951          1991   \n",
       "2     0          3      6         770              0      1933             0   \n",
       "3     0          5      7        1050            910      1965             0   \n",
       "4     0          3      8        1680              0      1987             0   \n",
       "\n",
       "       lat     long  sqft_living15  sqft_lot15  month  year  \n",
       "0  47.5112 -122.257           1340        5650     10  2014  \n",
       "1  47.7210 -122.319           1690        7639     12  2014  \n",
       "2  47.7379 -122.233           2720        8062      2  2015  \n",
       "3  47.5208 -122.393           1360        5000     12  2014  \n",
       "4  47.6168 -122.045           1800        7503      2  2015  "
      ]
     },
     "execution_count": 22,
     "metadata": {},
     "output_type": "execute_result"
    }
   ],
   "source": [
    "df.head()"
   ]
  },
  {
   "cell_type": "code",
   "execution_count": 23,
   "metadata": {},
   "outputs": [
    {
     "name": "stdout",
     "output_type": "stream",
     "text": [
      "<class 'pandas.core.frame.DataFrame'>\n",
      "RangeIndex: 21597 entries, 0 to 21596\n",
      "Data columns (total 20 columns):\n",
      " #   Column         Non-Null Count  Dtype  \n",
      "---  ------         --------------  -----  \n",
      " 0   price          21597 non-null  float64\n",
      " 1   bedrooms       21597 non-null  int64  \n",
      " 2   bathrooms      21597 non-null  float64\n",
      " 3   sqft_living    21597 non-null  int64  \n",
      " 4   sqft_lot       21597 non-null  int64  \n",
      " 5   floors         21597 non-null  float64\n",
      " 6   waterfront     21597 non-null  int64  \n",
      " 7   view           21597 non-null  int64  \n",
      " 8   condition      21597 non-null  int64  \n",
      " 9   grade          21597 non-null  int64  \n",
      " 10  sqft_above     21597 non-null  int64  \n",
      " 11  sqft_basement  21597 non-null  int64  \n",
      " 12  yr_built       21597 non-null  int64  \n",
      " 13  yr_renovated   21597 non-null  int64  \n",
      " 14  lat            21597 non-null  float64\n",
      " 15  long           21597 non-null  float64\n",
      " 16  sqft_living15  21597 non-null  int64  \n",
      " 17  sqft_lot15     21597 non-null  int64  \n",
      " 18  month          21597 non-null  int64  \n",
      " 19  year           21597 non-null  int64  \n",
      "dtypes: float64(5), int64(15)\n",
      "memory usage: 3.3 MB\n"
     ]
    }
   ],
   "source": [
    "df.info()"
   ]
  },
  {
   "cell_type": "code",
   "execution_count": 6,
   "metadata": {},
   "outputs": [],
   "source": [
    "df['date'] = pd.to_datetime(df['date'])"
   ]
  },
  {
   "cell_type": "code",
   "execution_count": 7,
   "metadata": {},
   "outputs": [],
   "source": [
    "df['month'] = df['date'].apply(lambda date:date.month)"
   ]
  },
  {
   "cell_type": "code",
   "execution_count": 8,
   "metadata": {},
   "outputs": [],
   "source": [
    "df['year'] = df['date'].apply(lambda date:date.year)"
   ]
  },
  {
   "cell_type": "code",
   "execution_count": 9,
   "metadata": {},
   "outputs": [
    {
     "data": {
      "text/plain": [
       "<matplotlib.axes._subplots.AxesSubplot at 0x1bcdd5569d0>"
      ]
     },
     "execution_count": 9,
     "metadata": {},
     "output_type": "execute_result"
    },
    {
     "data": {
      "image/png": "[encoded data removed]",
      "text/plain": [
       "<Figure size 432x288 with 1 Axes>"
      ]
     },
     "metadata": {
      "needs_background": "light"
     },
     "output_type": "display_data"
    }
   ],
   "source": [
    "df.groupby('month').mean()['price'].plot()"
   ]
  },
  {
   "cell_type": "code",
   "execution_count": 10,
   "metadata": {},
   "outputs": [
    {
     "data": {
      "image/png": "[encoded data removed]",
      "text/plain": [
       "<Figure size 432x288 with 1 Axes>"
      ]
     },
     "metadata": {
      "needs_background": "light"
     },
     "output_type": "display_data"
    }
   ],
   "source": [
    "df.groupby('year').mean()['price'].plot();"
   ]
  },
  {
   "cell_type": "code",
   "execution_count": 11,
   "metadata": {},
   "outputs": [],
   "source": [
    "df = df.drop('date',axis=1)"
   ]
  },
  {
   "cell_type": "code",
   "execution_count": 12,
   "metadata": {},
   "outputs": [
    {
     "data": {
      "text/plain": [
       "Index(['price', 'bedrooms', 'bathrooms', 'sqft_living', 'sqft_lot', 'floors',\n",
       "       'waterfront', 'view', 'condition', 'grade', 'sqft_above',\n",
       "       'sqft_basement', 'yr_built', 'yr_renovated', 'zipcode', 'lat', 'long',\n",
       "       'sqft_living15', 'sqft_lot15', 'month', 'year'],\n",
       "      dtype='object')"
      ]
     },
     "execution_count": 12,
     "metadata": {},
     "output_type": "execute_result"
    }
   ],
   "source": [
    "df.columns"
   ]
  },
  {
   "cell_type": "code",
   "execution_count": 13,
   "metadata": {},
   "outputs": [
    {
     "data": {
      "text/plain": [
       "98103    602\n",
       "98038    589\n",
       "98115    583\n",
       "98052    574\n",
       "98117    553\n",
       "        ... \n",
       "98102    104\n",
       "98010    100\n",
       "98024     80\n",
       "98148     57\n",
       "98039     50\n",
       "Name: zipcode, Length: 70, dtype: int64"
      ]
     },
     "execution_count": 13,
     "metadata": {},
     "output_type": "execute_result"
    }
   ],
   "source": [
    "df['zipcode'].value_counts()"
   ]
  },
  {
   "cell_type": "code",
   "execution_count": 14,
   "metadata": {},
   "outputs": [],
   "source": [
    "df = df.drop('zipcode',axis=1)"
   ]
  },
  {
   "cell_type": "code",
   "execution_count": 15,
   "metadata": {},
   "outputs": [
    {
     "data": {
      "text/plain": [
       "0       20683\n",
       "2014       91\n",
       "2013       37\n",
       "2003       36\n",
       "2000       35\n",
       "        ...  \n",
       "1934        1\n",
       "1959        1\n",
       "1951        1\n",
       "1948        1\n",
       "1944        1\n",
       "Name: yr_renovated, Length: 70, dtype: int64"
      ]
     },
     "execution_count": 15,
     "metadata": {},
     "output_type": "execute_result"
    }
   ],
   "source": [
    "df['yr_renovated'].value_counts()"
   ]
  },
  {
   "cell_type": "code",
   "execution_count": 16,
   "metadata": {},
   "outputs": [
    {
     "data": {
      "text/plain": [
       "0       13110\n",
       "600       221\n",
       "700       218\n",
       "500       214\n",
       "800       206\n",
       "        ...  \n",
       "792         1\n",
       "2590        1\n",
       "935         1\n",
       "2390        1\n",
       "248         1\n",
       "Name: sqft_basement, Length: 306, dtype: int64"
      ]
     },
     "execution_count": 16,
     "metadata": {},
     "output_type": "execute_result"
    }
   ],
   "source": [
    "df['sqft_basement'].value_counts()"
   ]
  },
  {
   "cell_type": "markdown",
   "metadata": {},
   "source": [
    "### Train Test Split"
   ]
  },
  {
   "cell_type": "code",
   "execution_count": 17,
   "metadata": {},
   "outputs": [],
   "source": [
    "X = df.drop('price',axis=1)\n",
    "y = df['price']"
   ]
  },
  {
   "cell_type": "code",
   "execution_count": 18,
   "metadata": {},
   "outputs": [],
   "source": [
    "from sklearn.model_selection import train_test_split"
   ]
  },
  {
   "cell_type": "code",
   "execution_count": 19,
   "metadata": {},
   "outputs": [],
   "source": [
    "X_train, X_test, y_train, y_test = train_test_split(X,y,test_size=0.3,random_state=101)"
   ]
  },
  {
   "cell_type": "markdown",
   "metadata": {},
   "source": [
    "### Scaling using MinMaxScaler"
   ]
  },
  {
   "cell_type": "code",
   "execution_count": 20,
   "metadata": {},
   "outputs": [],
   "source": [
    "from sklearn.preprocessing import MinMaxScaler"
   ]
  },
  {
   "cell_type": "code",
   "execution_count": 21,
   "metadata": {},
   "outputs": [],
   "source": [
    "scaler = MinMaxScaler() \n",
    "scaler.fit(X_train)\n",
    "X_train = scaler.transform(X_train)\n",
    "X_test = scaler.transform(X_test)"
   ]
  },
  {
   "cell_type": "code",
   "execution_count": 24,
   "metadata": {},
   "outputs": [],
   "source": [
    "full_scaler = MinMaxScaler() \n",
    "full_scaler.fit(X)\n",
    "X = scaler.transform(X)"
   ]
  },
  {
   "cell_type": "code",
   "execution_count": 25,
   "metadata": {},
   "outputs": [
    {
     "data": {
      "text/plain": [
       "(21597, 19)"
      ]
     },
     "execution_count": 25,
     "metadata": {},
     "output_type": "execute_result"
    }
   ],
   "source": [
    "X.shape"
   ]
  },
  {
   "cell_type": "markdown",
   "metadata": {},
   "source": [
    "### Detect & Remove Outlier"
   ]
  },
  {
   "cell_type": "code",
   "execution_count": 26,
   "metadata": {},
   "outputs": [],
   "source": [
    "from sklearn.ensemble import IsolationForest"
   ]
  },
  {
   "cell_type": "code",
   "execution_count": 27,
   "metadata": {},
   "outputs": [],
   "source": [
    "rng = np.random.RandomState(42)\n",
    "clf = IsolationForest(max_samples=100, random_state=rng,contamination=.1)"
   ]
  },
  {
   "cell_type": "code",
   "execution_count": 28,
   "metadata": {},
   "outputs": [],
   "source": [
    "clf.fit(X_train)\n",
    "y_pred_train = clf.predict(X_train)\n",
    "y_pred_test = clf.predict(X_test)"
   ]
  },
  {
   "cell_type": "code",
   "execution_count": 29,
   "metadata": {},
   "outputs": [],
   "source": [
    "X_train_cleaned = X_train[np.where(y_pred_train == 1, True, False)]\n",
    "y_train_cleaned = y_train[np.where(y_pred_train == 1, True, False)]"
   ]
  },
  {
   "cell_type": "code",
   "execution_count": 30,
   "metadata": {},
   "outputs": [],
   "source": [
    "X_test_cleaned = X_test[np.where(y_pred_test == 1, True, False)]\n",
    "y_test_cleaned = y_test[np.where(y_pred_test == 1, True, False)]"
   ]
  },
  {
   "cell_type": "code",
   "execution_count": 31,
   "metadata": {},
   "outputs": [
    {
     "data": {
      "text/plain": [
       "(13605, 19)"
      ]
     },
     "execution_count": 31,
     "metadata": {},
     "output_type": "execute_result"
    }
   ],
   "source": [
    "X_train_cleaned.shape"
   ]
  },
  {
   "cell_type": "code",
   "execution_count": 32,
   "metadata": {},
   "outputs": [
    {
     "data": {
      "text/plain": [
       "(13605,)"
      ]
     },
     "execution_count": 32,
     "metadata": {},
     "output_type": "execute_result"
    }
   ],
   "source": [
    "y_train_cleaned.shape"
   ]
  },
  {
   "cell_type": "code",
   "execution_count": 33,
   "metadata": {},
   "outputs": [
    {
     "data": {
      "text/plain": [
       "(5847, 19)"
      ]
     },
     "execution_count": 33,
     "metadata": {},
     "output_type": "execute_result"
    }
   ],
   "source": [
    "X_test_cleaned.shape"
   ]
  },
  {
   "cell_type": "code",
   "execution_count": 34,
   "metadata": {},
   "outputs": [
    {
     "data": {
      "text/plain": [
       "(5847,)"
      ]
     },
     "execution_count": 34,
     "metadata": {},
     "output_type": "execute_result"
    }
   ],
   "source": [
    "y_test_cleaned.shape"
   ]
  },
  {
   "cell_type": "code",
   "execution_count": 35,
   "metadata": {},
   "outputs": [],
   "source": [
    "clf = IsolationForest(max_samples=100, random_state=rng,contamination=.1)"
   ]
  },
  {
   "cell_type": "code",
   "execution_count": 36,
   "metadata": {},
   "outputs": [],
   "source": [
    "clf.fit(X)\n",
    "y_pred_train = clf.predict(X)"
   ]
  },
  {
   "cell_type": "code",
   "execution_count": 37,
   "metadata": {},
   "outputs": [],
   "source": [
    "X = X[np.where(y_pred_train == 1, True, False)]\n",
    "y = y[np.where(y_pred_train == 1, True, False)]"
   ]
  },
  {
   "cell_type": "code",
   "execution_count": 38,
   "metadata": {},
   "outputs": [
    {
     "data": {
      "text/plain": [
       "(19437, 19)"
      ]
     },
     "execution_count": 38,
     "metadata": {},
     "output_type": "execute_result"
    }
   ],
   "source": [
    "X.shape"
   ]
  },
  {
   "cell_type": "code",
   "execution_count": 40,
   "metadata": {},
   "outputs": [
    {
     "data": {
      "text/plain": [
       "(19437,)"
      ]
     },
     "execution_count": 40,
     "metadata": {},
     "output_type": "execute_result"
    }
   ],
   "source": [
    "y.shape"
   ]
  },
  {
   "cell_type": "markdown",
   "metadata": {},
   "source": [
    "### Principal Component Analysis (PCA)"
   ]
  },
  {
   "cell_type": "code",
   "execution_count": 86,
   "metadata": {},
   "outputs": [],
   "source": [
    "from sklearn.decomposition import PCA"
   ]
  },
  {
   "cell_type": "code",
   "execution_count": 87,
   "metadata": {},
   "outputs": [],
   "source": [
    "n_components = 0.95"
   ]
  },
  {
   "cell_type": "code",
   "execution_count": 88,
   "metadata": {},
   "outputs": [],
   "source": [
    "pca = PCA(n_components = n_components)"
   ]
  },
  {
   "cell_type": "code",
   "execution_count": 89,
   "metadata": {},
   "outputs": [
    {
     "data": {
      "text/plain": [
       "PCA(copy=True, iterated_power='auto', n_components=0.95, random_state=None,\n",
       "    svd_solver='auto', tol=0.0, whiten=False)"
      ]
     },
     "execution_count": 89,
     "metadata": {},
     "output_type": "execute_result"
    }
   ],
   "source": [
    "pca.fit(X_train_cleaned)"
   ]
  },
  {
   "cell_type": "code",
   "execution_count": 90,
   "metadata": {},
   "outputs": [],
   "source": [
    "X_train_pca = pca.transform(X_train_cleaned)\n",
    "X_test_pca = pca.transform(X_test_cleaned)"
   ]
  },
  {
   "cell_type": "code",
   "execution_count": 91,
   "metadata": {},
   "outputs": [
    {
     "data": {
      "text/plain": [
       "(13605, 19)"
      ]
     },
     "execution_count": 91,
     "metadata": {},
     "output_type": "execute_result"
    }
   ],
   "source": [
    "X_train_cleaned.shape"
   ]
  },
  {
   "cell_type": "code",
   "execution_count": 92,
   "metadata": {},
   "outputs": [
    {
     "data": {
      "text/plain": [
       "(13605, 9)"
      ]
     },
     "execution_count": 92,
     "metadata": {},
     "output_type": "execute_result"
    }
   ],
   "source": [
    "X_train_pca.shape"
   ]
  },
  {
   "cell_type": "code",
   "execution_count": 93,
   "metadata": {},
   "outputs": [
    {
     "data": {
      "text/plain": [
       "(5847, 19)"
      ]
     },
     "execution_count": 93,
     "metadata": {},
     "output_type": "execute_result"
    }
   ],
   "source": [
    "X_test_cleaned.shape"
   ]
  },
  {
   "cell_type": "code",
   "execution_count": 94,
   "metadata": {},
   "outputs": [
    {
     "data": {
      "text/plain": [
       "(5847, 9)"
      ]
     },
     "execution_count": 94,
     "metadata": {},
     "output_type": "execute_result"
    }
   ],
   "source": [
    "X_test_pca.shape"
   ]
  },
  {
   "cell_type": "code",
   "execution_count": 95,
   "metadata": {},
   "outputs": [],
   "source": [
    "pca = PCA(n_components = n_components)"
   ]
  },
  {
   "cell_type": "code",
   "execution_count": 96,
   "metadata": {},
   "outputs": [],
   "source": [
    "pca.fit(X)\n",
    "X_pca = pca.transform(X)"
   ]
  },
  {
   "cell_type": "code",
   "execution_count": 97,
   "metadata": {},
   "outputs": [
    {
     "data": {
      "text/plain": [
       "(19437, 19)"
      ]
     },
     "execution_count": 97,
     "metadata": {},
     "output_type": "execute_result"
    }
   ],
   "source": [
    "X.shape"
   ]
  },
  {
   "cell_type": "code",
   "execution_count": 98,
   "metadata": {},
   "outputs": [
    {
     "data": {
      "text/plain": [
       "(19437, 10)"
      ]
     },
     "execution_count": 98,
     "metadata": {},
     "output_type": "execute_result"
    }
   ],
   "source": [
    "X_pca.shape"
   ]
  },
  {
   "cell_type": "code",
   "execution_count": 99,
   "metadata": {},
   "outputs": [],
   "source": [
    "def display_scores(scores):\n",
    "    print(\"Scores:\", scores)\n",
    "    print(\"Mean:\", scores.mean())\n",
    "    print(\"Standard deviation:\", scores.std())"
   ]
  },
  {
   "cell_type": "markdown",
   "metadata": {},
   "source": [
    "## Cross Validation if data < 100 k"
   ]
  },
  {
   "cell_type": "code",
   "execution_count": 100,
   "metadata": {},
   "outputs": [],
   "source": [
    "from sklearn.linear_model import LinearRegression\n",
    "from sklearn.tree import DecisionTreeRegressor\n",
    "from sklearn.ensemble import RandomForestRegressor\n",
    "from sklearn.svm import SVR"
   ]
  },
  {
   "cell_type": "code",
   "execution_count": null,
   "metadata": {},
   "outputs": [],
   "source": []
  },
  {
   "cell_type": "code",
   "execution_count": 101,
   "metadata": {},
   "outputs": [],
   "source": [
    "from sklearn.model_selection import cross_val_score"
   ]
  },
  {
   "cell_type": "code",
   "execution_count": 102,
   "metadata": {},
   "outputs": [
    {
     "name": "stdout",
     "output_type": "stream",
     "text": [
      "Scores: [148067.43594807 155190.70658099 151660.18203184 153938.77807555\n",
      " 149351.76974525 151752.5871721  147090.60739782 161185.27990589\n",
      " 160320.33703898 179031.51291471]\n",
      "Mean: 155758.91968111985\n",
      "Standard deviation: 8964.941559525174\n"
     ]
    }
   ],
   "source": [
    "lin_reg_cvs = LinearRegression()\n",
    "lin_scores = cross_val_score(lin_reg_cvs, X_pca, y,\n",
    "                             scoring=\"neg_mean_squared_error\", cv=10)\n",
    "lin_rmse_scores = np.sqrt(-lin_scores)\n",
    "display_scores(lin_rmse_scores)"
   ]
  },
  {
   "cell_type": "code",
   "execution_count": 103,
   "metadata": {},
   "outputs": [
    {
     "name": "stdout",
     "output_type": "stream",
     "text": [
      "Scores: [164939.13077287 176029.65620762 160832.46668165 174434.41380954\n",
      " 165120.87555053 168754.25422388 173240.38056123 169026.54726872\n",
      " 177591.90538262 177970.7482197 ]\n",
      "Mean: 170794.0378678359\n",
      "Standard deviation: 5633.357362994489\n"
     ]
    }
   ],
   "source": [
    "tree_reg_cvs = DecisionTreeRegressor(random_state=42)\n",
    "scores = cross_val_score(tree_reg_cvs, X_pca, y,\n",
    "                         scoring=\"neg_mean_squared_error\", cv=10)\n",
    "tree_rmse_scores = np.sqrt(-scores)\n",
    "display_scores(tree_rmse_scores)"
   ]
  },
  {
   "cell_type": "code",
   "execution_count": 105,
   "metadata": {},
   "outputs": [
    {
     "name": "stdout",
     "output_type": "stream",
     "text": [
      "Scores: [115812.36264709 121027.25365048 114905.2087722  117367.95356741\n",
      " 118946.13028613 112287.67895133 115708.35689877 121013.26124921\n",
      " 126992.91155125 125670.07755565]\n",
      "Mean: 118973.11951295224\n",
      "Standard deviation: 4494.633634048569\n"
     ]
    }
   ],
   "source": [
    "forest_reg_cvs = RandomForestRegressor(n_estimators=100, random_state=42)\n",
    "forest_scores = cross_val_score(forest_reg_cvs, X_pca, y,\n",
    "                                scoring=\"neg_mean_squared_error\", cv=10)\n",
    "forest_rmse_scores = np.sqrt(-forest_scores)\n",
    "display_scores(forest_rmse_scores)"
   ]
  },
  {
   "cell_type": "code",
   "execution_count": 106,
   "metadata": {},
   "outputs": [
    {
     "name": "stdout",
     "output_type": "stream",
     "text": [
      "Scores: [239478.87989061 250934.36696943 244667.21203327 235611.70161214\n",
      " 242474.04469326 249754.86216197 244984.06312535 258485.6799511\n",
      " 253399.55189446 275034.20978972]\n",
      "Mean: 249482.4572121296\n",
      "Standard deviation: 10660.606728951629\n"
     ]
    }
   ],
   "source": [
    "svm_reg_rbf = SVR(kernel=\"rbf\")\n",
    "svm_rbf_scores = cross_val_score(svm_reg_rbf, X_pca, y, scoring=\"neg_mean_squared_error\", cv=10)\n",
    "svm_rbf_rmse_scores = np.sqrt(-svm_rbf_scores)\n",
    "display_scores(svm_rbf_rmse_scores)"
   ]
  },
  {
   "cell_type": "code",
   "execution_count": null,
   "metadata": {},
   "outputs": [],
   "source": [
    "svm_reg_cvs = SVR(kernel=\"linear\")\n",
    "svm_scores = cross_val_score(svm_reg_cvs, X_pca, y, scoring=\"neg_mean_squared_error\", cv=10)\n",
    "svm_rmse_scores = np.sqrt(-svm_scores)\n",
    "display_scores(svm_rmse_scores)"
   ]
  },
  {
   "cell_type": "code",
   "execution_count": 107,
   "metadata": {},
   "outputs": [
    {
     "name": "stdout",
     "output_type": "stream",
     "text": [
      "RMSE of Lnear Regression: 155758.91968111985\n",
      "RMSE of Decision Tree: 170794.0378678359\n",
      "RMSE of Random Forest: 118973.11951295224\n",
      "RMSE of Support Vector (rbf): 249482.4572121296\n"
     ]
    }
   ],
   "source": [
    "print(\"RMSE of Lnear Regression:\", lin_rmse_scores.mean())\n",
    "print(\"RMSE of Decision Tree:\", tree_rmse_scores.mean())\n",
    "print(\"RMSE of Random Forest:\", forest_rmse_scores.mean())\n",
    "print(\"RMSE of Support Vector (rbf):\", svm_rbf_rmse_scores.mean())\n",
    "#print(\"RMSE of Support Vector (linear):\", svm_rmse_scores.mean())"
   ]
  },
  {
   "cell_type": "code",
   "execution_count": 108,
   "metadata": {},
   "outputs": [],
   "source": [
    "from sklearn.metrics import mean_squared_error,mean_absolute_error,explained_variance_score"
   ]
  },
  {
   "cell_type": "code",
   "execution_count": 109,
   "metadata": {},
   "outputs": [
    {
     "data": {
      "text/plain": [
       "(19437, 19)"
      ]
     },
     "execution_count": 109,
     "metadata": {},
     "output_type": "execute_result"
    }
   ],
   "source": [
    "X.shape"
   ]
  },
  {
   "cell_type": "markdown",
   "metadata": {},
   "source": [
    "## Cross Validation if data >= 100 k"
   ]
  },
  {
   "cell_type": "code",
   "execution_count": 110,
   "metadata": {},
   "outputs": [],
   "source": [
    "from xgboost import XGBRegressor"
   ]
  },
  {
   "cell_type": "code",
   "execution_count": 113,
   "metadata": {},
   "outputs": [],
   "source": [
    "xgb_model = XGBRegressor(n_estimators=500, learning_rate=0.05)"
   ]
  },
  {
   "cell_type": "code",
   "execution_count": 115,
   "metadata": {},
   "outputs": [
    {
     "data": {
      "text/plain": [
       "XGBRegressor(base_score=0.5, booster='gbtree', colsample_bylevel=1,\n",
       "             colsample_bynode=1, colsample_bytree=1, gamma=0, gpu_id=-1,\n",
       "             importance_type='gain', interaction_constraints='',\n",
       "             learning_rate=0.05, max_delta_step=0, max_depth=6,\n",
       "             min_child_weight=1, missing=nan, monotone_constraints='()',\n",
       "             n_estimators=500, n_jobs=0, num_parallel_tree=1,\n",
       "             objective='reg:squarederror', random_state=0, reg_alpha=0,\n",
       "             reg_lambda=1, scale_pos_weight=1, subsample=1, tree_method='exact',\n",
       "             validate_parameters=1, verbosity=None)"
      ]
     },
     "execution_count": 115,
     "metadata": {},
     "output_type": "execute_result"
    }
   ],
   "source": [
    "xgb_model.fit(X_train_pca, y_train_cleaned, \n",
    "             early_stopping_rounds=5, \n",
    "             eval_set=[(X_test_pca, y_test_cleaned)], \n",
    "             verbose=False)"
   ]
  },
  {
   "cell_type": "code",
   "execution_count": 116,
   "metadata": {},
   "outputs": [],
   "source": [
    "xgb_predictions = xgb_model.predict(X_test_pca)"
   ]
  },
  {
   "cell_type": "code",
   "execution_count": 118,
   "metadata": {},
   "outputs": [
    {
     "name": "stdout",
     "output_type": "stream",
     "text": [
      "RMSE of XGBRegressor 118422.48566729842\n"
     ]
    }
   ],
   "source": [
    "msr = mean_squared_error(xgb_predictions, y_test_cleaned)\n",
    "print(\"RMSE of XGBRegressor\" , np.sqrt(msr))"
   ]
  },
  {
   "cell_type": "code",
   "execution_count": null,
   "metadata": {},
   "outputs": [],
   "source": []
  },
  {
   "cell_type": "markdown",
   "metadata": {},
   "source": [
    "## Creating a Model with Scikit if data < 100 k"
   ]
  },
  {
   "cell_type": "code",
   "execution_count": 119,
   "metadata": {},
   "outputs": [],
   "source": [
    "from pprint import pprint"
   ]
  },
  {
   "cell_type": "code",
   "execution_count": 120,
   "metadata": {},
   "outputs": [],
   "source": [
    "def evaluate(model, test_features, test_labels):\n",
    "    predictions = model.predict(test_features)\n",
    "    errors = abs(predictions - test_labels)\n",
    "    mape = 100 * np.mean(errors / test_labels)\n",
    "    accuracy = 100 - mape\n",
    "    print('Model Performance')\n",
    "    print('Average Error: {:0.4f} degrees.'.format(np.mean(errors)))\n",
    "    print('Accuracy = {:0.2f}%.'.format(accuracy))\n",
    "    \n",
    "    return accuracy"
   ]
  },
  {
   "cell_type": "code",
   "execution_count": 121,
   "metadata": {},
   "outputs": [
    {
     "name": "stdout",
     "output_type": "stream",
     "text": [
      "Model Performance\n",
      "Average Error: 78326.9882 degrees.\n",
      "Accuracy = 83.26%.\n"
     ]
    }
   ],
   "source": [
    "base_model = RandomForestRegressor(n_estimators = 10, random_state = 42)\n",
    "base_model.fit(X_train_pca, y_train_cleaned)\n",
    "base_accuracy = evaluate(base_model, X_test_pca, y_test_cleaned)"
   ]
  },
  {
   "cell_type": "code",
   "execution_count": 122,
   "metadata": {},
   "outputs": [],
   "source": [
    "from sklearn.model_selection import GridSearchCV"
   ]
  },
  {
   "cell_type": "code",
   "execution_count": 123,
   "metadata": {},
   "outputs": [],
   "source": [
    "# Create the parameter grid based on the results of random search \n",
    "param_grid = {\n",
    "    'bootstrap': [True],\n",
    "    'max_depth': [80, 90, 100, 110],\n",
    "    'max_features': [2, 4, 8, 10],\n",
    "    'min_samples_leaf': [1, 3, 4, 5],\n",
    "    'min_samples_split': [2, 4, 8, 10, 12],\n",
    "    'n_estimators': [100, 200, 300, 1000]\n",
    "}# Create a based model\n",
    "rf = RandomForestRegressor()# Instantiate the grid search model\n",
    "grid_search = GridSearchCV(estimator = rf, param_grid = param_grid, \n",
    "                          cv = 3, n_jobs = -1, verbose = 2)"
   ]
  },
  {
   "cell_type": "code",
   "execution_count": null,
   "metadata": {},
   "outputs": [
    {
     "name": "stdout",
     "output_type": "stream",
     "text": [
      "Fitting 3 folds for each of 1280 candidates, totalling 3840 fits\n"
     ]
    },
    {
     "name": "stderr",
     "output_type": "stream",
     "text": [
      "[Parallel(n_jobs=-1)]: Using backend LokyBackend with 8 concurrent workers.\n",
      "[Parallel(n_jobs=-1)]: Done  25 tasks      | elapsed:  1.3min\n",
      "[Parallel(n_jobs=-1)]: Done 146 tasks      | elapsed:  6.5min\n"
     ]
    }
   ],
   "source": [
    "# Fit the grid search to the data\n",
    "grid_search.fit(X_train_pca, y_train_cleaned)\n",
    "grid_search.best_params_"
   ]
  },
  {
   "cell_type": "code",
   "execution_count": 57,
   "metadata": {},
   "outputs": [
    {
     "name": "stdout",
     "output_type": "stream",
     "text": [
      "Model Performance\n",
      "Average Error: 55166.3609 degrees.\n",
      "Accuracy = 87.74%.\n"
     ]
    }
   ],
   "source": [
    "best_grid = grid_search.best_estimator_\n",
    "grid_accuracy = evaluate(best_grid, X_test_pca, y_test_cleaned)"
   ]
  },
  {
   "cell_type": "code",
   "execution_count": 58,
   "metadata": {},
   "outputs": [
    {
     "name": "stdout",
     "output_type": "stream",
     "text": [
      "Improvement of 0.97%.\n"
     ]
    }
   ],
   "source": [
    "print('Improvement of {:0.2f}%.'.format( 100 * (grid_accuracy - base_accuracy) / base_accuracy))"
   ]
  },
  {
   "cell_type": "markdown",
   "metadata": {},
   "source": [
    "### Predicting on a brand new house"
   ]
  },
  {
   "cell_type": "code",
   "execution_count": 59,
   "metadata": {},
   "outputs": [],
   "source": [
    "single_house = df.drop('price',axis=1).iloc[0]"
   ]
  },
  {
   "cell_type": "code",
   "execution_count": 60,
   "metadata": {},
   "outputs": [],
   "source": [
    "single_house = scaler.transform(single_house.values.reshape(-1, 19))"
   ]
  },
  {
   "cell_type": "code",
   "execution_count": 61,
   "metadata": {},
   "outputs": [
    {
     "data": {
      "text/plain": [
       "array([[ 0.        , -1.66666667, -0.66071429, -0.34496193, -0.5       ,\n",
       "         0.        ,  0.        ,  0.        ,  0.        , -0.37864078,\n",
       "         0.        , -0.43478261,  0.        , -0.29626032, -0.12871287,\n",
       "        -0.56818182, -0.39305778,  0.8       ,  0.        ]])"
      ]
     },
     "execution_count": 61,
     "metadata": {},
     "output_type": "execute_result"
    }
   ],
   "source": [
    "single_house"
   ]
  },
  {
   "cell_type": "code",
   "execution_count": 63,
   "metadata": {},
   "outputs": [
    {
     "data": {
      "text/plain": [
       "array([260490.])"
      ]
     },
     "execution_count": 63,
     "metadata": {},
     "output_type": "execute_result"
    }
   ],
   "source": [
    "base_model.predict(single_house)\n",
    "#random_accuracy = evaluate(best_random, test_features, test_labels)"
   ]
  },
  {
   "cell_type": "code",
   "execution_count": 64,
   "metadata": {},
   "outputs": [
    {
     "data": {
      "text/plain": [
       "array([231812.36035159])"
      ]
     },
     "execution_count": 64,
     "metadata": {},
     "output_type": "execute_result"
    }
   ],
   "source": [
    "best_grid.predict(single_house)"
   ]
  },
  {
   "cell_type": "code",
   "execution_count": 65,
   "metadata": {},
   "outputs": [
    {
     "data": {
      "text/plain": [
       "price            221900.0000\n",
       "bedrooms              3.0000\n",
       "bathrooms             1.0000\n",
       "sqft_living        1180.0000\n",
       "sqft_lot           5650.0000\n",
       "floors                1.0000\n",
       "waterfront            0.0000\n",
       "view                  0.0000\n",
       "condition             3.0000\n",
       "grade                 7.0000\n",
       "sqft_above         1180.0000\n",
       "sqft_basement         0.0000\n",
       "yr_built           1955.0000\n",
       "yr_renovated          0.0000\n",
       "lat                  47.5112\n",
       "long               -122.2570\n",
       "sqft_living15      1340.0000\n",
       "sqft_lot15         5650.0000\n",
       "month                10.0000\n",
       "year               2014.0000\n",
       "Name: 0, dtype: float64"
      ]
     },
     "execution_count": 65,
     "metadata": {},
     "output_type": "execute_result"
    }
   ],
   "source": [
    "df.iloc[0]"
   ]
  },
  {
   "cell_type": "markdown",
   "metadata": {},
   "source": [
    "## Creating a Model with Scikit if data >= 100 k"
   ]
  },
  {
   "cell_type": "code",
   "execution_count": 45,
   "metadata": {},
   "outputs": [],
   "source": [
    "from sklearn.model_selection import GridSearchCV"
   ]
  },
  {
   "cell_type": "code",
   "execution_count": 46,
   "metadata": {},
   "outputs": [],
   "source": [
    "parameters = {'nthread':[4], #when use hyperthread, xgboost may become slower\n",
    "              'objective':['reg:linear'],\n",
    "              'learning_rate': [.03, 0.05, .07], #so called `eta` value\n",
    "              'max_depth': [5, 6, 7],\n",
    "              'min_child_weight': [4],\n",
    "              'silent': [1],\n",
    "              'subsample': [0.7],\n",
    "              'colsample_bytree': [0.7],\n",
    "              'n_estimators': [500]}"
   ]
  },
  {
   "cell_type": "code",
   "execution_count": 47,
   "metadata": {},
   "outputs": [],
   "source": [
    "xgb_reg = XGBRegressor()\n",
    "xgb_grid = GridSearchCV(xgb_reg,\n",
    "                        parameters,\n",
    "                        cv = 2,\n",
    "                        n_jobs = 5,\n",
    "                        verbose=True)"
   ]
  },
  {
   "cell_type": "code",
   "execution_count": 48,
   "metadata": {},
   "outputs": [
    {
     "name": "stdout",
     "output_type": "stream",
     "text": [
      "Fitting 2 folds for each of 9 candidates, totalling 18 fits\n"
     ]
    },
    {
     "name": "stderr",
     "output_type": "stream",
     "text": [
      "[Parallel(n_jobs=5)]: Using backend LokyBackend with 5 concurrent workers.\n",
      "[Parallel(n_jobs=5)]: Done  18 out of  18 | elapsed:   43.8s finished\n"
     ]
    },
    {
     "name": "stdout",
     "output_type": "stream",
     "text": [
      "[16:55:34] WARNING: C:/Users/Administrator/workspace/xgboost-win64_release_1.1.0/src/objective/regression_obj.cu:168: reg:linear is now deprecated in favor of reg:squarederror.\n",
      "[16:55:34] WARNING: C:\\Users\\Administrator\\workspace\\xgboost-win64_release_1.1.0\\src\\learner.cc:480: \n",
      "Parameters: { silent } might not be used.\n",
      "\n",
      "  This may not be accurate due to some parameters are only used in language bindings but\n",
      "  passed down to XGBoost core.  Or some parameters are not used but slip through this\n",
      "  verification. Please open an issue if you find above cases.\n",
      "\n",
      "\n",
      "[16:55:39] WARNING: C:/Users/Administrator/workspace/xgboost-win64_release_1.1.0/src/objective/regression_obj.cu:168: reg:linear is now deprecated in favor of reg:squarederror.\n"
     ]
    },
    {
     "data": {
      "text/plain": [
       "GridSearchCV(cv=2, error_score=nan,\n",
       "             estimator=XGBRegressor(base_score=None, booster=None,\n",
       "                                    colsample_bylevel=None,\n",
       "                                    colsample_bynode=None,\n",
       "                                    colsample_bytree=None, gamma=None,\n",
       "                                    gpu_id=None, importance_type='gain',\n",
       "                                    interaction_constraints=None,\n",
       "                                    learning_rate=None, max_delta_step=None,\n",
       "                                    max_depth=None, min_child_weight=None,\n",
       "                                    missing=nan, monotone_constraints=None,\n",
       "                                    n_estima...\n",
       "                                    validate_parameters=None, verbosity=None),\n",
       "             iid='deprecated', n_jobs=5,\n",
       "             param_grid={'colsample_bytree': [0.7],\n",
       "                         'learning_rate': [0.03, 0.05, 0.07],\n",
       "                         'max_depth': [5, 6, 7], 'min_child_weight': [4],\n",
       "                         'n_estimators': [500], 'nthread': [4],\n",
       "                         'objective': ['reg:linear'], 'silent': [1],\n",
       "                         'subsample': [0.7]},\n",
       "             pre_dispatch='2*n_jobs', refit=True, return_train_score=False,\n",
       "             scoring=None, verbose=True)"
      ]
     },
     "execution_count": 48,
     "metadata": {},
     "output_type": "execute_result"
    }
   ],
   "source": [
    "xgb_grid.fit(X_train_pca,y_train_cleaned)"
   ]
  },
  {
   "cell_type": "code",
   "execution_count": 49,
   "metadata": {},
   "outputs": [
    {
     "name": "stdout",
     "output_type": "stream",
     "text": [
      "0.8879466144050354\n"
     ]
    }
   ],
   "source": [
    "print(xgb_grid.best_score_)"
   ]
  },
  {
   "cell_type": "code",
   "execution_count": 50,
   "metadata": {},
   "outputs": [
    {
     "name": "stdout",
     "output_type": "stream",
     "text": [
      "{'colsample_bytree': 0.7, 'learning_rate': 0.07, 'max_depth': 5, 'min_child_weight': 4, 'n_estimators': 500, 'nthread': 4, 'objective': 'reg:linear', 'silent': 1, 'subsample': 0.7}\n"
     ]
    }
   ],
   "source": [
    "print(xgb_grid.best_params_)"
   ]
  },
  {
   "cell_type": "code",
   "execution_count": 51,
   "metadata": {},
   "outputs": [],
   "source": [
    "xgb_best_grid = xgb_grid.best_estimator_"
   ]
  },
  {
   "cell_type": "code",
   "execution_count": 52,
   "metadata": {},
   "outputs": [],
   "source": [
    "xgb_predictions = xgb_best_grid.predict(X_test_pca)"
   ]
  },
  {
   "cell_type": "code",
   "execution_count": 53,
   "metadata": {},
   "outputs": [
    {
     "name": "stdout",
     "output_type": "stream",
     "text": [
      "Mean Absolute Error: 63197.34867862654\n"
     ]
    }
   ],
   "source": [
    "mae = mean_absolute_error(xgb_predictions, y_test_cleaned)\n",
    "print(\"Mean Absolute Error:\" , mae)"
   ]
  },
  {
   "cell_type": "markdown",
   "metadata": {},
   "source": [
    "### Predicting on a brand new house"
   ]
  },
  {
   "cell_type": "code",
   "execution_count": 54,
   "metadata": {},
   "outputs": [],
   "source": [
    "single_house = df.drop('price',axis=1).iloc[0]"
   ]
  },
  {
   "cell_type": "code",
   "execution_count": 55,
   "metadata": {},
   "outputs": [
    {
     "data": {
      "text/plain": [
       "(15117, 19)"
      ]
     },
     "execution_count": 55,
     "metadata": {},
     "output_type": "execute_result"
    }
   ],
   "source": [
    "X_train.shape"
   ]
  },
  {
   "cell_type": "code",
   "execution_count": 56,
   "metadata": {},
   "outputs": [],
   "source": [
    "single_house = scaler.transform(single_house.values.reshape(-1, 19))"
   ]
  },
  {
   "cell_type": "code",
   "execution_count": 57,
   "metadata": {},
   "outputs": [
    {
     "data": {
      "text/plain": [
       "array([215698.64], dtype=float32)"
      ]
     },
     "execution_count": 57,
     "metadata": {},
     "output_type": "execute_result"
    }
   ],
   "source": [
    "xgb_best_grid.predict(single_house)"
   ]
  },
  {
   "cell_type": "code",
   "execution_count": 58,
   "metadata": {},
   "outputs": [
    {
     "data": {
      "text/plain": [
       "array([226028.98], dtype=float32)"
      ]
     },
     "execution_count": 58,
     "metadata": {},
     "output_type": "execute_result"
    }
   ],
   "source": [
    "xgb_model.predict(single_house)"
   ]
  },
  {
   "cell_type": "code",
   "execution_count": 59,
   "metadata": {},
   "outputs": [
    {
     "data": {
      "text/plain": [
       "price            221900.0000\n",
       "bedrooms              3.0000\n",
       "bathrooms             1.0000\n",
       "sqft_living        1180.0000\n",
       "sqft_lot           5650.0000\n",
       "floors                1.0000\n",
       "waterfront            0.0000\n",
       "view                  0.0000\n",
       "condition             3.0000\n",
       "grade                 7.0000\n",
       "sqft_above         1180.0000\n",
       "sqft_basement         0.0000\n",
       "yr_built           1955.0000\n",
       "yr_renovated          0.0000\n",
       "lat                  47.5112\n",
       "long               -122.2570\n",
       "sqft_living15      1340.0000\n",
       "sqft_lot15         5650.0000\n",
       "month                10.0000\n",
       "year               2014.0000\n",
       "Name: 0, dtype: float64"
      ]
     },
     "execution_count": 59,
     "metadata": {},
     "output_type": "execute_result"
    }
   ],
   "source": [
    "df.iloc[0]"
   ]
  },
  {
   "cell_type": "markdown",
   "metadata": {},
   "source": [
    "## Creating a Model with TensorFlow"
   ]
  },
  {
   "cell_type": "code",
   "execution_count": 60,
   "metadata": {},
   "outputs": [],
   "source": [
    "from tensorflow.keras.models import Sequential\n",
    "from tensorflow.keras.layers import Dense, Activation, Dropout\n",
    "from tensorflow.keras.optimizers import Adam"
   ]
  },
  {
   "cell_type": "code",
   "execution_count": 61,
   "metadata": {},
   "outputs": [],
   "source": [
    "from tensorflow.keras.callbacks import EarlyStopping"
   ]
  },
  {
   "cell_type": "code",
   "execution_count": 62,
   "metadata": {},
   "outputs": [],
   "source": [
    "early_stop = EarlyStopping(monitor='val_loss', mode='min', verbose=1, patience=25)"
   ]
  },
  {
   "cell_type": "code",
   "execution_count": 63,
   "metadata": {},
   "outputs": [],
   "source": [
    "model = Sequential()\n",
    "\n",
    "model.add(Dense(19,activation='relu'))\n",
    "model.add(Dropout(0.2))\n",
    "model.add(Dense(19,activation='relu'))\n",
    "model.add(Dropout(0.25))\n",
    "model.add(Dense(19,activation='relu'))\n",
    "model.add(Dropout(0.25))\n",
    "model.add(Dense(19,activation='relu'))\n",
    "model.add(Dropout(0.25))\n",
    "\n",
    "model.add(Dense(1))\n",
    "\n",
    "model.compile(optimizer='adam',loss='mse')"
   ]
  },
  {
   "cell_type": "markdown",
   "metadata": {},
   "source": [
    "## Training the Model"
   ]
  },
  {
   "cell_type": "code",
   "execution_count": 64,
   "metadata": {},
   "outputs": [
    {
     "name": "stdout",
     "output_type": "stream",
     "text": [
      "Epoch 1/600\n",
      "473/473 [==============================] - 1s 2ms/step - loss: 417322860544.0000 - val_loss: 383479545856.0000\n",
      "Epoch 2/600\n",
      "473/473 [==============================] - 1s 2ms/step - loss: 367566618624.0000 - val_loss: 285950574592.0000\n",
      "Epoch 3/600\n",
      "473/473 [==============================] - 1s 2ms/step - loss: 194536505344.0000 - val_loss: 107239972864.0000\n",
      "Epoch 4/600\n",
      "473/473 [==============================] - 1s 2ms/step - loss: 121314394112.0000 - val_loss: 74729594880.0000\n",
      "Epoch 5/600\n",
      "473/473 [==============================] - 1s 2ms/step - loss: 107740651520.0000 - val_loss: 63069716480.0000\n",
      "Epoch 6/600\n",
      "473/473 [==============================] - 1s 1ms/step - loss: 99953606656.0000 - val_loss: 59583266816.0000\n",
      "Epoch 7/600\n",
      "473/473 [==============================] - 1s 1ms/step - loss: 93077495808.0000 - val_loss: 55104946176.0000\n",
      "Epoch 8/600\n",
      "473/473 [==============================] - 1s 2ms/step - loss: 86790078464.0000 - val_loss: 51341201408.0000\n",
      "Epoch 9/600\n",
      "473/473 [==============================] - 1s 2ms/step - loss: 90996465664.0000 - val_loss: 50653470720.0000\n",
      "Epoch 10/600\n",
      "473/473 [==============================] - 1s 2ms/step - loss: 88349540352.0000 - val_loss: 49444184064.0000\n",
      "Epoch 11/600\n",
      "473/473 [==============================] - 1s 2ms/step - loss: 86466363392.0000 - val_loss: 50000281600.0000\n",
      "Epoch 12/600\n",
      "473/473 [==============================] - 1s 2ms/step - loss: 84829822976.0000 - val_loss: 48061485056.0000\n",
      "Epoch 13/600\n",
      "473/473 [==============================] - 1s 2ms/step - loss: 80975519744.0000 - val_loss: 47395536896.0000\n",
      "Epoch 14/600\n",
      "473/473 [==============================] - 1s 2ms/step - loss: 83621150720.0000 - val_loss: 46529945600.0000\n",
      "Epoch 15/600\n",
      "473/473 [==============================] - 1s 2ms/step - loss: 80836894720.0000 - val_loss: 47695630336.0000\n",
      "Epoch 16/600\n",
      "473/473 [==============================] - 1s 2ms/step - loss: 83196354560.0000 - val_loss: 45778628608.0000\n",
      "Epoch 17/600\n",
      "473/473 [==============================] - 1s 2ms/step - loss: 80481976320.0000 - val_loss: 45852065792.0000\n",
      "Epoch 18/600\n",
      "473/473 [==============================] - 1s 2ms/step - loss: 79613083648.0000 - val_loss: 44272795648.0000\n",
      "Epoch 19/600\n",
      "473/473 [==============================] - 1s 1ms/step - loss: 77875462144.0000 - val_loss: 44588781568.0000\n",
      "Epoch 20/600\n",
      "473/473 [==============================] - 1s 2ms/step - loss: 78806843392.0000 - val_loss: 43385511936.0000\n",
      "Epoch 21/600\n",
      "473/473 [==============================] - 1s 2ms/step - loss: 76317360128.0000 - val_loss: 46198784000.0000\n",
      "Epoch 22/600\n",
      "473/473 [==============================] - 1s 2ms/step - loss: 76810182656.0000 - val_loss: 43307737088.0000\n",
      "Epoch 23/600\n",
      "473/473 [==============================] - 1s 2ms/step - loss: 77414211584.0000 - val_loss: 43150123008.0000\n",
      "Epoch 24/600\n",
      "473/473 [==============================] - 1s 2ms/step - loss: 75781316608.0000 - val_loss: 45180649472.0000\n",
      "Epoch 25/600\n",
      "473/473 [==============================] - 1s 2ms/step - loss: 74977288192.0000 - val_loss: 42390405120.0000\n",
      "Epoch 26/600\n",
      "473/473 [==============================] - 1s 2ms/step - loss: 75171446784.0000 - val_loss: 42732638208.0000\n",
      "Epoch 27/600\n",
      "473/473 [==============================] - 1s 2ms/step - loss: 77848805376.0000 - val_loss: 41887117312.0000\n",
      "Epoch 28/600\n",
      "473/473 [==============================] - 1s 2ms/step - loss: 76743327744.0000 - val_loss: 41876848640.0000\n",
      "Epoch 29/600\n",
      "473/473 [==============================] - 1s 2ms/step - loss: 74287538176.0000 - val_loss: 41615527936.0000\n",
      "Epoch 30/600\n",
      "473/473 [==============================] - 1s 2ms/step - loss: 74698866688.0000 - val_loss: 40738713600.0000\n",
      "Epoch 31/600\n",
      "473/473 [==============================] - 1s 2ms/step - loss: 73852149760.0000 - val_loss: 40300986368.0000\n",
      "Epoch 32/600\n",
      "473/473 [==============================] - 1s 2ms/step - loss: 73692176384.0000 - val_loss: 40570617856.0000\n",
      "Epoch 33/600\n",
      "473/473 [==============================] - 1s 2ms/step - loss: 72522375168.0000 - val_loss: 41069731840.0000\n",
      "Epoch 34/600\n",
      "473/473 [==============================] - 1s 2ms/step - loss: 74156326912.0000 - val_loss: 40907337728.0000\n",
      "Epoch 35/600\n",
      "473/473 [==============================] - 1s 2ms/step - loss: 71963656192.0000 - val_loss: 41812758528.0000\n",
      "Epoch 36/600\n",
      "473/473 [==============================] - 1s 2ms/step - loss: 75249262592.0000 - val_loss: 39765348352.0000\n",
      "Epoch 37/600\n",
      "473/473 [==============================] - 1s 2ms/step - loss: 73465741312.0000 - val_loss: 40484118528.0000\n",
      "Epoch 38/600\n",
      "473/473 [==============================] - 1s 2ms/step - loss: 74577199104.0000 - val_loss: 40316018688.0000\n",
      "Epoch 39/600\n",
      "473/473 [==============================] - 1s 2ms/step - loss: 71058833408.0000 - val_loss: 39762292736.0000\n",
      "Epoch 40/600\n",
      "473/473 [==============================] - 1s 2ms/step - loss: 73307389952.0000 - val_loss: 39145070592.0000\n",
      "Epoch 41/600\n",
      "473/473 [==============================] - 1s 2ms/step - loss: 71100538880.0000 - val_loss: 39901499392.0000\n",
      "Epoch 42/600\n",
      "473/473 [==============================] - 1s 2ms/step - loss: 73881059328.0000 - val_loss: 37962756096.0000\n",
      "Epoch 43/600\n",
      "473/473 [==============================] - 1s 2ms/step - loss: 71573979136.0000 - val_loss: 39025328128.0000\n",
      "Epoch 44/600\n",
      "473/473 [==============================] - 1s 2ms/step - loss: 70308765696.0000 - val_loss: 40602746880.0000\n",
      "Epoch 45/600\n",
      "473/473 [==============================] - 1s 2ms/step - loss: 73524969472.0000 - val_loss: 37596766208.0000\n",
      "Epoch 46/600\n",
      "473/473 [==============================] - 1s 2ms/step - loss: 70773923840.0000 - val_loss: 38119280640.0000\n",
      "Epoch 47/600\n",
      "473/473 [==============================] - 1s 2ms/step - loss: 72714731520.0000 - val_loss: 39580786688.0000\n",
      "Epoch 48/600\n",
      "473/473 [==============================] - 1s 2ms/step - loss: 70312812544.0000 - val_loss: 39077781504.0000\n",
      "Epoch 49/600\n",
      "473/473 [==============================] - 1s 2ms/step - loss: 71919263744.0000 - val_loss: 38240083968.0000\n",
      "Epoch 50/600\n",
      "473/473 [==============================] - 1s 2ms/step - loss: 67065188352.0000 - val_loss: 36786249728.0000\n",
      "Epoch 51/600\n",
      "473/473 [==============================] - 1s 2ms/step - loss: 67568787456.0000 - val_loss: 37045616640.0000\n",
      "Epoch 52/600\n",
      "473/473 [==============================] - 1s 2ms/step - loss: 70118957056.0000 - val_loss: 42555904000.0000\n",
      "Epoch 53/600\n",
      "473/473 [==============================] - 1s 2ms/step - loss: 67666194432.0000 - val_loss: 37982396416.0000\n",
      "Epoch 54/600\n",
      "473/473 [==============================] - 1s 2ms/step - loss: 71740497920.0000 - val_loss: 37357211648.0000\n",
      "Epoch 55/600\n",
      "473/473 [==============================] - 1s 2ms/step - loss: 70478708736.0000 - val_loss: 36569309184.0000\n",
      "Epoch 56/600\n",
      "473/473 [==============================] - 1s 2ms/step - loss: 69656215552.0000 - val_loss: 36989665280.0000\n",
      "Epoch 57/600\n",
      "473/473 [==============================] - 1s 2ms/step - loss: 69898051584.0000 - val_loss: 37070372864.0000\n",
      "Epoch 58/600\n",
      "473/473 [==============================] - 1s 2ms/step - loss: 71772872704.0000 - val_loss: 37634912256.0000\n",
      "Epoch 59/600\n",
      "473/473 [==============================] - 1s 2ms/step - loss: 71367794688.0000 - val_loss: 37659316224.0000\n",
      "Epoch 60/600\n",
      "473/473 [==============================] - 1s 1ms/step - loss: 69061337088.0000 - val_loss: 37630881792.0000\n",
      "Epoch 61/600\n",
      "473/473 [==============================] - 1s 1ms/step - loss: 69761056768.0000 - val_loss: 37435195392.0000\n",
      "Epoch 62/600\n",
      "473/473 [==============================] - 1s 2ms/step - loss: 68596682752.0000 - val_loss: 37125124096.0000\n",
      "Epoch 63/600\n",
      "473/473 [==============================] - 1s 2ms/step - loss: 69787934720.0000 - val_loss: 37552111616.0000\n",
      "Epoch 64/600\n",
      "473/473 [==============================] - 1s 2ms/step - loss: 68164739072.0000 - val_loss: 36863303680.0000\n",
      "Epoch 65/600\n",
      "473/473 [==============================] - 1s 2ms/step - loss: 69406007296.0000 - val_loss: 36322611200.0000\n",
      "Epoch 66/600\n",
      "473/473 [==============================] - 1s 2ms/step - loss: 70849142784.0000 - val_loss: 38729375744.0000\n",
      "Epoch 67/600\n",
      "473/473 [==============================] - 1s 2ms/step - loss: 70897426432.0000 - val_loss: 36367425536.0000\n",
      "Epoch 68/600\n",
      "473/473 [==============================] - 1s 2ms/step - loss: 69925208064.0000 - val_loss: 37059317760.0000\n",
      "Epoch 69/600\n",
      "473/473 [==============================] - 1s 2ms/step - loss: 68118499328.0000 - val_loss: 36077981696.0000\n",
      "Epoch 70/600\n",
      "473/473 [==============================] - 1s 1ms/step - loss: 66991022080.0000 - val_loss: 38858452992.0000\n",
      "Epoch 71/600\n",
      "473/473 [==============================] - 1s 2ms/step - loss: 70623125504.0000 - val_loss: 37851140096.0000\n",
      "Epoch 72/600\n",
      "473/473 [==============================] - 1s 2ms/step - loss: 68804812800.0000 - val_loss: 36999045120.0000\n",
      "Epoch 73/600\n",
      "473/473 [==============================] - 1s 2ms/step - loss: 67556425728.0000 - val_loss: 35657539584.0000\n",
      "Epoch 74/600\n",
      "473/473 [==============================] - 1s 2ms/step - loss: 69876449280.0000 - val_loss: 35622100992.0000\n",
      "Epoch 75/600\n",
      "473/473 [==============================] - 1s 2ms/step - loss: 69298315264.0000 - val_loss: 38009774080.0000\n",
      "Epoch 76/600\n",
      "473/473 [==============================] - 1s 1ms/step - loss: 69101248512.0000 - val_loss: 37798735872.0000\n",
      "Epoch 77/600\n",
      "473/473 [==============================] - 1s 2ms/step - loss: 70930325504.0000 - val_loss: 35459543040.0000\n",
      "Epoch 78/600\n",
      "473/473 [==============================] - 1s 2ms/step - loss: 66518867968.0000 - val_loss: 37698482176.0000\n",
      "Epoch 79/600\n",
      "473/473 [==============================] - 1s 2ms/step - loss: 69188583424.0000 - val_loss: 38803402752.0000\n",
      "Epoch 80/600\n",
      "473/473 [==============================] - 1s 2ms/step - loss: 68746133504.0000 - val_loss: 37355196416.0000\n",
      "Epoch 81/600\n",
      "473/473 [==============================] - 1s 2ms/step - loss: 67755610112.0000 - val_loss: 37009403904.0000\n",
      "Epoch 82/600\n",
      "473/473 [==============================] - 1s 2ms/step - loss: 68913373184.0000 - val_loss: 36171046912.0000\n",
      "Epoch 83/600\n",
      "473/473 [==============================] - 1s 2ms/step - loss: 69155823616.0000 - val_loss: 38494822400.0000\n",
      "Epoch 84/600\n",
      "473/473 [==============================] - 1s 2ms/step - loss: 70071246848.0000 - val_loss: 36632834048.0000\n",
      "Epoch 85/600\n",
      "473/473 [==============================] - 1s 2ms/step - loss: 68336967680.0000 - val_loss: 37070086144.0000\n",
      "Epoch 86/600\n",
      "473/473 [==============================] - 1s 2ms/step - loss: 68236165120.0000 - val_loss: 35609739264.0000\n",
      "Epoch 87/600\n",
      "473/473 [==============================] - 1s 2ms/step - loss: 70407839744.0000 - val_loss: 37170786304.0000\n",
      "Epoch 88/600\n",
      "473/473 [==============================] - 1s 2ms/step - loss: 67221618688.0000 - val_loss: 35372711936.0000\n",
      "Epoch 89/600\n",
      "473/473 [==============================] - 1s 2ms/step - loss: 65083625472.0000 - val_loss: 36285018112.0000\n",
      "Epoch 90/600\n",
      "473/473 [==============================] - 1s 2ms/step - loss: 69153431552.0000 - val_loss: 36991791104.0000\n",
      "Epoch 91/600\n",
      "473/473 [==============================] - 1s 1ms/step - loss: 67829264384.0000 - val_loss: 38519984128.0000\n",
      "Epoch 92/600\n",
      "473/473 [==============================] - 1s 2ms/step - loss: 66670497792.0000 - val_loss: 36668518400.0000\n",
      "Epoch 93/600\n",
      "473/473 [==============================] - 1s 2ms/step - loss: 69384970240.0000 - val_loss: 37888258048.0000\n",
      "Epoch 94/600\n",
      "473/473 [==============================] - 1s 2ms/step - loss: 67408494592.0000 - val_loss: 37661999104.0000\n",
      "Epoch 95/600\n",
      "473/473 [==============================] - 1s 2ms/step - loss: 68846534656.0000 - val_loss: 36518653952.0000\n",
      "Epoch 96/600\n",
      "473/473 [==============================] - 1s 2ms/step - loss: 69995044864.0000 - val_loss: 36396199936.0000\n",
      "Epoch 97/600\n",
      "473/473 [==============================] - 1s 2ms/step - loss: 69942509568.0000 - val_loss: 38322020352.0000\n",
      "Epoch 98/600\n",
      "473/473 [==============================] - 1s 2ms/step - loss: 67496345600.0000 - val_loss: 37128278016.0000\n",
      "Epoch 99/600\n",
      "473/473 [==============================] - 1s 2ms/step - loss: 67194740736.0000 - val_loss: 35897643008.0000\n",
      "Epoch 100/600\n",
      "473/473 [==============================] - 1s 2ms/step - loss: 66934415360.0000 - val_loss: 35488509952.0000\n",
      "Epoch 101/600\n",
      "473/473 [==============================] - 1s 2ms/step - loss: 68496179200.0000 - val_loss: 37462319104.0000\n",
      "Epoch 102/600\n",
      "473/473 [==============================] - 1s 2ms/step - loss: 68688945152.0000 - val_loss: 36140187648.0000\n",
      "Epoch 103/600\n",
      "473/473 [==============================] - 1s 2ms/step - loss: 67759558656.0000 - val_loss: 35450372096.0000\n",
      "Epoch 104/600\n",
      "473/473 [==============================] - 1s 2ms/step - loss: 67219247104.0000 - val_loss: 33984415744.0000\n",
      "Epoch 105/600\n",
      "473/473 [==============================] - 1s 2ms/step - loss: 66091421696.0000 - val_loss: 37004046336.0000\n",
      "Epoch 106/600\n",
      "473/473 [==============================] - 1s 2ms/step - loss: 68676714496.0000 - val_loss: 35167678464.0000\n",
      "Epoch 107/600\n",
      "473/473 [==============================] - 1s 2ms/step - loss: 68939423744.0000 - val_loss: 35695718400.0000\n",
      "Epoch 108/600\n",
      "473/473 [==============================] - 1s 2ms/step - loss: 69446746112.0000 - val_loss: 36655964160.0000\n",
      "Epoch 109/600\n",
      "473/473 [==============================] - 1s 2ms/step - loss: 66953736192.0000 - val_loss: 36064923648.0000\n",
      "Epoch 110/600\n",
      "473/473 [==============================] - 1s 2ms/step - loss: 65459703808.0000 - val_loss: 35938566144.0000\n",
      "Epoch 111/600\n",
      "473/473 [==============================] - 1s 2ms/step - loss: 65098989568.0000 - val_loss: 35765133312.0000\n",
      "Epoch 112/600\n",
      "473/473 [==============================] - 1s 2ms/step - loss: 67885617152.0000 - val_loss: 34916323328.0000\n",
      "Epoch 113/600\n",
      "473/473 [==============================] - 2s 3ms/step - loss: 65291313152.0000 - val_loss: 35969658880.0000\n",
      "Epoch 114/600\n",
      "473/473 [==============================] - 1s 2ms/step - loss: 66197241856.0000 - val_loss: 35594289152.0000\n",
      "Epoch 115/600\n",
      "473/473 [==============================] - 1s 2ms/step - loss: 66430488576.0000 - val_loss: 34766258176.0000\n",
      "Epoch 116/600\n",
      "473/473 [==============================] - 1s 2ms/step - loss: 62336548864.0000 - val_loss: 35702136832.0000\n",
      "Epoch 117/600\n",
      "473/473 [==============================] - 1s 2ms/step - loss: 65966911488.0000 - val_loss: 35103866880.0000\n",
      "Epoch 118/600\n",
      "473/473 [==============================] - 1s 2ms/step - loss: 69931646976.0000 - val_loss: 34329468928.0000\n",
      "Epoch 119/600\n",
      "473/473 [==============================] - 1s 2ms/step - loss: 64828702720.0000 - val_loss: 35544092672.0000\n",
      "Epoch 120/600\n",
      "473/473 [==============================] - 1s 2ms/step - loss: 65591205888.0000 - val_loss: 34975293440.0000\n",
      "Epoch 121/600\n",
      "473/473 [==============================] - 1s 2ms/step - loss: 67103576064.0000 - val_loss: 34357540864.0000\n",
      "Epoch 122/600\n",
      "473/473 [==============================] - 1s 2ms/step - loss: 66051256320.0000 - val_loss: 35099209728.0000\n",
      "Epoch 123/600\n",
      "473/473 [==============================] - 1s 2ms/step - loss: 64624095232.0000 - val_loss: 34418487296.0000\n",
      "Epoch 124/600\n",
      "473/473 [==============================] - 1s 2ms/step - loss: 66451591168.0000 - val_loss: 36044795904.0000\n",
      "Epoch 125/600\n",
      "473/473 [==============================] - 1s 2ms/step - loss: 65534300160.0000 - val_loss: 35296919552.0000\n",
      "Epoch 126/600\n",
      "473/473 [==============================] - 1s 2ms/step - loss: 65104863232.0000 - val_loss: 34264612864.0000\n",
      "Epoch 127/600\n",
      "473/473 [==============================] - 1s 2ms/step - loss: 68824711168.0000 - val_loss: 35634106368.0000\n",
      "Epoch 128/600\n",
      "473/473 [==============================] - 1s 2ms/step - loss: 65456001024.0000 - val_loss: 34419036160.0000\n",
      "Epoch 129/600\n",
      "473/473 [==============================] - 1s 2ms/step - loss: 66932445184.0000 - val_loss: 37298974720.0000\n",
      "Epoch 00129: early stopping\n"
     ]
    },
    {
     "data": {
      "text/plain": [
       "<tensorflow.python.keras.callbacks.History at 0x22aad22da00>"
      ]
     },
     "execution_count": 64,
     "metadata": {},
     "output_type": "execute_result"
    }
   ],
   "source": [
    "model.fit(x=X_train_pca,y=y_train_cleaned.values,\n",
    "          validation_data=(X_test_pca,y_test_cleaned.values),\n",
    "          batch_size=32,epochs=600,verbose=1,\n",
    "          callbacks=[early_stop])"
   ]
  },
  {
   "cell_type": "code",
   "execution_count": 65,
   "metadata": {},
   "outputs": [],
   "source": [
    "losses = pd.DataFrame(model.history.history)"
   ]
  },
  {
   "cell_type": "code",
   "execution_count": 66,
   "metadata": {},
   "outputs": [
    {
     "data": {
      "text/plain": [
       "<matplotlib.axes._subplots.AxesSubplot at 0x22aafdbdcd0>"
      ]
     },
     "execution_count": 66,
     "metadata": {},
     "output_type": "execute_result"
    },
    {
     "data": {
      "image/png": "[encoded data removed]",
      "text/plain": [
       "<Figure size 432x288 with 1 Axes>"
      ]
     },
     "metadata": {
      "needs_background": "light"
     },
     "output_type": "display_data"
    }
   ],
   "source": [
    "losses.plot()"
   ]
  },
  {
   "cell_type": "markdown",
   "metadata": {},
   "source": [
    "### Evaluation on Test Data"
   ]
  },
  {
   "cell_type": "code",
   "execution_count": null,
   "metadata": {},
   "outputs": [],
   "source": []
  },
  {
   "cell_type": "code",
   "execution_count": 67,
   "metadata": {},
   "outputs": [],
   "source": [
    "predictions = model.predict(X_test_pca)"
   ]
  },
  {
   "cell_type": "code",
   "execution_count": 68,
   "metadata": {},
   "outputs": [
    {
     "data": {
      "text/plain": [
       "111082.66070722415"
      ]
     },
     "execution_count": 68,
     "metadata": {},
     "output_type": "execute_result"
    }
   ],
   "source": [
    "mean_absolute_error(y_test_cleaned,predictions)"
   ]
  },
  {
   "cell_type": "code",
   "execution_count": 69,
   "metadata": {},
   "outputs": [
    {
     "data": {
      "text/plain": [
       "193129.4097771766"
      ]
     },
     "execution_count": 69,
     "metadata": {},
     "output_type": "execute_result"
    }
   ],
   "source": [
    "np.sqrt(mean_squared_error(y_test_cleaned,predictions))"
   ]
  },
  {
   "cell_type": "code",
   "execution_count": 70,
   "metadata": {},
   "outputs": [
    {
     "data": {
      "text/plain": [
       "540296.5735055795"
      ]
     },
     "execution_count": 70,
     "metadata": {},
     "output_type": "execute_result"
    }
   ],
   "source": [
    "df['price'].mean()"
   ]
  },
  {
   "cell_type": "code",
   "execution_count": 71,
   "metadata": {},
   "outputs": [
    {
     "data": {
      "text/plain": [
       "450000.0"
      ]
     },
     "execution_count": 71,
     "metadata": {},
     "output_type": "execute_result"
    }
   ],
   "source": [
    "df['price'].median()"
   ]
  },
  {
   "cell_type": "markdown",
   "metadata": {},
   "source": [
    "### Predicting on a brand new house"
   ]
  },
  {
   "cell_type": "code",
   "execution_count": null,
   "metadata": {},
   "outputs": [],
   "source": []
  },
  {
   "cell_type": "code",
   "execution_count": 72,
   "metadata": {},
   "outputs": [
    {
     "data": {
      "text/plain": [
       "array([[ 0.        , -1.66666667, -0.66071429, -0.34496193, -0.5       ,\n",
       "         0.        ,  0.        ,  0.        ,  0.        , -0.37864078,\n",
       "         0.        , -0.43478261,  0.        , -0.29626032, -0.12871287,\n",
       "        -0.56818182, -0.39305778,  0.8       ,  0.        ]])"
      ]
     },
     "execution_count": 72,
     "metadata": {},
     "output_type": "execute_result"
    }
   ],
   "source": [
    "single_house"
   ]
  },
  {
   "cell_type": "code",
   "execution_count": 73,
   "metadata": {},
   "outputs": [
    {
     "data": {
      "text/plain": [
       "array([[248472.86]], dtype=float32)"
      ]
     },
     "execution_count": 73,
     "metadata": {},
     "output_type": "execute_result"
    }
   ],
   "source": [
    "model.predict(single_house)"
   ]
  },
  {
   "cell_type": "code",
   "execution_count": 87,
   "metadata": {},
   "outputs": [
    {
     "data": {
      "text/plain": [
       "price            221900.0000\n",
       "bedrooms              3.0000\n",
       "bathrooms             1.0000\n",
       "sqft_living        1180.0000\n",
       "sqft_lot           5650.0000\n",
       "floors                1.0000\n",
       "waterfront            0.0000\n",
       "view                  0.0000\n",
       "condition             3.0000\n",
       "grade                 7.0000\n",
       "sqft_above         1180.0000\n",
       "sqft_basement         0.0000\n",
       "yr_built           1955.0000\n",
       "yr_renovated          0.0000\n",
       "lat                  47.5112\n",
       "long               -122.2570\n",
       "sqft_living15      1340.0000\n",
       "sqft_lot15         5650.0000\n",
       "month                10.0000\n",
       "year               2014.0000\n",
       "Name: 0, dtype: float64"
      ]
     },
     "execution_count": 87,
     "metadata": {},
     "output_type": "execute_result"
    }
   ],
   "source": [
    "df.iloc[0]"
   ]
  },
  {
   "cell_type": "code",
   "execution_count": null,
   "metadata": {},
   "outputs": [],
   "source": []
  }
 ],
 "metadata": {
  "kernelspec": {
   "display_name": "Python [conda env:data_science]",
   "language": "python",
   "name": "conda-env-data_science-py"
  },
  "language_info": {
   "codemirror_mode": {
    "name": "ipython",
    "version": 3
   },
   "file_extension": ".py",
   "mimetype": "text/x-python",
   "name": "python",
   "nbconvert_exporter": "python",
   "pygments_lexer": "ipython3",
   "version": "3.8.2"
  }
 },
 "nbformat": 4,
 "nbformat_minor": 4
}
