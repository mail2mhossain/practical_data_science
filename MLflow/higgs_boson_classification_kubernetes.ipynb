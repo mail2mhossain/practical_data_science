{
 "cells": [
  {
   "cell_type": "markdown",
   "metadata": {},
   "source": [
    "### Import Modules"
   ]
  },
  {
   "cell_type": "code",
   "execution_count": 1,
   "metadata": {},
   "outputs": [],
   "source": [
    "import os\n",
    "from datetime import datetime\n",
    "import numpy as np\n",
    "import pandas as pd\n",
    "import pickle\n",
    "import joblib\n",
    "from sklearn.model_selection import train_test_split\n",
    "from sklearn.preprocessing import LabelEncoder\n",
    "from xgboost import XGBClassifier\n",
    "from sklearn.model_selection import cross_val_score\n",
    "from sklearn.model_selection import KFold, StratifiedKFold, RepeatedStratifiedKFold\n",
    "from sklearn.metrics import balanced_accuracy_score, accuracy_score, f1_score, recall_score\n",
    "from sklearn.metrics import classification_report,confusion_matrix,plot_confusion_matrix\n",
    "from sklearn.pipeline import Pipeline, FeatureUnion\n",
    "from sklearn.preprocessing import StandardScaler, MinMaxScaler, RobustScaler\n",
    "from sklearn.preprocessing import PowerTransformer, QuantileTransformer\n",
    "from sklearn.decomposition import PCA, TruncatedSVD\n",
    "import mlflow\n",
    "import mlflow.sklearn\n",
    "#import mlflow.xgboost\n",
    "\n",
    "import warnings\n",
    "warnings.filterwarnings('ignore')"
   ]
  },
  {
   "cell_type": "markdown",
   "metadata": {},
   "source": [
    "### Load and Clean Data"
   ]
  },
  {
   "cell_type": "code",
   "execution_count": 2,
   "metadata": {},
   "outputs": [],
   "source": [
    "df_train = pd.read_csv('../Data/higgs_boson_training.csv')"
   ]
  },
  {
   "cell_type": "code",
   "execution_count": 3,
   "metadata": {},
   "outputs": [
    {
     "data": {
      "text/plain": [
       "(250000, 33)"
      ]
     },
     "execution_count": 3,
     "metadata": {},
     "output_type": "execute_result"
    }
   ],
   "source": [
    "df_train.shape"
   ]
  },
  {
   "cell_type": "code",
   "execution_count": 4,
   "metadata": {},
   "outputs": [
    {
     "data": {
      "text/plain": [
       "b    164333\n",
       "s     85667\n",
       "Name: Label, dtype: int64"
      ]
     },
     "execution_count": 4,
     "metadata": {},
     "output_type": "execute_result"
    }
   ],
   "source": [
    "df_train[\"Label\"].value_counts()"
   ]
  },
  {
   "cell_type": "code",
   "execution_count": 5,
   "metadata": {},
   "outputs": [
    {
     "data": {
      "text/plain": [
       "0    164333\n",
       "1     85667\n",
       "Name: Label, dtype: int64"
      ]
     },
     "execution_count": 5,
     "metadata": {},
     "output_type": "execute_result"
    }
   ],
   "source": [
    "df_train['Label'] = df_train['Label'].map({'b':0,'s':1})\n",
    "df_train[\"Label\"].value_counts()"
   ]
  },
  {
   "cell_type": "code",
   "execution_count": 6,
   "metadata": {},
   "outputs": [
    {
     "name": "stdout",
     "output_type": "stream",
     "text": [
      "0.521301260245964\n"
     ]
    }
   ],
   "source": [
    "s = df_train[df_train['Label']==1]\n",
    "b = df_train[df_train['Label']==0]\n",
    "outlier_fraction = len(s)/float(len(b))\n",
    "print (outlier_fraction)"
   ]
  },
  {
   "cell_type": "code",
   "execution_count": 7,
   "metadata": {},
   "outputs": [],
   "source": [
    "X = df_train.drop(['Label'],axis=1)\n",
    "y = df_train['Label']"
   ]
  },
  {
   "cell_type": "markdown",
   "metadata": {},
   "source": [
    "### Train Test Split"
   ]
  },
  {
   "cell_type": "code",
   "execution_count": 8,
   "metadata": {},
   "outputs": [],
   "source": [
    "X_train, X_test, y_train, y_test = train_test_split(X, y, test_size=0.30, stratify=y, random_state=42)"
   ]
  },
  {
   "cell_type": "code",
   "execution_count": 9,
   "metadata": {},
   "outputs": [],
   "source": [
    "X_train, X_valid, y_train, y_valid = train_test_split(X_train, y_train, test_size=0.30, stratify=y_train, random_state=42)"
   ]
  },
  {
   "cell_type": "code",
   "execution_count": 10,
   "metadata": {},
   "outputs": [
    {
     "name": "stdout",
     "output_type": "stream",
     "text": [
      "Train Data (X): (122500, 32)\n",
      "Test Data (X): (75000, 32)\n",
      "Validation Data (X): (52500, 32)\n"
     ]
    }
   ],
   "source": [
    "print(f\"Train Data (X): {X_train.shape}\")\n",
    "print(f\"Test Data (X): {X_test.shape}\")\n",
    "print(f\"Validation Data (X): {X_valid.shape}\")"
   ]
  },
  {
   "cell_type": "code",
   "execution_count": 11,
   "metadata": {},
   "outputs": [
    {
     "name": "stdout",
     "output_type": "stream",
     "text": [
      "Train Data (y): (122500,)\n",
      "Test Data (y): (75000,)\n",
      "Validation Data (y): (52500,)\n"
     ]
    }
   ],
   "source": [
    "print(f\"Train Data (y): {y_train.shape}\")\n",
    "print(f\"Test Data (y): {y_test.shape}\")\n",
    "print(f\"Validation Data (y): {y_valid.shape}\")"
   ]
  },
  {
   "cell_type": "markdown",
   "metadata": {},
   "source": [
    "### MLflow PROJECT SETUP"
   ]
  },
  {
   "cell_type": "code",
   "execution_count": 12,
   "metadata": {},
   "outputs": [],
   "source": [
    "# Setting the MLflow tracking server\n",
    "#mlflow.set_tracking_uri('http://kubernetes.docker.internal:5000') "
   ]
  },
  {
   "cell_type": "code",
   "execution_count": 13,
   "metadata": {},
   "outputs": [],
   "source": [
    "# Setting the requried environment variables\n",
    "#os.environ['MLFLOW_S3_ENDPOINT_URL'] = 'http://mlflow-minio.local/'\n",
    "#os.environ['AWS_ACCESS_KEY_ID'] = 'minio'\n",
    "#os.environ['AWS_SECRET_ACCESS_KEY'] = 'minio123'"
   ]
  },
  {
   "cell_type": "markdown",
   "metadata": {},
   "source": [
    "### Parameters"
   ]
  },
  {
   "cell_type": "code",
   "execution_count": 19,
   "metadata": {},
   "outputs": [],
   "source": [
    "params ={\n",
    "    \"base_score\":0.5, \n",
    "    \"booster\":None,\n",
    "    \"colsample_bylevel\":0.6573364597182277, \n",
    "    \"colsample_bynode\":None,\n",
    "    \"colsample_bytree\":0.5102849665204783, \n",
    "    \"gamma\":0.0016299786974779509,\n",
    "    \"gpu_id\":None, \n",
    "    \"importance_type\":'gain', \n",
    "    \"interaction_constraints\":None,\n",
    "    \"learning_rate\":0.0001052843797478166, \n",
    "    \"max_delta_step\":0,\n",
    "    \"max_depth\":5, \n",
    "    \"min_child_weight\":21, \n",
    "    \"missing\":None,\n",
    "    \"monotone_constraints\":None, \n",
    "    \"n_estimators\":5000, \n",
    "    \"n_jobs\":None,\n",
    "    \"num_parallel_tree\":None, \n",
    "    \"random_state\":None,\n",
    "    \"reg_alpha\":0.004292169845548234, \n",
    "    \"reg_lambda\":2.788702137746418,\n",
    "    \"scale_pos_weight\":1, \n",
    "    \"seed\":1, \n",
    "    \"subsample\":0.9383008964042696,\n",
    "    \"tree_method\":None, \n",
    "    \"validate_parameters\":None, \n",
    "    \"verbosity\":None\n",
    "}"
   ]
  },
  {
   "cell_type": "markdown",
   "metadata": {},
   "source": [
    "### Running MLFlow script"
   ]
  },
  {
   "cell_type": "code",
   "execution_count": 21,
   "metadata": {},
   "outputs": [],
   "source": [
    "with mlflow.start_run():\n",
    "    xgb_model = XGBClassifier(**params)\n",
    "    \n",
    "    pipeline = Pipeline(steps=[('norm', MinMaxScaler(feature_range=(0.0, 1.0))), ('m', xgb_model)])\n",
    "    \n",
    "    fit_params = {\n",
    "    'm__early_stopping_rounds':30,  \n",
    "    'm__eval_set':[(X_valid, y_valid)],\n",
    "    'm__verbose':0\n",
    "    }\n",
    "    \n",
    "    pipeline.fit(X_train, y_train)# **fit_params)\n",
    "    prediction = pipeline.predict(X_test)\n",
    "    accuracy = accuracy_score(y_test, prediction)\n",
    "    \n",
    "    # Logging params and metrics to MLFlow\n",
    "    #mlflow.log_param('learning_rate', 0.0001052843797478166)\n",
    "    #mlflow.log_param('max_depth', 5)\n",
    "    #mlflow.log_param('n_estimators', 5000)\n",
    "    #mlflow.log_param('colsample_bytree', 0.5102849665204783)\n",
    "    mlflow.log_params(params)\n",
    "    mlflow.log_metric('accuracy', accuracy)\n",
    "    \n",
    "    # Logging training data\n",
    "    mlflow.log_artifact(local_path = '../Data/higgs_boson_training.csv')\n",
    "    \n",
    "    # Logging training code\n",
    "    mlflow.log_artifact(local_path = './higgs_boson_classification_local.ipynb')\n",
    "    \n",
    "    # Logging model to MLFlow\n",
    "    mlflow.sklearn.log_model(pipeline, 'model')\n",
    "    #mlflow.sklearn.log_model(sk_model = pipeline,\n",
    "                             #artifact_path = 'higgs_boson_model',\n",
    "                             #registered_model_name = 'higgs_boson_model')"
   ]
  },
  {
   "cell_type": "markdown",
   "metadata": {},
   "source": [
    "### Save Model"
   ]
  },
  {
   "cell_type": "code",
   "execution_count": 16,
   "metadata": {},
   "outputs": [
    {
     "data": {
      "text/plain": [
       "['model/higgs_boson_model.pkl']"
      ]
     },
     "execution_count": 16,
     "metadata": {},
     "output_type": "execute_result"
    }
   ],
   "source": [
    "# save the model to disk\n",
    "joblib.dump(pipeline, 'model/higgs_boson_model.pkl')"
   ]
  },
  {
   "cell_type": "code",
   "execution_count": null,
   "metadata": {},
   "outputs": [],
   "source": []
  }
 ],
 "metadata": {
  "kernelspec": {
   "display_name": "PyCaret",
   "language": "python",
   "name": "py_caret"
  },
  "language_info": {
   "codemirror_mode": {
    "name": "ipython",
    "version": 3
   },
   "file_extension": ".py",
   "mimetype": "text/x-python",
   "name": "python",
   "nbconvert_exporter": "python",
   "pygments_lexer": "ipython3",
   "version": "3.6.12"
  }
 },
 "nbformat": 4,
 "nbformat_minor": 4
}
