{
 "cells": [
  {
   "cell_type": "markdown",
   "metadata": {},
   "source": [
    "# Algorithm: The Engine Behind the Machine Learning"
   ]
  },
  {
   "cell_type": "markdown",
   "metadata": {
    "heading_collapsed": true
   },
   "source": [
    "## Import Libraries"
   ]
  },
  {
   "cell_type": "code",
   "execution_count": 1,
   "metadata": {
    "hidden": true
   },
   "outputs": [],
   "source": [
    "from datetime import datetime\n",
    "import numpy as np\n",
    "import pandas  as pd\n",
    "from matplotlib import pyplot\n",
    "from sklearn.preprocessing import LabelEncoder\n",
    "from sklearn.preprocessing import OrdinalEncoder\n",
    "from sklearn.preprocessing import OneHotEncoder\n",
    "from sklearn.compose import ColumnTransformer\n",
    "from sklearn.model_selection import cross_val_score\n",
    "from sklearn.model_selection import KFold, StratifiedKFold, RepeatedStratifiedKFold\n",
    "from sklearn.metrics import f1_score, accuracy_score\n",
    "from sklearn.model_selection import GridSearchCV, RandomizedSearchCV\n",
    "from sklearn.linear_model import LogisticRegression\n",
    "from sklearn.tree import DecisionTreeClassifier\n",
    "from sklearn.neighbors import KNeighborsClassifier\n",
    "from sklearn.discriminant_analysis import LinearDiscriminantAnalysis\n",
    "from sklearn.naive_bayes import GaussianNB, MultinomialNB\n",
    "from sklearn.gaussian_process import GaussianProcessClassifier\n",
    "from sklearn.svm import SVC\n",
    "from sklearn.ensemble import AdaBoostClassifier\n",
    "from sklearn.ensemble import GradientBoostingClassifier\n",
    "from sklearn.ensemble import RandomForestClassifier\n",
    "from sklearn.ensemble import ExtraTreesClassifier\n",
    "from sklearn.linear_model import SGDClassifier\n",
    "from xgboost import XGBClassifier\n",
    "from lightgbm import LGBMClassifier\n",
    "from catboost import CatBoostClassifier\n",
    "from sklearn.model_selection import train_test_split\n",
    "from sklearn.metrics import classification_report, confusion_matrix, plot_confusion_matrix\n",
    "from sklearn.pipeline import Pipeline\n",
    "from sklearn.pipeline import FeatureUnion\n",
    "from sklearn.preprocessing import StandardScaler, MinMaxScaler, RobustScaler\n",
    "from sklearn.preprocessing import PowerTransformer, QuantileTransformer\n",
    "from sklearn.decomposition import PCA, TruncatedSVD\n",
    "from sklearn.neighbors import LocalOutlierFactor\n",
    "from sklearn.feature_selection import RFE, RFECV, SelectFromModel\n",
    "from sklearn.feature_selection import SelectKBest\n",
    "from sklearn.feature_selection import f_classif, mutual_info_classif"
   ]
  },
  {
   "cell_type": "markdown",
   "metadata": {
    "heading_collapsed": true
   },
   "source": [
    "## Load Dataset"
   ]
  },
  {
   "cell_type": "code",
   "execution_count": 2,
   "metadata": {
    "hidden": true
   },
   "outputs": [],
   "source": [
    "df = pd.read_csv('Data/heart_disease_clean.csv')"
   ]
  },
  {
   "cell_type": "code",
   "execution_count": 3,
   "metadata": {
    "hidden": true
   },
   "outputs": [
    {
     "data": {
      "text/plain": [
       "(303, 14)"
      ]
     },
     "execution_count": 3,
     "metadata": {},
     "output_type": "execute_result"
    }
   ],
   "source": [
    "df.shape"
   ]
  },
  {
   "cell_type": "code",
   "execution_count": 4,
   "metadata": {
    "hidden": true
   },
   "outputs": [
    {
     "data": {
      "text/html": [
       "<div>\n",
       "<style scoped>\n",
       "    .dataframe tbody tr th:only-of-type {\n",
       "        vertical-align: middle;\n",
       "    }\n",
       "\n",
       "    .dataframe tbody tr th {\n",
       "        vertical-align: top;\n",
       "    }\n",
       "\n",
       "    .dataframe thead th {\n",
       "        text-align: right;\n",
       "    }\n",
       "</style>\n",
       "<table border=\"1\" class=\"dataframe\">\n",
       "  <thead>\n",
       "    <tr style=\"text-align: right;\">\n",
       "      <th></th>\n",
       "      <th>age</th>\n",
       "      <th>sex</th>\n",
       "      <th>cp</th>\n",
       "      <th>trestbps</th>\n",
       "      <th>chol</th>\n",
       "      <th>fbs</th>\n",
       "      <th>restecg</th>\n",
       "      <th>thalach</th>\n",
       "      <th>exang</th>\n",
       "      <th>oldpeak</th>\n",
       "      <th>slope</th>\n",
       "      <th>ca</th>\n",
       "      <th>thal</th>\n",
       "      <th>num</th>\n",
       "    </tr>\n",
       "  </thead>\n",
       "  <tbody>\n",
       "    <tr>\n",
       "      <th>0</th>\n",
       "      <td>63.0</td>\n",
       "      <td>male</td>\n",
       "      <td>typical angina</td>\n",
       "      <td>145.0</td>\n",
       "      <td>233.0</td>\n",
       "      <td>True</td>\n",
       "      <td>2.0</td>\n",
       "      <td>150.0</td>\n",
       "      <td>no</td>\n",
       "      <td>2.3</td>\n",
       "      <td>downsloping</td>\n",
       "      <td>0.0</td>\n",
       "      <td>6.0</td>\n",
       "      <td>0</td>\n",
       "    </tr>\n",
       "    <tr>\n",
       "      <th>1</th>\n",
       "      <td>67.0</td>\n",
       "      <td>male</td>\n",
       "      <td>asymptomatic</td>\n",
       "      <td>160.0</td>\n",
       "      <td>286.0</td>\n",
       "      <td>False</td>\n",
       "      <td>2.0</td>\n",
       "      <td>108.0</td>\n",
       "      <td>yes</td>\n",
       "      <td>1.5</td>\n",
       "      <td>flat</td>\n",
       "      <td>3.0</td>\n",
       "      <td>3.0</td>\n",
       "      <td>1</td>\n",
       "    </tr>\n",
       "    <tr>\n",
       "      <th>2</th>\n",
       "      <td>67.0</td>\n",
       "      <td>male</td>\n",
       "      <td>asymptomatic</td>\n",
       "      <td>120.0</td>\n",
       "      <td>229.0</td>\n",
       "      <td>False</td>\n",
       "      <td>2.0</td>\n",
       "      <td>129.0</td>\n",
       "      <td>yes</td>\n",
       "      <td>2.6</td>\n",
       "      <td>flat</td>\n",
       "      <td>2.0</td>\n",
       "      <td>7.0</td>\n",
       "      <td>1</td>\n",
       "    </tr>\n",
       "    <tr>\n",
       "      <th>3</th>\n",
       "      <td>37.0</td>\n",
       "      <td>male</td>\n",
       "      <td>non-anginal pain</td>\n",
       "      <td>130.0</td>\n",
       "      <td>250.0</td>\n",
       "      <td>False</td>\n",
       "      <td>0.0</td>\n",
       "      <td>187.0</td>\n",
       "      <td>no</td>\n",
       "      <td>3.5</td>\n",
       "      <td>downsloping</td>\n",
       "      <td>0.0</td>\n",
       "      <td>3.0</td>\n",
       "      <td>0</td>\n",
       "    </tr>\n",
       "    <tr>\n",
       "      <th>4</th>\n",
       "      <td>41.0</td>\n",
       "      <td>female</td>\n",
       "      <td>atypical angina</td>\n",
       "      <td>130.0</td>\n",
       "      <td>204.0</td>\n",
       "      <td>False</td>\n",
       "      <td>2.0</td>\n",
       "      <td>172.0</td>\n",
       "      <td>no</td>\n",
       "      <td>1.4</td>\n",
       "      <td>upsloping</td>\n",
       "      <td>0.0</td>\n",
       "      <td>3.0</td>\n",
       "      <td>0</td>\n",
       "    </tr>\n",
       "  </tbody>\n",
       "</table>\n",
       "</div>"
      ],
      "text/plain": [
       "    age     sex                cp  trestbps   chol    fbs  restecg  thalach  \\\n",
       "0  63.0    male    typical angina     145.0  233.0   True      2.0    150.0   \n",
       "1  67.0    male      asymptomatic     160.0  286.0  False      2.0    108.0   \n",
       "2  67.0    male      asymptomatic     120.0  229.0  False      2.0    129.0   \n",
       "3  37.0    male  non-anginal pain     130.0  250.0  False      0.0    187.0   \n",
       "4  41.0  female   atypical angina     130.0  204.0  False      2.0    172.0   \n",
       "\n",
       "  exang  oldpeak        slope   ca  thal  num  \n",
       "0    no      2.3  downsloping  0.0   6.0    0  \n",
       "1   yes      1.5         flat  3.0   3.0    1  \n",
       "2   yes      2.6         flat  2.0   7.0    1  \n",
       "3    no      3.5  downsloping  0.0   3.0    0  \n",
       "4    no      1.4    upsloping  0.0   3.0    0  "
      ]
     },
     "execution_count": 4,
     "metadata": {},
     "output_type": "execute_result"
    }
   ],
   "source": [
    "df.head()"
   ]
  },
  {
   "cell_type": "markdown",
   "metadata": {
    "heading_collapsed": true
   },
   "source": [
    "## Result of EDA & Data Preprocessing"
   ]
  },
  {
   "cell_type": "code",
   "execution_count": 5,
   "metadata": {
    "hidden": true
   },
   "outputs": [],
   "source": [
    "numeric_features = ['age', 'trestbps', 'chol', 'thalach', 'oldpeak']\n",
    "nominal_features = ['sex', 'cp', 'exang', 'slope', 'thal', 'fbs', 'restecg']\n",
    "discrete_features = ['ca']"
   ]
  },
  {
   "cell_type": "code",
   "execution_count": 6,
   "metadata": {
    "hidden": true
   },
   "outputs": [],
   "source": [
    "t = [('cat', OneHotEncoder(drop='first', sparse=False), nominal_features), \\\n",
    "     ('discrete', StandardScaler(), discrete_features),\n",
    "     ('power', PowerTransformer(), numeric_features),\n",
    "     ('min_max', MinMaxScaler(), numeric_features)]\n",
    "\n",
    "col_transform = ColumnTransformer(transformers=t)"
   ]
  },
  {
   "cell_type": "markdown",
   "metadata": {
    "heading_collapsed": true
   },
   "source": [
    "## Split Data Set"
   ]
  },
  {
   "cell_type": "code",
   "execution_count": 7,
   "metadata": {
    "hidden": true
   },
   "outputs": [],
   "source": [
    "X = df.drop(\"num\", axis=1)\n",
    "y = df[\"num\"]"
   ]
  },
  {
   "cell_type": "code",
   "execution_count": 8,
   "metadata": {
    "hidden": true
   },
   "outputs": [],
   "source": [
    "y = LabelEncoder().fit_transform(y)"
   ]
  },
  {
   "cell_type": "code",
   "execution_count": 9,
   "metadata": {
    "hidden": true
   },
   "outputs": [
    {
     "name": "stdout",
     "output_type": "stream",
     "text": [
      "(303, 13) (303,)\n"
     ]
    }
   ],
   "source": [
    "print(X.shape, y.shape)"
   ]
  },
  {
   "cell_type": "code",
   "execution_count": 10,
   "metadata": {
    "hidden": true
   },
   "outputs": [],
   "source": [
    "X_train, X_test, y_train, y_test = train_test_split(X, y, test_size=0.20, stratify=y, random_state=42)"
   ]
  },
  {
   "cell_type": "code",
   "execution_count": 11,
   "metadata": {
    "hidden": true
   },
   "outputs": [],
   "source": [
    "X_train, X_valid, y_train, y_valid = train_test_split(X_train, y_train, test_size=0.20, stratify=y_train, random_state=42)"
   ]
  },
  {
   "cell_type": "code",
   "execution_count": 12,
   "metadata": {
    "hidden": true
   },
   "outputs": [
    {
     "name": "stdout",
     "output_type": "stream",
     "text": [
      "(193, 13) (61, 13) (49, 13)\n"
     ]
    }
   ],
   "source": [
    "print (X_train.shape, X_test.shape, X_valid.shape)"
   ]
  },
  {
   "cell_type": "code",
   "execution_count": 13,
   "metadata": {
    "hidden": true
   },
   "outputs": [
    {
     "name": "stdout",
     "output_type": "stream",
     "text": [
      "(193,) (61,) (49,)\n"
     ]
    }
   ],
   "source": [
    "print (y_train.shape, y_test.shape, y_valid.shape)"
   ]
  },
  {
   "cell_type": "markdown",
   "metadata": {
    "heading_collapsed": true
   },
   "source": [
    "## Model Evaluation Function"
   ]
  },
  {
   "cell_type": "code",
   "execution_count": 14,
   "metadata": {
    "hidden": true
   },
   "outputs": [],
   "source": [
    "def evaluate_model(model, X, y):\n",
    "    # define evaluation procedure\n",
    "    cv = RepeatedStratifiedKFold(n_splits=10, n_repeats=3, random_state=1)\n",
    "        # evaluate model\n",
    "    scores = cross_val_score(model, X, y, scoring='accuracy', cv=cv, n_jobs=-1)\n",
    "    #print('F-measure: %.3f' % score)\n",
    "    return scores"
   ]
  },
  {
   "cell_type": "markdown",
   "metadata": {
    "heading_collapsed": true
   },
   "source": [
    "## Find Best Component"
   ]
  },
  {
   "cell_type": "markdown",
   "metadata": {
    "heading_collapsed": true,
    "hidden": true
   },
   "source": [
    "### Find Best PCA Component"
   ]
  },
  {
   "cell_type": "markdown",
   "metadata": {
    "hidden": true
   },
   "source": [
    "It can also be a good idea to normalize data prior to performing the PCA transform if the input variables have differing units or scales"
   ]
  },
  {
   "cell_type": "code",
   "execution_count": 19,
   "metadata": {
    "hidden": true
   },
   "outputs": [],
   "source": [
    "estimators = []\n",
    "estimators.append(('prep', col_transform))\n",
    "estimators.append(('pca', PCA()))\n",
    "estimators.append(('lg', LogisticRegression()))\n",
    "pipeline = Pipeline(estimators)"
   ]
  },
  {
   "cell_type": "code",
   "execution_count": 20,
   "metadata": {
    "hidden": true
   },
   "outputs": [],
   "source": [
    "# define the grid\n",
    "grid_param = dict()\n",
    "grid_param['pca__n_components'] = [i+1 for i in range(X.shape[1])]"
   ]
  },
  {
   "cell_type": "code",
   "execution_count": 21,
   "metadata": {
    "hidden": true
   },
   "outputs": [
    {
     "name": "stdout",
     "output_type": "stream",
     "text": [
      "Job Started at: 2021-01-10 20:50:03.721495\n",
      "Best Mean Accuracy: 0.842\n",
      "Best Config: {'pca__n_components': 9}\n",
      "Execution time :  0:00:06.772169\n"
     ]
    },
    {
     "name": "stderr",
     "output_type": "stream",
     "text": [
      "/home/mhossain/anaconda3/lib/python3.8/site-packages/sklearn/preprocessing/_data.py:2995: RuntimeWarning: divide by zero encountered in log\n",
      "  loglike = -n_samples / 2 * np.log(x_trans.var())\n"
     ]
    }
   ],
   "source": [
    "init_time = datetime.now()\n",
    "print (f\"Job Started at: {init_time}\")\n",
    "kfold = RepeatedStratifiedKFold(n_splits=10, n_repeats=3, random_state=1)\n",
    "# RandomizedSearchCV/GridSearchCV\n",
    "grid_search = GridSearchCV(pipeline,\n",
    "                        grid_param,\n",
    "                        cv = kfold,\n",
    "                        n_jobs = -1,\n",
    "                        verbose=False)\n",
    "grid_search.fit(X, y)\n",
    "# summarize best\n",
    "print('Best Mean Accuracy: %.3f' % grid_search.best_score_)\n",
    "print('Best Config: %s' % grid_search.best_params_)\n",
    "fin_time = datetime.now()\n",
    "print(\"Execution time : \", (fin_time-init_time))"
   ]
  },
  {
   "cell_type": "code",
   "execution_count": 23,
   "metadata": {
    "hidden": true
   },
   "outputs": [
    {
     "data": {
      "text/plain": [
       "9"
      ]
     },
     "execution_count": 23,
     "metadata": {},
     "output_type": "execute_result"
    }
   ],
   "source": [
    "pca_n_components = grid_search.best_params_['pca__n_components']\n",
    "pca_n_components "
   ]
  },
  {
   "cell_type": "markdown",
   "metadata": {
    "heading_collapsed": true,
    "hidden": true
   },
   "source": [
    "### Find Best SVD Component"
   ]
  },
  {
   "cell_type": "markdown",
   "metadata": {
    "hidden": true
   },
   "source": [
    "Singular Value Decomposition, or SVD, might be the most popular technique for dimensionality reduction when data is sparse. It can also be a good idea to normalize data prior to performing the SVD transform if the input variables have differing units or scales."
   ]
  },
  {
   "cell_type": "code",
   "execution_count": 27,
   "metadata": {
    "hidden": true
   },
   "outputs": [],
   "source": [
    "estimators = []\n",
    "estimators.append(('prep', col_transform))\n",
    "estimators.append(('svd', TruncatedSVD()))\n",
    "estimators.append(('lg', LogisticRegression()))\n",
    "pipeline = Pipeline(estimators)"
   ]
  },
  {
   "cell_type": "code",
   "execution_count": 28,
   "metadata": {
    "hidden": true
   },
   "outputs": [],
   "source": [
    "grid_param = dict()\n",
    "grid_param['svd__n_components'] = [i+1 for i in range(X.shape[1])]"
   ]
  },
  {
   "cell_type": "code",
   "execution_count": 29,
   "metadata": {
    "hidden": true
   },
   "outputs": [
    {
     "name": "stdout",
     "output_type": "stream",
     "text": [
      "Job Started at: 2021-01-10 20:54:55.436637\n",
      "Best Mean Accuracy: 0.841\n",
      "Best Config: {'svd__n_components': 9}\n",
      "Execution time :  0:00:07.658279\n"
     ]
    },
    {
     "name": "stderr",
     "output_type": "stream",
     "text": [
      "/home/mhossain/anaconda3/lib/python3.8/site-packages/sklearn/preprocessing/_data.py:2995: RuntimeWarning: divide by zero encountered in log\n",
      "  loglike = -n_samples / 2 * np.log(x_trans.var())\n"
     ]
    }
   ],
   "source": [
    "init_time = datetime.now()\n",
    "print (f\"Job Started at: {init_time}\")\n",
    "kfold = RepeatedStratifiedKFold(n_splits=10, n_repeats=3, random_state=1)\n",
    "# RandomizedSearchCV/GridSearchCV\n",
    "grid_search = GridSearchCV(pipeline,\n",
    "                        grid_param,\n",
    "                        cv = kfold,\n",
    "                        n_jobs = -1,\n",
    "                        verbose=False)\n",
    "grid_search.fit(X, y)\n",
    "# summarize best\n",
    "print('Best Mean Accuracy: %.3f' % grid_search.best_score_)\n",
    "print('Best Config: %s' % grid_search.best_params_)\n",
    "fin_time = datetime.now()\n",
    "print(\"Execution time : \", (fin_time-init_time))"
   ]
  },
  {
   "cell_type": "code",
   "execution_count": 30,
   "metadata": {
    "hidden": true
   },
   "outputs": [
    {
     "name": "stdout",
     "output_type": "stream",
     "text": [
      "9\n"
     ]
    }
   ],
   "source": [
    "svd_n_components = grid_search.best_params_['svd__n_components']\n",
    "print(svd_n_components)"
   ]
  },
  {
   "cell_type": "markdown",
   "metadata": {
    "heading_collapsed": true,
    "hidden": true
   },
   "source": [
    "### Find Best LDA Component"
   ]
  },
  {
   "cell_type": "markdown",
   "metadata": {
    "hidden": true
   },
   "source": [
    "LDA is a technique for multiclass classification that can be used to automatically perform dimensionality reduction. It is good practice to perhaps standardize the data prior to fitting an LDA model. "
   ]
  },
  {
   "cell_type": "code",
   "execution_count": 31,
   "metadata": {
    "hidden": true
   },
   "outputs": [],
   "source": [
    "estimators = []\n",
    "estimators.append(('prep', col_transform))\n",
    "estimators.append(('lda', LinearDiscriminantAnalysis()))\n",
    "estimators.append(('lg', LogisticRegression()))\n",
    "pipeline = Pipeline(estimators)"
   ]
  },
  {
   "cell_type": "code",
   "execution_count": 32,
   "metadata": {
    "hidden": true
   },
   "outputs": [],
   "source": [
    "grid_param = dict()\n",
    "grid_param['lda__n_components'] = [i+1 for i in range(X.shape[1])]"
   ]
  },
  {
   "cell_type": "code",
   "execution_count": 33,
   "metadata": {
    "hidden": true
   },
   "outputs": [
    {
     "name": "stdout",
     "output_type": "stream",
     "text": [
      "Job Started at: 2021-01-10 20:57:11.266553\n",
      "Best Mean Accuracy: 0.838\n",
      "Best Config: {'lda__n_components': 1}\n",
      "Execution time :  0:00:06.570401\n"
     ]
    },
    {
     "name": "stderr",
     "output_type": "stream",
     "text": [
      "/home/mhossain/anaconda3/lib/python3.8/site-packages/sklearn/preprocessing/_data.py:2995: RuntimeWarning: divide by zero encountered in log\n",
      "  loglike = -n_samples / 2 * np.log(x_trans.var())\n"
     ]
    }
   ],
   "source": [
    "init_time = datetime.now()\n",
    "print (f\"Job Started at: {init_time}\")\n",
    "kfold = RepeatedStratifiedKFold(n_splits=10, n_repeats=3, random_state=1)\n",
    "# RandomizedSearchCV/GridSearchCV\n",
    "grid_search = GridSearchCV(pipeline,\n",
    "                        grid_param,\n",
    "                        cv = kfold,\n",
    "                        n_jobs = -1,\n",
    "                        verbose=False)\n",
    "grid_search.fit(X, y)\n",
    "# summarize best\n",
    "print('Best Mean Accuracy: %.3f' % grid_search.best_score_)\n",
    "print('Best Config: %s' % grid_search.best_params_)\n",
    "fin_time = datetime.now()\n",
    "print(\"Execution time : \", (fin_time-init_time))"
   ]
  },
  {
   "cell_type": "code",
   "execution_count": 34,
   "metadata": {
    "hidden": true
   },
   "outputs": [
    {
     "data": {
      "text/plain": [
       "1"
      ]
     },
     "execution_count": 34,
     "metadata": {},
     "output_type": "execute_result"
    }
   ],
   "source": [
    "lda_n_components = grid_search.best_params_['lda__n_components']\n",
    "lda_n_components"
   ]
  },
  {
   "cell_type": "markdown",
   "metadata": {
    "heading_collapsed": true,
    "hidden": true
   },
   "source": [
    "### ANOVA F-test Feature Selection"
   ]
  },
  {
   "cell_type": "code",
   "execution_count": 36,
   "metadata": {
    "hidden": true
   },
   "outputs": [
    {
     "name": "stdout",
     "output_type": "stream",
     "text": [
      "Job Started at: 2021-01-10 21:02:58.457849\n",
      "Best Mean Accuracy: 0.840\n",
      "Best Config: {'anova__k': 12}\n",
      "Execution time :  0:00:13.148987\n"
     ]
    },
    {
     "name": "stderr",
     "output_type": "stream",
     "text": [
      "/home/mhossain/anaconda3/lib/python3.8/site-packages/sklearn/preprocessing/_data.py:2995: RuntimeWarning: divide by zero encountered in log\n",
      "  loglike = -n_samples / 2 * np.log(x_trans.var())\n",
      "/home/mhossain/anaconda3/lib/python3.8/site-packages/sklearn/feature_selection/_univariate_selection.py:114: UserWarning: Features [14 15] are constant.\n",
      "  warnings.warn(\"Features %s are constant.\" % constant_features_idx,\n",
      "/home/mhossain/anaconda3/lib/python3.8/site-packages/sklearn/feature_selection/_univariate_selection.py:116: RuntimeWarning: invalid value encountered in true_divide\n",
      "  f = msb / msw\n"
     ]
    }
   ],
   "source": [
    "init_time = datetime.now()\n",
    "print (f\"Job Started at: {init_time}\")\n",
    "# define the evaluation method\n",
    "cv = RepeatedStratifiedKFold(n_splits=10, n_repeats=3, random_state=1)\n",
    "# define the pipeline to evaluate\n",
    "fs = SelectKBest(score_func=f_classif)\n",
    "pipeline = Pipeline(steps=[('prep', col_transform),\n",
    "                           ('anova',fs), \n",
    "                           ('lg', LogisticRegression())])\n",
    "# define the grid\n",
    "grid = dict()\n",
    "grid['anova__k'] = [i+1 for i in range(X.shape[1])]\n",
    "# define the grid search\n",
    "# RandomizedSearchCV/GridSearchCV\n",
    "search = GridSearchCV(pipeline, grid, scoring='accuracy', n_jobs=-1, cv=cv)\n",
    "# perform the search\n",
    "results = search.fit(X, y)\n",
    "# summarize best\n",
    "print('Best Mean Accuracy: %.3f' % results.best_score_)\n",
    "print('Best Config: %s' % results.best_params_)\n",
    "fin_time = datetime.now()\n",
    "print(\"Execution time : \", (fin_time-init_time))"
   ]
  },
  {
   "cell_type": "code",
   "execution_count": 37,
   "metadata": {
    "hidden": true
   },
   "outputs": [
    {
     "data": {
      "text/plain": [
       "12"
      ]
     },
     "execution_count": 37,
     "metadata": {},
     "output_type": "execute_result"
    }
   ],
   "source": [
    "anova_best_features = results.best_params_['anova__k']\n",
    "anova_best_features"
   ]
  },
  {
   "cell_type": "markdown",
   "metadata": {
    "heading_collapsed": true,
    "hidden": true
   },
   "source": [
    "### Mutual Information Feature Selection"
   ]
  },
  {
   "cell_type": "code",
   "execution_count": 38,
   "metadata": {
    "hidden": true
   },
   "outputs": [
    {
     "name": "stdout",
     "output_type": "stream",
     "text": [
      "Job Started at: 2021-01-10 21:05:09.683729\n",
      "Best Mean Accuracy: 0.829\n",
      "Best Config: {'mutual__k': 10}\n",
      "Execution time :  0:00:21.878789\n"
     ]
    },
    {
     "name": "stderr",
     "output_type": "stream",
     "text": [
      "/home/mhossain/anaconda3/lib/python3.8/site-packages/sklearn/preprocessing/_data.py:2995: RuntimeWarning: divide by zero encountered in log\n",
      "  loglike = -n_samples / 2 * np.log(x_trans.var())\n"
     ]
    }
   ],
   "source": [
    "init_time = datetime.now()\n",
    "print (f\"Job Started at: {init_time}\")\n",
    "# define the evaluation method\n",
    "cv = RepeatedStratifiedKFold(n_splits=10, n_repeats=3, random_state=1)\n",
    "# define the pipeline to evaluate\n",
    "fs = SelectKBest(score_func=mutual_info_classif)\n",
    "pipeline = Pipeline(steps=[('prep', col_transform),\n",
    "                           ('mutual',fs), \n",
    "                           ('lg', LogisticRegression())])\n",
    "# define the grid\n",
    "grid = dict()\n",
    "grid['mutual__k'] = [i+1 for i in range(X.shape[1])]\n",
    "# define the grid search\n",
    "# RandomizedSearchCV/GridSearchCV\n",
    "search = GridSearchCV(pipeline, grid, scoring='accuracy', n_jobs=-1, cv=cv)\n",
    "# perform the search\n",
    "results = search.fit(X, y)\n",
    "# summarize best\n",
    "print('Best Mean Accuracy: %.3f' % results.best_score_)\n",
    "print('Best Config: %s' % results.best_params_)\n",
    "fin_time = datetime.now()\n",
    "print(\"Execution time : \", (fin_time-init_time))"
   ]
  },
  {
   "cell_type": "code",
   "execution_count": 39,
   "metadata": {
    "hidden": true
   },
   "outputs": [
    {
     "data": {
      "text/plain": [
       "10"
      ]
     },
     "execution_count": 39,
     "metadata": {},
     "output_type": "execute_result"
    }
   ],
   "source": [
    "mutual_best_features = results.best_params_['mutual__k']\n",
    "mutual_best_features"
   ]
  },
  {
   "cell_type": "code",
   "execution_count": null,
   "metadata": {
    "hidden": true
   },
   "outputs": [],
   "source": []
  },
  {
   "cell_type": "code",
   "execution_count": null,
   "metadata": {
    "hidden": true
   },
   "outputs": [],
   "source": []
  },
  {
   "cell_type": "markdown",
   "metadata": {
    "heading_collapsed": true
   },
   "source": [
    "## Classical Model Generation Function"
   ]
  },
  {
   "cell_type": "code",
   "execution_count": 15,
   "metadata": {
    "hidden": true
   },
   "outputs": [],
   "source": [
    "def get_models():\n",
    "    models = list()\n",
    "    # LR\n",
    "    models.append(('LR', LogisticRegression(solver='lbfgs')))\n",
    "    # LDA\n",
    "    models.append(('LDA', LinearDiscriminantAnalysis()))\n",
    "    #KNN\n",
    "    models.append(('KNN', KNeighborsClassifier()))\n",
    "    #NB\n",
    "    models.append(('NB', GaussianNB()))\n",
    "    #GPC\n",
    "    models.append(('GPC', GaussianProcessClassifier()))\n",
    "    #CART\n",
    "    models.append(('CART', DecisionTreeClassifier()))\n",
    "    if X.shape[0] < 100000:\n",
    "        #SVM\n",
    "        models.append(('SVM', SVC(gamma='auto')))\n",
    "\n",
    "    return models"
   ]
  },
  {
   "cell_type": "code",
   "execution_count": 16,
   "metadata": {
    "hidden": true
   },
   "outputs": [
    {
     "name": "stdout",
     "output_type": "stream",
     "text": [
      "Accuracyof LR: 0.836\n",
      "Accuracyof LDA: 0.837\n",
      "Accuracyof KNN: 0.804\n",
      "Accuracyof NB: 0.804\n",
      "Accuracyof GPC: 0.810\n",
      "Accuracyof SVM: 0.825\n",
      "Execution time :  0:00:08.977980\n"
     ]
    }
   ],
   "source": [
    "init_time = datetime.now()\n",
    "models = get_models()\n",
    "for name, model in models:\n",
    "    pipeline = Pipeline(steps=[('prep', col_transform), ('m', model)])\n",
    "    scores = evaluate_model(pipeline, X, y)\n",
    "    print(f\"Accuracyof {name}: {np.mean(scores):.3f}\")\n",
    "fin_time = datetime.now()\n",
    "print(\"Execution time : \", (fin_time-init_time))"
   ]
  },
  {
   "cell_type": "markdown",
   "metadata": {
    "heading_collapsed": true,
    "hidden": true
   },
   "source": [
    "### Dimensionality Reduction"
   ]
  },
  {
   "cell_type": "markdown",
   "metadata": {
    "heading_collapsed": true,
    "hidden": true
   },
   "source": [
    "#### PCA "
   ]
  },
  {
   "cell_type": "code",
   "execution_count": 42,
   "metadata": {
    "hidden": true
   },
   "outputs": [
    {
     "name": "stdout",
     "output_type": "stream",
     "text": [
      "Accuracyof LR: 0.842\n",
      "Accuracyof LDA: 0.833\n",
      "Accuracyof KNN: 0.780\n",
      "Accuracyof NB: 0.800\n",
      "Accuracyof GPC: 0.809\n",
      "Accuracyof SVM: 0.812\n",
      "Execution time :  0:00:06.895589\n"
     ]
    }
   ],
   "source": [
    "init_time = datetime.now()\n",
    "models = get_models()\n",
    "for name, model in models:\n",
    "    pipeline = Pipeline(steps=[('prep', col_transform), \n",
    "                               ('pca', PCA(n_components=pca_n_components)),\n",
    "                               ('m', model)])\n",
    "    scores = evaluate_model(pipeline, X, y)\n",
    "    print(f\"Accuracyof {name}: {np.mean(scores):.3f}\")\n",
    "fin_time = datetime.now()\n",
    "print(\"Execution time : \", (fin_time-init_time))"
   ]
  },
  {
   "cell_type": "markdown",
   "metadata": {
    "heading_collapsed": true,
    "hidden": true
   },
   "source": [
    "#### SVD"
   ]
  },
  {
   "cell_type": "code",
   "execution_count": 43,
   "metadata": {
    "hidden": true
   },
   "outputs": [
    {
     "name": "stdout",
     "output_type": "stream",
     "text": [
      "Accuracyof LR: 0.841\n",
      "Accuracyof LDA: 0.834\n",
      "Accuracyof KNN: 0.776\n",
      "Accuracyof NB: 0.797\n",
      "Accuracyof GPC: 0.805\n",
      "Accuracyof SVM: 0.797\n",
      "Execution time :  0:00:04.063018\n"
     ]
    }
   ],
   "source": [
    "init_time = datetime.now()\n",
    "models = get_models()\n",
    "for name, model in models:\n",
    "    pipeline = Pipeline(steps=[('prep', col_transform), \n",
    "                               ('svd', TruncatedSVD(n_components=svd_n_components)),\n",
    "                               ('m', model)])\n",
    "    scores = evaluate_model(pipeline, X, y)\n",
    "    print(f\"Accuracyof {name}: {np.mean(scores):.3f}\")\n",
    "fin_time = datetime.now()\n",
    "print(\"Execution time : \", (fin_time-init_time))"
   ]
  },
  {
   "cell_type": "markdown",
   "metadata": {
    "heading_collapsed": true,
    "hidden": true
   },
   "source": [
    "#### LDA"
   ]
  },
  {
   "cell_type": "code",
   "execution_count": 44,
   "metadata": {
    "hidden": true
   },
   "outputs": [
    {
     "name": "stdout",
     "output_type": "stream",
     "text": [
      "Accuracyof LR: 0.838\n",
      "Accuracyof LDA: 0.837\n",
      "Accuracyof KNN: 0.827\n",
      "Accuracyof NB: 0.836\n",
      "Accuracyof GPC: 0.837\n",
      "Accuracyof SVM: 0.837\n",
      "Execution time :  0:00:04.343639\n"
     ]
    }
   ],
   "source": [
    "init_time = datetime.now()\n",
    "models = get_models()\n",
    "for name, model in models:\n",
    "    pipeline = Pipeline(steps=[('prep', col_transform), \n",
    "                               ('lda', LinearDiscriminantAnalysis(n_components= lda_n_components)),\n",
    "                               ('m', model)])\n",
    "    scores = evaluate_model(pipeline, X, y)\n",
    "    print(f\"Accuracyof {name}: {np.mean(scores):.3f}\")\n",
    "fin_time = datetime.now()\n",
    "print(\"Execution time : \", (fin_time-init_time))"
   ]
  },
  {
   "cell_type": "markdown",
   "metadata": {
    "heading_collapsed": true,
    "hidden": true
   },
   "source": [
    "### Feature Selection"
   ]
  },
  {
   "cell_type": "markdown",
   "metadata": {
    "heading_collapsed": true,
    "hidden": true
   },
   "source": [
    "#### RFE"
   ]
  },
  {
   "cell_type": "code",
   "execution_count": 45,
   "metadata": {
    "hidden": true
   },
   "outputs": [
    {
     "name": "stdout",
     "output_type": "stream",
     "text": [
      "Accuracyof LR: 0.836\n",
      "Accuracyof LDA: 0.833\n",
      "Accuracyof KNN: 0.792\n",
      "Accuracyof NB: 0.824\n",
      "Accuracyof GPC: 0.812\n",
      "Accuracyof SVM: 0.824\n",
      "Execution time :  0:24:16.743286\n"
     ]
    }
   ],
   "source": [
    "init_time = datetime.now()\n",
    "models = get_models()\n",
    "for name, model in models:\n",
    "    pipeline = Pipeline(steps=[('prep', col_transform), \n",
    "                               ('rfe', RFECV(estimator=RandomForestClassifier())),\n",
    "                               ('m', model)])\n",
    "    scores = evaluate_model(pipeline, X, y)\n",
    "    print(f\"Accuracyof {name}: {np.mean(scores):.3f}\")\n",
    "fin_time = datetime.now()\n",
    "print(\"Execution time : \", (fin_time-init_time))"
   ]
  },
  {
   "cell_type": "markdown",
   "metadata": {
    "heading_collapsed": true,
    "hidden": true
   },
   "source": [
    "#### ANOVA Feature Selection"
   ]
  },
  {
   "cell_type": "code",
   "execution_count": 46,
   "metadata": {
    "hidden": true
   },
   "outputs": [],
   "source": [
    "def select_Anova_features(X_train, y_train, X_test, k):\n",
    "    # configure to select all features\n",
    "    fs = SelectKBest(score_func=f_classif, k=k)\n",
    "    # learn relationship from training data\n",
    "    fs.fit(X_train, y_train)\n",
    "    # transform train input data\n",
    "    X_train_fs = fs.transform(X_train)\n",
    "    # transform test input data\n",
    "    X_test_fs = fs.transform(X_test)\n",
    "    return X_train_fs, X_test_fs, fs"
   ]
  },
  {
   "cell_type": "markdown",
   "metadata": {
    "heading_collapsed": true,
    "hidden": true
   },
   "source": [
    "#### Mutual Information Feature Selection"
   ]
  },
  {
   "cell_type": "code",
   "execution_count": null,
   "metadata": {
    "hidden": true
   },
   "outputs": [],
   "source": [
    "def select_Mutual_features(X_train, y_train, X_test, k):\n",
    "    # configure to select all features\n",
    "    fs = SelectKBest(score_func=mutual_info_classif, k=k)\n",
    "    # learn relationship from training data\n",
    "    fs.fit(X_train, y_train)\n",
    "    # transform train input data\n",
    "    X_train_fs = fs.transform(X_train)\n",
    "    # transform test input data\n",
    "    X_test_fs = fs.transform(X_test)\n",
    "    return X_train_fs, X_test_fs, fs"
   ]
  },
  {
   "cell_type": "markdown",
   "metadata": {
    "heading_collapsed": true
   },
   "source": [
    "## Ensemble Model Generation Function"
   ]
  },
  {
   "cell_type": "code",
   "execution_count": 68,
   "metadata": {
    "hidden": true
   },
   "outputs": [],
   "source": [
    "def get_ensemble_models():\n",
    "    models = list()\n",
    "    #SGD\n",
    "    models.append(('SGD', SGDClassifier()))\n",
    "    #ADA\n",
    "    models.append(('AD', AdaBoostClassifier())) \n",
    "    #ET \n",
    "    models.append(('ET', ExtraTreesClassifier()))\n",
    "    #RF\n",
    "    models.append(('RF', RandomForestClassifier(n_estimators=1000)))\n",
    "    #GBM\n",
    "    models.append(('GBM', GradientBoostingClassifier(n_estimators=1000)))\n",
    "    #XGB\n",
    "    models.append(('XGB', XGBClassifier()))\n",
    "    #LGB\n",
    "    models.append(('LGB', LGBMClassifier()))\n",
    "    #CAT\n",
    "    models.append(('cat', CatBoostClassifier()))\n",
    "    \n",
    "    return models"
   ]
  },
  {
   "cell_type": "code",
   "execution_count": 69,
   "metadata": {
    "hidden": true
   },
   "outputs": [
    {
     "name": "stdout",
     "output_type": "stream",
     "text": [
      "Accuracyof CART: 0.745\n",
      "Accuracyof SGD: 0.783\n",
      "Accuracyof AD: 0.791\n",
      "Accuracyof ET: 0.800\n",
      "Accuracyof RF: 0.801\n",
      "Accuracyof GBM: 0.756\n",
      "Accuracyof XGB: 0.789\n",
      "Accuracyof LGB: 0.794\n",
      "Accuracyof cat: 0.816\n",
      "Execution time :  0:01:38.397438\n"
     ]
    }
   ],
   "source": [
    "init_time = datetime.now()\n",
    "models = get_ensemble_models()\n",
    "for name, model in models:\n",
    "    pipeline = Pipeline(steps=[('prep', col_transform), ('m', model)])\n",
    "    scores = evaluate_model(pipeline, X, y)\n",
    "    print(f\"Accuracyof {name}: {np.mean(scores):.3f}\")\n",
    "fin_time = datetime.now()\n",
    "print(\"Execution time : \", (fin_time-init_time))"
   ]
  },
  {
   "cell_type": "markdown",
   "metadata": {
    "heading_collapsed": true
   },
   "source": [
    "## Experiment with Robust Scaler"
   ]
  },
  {
   "cell_type": "code",
   "execution_count": null,
   "metadata": {
    "hidden": true
   },
   "outputs": [],
   "source": [
    "t = [('cat', OneHotEncoder(drop='first', sparse=False), nominal_features), \\\n",
    "     ('ordinal', OrdinalEncoder(), ordinal_features),\n",
    "     ('power', PowerTransformer(), numeric_features),\n",
    "     ('min_max', RobustScaler(), numeric_features)]\n",
    "\n",
    "col_transform = ColumnTransformer(transformers=t)"
   ]
  },
  {
   "cell_type": "markdown",
   "metadata": {
    "heading_collapsed": true,
    "hidden": true
   },
   "source": [
    "### Classical Model Generation Function"
   ]
  },
  {
   "cell_type": "code",
   "execution_count": null,
   "metadata": {
    "hidden": true
   },
   "outputs": [],
   "source": [
    "init_time = datetime.now()\n",
    "models = get_models()\n",
    "for name, model in models:\n",
    "    pipeline = Pipeline(steps=[('prep', col_transform), ('m', model)])\n",
    "    scores = evaluate_model(pipeline, X, y)\n",
    "    print(f\"Accuracyof {name}: {np.mean(scores):.3f}\")\n",
    "fin_time = datetime.now()\n",
    "print(\"Execution time : \", (fin_time-init_time))"
   ]
  },
  {
   "cell_type": "markdown",
   "metadata": {
    "heading_collapsed": true,
    "hidden": true
   },
   "source": [
    "### Ensemble Model Generation Function"
   ]
  },
  {
   "cell_type": "code",
   "execution_count": null,
   "metadata": {
    "hidden": true
   },
   "outputs": [],
   "source": [
    "init_time = datetime.now()\n",
    "models = get_ensemble_models()\n",
    "for name, model in models:\n",
    "    pipeline = Pipeline(steps=[('prep', col_transform), ('m', model)])\n",
    "    scores = evaluate_model(pipeline, X, y)\n",
    "    print(f\"Accuracyof {name}: {np.mean(scores):.3f}\")\n",
    "fin_time = datetime.now()\n",
    "print(\"Execution time : \", (fin_time-init_time))"
   ]
  },
  {
   "cell_type": "markdown",
   "metadata": {
    "heading_collapsed": true
   },
   "source": [
    "## Pandas Get Dummies"
   ]
  },
  {
   "cell_type": "code",
   "execution_count": 48,
   "metadata": {
    "hidden": true
   },
   "outputs": [],
   "source": [
    "nominal_features_new = ['sex', 'cp', 'exang', 'slope', 'thal', 'fbs', 'restecg', 'ca']"
   ]
  },
  {
   "cell_type": "code",
   "execution_count": 49,
   "metadata": {
    "hidden": true
   },
   "outputs": [],
   "source": [
    "dummies = pd.get_dummies(df[nominal_features_new], drop_first=True)\n",
    "df_new = df.drop(nominal_features_new, axis=1)\n",
    "df_new = pd.concat([df_new, dummies], axis=1)"
   ]
  },
  {
   "cell_type": "code",
   "execution_count": 50,
   "metadata": {
    "hidden": true
   },
   "outputs": [],
   "source": [
    "X_new = df_new.drop(\"num\", axis=1)\n",
    "y_new = df_new[\"num\"]"
   ]
  },
  {
   "cell_type": "code",
   "execution_count": 51,
   "metadata": {
    "hidden": true
   },
   "outputs": [],
   "source": [
    "y_new = LabelEncoder().fit_transform(y_new)"
   ]
  },
  {
   "cell_type": "code",
   "execution_count": 95,
   "metadata": {
    "hidden": true
   },
   "outputs": [],
   "source": [
    "X_train, X_test, y_train, y_test = train_test_split(X_new, y_new, test_size=0.20, stratify=y, random_state=42)"
   ]
  },
  {
   "cell_type": "markdown",
   "metadata": {
    "heading_collapsed": true
   },
   "source": [
    "## Classical Model Generation Function"
   ]
  },
  {
   "cell_type": "code",
   "execution_count": 52,
   "metadata": {
    "hidden": true
   },
   "outputs": [
    {
     "name": "stdout",
     "output_type": "stream",
     "text": [
      "Accuracyof LR: 0.834\n",
      "Accuracyof LDA: 0.841\n",
      "Accuracyof KNN: 0.823\n",
      "Accuracyof NB: 0.831\n",
      "Accuracyof GPC: 0.822\n",
      "Accuracyof SVM: 0.844\n",
      "Execution time :  0:00:04.095912\n"
     ]
    }
   ],
   "source": [
    "init_time = datetime.now()\n",
    "models = get_models()\n",
    "for name, model in models:\n",
    "    pipeline = Pipeline(steps=[('power', PowerTransformer()), \n",
    "                               ('scaler', RobustScaler()),\n",
    "                               ('m', model)])\n",
    "    scores = evaluate_model(pipeline, X_new, y_new)\n",
    "    print(f\"Accuracyof {name}: {np.mean(scores):.3f}\")\n",
    "fin_time = datetime.now()\n",
    "print(\"Execution time : \", (fin_time-init_time))"
   ]
  },
  {
   "cell_type": "markdown",
   "metadata": {
    "hidden": true
   },
   "source": [
    "### Dimensionality Reduction"
   ]
  },
  {
   "cell_type": "markdown",
   "metadata": {
    "hidden": true
   },
   "source": [
    "#### PCA "
   ]
  },
  {
   "cell_type": "code",
   "execution_count": 54,
   "metadata": {
    "hidden": true
   },
   "outputs": [
    {
     "name": "stdout",
     "output_type": "stream",
     "text": [
      "Accuracyof LR: 0.838\n",
      "Accuracyof LDA: 0.843\n",
      "Accuracyof KNN: 0.813\n",
      "Accuracyof NB: 0.825\n",
      "Accuracyof GPC: 0.821\n",
      "Accuracyof SVM: 0.847\n",
      "Execution time :  0:00:03.159127\n"
     ]
    }
   ],
   "source": [
    "init_time = datetime.now()\n",
    "models = get_models()\n",
    "for name, model in models:\n",
    "    pipeline = Pipeline(steps=[('power', PowerTransformer()), \n",
    "                               ('scaler', RobustScaler()),\n",
    "                               ('pca', PCA(n_components=pca_n_components)),\n",
    "                               ('m', model)])\n",
    "    scores = evaluate_model(pipeline, X_new, y_new)\n",
    "    print(f\"Accuracyof {name}: {np.mean(scores):.3f}\")\n",
    "fin_time = datetime.now()\n",
    "print(\"Execution time : \", (fin_time-init_time))"
   ]
  },
  {
   "cell_type": "markdown",
   "metadata": {
    "heading_collapsed": true,
    "hidden": true
   },
   "source": [
    "#### SVD"
   ]
  },
  {
   "cell_type": "code",
   "execution_count": 55,
   "metadata": {
    "hidden": true
   },
   "outputs": [
    {
     "name": "stdout",
     "output_type": "stream",
     "text": [
      "Accuracyof LR: 0.832\n",
      "Accuracyof LDA: 0.833\n",
      "Accuracyof KNN: 0.802\n",
      "Accuracyof NB: 0.824\n",
      "Accuracyof GPC: 0.812\n",
      "Accuracyof SVM: 0.834\n",
      "Execution time :  0:00:04.891148\n"
     ]
    }
   ],
   "source": [
    "init_time = datetime.now()\n",
    "models = get_models()\n",
    "for name, model in models:\n",
    "    pipeline = Pipeline(steps=[('power', PowerTransformer()), \n",
    "                               ('scaler', RobustScaler()),\n",
    "                               ('svd', TruncatedSVD(n_components=svd_n_components)),\n",
    "                               ('m', model)])\n",
    "    scores = evaluate_model(pipeline, X_new, y_new)\n",
    "    print(f\"Accuracyof {name}: {np.mean(scores):.3f}\")\n",
    "fin_time = datetime.now()\n",
    "print(\"Execution time : \", (fin_time-init_time))"
   ]
  },
  {
   "cell_type": "markdown",
   "metadata": {
    "heading_collapsed": true,
    "hidden": true
   },
   "source": [
    "#### LDA"
   ]
  },
  {
   "cell_type": "code",
   "execution_count": 56,
   "metadata": {
    "hidden": true
   },
   "outputs": [
    {
     "name": "stdout",
     "output_type": "stream",
     "text": [
      "Accuracyof LR: 0.838\n",
      "Accuracyof LDA: 0.841\n",
      "Accuracyof KNN: 0.814\n",
      "Accuracyof NB: 0.841\n",
      "Accuracyof GPC: 0.840\n",
      "Accuracyof SVM: 0.841\n",
      "Execution time :  0:00:02.776493\n"
     ]
    }
   ],
   "source": [
    "init_time = datetime.now()\n",
    "models = get_models()\n",
    "for name, model in models:\n",
    "    pipeline = Pipeline(steps=[('power', PowerTransformer()), \n",
    "                               ('scaler', RobustScaler()),\n",
    "                               ('lda', LinearDiscriminantAnalysis(n_components= lda_n_components)),\n",
    "                               ('m', model)])\n",
    "    scores = evaluate_model(pipeline, X_new, y_new)\n",
    "    print(f\"Accuracyof {name}: {np.mean(scores):.3f}\")\n",
    "fin_time = datetime.now()\n",
    "print(\"Execution time : \", (fin_time-init_time))"
   ]
  },
  {
   "cell_type": "markdown",
   "metadata": {
    "heading_collapsed": true,
    "hidden": true
   },
   "source": [
    "### Feature Selection"
   ]
  },
  {
   "cell_type": "markdown",
   "metadata": {
    "heading_collapsed": true,
    "hidden": true
   },
   "source": [
    "#### ANOVA Feature Selection"
   ]
  },
  {
   "cell_type": "code",
   "execution_count": 60,
   "metadata": {
    "hidden": true
   },
   "outputs": [],
   "source": [
    "def select_Anova_features(X_train, y_train, X_test, k):\n",
    "    # configure to select all features\n",
    "    fs = SelectKBest(score_func=f_classif, k=k)\n",
    "    # learn relationship from training data\n",
    "    fs.fit(X_train, y_train)\n",
    "    # transform train input data\n",
    "    X_train_fs = fs.transform(X_train)\n",
    "    # transform test input data\n",
    "    X_test_fs = fs.transform(X_test)\n",
    "    return X_train_fs, X_test_fs, fs"
   ]
  },
  {
   "cell_type": "code",
   "execution_count": 61,
   "metadata": {
    "hidden": true
   },
   "outputs": [
    {
     "name": "stdout",
     "output_type": "stream",
     "text": [
      "Job Started at: 2021-01-10 22:09:44.689977\n",
      "Accuracyof LR: 0.830\n",
      "Accuracyof LDA: 0.822\n",
      "Accuracyof KNN: 0.704\n",
      "Accuracyof NB: 0.821\n",
      "Accuracyof GPC: 0.668\n",
      "Accuracyof SVM: 0.693\n",
      "Execution time :  0:00:01.307071\n"
     ]
    }
   ],
   "source": [
    "init_time = datetime.now()\n",
    "print (f\"Job Started at: {init_time}\")\n",
    "# feature selection\n",
    "X_fs, X_fs, fs = select_Anova_features(X_new, y_new, X_new, anova_best_features)\n",
    "models = get_models()\n",
    "for name, model in models:\n",
    "    pipeline = Pipeline(steps=[('m', model)])\n",
    "    scores = evaluate_model(pipeline, X_fs, y)\n",
    "    print(f\"Accuracyof {name}: {np.mean(scores):.3f}\")\n",
    "\n",
    "fin_time = datetime.now()\n",
    "print(\"Execution time : \", (fin_time-init_time))"
   ]
  },
  {
   "cell_type": "code",
   "execution_count": 58,
   "metadata": {
    "hidden": true
   },
   "outputs": [
    {
     "name": "stdout",
     "output_type": "stream",
     "text": [
      "Job Started at: 2021-01-10 22:07:26.421786\n",
      "Accuracyof LR: 0.830\n",
      "Accuracyof LDA: 0.824\n",
      "Accuracyof KNN: 0.826\n",
      "Accuracyof NB: 0.821\n",
      "Accuracyof GPC: 0.821\n",
      "Accuracyof SVM: 0.821\n",
      "Execution time :  0:00:02.186689\n"
     ]
    }
   ],
   "source": [
    "init_time = datetime.now()\n",
    "print (f\"Job Started at: {init_time}\")\n",
    "# feature selection\n",
    "X_fs, X_fs, fs = select_Anova_features(X_new, y_new, X_new, anova_best_features)\n",
    "models = get_models()\n",
    "for name, model in models:\n",
    "    pipeline = Pipeline(steps=[('power', PowerTransformer()), \n",
    "                               ('scaler', RobustScaler()), \n",
    "                               ('m', model)])\n",
    "    scores = evaluate_model(pipeline, X_fs, y)\n",
    "    print(f\"Accuracyof {name}: {np.mean(scores):.3f}\")\n",
    "\n",
    "fin_time = datetime.now()\n",
    "print(\"Execution time : \", (fin_time-init_time))"
   ]
  },
  {
   "cell_type": "markdown",
   "metadata": {
    "heading_collapsed": true,
    "hidden": true
   },
   "source": [
    "#### Mutual Information Feature Selection"
   ]
  },
  {
   "cell_type": "code",
   "execution_count": 59,
   "metadata": {
    "hidden": true
   },
   "outputs": [],
   "source": [
    "def select_Mutual_features(X_train, y_train, X_test, k):\n",
    "    # configure to select all features\n",
    "    fs = SelectKBest(score_func=mutual_info_classif, k=k)\n",
    "    # learn relationship from training data\n",
    "    fs.fit(X_train, y_train)\n",
    "    # transform train input data\n",
    "    X_train_fs = fs.transform(X_train)\n",
    "    # transform test input data\n",
    "    X_test_fs = fs.transform(X_test)\n",
    "    return X_train_fs, X_test_fs, fs"
   ]
  },
  {
   "cell_type": "code",
   "execution_count": 62,
   "metadata": {
    "hidden": true
   },
   "outputs": [
    {
     "name": "stdout",
     "output_type": "stream",
     "text": [
      "Job Started at: 2021-01-10 22:10:25.912739\n",
      "Accuracyof LR: 0.822\n",
      "Accuracyof LDA: 0.818\n",
      "Accuracyof KNN: 0.655\n",
      "Accuracyof NB: 0.819\n",
      "Accuracyof GPC: 0.644\n",
      "Accuracyof SVM: 0.590\n",
      "Execution time :  0:00:01.523574\n"
     ]
    }
   ],
   "source": [
    "init_time = datetime.now()\n",
    "print (f\"Job Started at: {init_time}\")\n",
    "\n",
    "# feature selection\n",
    "X_fs, X_fs, fs = select_Mutual_features(X_new, y_new, X_new, mutual_best_features)\n",
    "models = get_models()\n",
    "for name, model in models:\n",
    "    pipeline = Pipeline(steps=[('m', model)])\n",
    "    scores = evaluate_model(pipeline, X_fs, y)\n",
    "    print(f\"Accuracyof {name}: {np.mean(scores):.3f}\")\n",
    "\n",
    "fin_time = datetime.now()\n",
    "print(\"Execution time : \", (fin_time-init_time))"
   ]
  },
  {
   "cell_type": "code",
   "execution_count": 63,
   "metadata": {
    "hidden": true
   },
   "outputs": [
    {
     "name": "stdout",
     "output_type": "stream",
     "text": [
      "Job Started at: 2021-01-10 22:10:37.141082\n",
      "Accuracyof LR: 0.838\n",
      "Accuracyof LDA: 0.836\n",
      "Accuracyof KNN: 0.822\n",
      "Accuracyof NB: 0.838\n",
      "Accuracyof GPC: 0.833\n",
      "Accuracyof SVM: 0.846\n",
      "Execution time :  0:00:02.978918\n"
     ]
    }
   ],
   "source": [
    "init_time = datetime.now()\n",
    "print (f\"Job Started at: {init_time}\")\n",
    "\n",
    "# feature selection\n",
    "X_fs, X_fs, fs = select_Mutual_features(X_new, y_new, X_new, mutual_best_features)\n",
    "models = get_models()\n",
    "for name, model in models:\n",
    "    pipeline = Pipeline(steps=[('power', PowerTransformer()), \n",
    "                               ('scaler', RobustScaler()), \n",
    "                               ('m', model)])\n",
    "    scores = evaluate_model(pipeline, X_fs, y)\n",
    "    print(f\"Accuracyof {name}: {np.mean(scores):.3f}\")\n",
    "\n",
    "fin_time = datetime.now()\n",
    "print(\"Execution time : \", (fin_time-init_time))"
   ]
  },
  {
   "cell_type": "markdown",
   "metadata": {
    "heading_collapsed": true,
    "hidden": true
   },
   "source": [
    "#### RFE"
   ]
  },
  {
   "cell_type": "code",
   "execution_count": 64,
   "metadata": {
    "hidden": true
   },
   "outputs": [
    {
     "name": "stdout",
     "output_type": "stream",
     "text": [
      "Accuracyof LR: 0.833\n",
      "Accuracyof LDA: 0.827\n",
      "Accuracyof KNN: 0.827\n",
      "Accuracyof NB: 0.822\n",
      "Accuracyof GPC: 0.822\n",
      "Accuracyof SVM: 0.835\n",
      "Execution time :  0:17:59.560433\n"
     ]
    }
   ],
   "source": [
    "init_time = datetime.now()\n",
    "models = get_models()\n",
    "for name, model in models:\n",
    "    pipeline = Pipeline(steps=[('power', PowerTransformer()), \n",
    "                               ('scaler', RobustScaler()), \n",
    "                               ('rfe', RFECV(estimator=RandomForestClassifier())),\n",
    "                               ('m', model)])\n",
    "    scores = evaluate_model(pipeline, X_new, y_new)\n",
    "    print(f\"Accuracyof {name}: {np.mean(scores):.3f}\")\n",
    "fin_time = datetime.now()\n",
    "print(\"Execution time : \", (fin_time-init_time))"
   ]
  },
  {
   "cell_type": "markdown",
   "metadata": {
    "heading_collapsed": true,
    "hidden": true
   },
   "source": [
    "### Feature Selection with Dimensionality Reduction"
   ]
  },
  {
   "cell_type": "markdown",
   "metadata": {
    "heading_collapsed": true,
    "hidden": true
   },
   "source": [
    "#### PCA + RFE"
   ]
  },
  {
   "cell_type": "code",
   "execution_count": 65,
   "metadata": {
    "hidden": true
   },
   "outputs": [
    {
     "name": "stdout",
     "output_type": "stream",
     "text": [
      "Accuracyof LR: 0.833\n",
      "Accuracyof LDA: 0.833\n",
      "Accuracyof KNN: 0.811\n",
      "Accuracyof NB: 0.822\n",
      "Accuracyof GPC: 0.825\n",
      "Accuracyof SVM: 0.836\n",
      "Execution time :  0:09:56.223389\n"
     ]
    }
   ],
   "source": [
    "init_time = datetime.now()\n",
    "models = get_models()\n",
    "for name, model in models:\n",
    "    pipeline = Pipeline(steps=[('power', PowerTransformer()), \n",
    "                               ('scaler', RobustScaler()),\n",
    "                               ('pca', PCA(n_components=pca_n_components)),\n",
    "                               ('rfe', RFECV(estimator=RandomForestClassifier())),\n",
    "                               ('m', model)])\n",
    "    scores = evaluate_model(pipeline, X_new, y_new)\n",
    "    print(f\"Accuracyof {name}: {np.mean(scores):.3f}\")\n",
    "fin_time = datetime.now()\n",
    "print(\"Execution time : \", (fin_time-init_time))"
   ]
  },
  {
   "cell_type": "markdown",
   "metadata": {
    "heading_collapsed": true,
    "hidden": true
   },
   "source": [
    "#### PCA + ANOVA"
   ]
  },
  {
   "cell_type": "code",
   "execution_count": 66,
   "metadata": {
    "hidden": true
   },
   "outputs": [
    {
     "name": "stdout",
     "output_type": "stream",
     "text": [
      "Job Started at: 2021-01-10 23:00:56.859362\n",
      "Accuracyof LR: 0.838\n",
      "Accuracyof LDA: 0.837\n",
      "Accuracyof KNN: 0.811\n",
      "Accuracyof NB: 0.817\n",
      "Accuracyof GPC: 0.822\n",
      "Accuracyof SVM: 0.823\n",
      "Execution time :  0:00:01.707521\n"
     ]
    }
   ],
   "source": [
    "init_time = datetime.now()\n",
    "print (f\"Job Started at: {init_time}\")\n",
    "# feature selection\n",
    "X_fs, X_fs, fs = select_Anova_features(X_new, y_new, X_new, anova_best_features)\n",
    "\n",
    "for name, model in models:\n",
    "    pipeline = Pipeline(steps=[('power', PowerTransformer()), \n",
    "                               ('scaler', RobustScaler()), \n",
    "                               ('pca', PCA(n_components=pca_n_components)),\n",
    "                               ('m', model)])\n",
    "    scores = evaluate_model(pipeline, X_fs, y)\n",
    "    print(f\"Accuracyof {name}: {np.mean(scores):.3f}\")\n",
    "\n",
    "fin_time = datetime.now()\n",
    "print(\"Execution time : \", (fin_time-init_time))"
   ]
  },
  {
   "cell_type": "markdown",
   "metadata": {
    "heading_collapsed": true,
    "hidden": true
   },
   "source": [
    "#### PCA + Mutual Information Feature Selection"
   ]
  },
  {
   "cell_type": "code",
   "execution_count": 67,
   "metadata": {
    "hidden": true
   },
   "outputs": [
    {
     "name": "stdout",
     "output_type": "stream",
     "text": [
      "Job Started at: 2021-01-10 23:01:07.183202\n",
      "Accuracyof LR: 0.815\n",
      "Accuracyof LDA: 0.824\n",
      "Accuracyof KNN: 0.816\n",
      "Accuracyof NB: 0.792\n",
      "Accuracyof GPC: 0.817\n",
      "Accuracyof SVM: 0.827\n",
      "Execution time :  0:00:01.980983\n"
     ]
    }
   ],
   "source": [
    "init_time = datetime.now()\n",
    "print (f\"Job Started at: {init_time}\")\n",
    "\n",
    "# feature selection\n",
    "X_fs, X_fs, fs = select_Mutual_features(X_new, y_new, X_new, mutual_best_features)\n",
    "\n",
    "for name, model in models:\n",
    "    pipeline = Pipeline(steps=[('power', PowerTransformer()), \n",
    "                               ('scaler', RobustScaler()), \n",
    "                               ('pca', PCA(n_components=pca_n_components)),\n",
    "                               ('m', model)])\n",
    "    scores = evaluate_model(pipeline, X_fs, y)\n",
    "    print(f\"Accuracyof {name}: {np.mean(scores):.3f}\")\n",
    "\n",
    "fin_time = datetime.now()\n",
    "print(\"Execution time : \", (fin_time-init_time))"
   ]
  },
  {
   "cell_type": "code",
   "execution_count": null,
   "metadata": {
    "hidden": true
   },
   "outputs": [],
   "source": []
  },
  {
   "cell_type": "code",
   "execution_count": null,
   "metadata": {
    "hidden": true
   },
   "outputs": [],
   "source": []
  },
  {
   "cell_type": "markdown",
   "metadata": {
    "heading_collapsed": true
   },
   "source": [
    "## Ensemble Model Generation Function"
   ]
  },
  {
   "cell_type": "code",
   "execution_count": 70,
   "metadata": {
    "hidden": true
   },
   "outputs": [
    {
     "name": "stdout",
     "output_type": "stream",
     "text": [
      "Accuracyof CART: 0.730\n",
      "Accuracyof SGD: 0.797\n",
      "Accuracyof AD: 0.794\n",
      "Accuracyof ET: 0.818\n",
      "Accuracyof RF: 0.807\n",
      "Accuracyof GBM: 0.762\n",
      "Accuracyof XGB: 0.778\n",
      "Accuracyof LGB: 0.802\n",
      "Accuracyof cat: 0.813\n",
      "Execution time :  0:01:26.903131\n"
     ]
    }
   ],
   "source": [
    "init_time = datetime.now()\n",
    "models = get_ensemble_models()\n",
    "for name, model in models:\n",
    "    pipeline = Pipeline(steps=[('power', PowerTransformer()), \n",
    "                               ('scaler', RobustScaler()),\n",
    "                               ('m', model)])\n",
    "    scores = evaluate_model(pipeline, X_new, y_new)\n",
    "    print(f\"Accuracyof {name}: {np.mean(scores):.3f}\")\n",
    "fin_time = datetime.now()\n",
    "print(\"Execution time : \", (fin_time-init_time))"
   ]
  },
  {
   "cell_type": "markdown",
   "metadata": {
    "heading_collapsed": true,
    "hidden": true
   },
   "source": [
    "### Find Best Component"
   ]
  },
  {
   "cell_type": "markdown",
   "metadata": {
    "heading_collapsed": true,
    "hidden": true
   },
   "source": [
    "#### Find Best PCA Component"
   ]
  },
  {
   "cell_type": "code",
   "execution_count": 71,
   "metadata": {
    "hidden": true
   },
   "outputs": [],
   "source": [
    "estimators = []\n",
    "estimators.append(('power', PowerTransformer()))\n",
    "estimators.append(('scaler', RobustScaler()))\n",
    "estimators.append(('pca', PCA()))\n",
    "estimators.append(('rfc', RandomForestClassifier(n_estimators=1000)))\n",
    "pipeline = Pipeline(estimators)"
   ]
  },
  {
   "cell_type": "code",
   "execution_count": 72,
   "metadata": {
    "hidden": true
   },
   "outputs": [],
   "source": [
    "# define the grid\n",
    "grid_param = dict()\n",
    "grid_param['pca__n_components'] = [i+1 for i in range(X.shape[1])]"
   ]
  },
  {
   "cell_type": "code",
   "execution_count": 74,
   "metadata": {
    "hidden": true
   },
   "outputs": [
    {
     "name": "stdout",
     "output_type": "stream",
     "text": [
      "Job Started at: 2021-01-10 23:06:17.721010\n"
     ]
    },
    {
     "name": "stderr",
     "output_type": "stream",
     "text": [
      "/home/mhossain/anaconda3/lib/python3.8/site-packages/sklearn/preprocessing/_data.py:2995: RuntimeWarning: divide by zero encountered in log\n",
      "  loglike = -n_samples / 2 * np.log(x_trans.var())\n"
     ]
    },
    {
     "name": "stdout",
     "output_type": "stream",
     "text": [
      "Best Mean Accuracy: 0.823\n",
      "Best Config: {'pca__n_components': 12}\n",
      "Execution time :  0:04:51.631379\n"
     ]
    }
   ],
   "source": [
    "init_time = datetime.now()\n",
    "print (f\"Job Started at: {init_time}\")\n",
    "kfold = RepeatedStratifiedKFold(n_splits=10, n_repeats=3, random_state=1)\n",
    "# RandomizedSearchCV/GridSearchCV\n",
    "grid_search = GridSearchCV(pipeline,\n",
    "                        grid_param,\n",
    "                        cv = kfold,\n",
    "                        n_jobs = -1,\n",
    "                        verbose=False)\n",
    "grid_search.fit(X_new, y_new)\n",
    "# summarize best\n",
    "print('Best Mean Accuracy: %.3f' % grid_search.best_score_)\n",
    "print('Best Config: %s' % grid_search.best_params_)\n",
    "fin_time = datetime.now()\n",
    "print(\"Execution time : \", (fin_time-init_time))"
   ]
  },
  {
   "cell_type": "code",
   "execution_count": 75,
   "metadata": {
    "hidden": true
   },
   "outputs": [
    {
     "data": {
      "text/plain": [
       "12"
      ]
     },
     "execution_count": 75,
     "metadata": {},
     "output_type": "execute_result"
    }
   ],
   "source": [
    "pca_n_components = grid_search.best_params_['pca__n_components']\n",
    "pca_n_components "
   ]
  },
  {
   "cell_type": "markdown",
   "metadata": {
    "heading_collapsed": true,
    "hidden": true
   },
   "source": [
    "#### ANOVA F-test Feature Selection"
   ]
  },
  {
   "cell_type": "code",
   "execution_count": 79,
   "metadata": {
    "hidden": true
   },
   "outputs": [
    {
     "name": "stdout",
     "output_type": "stream",
     "text": [
      "Job Started at: 2021-01-10 23:49:11.588075\n"
     ]
    },
    {
     "name": "stderr",
     "output_type": "stream",
     "text": [
      "/home/mhossain/anaconda3/lib/python3.8/site-packages/sklearn/preprocessing/_data.py:2995: RuntimeWarning: divide by zero encountered in log\n",
      "  loglike = -n_samples / 2 * np.log(x_trans.var())\n",
      "/home/mhossain/anaconda3/lib/python3.8/site-packages/sklearn/feature_selection/_univariate_selection.py:114: UserWarning: Features [1 2] are constant.\n",
      "  warnings.warn(\"Features %s are constant.\" % constant_features_idx,\n",
      "/home/mhossain/anaconda3/lib/python3.8/site-packages/sklearn/feature_selection/_univariate_selection.py:116: RuntimeWarning: invalid value encountered in true_divide\n",
      "  f = msb / msw\n"
     ]
    },
    {
     "name": "stdout",
     "output_type": "stream",
     "text": [
      "Best Mean Accuracy: 0.814\n",
      "Best Config: {'anova__k': 11}\n",
      "Execution time :  0:05:50.250095\n"
     ]
    }
   ],
   "source": [
    "init_time = datetime.now()\n",
    "print (f\"Job Started at: {init_time}\")\n",
    "# define the evaluation method\n",
    "cv = RepeatedStratifiedKFold(n_splits=10, n_repeats=3, random_state=1)\n",
    "# define the pipeline to evaluate\n",
    "fs = SelectKBest(score_func=f_classif)\n",
    "pipeline = Pipeline(steps=[('power', PowerTransformer()),\n",
    "                           ('scaler', RobustScaler()),\n",
    "                           ('anova', fs), \n",
    "                           ('rfc', RandomForestClassifier(n_estimators=1000))])\n",
    "# define the grid\n",
    "grid = dict()\n",
    "grid['anova__k'] = [i+1 for i in range(X.shape[1])]\n",
    "# define the grid search\n",
    "# RandomizedSearchCV/GridSearchCV\n",
    "search = GridSearchCV(pipeline, grid, scoring='accuracy', n_jobs=-1, cv=cv)\n",
    "# perform the search\n",
    "results = search.fit(X_new, y_new)\n",
    "# summarize best\n",
    "print('Best Mean Accuracy: %.3f' % results.best_score_)\n",
    "print('Best Config: %s' % results.best_params_)\n",
    "fin_time = datetime.now()\n",
    "print(\"Execution time : \", (fin_time-init_time))"
   ]
  },
  {
   "cell_type": "code",
   "execution_count": 80,
   "metadata": {
    "hidden": true
   },
   "outputs": [
    {
     "data": {
      "text/plain": [
       "11"
      ]
     },
     "execution_count": 80,
     "metadata": {},
     "output_type": "execute_result"
    }
   ],
   "source": [
    "anova_best_features = results.best_params_['anova__k']\n",
    "anova_best_features"
   ]
  },
  {
   "cell_type": "markdown",
   "metadata": {
    "heading_collapsed": true,
    "hidden": true
   },
   "source": [
    "#### Mutual Information Feature Selection"
   ]
  },
  {
   "cell_type": "code",
   "execution_count": 81,
   "metadata": {
    "hidden": true
   },
   "outputs": [
    {
     "name": "stdout",
     "output_type": "stream",
     "text": [
      "Job Started at: 2021-01-10 23:55:16.323808\n"
     ]
    },
    {
     "name": "stderr",
     "output_type": "stream",
     "text": [
      "/home/mhossain/anaconda3/lib/python3.8/site-packages/sklearn/preprocessing/_data.py:2995: RuntimeWarning: divide by zero encountered in log\n",
      "  loglike = -n_samples / 2 * np.log(x_trans.var())\n"
     ]
    },
    {
     "name": "stdout",
     "output_type": "stream",
     "text": [
      "Best Mean Accuracy: 0.809\n",
      "Best Config: {'mutual__k': 11}\n",
      "Execution time :  0:05:56.202495\n"
     ]
    }
   ],
   "source": [
    "init_time = datetime.now()\n",
    "print (f\"Job Started at: {init_time}\")\n",
    "# define the evaluation method\n",
    "cv = RepeatedStratifiedKFold(n_splits=10, n_repeats=3, random_state=1)\n",
    "# define the pipeline to evaluate\n",
    "fs = SelectKBest(score_func=mutual_info_classif)\n",
    "pipeline = Pipeline(steps=[('power', PowerTransformer()),\n",
    "                           ('scaler', RobustScaler()),\n",
    "                           ('mutual', fs), \n",
    "                           ('rfc', RandomForestClassifier(n_estimators=1000))])\n",
    "# define the grid\n",
    "grid = dict()\n",
    "grid['mutual__k'] = [i+1 for i in range(X.shape[1])]\n",
    "# define the grid search\n",
    "# RandomizedSearchCV/GridSearchCV\n",
    "search = GridSearchCV(pipeline, grid, scoring='accuracy', n_jobs=-1, cv=cv)\n",
    "# perform the search\n",
    "results = search.fit(X_new, y_new)\n",
    "# summarize best\n",
    "print('Best Mean Accuracy: %.3f' % results.best_score_)\n",
    "print('Best Config: %s' % results.best_params_)\n",
    "fin_time = datetime.now()\n",
    "print(\"Execution time : \", (fin_time-init_time))"
   ]
  },
  {
   "cell_type": "code",
   "execution_count": 82,
   "metadata": {
    "hidden": true
   },
   "outputs": [
    {
     "data": {
      "text/plain": [
       "11"
      ]
     },
     "execution_count": 82,
     "metadata": {},
     "output_type": "execute_result"
    }
   ],
   "source": [
    "mutual_best_features = results.best_params_['mutual__k']\n",
    "mutual_best_features"
   ]
  },
  {
   "cell_type": "markdown",
   "metadata": {
    "heading_collapsed": true,
    "hidden": true
   },
   "source": [
    "### Dimensionality Reduction"
   ]
  },
  {
   "cell_type": "markdown",
   "metadata": {
    "heading_collapsed": true,
    "hidden": true
   },
   "source": [
    "#### PCA "
   ]
  },
  {
   "cell_type": "code",
   "execution_count": 76,
   "metadata": {
    "hidden": true
   },
   "outputs": [
    {
     "name": "stdout",
     "output_type": "stream",
     "text": [
      "Accuracyof CART: 0.734\n",
      "Accuracyof SGD: 0.804\n",
      "Accuracyof AD: 0.781\n",
      "Accuracyof ET: 0.814\n",
      "Accuracyof RF: 0.814\n",
      "Accuracyof GBM: 0.802\n",
      "Accuracyof XGB: 0.809\n",
      "Accuracyof LGB: 0.808\n",
      "Accuracyof cat: 0.813\n",
      "Execution time :  0:02:05.327830\n"
     ]
    }
   ],
   "source": [
    "init_time = datetime.now()\n",
    "models = get_ensemble_models()\n",
    "for name, model in models:\n",
    "    pipeline = Pipeline(steps=[('power', PowerTransformer()), \n",
    "                               ('scaler', RobustScaler()),\n",
    "                               ('pca', PCA(n_components=pca_n_components)),\n",
    "                               ('m', model)])\n",
    "    scores = evaluate_model(pipeline, X_new, y_new)\n",
    "    print(f\"Accuracyof {name}: {np.mean(scores):.3f}\")\n",
    "fin_time = datetime.now()\n",
    "print(\"Execution time : \", (fin_time-init_time))"
   ]
  },
  {
   "cell_type": "markdown",
   "metadata": {
    "heading_collapsed": true,
    "hidden": true
   },
   "source": [
    "#### SVD"
   ]
  },
  {
   "cell_type": "code",
   "execution_count": 77,
   "metadata": {
    "hidden": true
   },
   "outputs": [
    {
     "name": "stdout",
     "output_type": "stream",
     "text": [
      "Accuracyof CART: 0.759\n",
      "Accuracyof SGD: 0.785\n",
      "Accuracyof AD: 0.796\n",
      "Accuracyof ET: 0.813\n",
      "Accuracyof RF: 0.815\n",
      "Accuracyof GBM: 0.806\n",
      "Accuracyof XGB: 0.798\n",
      "Accuracyof LGB: 0.801\n",
      "Accuracyof cat: 0.809\n",
      "Execution time :  0:02:09.777133\n"
     ]
    }
   ],
   "source": [
    "init_time = datetime.now()\n",
    "models = get_ensemble_models()\n",
    "for name, model in models:\n",
    "    pipeline = Pipeline(steps=[('power', PowerTransformer()), \n",
    "                               ('scaler', RobustScaler()),\n",
    "                               ('svd', TruncatedSVD(n_components=pca_n_components)),\n",
    "                               ('m', model)])\n",
    "    scores = evaluate_model(pipeline, X_new, y_new)\n",
    "    print(f\"Accuracyof {name}: {np.mean(scores):.3f}\")\n",
    "fin_time = datetime.now()\n",
    "print(\"Execution time : \", (fin_time-init_time))"
   ]
  },
  {
   "cell_type": "markdown",
   "metadata": {
    "heading_collapsed": true,
    "hidden": true
   },
   "source": [
    "### Feature Selection"
   ]
  },
  {
   "cell_type": "markdown",
   "metadata": {
    "heading_collapsed": true,
    "hidden": true
   },
   "source": [
    "#### ANOVA Feature Selection"
   ]
  },
  {
   "cell_type": "code",
   "execution_count": 83,
   "metadata": {
    "hidden": true
   },
   "outputs": [
    {
     "name": "stdout",
     "output_type": "stream",
     "text": [
      "Job Started at: 2021-01-11 00:01:12.563162\n",
      "Accuracyof CART: 0.709\n",
      "Accuracyof SGD: 0.674\n",
      "Accuracyof AD: 0.786\n",
      "Accuracyof ET: 0.795\n",
      "Accuracyof RF: 0.813\n",
      "Accuracyof GBM: 0.736\n",
      "Accuracyof XGB: 0.780\n",
      "Accuracyof LGB: 0.790\n",
      "Accuracyof cat: 0.823\n",
      "Execution time :  0:03:01.027734\n"
     ]
    }
   ],
   "source": [
    "init_time = datetime.now()\n",
    "print (f\"Job Started at: {init_time}\")\n",
    "# feature selection\n",
    "X_fs, X_fs, fs = select_Anova_features(X_new, y_new, X_new, anova_best_features)\n",
    "models = get_ensemble_models()\n",
    "for name, model in models:\n",
    "    pipeline = Pipeline(steps=[('m', model)])\n",
    "    scores = evaluate_model(pipeline, X_fs, y)\n",
    "    print(f\"Accuracyof {name}: {np.mean(scores):.3f}\")\n",
    "\n",
    "fin_time = datetime.now()\n",
    "print(\"Execution time : \", (fin_time-init_time))"
   ]
  },
  {
   "cell_type": "code",
   "execution_count": 84,
   "metadata": {
    "hidden": true
   },
   "outputs": [
    {
     "name": "stdout",
     "output_type": "stream",
     "text": [
      "Job Started at: 2021-01-11 00:04:13.621346\n",
      "Accuracyof CART: 0.708\n",
      "Accuracyof SGD: 0.789\n",
      "Accuracyof AD: 0.786\n",
      "Accuracyof ET: 0.807\n",
      "Accuracyof RF: 0.810\n",
      "Accuracyof GBM: 0.736\n",
      "Accuracyof XGB: 0.781\n",
      "Accuracyof LGB: 0.792\n",
      "Accuracyof cat: 0.823\n",
      "Execution time :  0:02:29.080018\n"
     ]
    }
   ],
   "source": [
    "init_time = datetime.now()\n",
    "print (f\"Job Started at: {init_time}\")\n",
    "# feature selection\n",
    "X_fs, X_fs, fs = select_Anova_features(X_new, y_new, X_new, anova_best_features)\n",
    "models = get_ensemble_models()\n",
    "for name, model in models:\n",
    "    pipeline = Pipeline(steps=[('power', PowerTransformer()), \n",
    "                               ('scaler', RobustScaler()), \n",
    "                               ('m', model)])\n",
    "    scores = evaluate_model(pipeline, X_fs, y)\n",
    "    print(f\"Accuracyof {name}: {np.mean(scores):.3f}\")\n",
    "\n",
    "fin_time = datetime.now()\n",
    "print(\"Execution time : \", (fin_time-init_time))"
   ]
  },
  {
   "cell_type": "markdown",
   "metadata": {
    "heading_collapsed": true,
    "hidden": true
   },
   "source": [
    "#### Mutual Information Feature Selection"
   ]
  },
  {
   "cell_type": "code",
   "execution_count": 90,
   "metadata": {
    "hidden": true
   },
   "outputs": [
    {
     "name": "stdout",
     "output_type": "stream",
     "text": [
      "Job Started at: 2021-01-11 03:47:57.605955\n",
      "Accuracyof CART: 0.723\n",
      "Accuracyof SGD: 0.598\n",
      "Accuracyof AD: 0.781\n",
      "Accuracyof ET: 0.804\n",
      "Accuracyof RF: 0.804\n",
      "Accuracyof GBM: 0.769\n",
      "Accuracyof XGB: 0.781\n",
      "Accuracyof LGB: 0.790\n",
      "Accuracyof cat: 0.814\n",
      "Execution time :  0:02:21.716284\n"
     ]
    }
   ],
   "source": [
    "init_time = datetime.now()\n",
    "print (f\"Job Started at: {init_time}\")\n",
    "\n",
    "# feature selection\n",
    "X_fs, X_fs, fs = select_Mutual_features(X_new, y_new, X_new, mutual_best_features)\n",
    "models = get_ensemble_models()\n",
    "for name, model in models:\n",
    "    pipeline = Pipeline(steps=[('m', model)])\n",
    "    scores = evaluate_model(pipeline, X_fs, y)\n",
    "    print(f\"Accuracyof {name}: {np.mean(scores):.3f}\")\n",
    "\n",
    "fin_time = datetime.now()\n",
    "print(\"Execution time : \", (fin_time-init_time))"
   ]
  },
  {
   "cell_type": "code",
   "execution_count": 91,
   "metadata": {
    "hidden": true
   },
   "outputs": [
    {
     "name": "stdout",
     "output_type": "stream",
     "text": [
      "Job Started at: 2021-01-11 03:50:19.471056\n",
      "Accuracyof CART: 0.713\n",
      "Accuracyof SGD: 0.793\n",
      "Accuracyof AD: 0.790\n",
      "Accuracyof ET: 0.810\n",
      "Accuracyof RF: 0.819\n",
      "Accuracyof GBM: 0.767\n",
      "Accuracyof XGB: 0.769\n",
      "Accuracyof LGB: 0.788\n",
      "Accuracyof cat: 0.810\n",
      "Execution time :  0:03:56.280753\n"
     ]
    }
   ],
   "source": [
    "init_time = datetime.now()\n",
    "print (f\"Job Started at: {init_time}\")\n",
    "\n",
    "# feature selection\n",
    "X_fs, X_fs, fs = select_Mutual_features(X_new, y_new, X_new, mutual_best_features)\n",
    "models = get_ensemble_models()\n",
    "for name, model in models:\n",
    "    pipeline = Pipeline(steps=[('power', PowerTransformer()), \n",
    "                               ('scaler', RobustScaler()), \n",
    "                               ('m', model)])\n",
    "    scores = evaluate_model(pipeline, X_fs, y)\n",
    "    print(f\"Accuracyof {name}: {np.mean(scores):.3f}\")\n",
    "\n",
    "fin_time = datetime.now()\n",
    "print(\"Execution time : \", (fin_time-init_time))"
   ]
  },
  {
   "cell_type": "markdown",
   "metadata": {
    "heading_collapsed": true,
    "hidden": true
   },
   "source": [
    "#### RFE"
   ]
  },
  {
   "cell_type": "code",
   "execution_count": 87,
   "metadata": {
    "hidden": true
   },
   "outputs": [
    {
     "name": "stdout",
     "output_type": "stream",
     "text": [
      "Accuracyof CART: 0.722\n",
      "Accuracyof SGD: 0.774\n",
      "Accuracyof AD: 0.788\n",
      "Accuracyof ET: 0.811\n",
      "Accuracyof RF: 0.807\n",
      "Accuracyof GBM: 0.760\n",
      "Accuracyof XGB: 0.768\n",
      "Accuracyof LGB: 0.794\n",
      "Accuracyof cat: 0.811\n",
      "Execution time :  0:37:12.406061\n"
     ]
    }
   ],
   "source": [
    "init_time = datetime.now()\n",
    "models = get_ensemble_models()\n",
    "for name, model in models:\n",
    "    pipeline = Pipeline(steps=[('power', PowerTransformer()), \n",
    "                               ('scaler', RobustScaler()), \n",
    "                               ('rfe', RFECV(estimator=RandomForestClassifier())),\n",
    "                               ('m', model)])\n",
    "    scores = evaluate_model(pipeline, X_new, y_new)\n",
    "    print(f\"Accuracyof {name}: {np.mean(scores):.3f}\")\n",
    "fin_time = datetime.now()\n",
    "print(\"Execution time : \", (fin_time-init_time))"
   ]
  },
  {
   "cell_type": "markdown",
   "metadata": {
    "heading_collapsed": true,
    "hidden": true
   },
   "source": [
    "### Feature Selection with Dimensionality Reduction"
   ]
  },
  {
   "cell_type": "markdown",
   "metadata": {
    "heading_collapsed": true,
    "hidden": true
   },
   "source": [
    "#### PCA + RFE"
   ]
  },
  {
   "cell_type": "code",
   "execution_count": 88,
   "metadata": {
    "hidden": true
   },
   "outputs": [
    {
     "name": "stdout",
     "output_type": "stream",
     "text": [
      "Accuracyof CART: 0.735\n",
      "Accuracyof SGD: 0.785\n",
      "Accuracyof AD: 0.777\n",
      "Accuracyof ET: 0.816\n",
      "Accuracyof RF: 0.807\n",
      "Accuracyof GBM: 0.789\n",
      "Accuracyof XGB: 0.798\n",
      "Accuracyof LGB: 0.804\n",
      "Accuracyof cat: 0.812\n",
      "Execution time :  0:37:24.134185\n"
     ]
    }
   ],
   "source": [
    "init_time = datetime.now()\n",
    "models = get_ensemble_models()\n",
    "for name, model in models:\n",
    "    pipeline = Pipeline(steps=[('power', PowerTransformer()), \n",
    "                               ('scaler', RobustScaler()), \n",
    "                               ('pca', PCA(n_components=pca_n_components)),\n",
    "                               ('rfe', RFECV(estimator=RandomForestClassifier())),\n",
    "                               ('m', model)])\n",
    "    scores = evaluate_model(pipeline, X_new, y_new)\n",
    "    print(f\"Accuracyof {name}: {np.mean(scores):.3f}\")\n",
    "fin_time = datetime.now()\n",
    "print(\"Execution time : \", (fin_time-init_time))"
   ]
  },
  {
   "cell_type": "markdown",
   "metadata": {
    "heading_collapsed": true,
    "hidden": true
   },
   "source": [
    "#### PCA + ANOVA"
   ]
  },
  {
   "cell_type": "code",
   "execution_count": 93,
   "metadata": {
    "hidden": true
   },
   "outputs": [
    {
     "data": {
      "text/plain": [
       "11"
      ]
     },
     "execution_count": 93,
     "metadata": {},
     "output_type": "execute_result"
    }
   ],
   "source": [
    "anova_best_features"
   ]
  },
  {
   "cell_type": "code",
   "execution_count": 94,
   "metadata": {
    "hidden": true
   },
   "outputs": [
    {
     "name": "stdout",
     "output_type": "stream",
     "text": [
      "Job Started at: 2021-01-11 08:41:10.968655\n",
      "Accuracyof CART: nan\n",
      "Accuracyof SGD: nan\n",
      "Accuracyof AD: nan\n",
      "Accuracyof ET: nan\n",
      "Accuracyof RF: nan\n",
      "Accuracyof GBM: nan\n",
      "Accuracyof XGB: nan\n",
      "Accuracyof LGB: nan\n",
      "Accuracyof cat: nan\n",
      "Execution time :  0:00:18.347565\n"
     ]
    }
   ],
   "source": [
    "init_time = datetime.now()\n",
    "print (f\"Job Started at: {init_time}\")\n",
    "# feature selection\n",
    "X_fs, X_fs, fs = select_Anova_features(X_new, y_new, X_new, anova_best_features)\n",
    "models = get_ensemble_models()\n",
    "for name, model in models:\n",
    "    pipeline = Pipeline(steps=[('power', PowerTransformer()), \n",
    "                               ('scaler', RobustScaler()), \n",
    "                               ('pca', PCA(n_components=pca_n_components)),\n",
    "                               ('m', model)])\n",
    "    scores = evaluate_model(pipeline, X_fs, y)\n",
    "    print(f\"Accuracyof {name}: {np.mean(scores):.3f}\")\n",
    "\n",
    "fin_time = datetime.now()\n",
    "print(\"Execution time : \", (fin_time-init_time))"
   ]
  },
  {
   "cell_type": "markdown",
   "metadata": {
    "heading_collapsed": true,
    "hidden": true
   },
   "source": [
    "#### PCA + Mutual Information Feature Selection"
   ]
  },
  {
   "cell_type": "code",
   "execution_count": 92,
   "metadata": {
    "hidden": true
   },
   "outputs": [
    {
     "name": "stdout",
     "output_type": "stream",
     "text": [
      "Job Started at: 2021-01-11 03:54:15.772560\n",
      "Accuracyof CART: nan\n",
      "Accuracyof SGD: nan\n",
      "Accuracyof AD: nan\n",
      "Accuracyof ET: nan\n",
      "Accuracyof RF: nan\n",
      "Accuracyof GBM: nan\n",
      "Accuracyof XGB: nan\n",
      "Accuracyof LGB: nan\n",
      "Accuracyof cat: nan\n",
      "Execution time :  0:00:06.266074\n"
     ]
    }
   ],
   "source": [
    "init_time = datetime.now()\n",
    "print (f\"Job Started at: {init_time}\")\n",
    "\n",
    "# feature selection\n",
    "X_fs, X_fs, fs = select_Mutual_features(X_new, y_new, X_new, mutual_best_features)\n",
    "models = get_ensemble_models()\n",
    "for name, model in models:\n",
    "    pipeline = Pipeline(steps=[('power', PowerTransformer()), \n",
    "                               ('scaler', RobustScaler()), \n",
    "                               ('pca', PCA(n_components=pca_n_components)),\n",
    "                               ('m', model)])\n",
    "    scores = evaluate_model(pipeline, X_fs, y)\n",
    "    print(f\"Accuracyof {name}: {np.mean(scores):.3f}\")\n",
    "\n",
    "fin_time = datetime.now()\n",
    "print(\"Execution time : \", (fin_time-init_time))"
   ]
  },
  {
   "cell_type": "markdown",
   "metadata": {
    "heading_collapsed": true
   },
   "source": [
    "## Final Selected Algorithm"
   ]
  },
  {
   "cell_type": "code",
   "execution_count": 97,
   "metadata": {
    "hidden": true
   },
   "outputs": [
    {
     "data": {
      "text/plain": [
       "12"
      ]
     },
     "execution_count": 97,
     "metadata": {},
     "output_type": "execute_result"
    }
   ],
   "source": [
    "pca_n_components"
   ]
  },
  {
   "cell_type": "code",
   "execution_count": 96,
   "metadata": {
    "hidden": true
   },
   "outputs": [
    {
     "name": "stdout",
     "output_type": "stream",
     "text": [
      "              precision    recall  f1-score   support\n",
      "\n",
      "           0       0.90      0.85      0.88        33\n",
      "           1       0.83      0.89      0.86        28\n",
      "\n",
      "    accuracy                           0.87        61\n",
      "   macro avg       0.87      0.87      0.87        61\n",
      "weighted avg       0.87      0.87      0.87        61\n",
      "\n",
      "Execution time :  0:00:03.663354\n"
     ]
    }
   ],
   "source": [
    "init_time = datetime.now()\n",
    "model = SVC(gamma='auto')\n",
    "pipeline = Pipeline(steps=[('power', PowerTransformer()), \n",
    "                               ('scaler', RobustScaler()),\n",
    "                               ('pca', PCA(n_components=pca_n_components)),\n",
    "                               ('m', model)])\n",
    "pipeline.fit(X_train, y_train)\n",
    "results = pipeline.predict(X_test)\n",
    "print(classification_report(y_test, results))\n",
    "fin_time = datetime.now()\n",
    "print(\"Execution time : \", (fin_time-init_time))"
   ]
  },
  {
   "cell_type": "markdown",
   "metadata": {
    "hidden": true
   },
   "source": [
    "simply attemp to distinguish presence (values 1) from absence (value 0)"
   ]
  },
  {
   "cell_type": "code",
   "execution_count": 101,
   "metadata": {
    "hidden": true
   },
   "outputs": [
    {
     "data": {
      "image/png": "[encoded data removed]",
      "text/plain": [
       "<Figure size 432x288 with 2 Axes>"
      ]
     },
     "metadata": {
      "needs_background": "light"
     },
     "output_type": "display_data"
    }
   ],
   "source": [
    "plot_confusion_matrix(pipeline, X_test, y_test, values_format='d', display_labels=[\"Not Heart Disease\",\"Heart Disease\"]);"
   ]
  },
  {
   "cell_type": "code",
   "execution_count": null,
   "metadata": {
    "hidden": true
   },
   "outputs": [],
   "source": []
  }
 ],
 "metadata": {
  "kernelspec": {
   "display_name": "Python 3",
   "language": "python",
   "name": "python3"
  },
  "language_info": {
   "codemirror_mode": {
    "name": "ipython",
    "version": 3
   },
   "file_extension": ".py",
   "mimetype": "text/x-python",
   "name": "python",
   "nbconvert_exporter": "python",
   "pygments_lexer": "ipython3",
   "version": "3.8.3"
  }
 },
 "nbformat": 4,
 "nbformat_minor": 4
}
