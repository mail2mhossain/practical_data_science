{
 "cells": [
  {
   "cell_type": "code",
   "execution_count": 1,
   "metadata": {},
   "outputs": [
    {
     "data": {
      "text/html": [
       "\r\n",
       "<div>\r\n",
       "    <div id='dotnet-interactive-this-cell-18552.Microsoft.DotNet.Interactive.Http.HttpPort' style='display: none'>\r\n",
       "        The below script needs to be able to find the current output cell; this is an easy method to get it.\r\n",
       "    </div>\r\n",
       "    <script type='text/javascript'>\r\n",
       "async function probeAddresses(probingAddresses) {\r\n",
       "    function timeout(ms, promise) {\r\n",
       "        return new Promise(function (resolve, reject) {\r\n",
       "            setTimeout(function () {\r\n",
       "                reject(new Error('timeout'))\r\n",
       "            }, ms)\r\n",
       "            promise.then(resolve, reject)\r\n",
       "        })\r\n",
       "    }\r\n",
       "\r\n",
       "    if (Array.isArray(probingAddresses)) {\r\n",
       "        for (let i = 0; i < probingAddresses.length; i++) {\r\n",
       "\r\n",
       "            let rootUrl = probingAddresses[i];\r\n",
       "\r\n",
       "            if (!rootUrl.endsWith('/')) {\r\n",
       "                rootUrl = `${rootUrl}/`;\r\n",
       "            }\r\n",
       "\r\n",
       "            try {\r\n",
       "                let response = await timeout(1000, fetch(`${rootUrl}discovery`, {\r\n",
       "                    method: 'POST',\r\n",
       "                    cache: 'no-cache',\r\n",
       "                    mode: 'cors',\r\n",
       "                    timeout: 1000,\r\n",
       "                    headers: {\r\n",
       "                        'Content-Type': 'text/plain'\r\n",
       "                    },\r\n",
       "                    body: probingAddresses[i]\r\n",
       "                }));\r\n",
       "\r\n",
       "                if (response.status == 200) {\r\n",
       "                    return rootUrl;\r\n",
       "                }\r\n",
       "            }\r\n",
       "            catch (e) { }\r\n",
       "        }\r\n",
       "    }\r\n",
       "}\r\n",
       "\r\n",
       "function loadDotnetInteractiveApi() {\r\n",
       "    probeAddresses([\"http://192.168.56.1:1003/\", \"http://192.168.31.194:1003/\", \"http://127.0.0.1:1003/\"])\r\n",
       "        .then((root) => {\r\n",
       "        // use probing to find host url and api resources\r\n",
       "        // load interactive helpers and language services\r\n",
       "        let dotnetInteractiveRequire = require.config({\r\n",
       "        context: '18552.Microsoft.DotNet.Interactive.Http.HttpPort',\r\n",
       "                paths:\r\n",
       "            {\r\n",
       "                'dotnet-interactive': `${root}resources`\r\n",
       "                }\r\n",
       "        }) || require;\r\n",
       "\r\n",
       "            window.dotnetInteractiveRequire = dotnetInteractiveRequire;\r\n",
       "\r\n",
       "            window.configureRequireFromExtension = function(extensionName, extensionCacheBuster) {\r\n",
       "                let paths = {};\r\n",
       "                paths[extensionName] = `${root}extensions/${extensionName}/resources/`;\r\n",
       "                \r\n",
       "                let internalRequire = require.config({\r\n",
       "                    context: extensionCacheBuster,\r\n",
       "                    paths: paths,\r\n",
       "                    urlArgs: `cacheBuster=${extensionCacheBuster}`\r\n",
       "                    }) || require;\r\n",
       "\r\n",
       "                return internalRequire\r\n",
       "            };\r\n",
       "        \r\n",
       "            dotnetInteractiveRequire([\r\n",
       "                    'dotnet-interactive/dotnet-interactive'\r\n",
       "                ],\r\n",
       "                function (dotnet) {\r\n",
       "                    dotnet.init(window);\r\n",
       "                },\r\n",
       "                function (error) {\r\n",
       "                    console.log(error);\r\n",
       "                }\r\n",
       "            );\r\n",
       "        })\r\n",
       "        .catch(error => {console.log(error);});\r\n",
       "    }\r\n",
       "\r\n",
       "// ensure `require` is available globally\r\n",
       "if ((typeof(require) !==  typeof(Function)) || (typeof(require.config) !== typeof(Function))) {\r\n",
       "    let require_script = document.createElement('script');\r\n",
       "    require_script.setAttribute('src', 'https://cdnjs.cloudflare.com/ajax/libs/require.js/2.3.6/require.min.js');\r\n",
       "    require_script.setAttribute('type', 'text/javascript');\r\n",
       "    \r\n",
       "    \r\n",
       "    require_script.onload = function() {\r\n",
       "        loadDotnetInteractiveApi();\r\n",
       "    };\r\n",
       "\r\n",
       "    document.getElementsByTagName('head')[0].appendChild(require_script);\r\n",
       "}\r\n",
       "else {\r\n",
       "    loadDotnetInteractiveApi();\r\n",
       "}\r\n",
       "\r\n",
       "    </script>\r\n",
       "</div>"
      ]
     },
     "metadata": {},
     "output_type": "display_data"
    },
    {
     "data": {
      "text/plain": [
       "Installed package Microsoft.ML.AutoML version 0.17.2"
      ]
     },
     "metadata": {},
     "output_type": "display_data"
    },
    {
     "data": {
      "text/plain": [
       "Installed package Microsoft.ML version 1.5.0"
      ]
     },
     "metadata": {},
     "output_type": "display_data"
    },
    {
     "data": {
      "text/plain": [
       "Installed package Microsoft.ML.FastTree version 1.5.0"
      ]
     },
     "metadata": {},
     "output_type": "display_data"
    },
    {
     "data": {
      "text/plain": [
       "Installed package XPlot.Plotly version 2.0.0"
      ]
     },
     "metadata": {},
     "output_type": "display_data"
    }
   ],
   "source": [
    "// ML.NET Nuget packages installation\n",
    "#r \"nuget:Microsoft.ML,1.5.0\"\n",
    "#r \"nuget:Microsoft.ML.FastTree,1.5.0\"\n",
    "#r \"nuget:Microsoft.ML.AutoML,0.17.2\"\n",
    "    \n",
    "//Install XPlot package\n",
    "#r \"nuget:XPlot.Plotly,2.0.0\""
   ]
  },
  {
   "cell_type": "code",
   "execution_count": 2,
   "metadata": {},
   "outputs": [],
   "source": [
    "using Microsoft.ML;\n",
    "using Microsoft.ML.Data;\n",
    "using Microsoft.ML.FastTree;\n",
    "using Microsoft.ML.AutoML;\n",
    "using XPlot.Plotly;"
   ]
  },
  {
   "cell_type": "code",
   "execution_count": 3,
   "metadata": {},
   "outputs": [],
   "source": [
    "public class TransactionObservation \n",
    "    {\n",
    "        [LoadColumn(1)]\n",
    "        public float V1{ get; set; }\n",
    "\n",
    "        [LoadColumn(2)]\n",
    "        public float V2{ get; set; }\n",
    "\n",
    "        [LoadColumn(3)]\n",
    "        public float V3{ get; set; }\n",
    "\n",
    "        [LoadColumn(4)]\n",
    "        public float V4{ get; set; }\n",
    "\n",
    "        [LoadColumn(5)]\n",
    "        public float V5{ get; set; }\n",
    "\n",
    "        [LoadColumn(6)]\n",
    "        public float V6{ get; set; }\n",
    "\n",
    "        [LoadColumn(7)]\n",
    "        public float V7{ get; set; }\n",
    "\n",
    "        [LoadColumn(8)]\n",
    "        public float V8{ get; set; }\n",
    "\n",
    "        [LoadColumn(9)]\n",
    "        public float V9{ get; set; }\n",
    "\n",
    "        [LoadColumn(10)]\n",
    "        public float V10{ get; set; }\n",
    "\n",
    "        [LoadColumn(11)]\n",
    "        public float V11{ get; set; }\n",
    "\n",
    "        [LoadColumn(12)]\n",
    "        public float V12{ get; set; }\n",
    "\n",
    "        [LoadColumn(13)]\n",
    "        public float V13{ get; set; }\n",
    "\n",
    "        [LoadColumn(14)]\n",
    "        public float V14{ get; set; }\n",
    "\n",
    "        [LoadColumn(15)]\n",
    "        public float V15{ get; set; }\n",
    "\n",
    "        [LoadColumn(16)]\n",
    "        public float V16{ get; set; }\n",
    "\n",
    "        [LoadColumn(17)]\n",
    "        public float V17{ get; set; }\n",
    "\n",
    "        [LoadColumn(18)]\n",
    "        public float V18{ get; set; }\n",
    "\n",
    "        [LoadColumn(19)]\n",
    "        public float V19{ get; set; }\n",
    "\n",
    "        [LoadColumn(20)]\n",
    "        public float V20{ get; set; }\n",
    "\n",
    "        [LoadColumn(21)]\n",
    "        public float V21{ get; set; }\n",
    "\n",
    "        [LoadColumn(22)]\n",
    "        public float V22{ get; set; }\n",
    "\n",
    "        [LoadColumn(23)]\n",
    "        public float V23{ get; set; }\n",
    "\n",
    "        [LoadColumn(24)]\n",
    "        public float V24{ get; set; }\n",
    "\n",
    "        [LoadColumn(25)]\n",
    "        public float V25{ get; set; }\n",
    "\n",
    "        [LoadColumn(26)]\n",
    "        public float V26{ get; set; }\n",
    "\n",
    "        [LoadColumn(27)]\n",
    "        public float V27{ get; set; }\n",
    "\n",
    "        [LoadColumn(28)]\n",
    "        public float V28{ get; set; }\n",
    "\n",
    "        [LoadColumn(29)]\n",
    "        public float Amount{ get; set; }\n",
    "\n",
    "        [LoadColumn(30)]\n",
    "        public bool Label{ get; set; }\n",
    "    }"
   ]
  },
  {
   "cell_type": "code",
   "execution_count": 4,
   "metadata": {},
   "outputs": [],
   "source": [
    "public class TransactionFraudPrediction \n",
    "    {\n",
    "        [ColumnName(\"PredictedLabel\")]\n",
    "        public bool Prediction { get; set; }\n",
    "        public float Score { get; set; }\n",
    "        public float Probability { get; set; }\n",
    "    }"
   ]
  },
  {
   "cell_type": "code",
   "execution_count": 5,
   "metadata": {},
   "outputs": [],
   "source": [
    "private void CreateRow(string message, int width)\n",
    "{\n",
    "    display(\"|\" + message.PadRight(width - 2) + \"|\");\n",
    "}"
   ]
  },
  {
   "cell_type": "code",
   "execution_count": 6,
   "metadata": {},
   "outputs": [],
   "source": [
    "private void PrintBinaryClassificationMetricsHeader()\n",
    "{\n",
    "    CreateRow($\"{\"\",-4} {\"Trainer\",-35} {\"Accuracy\",9} {\"AUC\",8} {\"AUPRC\",8} {\"F1-score\",9} {\"Duration\",9}\", 114);\n",
    "}"
   ]
  },
  {
   "cell_type": "code",
   "execution_count": 7,
   "metadata": {},
   "outputs": [],
   "source": [
    "private void PrintIterationMetrics(int iteration, string trainerName, BinaryClassificationMetrics metrics, double? runtimeInSeconds)\n",
    "{\n",
    "    CreateRow($\"{iteration,-4} {trainerName,-35} {metrics?.Accuracy ?? double.NaN,9:F4} {metrics?.AreaUnderRocCurve ?? double.NaN,8:F4} {metrics?.AreaUnderPrecisionRecallCurve ?? double.NaN,8:F4} {metrics?.F1Score ?? double.NaN,9:F4} {runtimeInSeconds.Value,9:F1}\", 114);\n",
    "}"
   ]
  },
  {
   "cell_type": "code",
   "execution_count": 8,
   "metadata": {},
   "outputs": [],
   "source": [
    "public static void PrintBinaryClassificationMetrics(string name, BinaryClassificationMetrics metrics)\n",
    "{\n",
    "            display($\"************************************************************\");\n",
    "            display($\"*       Metrics for {name} binary classification model      \");\n",
    "            display($\"*-----------------------------------------------------------\");\n",
    "            display($\"*       Accuracy: {metrics.Accuracy:P2}\");\n",
    "            display($\"*       Area Under Curve:      {metrics.AreaUnderRocCurve:P2}\");\n",
    "            display($\"*       Area under Precision recall Curve:  {metrics.AreaUnderPrecisionRecallCurve:P2}\");\n",
    "            display($\"*       F1Score:  {metrics.F1Score:P2}\");\n",
    "            display($\"*       PositivePrecision:  {metrics.PositivePrecision:#.##}\");\n",
    "            display($\"*       PositiveRecall:  {metrics.PositiveRecall:#.##}\");\n",
    "            display($\"*       NegativePrecision:  {metrics.NegativePrecision:#.##}\");\n",
    "            display($\"*       NegativeRecall:  {metrics.NegativeRecall:P2}\");\n",
    "            display($\"************************************************************\");\n",
    "}"
   ]
  },
  {
   "cell_type": "code",
   "execution_count": 9,
   "metadata": {},
   "outputs": [],
   "source": [
    "string dataFile = \"Data/creditcard.csv\";"
   ]
  },
  {
   "cell_type": "code",
   "execution_count": 10,
   "metadata": {},
   "outputs": [],
   "source": [
    "MLContext mlContext = new MLContext(seed: 1);"
   ]
  },
  {
   "cell_type": "code",
   "execution_count": 11,
   "metadata": {},
   "outputs": [],
   "source": [
    "//Load the original single dataset\n",
    "IDataView originalFullData = mlContext.Data.LoadFromTextFile<TransactionObservation>\n",
    "(dataFile, separatorChar: ',', hasHeader: true);"
   ]
  },
  {
   "cell_type": "code",
   "execution_count": 12,
   "metadata": {},
   "outputs": [],
   "source": [
    "using static Microsoft.ML.DataOperationsCatalog;\n",
    "// Split the data 80:20 into train and test sets, train and evaluate.\n",
    "TrainTestData trainTestData = mlContext.Data.TrainTestSplit(originalFullData, testFraction: 0.2, seed: 1);\n",
    "IDataView trainData = trainTestData.TrainSet;\n",
    "IDataView testData = trainTestData.TestSet;"
   ]
  },
  {
   "cell_type": "code",
   "execution_count": 13,
   "metadata": {},
   "outputs": [
    {
     "data": {
      "text/plain": [
       "Row--> | V1:-1.3598071| V2:-0.072781175| V3:2.5363467| V4:1.3781552| V5:-0.33832076| V6:0.46238777| V7:0.23959856| V8:0.0986979| V9:0.36378697| V10:0.09079417| V11:-0.55159956| V12:-0.61780083| V13:-0.9913899| V14:-0.31116936| V15:1.468177| V16:-0.4704005| V17:0.20797125| V18:0.02579058| V19:0.40399295| V20:0.2514121| V21:-0.018306779| V22:0.27783757| V23:-0.11047391| V24:0.066928074| V25:0.12853935| V26:-0.18911484| V27:0.13355838| V28:-0.021053053| Amount:149.62| Label:False| SamplingKeyColumn:0.81377757\n"
      ]
     },
     "metadata": {},
     "output_type": "display_data"
    },
    {
     "data": {
      "text/plain": [
       "Row--> | V1:1.1918571| V2:0.2661507| V3:0.16648011| V4:0.4481541| V5:0.06001765| V6:-0.08236081| V7:-0.07880298| V8:0.08510166| V9:-0.25542513| V10:-0.16697441| V11:1.6127267| V12:1.0652353| V13:0.489095| V14:-0.14377229| V15:0.63555807| V16:0.46391705| V17:-0.11480466| V18:-0.18336128| V19:-0.14578304| V20:-0.06908313| V21:-0.22577524| V22:-0.63867193| V23:0.10128802| V24:-0.33984646| V25:0.1671704| V26:0.12589453| V27:-0.008983099| V28:0.014724169| Amount:2.69| Label:False| SamplingKeyColumn:0.8037591\n"
      ]
     },
     "metadata": {},
     "output_type": "display_data"
    },
    {
     "data": {
      "text/plain": [
       "Row--> | V1:-0.9662717| V2:-0.18522601| V3:1.7929933| V4:-0.86329126| V5:-0.010308879| V6:1.2472031| V7:0.23760894| V8:0.37743586| V9:-1.387024| V10:-0.05495192| V11:-0.22648726| V12:0.17822823| V13:0.5077569| V14:-0.28792375| V15:-0.6314181| V16:-1.0596472| V17:-0.68409276| V18:1.965775| V19:-1.232622| V20:-0.20803778| V21:-0.108300455| V22:0.005273597| V23:-0.19032052| V24:-1.1755754| V25:0.64737606| V26:-0.22192885| V27:0.06272285| V28:0.06145763| Amount:123.5| Label:False| SamplingKeyColumn:0.45860124\n"
      ]
     },
     "metadata": {},
     "output_type": "display_data"
    },
    {
     "data": {
      "text/plain": [
       "Row--> | V1:-1.158233| V2:0.87773675| V3:1.5487179| V4:0.40303394| V5:-0.40719336| V6:0.095921464| V7:0.59294075| V8:-0.27053267| V9:0.8177393| V10:0.7530744| V11:-0.8228429| V12:0.53819555| V13:1.3458515| V14:-1.1196698| V15:0.17512113| V16:-0.4514492| V17:-0.23703323| V18:-0.038194787| V19:0.80348694| V20:0.40854236| V21:-0.009430697| V22:0.7982785| V23:-0.13745809| V24:0.14126699| V25:-0.20600958| V26:0.5022922| V27:0.21942224| V28:0.21515314| Amount:69.99| Label:False| SamplingKeyColumn:0.84411216\n"
      ]
     },
     "metadata": {},
     "output_type": "display_data"
    },
    {
     "name": "stderr",
     "output_type": "stream",
     "text": [
      "\r\n",
      "warning CS1701: Assuming assembly reference 'System.Collections.Immutable, Version=1.2.3.0, Culture=neutral, PublicKeyToken=b03f5f7f11d50a3a' used by 'Microsoft.ML.Data' matches identity 'System.Collections.Immutable, Version=5.0.0.0, Culture=neutral, PublicKeyToken=b03f5f7f11d50a3a' of 'System.Collections.Immutable', you may need to supply runtime policy\r\n",
      "\r\n"
     ]
    }
   ],
   "source": [
    "var preViewTransformedData = trainData.Preview(maxRows: 4);\n",
    "\n",
    "foreach (var row in preViewTransformedData.RowView)\n",
    "{\n",
    "    var ColumnCollection = row.Values;\n",
    "    string lineToPrint = \"Row--> \";\n",
    "    foreach (KeyValuePair<string, object> column in ColumnCollection)\n",
    "    {\n",
    "        lineToPrint += $\"| {column.Key}:{column.Value}\";\n",
    "    }\n",
    "    display(lineToPrint + \"\\n\");\n",
    "}"
   ]
  },
  {
   "cell_type": "code",
   "execution_count": 14,
   "metadata": {},
   "outputs": [
    {
     "data": {
      "text/plain": [
       "Row--> , V1=-1.3583541F, V2=-1.3401631F, V3=1.7732093F, V4=0.3797796F, V5=-0.50319815F, V6=1.8004994F, V7=0.79146093F, V8=0.24767579F, V9=-1.5146543F, V10=0.20764287F, V11=0.62450147F, V12=0.066083685F, V13=0.7172927F, V14=-0.16594592F, V15=2.345865F, V16=-2.8900833F, V17=1.1099694F, V18=-0.12135931F, V19=-2.261857F, V20=0.5249797F, V21=0.24799815F, V22=0.7716794F, V23=0.90941226F, V24=-0.6892809F, V25=-0.32764184F, V26=-0.13909657F, V27=-0.055352796F, V28=-0.059751842F, Amount=378.66F, Label=FalseF, SamplingKeyColumn=0.14511466F\n"
      ]
     },
     "metadata": {},
     "output_type": "display_data"
    },
    {
     "data": {
      "text/plain": [
       "Row--> , V1=1.2499987F, V2=-1.2216368F, V3=0.38393015F, V4=-1.2348987F, V5=-1.4854195F, V6=-0.75323015F, V7=-0.68940496F, V8=-0.22748722F, V9=-2.0940106F, V10=1.3237293F, V11=0.22766623F, V12=-0.242682F, V13=1.2054168F, V14=-0.31763053F, V15=0.725675F, V16=-0.8156122F, V17=0.8739365F, V18=-0.8477886F, V19=-0.6831926F, V20=-0.10275594F, V21=-0.23180924F, V22=-0.48328534F, V23=0.08466769F, V24=0.39283088F, V25=0.16113456F, V26=-0.35499004F, V27=0.02641555F, V28=0.04242209F, Amount=121.5F, Label=FalseF, SamplingKeyColumn=0.043524146F\n"
      ]
     },
     "metadata": {},
     "output_type": "display_data"
    },
    {
     "data": {
      "text/plain": [
       "Row--> , V1=1.0693736F, V2=0.28772214F, V3=0.82861274F, V4=2.7125204F, V5=-0.17839801F, V6=0.33754373F, V7=-0.09671686F, V8=0.115981735F, V9=-0.22108257F, V10=0.46023044F, V11=-0.7736569F, V12=0.32338724F, V13=-0.011075887F, V14=-0.17848517F, V15=-0.65556425F, V16=-0.19992517F, V17=0.124005415F, V18=-0.9804962F, V19=-0.98291606F, V20=-0.15319723F, V21=-0.03687553F, V22=0.074412405F, V23=-0.07140743F, V24=0.10474375F, V25=0.54826474F, V26=0.104094155F, V27=0.021491058F, V28=0.021293312F, Amount=27.5F, Label=FalseF, SamplingKeyColumn=0.15626693F\n"
      ]
     },
     "metadata": {},
     "output_type": "display_data"
    },
    {
     "data": {
      "text/plain": [
       "Row--> , V1=-0.41428882F, V2=0.90543735F, V3=1.727453F, V4=1.4734713F, V5=0.007442741F, V6=-0.20033067F, V7=0.7402283F, V8=-0.0292474F, V9=-0.593392F, V10=-0.34618822F, V11=-0.012142189F, V12=0.78679633F, V13=0.6359539F, V14=-0.08632447F, V15=0.076803684F, V16=-1.4059193F, V17=0.77559173F, V18=-0.9428889F, V19=0.54396945F, V20=0.09730759F, V21=0.077237435F, V22=0.45733058F, V23=-0.038499724F, V24=0.6425219F, V25=-0.18389134F, V26=-0.27746403F, V27=0.18268749F, V28=0.15266465F, Amount=33F, Label=FalseF, SamplingKeyColumn=0.039589286F\n"
      ]
     },
     "metadata": {},
     "output_type": "display_data"
    },
    {
     "name": "stderr",
     "output_type": "stream",
     "text": [
      "\r\n",
      "warning CS1701: Assuming assembly reference 'System.Collections.Immutable, Version=1.2.3.0, Culture=neutral, PublicKeyToken=b03f5f7f11d50a3a' used by 'Microsoft.ML.Data' matches identity 'System.Collections.Immutable, Version=5.0.0.0, Culture=neutral, PublicKeyToken=b03f5f7f11d50a3a' of 'System.Collections.Immutable', you may need to supply runtime policy\r\n",
      "\r\n"
     ]
    }
   ],
   "source": [
    "var preViewTransformedData = testData.Preview(maxRows: 4);\n",
    "\n",
    "foreach (var row in preViewTransformedData.RowView)\n",
    "{\n",
    "    var ColumnCollection = row.Values;\n",
    "    string lineToPrint = \"Row--> \";\n",
    "    foreach (KeyValuePair<string, object> column in ColumnCollection)\n",
    "    {\n",
    "        lineToPrint += $\", {column.Key}={column.Value}F\";\n",
    "    }\n",
    "    display(lineToPrint + \"\\n\");\n",
    "}"
   ]
  },
  {
   "cell_type": "code",
   "execution_count": 15,
   "metadata": {},
   "outputs": [],
   "source": [
    "//Run AutoML binary classification experiment\n",
    "ExperimentResult<BinaryClassificationMetrics> experimentResult = mlContext.Auto()\n",
    "                .CreateBinaryClassificationExperiment(60)\n",
    "                .Execute(trainData);"
   ]
  },
  {
   "cell_type": "code",
   "execution_count": 16,
   "metadata": {},
   "outputs": [
    {
     "data": {
      "text/plain": [
       "Top models ranked by accuracy --"
      ]
     },
     "metadata": {},
     "output_type": "display_data"
    },
    {
     "data": {
      "text/plain": [
       "|     Trainer                              Accuracy      AUC    AUPRC  F1-score  Duration                        |"
      ]
     },
     "metadata": {},
     "output_type": "display_data"
    },
    {
     "data": {
      "text/plain": [
       "|1    LightGbmBinary                         0.9995   0.9207   0.7932    0.8182       8.2                        |"
      ]
     },
     "metadata": {},
     "output_type": "display_data"
    },
    {
     "data": {
      "text/plain": [
       "|2    FastForestBinary                       0.9995   0.9600   0.8039    0.8065       9.2                        |"
      ]
     },
     "metadata": {},
     "output_type": "display_data"
    },
    {
     "data": {
      "text/plain": [
       "|3    AveragedPerceptronBinary               0.9992   0.9648   0.6408    0.7187       6.8                        |"
      ]
     },
     "metadata": {},
     "output_type": "display_data"
    },
    {
     "data": {
      "text/plain": [
       "|4    FastTreeBinary                         0.9991   0.9054   0.5104    0.7143       8.2                        |"
      ]
     },
     "metadata": {},
     "output_type": "display_data"
    },
    {
     "data": {
      "text/plain": [
       "|5    LbfgsLogisticRegressionBinary          0.9990   0.9902   0.5980    0.6333       7.3                        |"
      ]
     },
     "metadata": {},
     "output_type": "display_data"
    },
    {
     "data": {
      "text/plain": [
       "|6    SgdCalibratedBinary                    0.9990   0.9802   0.5835    0.6333       6.9                        |"
      ]
     },
     "metadata": {},
     "output_type": "display_data"
    },
    {
     "data": {
      "text/plain": [
       "|7    SdcaLogisticRegressionBinary           0.9990   0.9822   0.5919    0.6102       5.7                        |"
      ]
     },
     "metadata": {},
     "output_type": "display_data"
    },
    {
     "data": {
      "text/plain": [
       "|8    SymbolicSgdLogisticRegressionBinary    0.9986   0.8838   0.5591    0.3600       5.9                        |"
      ]
     },
     "metadata": {},
     "output_type": "display_data"
    },
    {
     "data": {
      "text/plain": [
       "|9    LinearSvmBinary                        0.9986   0.9368   0.5771    0.3265       5.8                        |"
      ]
     },
     "metadata": {},
     "output_type": "display_data"
    }
   ],
   "source": [
    "// Get top few runs ranked by accuracy\n",
    "var topRuns = experimentResult.RunDetails\n",
    "                .Where(r => r.ValidationMetrics != null && !double.IsNaN(r.ValidationMetrics.Accuracy))\n",
    "                .OrderByDescending(r => r.ValidationMetrics.Accuracy).ToList();\n",
    "\n",
    "display(\"Top models ranked by accuracy --\");\n",
    "PrintBinaryClassificationMetricsHeader();\n",
    "for (var i = 0; i < topRuns.Count(); i++)\n",
    "{\n",
    "    var run = topRuns.ElementAt(i);\n",
    "    PrintIterationMetrics(i + 1, run.TrainerName, run.ValidationMetrics, run.RuntimeInSeconds);\n",
    "}"
   ]
  },
  {
   "cell_type": "code",
   "execution_count": 17,
   "metadata": {},
   "outputs": [
    {
     "data": {
      "text/plain": [
       "=============== Evaluating model's accuracy with test data ==============="
      ]
     },
     "metadata": {},
     "output_type": "display_data"
    },
    {
     "data": {
      "text/plain": [
       "************************************************************"
      ]
     },
     "metadata": {},
     "output_type": "display_data"
    },
    {
     "data": {
      "text/plain": [
       "*       Metrics for LightGbmBinary binary classification model      "
      ]
     },
     "metadata": {},
     "output_type": "display_data"
    },
    {
     "data": {
      "text/plain": [
       "*-----------------------------------------------------------"
      ]
     },
     "metadata": {},
     "output_type": "display_data"
    },
    {
     "data": {
      "text/plain": [
       "*       Accuracy: 99.95%"
      ]
     },
     "metadata": {},
     "output_type": "display_data"
    },
    {
     "data": {
      "text/plain": [
       "*       Area Under Curve:      90.62%"
      ]
     },
     "metadata": {},
     "output_type": "display_data"
    },
    {
     "data": {
      "text/plain": [
       "*       Area under Precision recall Curve:  76.24%"
      ]
     },
     "metadata": {},
     "output_type": "display_data"
    },
    {
     "data": {
      "text/plain": [
       "*       F1Score:  83.77%"
      ]
     },
     "metadata": {},
     "output_type": "display_data"
    },
    {
     "data": {
      "text/plain": [
       "*       PositivePrecision:  .9"
      ]
     },
     "metadata": {},
     "output_type": "display_data"
    },
    {
     "data": {
      "text/plain": [
       "*       PositiveRecall:  .78"
      ]
     },
     "metadata": {},
     "output_type": "display_data"
    },
    {
     "data": {
      "text/plain": [
       "*       NegativePrecision:  1"
      ]
     },
     "metadata": {},
     "output_type": "display_data"
    },
    {
     "data": {
      "text/plain": [
       "*       NegativeRecall:  99.98%"
      ]
     },
     "metadata": {},
     "output_type": "display_data"
    },
    {
     "data": {
      "text/plain": [
       "************************************************************"
      ]
     },
     "metadata": {},
     "output_type": "display_data"
    }
   ],
   "source": [
    "//Evaluate the model and print metrics\n",
    "display(\"=============== Evaluating model's accuracy with test data ===============\");\n",
    "RunDetail<BinaryClassificationMetrics> bestRun = experimentResult.BestRun;\n",
    "ITransformer trainedModel = bestRun.Model;\n",
    "var predictions = trainedModel.Transform(testData);\n",
    "var metrics = mlContext.BinaryClassification.EvaluateNonCalibrated(data:predictions, scoreColumnName: \"Score\");\n",
    "PrintBinaryClassificationMetrics(bestRun.TrainerName, metrics);"
   ]
  },
  {
   "cell_type": "code",
   "execution_count": 18,
   "metadata": {},
   "outputs": [
    {
     "data": {
      "text/html": [
       "<table><thead><tr><th>LastEstimator</th></tr></thead><tbody><tr><td><div class=\"dni-plaintext\">Microsoft.ML.Trainers.LightGbm.LightGbmBinaryTrainer</div></td></tr></tbody></table>"
      ]
     },
     "execution_count": 18,
     "metadata": {},
     "output_type": "execute_result"
    }
   ],
   "source": [
    "bestRun.Estimator "
   ]
  },
  {
   "cell_type": "code",
   "execution_count": 20,
   "metadata": {},
   "outputs": [],
   "source": [
    "TransactionObservation singleData = new TransactionObservation(){\n",
    "    V1=-1.3583541F, V2=-1.3401631F, V3=1.7732093F, V4=0.3797796F, V5=-0.50319815F, V6=1.8004994F, V7=0.79146093F, \n",
    "    V8=0.24767579F, V9=-1.5146543F, V10=0.20764287F, V11=0.62450147F, V12=0.066083685F, V13=0.7172927F, \n",
    "    V14=-0.16594592F, V15=2.345865F, V16=-2.8900833F, V17=1.1099694F, V18=-0.12135931F, V19=-2.261857F, \n",
    "    V20=0.5249797F, V21=0.24799815F, V22=0.7716794F, V23=0.90941226F, V24=-0.6892809F, V25=-0.32764184F, \n",
    "    V26=-0.13909657F, V27=-0.055352796F, V28=-0.059751842F, Amount=378.66F, Label=false \n",
    "    //SamplingKeyColumn=0.14511466F\n",
    "};"
   ]
  },
  {
   "cell_type": "code",
   "execution_count": 21,
   "metadata": {},
   "outputs": [],
   "source": [
    "//Get all the feature column names (All except the Label and the IdPreservationColumn)\n",
    "string[] featureColumnNames = trainData.Schema.AsQueryable()\n",
    ".Select(column => column.Name)                               // Get alll the column names\n",
    ".Where(name => name != nameof(TransactionObservation.Label)) // Do not include the Label column\n",
    ".Where(name => name != \"IdPreservationColumn\")\n",
    ".Where(name => name != \"SamplingKeyColumn\")\n",
    ".ToArray();"
   ]
  },
  {
   "cell_type": "code",
   "execution_count": 22,
   "metadata": {},
   "outputs": [
    {
     "name": "stderr",
     "output_type": "stream",
     "text": [
      "\r\n",
      "(2,48): warning CS1701: Assuming assembly reference 'Microsoft.AspNetCore.Html.Abstractions, Version=2.2.0.0, Culture=neutral, PublicKeyToken=adb9793829ddae60' used by 'Microsoft.DotNet.Interactive.Formatting' matches identity 'Microsoft.AspNetCore.Html.Abstractions, Version=3.1.9.0, Culture=neutral, PublicKeyToken=adb9793829ddae60' of 'Microsoft.AspNetCore.Html.Abstractions', you may need to supply runtime policy\r\n",
      "\r\n"
     ]
    }
   ],
   "source": [
    "// Create the data process pipeline\n",
    "IEstimator<ITransformer> dataProcessPipeline = mlContext.Transforms.Concatenate(\"Features\", featureColumnNames)\n",
    ".Append(mlContext.Transforms.NormalizeMeanVariance\n",
    "                        (inputColumnName: \"Features\",\n",
    "                        outputColumnName: \"FeaturesNormalizedByMeanVar\"));"
   ]
  },
  {
   "cell_type": "code",
   "execution_count": 23,
   "metadata": {},
   "outputs": [],
   "source": [
    "var trainer =mlContext.BinaryClassification.Trainers.LightGbm(\n",
    "        labelColumnName: nameof(TransactionObservation.Label),\n",
    "        featureColumnName: \"FeaturesNormalizedByMeanVar\", numberOfLeaves: 20, minimumExampleCountPerLeaf: 10,\n",
    "        learningRate: 0.2,numberOfIterations:1000);"
   ]
  },
  {
   "cell_type": "code",
   "execution_count": 24,
   "metadata": {},
   "outputs": [
    {
     "name": "stderr",
     "output_type": "stream",
     "text": [
      "\r\n",
      "(1,24): warning CS1701: Assuming assembly reference 'Microsoft.AspNetCore.Html.Abstractions, Version=2.2.0.0, Culture=neutral, PublicKeyToken=adb9793829ddae60' used by 'Microsoft.DotNet.Interactive.Formatting' matches identity 'Microsoft.AspNetCore.Html.Abstractions, Version=3.1.9.0, Culture=neutral, PublicKeyToken=adb9793829ddae60' of 'Microsoft.AspNetCore.Html.Abstractions', you may need to supply runtime policy\r\n",
      "\r\n"
     ]
    }
   ],
   "source": [
    "var trainingPipeline = dataProcessPipeline.Append(trainer);"
   ]
  },
  {
   "cell_type": "code",
   "execution_count": 25,
   "metadata": {},
   "outputs": [],
   "source": [
    "var model = trainingPipeline.Fit(trainData);"
   ]
  },
  {
   "cell_type": "code",
   "execution_count": 26,
   "metadata": {},
   "outputs": [],
   "source": [
    "var fccPipeline = model.Append(mlContext.Transforms\n",
    "                .CalculateFeatureContribution(model.LastTransformer)\n",
    "                .Fit(dataProcessPipeline.Fit(trainData).Transform(trainData)));"
   ]
  },
  {
   "cell_type": "code",
   "execution_count": 27,
   "metadata": {},
   "outputs": [],
   "source": [
    "// Evaluate the model and show accuracy stats\n",
    "var predictions = fccPipeline.Transform(testData);"
   ]
  },
  {
   "cell_type": "code",
   "execution_count": 28,
   "metadata": {},
   "outputs": [],
   "source": [
    "var metrics = mlContext.BinaryClassification.Evaluate(data: predictions, \n",
    "    labelColumnName: nameof(TransactionObservation.Label), \n",
    "    scoreColumnName: \"Score\");"
   ]
  },
  {
   "cell_type": "code",
   "execution_count": 29,
   "metadata": {},
   "outputs": [
    {
     "data": {
      "text/plain": [
       "************************************************************"
      ]
     },
     "metadata": {},
     "output_type": "display_data"
    },
    {
     "data": {
      "text/plain": [
       "*       Metrics for LightGbm binary classification model      "
      ]
     },
     "metadata": {},
     "output_type": "display_data"
    },
    {
     "data": {
      "text/plain": [
       "*-----------------------------------------------------------"
      ]
     },
     "metadata": {},
     "output_type": "display_data"
    },
    {
     "data": {
      "text/plain": [
       "*       Accuracy: 99.95%"
      ]
     },
     "metadata": {},
     "output_type": "display_data"
    },
    {
     "data": {
      "text/plain": [
       "*       Area Under Curve:      94.99%"
      ]
     },
     "metadata": {},
     "output_type": "display_data"
    },
    {
     "data": {
      "text/plain": [
       "*       Area under Precision recall Curve:  81.12%"
      ]
     },
     "metadata": {},
     "output_type": "display_data"
    },
    {
     "data": {
      "text/plain": [
       "*       F1Score:  83.60%"
      ]
     },
     "metadata": {},
     "output_type": "display_data"
    },
    {
     "data": {
      "text/plain": [
       "*       PositivePrecision:  .91"
      ]
     },
     "metadata": {},
     "output_type": "display_data"
    },
    {
     "data": {
      "text/plain": [
       "*       PositiveRecall:  .77"
      ]
     },
     "metadata": {},
     "output_type": "display_data"
    },
    {
     "data": {
      "text/plain": [
       "*       NegativePrecision:  1"
      ]
     },
     "metadata": {},
     "output_type": "display_data"
    },
    {
     "data": {
      "text/plain": [
       "*       NegativeRecall:  99.99%"
      ]
     },
     "metadata": {},
     "output_type": "display_data"
    },
    {
     "data": {
      "text/plain": [
       "************************************************************"
      ]
     },
     "metadata": {},
     "output_type": "display_data"
    }
   ],
   "source": [
    "PrintBinaryClassificationMetrics(\"LightGbm\", metrics);"
   ]
  },
  {
   "cell_type": "code",
   "execution_count": 30,
   "metadata": {},
   "outputs": [],
   "source": [
    "// Create prediction engine related to the loaded trained model\n",
    "var predEngine= mlContext.Model.CreatePredictionEngine<TransactionObservation, TransactionFraudPrediction>(fccPipeline);"
   ]
  },
  {
   "cell_type": "code",
   "execution_count": 31,
   "metadata": {},
   "outputs": [],
   "source": [
    "// Score\n",
    "var predictedResult = predEngine.Predict(singleData);"
   ]
  },
  {
   "cell_type": "code",
   "execution_count": 32,
   "metadata": {},
   "outputs": [
    {
     "data": {
      "text/plain": [
       "Non Fraud"
      ]
     },
     "metadata": {},
     "output_type": "display_data"
    }
   ],
   "source": [
    "display(Convert.ToBoolean(predictedResult.Prediction) ? \"Fraud\" : \"Non Fraud\")"
   ]
  }
 ],
 "metadata": {
  "kernelspec": {
   "display_name": ".NET (C#)",
   "language": "C#",
   "name": ".net-csharp"
  },
  "language_info": {
   "file_extension": ".cs",
   "mimetype": "text/x-csharp",
   "name": "C#",
   "pygments_lexer": "csharp",
   "version": "8.0"
  }
 },
 "nbformat": 4,
 "nbformat_minor": 4
}
