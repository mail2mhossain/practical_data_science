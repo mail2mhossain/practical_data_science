{
 "cells": [
  {
   "cell_type": "markdown",
   "id": "775c9924",
   "metadata": {},
   "source": [
    "# Clean Joined Data As Parquet"
   ]
  },
  {
   "cell_type": "markdown",
   "id": "95b21c31",
   "metadata": {},
   "source": [
    "## Load Libraries"
   ]
  },
  {
   "cell_type": "code",
   "execution_count": 1,
   "id": "ae573ac7",
   "metadata": {},
   "outputs": [],
   "source": [
    "import os\n",
    "import glob\n",
    "import pandas as pd\n",
    "import dask.dataframe as dd\n",
    "from dask.diagnostics import ProgressBar\n",
    "import numpy as np\n",
    "import seaborn as sns\n",
    "import sidetable as stb\n",
    "import pprint\n",
    "import yaml"
   ]
  },
  {
   "cell_type": "markdown",
   "id": "b7cd3c07",
   "metadata": {},
   "source": [
    "## Read config"
   ]
  },
  {
   "cell_type": "code",
   "execution_count": 2,
   "id": "1c4c2b02",
   "metadata": {},
   "outputs": [],
   "source": [
    "with open('../params.yaml') as conf_file:\n",
    "    config = yaml.safe_load(conf_file)"
   ]
  },
  {
   "cell_type": "code",
   "execution_count": 3,
   "id": "b2c35229",
   "metadata": {},
   "outputs": [
    {
     "name": "stdout",
     "output_type": "stream",
     "text": [
      "'data/raw/EVI_DATA_15TH_DEC_2022.csv'\n"
     ]
    }
   ],
   "source": [
    "pprint.pprint(config[\"data_load\"][\"evi_dataset_csv\"])"
   ]
  },
  {
   "cell_type": "markdown",
   "id": "0925c96c",
   "metadata": {
    "heading_collapsed": true
   },
   "source": [
    "## Convert from csv to parquet"
   ]
  },
  {
   "cell_type": "code",
   "execution_count": null,
   "id": "1374045b",
   "metadata": {
    "hidden": true
   },
   "outputs": [],
   "source": [
    "# Get a list of CSV files to import\n",
    "csv_files = glob.glob('C:/Users/User/Downloads/EVI/*.csv')"
   ]
  },
  {
   "cell_type": "code",
   "execution_count": null,
   "id": "7c416ee9",
   "metadata": {
    "hidden": true
   },
   "outputs": [],
   "source": [
    "# define the column data types\n",
    "dtype = {'ID': 'int64', 'REG_NO':'object', 'VEHICLE_CLASS':'int64', 'VEHICLE_COLOR': 'object', \\\n",
    "         'VEHICLE_MODEL': 'object', 'IP_ADDRESS':'object', 'ANTENNA':'int64', 'DISCOVER_TIME':'object'}"
   ]
  },
  {
   "cell_type": "code",
   "execution_count": null,
   "id": "52c50d5c",
   "metadata": {
    "hidden": true
   },
   "outputs": [],
   "source": [
    "# read the CSV file with specified column data types\n",
    "df = dd.read_csv(csv_files, dtype=dtype)"
   ]
  },
  {
   "cell_type": "code",
   "execution_count": null,
   "id": "92d3369a",
   "metadata": {
    "hidden": true
   },
   "outputs": [],
   "source": [
    "# Get the number of rows in the Dask DataFrame\n",
    "with ProgressBar():\n",
    "    num_rows = len(df)"
   ]
  },
  {
   "cell_type": "code",
   "execution_count": null,
   "id": "7111e822",
   "metadata": {
    "hidden": true
   },
   "outputs": [],
   "source": [
    "# Print the number of rows\n",
    "print(\"Number of rows:\", num_rows)"
   ]
  },
  {
   "cell_type": "code",
   "execution_count": null,
   "id": "d2f5ec9c",
   "metadata": {
    "hidden": true
   },
   "outputs": [],
   "source": [
    "# Write the result to a parquet file\n",
    "with ProgressBar():\n",
    "    df.to_parquet('C:/Users/User/Downloads/EVI/output.parquet', compression='gzip', engine='pyarrow')"
   ]
  },
  {
   "cell_type": "markdown",
   "id": "6ef8637d",
   "metadata": {},
   "source": [
    "## Load parquet in DuckDB"
   ]
  },
  {
   "cell_type": "code",
   "execution_count": 4,
   "id": "03ecf1e7",
   "metadata": {},
   "outputs": [],
   "source": [
    "import duckdb  \n",
    "conn = duckdb.connect(':memory:')"
   ]
  },
  {
   "cell_type": "code",
   "execution_count": 5,
   "id": "ffbbd5b6",
   "metadata": {},
   "outputs": [],
   "source": [
    "evi_dataset = \"C:/Users/User/Downloads/EVI_data/*csv\""
   ]
  },
  {
   "cell_type": "code",
   "execution_count": 6,
   "id": "1db1df86",
   "metadata": {},
   "outputs": [],
   "source": [
    "# define the column data types\n",
    "dtype = \"{'ID': 'BIGINT', 'REG_NO':'VARCHAR', 'VEHICLE_CLASS':'INTEGER', 'VEHICLE_COLOR': 'VARCHAR', \\\n",
    "         'VEHICLE_MODEL': 'VARCHAR', 'IP_ADDRESS':'VARCHAR', 'ANTENNA':'INTEGER', 'DISCOVER_TIME':'VARCHAR'}\""
   ]
  },
  {
   "cell_type": "code",
   "execution_count": 8,
   "id": "c93ce3ed",
   "metadata": {},
   "outputs": [],
   "source": [
    "#read all files with a name ending in \".csv\" in the folder \"dir\"\n",
    "#evi_dataset = \"C:/Users/User/Downloads/EVI/output.parquet/*.parquet\"\n",
    "#conn.sql('CREATE TABLE evi_data AS SELECT * FROM read_parquet(\\'' + evi_dataset + '\\')')\n",
    "#SELECT * FROM 'dir/*.csv';"
   ]
  },
  {
   "cell_type": "code",
   "execution_count": 9,
   "id": "baf9a712",
   "metadata": {},
   "outputs": [],
   "source": [
    "sql = 'CREATE TABLE evi_data AS SELECT * FROM read_csv(\\'' + evi_dataset + '\\', columns='+ dtype + ', skip=1)'"
   ]
  },
  {
   "cell_type": "code",
   "execution_count": 10,
   "id": "7a73bb35",
   "metadata": {},
   "outputs": [
    {
     "data": {
      "text/plain": [
       "\"CREATE TABLE evi_data AS SELECT * FROM read_csv('C:/Users/User/Downloads/EVI_data/*csv', columns={'ID': 'BIGINT', 'REG_NO':'VARCHAR', 'VEHICLE_CLASS':'INTEGER', 'VEHICLE_COLOR': 'VARCHAR',          'VEHICLE_MODEL': 'VARCHAR', 'IP_ADDRESS':'VARCHAR', 'ANTENNA':'INTEGER', 'DISCOVER_TIME':'VARCHAR'}, skip=1)\""
      ]
     },
     "execution_count": 10,
     "metadata": {},
     "output_type": "execute_result"
    }
   ],
   "source": [
    "sql"
   ]
  },
  {
   "cell_type": "code",
   "execution_count": 11,
   "id": "7fc5e28e",
   "metadata": {},
   "outputs": [
    {
     "data": {
      "application/vnd.jupyter.widget-view+json": {
       "model_id": "8f1b6c6eb5854434b1a44e36c9ffad71",
       "version_major": 2,
       "version_minor": 0
      },
      "text/plain": [
       "FloatProgress(value=0.0, layout=Layout(width='100%'), style=ProgressStyle(bar_color='black'))"
      ]
     },
     "metadata": {},
     "output_type": "display_data"
    }
   ],
   "source": [
    "conn.sql(sql)"
   ]
  },
  {
   "cell_type": "code",
   "execution_count": 12,
   "id": "306df452",
   "metadata": {},
   "outputs": [
    {
     "data": {
      "text/html": [
       "<div>\n",
       "<style scoped>\n",
       "    .dataframe tbody tr th:only-of-type {\n",
       "        vertical-align: middle;\n",
       "    }\n",
       "\n",
       "    .dataframe tbody tr th {\n",
       "        vertical-align: top;\n",
       "    }\n",
       "\n",
       "    .dataframe thead th {\n",
       "        text-align: right;\n",
       "    }\n",
       "</style>\n",
       "<table border=\"1\" class=\"dataframe\">\n",
       "  <thead>\n",
       "    <tr style=\"text-align: right;\">\n",
       "      <th></th>\n",
       "      <th>cid</th>\n",
       "      <th>name</th>\n",
       "      <th>type</th>\n",
       "      <th>notnull</th>\n",
       "      <th>dflt_value</th>\n",
       "      <th>pk</th>\n",
       "    </tr>\n",
       "  </thead>\n",
       "  <tbody>\n",
       "    <tr>\n",
       "      <th>0</th>\n",
       "      <td>0</td>\n",
       "      <td>ID</td>\n",
       "      <td>BIGINT</td>\n",
       "      <td>False</td>\n",
       "      <td>NaN</td>\n",
       "      <td>False</td>\n",
       "    </tr>\n",
       "    <tr>\n",
       "      <th>1</th>\n",
       "      <td>1</td>\n",
       "      <td>REG_NO</td>\n",
       "      <td>VARCHAR</td>\n",
       "      <td>False</td>\n",
       "      <td>NaN</td>\n",
       "      <td>False</td>\n",
       "    </tr>\n",
       "    <tr>\n",
       "      <th>2</th>\n",
       "      <td>2</td>\n",
       "      <td>VEHICLE_CLASS</td>\n",
       "      <td>INTEGER</td>\n",
       "      <td>False</td>\n",
       "      <td>NaN</td>\n",
       "      <td>False</td>\n",
       "    </tr>\n",
       "    <tr>\n",
       "      <th>3</th>\n",
       "      <td>3</td>\n",
       "      <td>VEHICLE_COLOR</td>\n",
       "      <td>VARCHAR</td>\n",
       "      <td>False</td>\n",
       "      <td>NaN</td>\n",
       "      <td>False</td>\n",
       "    </tr>\n",
       "    <tr>\n",
       "      <th>4</th>\n",
       "      <td>4</td>\n",
       "      <td>VEHICLE_MODEL</td>\n",
       "      <td>VARCHAR</td>\n",
       "      <td>False</td>\n",
       "      <td>NaN</td>\n",
       "      <td>False</td>\n",
       "    </tr>\n",
       "    <tr>\n",
       "      <th>5</th>\n",
       "      <td>5</td>\n",
       "      <td>IP_ADDRESS</td>\n",
       "      <td>VARCHAR</td>\n",
       "      <td>False</td>\n",
       "      <td>NaN</td>\n",
       "      <td>False</td>\n",
       "    </tr>\n",
       "    <tr>\n",
       "      <th>6</th>\n",
       "      <td>6</td>\n",
       "      <td>ANTENNA</td>\n",
       "      <td>INTEGER</td>\n",
       "      <td>False</td>\n",
       "      <td>NaN</td>\n",
       "      <td>False</td>\n",
       "    </tr>\n",
       "    <tr>\n",
       "      <th>7</th>\n",
       "      <td>7</td>\n",
       "      <td>DISCOVER_TIME</td>\n",
       "      <td>VARCHAR</td>\n",
       "      <td>False</td>\n",
       "      <td>NaN</td>\n",
       "      <td>False</td>\n",
       "    </tr>\n",
       "  </tbody>\n",
       "</table>\n",
       "</div>"
      ],
      "text/plain": [
       "   cid           name     type  notnull dflt_value     pk\n",
       "0    0             ID   BIGINT    False        NaN  False\n",
       "1    1         REG_NO  VARCHAR    False        NaN  False\n",
       "2    2  VEHICLE_CLASS  INTEGER    False        NaN  False\n",
       "3    3  VEHICLE_COLOR  VARCHAR    False        NaN  False\n",
       "4    4  VEHICLE_MODEL  VARCHAR    False        NaN  False\n",
       "5    5     IP_ADDRESS  VARCHAR    False        NaN  False\n",
       "6    6        ANTENNA  INTEGER    False        NaN  False\n",
       "7    7  DISCOVER_TIME  VARCHAR    False        NaN  False"
      ]
     },
     "execution_count": 12,
     "metadata": {},
     "output_type": "execute_result"
    }
   ],
   "source": [
    "conn.execute('PRAGMA table_info(evi_data)').df()"
   ]
  },
  {
   "cell_type": "code",
   "execution_count": 13,
   "id": "58a7a4f8",
   "metadata": {},
   "outputs": [
    {
     "data": {
      "text/html": [
       "<div>\n",
       "<style scoped>\n",
       "    .dataframe tbody tr th:only-of-type {\n",
       "        vertical-align: middle;\n",
       "    }\n",
       "\n",
       "    .dataframe tbody tr th {\n",
       "        vertical-align: top;\n",
       "    }\n",
       "\n",
       "    .dataframe thead th {\n",
       "        text-align: right;\n",
       "    }\n",
       "</style>\n",
       "<table border=\"1\" class=\"dataframe\">\n",
       "  <thead>\n",
       "    <tr style=\"text-align: right;\">\n",
       "      <th></th>\n",
       "      <th>count_star()</th>\n",
       "    </tr>\n",
       "  </thead>\n",
       "  <tbody>\n",
       "    <tr>\n",
       "      <th>0</th>\n",
       "      <td>45538658</td>\n",
       "    </tr>\n",
       "  </tbody>\n",
       "</table>\n",
       "</div>"
      ],
      "text/plain": [
       "   count_star()\n",
       "0      45538658"
      ]
     },
     "execution_count": 13,
     "metadata": {},
     "output_type": "execute_result"
    }
   ],
   "source": [
    "conn.execute('''  \n",
    "SELECT \n",
    "    COUNT(*)\n",
    "FROM\n",
    "   evi_data\n",
    "    \n",
    "''').df()"
   ]
  },
  {
   "cell_type": "code",
   "execution_count": 14,
   "id": "3af3893a",
   "metadata": {},
   "outputs": [],
   "source": [
    "evi_reader = '../' + config[\"data_load\"][\"reader_dataset_csv\"]\n",
    "conn.sql('CREATE TABLE reader AS SELECT * FROM read_csv_auto(\\'' + evi_reader + '\\')')"
   ]
  },
  {
   "cell_type": "code",
   "execution_count": 15,
   "id": "c7831753",
   "metadata": {},
   "outputs": [
    {
     "data": {
      "text/html": [
       "<div>\n",
       "<style scoped>\n",
       "    .dataframe tbody tr th:only-of-type {\n",
       "        vertical-align: middle;\n",
       "    }\n",
       "\n",
       "    .dataframe tbody tr th {\n",
       "        vertical-align: top;\n",
       "    }\n",
       "\n",
       "    .dataframe thead th {\n",
       "        text-align: right;\n",
       "    }\n",
       "</style>\n",
       "<table border=\"1\" class=\"dataframe\">\n",
       "  <thead>\n",
       "    <tr style=\"text-align: right;\">\n",
       "      <th></th>\n",
       "      <th>cid</th>\n",
       "      <th>name</th>\n",
       "      <th>type</th>\n",
       "      <th>notnull</th>\n",
       "      <th>dflt_value</th>\n",
       "      <th>pk</th>\n",
       "    </tr>\n",
       "  </thead>\n",
       "  <tbody>\n",
       "    <tr>\n",
       "      <th>0</th>\n",
       "      <td>0</td>\n",
       "      <td>NAME</td>\n",
       "      <td>VARCHAR</td>\n",
       "      <td>False</td>\n",
       "      <td>NaN</td>\n",
       "      <td>False</td>\n",
       "    </tr>\n",
       "    <tr>\n",
       "      <th>1</th>\n",
       "      <td>1</td>\n",
       "      <td>IP</td>\n",
       "      <td>VARCHAR</td>\n",
       "      <td>False</td>\n",
       "      <td>NaN</td>\n",
       "      <td>False</td>\n",
       "    </tr>\n",
       "    <tr>\n",
       "      <th>2</th>\n",
       "      <td>2</td>\n",
       "      <td>LONGITUDE</td>\n",
       "      <td>DOUBLE</td>\n",
       "      <td>False</td>\n",
       "      <td>NaN</td>\n",
       "      <td>False</td>\n",
       "    </tr>\n",
       "    <tr>\n",
       "      <th>3</th>\n",
       "      <td>3</td>\n",
       "      <td>LATITUDE</td>\n",
       "      <td>DOUBLE</td>\n",
       "      <td>False</td>\n",
       "      <td>NaN</td>\n",
       "      <td>False</td>\n",
       "    </tr>\n",
       "    <tr>\n",
       "      <th>4</th>\n",
       "      <td>4</td>\n",
       "      <td>ID</td>\n",
       "      <td>BIGINT</td>\n",
       "      <td>False</td>\n",
       "      <td>NaN</td>\n",
       "      <td>False</td>\n",
       "    </tr>\n",
       "  </tbody>\n",
       "</table>\n",
       "</div>"
      ],
      "text/plain": [
       "   cid       name     type  notnull dflt_value     pk\n",
       "0    0       NAME  VARCHAR    False        NaN  False\n",
       "1    1         IP  VARCHAR    False        NaN  False\n",
       "2    2  LONGITUDE   DOUBLE    False        NaN  False\n",
       "3    3   LATITUDE   DOUBLE    False        NaN  False\n",
       "4    4         ID   BIGINT    False        NaN  False"
      ]
     },
     "execution_count": 15,
     "metadata": {},
     "output_type": "execute_result"
    }
   ],
   "source": [
    "conn.execute('PRAGMA table_info(reader)').df()"
   ]
  },
  {
   "cell_type": "code",
   "execution_count": 16,
   "id": "f1d1d270",
   "metadata": {},
   "outputs": [
    {
     "data": {
      "text/html": [
       "<div>\n",
       "<style scoped>\n",
       "    .dataframe tbody tr th:only-of-type {\n",
       "        vertical-align: middle;\n",
       "    }\n",
       "\n",
       "    .dataframe tbody tr th {\n",
       "        vertical-align: top;\n",
       "    }\n",
       "\n",
       "    .dataframe thead th {\n",
       "        text-align: right;\n",
       "    }\n",
       "</style>\n",
       "<table border=\"1\" class=\"dataframe\">\n",
       "  <thead>\n",
       "    <tr style=\"text-align: right;\">\n",
       "      <th></th>\n",
       "      <th>count_star()</th>\n",
       "    </tr>\n",
       "  </thead>\n",
       "  <tbody>\n",
       "    <tr>\n",
       "      <th>0</th>\n",
       "      <td>38</td>\n",
       "    </tr>\n",
       "  </tbody>\n",
       "</table>\n",
       "</div>"
      ],
      "text/plain": [
       "   count_star()\n",
       "0            38"
      ]
     },
     "execution_count": 16,
     "metadata": {},
     "output_type": "execute_result"
    }
   ],
   "source": [
    "conn.execute('''  \n",
    "SELECT \n",
    "    COUNT(*)\n",
    "FROM\n",
    "   reader\n",
    "''').df()"
   ]
  },
  {
   "cell_type": "code",
   "execution_count": 17,
   "id": "e934da68",
   "metadata": {},
   "outputs": [],
   "source": [
    "evi_reader_pair = '../' + config[\"data_load\"][\"reader_pair_dataset_csv\"]\n",
    "conn.sql('CREATE VIEW reader_pair AS SELECT * FROM read_csv_auto(\\'' + evi_reader_pair + '\\')')"
   ]
  },
  {
   "cell_type": "code",
   "execution_count": 18,
   "id": "25b7f822",
   "metadata": {},
   "outputs": [
    {
     "data": {
      "text/html": [
       "<div>\n",
       "<style scoped>\n",
       "    .dataframe tbody tr th:only-of-type {\n",
       "        vertical-align: middle;\n",
       "    }\n",
       "\n",
       "    .dataframe tbody tr th {\n",
       "        vertical-align: top;\n",
       "    }\n",
       "\n",
       "    .dataframe thead th {\n",
       "        text-align: right;\n",
       "    }\n",
       "</style>\n",
       "<table border=\"1\" class=\"dataframe\">\n",
       "  <thead>\n",
       "    <tr style=\"text-align: right;\">\n",
       "      <th></th>\n",
       "      <th>cid</th>\n",
       "      <th>name</th>\n",
       "      <th>type</th>\n",
       "      <th>notnull</th>\n",
       "      <th>dflt_value</th>\n",
       "      <th>pk</th>\n",
       "    </tr>\n",
       "  </thead>\n",
       "  <tbody>\n",
       "    <tr>\n",
       "      <th>0</th>\n",
       "      <td>0</td>\n",
       "      <td>ID</td>\n",
       "      <td>BIGINT</td>\n",
       "      <td>False</td>\n",
       "      <td>NaN</td>\n",
       "      <td>False</td>\n",
       "    </tr>\n",
       "    <tr>\n",
       "      <th>1</th>\n",
       "      <td>1</td>\n",
       "      <td>READER1</td>\n",
       "      <td>BIGINT</td>\n",
       "      <td>False</td>\n",
       "      <td>NaN</td>\n",
       "      <td>False</td>\n",
       "    </tr>\n",
       "    <tr>\n",
       "      <th>2</th>\n",
       "      <td>2</td>\n",
       "      <td>READER2</td>\n",
       "      <td>BIGINT</td>\n",
       "      <td>False</td>\n",
       "      <td>NaN</td>\n",
       "      <td>False</td>\n",
       "    </tr>\n",
       "    <tr>\n",
       "      <th>3</th>\n",
       "      <td>3</td>\n",
       "      <td>PAIR_NAME</td>\n",
       "      <td>VARCHAR</td>\n",
       "      <td>False</td>\n",
       "      <td>NaN</td>\n",
       "      <td>False</td>\n",
       "    </tr>\n",
       "  </tbody>\n",
       "</table>\n",
       "</div>"
      ],
      "text/plain": [
       "   cid       name     type  notnull dflt_value     pk\n",
       "0    0         ID   BIGINT    False        NaN  False\n",
       "1    1    READER1   BIGINT    False        NaN  False\n",
       "2    2    READER2   BIGINT    False        NaN  False\n",
       "3    3  PAIR_NAME  VARCHAR    False        NaN  False"
      ]
     },
     "execution_count": 18,
     "metadata": {},
     "output_type": "execute_result"
    }
   ],
   "source": [
    "conn.execute('PRAGMA table_info(reader_pair)').df()"
   ]
  },
  {
   "cell_type": "code",
   "execution_count": 19,
   "id": "c6f069f4",
   "metadata": {},
   "outputs": [
    {
     "data": {
      "text/html": [
       "<div>\n",
       "<style scoped>\n",
       "    .dataframe tbody tr th:only-of-type {\n",
       "        vertical-align: middle;\n",
       "    }\n",
       "\n",
       "    .dataframe tbody tr th {\n",
       "        vertical-align: top;\n",
       "    }\n",
       "\n",
       "    .dataframe thead th {\n",
       "        text-align: right;\n",
       "    }\n",
       "</style>\n",
       "<table border=\"1\" class=\"dataframe\">\n",
       "  <thead>\n",
       "    <tr style=\"text-align: right;\">\n",
       "      <th></th>\n",
       "      <th>count_star()</th>\n",
       "    </tr>\n",
       "  </thead>\n",
       "  <tbody>\n",
       "    <tr>\n",
       "      <th>0</th>\n",
       "      <td>12</td>\n",
       "    </tr>\n",
       "  </tbody>\n",
       "</table>\n",
       "</div>"
      ],
      "text/plain": [
       "   count_star()\n",
       "0            12"
      ]
     },
     "execution_count": 19,
     "metadata": {},
     "output_type": "execute_result"
    }
   ],
   "source": [
    "conn.execute('''  \n",
    "SELECT \n",
    "    COUNT(*)\n",
    "FROM\n",
    "   reader_pair\n",
    "''').df()"
   ]
  },
  {
   "cell_type": "code",
   "execution_count": 20,
   "id": "ba625862",
   "metadata": {},
   "outputs": [
    {
     "data": {
      "text/html": [
       "<div>\n",
       "<style scoped>\n",
       "    .dataframe tbody tr th:only-of-type {\n",
       "        vertical-align: middle;\n",
       "    }\n",
       "\n",
       "    .dataframe tbody tr th {\n",
       "        vertical-align: top;\n",
       "    }\n",
       "\n",
       "    .dataframe thead th {\n",
       "        text-align: right;\n",
       "    }\n",
       "</style>\n",
       "<table border=\"1\" class=\"dataframe\">\n",
       "  <thead>\n",
       "    <tr style=\"text-align: right;\">\n",
       "      <th></th>\n",
       "      <th>name</th>\n",
       "    </tr>\n",
       "  </thead>\n",
       "  <tbody>\n",
       "    <tr>\n",
       "      <th>0</th>\n",
       "      <td>evi_data</td>\n",
       "    </tr>\n",
       "    <tr>\n",
       "      <th>1</th>\n",
       "      <td>reader</td>\n",
       "    </tr>\n",
       "    <tr>\n",
       "      <th>2</th>\n",
       "      <td>reader_pair</td>\n",
       "    </tr>\n",
       "  </tbody>\n",
       "</table>\n",
       "</div>"
      ],
      "text/plain": [
       "          name\n",
       "0     evi_data\n",
       "1       reader\n",
       "2  reader_pair"
      ]
     },
     "metadata": {},
     "output_type": "display_data"
    }
   ],
   "source": [
    "display(conn.execute('SHOW TABLES').df())"
   ]
  },
  {
   "cell_type": "markdown",
   "id": "91fe7751",
   "metadata": {},
   "source": [
    "## IP Address Checking"
   ]
  },
  {
   "cell_type": "code",
   "execution_count": 21,
   "id": "d855861d",
   "metadata": {},
   "outputs": [],
   "source": [
    "conn.sql('''  \n",
    "CREATE TABLE evi_ip AS\n",
    "SELECT DISTINCT\n",
    "    evi_data.IP_ADDRESS\n",
    "FROM\n",
    "   evi_data\n",
    "\n",
    "''')"
   ]
  },
  {
   "cell_type": "code",
   "execution_count": null,
   "id": "78415408",
   "metadata": {},
   "outputs": [],
   "source": [
    "conn.execute('''  \n",
    "SELECT \n",
    "    IP_ADDRESS\n",
    "FROM\n",
    "   evi_ip\n",
    "WHERE IP_ADDRESS NOT IN (SELECT IP from reader)\n",
    "\n",
    "''').df() "
   ]
  },
  {
   "cell_type": "markdown",
   "id": "bd4e078d",
   "metadata": {},
   "source": []
  },
  {
   "cell_type": "markdown",
   "id": "c5eb6cd2",
   "metadata": {},
   "source": [
    "## Reader ID Check"
   ]
  },
  {
   "cell_type": "code",
   "execution_count": null,
   "id": "a2814f50",
   "metadata": {},
   "outputs": [],
   "source": [
    "conn.execute('''  \n",
    "SELECT \n",
    "    *\n",
    "FROM\n",
    "   reader\n",
    "ORDER BY ID\n",
    "\n",
    "''').df() "
   ]
  },
  {
   "cell_type": "code",
   "execution_count": null,
   "id": "66d23d0a",
   "metadata": {},
   "outputs": [],
   "source": [
    "conn.execute('''  \n",
    "SELECT \n",
    "    *\n",
    "FROM\n",
    "   reader_pair\n",
    "ORDER BY ID\n",
    "\n",
    "''').df() "
   ]
  },
  {
   "cell_type": "code",
   "execution_count": null,
   "id": "66318091",
   "metadata": {},
   "outputs": [],
   "source": [
    "conn.execute('''  \n",
    "SELECT \n",
    "    READER1\n",
    "FROM\n",
    "   reader_pair\n",
    "UNION \n",
    "SELECT READER2 from reader_pair\n",
    "\n",
    "''').df() "
   ]
  },
  {
   "cell_type": "code",
   "execution_count": null,
   "id": "dbf7d3b0",
   "metadata": {},
   "outputs": [],
   "source": [
    "conn.execute('''  \n",
    "SELECT \n",
    "    *\n",
    "FROM\n",
    "   reader\n",
    "WHERE ID NOT IN (SELECT READER1 from reader_pair UNION SELECT READER2 from reader_pair)\n",
    "\n",
    "''').df() "
   ]
  },
  {
   "cell_type": "markdown",
   "id": "c04f0dc3",
   "metadata": {},
   "source": [
    "## String to Timestamp conversion"
   ]
  },
  {
   "cell_type": "code",
   "execution_count": 27,
   "id": "c3aed1dd",
   "metadata": {},
   "outputs": [
    {
     "data": {
      "application/vnd.jupyter.widget-view+json": {
       "model_id": "a4391d5cc48747d597e71adc1dcfd8f4",
       "version_major": 2,
       "version_minor": 0
      },
      "text/plain": [
       "FloatProgress(value=0.0, layout=Layout(width='100%'), style=ProgressStyle(bar_color='black'))"
      ]
     },
     "metadata": {},
     "output_type": "display_data"
    },
    {
     "data": {
      "text/html": [
       "<div>\n",
       "<style scoped>\n",
       "    .dataframe tbody tr th:only-of-type {\n",
       "        vertical-align: middle;\n",
       "    }\n",
       "\n",
       "    .dataframe tbody tr th {\n",
       "        vertical-align: top;\n",
       "    }\n",
       "\n",
       "    .dataframe thead th {\n",
       "        text-align: right;\n",
       "    }\n",
       "</style>\n",
       "<table border=\"1\" class=\"dataframe\">\n",
       "  <thead>\n",
       "    <tr style=\"text-align: right;\">\n",
       "      <th></th>\n",
       "      <th>substr(\"DISCOVER_TIME\", 1, 9)</th>\n",
       "      <th>substr(\"DISCOVER_TIME\", 10, 16)</th>\n",
       "      <th>substr(\"DISCOVER_TIME\", 10, 6)</th>\n",
       "      <th>substr(\"DISCOVER_TIME\", 29, 3)</th>\n",
       "      <th>DISCOVER_TIME</th>\n",
       "      <th>DISCOVER_TIMESTAMP</th>\n",
       "    </tr>\n",
       "  </thead>\n",
       "  <tbody>\n",
       "    <tr>\n",
       "      <th>0</th>\n",
       "      <td>30-SEP-22</td>\n",
       "      <td>11.59.59.167000</td>\n",
       "      <td>11.59</td>\n",
       "      <td>PM</td>\n",
       "      <td>2022-09-30 23:59:59.167</td>\n",
       "      <td>2022-09-30 23:59:00</td>\n",
       "    </tr>\n",
       "    <tr>\n",
       "      <th>1</th>\n",
       "      <td>30-SEP-22</td>\n",
       "      <td>11.59.57.867000</td>\n",
       "      <td>11.59</td>\n",
       "      <td>PM</td>\n",
       "      <td>2022-09-30 23:59:57.867</td>\n",
       "      <td>2022-09-30 23:59:00</td>\n",
       "    </tr>\n",
       "    <tr>\n",
       "      <th>2</th>\n",
       "      <td>30-SEP-22</td>\n",
       "      <td>11.59.56.363000</td>\n",
       "      <td>11.59</td>\n",
       "      <td>PM</td>\n",
       "      <td>2022-09-30 23:59:56.363</td>\n",
       "      <td>2022-09-30 23:59:00</td>\n",
       "    </tr>\n",
       "    <tr>\n",
       "      <th>3</th>\n",
       "      <td>30-SEP-22</td>\n",
       "      <td>11.59.55.728000</td>\n",
       "      <td>11.59</td>\n",
       "      <td>PM</td>\n",
       "      <td>2022-09-30 23:59:55.728</td>\n",
       "      <td>2022-09-30 23:59:00</td>\n",
       "    </tr>\n",
       "    <tr>\n",
       "      <th>4</th>\n",
       "      <td>30-SEP-22</td>\n",
       "      <td>11.59.54.964000</td>\n",
       "      <td>11.59</td>\n",
       "      <td>PM</td>\n",
       "      <td>2022-09-30 23:59:54.964</td>\n",
       "      <td>2022-09-30 23:59:00</td>\n",
       "    </tr>\n",
       "  </tbody>\n",
       "</table>\n",
       "</div>"
      ],
      "text/plain": [
       "  substr(\"DISCOVER_TIME\", 1, 9) substr(\"DISCOVER_TIME\", 10, 16)  \\\n",
       "0                     30-SEP-22                 11.59.59.167000   \n",
       "1                     30-SEP-22                 11.59.57.867000   \n",
       "2                     30-SEP-22                 11.59.56.363000   \n",
       "3                     30-SEP-22                 11.59.55.728000   \n",
       "4                     30-SEP-22                 11.59.54.964000   \n",
       "\n",
       "  substr(\"DISCOVER_TIME\", 10, 6) substr(\"DISCOVER_TIME\", 29, 3)  \\\n",
       "0                          11.59                             PM   \n",
       "1                          11.59                             PM   \n",
       "2                          11.59                             PM   \n",
       "3                          11.59                             PM   \n",
       "4                          11.59                             PM   \n",
       "\n",
       "            DISCOVER_TIME  DISCOVER_TIMESTAMP  \n",
       "0 2022-09-30 23:59:59.167 2022-09-30 23:59:00  \n",
       "1 2022-09-30 23:59:57.867 2022-09-30 23:59:00  \n",
       "2 2022-09-30 23:59:56.363 2022-09-30 23:59:00  \n",
       "3 2022-09-30 23:59:55.728 2022-09-30 23:59:00  \n",
       "4 2022-09-30 23:59:54.964 2022-09-30 23:59:00  "
      ]
     },
     "execution_count": 27,
     "metadata": {},
     "output_type": "execute_result"
    }
   ],
   "source": [
    "conn.execute('''  \n",
    "SELECT \n",
    "    SUBSTR(DISCOVER_TIME, 1, 9),\n",
    "    SUBSTR(DISCOVER_TIME, 10, 16),\n",
    "    SUBSTR(DISCOVER_TIME, 10, 6),\n",
    "    SUBSTR(DISCOVER_TIME, 29, 3),\n",
    "    \n",
    "    STRPTIME(SUBSTR(DISCOVER_TIME, 1, 9) || SUBSTR(DISCOVER_TIME, 10, 16) || \n",
    "    SUBSTR(DISCOVER_TIME, 29, 3), '%d-%b-%y %H.%M.%S.%f %p') as DISCOVER_TIME,\n",
    "    \n",
    "    STRPTIME(SUBSTR(DISCOVER_TIME, 1, 9) || SUBSTR(DISCOVER_TIME, 10, 6) || \n",
    "    SUBSTR(DISCOVER_TIME, 29, 3), '%d-%b-%y %H.%M %p') as DISCOVER_TIMESTAMP \n",
    "FROM\n",
    "    evi_data\n",
    "ORDER BY discover_time DESC\n",
    "LIMIT 5\n",
    "''').df()"
   ]
  },
  {
   "cell_type": "markdown",
   "id": "d4aa038d",
   "metadata": {},
   "source": [
    "## Inner join among evi_data, reader, and reader_pair table"
   ]
  },
  {
   "cell_type": "code",
   "execution_count": 29,
   "id": "cbcc356c",
   "metadata": {},
   "outputs": [
    {
     "data": {
      "text/html": [
       "<div>\n",
       "<style scoped>\n",
       "    .dataframe tbody tr th:only-of-type {\n",
       "        vertical-align: middle;\n",
       "    }\n",
       "\n",
       "    .dataframe tbody tr th {\n",
       "        vertical-align: top;\n",
       "    }\n",
       "\n",
       "    .dataframe thead th {\n",
       "        text-align: right;\n",
       "    }\n",
       "</style>\n",
       "<table border=\"1\" class=\"dataframe\">\n",
       "  <thead>\n",
       "    <tr style=\"text-align: right;\">\n",
       "      <th></th>\n",
       "      <th>count(\"REG_NO\")</th>\n",
       "    </tr>\n",
       "  </thead>\n",
       "  <tbody>\n",
       "    <tr>\n",
       "      <th>0</th>\n",
       "      <td>45538658</td>\n",
       "    </tr>\n",
       "  </tbody>\n",
       "</table>\n",
       "</div>"
      ],
      "text/plain": [
       "   count(\"REG_NO\")\n",
       "0         45538658"
      ]
     },
     "execution_count": 29,
     "metadata": {},
     "output_type": "execute_result"
    }
   ],
   "source": [
    "conn.execute('''  \n",
    "SELECT \n",
    "    COUNT(REG_NO)\n",
    "FROM\n",
    "   evi_data\n",
    "    \n",
    "''').df()"
   ]
  },
  {
   "cell_type": "code",
   "execution_count": 30,
   "id": "3ecf08cb",
   "metadata": {},
   "outputs": [],
   "source": [
    "conn.sql('''  \n",
    "CREATE TABLE reader_table AS\n",
    "SELECT \n",
    "    reader.id,\n",
    "    reader.ip,\n",
    "    reader.longitude,\n",
    "    reader.latitude,\n",
    "    pair.reader1,\n",
    "    pair.reader2,\n",
    "    pair.pair_name,\n",
    "    reader.name,\n",
    "FROM\n",
    "   reader,\n",
    "   (SELECT\n",
    "    reader_pair.reader1 reader1,\n",
    "    reader_pair.reader2 reader2,\n",
    "    reader_pair.pair_name\n",
    "    FROM\n",
    "    reader_pair) pair\n",
    "WHERE \n",
    "    (pair.reader1 = reader.id \n",
    "    OR pair.reader2 = reader.id)    \n",
    "''')"
   ]
  },
  {
   "cell_type": "code",
   "execution_count": 31,
   "id": "4e674c1b",
   "metadata": {},
   "outputs": [
    {
     "data": {
      "text/html": [
       "<div>\n",
       "<style scoped>\n",
       "    .dataframe tbody tr th:only-of-type {\n",
       "        vertical-align: middle;\n",
       "    }\n",
       "\n",
       "    .dataframe tbody tr th {\n",
       "        vertical-align: top;\n",
       "    }\n",
       "\n",
       "    .dataframe thead th {\n",
       "        text-align: right;\n",
       "    }\n",
       "</style>\n",
       "<table border=\"1\" class=\"dataframe\">\n",
       "  <thead>\n",
       "    <tr style=\"text-align: right;\">\n",
       "      <th></th>\n",
       "      <th>count_star()</th>\n",
       "    </tr>\n",
       "  </thead>\n",
       "  <tbody>\n",
       "    <tr>\n",
       "      <th>0</th>\n",
       "      <td>24</td>\n",
       "    </tr>\n",
       "  </tbody>\n",
       "</table>\n",
       "</div>"
      ],
      "text/plain": [
       "   count_star()\n",
       "0            24"
      ]
     },
     "execution_count": 31,
     "metadata": {},
     "output_type": "execute_result"
    }
   ],
   "source": [
    "conn.execute('''  \n",
    "SELECT \n",
    "    count(*)\n",
    "FROM\n",
    "   reader_table\n",
    "    \n",
    "''').df()"
   ]
  },
  {
   "cell_type": "code",
   "execution_count": 32,
   "id": "42d01ec0",
   "metadata": {},
   "outputs": [
    {
     "data": {
      "text/html": [
       "<div>\n",
       "<style scoped>\n",
       "    .dataframe tbody tr th:only-of-type {\n",
       "        vertical-align: middle;\n",
       "    }\n",
       "\n",
       "    .dataframe tbody tr th {\n",
       "        vertical-align: top;\n",
       "    }\n",
       "\n",
       "    .dataframe thead th {\n",
       "        text-align: right;\n",
       "    }\n",
       "</style>\n",
       "<table border=\"1\" class=\"dataframe\">\n",
       "  <thead>\n",
       "    <tr style=\"text-align: right;\">\n",
       "      <th></th>\n",
       "      <th>cid</th>\n",
       "      <th>name</th>\n",
       "      <th>type</th>\n",
       "      <th>notnull</th>\n",
       "      <th>dflt_value</th>\n",
       "      <th>pk</th>\n",
       "    </tr>\n",
       "  </thead>\n",
       "  <tbody>\n",
       "    <tr>\n",
       "      <th>0</th>\n",
       "      <td>0</td>\n",
       "      <td>ID</td>\n",
       "      <td>BIGINT</td>\n",
       "      <td>False</td>\n",
       "      <td>NaN</td>\n",
       "      <td>False</td>\n",
       "    </tr>\n",
       "    <tr>\n",
       "      <th>1</th>\n",
       "      <td>1</td>\n",
       "      <td>IP</td>\n",
       "      <td>VARCHAR</td>\n",
       "      <td>False</td>\n",
       "      <td>NaN</td>\n",
       "      <td>False</td>\n",
       "    </tr>\n",
       "    <tr>\n",
       "      <th>2</th>\n",
       "      <td>2</td>\n",
       "      <td>LONGITUDE</td>\n",
       "      <td>DOUBLE</td>\n",
       "      <td>False</td>\n",
       "      <td>NaN</td>\n",
       "      <td>False</td>\n",
       "    </tr>\n",
       "    <tr>\n",
       "      <th>3</th>\n",
       "      <td>3</td>\n",
       "      <td>LATITUDE</td>\n",
       "      <td>DOUBLE</td>\n",
       "      <td>False</td>\n",
       "      <td>NaN</td>\n",
       "      <td>False</td>\n",
       "    </tr>\n",
       "    <tr>\n",
       "      <th>4</th>\n",
       "      <td>4</td>\n",
       "      <td>reader1</td>\n",
       "      <td>BIGINT</td>\n",
       "      <td>False</td>\n",
       "      <td>NaN</td>\n",
       "      <td>False</td>\n",
       "    </tr>\n",
       "    <tr>\n",
       "      <th>5</th>\n",
       "      <td>5</td>\n",
       "      <td>reader2</td>\n",
       "      <td>BIGINT</td>\n",
       "      <td>False</td>\n",
       "      <td>NaN</td>\n",
       "      <td>False</td>\n",
       "    </tr>\n",
       "    <tr>\n",
       "      <th>6</th>\n",
       "      <td>6</td>\n",
       "      <td>PAIR_NAME</td>\n",
       "      <td>VARCHAR</td>\n",
       "      <td>False</td>\n",
       "      <td>NaN</td>\n",
       "      <td>False</td>\n",
       "    </tr>\n",
       "    <tr>\n",
       "      <th>7</th>\n",
       "      <td>7</td>\n",
       "      <td>NAME</td>\n",
       "      <td>VARCHAR</td>\n",
       "      <td>False</td>\n",
       "      <td>NaN</td>\n",
       "      <td>False</td>\n",
       "    </tr>\n",
       "  </tbody>\n",
       "</table>\n",
       "</div>"
      ],
      "text/plain": [
       "   cid       name     type  notnull dflt_value     pk\n",
       "0    0         ID   BIGINT    False        NaN  False\n",
       "1    1         IP  VARCHAR    False        NaN  False\n",
       "2    2  LONGITUDE   DOUBLE    False        NaN  False\n",
       "3    3   LATITUDE   DOUBLE    False        NaN  False\n",
       "4    4    reader1   BIGINT    False        NaN  False\n",
       "5    5    reader2   BIGINT    False        NaN  False\n",
       "6    6  PAIR_NAME  VARCHAR    False        NaN  False\n",
       "7    7       NAME  VARCHAR    False        NaN  False"
      ]
     },
     "execution_count": 32,
     "metadata": {},
     "output_type": "execute_result"
    }
   ],
   "source": [
    "conn.execute('PRAGMA table_info(reader_table)').df()"
   ]
  },
  {
   "cell_type": "code",
   "execution_count": 33,
   "id": "e113417a",
   "metadata": {},
   "outputs": [
    {
     "data": {
      "application/vnd.jupyter.widget-view+json": {
       "model_id": "871fdedd9a1e43fc91e737bd8e4ea750",
       "version_major": 2,
       "version_minor": 0
      },
      "text/plain": [
       "FloatProgress(value=0.0, layout=Layout(width='100%'), style=ProgressStyle(bar_color='black'))"
      ]
     },
     "metadata": {},
     "output_type": "display_data"
    }
   ],
   "source": [
    "conn.sql('''  \n",
    "CREATE TABLE data_table AS\n",
    "SELECT \n",
    "    evi_data.reg_no,\n",
    "    evi_data.antenna,\n",
    "    STRPTIME(SUBSTR(DISCOVER_TIME, 1, 9) || SUBSTR(DISCOVER_TIME, 10, 16) || \n",
    "    SUBSTR(DISCOVER_TIME, 29, 3), '%d-%b-%y %H.%M.%S.%f %p') as DISCOVER_TIME,  \n",
    "    STRPTIME(SUBSTR(DISCOVER_TIME, 1, 9) || SUBSTR(DISCOVER_TIME, 10, 9) || \n",
    "    SUBSTR(DISCOVER_TIME, 29, 3), '%d-%b-%y %H.%M.%S %p') as DISCOVER_TIMESTAMP,\n",
    "    evi_data.IP_ADDRESS,\n",
    "    reader_table.id,\n",
    "    reader_table.longitude,\n",
    "    reader_table.latitude,\n",
    "    reader_table.pair_name,\n",
    "    reader_table.name,\n",
    "    reader_table.reader1,\n",
    "    reader_table.reader2\n",
    "FROM evi_data\n",
    "INNER JOIN reader_table\n",
    "ON evi_data.IP_ADDRESS = reader_table.IP\n",
    "''')"
   ]
  },
  {
   "cell_type": "code",
   "execution_count": 34,
   "id": "282b1270",
   "metadata": {},
   "outputs": [
    {
     "data": {
      "text/html": [
       "<div>\n",
       "<style scoped>\n",
       "    .dataframe tbody tr th:only-of-type {\n",
       "        vertical-align: middle;\n",
       "    }\n",
       "\n",
       "    .dataframe tbody tr th {\n",
       "        vertical-align: top;\n",
       "    }\n",
       "\n",
       "    .dataframe thead th {\n",
       "        text-align: right;\n",
       "    }\n",
       "</style>\n",
       "<table border=\"1\" class=\"dataframe\">\n",
       "  <thead>\n",
       "    <tr style=\"text-align: right;\">\n",
       "      <th></th>\n",
       "      <th>count_star()</th>\n",
       "    </tr>\n",
       "  </thead>\n",
       "  <tbody>\n",
       "    <tr>\n",
       "      <th>0</th>\n",
       "      <td>35155317</td>\n",
       "    </tr>\n",
       "  </tbody>\n",
       "</table>\n",
       "</div>"
      ],
      "text/plain": [
       "   count_star()\n",
       "0      35155317"
      ]
     },
     "execution_count": 34,
     "metadata": {},
     "output_type": "execute_result"
    }
   ],
   "source": [
    "conn.execute('''  \n",
    "SELECT \n",
    "    COUNT(*)\n",
    "FROM\n",
    "   data_table\n",
    "    \n",
    "''').df()"
   ]
  },
  {
   "cell_type": "code",
   "execution_count": 35,
   "id": "b91bc07d",
   "metadata": {},
   "outputs": [
    {
     "data": {
      "text/html": [
       "<div>\n",
       "<style scoped>\n",
       "    .dataframe tbody tr th:only-of-type {\n",
       "        vertical-align: middle;\n",
       "    }\n",
       "\n",
       "    .dataframe tbody tr th {\n",
       "        vertical-align: top;\n",
       "    }\n",
       "\n",
       "    .dataframe thead th {\n",
       "        text-align: right;\n",
       "    }\n",
       "</style>\n",
       "<table border=\"1\" class=\"dataframe\">\n",
       "  <thead>\n",
       "    <tr style=\"text-align: right;\">\n",
       "      <th></th>\n",
       "      <th>cid</th>\n",
       "      <th>name</th>\n",
       "      <th>type</th>\n",
       "      <th>notnull</th>\n",
       "      <th>dflt_value</th>\n",
       "      <th>pk</th>\n",
       "    </tr>\n",
       "  </thead>\n",
       "  <tbody>\n",
       "    <tr>\n",
       "      <th>0</th>\n",
       "      <td>0</td>\n",
       "      <td>REG_NO</td>\n",
       "      <td>VARCHAR</td>\n",
       "      <td>False</td>\n",
       "      <td>NaN</td>\n",
       "      <td>False</td>\n",
       "    </tr>\n",
       "    <tr>\n",
       "      <th>1</th>\n",
       "      <td>1</td>\n",
       "      <td>ANTENNA</td>\n",
       "      <td>INTEGER</td>\n",
       "      <td>False</td>\n",
       "      <td>NaN</td>\n",
       "      <td>False</td>\n",
       "    </tr>\n",
       "    <tr>\n",
       "      <th>2</th>\n",
       "      <td>2</td>\n",
       "      <td>DISCOVER_TIME</td>\n",
       "      <td>TIMESTAMP</td>\n",
       "      <td>False</td>\n",
       "      <td>NaN</td>\n",
       "      <td>False</td>\n",
       "    </tr>\n",
       "    <tr>\n",
       "      <th>3</th>\n",
       "      <td>3</td>\n",
       "      <td>DISCOVER_TIMESTAMP</td>\n",
       "      <td>TIMESTAMP</td>\n",
       "      <td>False</td>\n",
       "      <td>NaN</td>\n",
       "      <td>False</td>\n",
       "    </tr>\n",
       "    <tr>\n",
       "      <th>4</th>\n",
       "      <td>4</td>\n",
       "      <td>IP_ADDRESS</td>\n",
       "      <td>VARCHAR</td>\n",
       "      <td>False</td>\n",
       "      <td>NaN</td>\n",
       "      <td>False</td>\n",
       "    </tr>\n",
       "    <tr>\n",
       "      <th>5</th>\n",
       "      <td>5</td>\n",
       "      <td>ID</td>\n",
       "      <td>BIGINT</td>\n",
       "      <td>False</td>\n",
       "      <td>NaN</td>\n",
       "      <td>False</td>\n",
       "    </tr>\n",
       "    <tr>\n",
       "      <th>6</th>\n",
       "      <td>6</td>\n",
       "      <td>LONGITUDE</td>\n",
       "      <td>DOUBLE</td>\n",
       "      <td>False</td>\n",
       "      <td>NaN</td>\n",
       "      <td>False</td>\n",
       "    </tr>\n",
       "    <tr>\n",
       "      <th>7</th>\n",
       "      <td>7</td>\n",
       "      <td>LATITUDE</td>\n",
       "      <td>DOUBLE</td>\n",
       "      <td>False</td>\n",
       "      <td>NaN</td>\n",
       "      <td>False</td>\n",
       "    </tr>\n",
       "    <tr>\n",
       "      <th>8</th>\n",
       "      <td>8</td>\n",
       "      <td>PAIR_NAME</td>\n",
       "      <td>VARCHAR</td>\n",
       "      <td>False</td>\n",
       "      <td>NaN</td>\n",
       "      <td>False</td>\n",
       "    </tr>\n",
       "    <tr>\n",
       "      <th>9</th>\n",
       "      <td>9</td>\n",
       "      <td>NAME</td>\n",
       "      <td>VARCHAR</td>\n",
       "      <td>False</td>\n",
       "      <td>NaN</td>\n",
       "      <td>False</td>\n",
       "    </tr>\n",
       "    <tr>\n",
       "      <th>10</th>\n",
       "      <td>10</td>\n",
       "      <td>reader1</td>\n",
       "      <td>BIGINT</td>\n",
       "      <td>False</td>\n",
       "      <td>NaN</td>\n",
       "      <td>False</td>\n",
       "    </tr>\n",
       "    <tr>\n",
       "      <th>11</th>\n",
       "      <td>11</td>\n",
       "      <td>reader2</td>\n",
       "      <td>BIGINT</td>\n",
       "      <td>False</td>\n",
       "      <td>NaN</td>\n",
       "      <td>False</td>\n",
       "    </tr>\n",
       "  </tbody>\n",
       "</table>\n",
       "</div>"
      ],
      "text/plain": [
       "    cid                name       type  notnull dflt_value     pk\n",
       "0     0              REG_NO    VARCHAR    False        NaN  False\n",
       "1     1             ANTENNA    INTEGER    False        NaN  False\n",
       "2     2       DISCOVER_TIME  TIMESTAMP    False        NaN  False\n",
       "3     3  DISCOVER_TIMESTAMP  TIMESTAMP    False        NaN  False\n",
       "4     4          IP_ADDRESS    VARCHAR    False        NaN  False\n",
       "5     5                  ID     BIGINT    False        NaN  False\n",
       "6     6           LONGITUDE     DOUBLE    False        NaN  False\n",
       "7     7            LATITUDE     DOUBLE    False        NaN  False\n",
       "8     8           PAIR_NAME    VARCHAR    False        NaN  False\n",
       "9     9                NAME    VARCHAR    False        NaN  False\n",
       "10   10             reader1     BIGINT    False        NaN  False\n",
       "11   11             reader2     BIGINT    False        NaN  False"
      ]
     },
     "execution_count": 35,
     "metadata": {},
     "output_type": "execute_result"
    }
   ],
   "source": [
    "conn.execute('PRAGMA table_info(data_table)').df()"
   ]
  },
  {
   "cell_type": "markdown",
   "id": "35d0a440",
   "metadata": {},
   "source": [
    "## Categorical Value Check"
   ]
  },
  {
   "cell_type": "code",
   "execution_count": null,
   "id": "8336b829",
   "metadata": {},
   "outputs": [],
   "source": [
    "conn.execute('''  \n",
    "SELECT \n",
    "    NAME,\n",
    "    COUNT(NAME) As Values\n",
    "FROM\n",
    "   data_table\n",
    "GROUP BY NAME\n",
    "ORDER BY NAME\n",
    "''').df()"
   ]
  },
  {
   "cell_type": "code",
   "execution_count": 37,
   "id": "b9aa7bbc",
   "metadata": {},
   "outputs": [
    {
     "data": {
      "application/vnd.jupyter.widget-view+json": {
       "model_id": "605c8374e17c42cc897f994402d38056",
       "version_major": 2,
       "version_minor": 0
      },
      "text/plain": [
       "FloatProgress(value=0.0, layout=Layout(width='100%'), style=ProgressStyle(bar_color='black'))"
      ]
     },
     "metadata": {},
     "output_type": "display_data"
    }
   ],
   "source": [
    "conn.sql('UPDATE data_table SET NAME = \\'To Notun Baazar New\\' WHERE NAME=\\'To Natun Bazar New\\'')"
   ]
  },
  {
   "cell_type": "code",
   "execution_count": null,
   "id": "c8640481",
   "metadata": {},
   "outputs": [],
   "source": [
    "conn.execute('''  \n",
    "SELECT \n",
    "    NAME,\n",
    "    COUNT(NAME) As Values\n",
    "FROM\n",
    "   data_table\n",
    "GROUP BY NAME\n",
    "    \n",
    "''').df()"
   ]
  },
  {
   "cell_type": "code",
   "execution_count": null,
   "id": "b6e16b52",
   "metadata": {},
   "outputs": [],
   "source": [
    "conn.execute('''  \n",
    "SELECT \n",
    "    PAIR_NAME,\n",
    "    COUNT(PAIR_NAME) As Values\n",
    "FROM\n",
    "   data_table\n",
    "GROUP BY PAIR_NAME\n",
    "ORDER BY PAIR_NAME\n",
    "''').df()"
   ]
  },
  {
   "cell_type": "markdown",
   "id": "3a05a617",
   "metadata": {},
   "source": [
    "## New Features (Year, Month, Day, etc.)"
   ]
  },
  {
   "cell_type": "code",
   "execution_count": 40,
   "id": "75bbf0ad",
   "metadata": {},
   "outputs": [
    {
     "data": {
      "application/vnd.jupyter.widget-view+json": {
       "model_id": "5937a92603ae4bea8594f1fd3bc52091",
       "version_major": 2,
       "version_minor": 0
      },
      "text/plain": [
       "FloatProgress(value=0.0, layout=Layout(width='100%'), style=ProgressStyle(bar_color='black'))"
      ]
     },
     "metadata": {},
     "output_type": "display_data"
    }
   ],
   "source": [
    "conn.sql('''\n",
    "CREATE TABLE clean_join_data AS\n",
    "SELECT \n",
    "    ID,\n",
    "    REG_NO,\n",
    "    ANTENNA,\n",
    "    DISCOVER_TIME,\n",
    "    DISCOVER_TIMESTAMP,\n",
    "    YEAR(DISCOVER_TIMESTAMP) as DISCOVER_YEAR, \n",
    "    MONTH(DISCOVER_TIMESTAMP) as DISCOVER_MONTH,\n",
    "    DAY(DISCOVER_TIMESTAMP) as DISCOVER_DAY, \n",
    "    HOUR(DISCOVER_TIMESTAMP) as DISCOVER_HOUR,\n",
    "    MINUTE(DISCOVER_TIMESTAMP) as DISCOVER_MINUTE,\n",
    "    IP_ADDRESS,\n",
    "    LATITUDE,\n",
    "    LONGITUDE,\n",
    "    PAIR_NAME,\n",
    "    NAME\n",
    "FROM\n",
    "   data_table\n",
    "''')"
   ]
  },
  {
   "cell_type": "code",
   "execution_count": 41,
   "id": "42517476",
   "metadata": {},
   "outputs": [
    {
     "data": {
      "text/html": [
       "<div>\n",
       "<style scoped>\n",
       "    .dataframe tbody tr th:only-of-type {\n",
       "        vertical-align: middle;\n",
       "    }\n",
       "\n",
       "    .dataframe tbody tr th {\n",
       "        vertical-align: top;\n",
       "    }\n",
       "\n",
       "    .dataframe thead th {\n",
       "        text-align: right;\n",
       "    }\n",
       "</style>\n",
       "<table border=\"1\" class=\"dataframe\">\n",
       "  <thead>\n",
       "    <tr style=\"text-align: right;\">\n",
       "      <th></th>\n",
       "      <th>count_star()</th>\n",
       "    </tr>\n",
       "  </thead>\n",
       "  <tbody>\n",
       "    <tr>\n",
       "      <th>0</th>\n",
       "      <td>35155317</td>\n",
       "    </tr>\n",
       "  </tbody>\n",
       "</table>\n",
       "</div>"
      ],
      "text/plain": [
       "   count_star()\n",
       "0      35155317"
      ]
     },
     "execution_count": 41,
     "metadata": {},
     "output_type": "execute_result"
    }
   ],
   "source": [
    "conn.execute('''  \n",
    "SELECT \n",
    "    COUNT(*)\n",
    "FROM\n",
    "   clean_join_data\n",
    "    \n",
    "''').df()"
   ]
  },
  {
   "cell_type": "markdown",
   "id": "089aaf6d",
   "metadata": {},
   "source": [
    "## Save Clean Joined Data as parquet format"
   ]
  },
  {
   "cell_type": "code",
   "execution_count": 42,
   "id": "fb8fc28f",
   "metadata": {},
   "outputs": [
    {
     "name": "stdout",
     "output_type": "stream",
     "text": [
      "../data/processed/clean_join_data_parquet\n"
     ]
    }
   ],
   "source": [
    "parquet_file = '../' + config[\"featurize\"][\"clean_joined_data\"]\n",
    "print(parquet_file)"
   ]
  },
  {
   "cell_type": "code",
   "execution_count": 43,
   "id": "116635f7",
   "metadata": {},
   "outputs": [
    {
     "data": {
      "application/vnd.jupyter.widget-view+json": {
       "model_id": "643330e376424d568e572eeec01a6e97",
       "version_major": 2,
       "version_minor": 0
      },
      "text/plain": [
       "FloatProgress(value=0.0, layout=Layout(width='100%'), style=ProgressStyle(bar_color='black'))"
      ]
     },
     "metadata": {},
     "output_type": "display_data"
    }
   ],
   "source": [
    "conn.sql('COPY clean_join_data TO \\'' + parquet_file + '\\'(FORMAT PARQUET)')"
   ]
  },
  {
   "cell_type": "code",
   "execution_count": null,
   "id": "c97c8ad7",
   "metadata": {},
   "outputs": [],
   "source": []
  }
 ],
 "metadata": {
  "kernelspec": {
   "display_name": "clean_data_env",
   "language": "python",
   "name": "clean_data_env"
  },
  "language_info": {
   "codemirror_mode": {
    "name": "ipython",
    "version": 3
   },
   "file_extension": ".py",
   "mimetype": "text/x-python",
   "name": "python",
   "nbconvert_exporter": "python",
   "pygments_lexer": "ipython3",
   "version": "3.9.13"
  },
  "toc": {
   "base_numbering": 1,
   "nav_menu": {},
   "number_sections": true,
   "sideBar": true,
   "skip_h1_title": false,
   "title_cell": "Table of Contents",
   "title_sidebar": "Contents",
   "toc_cell": false,
   "toc_position": {
    "height": "calc(100% - 180px)",
    "left": "10px",
    "top": "150px",
    "width": "271.261px"
   },
   "toc_section_display": true,
   "toc_window_display": false
  }
 },
 "nbformat": 4,
 "nbformat_minor": 5
}
