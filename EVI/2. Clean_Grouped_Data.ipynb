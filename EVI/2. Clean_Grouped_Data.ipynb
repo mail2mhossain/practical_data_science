{
 "cells": [
  {
   "cell_type": "markdown",
   "id": "c0f43579",
   "metadata": {},
   "source": [
    "# Clean Data As csv"
   ]
  },
  {
   "cell_type": "markdown",
   "id": "5725106d",
   "metadata": {},
   "source": [
    "## Load Libraries"
   ]
  },
  {
   "cell_type": "code",
   "execution_count": 1,
   "id": "584a65e1",
   "metadata": {},
   "outputs": [],
   "source": [
    "import os\n",
    "import pandas as pd\n",
    "import dask.dataframe as dd\n",
    "import numpy as np\n",
    "import seaborn as sns\n",
    "import sidetable as stb\n",
    "import pprint\n",
    "import yaml"
   ]
  },
  {
   "cell_type": "markdown",
   "id": "93978a0f",
   "metadata": {},
   "source": [
    "## Read config"
   ]
  },
  {
   "cell_type": "code",
   "execution_count": 2,
   "id": "80d9d13f",
   "metadata": {},
   "outputs": [],
   "source": [
    "with open('../params.yaml') as conf_file:\n",
    "    config = yaml.safe_load(conf_file)"
   ]
  },
  {
   "cell_type": "code",
   "execution_count": 3,
   "id": "0818ba24",
   "metadata": {},
   "outputs": [
    {
     "name": "stdout",
     "output_type": "stream",
     "text": [
      "'data/processed/clean_join_data_parquet'\n"
     ]
    }
   ],
   "source": [
    "pprint.pprint(config[\"featurize\"][\"clean_joined_data\"])"
   ]
  },
  {
   "cell_type": "code",
   "execution_count": 4,
   "id": "7b2b9daa",
   "metadata": {},
   "outputs": [
    {
     "name": "stdout",
     "output_type": "stream",
     "text": [
      "'data/processed/clean_grouped_data.csv'\n"
     ]
    }
   ],
   "source": [
    "pprint.pprint(config[\"featurize\"][\"clean_data\"])"
   ]
  },
  {
   "cell_type": "markdown",
   "id": "5a4b06ef",
   "metadata": {},
   "source": [
    "## Load parquet in DuckDB"
   ]
  },
  {
   "cell_type": "code",
   "execution_count": 5,
   "id": "55b582af",
   "metadata": {},
   "outputs": [],
   "source": [
    "import duckdb  \n",
    "conn = duckdb.connect(':memory:')"
   ]
  },
  {
   "cell_type": "code",
   "execution_count": 6,
   "id": "57153d38",
   "metadata": {},
   "outputs": [],
   "source": [
    "parquet_file = '../' + config[\"featurize\"][\"clean_joined_data\"]\n",
    "conn.sql('CREATE VIEW evi_data AS SELECT * FROM read_parquet(\\'' + parquet_file + '\\')')"
   ]
  },
  {
   "cell_type": "code",
   "execution_count": 7,
   "id": "94d32570",
   "metadata": {},
   "outputs": [
    {
     "data": {
      "text/html": [
       "<div>\n",
       "<style scoped>\n",
       "    .dataframe tbody tr th:only-of-type {\n",
       "        vertical-align: middle;\n",
       "    }\n",
       "\n",
       "    .dataframe tbody tr th {\n",
       "        vertical-align: top;\n",
       "    }\n",
       "\n",
       "    .dataframe thead th {\n",
       "        text-align: right;\n",
       "    }\n",
       "</style>\n",
       "<table border=\"1\" class=\"dataframe\">\n",
       "  <thead>\n",
       "    <tr style=\"text-align: right;\">\n",
       "      <th></th>\n",
       "      <th>ID</th>\n",
       "      <th>REG_NO</th>\n",
       "      <th>ANTENNA</th>\n",
       "      <th>DISCOVER_TIME</th>\n",
       "      <th>DISCOVER_TIMESTAMP</th>\n",
       "      <th>DISCOVER_YEAR</th>\n",
       "      <th>DISCOVER_MONTH</th>\n",
       "      <th>DISCOVER_DAY</th>\n",
       "      <th>DISCOVER_HOUR</th>\n",
       "      <th>DISCOVER_MINUTE</th>\n",
       "      <th>IP_ADDRESS</th>\n",
       "      <th>LATITUDE</th>\n",
       "      <th>LONGITUDE</th>\n",
       "      <th>PAIR_NAME</th>\n",
       "      <th>NAME</th>\n",
       "    </tr>\n",
       "  </thead>\n",
       "  <tbody>\n",
       "    <tr>\n",
       "      <th>0</th>\n",
       "      <td>483</td>\n",
       "      <td>F400B414A5F8EDECF7A05BDC2E524D13</td>\n",
       "      <td>2</td>\n",
       "      <td>2022-12-21 00:59:59.023</td>\n",
       "      <td>2022-12-21 00:59:00</td>\n",
       "      <td>2022</td>\n",
       "      <td>12</td>\n",
       "      <td>21</td>\n",
       "      <td>0</td>\n",
       "      <td>59</td>\n",
       "      <td>192.168.250.27</td>\n",
       "      <td>23.809342</td>\n",
       "      <td>90.421319</td>\n",
       "      <td>Kuril Bishawroad</td>\n",
       "      <td>To Bishaw Road New</td>\n",
       "    </tr>\n",
       "    <tr>\n",
       "      <th>1</th>\n",
       "      <td>482</td>\n",
       "      <td>A0C276312AF5E0F857DDA2001D2D879B</td>\n",
       "      <td>3</td>\n",
       "      <td>2022-12-21 00:59:58.693</td>\n",
       "      <td>2022-12-21 00:59:00</td>\n",
       "      <td>2022</td>\n",
       "      <td>12</td>\n",
       "      <td>21</td>\n",
       "      <td>0</td>\n",
       "      <td>59</td>\n",
       "      <td>192.168.250.26</td>\n",
       "      <td>23.809342</td>\n",
       "      <td>90.421319</td>\n",
       "      <td>Kuril Bishawroad</td>\n",
       "      <td>To Notun Baazar New</td>\n",
       "    </tr>\n",
       "    <tr>\n",
       "      <th>2</th>\n",
       "      <td>483</td>\n",
       "      <td>78260DE46F557E64458F7E25847ECE1C</td>\n",
       "      <td>0</td>\n",
       "      <td>2022-12-21 00:59:58.308</td>\n",
       "      <td>2022-12-21 00:59:00</td>\n",
       "      <td>2022</td>\n",
       "      <td>12</td>\n",
       "      <td>21</td>\n",
       "      <td>0</td>\n",
       "      <td>59</td>\n",
       "      <td>192.168.250.27</td>\n",
       "      <td>23.809342</td>\n",
       "      <td>90.421319</td>\n",
       "      <td>Kuril Bishawroad</td>\n",
       "      <td>To Bishaw Road New</td>\n",
       "    </tr>\n",
       "    <tr>\n",
       "      <th>3</th>\n",
       "      <td>462</td>\n",
       "      <td>D3E14E25EDF518F76A69E3562D345E69</td>\n",
       "      <td>0</td>\n",
       "      <td>2022-12-21 00:59:57.579</td>\n",
       "      <td>2022-12-21 00:59:00</td>\n",
       "      <td>2022</td>\n",
       "      <td>12</td>\n",
       "      <td>21</td>\n",
       "      <td>0</td>\n",
       "      <td>59</td>\n",
       "      <td>192.168.250.2</td>\n",
       "      <td>23.727862</td>\n",
       "      <td>90.410508</td>\n",
       "      <td>Zero Point</td>\n",
       "      <td>To Zero Point Circle New</td>\n",
       "    </tr>\n",
       "    <tr>\n",
       "      <th>4</th>\n",
       "      <td>341</td>\n",
       "      <td>31A7A65385B168E392B4D083D97A7046</td>\n",
       "      <td>2</td>\n",
       "      <td>2022-12-21 00:59:56.642</td>\n",
       "      <td>2022-12-21 00:59:00</td>\n",
       "      <td>2022</td>\n",
       "      <td>12</td>\n",
       "      <td>21</td>\n",
       "      <td>0</td>\n",
       "      <td>59</td>\n",
       "      <td>192.168.250.19</td>\n",
       "      <td>23.788739</td>\n",
       "      <td>90.400117</td>\n",
       "      <td>Mohakhali</td>\n",
       "      <td>To Mohakhali Circle New</td>\n",
       "    </tr>\n",
       "  </tbody>\n",
       "</table>\n",
       "</div>"
      ],
      "text/plain": [
       "    ID                            REG_NO  ANTENNA           DISCOVER_TIME  \\\n",
       "0  483  F400B414A5F8EDECF7A05BDC2E524D13        2 2022-12-21 00:59:59.023   \n",
       "1  482  A0C276312AF5E0F857DDA2001D2D879B        3 2022-12-21 00:59:58.693   \n",
       "2  483  78260DE46F557E64458F7E25847ECE1C        0 2022-12-21 00:59:58.308   \n",
       "3  462  D3E14E25EDF518F76A69E3562D345E69        0 2022-12-21 00:59:57.579   \n",
       "4  341  31A7A65385B168E392B4D083D97A7046        2 2022-12-21 00:59:56.642   \n",
       "\n",
       "   DISCOVER_TIMESTAMP  DISCOVER_YEAR  DISCOVER_MONTH  DISCOVER_DAY  \\\n",
       "0 2022-12-21 00:59:00           2022              12            21   \n",
       "1 2022-12-21 00:59:00           2022              12            21   \n",
       "2 2022-12-21 00:59:00           2022              12            21   \n",
       "3 2022-12-21 00:59:00           2022              12            21   \n",
       "4 2022-12-21 00:59:00           2022              12            21   \n",
       "\n",
       "   DISCOVER_HOUR  DISCOVER_MINUTE      IP_ADDRESS   LATITUDE  LONGITUDE  \\\n",
       "0              0               59  192.168.250.27  23.809342  90.421319   \n",
       "1              0               59  192.168.250.26  23.809342  90.421319   \n",
       "2              0               59  192.168.250.27  23.809342  90.421319   \n",
       "3              0               59   192.168.250.2  23.727862  90.410508   \n",
       "4              0               59  192.168.250.19  23.788739  90.400117   \n",
       "\n",
       "          PAIR_NAME                      NAME  \n",
       "0  Kuril Bishawroad        To Bishaw Road New  \n",
       "1  Kuril Bishawroad       To Notun Baazar New  \n",
       "2  Kuril Bishawroad        To Bishaw Road New  \n",
       "3        Zero Point  To Zero Point Circle New  \n",
       "4         Mohakhali   To Mohakhali Circle New  "
      ]
     },
     "execution_count": 7,
     "metadata": {},
     "output_type": "execute_result"
    }
   ],
   "source": [
    "conn.execute('''  \n",
    "SELECT \n",
    "    *\n",
    "FROM\n",
    "   evi_data\n",
    "LIMIT 5\n",
    "    \n",
    "''').df()"
   ]
  },
  {
   "cell_type": "markdown",
   "id": "4b19f9f9",
   "metadata": {},
   "source": [
    "## Group Data"
   ]
  },
  {
   "cell_type": "code",
   "execution_count": 33,
   "id": "2ed523cb",
   "metadata": {},
   "outputs": [],
   "source": [
    "clean_data_df = conn.execute('''  \n",
    "SELECT \n",
    "    DISCOVER_YEAR,\n",
    "    DISCOVER_MONTH,\n",
    "    DISCOVER_DAY,\n",
    "    DISCOVER_HOUR,\n",
    "    IP_ADDRESS,\n",
    "    LATITUDE,\n",
    "    LONGITUDE,\n",
    "    PAIR_NAME,\n",
    "    NAME,\n",
    "    COUNT(REG_NO) AS VEHICLES\n",
    "FROM\n",
    "   evi_data\n",
    "GROUP BY DISCOVER_YEAR, DISCOVER_MONTH, DISCOVER_DAY, DISCOVER_HOUR, \n",
    "         IP_ADDRESS, LATITUDE, LONGITUDE, PAIR_NAME, NAME\n",
    "''').df()"
   ]
  },
  {
   "cell_type": "markdown",
   "id": "4f348b34",
   "metadata": {},
   "source": [
    "## Data QA"
   ]
  },
  {
   "cell_type": "markdown",
   "id": "cff46650",
   "metadata": {},
   "source": [
    "### Identify and Remove column variables that only have a single value."
   ]
  },
  {
   "cell_type": "code",
   "execution_count": 34,
   "id": "f9494850",
   "metadata": {},
   "outputs": [
    {
     "name": "stdout",
     "output_type": "stream",
     "text": [
      "(2464, 10)\n"
     ]
    }
   ],
   "source": [
    "print (clean_data_df.shape)"
   ]
  },
  {
   "cell_type": "code",
   "execution_count": 35,
   "id": "b51144ce",
   "metadata": {},
   "outputs": [],
   "source": [
    "counts = clean_data_df.nunique(axis='index')"
   ]
  },
  {
   "cell_type": "code",
   "execution_count": 36,
   "id": "78a54e2a",
   "metadata": {},
   "outputs": [
    {
     "data": {
      "text/plain": [
       "DISCOVER_YEAR       1\n",
       "DISCOVER_MONTH      1\n",
       "DISCOVER_DAY        7\n",
       "DISCOVER_HOUR      24\n",
       "IP_ADDRESS         17\n",
       "LATITUDE            9\n",
       "LONGITUDE           9\n",
       "PAIR_NAME           9\n",
       "NAME               15\n",
       "VEHICLES          879\n",
       "dtype: int64"
      ]
     },
     "execution_count": 36,
     "metadata": {},
     "output_type": "execute_result"
    }
   ],
   "source": [
    "counts"
   ]
  },
  {
   "cell_type": "code",
   "execution_count": 37,
   "id": "5c8af0f1",
   "metadata": {},
   "outputs": [],
   "source": [
    "df = pd.DataFrame({'column_name':counts.index, 'value':counts.values})"
   ]
  },
  {
   "cell_type": "code",
   "execution_count": 38,
   "id": "36faa2b5",
   "metadata": {},
   "outputs": [],
   "source": [
    "single_value_columns= [item['column_name'] for index, item in  df.iterrows() if item['value'] == 1]"
   ]
  },
  {
   "cell_type": "code",
   "execution_count": 39,
   "id": "a3712542",
   "metadata": {},
   "outputs": [
    {
     "data": {
      "text/plain": [
       "['DISCOVER_YEAR', 'DISCOVER_MONTH']"
      ]
     },
     "execution_count": 39,
     "metadata": {},
     "output_type": "execute_result"
    }
   ],
   "source": [
    "single_value_columns"
   ]
  },
  {
   "cell_type": "code",
   "execution_count": 40,
   "id": "f7c1d5b1",
   "metadata": {},
   "outputs": [],
   "source": [
    "clean_data_df =(clean_data_df\n",
    "          .drop(single_value_columns, axis=1))"
   ]
  },
  {
   "cell_type": "code",
   "execution_count": 41,
   "id": "18c2522c",
   "metadata": {},
   "outputs": [
    {
     "name": "stdout",
     "output_type": "stream",
     "text": [
      "(2464, 8)\n"
     ]
    }
   ],
   "source": [
    "print (clean_data_df.shape)"
   ]
  },
  {
   "cell_type": "markdown",
   "id": "e80a803b",
   "metadata": {},
   "source": [
    "### Handling Missing Values (min = 0) in numeric Column"
   ]
  },
  {
   "cell_type": "code",
   "execution_count": 42,
   "id": "4aaa0242",
   "metadata": {},
   "outputs": [
    {
     "data": {
      "text/plain": [
       "['DISCOVER_HOUR']"
      ]
     },
     "execution_count": 42,
     "metadata": {},
     "output_type": "execute_result"
    }
   ],
   "source": [
    "statistics = clean_data_df.describe()\n",
    "min_value_zero_columns = [item for item in statistics if statistics[item]['min'] == 0]\n",
    "min_value_zero_columns"
   ]
  },
  {
   "cell_type": "markdown",
   "id": "82479f7c",
   "metadata": {},
   "source": [
    "### Missing Values "
   ]
  },
  {
   "cell_type": "code",
   "execution_count": 43,
   "id": "c758345e",
   "metadata": {},
   "outputs": [
    {
     "data": {
      "text/plain": [
       "0"
      ]
     },
     "execution_count": 43,
     "metadata": {},
     "output_type": "execute_result"
    }
   ],
   "source": [
    "clean_data_df.isna().sum().sum()"
   ]
  },
  {
   "cell_type": "code",
   "execution_count": 44,
   "id": "854d0be6",
   "metadata": {},
   "outputs": [
    {
     "data": {
      "text/html": [
       "<div>\n",
       "<style scoped>\n",
       "    .dataframe tbody tr th:only-of-type {\n",
       "        vertical-align: middle;\n",
       "    }\n",
       "\n",
       "    .dataframe tbody tr th {\n",
       "        vertical-align: top;\n",
       "    }\n",
       "\n",
       "    .dataframe thead th {\n",
       "        text-align: right;\n",
       "    }\n",
       "</style>\n",
       "<table border=\"1\" class=\"dataframe\">\n",
       "  <thead>\n",
       "    <tr style=\"text-align: right;\">\n",
       "      <th></th>\n",
       "      <th>missing</th>\n",
       "      <th>total</th>\n",
       "      <th>percent</th>\n",
       "    </tr>\n",
       "  </thead>\n",
       "  <tbody>\n",
       "    <tr>\n",
       "      <th>DISCOVER_DAY</th>\n",
       "      <td>0</td>\n",
       "      <td>2464</td>\n",
       "      <td>0.0</td>\n",
       "    </tr>\n",
       "    <tr>\n",
       "      <th>DISCOVER_HOUR</th>\n",
       "      <td>0</td>\n",
       "      <td>2464</td>\n",
       "      <td>0.0</td>\n",
       "    </tr>\n",
       "    <tr>\n",
       "      <th>IP_ADDRESS</th>\n",
       "      <td>0</td>\n",
       "      <td>2464</td>\n",
       "      <td>0.0</td>\n",
       "    </tr>\n",
       "    <tr>\n",
       "      <th>LATITUDE</th>\n",
       "      <td>0</td>\n",
       "      <td>2464</td>\n",
       "      <td>0.0</td>\n",
       "    </tr>\n",
       "    <tr>\n",
       "      <th>LONGITUDE</th>\n",
       "      <td>0</td>\n",
       "      <td>2464</td>\n",
       "      <td>0.0</td>\n",
       "    </tr>\n",
       "    <tr>\n",
       "      <th>PAIR_NAME</th>\n",
       "      <td>0</td>\n",
       "      <td>2464</td>\n",
       "      <td>0.0</td>\n",
       "    </tr>\n",
       "    <tr>\n",
       "      <th>NAME</th>\n",
       "      <td>0</td>\n",
       "      <td>2464</td>\n",
       "      <td>0.0</td>\n",
       "    </tr>\n",
       "    <tr>\n",
       "      <th>VEHICLES</th>\n",
       "      <td>0</td>\n",
       "      <td>2464</td>\n",
       "      <td>0.0</td>\n",
       "    </tr>\n",
       "  </tbody>\n",
       "</table>\n",
       "</div>"
      ],
      "text/plain": [
       "               missing  total  percent\n",
       "DISCOVER_DAY         0   2464      0.0\n",
       "DISCOVER_HOUR        0   2464      0.0\n",
       "IP_ADDRESS           0   2464      0.0\n",
       "LATITUDE             0   2464      0.0\n",
       "LONGITUDE            0   2464      0.0\n",
       "PAIR_NAME            0   2464      0.0\n",
       "NAME                 0   2464      0.0\n",
       "VEHICLES             0   2464      0.0"
      ]
     },
     "execution_count": 44,
     "metadata": {},
     "output_type": "execute_result"
    }
   ],
   "source": [
    "clean_data_df.stb.missing()"
   ]
  },
  {
   "cell_type": "markdown",
   "id": "9705367e",
   "metadata": {},
   "source": [
    "### Duplicate Row Check"
   ]
  },
  {
   "cell_type": "code",
   "execution_count": 45,
   "id": "e1583f98",
   "metadata": {},
   "outputs": [
    {
     "data": {
      "text/plain": [
       "0"
      ]
     },
     "execution_count": 45,
     "metadata": {},
     "output_type": "execute_result"
    }
   ],
   "source": [
    "clean_data_df.duplicated().sum()"
   ]
  },
  {
   "cell_type": "markdown",
   "id": "f3800bec",
   "metadata": {},
   "source": [
    "## Save Clean Data"
   ]
  },
  {
   "cell_type": "code",
   "execution_count": 50,
   "id": "0c05c956",
   "metadata": {},
   "outputs": [
    {
     "data": {
      "text/plain": [
       "(2464, 8)"
      ]
     },
     "execution_count": 50,
     "metadata": {},
     "output_type": "execute_result"
    }
   ],
   "source": [
    "clean_data_df.shape"
   ]
  },
  {
   "cell_type": "code",
   "execution_count": 46,
   "id": "39d5c80f",
   "metadata": {},
   "outputs": [
    {
     "data": {
      "text/html": [
       "<div>\n",
       "<style scoped>\n",
       "    .dataframe tbody tr th:only-of-type {\n",
       "        vertical-align: middle;\n",
       "    }\n",
       "\n",
       "    .dataframe tbody tr th {\n",
       "        vertical-align: top;\n",
       "    }\n",
       "\n",
       "    .dataframe thead th {\n",
       "        text-align: right;\n",
       "    }\n",
       "</style>\n",
       "<table border=\"1\" class=\"dataframe\">\n",
       "  <thead>\n",
       "    <tr style=\"text-align: right;\">\n",
       "      <th></th>\n",
       "      <th>DISCOVER_DAY</th>\n",
       "      <th>DISCOVER_HOUR</th>\n",
       "      <th>IP_ADDRESS</th>\n",
       "      <th>LATITUDE</th>\n",
       "      <th>LONGITUDE</th>\n",
       "      <th>PAIR_NAME</th>\n",
       "      <th>NAME</th>\n",
       "      <th>VEHICLES</th>\n",
       "    </tr>\n",
       "  </thead>\n",
       "  <tbody>\n",
       "    <tr>\n",
       "      <th>2126</th>\n",
       "      <td>16</td>\n",
       "      <td>1</td>\n",
       "      <td>192.168.250.58</td>\n",
       "      <td>23.782804</td>\n",
       "      <td>90.347026</td>\n",
       "      <td>Gabtoli Mazar Road</td>\n",
       "      <td>To Kollyanpur New</td>\n",
       "      <td>95</td>\n",
       "    </tr>\n",
       "    <tr>\n",
       "      <th>249</th>\n",
       "      <td>21</td>\n",
       "      <td>16</td>\n",
       "      <td>192.168.250.58</td>\n",
       "      <td>23.782804</td>\n",
       "      <td>90.347026</td>\n",
       "      <td>Gabtoli Mazar Road</td>\n",
       "      <td>To Kollyanpur New</td>\n",
       "      <td>200</td>\n",
       "    </tr>\n",
       "    <tr>\n",
       "      <th>282</th>\n",
       "      <td>21</td>\n",
       "      <td>14</td>\n",
       "      <td>192.168.250.26</td>\n",
       "      <td>23.809342</td>\n",
       "      <td>90.421319</td>\n",
       "      <td>Kuril Bishawroad</td>\n",
       "      <td>To Notun Baazar New</td>\n",
       "      <td>1102</td>\n",
       "    </tr>\n",
       "    <tr>\n",
       "      <th>899</th>\n",
       "      <td>18</td>\n",
       "      <td>8</td>\n",
       "      <td>192.168.250.2</td>\n",
       "      <td>23.727862</td>\n",
       "      <td>90.410508</td>\n",
       "      <td>Zero Point</td>\n",
       "      <td>To Zero Point Circle New</td>\n",
       "      <td>91</td>\n",
       "    </tr>\n",
       "    <tr>\n",
       "      <th>2354</th>\n",
       "      <td>15</td>\n",
       "      <td>15</td>\n",
       "      <td>192.168.250.2</td>\n",
       "      <td>23.727862</td>\n",
       "      <td>90.410508</td>\n",
       "      <td>Zero Point</td>\n",
       "      <td>To Zero Point Circle New</td>\n",
       "      <td>82</td>\n",
       "    </tr>\n",
       "  </tbody>\n",
       "</table>\n",
       "</div>"
      ],
      "text/plain": [
       "      DISCOVER_DAY  DISCOVER_HOUR      IP_ADDRESS   LATITUDE  LONGITUDE  \\\n",
       "2126            16              1  192.168.250.58  23.782804  90.347026   \n",
       "249             21             16  192.168.250.58  23.782804  90.347026   \n",
       "282             21             14  192.168.250.26  23.809342  90.421319   \n",
       "899             18              8   192.168.250.2  23.727862  90.410508   \n",
       "2354            15             15   192.168.250.2  23.727862  90.410508   \n",
       "\n",
       "               PAIR_NAME                      NAME  VEHICLES  \n",
       "2126  Gabtoli Mazar Road         To Kollyanpur New        95  \n",
       "249   Gabtoli Mazar Road         To Kollyanpur New       200  \n",
       "282     Kuril Bishawroad       To Notun Baazar New      1102  \n",
       "899           Zero Point  To Zero Point Circle New        91  \n",
       "2354          Zero Point  To Zero Point Circle New        82  "
      ]
     },
     "execution_count": 46,
     "metadata": {},
     "output_type": "execute_result"
    }
   ],
   "source": [
    "clean_data_df.sample(5)"
   ]
  },
  {
   "cell_type": "code",
   "execution_count": 48,
   "id": "c125ab97",
   "metadata": {},
   "outputs": [
    {
     "data": {
      "text/plain": [
       "'data/processed/clean_grouped_data.csv'"
      ]
     },
     "execution_count": 48,
     "metadata": {},
     "output_type": "execute_result"
    }
   ],
   "source": [
    "config[\"featurize\"][\"clean_data\"]"
   ]
  },
  {
   "cell_type": "code",
   "execution_count": 49,
   "id": "6e4204b1",
   "metadata": {},
   "outputs": [],
   "source": [
    "clean_data_df.to_csv('../' + config[\"featurize\"][\"clean_data\"],  index=False) #header=False,"
   ]
  },
  {
   "cell_type": "code",
   "execution_count": null,
   "id": "26f0d6c7",
   "metadata": {},
   "outputs": [],
   "source": []
  }
 ],
 "metadata": {
  "kernelspec": {
   "display_name": "evi_data_science",
   "language": "python",
   "name": "evi_data_science"
  },
  "language_info": {
   "codemirror_mode": {
    "name": "ipython",
    "version": 3
   },
   "file_extension": ".py",
   "mimetype": "text/x-python",
   "name": "python",
   "nbconvert_exporter": "python",
   "pygments_lexer": "ipython3",
   "version": "3.11.0"
  },
  "toc": {
   "base_numbering": 1,
   "nav_menu": {},
   "number_sections": true,
   "sideBar": true,
   "skip_h1_title": false,
   "title_cell": "Table of Contents",
   "title_sidebar": "Contents",
   "toc_cell": false,
   "toc_position": {},
   "toc_section_display": true,
   "toc_window_display": true
  }
 },
 "nbformat": 4,
 "nbformat_minor": 5
}
