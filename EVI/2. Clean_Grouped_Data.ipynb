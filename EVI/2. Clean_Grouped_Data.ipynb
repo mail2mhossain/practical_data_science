{
 "cells": [
  {
   "cell_type": "markdown",
   "id": "c0f43579",
   "metadata": {},
   "source": [
    "# Clean Data As csv"
   ]
  },
  {
   "cell_type": "markdown",
   "id": "5725106d",
   "metadata": {},
   "source": [
    "## Load Libraries"
   ]
  },
  {
   "cell_type": "code",
   "execution_count": 1,
   "id": "584a65e1",
   "metadata": {},
   "outputs": [],
   "source": [
    "import os\n",
    "import pandas as pd\n",
    "import dask.dataframe as dd\n",
    "from dask.diagnostics import ProgressBar\n",
    "import numpy as np\n",
    "import seaborn as sns\n",
    "import sidetable as stb\n",
    "import pprint\n",
    "import yaml"
   ]
  },
  {
   "cell_type": "markdown",
   "id": "93978a0f",
   "metadata": {},
   "source": [
    "## Read config"
   ]
  },
  {
   "cell_type": "code",
   "execution_count": 2,
   "id": "80d9d13f",
   "metadata": {},
   "outputs": [],
   "source": [
    "with open('../params.yaml') as conf_file:\n",
    "    config = yaml.safe_load(conf_file)"
   ]
  },
  {
   "cell_type": "code",
   "execution_count": 3,
   "id": "0818ba24",
   "metadata": {},
   "outputs": [
    {
     "name": "stdout",
     "output_type": "stream",
     "text": [
      "'data/processed/clean_join_data_parquet'\n"
     ]
    }
   ],
   "source": [
    "pprint.pprint(config[\"featurize\"][\"clean_joined_data\"])"
   ]
  },
  {
   "cell_type": "code",
   "execution_count": 4,
   "id": "7b2b9daa",
   "metadata": {},
   "outputs": [
    {
     "name": "stdout",
     "output_type": "stream",
     "text": [
      "'data/processed/clean_grouped_data.csv'\n"
     ]
    }
   ],
   "source": [
    "pprint.pprint(config[\"featurize\"][\"clean_data\"])"
   ]
  },
  {
   "cell_type": "markdown",
   "id": "5a4b06ef",
   "metadata": {},
   "source": [
    "## Load parquet in DuckDB"
   ]
  },
  {
   "cell_type": "code",
   "execution_count": 5,
   "id": "55b582af",
   "metadata": {},
   "outputs": [],
   "source": [
    "import duckdb  \n",
    "conn = duckdb.connect(':memory:')"
   ]
  },
  {
   "cell_type": "code",
   "execution_count": 6,
   "id": "57153d38",
   "metadata": {},
   "outputs": [],
   "source": [
    "parquet_file = '../' + config[\"featurize\"][\"clean_joined_data\"]\n",
    "conn.sql('CREATE VIEW evi_data AS SELECT * FROM read_parquet(\\'' + parquet_file + '\\')')"
   ]
  },
  {
   "cell_type": "code",
   "execution_count": 7,
   "id": "94d32570",
   "metadata": {},
   "outputs": [
    {
     "data": {
      "text/html": [
       "<div>\n",
       "<style scoped>\n",
       "    .dataframe tbody tr th:only-of-type {\n",
       "        vertical-align: middle;\n",
       "    }\n",
       "\n",
       "    .dataframe tbody tr th {\n",
       "        vertical-align: top;\n",
       "    }\n",
       "\n",
       "    .dataframe thead th {\n",
       "        text-align: right;\n",
       "    }\n",
       "</style>\n",
       "<table border=\"1\" class=\"dataframe\">\n",
       "  <thead>\n",
       "    <tr style=\"text-align: right;\">\n",
       "      <th></th>\n",
       "      <th>count_star()</th>\n",
       "    </tr>\n",
       "  </thead>\n",
       "  <tbody>\n",
       "    <tr>\n",
       "      <th>0</th>\n",
       "      <td>4388248</td>\n",
       "    </tr>\n",
       "  </tbody>\n",
       "</table>\n",
       "</div>"
      ],
      "text/plain": [
       "   count_star()\n",
       "0       4388248"
      ]
     },
     "execution_count": 7,
     "metadata": {},
     "output_type": "execute_result"
    }
   ],
   "source": [
    "conn.execute('''  \n",
    "SELECT \n",
    "    COUNT(*)\n",
    "FROM\n",
    "   evi_data\n",
    "    \n",
    "''').df()"
   ]
  },
  {
   "cell_type": "code",
   "execution_count": null,
   "id": "d5318a07",
   "metadata": {},
   "outputs": [],
   "source": [
    "conn.execute('''  \n",
    "SELECT \n",
    "    *\n",
    "FROM\n",
    "   evi_data\n",
    "LIMIT 5   \n",
    "''').df()"
   ]
  },
  {
   "cell_type": "code",
   "execution_count": null,
   "id": "06b8c767",
   "metadata": {},
   "outputs": [],
   "source": [
    "conn.execute('''  \n",
    "SELECT \n",
    "    MAX(DISCOVER_TIME),\n",
    "    MIN(DISCOVER_TIME)\n",
    "FROM\n",
    "   evi_data\n",
    " \n",
    "''').df()"
   ]
  },
  {
   "cell_type": "markdown",
   "id": "4b19f9f9",
   "metadata": {},
   "source": [
    "## Group Data"
   ]
  },
  {
   "cell_type": "code",
   "execution_count": null,
   "id": "2ed523cb",
   "metadata": {},
   "outputs": [],
   "source": [
    "clean_data_df = conn.execute('''  \n",
    "SELECT \n",
    "    DISCOVER_YEAR,\n",
    "    DISCOVER_MONTH,\n",
    "    DISCOVER_DAY,\n",
    "    DISCOVER_HOUR,\n",
    "    IP_ADDRESS,\n",
    "    LATITUDE,\n",
    "    LONGITUDE,\n",
    "    PAIR_NAME,\n",
    "    NAME,\n",
    "    COUNT(REG_NO) AS VEHICLES\n",
    "FROM\n",
    "   evi_data\n",
    "GROUP BY DISCOVER_YEAR, DISCOVER_MONTH, DISCOVER_DAY, DISCOVER_HOUR, \n",
    "         IP_ADDRESS, LATITUDE, LONGITUDE, PAIR_NAME, NAME\n",
    "''').df()"
   ]
  },
  {
   "cell_type": "markdown",
   "id": "4f348b34",
   "metadata": {},
   "source": [
    "## Data QA"
   ]
  },
  {
   "cell_type": "markdown",
   "id": "cff46650",
   "metadata": {},
   "source": [
    "### Identify and Remove column variables that only have a single value."
   ]
  },
  {
   "cell_type": "code",
   "execution_count": null,
   "id": "f9494850",
   "metadata": {},
   "outputs": [],
   "source": [
    "print (clean_data_df.shape)"
   ]
  },
  {
   "cell_type": "code",
   "execution_count": null,
   "id": "b51144ce",
   "metadata": {},
   "outputs": [],
   "source": [
    "counts = clean_data_df.nunique(axis='index')"
   ]
  },
  {
   "cell_type": "code",
   "execution_count": null,
   "id": "78a54e2a",
   "metadata": {},
   "outputs": [],
   "source": [
    "counts"
   ]
  },
  {
   "cell_type": "code",
   "execution_count": null,
   "id": "5c8af0f1",
   "metadata": {},
   "outputs": [],
   "source": [
    "df = pd.DataFrame({'column_name':counts.index, 'value':counts.values})"
   ]
  },
  {
   "cell_type": "code",
   "execution_count": null,
   "id": "36faa2b5",
   "metadata": {},
   "outputs": [],
   "source": [
    "single_value_columns= [item['column_name'] for index, item in  df.iterrows() if item['value'] == 1]"
   ]
  },
  {
   "cell_type": "code",
   "execution_count": null,
   "id": "a3712542",
   "metadata": {},
   "outputs": [],
   "source": [
    "single_value_columns"
   ]
  },
  {
   "cell_type": "code",
   "execution_count": null,
   "id": "f7c1d5b1",
   "metadata": {},
   "outputs": [],
   "source": [
    "clean_data_df =(clean_data_df\n",
    "          .drop(single_value_columns, axis=1))"
   ]
  },
  {
   "cell_type": "code",
   "execution_count": null,
   "id": "18c2522c",
   "metadata": {},
   "outputs": [],
   "source": [
    "print (clean_data_df.shape)"
   ]
  },
  {
   "cell_type": "markdown",
   "id": "e80a803b",
   "metadata": {},
   "source": [
    "### Handling Missing Values (min = 0) in numeric Column"
   ]
  },
  {
   "cell_type": "code",
   "execution_count": null,
   "id": "4aaa0242",
   "metadata": {},
   "outputs": [],
   "source": [
    "statistics = clean_data_df.describe()\n",
    "min_value_zero_columns = [item for item in statistics if statistics[item]['min'] == 0]\n",
    "min_value_zero_columns"
   ]
  },
  {
   "cell_type": "markdown",
   "id": "82479f7c",
   "metadata": {},
   "source": [
    "### Missing Values "
   ]
  },
  {
   "cell_type": "code",
   "execution_count": null,
   "id": "c758345e",
   "metadata": {},
   "outputs": [],
   "source": [
    "clean_data_df.isna().sum().sum()"
   ]
  },
  {
   "cell_type": "code",
   "execution_count": null,
   "id": "854d0be6",
   "metadata": {},
   "outputs": [],
   "source": [
    "clean_data_df.stb.missing()"
   ]
  },
  {
   "cell_type": "markdown",
   "id": "9705367e",
   "metadata": {},
   "source": [
    "### Duplicate Row Check"
   ]
  },
  {
   "cell_type": "code",
   "execution_count": null,
   "id": "e1583f98",
   "metadata": {},
   "outputs": [],
   "source": [
    "clean_data_df.duplicated().sum()"
   ]
  },
  {
   "cell_type": "markdown",
   "id": "f3800bec",
   "metadata": {},
   "source": [
    "## Save Clean Data"
   ]
  },
  {
   "cell_type": "code",
   "execution_count": null,
   "id": "0c05c956",
   "metadata": {},
   "outputs": [],
   "source": [
    "clean_data_df.shape"
   ]
  },
  {
   "cell_type": "code",
   "execution_count": null,
   "id": "39d5c80f",
   "metadata": {},
   "outputs": [],
   "source": [
    "clean_data_df.sample(5)"
   ]
  },
  {
   "cell_type": "code",
   "execution_count": null,
   "id": "c125ab97",
   "metadata": {},
   "outputs": [],
   "source": [
    "config[\"featurize\"][\"clean_data\"]"
   ]
  },
  {
   "cell_type": "code",
   "execution_count": null,
   "id": "6e4204b1",
   "metadata": {},
   "outputs": [],
   "source": [
    "clean_data_df.to_csv('../' + config[\"featurize\"][\"clean_data\"],  index=False) #header=False,"
   ]
  },
  {
   "cell_type": "code",
   "execution_count": null,
   "id": "26f0d6c7",
   "metadata": {},
   "outputs": [],
   "source": []
  }
 ],
 "metadata": {
  "finalized": {
   "timestamp": 1678204048284,
   "trusted": false
  },
  "kernelspec": {
   "display_name": "evi_data_science",
   "language": "python",
   "name": "evi_data_science"
  },
  "language_info": {
   "codemirror_mode": {
    "name": "ipython",
    "version": 3
   },
   "file_extension": ".py",
   "mimetype": "text/x-python",
   "name": "python",
   "nbconvert_exporter": "python",
   "pygments_lexer": "ipython3",
   "version": "3.11.0"
  },
  "toc": {
   "base_numbering": 1,
   "nav_menu": {},
   "number_sections": true,
   "sideBar": true,
   "skip_h1_title": false,
   "title_cell": "Table of Contents",
   "title_sidebar": "Contents",
   "toc_cell": false,
   "toc_position": {
    "height": "calc(100% - 180px)",
    "left": "10px",
    "top": "150px",
    "width": "279.273px"
   },
   "toc_section_display": true,
   "toc_window_display": false
  }
 },
 "nbformat": 4,
 "nbformat_minor": 5
}
