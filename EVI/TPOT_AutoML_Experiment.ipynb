{
 "cells": [
  {
   "cell_type": "markdown",
   "id": "6cfdb151",
   "metadata": {},
   "source": [
    "# TPOT AutoML"
   ]
  },
  {
   "cell_type": "markdown",
   "id": "353cb008",
   "metadata": {},
   "source": [
    "## Import Library"
   ]
  },
  {
   "cell_type": "code",
   "execution_count": 1,
   "id": "a7e80a9d",
   "metadata": {},
   "outputs": [
    {
     "name": "stderr",
     "output_type": "stream",
     "text": [
      "2023-03-14 17:53:11,467 [61516] WARNING  py.warnings:109: [JupyterRequire] Z:\\Users\\User\\anaconda3\\lib\\site-packages\\tpot\\builtins\\__init__.py:36: UserWarning: Warning: optional dependency `torch` is not available. - skipping import of NN models.\n",
      "  warnings.warn(\"Warning: optional dependency `torch` is not available. - skipping import of NN models.\")\n",
      "\n"
     ]
    }
   ],
   "source": [
    "import numpy as np\n",
    "import pandas as pd\n",
    "import seaborn as sns\n",
    "from matplotlib import pyplot\n",
    "import yaml\n",
    "from sklearn.model_selection import cross_val_score\n",
    "from sklearn.model_selection import KFold, StratifiedKFold, RepeatedStratifiedKFold\n",
    "from sklearn.model_selection import train_test_split\n",
    "from xgboost import XGBRegressor\n",
    "from tpot import TPOTRegressor"
   ]
  },
  {
   "cell_type": "markdown",
   "id": "811101c1",
   "metadata": {},
   "source": [
    "## Read config"
   ]
  },
  {
   "cell_type": "code",
   "execution_count": 2,
   "id": "a0ce7b4f",
   "metadata": {},
   "outputs": [],
   "source": [
    "with open('../params.yaml') as conf_file:\n",
    "    config = yaml.safe_load(conf_file)"
   ]
  },
  {
   "cell_type": "markdown",
   "id": "fc8dc712",
   "metadata": {},
   "source": [
    "## Read Clean Data"
   ]
  },
  {
   "cell_type": "code",
   "execution_count": 3,
   "id": "f3be4b41",
   "metadata": {},
   "outputs": [],
   "source": [
    "clean_data_df = pd.read_csv('../' + config[\"featurize\"][\"clean_data\"])"
   ]
  },
  {
   "cell_type": "code",
   "execution_count": 4,
   "id": "0c3452a0",
   "metadata": {},
   "outputs": [
    {
     "data": {
      "text/plain": [
       "(85409, 9)"
      ]
     },
     "execution_count": 4,
     "metadata": {},
     "output_type": "execute_result"
    }
   ],
   "source": [
    "clean_data_df.shape"
   ]
  },
  {
   "cell_type": "code",
   "execution_count": null,
   "id": "343398d6",
   "metadata": {},
   "outputs": [],
   "source": [
    "clean_data_df.sample(5)"
   ]
  },
  {
   "cell_type": "markdown",
   "id": "0f200f2e",
   "metadata": {},
   "source": [
    "## Data Split"
   ]
  },
  {
   "cell_type": "code",
   "execution_count": 6,
   "id": "b2787962",
   "metadata": {},
   "outputs": [
    {
     "data": {
      "text/plain": [
       "(85409, 9)"
      ]
     },
     "execution_count": 6,
     "metadata": {},
     "output_type": "execute_result"
    }
   ],
   "source": [
    "clean_data_df.shape"
   ]
  },
  {
   "cell_type": "code",
   "execution_count": 7,
   "id": "74e7331e",
   "metadata": {},
   "outputs": [],
   "source": [
    "df = pd.get_dummies(clean_data_df, columns=['IP_ADDRESS', 'NAME', 'PAIR_NAME'])"
   ]
  },
  {
   "cell_type": "code",
   "execution_count": 8,
   "id": "995c638a",
   "metadata": {},
   "outputs": [
    {
     "data": {
      "text/plain": [
       "(85409, 60)"
      ]
     },
     "execution_count": 8,
     "metadata": {},
     "output_type": "execute_result"
    }
   ],
   "source": [
    "df.shape"
   ]
  },
  {
   "cell_type": "code",
   "execution_count": null,
   "id": "9e8ac066",
   "metadata": {},
   "outputs": [],
   "source": [
    "df.sample(5)"
   ]
  },
  {
   "cell_type": "code",
   "execution_count": 10,
   "id": "ea35ca5b",
   "metadata": {},
   "outputs": [],
   "source": [
    "X = df.drop(\"VEHICLES\", axis=1)\n",
    "y = df[\"VEHICLES\"]"
   ]
  },
  {
   "cell_type": "code",
   "execution_count": 11,
   "id": "3ae1a2ab",
   "metadata": {},
   "outputs": [],
   "source": [
    "X_train, X_test, y_train, y_test = train_test_split(X, y, test_size=0.30, random_state=42)"
   ]
  },
  {
   "cell_type": "code",
   "execution_count": null,
   "id": "25a0d057",
   "metadata": {},
   "outputs": [],
   "source": [
    "X_test.sample(5)"
   ]
  },
  {
   "cell_type": "code",
   "execution_count": 13,
   "id": "79824d20",
   "metadata": {},
   "outputs": [
    {
     "name": "stdout",
     "output_type": "stream",
     "text": [
      "(59786, 59) (59786,)\n"
     ]
    }
   ],
   "source": [
    "print (X_train.shape, y_train.shape)"
   ]
  },
  {
   "cell_type": "code",
   "execution_count": 14,
   "id": "40310f7f",
   "metadata": {},
   "outputs": [
    {
     "name": "stdout",
     "output_type": "stream",
     "text": [
      "(25623, 59) (25623,)\n"
     ]
    }
   ],
   "source": [
    "print (X_test.shape, y_test.shape)"
   ]
  },
  {
   "cell_type": "markdown",
   "id": "8f53a1a6",
   "metadata": {},
   "source": [
    "## TPOT AutoML Experiments"
   ]
  },
  {
   "cell_type": "code",
   "execution_count": 15,
   "id": "c8a6b297",
   "metadata": {},
   "outputs": [
    {
     "data": {
      "application/vnd.jupyter.widget-view+json": {
       "model_id": "",
       "version_major": 2,
       "version_minor": 0
      },
      "text/plain": [
       "Optimization Progress:   0%|          | 0/220 [00:00<?, ?pipeline/s]"
      ]
     },
     "metadata": {},
     "output_type": "display_data"
    },
    {
     "name": "stdout",
     "output_type": "stream",
     "text": [
      "\n",
      "Generation 1 - Current best internal CV score: -164.04555322887072\n",
      "\n",
      "Generation 2 - Current best internal CV score: -162.30070642198348\n",
      "\n",
      "Generation 3 - Current best internal CV score: -162.30070642198348\n",
      "\n",
      "Generation 4 - Current best internal CV score: -162.30070642198348\n",
      "\n",
      "Generation 5 - Current best internal CV score: -161.6008085317183\n",
      "\n",
      "Generation 6 - Current best internal CV score: -161.6008085317183\n",
      "\n",
      "Generation 7 - Current best internal CV score: -160.34426157027337\n",
      "\n",
      "Generation 8 - Current best internal CV score: -160.34426157027337\n",
      "\n",
      "Generation 9 - Current best internal CV score: -160.3433949128129\n",
      "\n",
      "Generation 10 - Current best internal CV score: -160.3433949128129\n",
      "\n",
      "Best pipeline: XGBRegressor(DecisionTreeRegressor(input_matrix, max_depth=2, min_samples_leaf=7, min_samples_split=13), learning_rate=0.5, max_depth=4, min_child_weight=6, n_estimators=100, n_jobs=1, objective=reg:squarederror, subsample=0.9500000000000001, verbosity=0)\n"
     ]
    },
    {
     "name": "stderr",
     "output_type": "stream",
     "text": [
      "2023-03-14 19:13:13,446 [61516] WARNING  py.warnings:109: [JupyterRequire] Z:\\Users\\User\\anaconda3\\lib\\site-packages\\sklearn\\base.py:450: UserWarning: X does not have valid feature names, but DecisionTreeRegressor was fitted with feature names\n",
      "  warnings.warn(\n",
      "\n"
     ]
    }
   ],
   "source": [
    "# define model evaluation\n",
    "cv = RepeatedStratifiedKFold(n_splits=2, n_repeats=3, random_state=42)\n",
    "# define search\n",
    "tpot = TPOTRegressor(generations=10, population_size=20, #max_time_mins = 60, \n",
    "                     early_stop = 5,\n",
    "                     cv=cv, scoring='neg_root_mean_squared_error', \n",
    "                     verbosity=2, random_state=1, n_jobs=-1) \n",
    "\n",
    "tpot.fit(X_train, y_train)\n",
    "\n",
    "mae = tpot.score(X_test, y_test)"
   ]
  },
  {
   "cell_type": "code",
   "execution_count": 16,
   "id": "09f72656",
   "metadata": {},
   "outputs": [
    {
     "name": "stdout",
     "output_type": "stream",
     "text": [
      "MAE: 162.733\n"
     ]
    }
   ],
   "source": [
    "print(\"MAE: %.3f\" % -mae)"
   ]
  },
  {
   "cell_type": "code",
   "execution_count": 17,
   "id": "5b33b9b3",
   "metadata": {},
   "outputs": [],
   "source": [
    "tpot.export('tpot_evi_dentisity_pipeline.py')"
   ]
  },
  {
   "cell_type": "markdown",
   "id": "6fcf8a5e",
   "metadata": {},
   "source": [
    "## TPOT Exported Pipeline"
   ]
  },
  {
   "cell_type": "code",
   "execution_count": 18,
   "id": "e3622194",
   "metadata": {},
   "outputs": [
    {
     "name": "stderr",
     "output_type": "stream",
     "text": [
      "2023-03-14 19:47:18,320 [61516] WARNING  py.warnings:109: [JupyterRequire] Z:\\Users\\User\\anaconda3\\lib\\site-packages\\sklearn\\base.py:450: UserWarning: X does not have valid feature names, but DecisionTreeRegressor was fitted with feature names\n",
      "  warnings.warn(\n",
      "\n",
      "2023-03-14 19:47:32,850 [61516] WARNING  py.warnings:109: [JupyterRequire] Z:\\Users\\User\\anaconda3\\lib\\site-packages\\sklearn\\base.py:450: UserWarning: X does not have valid feature names, but DecisionTreeRegressor was fitted with feature names\n",
      "  warnings.warn(\n",
      "\n"
     ]
    }
   ],
   "source": [
    "import numpy as np\n",
    "import pandas as pd\n",
    "from sklearn.model_selection import train_test_split\n",
    "from sklearn.pipeline import make_pipeline, make_union\n",
    "from sklearn.tree import DecisionTreeRegressor\n",
    "from tpot.builtins import StackingEstimator\n",
    "from xgboost import XGBRegressor\n",
    "from tpot.export_utils import set_param_recursive\n",
    "\n",
    "# Average CV score on the training set was: -160.3433949128129\n",
    "exported_pipeline = make_pipeline(\n",
    "    StackingEstimator(estimator=DecisionTreeRegressor(max_depth=2, min_samples_leaf=7, min_samples_split=13)),\n",
    "    XGBRegressor(learning_rate=0.5, max_depth=4, min_child_weight=6, n_estimators=100, n_jobs=1, objective=\"reg:squarederror\", subsample=0.9500000000000001, verbosity=0)\n",
    ")\n",
    "# Fix random state for all the steps in exported pipeline\n",
    "set_param_recursive(exported_pipeline.steps, 'random_state', 1)\n",
    "\n",
    "exported_pipeline.fit(X_train, y_train)\n",
    "results = exported_pipeline.predict(X_test)\n"
   ]
  },
  {
   "cell_type": "code",
   "execution_count": 19,
   "id": "00868fcc",
   "metadata": {},
   "outputs": [
    {
     "data": {
      "text/plain": [
       "162.7325180643"
      ]
     },
     "execution_count": 19,
     "metadata": {},
     "output_type": "execute_result"
    }
   ],
   "source": [
    "from sklearn.metrics import mean_squared_error\n",
    "np.sqrt(mean_squared_error(y_test, results))"
   ]
  },
  {
   "cell_type": "code",
   "execution_count": null,
   "id": "5952955c",
   "metadata": {},
   "outputs": [],
   "source": []
  }
 ],
 "metadata": {
  "kernelspec": {
   "display_name": "tpot_automl_env",
   "language": "python",
   "name": "tpot_automl_env"
  },
  "language_info": {
   "codemirror_mode": {
    "name": "ipython",
    "version": 3
   },
   "file_extension": ".py",
   "mimetype": "text/x-python",
   "name": "python",
   "nbconvert_exporter": "python",
   "pygments_lexer": "ipython3",
   "version": "3.9.13"
  },
  "toc": {
   "base_numbering": 1,
   "nav_menu": {},
   "number_sections": true,
   "sideBar": true,
   "skip_h1_title": false,
   "title_cell": "Table of Contents",
   "title_sidebar": "Contents",
   "toc_cell": false,
   "toc_position": {
    "height": "calc(100% - 180px)",
    "left": "10px",
    "top": "150px",
    "width": "303.837px"
   },
   "toc_section_display": true,
   "toc_window_display": false
  }
 },
 "nbformat": 4,
 "nbformat_minor": 5
}
