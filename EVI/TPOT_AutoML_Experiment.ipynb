{
 "cells": [
  {
   "cell_type": "markdown",
   "id": "6cfdb151",
   "metadata": {},
   "source": [
    "# TPOT AutoML"
   ]
  },
  {
   "cell_type": "markdown",
   "id": "353cb008",
   "metadata": {},
   "source": [
    "## Import Library"
   ]
  },
  {
   "cell_type": "code",
   "execution_count": 4,
   "id": "a7e80a9d",
   "metadata": {},
   "outputs": [],
   "source": [
    "import numpy as np\n",
    "import pandas as pd\n",
    "import seaborn as sns\n",
    "from matplotlib import pyplot\n",
    "import yaml\n",
    "from sklearn.model_selection import cross_val_score\n",
    "from sklearn.model_selection import KFold, StratifiedKFold, RepeatedStratifiedKFold\n",
    "from sklearn.model_selection import train_test_split\n",
    "from xgboost import XGBRegressor\n",
    "from tpot import TPOTRegressor"
   ]
  },
  {
   "cell_type": "markdown",
   "id": "811101c1",
   "metadata": {},
   "source": [
    "## Read config"
   ]
  },
  {
   "cell_type": "code",
   "execution_count": 5,
   "id": "a0ce7b4f",
   "metadata": {},
   "outputs": [],
   "source": [
    "with open('../params.yaml') as conf_file:\n",
    "    config = yaml.safe_load(conf_file)"
   ]
  },
  {
   "cell_type": "markdown",
   "id": "c9a373f3",
   "metadata": {},
   "source": [
    "## DuckDB Registration"
   ]
  },
  {
   "cell_type": "code",
   "execution_count": 8,
   "id": "5e8aeb6a",
   "metadata": {},
   "outputs": [],
   "source": [
    "import duckdb  \n",
    "conn = duckdb.connect(':memory:')"
   ]
  },
  {
   "cell_type": "code",
   "execution_count": 9,
   "id": "84a3bef9",
   "metadata": {},
   "outputs": [],
   "source": [
    "joined_parquet_dataset = '../' + config[\"data_load\"][\"joined_parquet\"]\n",
    "conn.sql('CREATE TABLE evi_data AS SELECT * FROM read_parquet(\\'' + joined_parquet_dataset + '\\')')"
   ]
  },
  {
   "cell_type": "code",
   "execution_count": null,
   "id": "58eaf7a4",
   "metadata": {},
   "outputs": [],
   "source": [
    "conn.execute('''  \n",
    "SELECT \n",
    "    DISCOVER_DAY,\n",
    "    DISCOVER_HOUR,\n",
    "    IP_ADDRESS,\n",
    "    LONGITUDE,\n",
    "    LATITUDE,\n",
    "    NAME,\n",
    "    PAIR_NAME\n",
    "FROM\n",
    "   evi_data\n",
    "LIMIT 5\n",
    "''').df()"
   ]
  },
  {
   "cell_type": "code",
   "execution_count": 11,
   "id": "f6f71ac2",
   "metadata": {},
   "outputs": [
    {
     "data": {
      "text/html": [
       "<div>\n",
       "<style scoped>\n",
       "    .dataframe tbody tr th:only-of-type {\n",
       "        vertical-align: middle;\n",
       "    }\n",
       "\n",
       "    .dataframe tbody tr th {\n",
       "        vertical-align: top;\n",
       "    }\n",
       "\n",
       "    .dataframe thead th {\n",
       "        text-align: right;\n",
       "    }\n",
       "</style>\n",
       "<table border=\"1\" class=\"dataframe\">\n",
       "  <thead>\n",
       "    <tr style=\"text-align: right;\">\n",
       "      <th></th>\n",
       "      <th>min(\"DISCOVER_YEAR\")</th>\n",
       "      <th>max(\"DISCOVER_YEAR\")</th>\n",
       "      <th>min(\"DISCOVER_MONTH\")</th>\n",
       "      <th>max(\"DISCOVER_MONTH\")</th>\n",
       "      <th>min(\"DISCOVER_DAY\")</th>\n",
       "      <th>max(\"DISCOVER_DAY\")</th>\n",
       "    </tr>\n",
       "  </thead>\n",
       "  <tbody>\n",
       "    <tr>\n",
       "      <th>0</th>\n",
       "      <td>2022</td>\n",
       "      <td>2022</td>\n",
       "      <td>12</td>\n",
       "      <td>12</td>\n",
       "      <td>15</td>\n",
       "      <td>21</td>\n",
       "    </tr>\n",
       "  </tbody>\n",
       "</table>\n",
       "</div>"
      ],
      "text/plain": [
       "   min(\"DISCOVER_YEAR\")  max(\"DISCOVER_YEAR\")  min(\"DISCOVER_MONTH\")  max(\"DISCOVER_MONTH\")  min(\"DISCOVER_DAY\")  max(\"DISCOVER_DAY\")\n",
       "0                  2022                  2022                     12                     12                   15                   21"
      ]
     },
     "execution_count": 11,
     "metadata": {},
     "output_type": "execute_result"
    }
   ],
   "source": [
    "conn.execute('''  \n",
    "SELECT \n",
    "    Min(DISCOVER_YEAR),\n",
    "    Max(DISCOVER_YEAR),\n",
    "    Min(DISCOVER_MONTH),\n",
    "    Max(DISCOVER_MONTH),\n",
    "    Min(DISCOVER_DAY),    \n",
    "    Max(DISCOVER_DAY),\n",
    "FROM\n",
    "   evi_data\n",
    "LIMIT 5\n",
    "''').df()"
   ]
  },
  {
   "cell_type": "code",
   "execution_count": 12,
   "id": "94752899",
   "metadata": {},
   "outputs": [],
   "source": [
    "clean_data_df = conn.execute('''  \n",
    "SELECT \n",
    "    DISCOVER_DAY,\n",
    "    DISCOVER_HOUR,\n",
    "    IP_ADDRESS,\n",
    "    LONGITUDE,\n",
    "    LATITUDE,\n",
    "    NAME,\n",
    "    PAIR_NAME,\n",
    "    COUNT(REG_NO) AS VEHICLES\n",
    "FROM\n",
    "   evi_data\n",
    "GROUP BY DISCOVER_DAY, DISCOVER_HOUR, IP_ADDRESS, LONGITUDE, LATITUDE, NAME, PAIR_NAME\n",
    "\n",
    "''').df()"
   ]
  },
  {
   "cell_type": "code",
   "execution_count": null,
   "id": "27b50a43",
   "metadata": {},
   "outputs": [],
   "source": [
    "clean_data_df.head()"
   ]
  },
  {
   "cell_type": "markdown",
   "id": "0f200f2e",
   "metadata": {},
   "source": [
    "## Data Split"
   ]
  },
  {
   "cell_type": "code",
   "execution_count": 64,
   "id": "b2787962",
   "metadata": {},
   "outputs": [
    {
     "data": {
      "text/plain": [
       "(2464, 8)"
      ]
     },
     "execution_count": 64,
     "metadata": {},
     "output_type": "execute_result"
    }
   ],
   "source": [
    "clean_data_df.shape"
   ]
  },
  {
   "cell_type": "code",
   "execution_count": 65,
   "id": "74e7331e",
   "metadata": {},
   "outputs": [],
   "source": [
    "df = pd.get_dummies(clean_data_df, columns=['IP_ADDRESS', 'NAME', 'PAIR_NAME'])"
   ]
  },
  {
   "cell_type": "code",
   "execution_count": 66,
   "id": "995c638a",
   "metadata": {},
   "outputs": [
    {
     "data": {
      "text/plain": [
       "(2464, 46)"
      ]
     },
     "execution_count": 66,
     "metadata": {},
     "output_type": "execute_result"
    }
   ],
   "source": [
    "df.shape"
   ]
  },
  {
   "cell_type": "code",
   "execution_count": null,
   "id": "d56928f9",
   "metadata": {},
   "outputs": [],
   "source": [
    "df.sample(5)"
   ]
  },
  {
   "cell_type": "code",
   "execution_count": 68,
   "id": "ea35ca5b",
   "metadata": {},
   "outputs": [],
   "source": [
    "X = df.drop(\"VEHICLES\", axis=1)\n",
    "y = df[\"VEHICLES\"]"
   ]
  },
  {
   "cell_type": "code",
   "execution_count": 69,
   "id": "3ae1a2ab",
   "metadata": {},
   "outputs": [],
   "source": [
    "X_train, X_test, y_train, y_test = train_test_split(X, y, test_size=0.30, random_state=42)"
   ]
  },
  {
   "cell_type": "code",
   "execution_count": null,
   "id": "f6114409",
   "metadata": {},
   "outputs": [],
   "source": [
    "X_test.sample(5)"
   ]
  },
  {
   "cell_type": "code",
   "execution_count": 70,
   "id": "79824d20",
   "metadata": {},
   "outputs": [
    {
     "name": "stdout",
     "output_type": "stream",
     "text": [
      "(1724, 45) (1724,)\n"
     ]
    }
   ],
   "source": [
    "print (X_train.shape, y_train.shape)"
   ]
  },
  {
   "cell_type": "code",
   "execution_count": 82,
   "id": "40310f7f",
   "metadata": {},
   "outputs": [
    {
     "name": "stdout",
     "output_type": "stream",
     "text": [
      "(740, 45) (740,)\n"
     ]
    }
   ],
   "source": [
    "print (X_test.shape, y_test.shape)"
   ]
  },
  {
   "cell_type": "markdown",
   "id": "8f53a1a6",
   "metadata": {},
   "source": [
    "## TPOT AutoML Experiments"
   ]
  },
  {
   "cell_type": "code",
   "execution_count": 30,
   "id": "c8a6b297",
   "metadata": {},
   "outputs": [
    {
     "data": {
      "application/vnd.jupyter.widget-view+json": {
       "model_id": "",
       "version_major": 2,
       "version_minor": 0
      },
      "text/plain": [
       "Optimization Progress:   0%|          | 0/220 [00:00<?, ?pipeline/s]"
      ]
     },
     "metadata": {},
     "output_type": "display_data"
    },
    {
     "name": "stdout",
     "output_type": "stream",
     "text": [
      "\n",
      "Generation 1 - Current best internal CV score: -107.90704337704693\n",
      "\n",
      "Generation 2 - Current best internal CV score: -107.90704337704693\n",
      "\n",
      "Generation 3 - Current best internal CV score: -107.86131682785953\n",
      "\n",
      "Generation 4 - Current best internal CV score: -107.86131682785953\n",
      "\n",
      "Generation 5 - Current best internal CV score: -94.32137105129932\n",
      "\n",
      "Generation 6 - Current best internal CV score: -94.32137105129932\n",
      "\n",
      "Generation 7 - Current best internal CV score: -94.32137105129932\n",
      "\n",
      "Generation 8 - Current best internal CV score: -94.32137105129932\n",
      "\n",
      "Generation 9 - Current best internal CV score: -93.12628778853252\n",
      "\n",
      "Generation 10 - Current best internal CV score: -92.39597470526708\n",
      "\n",
      "Best pipeline: XGBRegressor(MinMaxScaler(LinearSVR(input_matrix, C=10.0, dual=True, epsilon=0.0001, loss=squared_epsilon_insensitive, tol=0.001)), learning_rate=0.1, max_depth=9, min_child_weight=11, n_estimators=100, n_jobs=1, objective=reg:squarederror, subsample=0.7500000000000001, verbosity=0)\n"
     ]
    },
    {
     "name": "stderr",
     "output_type": "stream",
     "text": [
      "Z:\\Users\\User\\anaconda3\\lib\\site-packages\\sklearn\\base.py:450: UserWarning: X does not have valid feature names, but LinearSVR was fitted with feature names\n",
      "  warnings.warn(\n"
     ]
    }
   ],
   "source": [
    "# define model evaluation\n",
    "cv = RepeatedStratifiedKFold(n_splits=2, n_repeats=3, random_state=42)\n",
    "# define search\n",
    "tpot = TPOTRegressor(generations=10, population_size=20, #max_time_mins = 60, \n",
    "                     early_stop = 5,\n",
    "                     cv=cv, scoring='neg_root_mean_squared_error', \n",
    "                     verbosity=2, random_state=1, n_jobs=-1) \n",
    "\n",
    "tpot.fit(X_train, y_train)\n",
    "\n",
    "mae = tpot.score(X_test, y_test)"
   ]
  },
  {
   "cell_type": "code",
   "execution_count": 96,
   "id": "09f72656",
   "metadata": {},
   "outputs": [
    {
     "name": "stdout",
     "output_type": "stream",
     "text": [
      "MAE: 89.093\n"
     ]
    }
   ],
   "source": [
    "print(\"MAE: %.3f\" % -mae)"
   ]
  },
  {
   "cell_type": "code",
   "execution_count": 33,
   "id": "5b33b9b3",
   "metadata": {},
   "outputs": [],
   "source": [
    "tpot.export('tpot_evi_dentisity_pipeline.py')"
   ]
  },
  {
   "cell_type": "markdown",
   "id": "6fcf8a5e",
   "metadata": {
    "heading_collapsed": true
   },
   "source": [
    "## TPOT Exported Pipeline"
   ]
  },
  {
   "cell_type": "code",
   "execution_count": 34,
   "id": "e3622194",
   "metadata": {
    "hidden": true
   },
   "outputs": [
    {
     "name": "stderr",
     "output_type": "stream",
     "text": [
      "Z:\\Users\\User\\anaconda3\\lib\\site-packages\\sklearn\\svm\\_base.py:1206: ConvergenceWarning: Liblinear failed to converge, increase the number of iterations.\n",
      "  warnings.warn(\n",
      "Z:\\Users\\User\\anaconda3\\lib\\site-packages\\sklearn\\base.py:450: UserWarning: X does not have valid feature names, but LinearSVR was fitted with feature names\n",
      "  warnings.warn(\n",
      "Z:\\Users\\User\\anaconda3\\lib\\site-packages\\sklearn\\base.py:450: UserWarning: X does not have valid feature names, but LinearSVR was fitted with feature names\n",
      "  warnings.warn(\n"
     ]
    }
   ],
   "source": [
    "import numpy as np\n",
    "import pandas as pd\n",
    "from sklearn.model_selection import train_test_split\n",
    "from sklearn.pipeline import make_pipeline, make_union\n",
    "from sklearn.preprocessing import MinMaxScaler\n",
    "from sklearn.svm import LinearSVR\n",
    "from tpot.builtins import StackingEstimator\n",
    "from xgboost import XGBRegressor\n",
    "from tpot.export_utils import set_param_recursive\n",
    "\n",
    "\n",
    "# Average CV score on the training set was: -92.39597470526708\n",
    "exported_pipeline = make_pipeline(\n",
    "    StackingEstimator(estimator=LinearSVR(C=10.0, dual=True, epsilon=0.0001, loss=\"squared_epsilon_insensitive\", tol=0.001)),\n",
    "    MinMaxScaler(),\n",
    "    XGBRegressor(learning_rate=0.1, max_depth=9, min_child_weight=11, n_estimators=100, n_jobs=1, objective=\"reg:squarederror\", subsample=0.7500000000000001, verbosity=0)\n",
    ")\n",
    "# Fix random state for all the steps in exported pipeline\n",
    "set_param_recursive(exported_pipeline.steps, 'random_state', 1)\n",
    "\n",
    "exported_pipeline.fit(X_train, y_train)\n",
    "results = exported_pipeline.predict(X_test)"
   ]
  },
  {
   "cell_type": "code",
   "execution_count": 36,
   "id": "00868fcc",
   "metadata": {
    "hidden": true
   },
   "outputs": [
    {
     "data": {
      "text/plain": [
       "89.0931600310122"
      ]
     },
     "execution_count": 36,
     "metadata": {},
     "output_type": "execute_result"
    }
   ],
   "source": [
    "from sklearn.metrics import mean_squared_error\n",
    "np.sqrt(mean_squared_error(y_test, results))"
   ]
  },
  {
   "cell_type": "code",
   "execution_count": 84,
   "id": "5683bcd4",
   "metadata": {
    "hidden": true
   },
   "outputs": [],
   "source": [
    "single_df = X_test.iloc[[700]].reset_index(drop=True)"
   ]
  },
  {
   "cell_type": "code",
   "execution_count": 85,
   "id": "572e07a8",
   "metadata": {
    "hidden": true
   },
   "outputs": [
    {
     "data": {
      "text/plain": [
       "(1, 45)"
      ]
     },
     "execution_count": 85,
     "metadata": {},
     "output_type": "execute_result"
    }
   ],
   "source": [
    "single_df.shape"
   ]
  },
  {
   "cell_type": "code",
   "execution_count": 86,
   "id": "5002bcb7",
   "metadata": {
    "hidden": true
   },
   "outputs": [
    {
     "data": {
      "text/plain": [
       "(2464, 46)"
      ]
     },
     "execution_count": 86,
     "metadata": {},
     "output_type": "execute_result"
    }
   ],
   "source": [
    "df.shape"
   ]
  },
  {
   "cell_type": "code",
   "execution_count": 87,
   "id": "f06cc66a",
   "metadata": {
    "hidden": true
   },
   "outputs": [
    {
     "data": {
      "text/html": [
       "<div>\n",
       "<style scoped>\n",
       "    .dataframe tbody tr th:only-of-type {\n",
       "        vertical-align: middle;\n",
       "    }\n",
       "\n",
       "    .dataframe tbody tr th {\n",
       "        vertical-align: top;\n",
       "    }\n",
       "\n",
       "    .dataframe thead th {\n",
       "        text-align: right;\n",
       "    }\n",
       "</style>\n",
       "<table border=\"1\" class=\"dataframe\">\n",
       "  <thead>\n",
       "    <tr style=\"text-align: right;\">\n",
       "      <th></th>\n",
       "      <th>DISCOVER_DAY</th>\n",
       "      <th>DISCOVER_HOUR</th>\n",
       "      <th>LONGITUDE</th>\n",
       "      <th>LATITUDE</th>\n",
       "      <th>IP_ADDRESS_192.168.250.10</th>\n",
       "      <th>IP_ADDRESS_192.168.250.11</th>\n",
       "      <th>IP_ADDRESS_192.168.250.18</th>\n",
       "      <th>IP_ADDRESS_192.168.250.19</th>\n",
       "      <th>IP_ADDRESS_192.168.250.2</th>\n",
       "      <th>IP_ADDRESS_192.168.250.26</th>\n",
       "      <th>IP_ADDRESS_192.168.250.27</th>\n",
       "      <th>IP_ADDRESS_192.168.250.3</th>\n",
       "      <th>IP_ADDRESS_192.168.250.34</th>\n",
       "      <th>IP_ADDRESS_192.168.250.35</th>\n",
       "      <th>IP_ADDRESS_192.168.250.42</th>\n",
       "      <th>IP_ADDRESS_192.168.250.43</th>\n",
       "      <th>IP_ADDRESS_192.168.250.50</th>\n",
       "      <th>IP_ADDRESS_192.168.250.51</th>\n",
       "      <th>IP_ADDRESS_192.168.250.58</th>\n",
       "      <th>IP_ADDRESS_192.168.250.59</th>\n",
       "      <th>IP_ADDRESS_192.168.250.67</th>\n",
       "      <th>NAME_To Aminbazar New</th>\n",
       "      <th>NAME_To Bijoy Nagar New</th>\n",
       "      <th>NAME_To Bishaw Road New</th>\n",
       "      <th>NAME_To Dhanmondi New</th>\n",
       "      <th>NAME_To Kakoli New</th>\n",
       "      <th>NAME_To Kakrail Mosque New</th>\n",
       "      <th>NAME_To Kollyanpur New</th>\n",
       "      <th>NAME_To Mohakhali Circle New</th>\n",
       "      <th>NAME_To Motsho Bhaban New</th>\n",
       "      <th>NAME_To New Market New</th>\n",
       "      <th>NAME_To Notun Baazar New</th>\n",
       "      <th>NAME_To Paltan New</th>\n",
       "      <th>NAME_To Shahbag Circle New</th>\n",
       "      <th>NAME_To Tatibazar New</th>\n",
       "      <th>NAME_To Zero Point Circle New</th>\n",
       "      <th>PAIR_NAME_Buriganga Bridge</th>\n",
       "      <th>PAIR_NAME_Gabtoli Mazar Road</th>\n",
       "      <th>PAIR_NAME_Gulshan 2</th>\n",
       "      <th>PAIR_NAME_Kakrail</th>\n",
       "      <th>PAIR_NAME_Kuril Bishawroad</th>\n",
       "      <th>PAIR_NAME_Mohakhali</th>\n",
       "      <th>PAIR_NAME_Science Lab</th>\n",
       "      <th>PAIR_NAME_Shahbag Circle</th>\n",
       "      <th>PAIR_NAME_Zero Point</th>\n",
       "    </tr>\n",
       "  </thead>\n",
       "  <tbody>\n",
       "    <tr>\n",
       "      <th>0</th>\n",
       "      <td>18</td>\n",
       "      <td>8</td>\n",
       "      <td>90.421319</td>\n",
       "      <td>23.809342</td>\n",
       "      <td>0</td>\n",
       "      <td>0</td>\n",
       "      <td>0</td>\n",
       "      <td>0</td>\n",
       "      <td>0</td>\n",
       "      <td>1</td>\n",
       "      <td>0</td>\n",
       "      <td>0</td>\n",
       "      <td>0</td>\n",
       "      <td>0</td>\n",
       "      <td>0</td>\n",
       "      <td>0</td>\n",
       "      <td>0</td>\n",
       "      <td>0</td>\n",
       "      <td>0</td>\n",
       "      <td>0</td>\n",
       "      <td>0</td>\n",
       "      <td>0</td>\n",
       "      <td>0</td>\n",
       "      <td>0</td>\n",
       "      <td>0</td>\n",
       "      <td>0</td>\n",
       "      <td>0</td>\n",
       "      <td>0</td>\n",
       "      <td>0</td>\n",
       "      <td>0</td>\n",
       "      <td>0</td>\n",
       "      <td>1</td>\n",
       "      <td>0</td>\n",
       "      <td>0</td>\n",
       "      <td>0</td>\n",
       "      <td>0</td>\n",
       "      <td>0</td>\n",
       "      <td>0</td>\n",
       "      <td>0</td>\n",
       "      <td>0</td>\n",
       "      <td>1</td>\n",
       "      <td>0</td>\n",
       "      <td>0</td>\n",
       "      <td>0</td>\n",
       "      <td>0</td>\n",
       "    </tr>\n",
       "  </tbody>\n",
       "</table>\n",
       "</div>"
      ],
      "text/plain": [
       "   DISCOVER_DAY  DISCOVER_HOUR  LONGITUDE   LATITUDE  ...  PAIR_NAME_Mohakhali  PAIR_NAME_Science Lab  PAIR_NAME_Shahbag Circle  PAIR_NAME_Zero Point\n",
       "0            18              8  90.421319  23.809342  ...                    0                      0                         0                     0\n",
       "\n",
       "[1 rows x 45 columns]"
      ]
     },
     "execution_count": 87,
     "metadata": {},
     "output_type": "execute_result"
    }
   ],
   "source": [
    "single_df.head()"
   ]
  },
  {
   "cell_type": "code",
   "execution_count": 88,
   "id": "bb7c4855",
   "metadata": {
    "hidden": true
   },
   "outputs": [
    {
     "name": "stderr",
     "output_type": "stream",
     "text": [
      "Z:\\Users\\User\\anaconda3\\lib\\site-packages\\sklearn\\base.py:450: UserWarning: X does not have valid feature names, but LinearSVR was fitted with feature names\n",
      "  warnings.warn(\n"
     ]
    },
    {
     "data": {
      "text/plain": [
       "array([770.457], dtype=float32)"
      ]
     },
     "execution_count": 88,
     "metadata": {},
     "output_type": "execute_result"
    }
   ],
   "source": [
    "exported_pipeline.predict(single_df)"
   ]
  },
  {
   "cell_type": "code",
   "execution_count": 93,
   "id": "fc7033dd",
   "metadata": {
    "hidden": true
   },
   "outputs": [
    {
     "data": {
      "text/plain": [
       "1503    708\n",
       "Name: VEHICLES, dtype: int64"
      ]
     },
     "execution_count": 93,
     "metadata": {},
     "output_type": "execute_result"
    }
   ],
   "source": [
    "y_test.iloc[[700]]"
   ]
  },
  {
   "cell_type": "code",
   "execution_count": 92,
   "id": "8511c34a",
   "metadata": {
    "hidden": true
   },
   "outputs": [
    {
     "data": {
      "text/html": [
       "<div>\n",
       "<style scoped>\n",
       "    .dataframe tbody tr th:only-of-type {\n",
       "        vertical-align: middle;\n",
       "    }\n",
       "\n",
       "    .dataframe tbody tr th {\n",
       "        vertical-align: top;\n",
       "    }\n",
       "\n",
       "    .dataframe thead th {\n",
       "        text-align: right;\n",
       "    }\n",
       "</style>\n",
       "<table border=\"1\" class=\"dataframe\">\n",
       "  <thead>\n",
       "    <tr style=\"text-align: right;\">\n",
       "      <th></th>\n",
       "      <th>DISCOVER_DAY</th>\n",
       "      <th>DISCOVER_HOUR</th>\n",
       "      <th>LONGITUDE</th>\n",
       "      <th>LATITUDE</th>\n",
       "      <th>IP_ADDRESS_192.168.250.10</th>\n",
       "      <th>IP_ADDRESS_192.168.250.11</th>\n",
       "      <th>IP_ADDRESS_192.168.250.18</th>\n",
       "      <th>IP_ADDRESS_192.168.250.19</th>\n",
       "      <th>IP_ADDRESS_192.168.250.2</th>\n",
       "      <th>IP_ADDRESS_192.168.250.26</th>\n",
       "      <th>IP_ADDRESS_192.168.250.27</th>\n",
       "      <th>IP_ADDRESS_192.168.250.3</th>\n",
       "      <th>IP_ADDRESS_192.168.250.34</th>\n",
       "      <th>IP_ADDRESS_192.168.250.35</th>\n",
       "      <th>IP_ADDRESS_192.168.250.42</th>\n",
       "      <th>IP_ADDRESS_192.168.250.43</th>\n",
       "      <th>IP_ADDRESS_192.168.250.50</th>\n",
       "      <th>IP_ADDRESS_192.168.250.51</th>\n",
       "      <th>IP_ADDRESS_192.168.250.58</th>\n",
       "      <th>IP_ADDRESS_192.168.250.59</th>\n",
       "      <th>IP_ADDRESS_192.168.250.67</th>\n",
       "      <th>NAME_To Aminbazar New</th>\n",
       "      <th>NAME_To Bijoy Nagar New</th>\n",
       "      <th>NAME_To Bishaw Road New</th>\n",
       "      <th>NAME_To Dhanmondi New</th>\n",
       "      <th>NAME_To Kakoli New</th>\n",
       "      <th>NAME_To Kakrail Mosque New</th>\n",
       "      <th>NAME_To Kollyanpur New</th>\n",
       "      <th>NAME_To Mohakhali Circle New</th>\n",
       "      <th>NAME_To Motsho Bhaban New</th>\n",
       "      <th>NAME_To New Market New</th>\n",
       "      <th>NAME_To Notun Baazar New</th>\n",
       "      <th>NAME_To Paltan New</th>\n",
       "      <th>NAME_To Shahbag Circle New</th>\n",
       "      <th>NAME_To Tatibazar New</th>\n",
       "      <th>NAME_To Zero Point Circle New</th>\n",
       "      <th>PAIR_NAME_Buriganga Bridge</th>\n",
       "      <th>PAIR_NAME_Gabtoli Mazar Road</th>\n",
       "      <th>PAIR_NAME_Gulshan 2</th>\n",
       "      <th>PAIR_NAME_Kakrail</th>\n",
       "      <th>PAIR_NAME_Kuril Bishawroad</th>\n",
       "      <th>PAIR_NAME_Mohakhali</th>\n",
       "      <th>PAIR_NAME_Science Lab</th>\n",
       "      <th>PAIR_NAME_Shahbag Circle</th>\n",
       "      <th>PAIR_NAME_Zero Point</th>\n",
       "    </tr>\n",
       "  </thead>\n",
       "  <tbody>\n",
       "    <tr>\n",
       "      <th>1503</th>\n",
       "      <td>18</td>\n",
       "      <td>8</td>\n",
       "      <td>90.421319</td>\n",
       "      <td>23.809342</td>\n",
       "      <td>0</td>\n",
       "      <td>0</td>\n",
       "      <td>0</td>\n",
       "      <td>0</td>\n",
       "      <td>0</td>\n",
       "      <td>1</td>\n",
       "      <td>0</td>\n",
       "      <td>0</td>\n",
       "      <td>0</td>\n",
       "      <td>0</td>\n",
       "      <td>0</td>\n",
       "      <td>0</td>\n",
       "      <td>0</td>\n",
       "      <td>0</td>\n",
       "      <td>0</td>\n",
       "      <td>0</td>\n",
       "      <td>0</td>\n",
       "      <td>0</td>\n",
       "      <td>0</td>\n",
       "      <td>0</td>\n",
       "      <td>0</td>\n",
       "      <td>0</td>\n",
       "      <td>0</td>\n",
       "      <td>0</td>\n",
       "      <td>0</td>\n",
       "      <td>0</td>\n",
       "      <td>0</td>\n",
       "      <td>1</td>\n",
       "      <td>0</td>\n",
       "      <td>0</td>\n",
       "      <td>0</td>\n",
       "      <td>0</td>\n",
       "      <td>0</td>\n",
       "      <td>0</td>\n",
       "      <td>0</td>\n",
       "      <td>0</td>\n",
       "      <td>1</td>\n",
       "      <td>0</td>\n",
       "      <td>0</td>\n",
       "      <td>0</td>\n",
       "      <td>0</td>\n",
       "    </tr>\n",
       "  </tbody>\n",
       "</table>\n",
       "</div>"
      ],
      "text/plain": [
       "      DISCOVER_DAY  DISCOVER_HOUR  LONGITUDE   LATITUDE  ...  PAIR_NAME_Mohakhali  PAIR_NAME_Science Lab  PAIR_NAME_Shahbag Circle  PAIR_NAME_Zero Point\n",
       "1503            18              8  90.421319  23.809342  ...                    0                      0                         0                     0\n",
       "\n",
       "[1 rows x 45 columns]"
      ]
     },
     "execution_count": 92,
     "metadata": {},
     "output_type": "execute_result"
    }
   ],
   "source": [
    "X_test.iloc[[700]]"
   ]
  },
  {
   "cell_type": "code",
   "execution_count": 94,
   "id": "d6751395",
   "metadata": {
    "hidden": true
   },
   "outputs": [
    {
     "data": {
      "text/html": [
       "<div>\n",
       "<style scoped>\n",
       "    .dataframe tbody tr th:only-of-type {\n",
       "        vertical-align: middle;\n",
       "    }\n",
       "\n",
       "    .dataframe tbody tr th {\n",
       "        vertical-align: top;\n",
       "    }\n",
       "\n",
       "    .dataframe thead th {\n",
       "        text-align: right;\n",
       "    }\n",
       "</style>\n",
       "<table border=\"1\" class=\"dataframe\">\n",
       "  <thead>\n",
       "    <tr style=\"text-align: right;\">\n",
       "      <th></th>\n",
       "      <th>DISCOVER_DAY</th>\n",
       "      <th>DISCOVER_HOUR</th>\n",
       "      <th>LONGITUDE</th>\n",
       "      <th>LATITUDE</th>\n",
       "      <th>IP_ADDRESS_192.168.250.10</th>\n",
       "      <th>IP_ADDRESS_192.168.250.11</th>\n",
       "      <th>IP_ADDRESS_192.168.250.18</th>\n",
       "      <th>IP_ADDRESS_192.168.250.19</th>\n",
       "      <th>IP_ADDRESS_192.168.250.2</th>\n",
       "      <th>IP_ADDRESS_192.168.250.26</th>\n",
       "      <th>IP_ADDRESS_192.168.250.27</th>\n",
       "      <th>IP_ADDRESS_192.168.250.3</th>\n",
       "      <th>IP_ADDRESS_192.168.250.34</th>\n",
       "      <th>IP_ADDRESS_192.168.250.35</th>\n",
       "      <th>IP_ADDRESS_192.168.250.42</th>\n",
       "      <th>IP_ADDRESS_192.168.250.43</th>\n",
       "      <th>IP_ADDRESS_192.168.250.50</th>\n",
       "      <th>IP_ADDRESS_192.168.250.51</th>\n",
       "      <th>IP_ADDRESS_192.168.250.58</th>\n",
       "      <th>IP_ADDRESS_192.168.250.59</th>\n",
       "      <th>IP_ADDRESS_192.168.250.67</th>\n",
       "      <th>NAME_To Aminbazar New</th>\n",
       "      <th>NAME_To Bijoy Nagar New</th>\n",
       "      <th>NAME_To Bishaw Road New</th>\n",
       "      <th>NAME_To Dhanmondi New</th>\n",
       "      <th>NAME_To Kakoli New</th>\n",
       "      <th>NAME_To Kakrail Mosque New</th>\n",
       "      <th>NAME_To Kollyanpur New</th>\n",
       "      <th>NAME_To Mohakhali Circle New</th>\n",
       "      <th>NAME_To Motsho Bhaban New</th>\n",
       "      <th>NAME_To New Market New</th>\n",
       "      <th>NAME_To Notun Baazar New</th>\n",
       "      <th>NAME_To Paltan New</th>\n",
       "      <th>NAME_To Shahbag Circle New</th>\n",
       "      <th>NAME_To Tatibazar New</th>\n",
       "      <th>NAME_To Zero Point Circle New</th>\n",
       "      <th>PAIR_NAME_Buriganga Bridge</th>\n",
       "      <th>PAIR_NAME_Gabtoli Mazar Road</th>\n",
       "      <th>PAIR_NAME_Gulshan 2</th>\n",
       "      <th>PAIR_NAME_Kakrail</th>\n",
       "      <th>PAIR_NAME_Kuril Bishawroad</th>\n",
       "      <th>PAIR_NAME_Mohakhali</th>\n",
       "      <th>PAIR_NAME_Science Lab</th>\n",
       "      <th>PAIR_NAME_Shahbag Circle</th>\n",
       "      <th>PAIR_NAME_Zero Point</th>\n",
       "    </tr>\n",
       "  </thead>\n",
       "  <tbody>\n",
       "    <tr>\n",
       "      <th>1503</th>\n",
       "      <td>18</td>\n",
       "      <td>8</td>\n",
       "      <td>90.421319</td>\n",
       "      <td>23.809342</td>\n",
       "      <td>0</td>\n",
       "      <td>0</td>\n",
       "      <td>0</td>\n",
       "      <td>0</td>\n",
       "      <td>0</td>\n",
       "      <td>1</td>\n",
       "      <td>0</td>\n",
       "      <td>0</td>\n",
       "      <td>0</td>\n",
       "      <td>0</td>\n",
       "      <td>0</td>\n",
       "      <td>0</td>\n",
       "      <td>0</td>\n",
       "      <td>0</td>\n",
       "      <td>0</td>\n",
       "      <td>0</td>\n",
       "      <td>0</td>\n",
       "      <td>0</td>\n",
       "      <td>0</td>\n",
       "      <td>0</td>\n",
       "      <td>0</td>\n",
       "      <td>0</td>\n",
       "      <td>0</td>\n",
       "      <td>0</td>\n",
       "      <td>0</td>\n",
       "      <td>0</td>\n",
       "      <td>0</td>\n",
       "      <td>1</td>\n",
       "      <td>0</td>\n",
       "      <td>0</td>\n",
       "      <td>0</td>\n",
       "      <td>0</td>\n",
       "      <td>0</td>\n",
       "      <td>0</td>\n",
       "      <td>0</td>\n",
       "      <td>0</td>\n",
       "      <td>1</td>\n",
       "      <td>0</td>\n",
       "      <td>0</td>\n",
       "      <td>0</td>\n",
       "      <td>0</td>\n",
       "    </tr>\n",
       "  </tbody>\n",
       "</table>\n",
       "</div>"
      ],
      "text/plain": [
       "      DISCOVER_DAY  DISCOVER_HOUR  LONGITUDE   LATITUDE  ...  PAIR_NAME_Mohakhali  PAIR_NAME_Science Lab  PAIR_NAME_Shahbag Circle  PAIR_NAME_Zero Point\n",
       "1503            18              8  90.421319  23.809342  ...                    0                      0                         0                     0\n",
       "\n",
       "[1 rows x 45 columns]"
      ]
     },
     "execution_count": 94,
     "metadata": {},
     "output_type": "execute_result"
    }
   ],
   "source": [
    "X.iloc[[1503]]"
   ]
  },
  {
   "cell_type": "code",
   "execution_count": 95,
   "id": "49625754",
   "metadata": {
    "hidden": true
   },
   "outputs": [
    {
     "data": {
      "text/plain": [
       "1503    708\n",
       "Name: VEHICLES, dtype: int64"
      ]
     },
     "execution_count": 95,
     "metadata": {},
     "output_type": "execute_result"
    }
   ],
   "source": [
    "y.iloc[[1503]]"
   ]
  },
  {
   "cell_type": "code",
   "execution_count": null,
   "id": "5952955c",
   "metadata": {
    "hidden": true
   },
   "outputs": [],
   "source": []
  }
 ],
 "metadata": {
  "kernelspec": {
   "display_name": "tpot_automl_env",
   "language": "python",
   "name": "tpot_automl_env"
  },
  "language_info": {
   "codemirror_mode": {
    "name": "ipython",
    "version": 3
   },
   "file_extension": ".py",
   "mimetype": "text/x-python",
   "name": "python",
   "nbconvert_exporter": "python",
   "pygments_lexer": "ipython3",
   "version": "3.9.13"
  },
  "toc": {
   "base_numbering": 1,
   "nav_menu": {},
   "number_sections": true,
   "sideBar": true,
   "skip_h1_title": false,
   "title_cell": "Table of Contents",
   "title_sidebar": "Contents",
   "toc_cell": false,
   "toc_position": {
    "height": "calc(100% - 180px)",
    "left": "10px",
    "top": "150px",
    "width": "303.837px"
   },
   "toc_section_display": true,
   "toc_window_display": false
  }
 },
 "nbformat": 4,
 "nbformat_minor": 5
}
