{
 "cells": [
  {
   "cell_type": "code",
   "execution_count": 1,
   "id": "967ed1d9",
   "metadata": {},
   "outputs": [],
   "source": [
    "import os\n",
    "import pandas as pd\n",
    "import numpy as np\n",
    "import seaborn as sns\n",
    "from matplotlib import pyplot\n",
    "import yaml"
   ]
  },
  {
   "cell_type": "markdown",
   "id": "652053e1",
   "metadata": {},
   "source": [
    "# Read config"
   ]
  },
  {
   "cell_type": "code",
   "execution_count": 2,
   "id": "e771bb2e",
   "metadata": {},
   "outputs": [],
   "source": [
    "with open('../params.yaml') as conf_file:\n",
    "    config = yaml.safe_load(conf_file)"
   ]
  },
  {
   "cell_type": "markdown",
   "id": "f395ecf8",
   "metadata": {},
   "source": [
    "\n",
    "# Read Clean Data"
   ]
  },
  {
   "cell_type": "code",
   "execution_count": 3,
   "id": "d515eb78",
   "metadata": {},
   "outputs": [],
   "source": [
    "clean_data_df = pd.read_csv('../' + config[\"featurize\"][\"clean_data\"])"
   ]
  },
  {
   "cell_type": "code",
   "execution_count": 4,
   "id": "a3dde898",
   "metadata": {},
   "outputs": [
    {
     "data": {
      "text/plain": [
       "(85409, 9)"
      ]
     },
     "execution_count": 4,
     "metadata": {},
     "output_type": "execute_result"
    }
   ],
   "source": [
    "clean_data_df.shape"
   ]
  },
  {
   "cell_type": "code",
   "execution_count": null,
   "id": "14f92b3e",
   "metadata": {},
   "outputs": [],
   "source": [
    "clean_data_df.sample(5)"
   ]
  },
  {
   "cell_type": "markdown",
   "id": "24909b73",
   "metadata": {},
   "source": [
    "# Data Split"
   ]
  },
  {
   "cell_type": "code",
   "execution_count": 6,
   "id": "b04e3139",
   "metadata": {},
   "outputs": [
    {
     "name": "stdout",
     "output_type": "stream",
     "text": [
      "Data for Modeling: (76868, 9)\n",
      "Unseen Data For Predictions: (8541, 9)\n"
     ]
    }
   ],
   "source": [
    "data = clean_data_df.sample(frac=0.9, random_state=786)\n",
    "data_unseen = clean_data_df.drop(data.index)\n",
    "\n",
    "data.reset_index(drop=True, inplace=True)\n",
    "data_unseen.reset_index(drop=True, inplace=True)\n",
    "\n",
    "print('Data for Modeling: ' + str(data.shape))\n",
    "print('Unseen Data For Predictions: ' + str(data_unseen.shape))"
   ]
  },
  {
   "cell_type": "markdown",
   "id": "655ce976",
   "metadata": {},
   "source": [
    "# PyCaret Experiment"
   ]
  },
  {
   "cell_type": "code",
   "execution_count": 7,
   "id": "36fcc57f",
   "metadata": {},
   "outputs": [],
   "source": [
    "from pycaret.regression import *\n",
    "from pycaret.utils import check_metric\n",
    "import xgboost"
   ]
  },
  {
   "cell_type": "markdown",
   "id": "2db4e095",
   "metadata": {},
   "source": [
    "## PyCaret Setup"
   ]
  },
  {
   "cell_type": "code",
   "execution_count": 8,
   "id": "a59ecc29",
   "metadata": {},
   "outputs": [
    {
     "data": {
      "text/html": [
       "<style type=\"text/css\">\n",
       "#T_f523a_row42_col1 {\n",
       "  background-color: lightgreen;\n",
       "}\n",
       "</style>\n",
       "<table id=\"T_f523a\">\n",
       "  <thead>\n",
       "    <tr>\n",
       "      <th class=\"blank level0\" >&nbsp;</th>\n",
       "      <th id=\"T_f523a_level0_col0\" class=\"col_heading level0 col0\" >Description</th>\n",
       "      <th id=\"T_f523a_level0_col1\" class=\"col_heading level0 col1\" >Value</th>\n",
       "    </tr>\n",
       "  </thead>\n",
       "  <tbody>\n",
       "    <tr>\n",
       "      <th id=\"T_f523a_level0_row0\" class=\"row_heading level0 row0\" >0</th>\n",
       "      <td id=\"T_f523a_row0_col0\" class=\"data row0 col0\" >session_id</td>\n",
       "      <td id=\"T_f523a_row0_col1\" class=\"data row0 col1\" >123</td>\n",
       "    </tr>\n",
       "    <tr>\n",
       "      <th id=\"T_f523a_level0_row1\" class=\"row_heading level0 row1\" >1</th>\n",
       "      <td id=\"T_f523a_row1_col0\" class=\"data row1 col0\" >Target</td>\n",
       "      <td id=\"T_f523a_row1_col1\" class=\"data row1 col1\" >VEHICLES</td>\n",
       "    </tr>\n",
       "    <tr>\n",
       "      <th id=\"T_f523a_level0_row2\" class=\"row_heading level0 row2\" >2</th>\n",
       "      <td id=\"T_f523a_row2_col0\" class=\"data row2 col0\" >Original Data</td>\n",
       "      <td id=\"T_f523a_row2_col1\" class=\"data row2 col1\" >(76868, 9)</td>\n",
       "    </tr>\n",
       "    <tr>\n",
       "      <th id=\"T_f523a_level0_row3\" class=\"row_heading level0 row3\" >3</th>\n",
       "      <td id=\"T_f523a_row3_col0\" class=\"data row3 col0\" >Missing Values</td>\n",
       "      <td id=\"T_f523a_row3_col1\" class=\"data row3 col1\" >False</td>\n",
       "    </tr>\n",
       "    <tr>\n",
       "      <th id=\"T_f523a_level0_row4\" class=\"row_heading level0 row4\" >4</th>\n",
       "      <td id=\"T_f523a_row4_col0\" class=\"data row4 col0\" >Numeric Features</td>\n",
       "      <td id=\"T_f523a_row4_col1\" class=\"data row4 col1\" >4</td>\n",
       "    </tr>\n",
       "    <tr>\n",
       "      <th id=\"T_f523a_level0_row5\" class=\"row_heading level0 row5\" >5</th>\n",
       "      <td id=\"T_f523a_row5_col0\" class=\"data row5 col0\" >Categorical Features</td>\n",
       "      <td id=\"T_f523a_row5_col1\" class=\"data row5 col1\" >4</td>\n",
       "    </tr>\n",
       "    <tr>\n",
       "      <th id=\"T_f523a_level0_row6\" class=\"row_heading level0 row6\" >6</th>\n",
       "      <td id=\"T_f523a_row6_col0\" class=\"data row6 col0\" >Ordinal Features</td>\n",
       "      <td id=\"T_f523a_row6_col1\" class=\"data row6 col1\" >False</td>\n",
       "    </tr>\n",
       "    <tr>\n",
       "      <th id=\"T_f523a_level0_row7\" class=\"row_heading level0 row7\" >7</th>\n",
       "      <td id=\"T_f523a_row7_col0\" class=\"data row7 col0\" >High Cardinality Features</td>\n",
       "      <td id=\"T_f523a_row7_col1\" class=\"data row7 col1\" >False</td>\n",
       "    </tr>\n",
       "    <tr>\n",
       "      <th id=\"T_f523a_level0_row8\" class=\"row_heading level0 row8\" >8</th>\n",
       "      <td id=\"T_f523a_row8_col0\" class=\"data row8 col0\" >High Cardinality Method</td>\n",
       "      <td id=\"T_f523a_row8_col1\" class=\"data row8 col1\" >None</td>\n",
       "    </tr>\n",
       "    <tr>\n",
       "      <th id=\"T_f523a_level0_row9\" class=\"row_heading level0 row9\" >9</th>\n",
       "      <td id=\"T_f523a_row9_col0\" class=\"data row9 col0\" >Transformed Train Set</td>\n",
       "      <td id=\"T_f523a_row9_col1\" class=\"data row9 col1\" >(53807, 43)</td>\n",
       "    </tr>\n",
       "    <tr>\n",
       "      <th id=\"T_f523a_level0_row10\" class=\"row_heading level0 row10\" >10</th>\n",
       "      <td id=\"T_f523a_row10_col0\" class=\"data row10 col0\" >Transformed Test Set</td>\n",
       "      <td id=\"T_f523a_row10_col1\" class=\"data row10 col1\" >(23061, 43)</td>\n",
       "    </tr>\n",
       "    <tr>\n",
       "      <th id=\"T_f523a_level0_row11\" class=\"row_heading level0 row11\" >11</th>\n",
       "      <td id=\"T_f523a_row11_col0\" class=\"data row11 col0\" >Shuffle Train-Test</td>\n",
       "      <td id=\"T_f523a_row11_col1\" class=\"data row11 col1\" >True</td>\n",
       "    </tr>\n",
       "    <tr>\n",
       "      <th id=\"T_f523a_level0_row12\" class=\"row_heading level0 row12\" >12</th>\n",
       "      <td id=\"T_f523a_row12_col0\" class=\"data row12 col0\" >Stratify Train-Test</td>\n",
       "      <td id=\"T_f523a_row12_col1\" class=\"data row12 col1\" >False</td>\n",
       "    </tr>\n",
       "    <tr>\n",
       "      <th id=\"T_f523a_level0_row13\" class=\"row_heading level0 row13\" >13</th>\n",
       "      <td id=\"T_f523a_row13_col0\" class=\"data row13 col0\" >Fold Generator</td>\n",
       "      <td id=\"T_f523a_row13_col1\" class=\"data row13 col1\" >KFold</td>\n",
       "    </tr>\n",
       "    <tr>\n",
       "      <th id=\"T_f523a_level0_row14\" class=\"row_heading level0 row14\" >14</th>\n",
       "      <td id=\"T_f523a_row14_col0\" class=\"data row14 col0\" >Fold Number</td>\n",
       "      <td id=\"T_f523a_row14_col1\" class=\"data row14 col1\" >10</td>\n",
       "    </tr>\n",
       "    <tr>\n",
       "      <th id=\"T_f523a_level0_row15\" class=\"row_heading level0 row15\" >15</th>\n",
       "      <td id=\"T_f523a_row15_col0\" class=\"data row15 col0\" >CPU Jobs</td>\n",
       "      <td id=\"T_f523a_row15_col1\" class=\"data row15 col1\" >-1</td>\n",
       "    </tr>\n",
       "    <tr>\n",
       "      <th id=\"T_f523a_level0_row16\" class=\"row_heading level0 row16\" >16</th>\n",
       "      <td id=\"T_f523a_row16_col0\" class=\"data row16 col0\" >Use GPU</td>\n",
       "      <td id=\"T_f523a_row16_col1\" class=\"data row16 col1\" >False</td>\n",
       "    </tr>\n",
       "    <tr>\n",
       "      <th id=\"T_f523a_level0_row17\" class=\"row_heading level0 row17\" >17</th>\n",
       "      <td id=\"T_f523a_row17_col0\" class=\"data row17 col0\" >Log Experiment</td>\n",
       "      <td id=\"T_f523a_row17_col1\" class=\"data row17 col1\" >False</td>\n",
       "    </tr>\n",
       "    <tr>\n",
       "      <th id=\"T_f523a_level0_row18\" class=\"row_heading level0 row18\" >18</th>\n",
       "      <td id=\"T_f523a_row18_col0\" class=\"data row18 col0\" >Experiment Name</td>\n",
       "      <td id=\"T_f523a_row18_col1\" class=\"data row18 col1\" >reg-default-name</td>\n",
       "    </tr>\n",
       "    <tr>\n",
       "      <th id=\"T_f523a_level0_row19\" class=\"row_heading level0 row19\" >19</th>\n",
       "      <td id=\"T_f523a_row19_col0\" class=\"data row19 col0\" >USI</td>\n",
       "      <td id=\"T_f523a_row19_col1\" class=\"data row19 col1\" >ca76</td>\n",
       "    </tr>\n",
       "    <tr>\n",
       "      <th id=\"T_f523a_level0_row20\" class=\"row_heading level0 row20\" >20</th>\n",
       "      <td id=\"T_f523a_row20_col0\" class=\"data row20 col0\" >Imputation Type</td>\n",
       "      <td id=\"T_f523a_row20_col1\" class=\"data row20 col1\" >simple</td>\n",
       "    </tr>\n",
       "    <tr>\n",
       "      <th id=\"T_f523a_level0_row21\" class=\"row_heading level0 row21\" >21</th>\n",
       "      <td id=\"T_f523a_row21_col0\" class=\"data row21 col0\" >Iterative Imputation Iteration</td>\n",
       "      <td id=\"T_f523a_row21_col1\" class=\"data row21 col1\" >None</td>\n",
       "    </tr>\n",
       "    <tr>\n",
       "      <th id=\"T_f523a_level0_row22\" class=\"row_heading level0 row22\" >22</th>\n",
       "      <td id=\"T_f523a_row22_col0\" class=\"data row22 col0\" >Numeric Imputer</td>\n",
       "      <td id=\"T_f523a_row22_col1\" class=\"data row22 col1\" >mean</td>\n",
       "    </tr>\n",
       "    <tr>\n",
       "      <th id=\"T_f523a_level0_row23\" class=\"row_heading level0 row23\" >23</th>\n",
       "      <td id=\"T_f523a_row23_col0\" class=\"data row23 col0\" >Iterative Imputation Numeric Model</td>\n",
       "      <td id=\"T_f523a_row23_col1\" class=\"data row23 col1\" >None</td>\n",
       "    </tr>\n",
       "    <tr>\n",
       "      <th id=\"T_f523a_level0_row24\" class=\"row_heading level0 row24\" >24</th>\n",
       "      <td id=\"T_f523a_row24_col0\" class=\"data row24 col0\" >Categorical Imputer</td>\n",
       "      <td id=\"T_f523a_row24_col1\" class=\"data row24 col1\" >constant</td>\n",
       "    </tr>\n",
       "    <tr>\n",
       "      <th id=\"T_f523a_level0_row25\" class=\"row_heading level0 row25\" >25</th>\n",
       "      <td id=\"T_f523a_row25_col0\" class=\"data row25 col0\" >Iterative Imputation Categorical Model</td>\n",
       "      <td id=\"T_f523a_row25_col1\" class=\"data row25 col1\" >None</td>\n",
       "    </tr>\n",
       "    <tr>\n",
       "      <th id=\"T_f523a_level0_row26\" class=\"row_heading level0 row26\" >26</th>\n",
       "      <td id=\"T_f523a_row26_col0\" class=\"data row26 col0\" >Unknown Categoricals Handling</td>\n",
       "      <td id=\"T_f523a_row26_col1\" class=\"data row26 col1\" >least_frequent</td>\n",
       "    </tr>\n",
       "    <tr>\n",
       "      <th id=\"T_f523a_level0_row27\" class=\"row_heading level0 row27\" >27</th>\n",
       "      <td id=\"T_f523a_row27_col0\" class=\"data row27 col0\" >Normalize</td>\n",
       "      <td id=\"T_f523a_row27_col1\" class=\"data row27 col1\" >False</td>\n",
       "    </tr>\n",
       "    <tr>\n",
       "      <th id=\"T_f523a_level0_row28\" class=\"row_heading level0 row28\" >28</th>\n",
       "      <td id=\"T_f523a_row28_col0\" class=\"data row28 col0\" >Normalize Method</td>\n",
       "      <td id=\"T_f523a_row28_col1\" class=\"data row28 col1\" >None</td>\n",
       "    </tr>\n",
       "    <tr>\n",
       "      <th id=\"T_f523a_level0_row29\" class=\"row_heading level0 row29\" >29</th>\n",
       "      <td id=\"T_f523a_row29_col0\" class=\"data row29 col0\" >Transformation</td>\n",
       "      <td id=\"T_f523a_row29_col1\" class=\"data row29 col1\" >False</td>\n",
       "    </tr>\n",
       "    <tr>\n",
       "      <th id=\"T_f523a_level0_row30\" class=\"row_heading level0 row30\" >30</th>\n",
       "      <td id=\"T_f523a_row30_col0\" class=\"data row30 col0\" >Transformation Method</td>\n",
       "      <td id=\"T_f523a_row30_col1\" class=\"data row30 col1\" >None</td>\n",
       "    </tr>\n",
       "    <tr>\n",
       "      <th id=\"T_f523a_level0_row31\" class=\"row_heading level0 row31\" >31</th>\n",
       "      <td id=\"T_f523a_row31_col0\" class=\"data row31 col0\" >PCA</td>\n",
       "      <td id=\"T_f523a_row31_col1\" class=\"data row31 col1\" >False</td>\n",
       "    </tr>\n",
       "    <tr>\n",
       "      <th id=\"T_f523a_level0_row32\" class=\"row_heading level0 row32\" >32</th>\n",
       "      <td id=\"T_f523a_row32_col0\" class=\"data row32 col0\" >PCA Method</td>\n",
       "      <td id=\"T_f523a_row32_col1\" class=\"data row32 col1\" >None</td>\n",
       "    </tr>\n",
       "    <tr>\n",
       "      <th id=\"T_f523a_level0_row33\" class=\"row_heading level0 row33\" >33</th>\n",
       "      <td id=\"T_f523a_row33_col0\" class=\"data row33 col0\" >PCA Components</td>\n",
       "      <td id=\"T_f523a_row33_col1\" class=\"data row33 col1\" >None</td>\n",
       "    </tr>\n",
       "    <tr>\n",
       "      <th id=\"T_f523a_level0_row34\" class=\"row_heading level0 row34\" >34</th>\n",
       "      <td id=\"T_f523a_row34_col0\" class=\"data row34 col0\" >Ignore Low Variance</td>\n",
       "      <td id=\"T_f523a_row34_col1\" class=\"data row34 col1\" >False</td>\n",
       "    </tr>\n",
       "    <tr>\n",
       "      <th id=\"T_f523a_level0_row35\" class=\"row_heading level0 row35\" >35</th>\n",
       "      <td id=\"T_f523a_row35_col0\" class=\"data row35 col0\" >Combine Rare Levels</td>\n",
       "      <td id=\"T_f523a_row35_col1\" class=\"data row35 col1\" >False</td>\n",
       "    </tr>\n",
       "    <tr>\n",
       "      <th id=\"T_f523a_level0_row36\" class=\"row_heading level0 row36\" >36</th>\n",
       "      <td id=\"T_f523a_row36_col0\" class=\"data row36 col0\" >Rare Level Threshold</td>\n",
       "      <td id=\"T_f523a_row36_col1\" class=\"data row36 col1\" >None</td>\n",
       "    </tr>\n",
       "    <tr>\n",
       "      <th id=\"T_f523a_level0_row37\" class=\"row_heading level0 row37\" >37</th>\n",
       "      <td id=\"T_f523a_row37_col0\" class=\"data row37 col0\" >Numeric Binning</td>\n",
       "      <td id=\"T_f523a_row37_col1\" class=\"data row37 col1\" >False</td>\n",
       "    </tr>\n",
       "    <tr>\n",
       "      <th id=\"T_f523a_level0_row38\" class=\"row_heading level0 row38\" >38</th>\n",
       "      <td id=\"T_f523a_row38_col0\" class=\"data row38 col0\" >Remove Outliers</td>\n",
       "      <td id=\"T_f523a_row38_col1\" class=\"data row38 col1\" >False</td>\n",
       "    </tr>\n",
       "    <tr>\n",
       "      <th id=\"T_f523a_level0_row39\" class=\"row_heading level0 row39\" >39</th>\n",
       "      <td id=\"T_f523a_row39_col0\" class=\"data row39 col0\" >Outliers Threshold</td>\n",
       "      <td id=\"T_f523a_row39_col1\" class=\"data row39 col1\" >None</td>\n",
       "    </tr>\n",
       "    <tr>\n",
       "      <th id=\"T_f523a_level0_row40\" class=\"row_heading level0 row40\" >40</th>\n",
       "      <td id=\"T_f523a_row40_col0\" class=\"data row40 col0\" >Remove Multicollinearity</td>\n",
       "      <td id=\"T_f523a_row40_col1\" class=\"data row40 col1\" >False</td>\n",
       "    </tr>\n",
       "    <tr>\n",
       "      <th id=\"T_f523a_level0_row41\" class=\"row_heading level0 row41\" >41</th>\n",
       "      <td id=\"T_f523a_row41_col0\" class=\"data row41 col0\" >Multicollinearity Threshold</td>\n",
       "      <td id=\"T_f523a_row41_col1\" class=\"data row41 col1\" >None</td>\n",
       "    </tr>\n",
       "    <tr>\n",
       "      <th id=\"T_f523a_level0_row42\" class=\"row_heading level0 row42\" >42</th>\n",
       "      <td id=\"T_f523a_row42_col0\" class=\"data row42 col0\" >Remove Perfect Collinearity</td>\n",
       "      <td id=\"T_f523a_row42_col1\" class=\"data row42 col1\" >True</td>\n",
       "    </tr>\n",
       "    <tr>\n",
       "      <th id=\"T_f523a_level0_row43\" class=\"row_heading level0 row43\" >43</th>\n",
       "      <td id=\"T_f523a_row43_col0\" class=\"data row43 col0\" >Clustering</td>\n",
       "      <td id=\"T_f523a_row43_col1\" class=\"data row43 col1\" >False</td>\n",
       "    </tr>\n",
       "    <tr>\n",
       "      <th id=\"T_f523a_level0_row44\" class=\"row_heading level0 row44\" >44</th>\n",
       "      <td id=\"T_f523a_row44_col0\" class=\"data row44 col0\" >Clustering Iteration</td>\n",
       "      <td id=\"T_f523a_row44_col1\" class=\"data row44 col1\" >None</td>\n",
       "    </tr>\n",
       "    <tr>\n",
       "      <th id=\"T_f523a_level0_row45\" class=\"row_heading level0 row45\" >45</th>\n",
       "      <td id=\"T_f523a_row45_col0\" class=\"data row45 col0\" >Polynomial Features</td>\n",
       "      <td id=\"T_f523a_row45_col1\" class=\"data row45 col1\" >False</td>\n",
       "    </tr>\n",
       "    <tr>\n",
       "      <th id=\"T_f523a_level0_row46\" class=\"row_heading level0 row46\" >46</th>\n",
       "      <td id=\"T_f523a_row46_col0\" class=\"data row46 col0\" >Polynomial Degree</td>\n",
       "      <td id=\"T_f523a_row46_col1\" class=\"data row46 col1\" >None</td>\n",
       "    </tr>\n",
       "    <tr>\n",
       "      <th id=\"T_f523a_level0_row47\" class=\"row_heading level0 row47\" >47</th>\n",
       "      <td id=\"T_f523a_row47_col0\" class=\"data row47 col0\" >Trignometry Features</td>\n",
       "      <td id=\"T_f523a_row47_col1\" class=\"data row47 col1\" >False</td>\n",
       "    </tr>\n",
       "    <tr>\n",
       "      <th id=\"T_f523a_level0_row48\" class=\"row_heading level0 row48\" >48</th>\n",
       "      <td id=\"T_f523a_row48_col0\" class=\"data row48 col0\" >Polynomial Threshold</td>\n",
       "      <td id=\"T_f523a_row48_col1\" class=\"data row48 col1\" >None</td>\n",
       "    </tr>\n",
       "    <tr>\n",
       "      <th id=\"T_f523a_level0_row49\" class=\"row_heading level0 row49\" >49</th>\n",
       "      <td id=\"T_f523a_row49_col0\" class=\"data row49 col0\" >Group Features</td>\n",
       "      <td id=\"T_f523a_row49_col1\" class=\"data row49 col1\" >False</td>\n",
       "    </tr>\n",
       "    <tr>\n",
       "      <th id=\"T_f523a_level0_row50\" class=\"row_heading level0 row50\" >50</th>\n",
       "      <td id=\"T_f523a_row50_col0\" class=\"data row50 col0\" >Feature Selection</td>\n",
       "      <td id=\"T_f523a_row50_col1\" class=\"data row50 col1\" >False</td>\n",
       "    </tr>\n",
       "    <tr>\n",
       "      <th id=\"T_f523a_level0_row51\" class=\"row_heading level0 row51\" >51</th>\n",
       "      <td id=\"T_f523a_row51_col0\" class=\"data row51 col0\" >Feature Selection Method</td>\n",
       "      <td id=\"T_f523a_row51_col1\" class=\"data row51 col1\" >classic</td>\n",
       "    </tr>\n",
       "    <tr>\n",
       "      <th id=\"T_f523a_level0_row52\" class=\"row_heading level0 row52\" >52</th>\n",
       "      <td id=\"T_f523a_row52_col0\" class=\"data row52 col0\" >Features Selection Threshold</td>\n",
       "      <td id=\"T_f523a_row52_col1\" class=\"data row52 col1\" >None</td>\n",
       "    </tr>\n",
       "    <tr>\n",
       "      <th id=\"T_f523a_level0_row53\" class=\"row_heading level0 row53\" >53</th>\n",
       "      <td id=\"T_f523a_row53_col0\" class=\"data row53 col0\" >Feature Interaction</td>\n",
       "      <td id=\"T_f523a_row53_col1\" class=\"data row53 col1\" >False</td>\n",
       "    </tr>\n",
       "    <tr>\n",
       "      <th id=\"T_f523a_level0_row54\" class=\"row_heading level0 row54\" >54</th>\n",
       "      <td id=\"T_f523a_row54_col0\" class=\"data row54 col0\" >Feature Ratio</td>\n",
       "      <td id=\"T_f523a_row54_col1\" class=\"data row54 col1\" >False</td>\n",
       "    </tr>\n",
       "    <tr>\n",
       "      <th id=\"T_f523a_level0_row55\" class=\"row_heading level0 row55\" >55</th>\n",
       "      <td id=\"T_f523a_row55_col0\" class=\"data row55 col0\" >Interaction Threshold</td>\n",
       "      <td id=\"T_f523a_row55_col1\" class=\"data row55 col1\" >None</td>\n",
       "    </tr>\n",
       "    <tr>\n",
       "      <th id=\"T_f523a_level0_row56\" class=\"row_heading level0 row56\" >56</th>\n",
       "      <td id=\"T_f523a_row56_col0\" class=\"data row56 col0\" >Transform Target</td>\n",
       "      <td id=\"T_f523a_row56_col1\" class=\"data row56 col1\" >False</td>\n",
       "    </tr>\n",
       "    <tr>\n",
       "      <th id=\"T_f523a_level0_row57\" class=\"row_heading level0 row57\" >57</th>\n",
       "      <td id=\"T_f523a_row57_col0\" class=\"data row57 col0\" >Transform Target Method</td>\n",
       "      <td id=\"T_f523a_row57_col1\" class=\"data row57 col1\" >box-cox</td>\n",
       "    </tr>\n",
       "  </tbody>\n",
       "</table>\n"
      ],
      "text/plain": [
       "<pandas.io.formats.style.Styler at 0x1b8be50c9d0>"
      ]
     },
     "metadata": {},
     "output_type": "display_data"
    }
   ],
   "source": [
    "s = setup(data = data, target = 'VEHICLES', session_id=123)"
   ]
  },
  {
   "cell_type": "code",
   "execution_count": 9,
   "id": "6c6654f6",
   "metadata": {},
   "outputs": [
    {
     "data": {
      "text/plain": [
       "False"
      ]
     },
     "execution_count": 9,
     "metadata": {},
     "output_type": "execute_result"
    }
   ],
   "source": [
    "s[0]"
   ]
  },
  {
   "cell_type": "markdown",
   "id": "68338684",
   "metadata": {},
   "source": [
    "## PyCaret Models"
   ]
  },
  {
   "cell_type": "code",
   "execution_count": 10,
   "id": "32abdc3d",
   "metadata": {},
   "outputs": [
    {
     "data": {
      "text/html": [
       "<style type=\"text/css\">\n",
       "#T_e3967 th {\n",
       "  text-align: left;\n",
       "}\n",
       "#T_e3967_row0_col0, #T_e3967_row0_col1, #T_e3967_row0_col5, #T_e3967_row0_col6, #T_e3967_row1_col0, #T_e3967_row1_col2, #T_e3967_row1_col3, #T_e3967_row1_col4, #T_e3967_row2_col0, #T_e3967_row2_col1, #T_e3967_row2_col2, #T_e3967_row2_col3, #T_e3967_row2_col4, #T_e3967_row2_col5, #T_e3967_row2_col6, #T_e3967_row3_col0, #T_e3967_row3_col1, #T_e3967_row3_col2, #T_e3967_row3_col3, #T_e3967_row3_col4, #T_e3967_row3_col5, #T_e3967_row3_col6, #T_e3967_row4_col0, #T_e3967_row4_col1, #T_e3967_row4_col2, #T_e3967_row4_col3, #T_e3967_row4_col4, #T_e3967_row4_col5, #T_e3967_row4_col6, #T_e3967_row5_col0, #T_e3967_row5_col1, #T_e3967_row5_col2, #T_e3967_row5_col3, #T_e3967_row5_col4, #T_e3967_row5_col5, #T_e3967_row5_col6, #T_e3967_row6_col0, #T_e3967_row6_col1, #T_e3967_row6_col2, #T_e3967_row6_col3, #T_e3967_row6_col4, #T_e3967_row6_col5, #T_e3967_row6_col6, #T_e3967_row7_col0, #T_e3967_row7_col1, #T_e3967_row7_col2, #T_e3967_row7_col3, #T_e3967_row7_col4, #T_e3967_row7_col5, #T_e3967_row7_col6, #T_e3967_row8_col0, #T_e3967_row8_col1, #T_e3967_row8_col2, #T_e3967_row8_col3, #T_e3967_row8_col4, #T_e3967_row8_col5, #T_e3967_row8_col6, #T_e3967_row9_col0, #T_e3967_row9_col1, #T_e3967_row9_col2, #T_e3967_row9_col3, #T_e3967_row9_col4, #T_e3967_row9_col5, #T_e3967_row9_col6, #T_e3967_row10_col0, #T_e3967_row10_col1, #T_e3967_row10_col2, #T_e3967_row10_col3, #T_e3967_row10_col4, #T_e3967_row10_col5, #T_e3967_row10_col6, #T_e3967_row11_col0, #T_e3967_row11_col1, #T_e3967_row11_col2, #T_e3967_row11_col3, #T_e3967_row11_col4, #T_e3967_row11_col5, #T_e3967_row11_col6, #T_e3967_row12_col0, #T_e3967_row12_col1, #T_e3967_row12_col2, #T_e3967_row12_col3, #T_e3967_row12_col4, #T_e3967_row12_col5, #T_e3967_row12_col6, #T_e3967_row13_col0, #T_e3967_row13_col1, #T_e3967_row13_col2, #T_e3967_row13_col3, #T_e3967_row13_col4, #T_e3967_row13_col5, #T_e3967_row13_col6, #T_e3967_row14_col0, #T_e3967_row14_col1, #T_e3967_row14_col2, #T_e3967_row14_col3, #T_e3967_row14_col4, #T_e3967_row14_col5, #T_e3967_row14_col6, #T_e3967_row15_col0, #T_e3967_row15_col1, #T_e3967_row15_col2, #T_e3967_row15_col3, #T_e3967_row15_col4, #T_e3967_row15_col5, #T_e3967_row15_col6, #T_e3967_row16_col0, #T_e3967_row16_col1, #T_e3967_row16_col2, #T_e3967_row16_col3, #T_e3967_row16_col4, #T_e3967_row16_col5, #T_e3967_row16_col6, #T_e3967_row17_col0, #T_e3967_row17_col1, #T_e3967_row17_col2, #T_e3967_row17_col3, #T_e3967_row17_col4, #T_e3967_row17_col5, #T_e3967_row17_col6, #T_e3967_row18_col0, #T_e3967_row18_col1, #T_e3967_row18_col2, #T_e3967_row18_col3, #T_e3967_row18_col4, #T_e3967_row18_col5, #T_e3967_row18_col6 {\n",
       "  text-align: left;\n",
       "}\n",
       "#T_e3967_row0_col2, #T_e3967_row0_col3, #T_e3967_row0_col4, #T_e3967_row1_col1, #T_e3967_row1_col5, #T_e3967_row1_col6 {\n",
       "  text-align: left;\n",
       "  background-color: yellow;\n",
       "}\n",
       "#T_e3967_row0_col7, #T_e3967_row1_col7, #T_e3967_row2_col7, #T_e3967_row3_col7, #T_e3967_row4_col7, #T_e3967_row5_col7, #T_e3967_row6_col7, #T_e3967_row8_col7, #T_e3967_row9_col7, #T_e3967_row10_col7, #T_e3967_row11_col7, #T_e3967_row12_col7, #T_e3967_row13_col7, #T_e3967_row14_col7, #T_e3967_row15_col7, #T_e3967_row16_col7, #T_e3967_row17_col7, #T_e3967_row18_col7 {\n",
       "  text-align: left;\n",
       "  background-color: lightgrey;\n",
       "}\n",
       "#T_e3967_row7_col7 {\n",
       "  text-align: left;\n",
       "  background-color: yellow;\n",
       "  background-color: lightgrey;\n",
       "}\n",
       "</style>\n",
       "<table id=\"T_e3967\">\n",
       "  <thead>\n",
       "    <tr>\n",
       "      <th class=\"blank level0\" >&nbsp;</th>\n",
       "      <th id=\"T_e3967_level0_col0\" class=\"col_heading level0 col0\" >Model</th>\n",
       "      <th id=\"T_e3967_level0_col1\" class=\"col_heading level0 col1\" >MAE</th>\n",
       "      <th id=\"T_e3967_level0_col2\" class=\"col_heading level0 col2\" >MSE</th>\n",
       "      <th id=\"T_e3967_level0_col3\" class=\"col_heading level0 col3\" >RMSE</th>\n",
       "      <th id=\"T_e3967_level0_col4\" class=\"col_heading level0 col4\" >R2</th>\n",
       "      <th id=\"T_e3967_level0_col5\" class=\"col_heading level0 col5\" >RMSLE</th>\n",
       "      <th id=\"T_e3967_level0_col6\" class=\"col_heading level0 col6\" >MAPE</th>\n",
       "      <th id=\"T_e3967_level0_col7\" class=\"col_heading level0 col7\" >TT (Sec)</th>\n",
       "    </tr>\n",
       "  </thead>\n",
       "  <tbody>\n",
       "    <tr>\n",
       "      <th id=\"T_e3967_level0_row0\" class=\"row_heading level0 row0\" >xgboost</th>\n",
       "      <td id=\"T_e3967_row0_col0\" class=\"data row0 col0\" >Extreme Gradient Boosting</td>\n",
       "      <td id=\"T_e3967_row0_col1\" class=\"data row0 col1\" >73.2293</td>\n",
       "      <td id=\"T_e3967_row0_col2\" class=\"data row0 col2\" >22264.3769</td>\n",
       "      <td id=\"T_e3967_row0_col3\" class=\"data row0 col3\" >148.2939</td>\n",
       "      <td id=\"T_e3967_row0_col4\" class=\"data row0 col4\" >0.8950</td>\n",
       "      <td id=\"T_e3967_row0_col5\" class=\"data row0 col5\" >0.5184</td>\n",
       "      <td id=\"T_e3967_row0_col6\" class=\"data row0 col6\" >0.6223</td>\n",
       "      <td id=\"T_e3967_row0_col7\" class=\"data row0 col7\" >3.4630</td>\n",
       "    </tr>\n",
       "    <tr>\n",
       "      <th id=\"T_e3967_level0_row1\" class=\"row_heading level0 row1\" >rf</th>\n",
       "      <td id=\"T_e3967_row1_col0\" class=\"data row1 col0\" >Random Forest Regressor</td>\n",
       "      <td id=\"T_e3967_row1_col1\" class=\"data row1 col1\" >70.8565</td>\n",
       "      <td id=\"T_e3967_row1_col2\" class=\"data row1 col2\" >24365.3795</td>\n",
       "      <td id=\"T_e3967_row1_col3\" class=\"data row1 col3\" >155.3689</td>\n",
       "      <td id=\"T_e3967_row1_col4\" class=\"data row1 col4\" >0.8850</td>\n",
       "      <td id=\"T_e3967_row1_col5\" class=\"data row1 col5\" >0.3835</td>\n",
       "      <td id=\"T_e3967_row1_col6\" class=\"data row1 col6\" >0.4186</td>\n",
       "      <td id=\"T_e3967_row1_col7\" class=\"data row1 col7\" >3.0510</td>\n",
       "    </tr>\n",
       "    <tr>\n",
       "      <th id=\"T_e3967_level0_row2\" class=\"row_heading level0 row2\" >lightgbm</th>\n",
       "      <td id=\"T_e3967_row2_col0\" class=\"data row2 col0\" >Light Gradient Boosting Machine</td>\n",
       "      <td id=\"T_e3967_row2_col1\" class=\"data row2 col1\" >82.3520</td>\n",
       "      <td id=\"T_e3967_row2_col2\" class=\"data row2 col2\" >25540.1173</td>\n",
       "      <td id=\"T_e3967_row2_col3\" class=\"data row2 col3\" >159.0107</td>\n",
       "      <td id=\"T_e3967_row2_col4\" class=\"data row2 col4\" >0.8795</td>\n",
       "      <td id=\"T_e3967_row2_col5\" class=\"data row2 col5\" >0.5455</td>\n",
       "      <td id=\"T_e3967_row2_col6\" class=\"data row2 col6\" >0.7150</td>\n",
       "      <td id=\"T_e3967_row2_col7\" class=\"data row2 col7\" >0.1820</td>\n",
       "    </tr>\n",
       "    <tr>\n",
       "      <th id=\"T_e3967_level0_row3\" class=\"row_heading level0 row3\" >et</th>\n",
       "      <td id=\"T_e3967_row3_col0\" class=\"data row3 col0\" >Extra Trees Regressor</td>\n",
       "      <td id=\"T_e3967_row3_col1\" class=\"data row3 col1\" >75.5101</td>\n",
       "      <td id=\"T_e3967_row3_col2\" class=\"data row3 col2\" >27165.9631</td>\n",
       "      <td id=\"T_e3967_row3_col3\" class=\"data row3 col3\" >164.1608</td>\n",
       "      <td id=\"T_e3967_row3_col4\" class=\"data row3 col4\" >0.8719</td>\n",
       "      <td id=\"T_e3967_row3_col5\" class=\"data row3 col5\" >0.4004</td>\n",
       "      <td id=\"T_e3967_row3_col6\" class=\"data row3 col6\" >0.4501</td>\n",
       "      <td id=\"T_e3967_row3_col7\" class=\"data row3 col7\" >3.7920</td>\n",
       "    </tr>\n",
       "    <tr>\n",
       "      <th id=\"T_e3967_level0_row4\" class=\"row_heading level0 row4\" >knn</th>\n",
       "      <td id=\"T_e3967_row4_col0\" class=\"data row4 col0\" >K Neighbors Regressor</td>\n",
       "      <td id=\"T_e3967_row4_col1\" class=\"data row4 col1\" >88.6367</td>\n",
       "      <td id=\"T_e3967_row4_col2\" class=\"data row4 col2\" >31732.6757</td>\n",
       "      <td id=\"T_e3967_row4_col3\" class=\"data row4 col3\" >177.6640</td>\n",
       "      <td id=\"T_e3967_row4_col4\" class=\"data row4 col4\" >0.8502</td>\n",
       "      <td id=\"T_e3967_row4_col5\" class=\"data row4 col5\" >0.4746</td>\n",
       "      <td id=\"T_e3967_row4_col6\" class=\"data row4 col6\" >0.6074</td>\n",
       "      <td id=\"T_e3967_row4_col7\" class=\"data row4 col7\" >0.3520</td>\n",
       "    </tr>\n",
       "    <tr>\n",
       "      <th id=\"T_e3967_level0_row5\" class=\"row_heading level0 row5\" >gbr</th>\n",
       "      <td id=\"T_e3967_row5_col0\" class=\"data row5 col0\" >Gradient Boosting Regressor</td>\n",
       "      <td id=\"T_e3967_row5_col1\" class=\"data row5 col1\" >105.7122</td>\n",
       "      <td id=\"T_e3967_row5_col2\" class=\"data row5 col2\" >36971.4147</td>\n",
       "      <td id=\"T_e3967_row5_col3\" class=\"data row5 col3\" >191.7431</td>\n",
       "      <td id=\"T_e3967_row5_col4\" class=\"data row5 col4\" >0.8256</td>\n",
       "      <td id=\"T_e3967_row5_col5\" class=\"data row5 col5\" >0.6740</td>\n",
       "      <td id=\"T_e3967_row5_col6\" class=\"data row5 col6\" >1.0818</td>\n",
       "      <td id=\"T_e3967_row5_col7\" class=\"data row5 col7\" >1.7100</td>\n",
       "    </tr>\n",
       "    <tr>\n",
       "      <th id=\"T_e3967_level0_row6\" class=\"row_heading level0 row6\" >dt</th>\n",
       "      <td id=\"T_e3967_row6_col0\" class=\"data row6 col0\" >Decision Tree Regressor</td>\n",
       "      <td id=\"T_e3967_row6_col1\" class=\"data row6 col1\" >88.2458</td>\n",
       "      <td id=\"T_e3967_row6_col2\" class=\"data row6 col2\" >40175.8846</td>\n",
       "      <td id=\"T_e3967_row6_col3\" class=\"data row6 col3\" >199.7643</td>\n",
       "      <td id=\"T_e3967_row6_col4\" class=\"data row6 col4\" >0.8101</td>\n",
       "      <td id=\"T_e3967_row6_col5\" class=\"data row6 col5\" >0.4822</td>\n",
       "      <td id=\"T_e3967_row6_col6\" class=\"data row6 col6\" >0.4435</td>\n",
       "      <td id=\"T_e3967_row6_col7\" class=\"data row6 col7\" >0.1150</td>\n",
       "    </tr>\n",
       "    <tr>\n",
       "      <th id=\"T_e3967_level0_row7\" class=\"row_heading level0 row7\" >ridge</th>\n",
       "      <td id=\"T_e3967_row7_col0\" class=\"data row7 col0\" >Ridge Regression</td>\n",
       "      <td id=\"T_e3967_row7_col1\" class=\"data row7 col1\" >192.0907</td>\n",
       "      <td id=\"T_e3967_row7_col2\" class=\"data row7 col2\" >85022.1834</td>\n",
       "      <td id=\"T_e3967_row7_col3\" class=\"data row7 col3\" >291.4323</td>\n",
       "      <td id=\"T_e3967_row7_col4\" class=\"data row7 col4\" >0.5985</td>\n",
       "      <td id=\"T_e3967_row7_col5\" class=\"data row7 col5\" >1.0749</td>\n",
       "      <td id=\"T_e3967_row7_col6\" class=\"data row7 col6\" >2.7855</td>\n",
       "      <td id=\"T_e3967_row7_col7\" class=\"data row7 col7\" >0.0370</td>\n",
       "    </tr>\n",
       "    <tr>\n",
       "      <th id=\"T_e3967_level0_row8\" class=\"row_heading level0 row8\" >br</th>\n",
       "      <td id=\"T_e3967_row8_col0\" class=\"data row8 col0\" >Bayesian Ridge</td>\n",
       "      <td id=\"T_e3967_row8_col1\" class=\"data row8 col1\" >192.0891</td>\n",
       "      <td id=\"T_e3967_row8_col2\" class=\"data row8 col2\" >85022.1918</td>\n",
       "      <td id=\"T_e3967_row8_col3\" class=\"data row8 col3\" >291.4323</td>\n",
       "      <td id=\"T_e3967_row8_col4\" class=\"data row8 col4\" >0.5985</td>\n",
       "      <td id=\"T_e3967_row8_col5\" class=\"data row8 col5\" >1.0748</td>\n",
       "      <td id=\"T_e3967_row8_col6\" class=\"data row8 col6\" >2.7852</td>\n",
       "      <td id=\"T_e3967_row8_col7\" class=\"data row8 col7\" >0.1210</td>\n",
       "    </tr>\n",
       "    <tr>\n",
       "      <th id=\"T_e3967_level0_row9\" class=\"row_heading level0 row9\" >lr</th>\n",
       "      <td id=\"T_e3967_row9_col0\" class=\"data row9 col0\" >Linear Regression</td>\n",
       "      <td id=\"T_e3967_row9_col1\" class=\"data row9 col1\" >192.0948</td>\n",
       "      <td id=\"T_e3967_row9_col2\" class=\"data row9 col2\" >85022.1210</td>\n",
       "      <td id=\"T_e3967_row9_col3\" class=\"data row9 col3\" >291.4322</td>\n",
       "      <td id=\"T_e3967_row9_col4\" class=\"data row9 col4\" >0.5985</td>\n",
       "      <td id=\"T_e3967_row9_col5\" class=\"data row9 col5\" >1.0750</td>\n",
       "      <td id=\"T_e3967_row9_col6\" class=\"data row9 col6\" >2.7860</td>\n",
       "      <td id=\"T_e3967_row9_col7\" class=\"data row9 col7\" >1.0830</td>\n",
       "    </tr>\n",
       "    <tr>\n",
       "      <th id=\"T_e3967_level0_row10\" class=\"row_heading level0 row10\" >lasso</th>\n",
       "      <td id=\"T_e3967_row10_col0\" class=\"data row10 col0\" >Lasso Regression</td>\n",
       "      <td id=\"T_e3967_row10_col1\" class=\"data row10 col1\" >191.4986</td>\n",
       "      <td id=\"T_e3967_row10_col2\" class=\"data row10 col2\" >85298.5414</td>\n",
       "      <td id=\"T_e3967_row10_col3\" class=\"data row10 col3\" >291.9042</td>\n",
       "      <td id=\"T_e3967_row10_col4\" class=\"data row10 col4\" >0.5972</td>\n",
       "      <td id=\"T_e3967_row10_col5\" class=\"data row10 col5\" >1.0612</td>\n",
       "      <td id=\"T_e3967_row10_col6\" class=\"data row10 col6\" >2.7221</td>\n",
       "      <td id=\"T_e3967_row10_col7\" class=\"data row10 col7\" >0.0640</td>\n",
       "    </tr>\n",
       "    <tr>\n",
       "      <th id=\"T_e3967_level0_row11\" class=\"row_heading level0 row11\" >huber</th>\n",
       "      <td id=\"T_e3967_row11_col0\" class=\"data row11 col0\" >Huber Regressor</td>\n",
       "      <td id=\"T_e3967_row11_col1\" class=\"data row11 col1\" >183.0679</td>\n",
       "      <td id=\"T_e3967_row11_col2\" class=\"data row11 col2\" >90198.7447</td>\n",
       "      <td id=\"T_e3967_row11_col3\" class=\"data row11 col3\" >300.1655</td>\n",
       "      <td id=\"T_e3967_row11_col4\" class=\"data row11 col4\" >0.5740</td>\n",
       "      <td id=\"T_e3967_row11_col5\" class=\"data row11 col5\" >0.9557</td>\n",
       "      <td id=\"T_e3967_row11_col6\" class=\"data row11 col6\" >2.0648</td>\n",
       "      <td id=\"T_e3967_row11_col7\" class=\"data row11 col7\" >1.1250</td>\n",
       "    </tr>\n",
       "    <tr>\n",
       "      <th id=\"T_e3967_level0_row12\" class=\"row_heading level0 row12\" >ada</th>\n",
       "      <td id=\"T_e3967_row12_col0\" class=\"data row12 col0\" >AdaBoost Regressor</td>\n",
       "      <td id=\"T_e3967_row12_col1\" class=\"data row12 col1\" >231.3009</td>\n",
       "      <td id=\"T_e3967_row12_col2\" class=\"data row12 col2\" >99298.2442</td>\n",
       "      <td id=\"T_e3967_row12_col3\" class=\"data row12 col3\" >314.9717</td>\n",
       "      <td id=\"T_e3967_row12_col4\" class=\"data row12 col4\" >0.5307</td>\n",
       "      <td id=\"T_e3967_row12_col5\" class=\"data row12 col5\" >1.2827</td>\n",
       "      <td id=\"T_e3967_row12_col6\" class=\"data row12 col6\" >5.0221</td>\n",
       "      <td id=\"T_e3967_row12_col7\" class=\"data row12 col7\" >0.7080</td>\n",
       "    </tr>\n",
       "    <tr>\n",
       "      <th id=\"T_e3967_level0_row13\" class=\"row_heading level0 row13\" >omp</th>\n",
       "      <td id=\"T_e3967_row13_col0\" class=\"data row13 col0\" >Orthogonal Matching Pursuit</td>\n",
       "      <td id=\"T_e3967_row13_col1\" class=\"data row13 col1\" >216.8010</td>\n",
       "      <td id=\"T_e3967_row13_col2\" class=\"data row13 col2\" >101038.0005</td>\n",
       "      <td id=\"T_e3967_row13_col3\" class=\"data row13 col3\" >317.7298</td>\n",
       "      <td id=\"T_e3967_row13_col4\" class=\"data row13 col4\" >0.5228</td>\n",
       "      <td id=\"T_e3967_row13_col5\" class=\"data row13 col5\" >1.0831</td>\n",
       "      <td id=\"T_e3967_row13_col6\" class=\"data row13 col6\" >2.8150</td>\n",
       "      <td id=\"T_e3967_row13_col7\" class=\"data row13 col7\" >0.0410</td>\n",
       "    </tr>\n",
       "    <tr>\n",
       "      <th id=\"T_e3967_level0_row14\" class=\"row_heading level0 row14\" >par</th>\n",
       "      <td id=\"T_e3967_row14_col0\" class=\"data row14 col0\" >Passive Aggressive Regressor</td>\n",
       "      <td id=\"T_e3967_row14_col1\" class=\"data row14 col1\" >250.2511</td>\n",
       "      <td id=\"T_e3967_row14_col2\" class=\"data row14 col2\" >119665.6998</td>\n",
       "      <td id=\"T_e3967_row14_col3\" class=\"data row14 col3\" >342.2680</td>\n",
       "      <td id=\"T_e3967_row14_col4\" class=\"data row14 col4\" >0.4342</td>\n",
       "      <td id=\"T_e3967_row14_col5\" class=\"data row14 col5\" >1.2727</td>\n",
       "      <td id=\"T_e3967_row14_col6\" class=\"data row14 col6\" >4.0168</td>\n",
       "      <td id=\"T_e3967_row14_col7\" class=\"data row14 col7\" >0.1520</td>\n",
       "    </tr>\n",
       "    <tr>\n",
       "      <th id=\"T_e3967_level0_row15\" class=\"row_heading level0 row15\" >en</th>\n",
       "      <td id=\"T_e3967_row15_col0\" class=\"data row15 col0\" >Elastic Net</td>\n",
       "      <td id=\"T_e3967_row15_col1\" class=\"data row15 col1\" >268.8962</td>\n",
       "      <td id=\"T_e3967_row15_col2\" class=\"data row15 col2\" >147786.5113</td>\n",
       "      <td id=\"T_e3967_row15_col3\" class=\"data row15 col3\" >384.3534</td>\n",
       "      <td id=\"T_e3967_row15_col4\" class=\"data row15 col4\" >0.3017</td>\n",
       "      <td id=\"T_e3967_row15_col5\" class=\"data row15 col5\" >1.2898</td>\n",
       "      <td id=\"T_e3967_row15_col6\" class=\"data row15 col6\" >5.2746</td>\n",
       "      <td id=\"T_e3967_row15_col7\" class=\"data row15 col7\" >0.0380</td>\n",
       "    </tr>\n",
       "    <tr>\n",
       "      <th id=\"T_e3967_level0_row16\" class=\"row_heading level0 row16\" >llar</th>\n",
       "      <td id=\"T_e3967_row16_col0\" class=\"data row16 col0\" >Lasso Least Angle Regression</td>\n",
       "      <td id=\"T_e3967_row16_col1\" class=\"data row16 col1\" >333.0229</td>\n",
       "      <td id=\"T_e3967_row16_col2\" class=\"data row16 col2\" >209391.7063</td>\n",
       "      <td id=\"T_e3967_row16_col3\" class=\"data row16 col3\" >457.5310</td>\n",
       "      <td id=\"T_e3967_row16_col4\" class=\"data row16 col4\" >0.0104</td>\n",
       "      <td id=\"T_e3967_row16_col5\" class=\"data row16 col5\" >1.5146</td>\n",
       "      <td id=\"T_e3967_row16_col6\" class=\"data row16 col6\" >7.3546</td>\n",
       "      <td id=\"T_e3967_row16_col7\" class=\"data row16 col7\" >0.0390</td>\n",
       "    </tr>\n",
       "    <tr>\n",
       "      <th id=\"T_e3967_level0_row17\" class=\"row_heading level0 row17\" >dummy</th>\n",
       "      <td id=\"T_e3967_row17_col0\" class=\"data row17 col0\" >Dummy Regressor</td>\n",
       "      <td id=\"T_e3967_row17_col1\" class=\"data row17 col1\" >334.5897</td>\n",
       "      <td id=\"T_e3967_row17_col2\" class=\"data row17 col2\" >211637.3141</td>\n",
       "      <td id=\"T_e3967_row17_col3\" class=\"data row17 col3\" >459.9804</td>\n",
       "      <td id=\"T_e3967_row17_col4\" class=\"data row17 col4\" >-0.0002</td>\n",
       "      <td id=\"T_e3967_row17_col5\" class=\"data row17 col5\" >1.5183</td>\n",
       "      <td id=\"T_e3967_row17_col6\" class=\"data row17 col6\" >7.3862</td>\n",
       "      <td id=\"T_e3967_row17_col7\" class=\"data row17 col7\" >0.0430</td>\n",
       "    </tr>\n",
       "    <tr>\n",
       "      <th id=\"T_e3967_level0_row18\" class=\"row_heading level0 row18\" >lar</th>\n",
       "      <td id=\"T_e3967_row18_col0\" class=\"data row18 col0\" >Least Angle Regression</td>\n",
       "      <td id=\"T_e3967_row18_col1\" class=\"data row18 col1\" >16117621527883.5625</td>\n",
       "      <td id=\"T_e3967_row18_col2\" class=\"data row18 col2\" >2034707011393191443135725568.0000</td>\n",
       "      <td id=\"T_e3967_row18_col3\" class=\"data row18 col3\" >16344857120666.7227</td>\n",
       "      <td id=\"T_e3967_row18_col4\" class=\"data row18 col4\" >-9251606080014152368128.0000</td>\n",
       "      <td id=\"T_e3967_row18_col5\" class=\"data row18 col5\" >10.2396</td>\n",
       "      <td id=\"T_e3967_row18_col6\" class=\"data row18 col6\" >326342404632.3495</td>\n",
       "      <td id=\"T_e3967_row18_col7\" class=\"data row18 col7\" >0.0530</td>\n",
       "    </tr>\n",
       "  </tbody>\n",
       "</table>\n"
      ],
      "text/plain": [
       "<pandas.io.formats.style.Styler at 0x1b8b9f28cd0>"
      ]
     },
     "metadata": {},
     "output_type": "display_data"
    }
   ],
   "source": [
    "best = compare_models()"
   ]
  },
  {
   "cell_type": "code",
   "execution_count": 11,
   "id": "055417fe",
   "metadata": {},
   "outputs": [
    {
     "data": {
      "text/html": [
       "<style type=\"text/css\">\n",
       "#T_20406_row10_col0, #T_20406_row10_col1, #T_20406_row10_col2, #T_20406_row10_col3, #T_20406_row10_col4, #T_20406_row10_col5 {\n",
       "  background: yellow;\n",
       "}\n",
       "</style>\n",
       "<table id=\"T_20406\">\n",
       "  <thead>\n",
       "    <tr>\n",
       "      <th class=\"blank level0\" >&nbsp;</th>\n",
       "      <th id=\"T_20406_level0_col0\" class=\"col_heading level0 col0\" >MAE</th>\n",
       "      <th id=\"T_20406_level0_col1\" class=\"col_heading level0 col1\" >MSE</th>\n",
       "      <th id=\"T_20406_level0_col2\" class=\"col_heading level0 col2\" >RMSE</th>\n",
       "      <th id=\"T_20406_level0_col3\" class=\"col_heading level0 col3\" >R2</th>\n",
       "      <th id=\"T_20406_level0_col4\" class=\"col_heading level0 col4\" >RMSLE</th>\n",
       "      <th id=\"T_20406_level0_col5\" class=\"col_heading level0 col5\" >MAPE</th>\n",
       "    </tr>\n",
       "    <tr>\n",
       "      <th class=\"index_name level0\" >Fold</th>\n",
       "      <th class=\"blank col0\" >&nbsp;</th>\n",
       "      <th class=\"blank col1\" >&nbsp;</th>\n",
       "      <th class=\"blank col2\" >&nbsp;</th>\n",
       "      <th class=\"blank col3\" >&nbsp;</th>\n",
       "      <th class=\"blank col4\" >&nbsp;</th>\n",
       "      <th class=\"blank col5\" >&nbsp;</th>\n",
       "    </tr>\n",
       "  </thead>\n",
       "  <tbody>\n",
       "    <tr>\n",
       "      <th id=\"T_20406_level0_row0\" class=\"row_heading level0 row0\" >0</th>\n",
       "      <td id=\"T_20406_row0_col0\" class=\"data row0 col0\" >72.6383</td>\n",
       "      <td id=\"T_20406_row0_col1\" class=\"data row0 col1\" >21621.0932</td>\n",
       "      <td id=\"T_20406_row0_col2\" class=\"data row0 col2\" >147.0411</td>\n",
       "      <td id=\"T_20406_row0_col3\" class=\"data row0 col3\" >0.8957</td>\n",
       "      <td id=\"T_20406_row0_col4\" class=\"data row0 col4\" >0.5349</td>\n",
       "      <td id=\"T_20406_row0_col5\" class=\"data row0 col5\" >0.7345</td>\n",
       "    </tr>\n",
       "    <tr>\n",
       "      <th id=\"T_20406_level0_row1\" class=\"row_heading level0 row1\" >1</th>\n",
       "      <td id=\"T_20406_row1_col0\" class=\"data row1 col0\" >72.3412</td>\n",
       "      <td id=\"T_20406_row1_col1\" class=\"data row1 col1\" >20360.4916</td>\n",
       "      <td id=\"T_20406_row1_col2\" class=\"data row1 col2\" >142.6902</td>\n",
       "      <td id=\"T_20406_row1_col3\" class=\"data row1 col3\" >0.9005</td>\n",
       "      <td id=\"T_20406_row1_col4\" class=\"data row1 col4\" >0.5132</td>\n",
       "      <td id=\"T_20406_row1_col5\" class=\"data row1 col5\" >0.6206</td>\n",
       "    </tr>\n",
       "    <tr>\n",
       "      <th id=\"T_20406_level0_row2\" class=\"row_heading level0 row2\" >2</th>\n",
       "      <td id=\"T_20406_row2_col0\" class=\"data row2 col0\" >75.3688</td>\n",
       "      <td id=\"T_20406_row2_col1\" class=\"data row2 col1\" >21607.7987</td>\n",
       "      <td id=\"T_20406_row2_col2\" class=\"data row2 col2\" >146.9959</td>\n",
       "      <td id=\"T_20406_row2_col3\" class=\"data row2 col3\" >0.9019</td>\n",
       "      <td id=\"T_20406_row2_col4\" class=\"data row2 col4\" >0.5404</td>\n",
       "      <td id=\"T_20406_row2_col5\" class=\"data row2 col5\" >0.6560</td>\n",
       "    </tr>\n",
       "    <tr>\n",
       "      <th id=\"T_20406_level0_row3\" class=\"row_heading level0 row3\" >3</th>\n",
       "      <td id=\"T_20406_row3_col0\" class=\"data row3 col0\" >72.3397</td>\n",
       "      <td id=\"T_20406_row3_col1\" class=\"data row3 col1\" >16633.6880</td>\n",
       "      <td id=\"T_20406_row3_col2\" class=\"data row3 col2\" >128.9717</td>\n",
       "      <td id=\"T_20406_row3_col3\" class=\"data row3 col3\" >0.9194</td>\n",
       "      <td id=\"T_20406_row3_col4\" class=\"data row3 col4\" >0.4860</td>\n",
       "      <td id=\"T_20406_row3_col5\" class=\"data row3 col5\" >0.5432</td>\n",
       "    </tr>\n",
       "    <tr>\n",
       "      <th id=\"T_20406_level0_row4\" class=\"row_heading level0 row4\" >4</th>\n",
       "      <td id=\"T_20406_row4_col0\" class=\"data row4 col0\" >73.2127</td>\n",
       "      <td id=\"T_20406_row4_col1\" class=\"data row4 col1\" >21296.2901</td>\n",
       "      <td id=\"T_20406_row4_col2\" class=\"data row4 col2\" >145.9325</td>\n",
       "      <td id=\"T_20406_row4_col3\" class=\"data row4 col3\" >0.9026</td>\n",
       "      <td id=\"T_20406_row4_col4\" class=\"data row4 col4\" >0.5156</td>\n",
       "      <td id=\"T_20406_row4_col5\" class=\"data row4 col5\" >0.5462</td>\n",
       "    </tr>\n",
       "    <tr>\n",
       "      <th id=\"T_20406_level0_row5\" class=\"row_heading level0 row5\" >5</th>\n",
       "      <td id=\"T_20406_row5_col0\" class=\"data row5 col0\" >74.4737</td>\n",
       "      <td id=\"T_20406_row5_col1\" class=\"data row5 col1\" >26361.5603</td>\n",
       "      <td id=\"T_20406_row5_col2\" class=\"data row5 col2\" >162.3624</td>\n",
       "      <td id=\"T_20406_row5_col3\" class=\"data row5 col3\" >0.8765</td>\n",
       "      <td id=\"T_20406_row5_col4\" class=\"data row5 col4\" >0.5162</td>\n",
       "      <td id=\"T_20406_row5_col5\" class=\"data row5 col5\" >0.6217</td>\n",
       "    </tr>\n",
       "    <tr>\n",
       "      <th id=\"T_20406_level0_row6\" class=\"row_heading level0 row6\" >6</th>\n",
       "      <td id=\"T_20406_row6_col0\" class=\"data row6 col0\" >76.6135</td>\n",
       "      <td id=\"T_20406_row6_col1\" class=\"data row6 col1\" >36190.6333</td>\n",
       "      <td id=\"T_20406_row6_col2\" class=\"data row6 col2\" >190.2384</td>\n",
       "      <td id=\"T_20406_row6_col3\" class=\"data row6 col3\" >0.8340</td>\n",
       "      <td id=\"T_20406_row6_col4\" class=\"data row6 col4\" >0.5353</td>\n",
       "      <td id=\"T_20406_row6_col5\" class=\"data row6 col5\" >0.6363</td>\n",
       "    </tr>\n",
       "    <tr>\n",
       "      <th id=\"T_20406_level0_row7\" class=\"row_heading level0 row7\" >7</th>\n",
       "      <td id=\"T_20406_row7_col0\" class=\"data row7 col0\" >70.9914</td>\n",
       "      <td id=\"T_20406_row7_col1\" class=\"data row7 col1\" >16935.0993</td>\n",
       "      <td id=\"T_20406_row7_col2\" class=\"data row7 col2\" >130.1349</td>\n",
       "      <td id=\"T_20406_row7_col3\" class=\"data row7 col3\" >0.9198</td>\n",
       "      <td id=\"T_20406_row7_col4\" class=\"data row7 col4\" >0.5021</td>\n",
       "      <td id=\"T_20406_row7_col5\" class=\"data row7 col5\" >0.5911</td>\n",
       "    </tr>\n",
       "    <tr>\n",
       "      <th id=\"T_20406_level0_row8\" class=\"row_heading level0 row8\" >8</th>\n",
       "      <td id=\"T_20406_row8_col0\" class=\"data row8 col0\" >71.7360</td>\n",
       "      <td id=\"T_20406_row8_col1\" class=\"data row8 col1\" >20717.1386</td>\n",
       "      <td id=\"T_20406_row8_col2\" class=\"data row8 col2\" >143.9345</td>\n",
       "      <td id=\"T_20406_row8_col3\" class=\"data row8 col3\" >0.8957</td>\n",
       "      <td id=\"T_20406_row8_col4\" class=\"data row8 col4\" >0.5415</td>\n",
       "      <td id=\"T_20406_row8_col5\" class=\"data row8 col5\" >0.7240</td>\n",
       "    </tr>\n",
       "    <tr>\n",
       "      <th id=\"T_20406_level0_row9\" class=\"row_heading level0 row9\" >9</th>\n",
       "      <td id=\"T_20406_row9_col0\" class=\"data row9 col0\" >72.5777</td>\n",
       "      <td id=\"T_20406_row9_col1\" class=\"data row9 col1\" >20919.9758</td>\n",
       "      <td id=\"T_20406_row9_col2\" class=\"data row9 col2\" >144.6374</td>\n",
       "      <td id=\"T_20406_row9_col3\" class=\"data row9 col3\" >0.9036</td>\n",
       "      <td id=\"T_20406_row9_col4\" class=\"data row9 col4\" >0.4983</td>\n",
       "      <td id=\"T_20406_row9_col5\" class=\"data row9 col5\" >0.5493</td>\n",
       "    </tr>\n",
       "    <tr>\n",
       "      <th id=\"T_20406_level0_row10\" class=\"row_heading level0 row10\" >Mean</th>\n",
       "      <td id=\"T_20406_row10_col0\" class=\"data row10 col0\" >73.2293</td>\n",
       "      <td id=\"T_20406_row10_col1\" class=\"data row10 col1\" >22264.3769</td>\n",
       "      <td id=\"T_20406_row10_col2\" class=\"data row10 col2\" >148.2939</td>\n",
       "      <td id=\"T_20406_row10_col3\" class=\"data row10 col3\" >0.8950</td>\n",
       "      <td id=\"T_20406_row10_col4\" class=\"data row10 col4\" >0.5184</td>\n",
       "      <td id=\"T_20406_row10_col5\" class=\"data row10 col5\" >0.6223</td>\n",
       "    </tr>\n",
       "    <tr>\n",
       "      <th id=\"T_20406_level0_row11\" class=\"row_heading level0 row11\" >Std</th>\n",
       "      <td id=\"T_20406_row11_col0\" class=\"data row11 col0\" >1.6484</td>\n",
       "      <td id=\"T_20406_row11_col1\" class=\"data row11 col1\" >5295.6740</td>\n",
       "      <td id=\"T_20406_row11_col2\" class=\"data row11 col2\" >16.5317</td>\n",
       "      <td id=\"T_20406_row11_col3\" class=\"data row11 col3\" >0.0234</td>\n",
       "      <td id=\"T_20406_row11_col4\" class=\"data row11 col4\" >0.0183</td>\n",
       "      <td id=\"T_20406_row11_col5\" class=\"data row11 col5\" >0.0653</td>\n",
       "    </tr>\n",
       "  </tbody>\n",
       "</table>\n"
      ],
      "text/plain": [
       "<pandas.io.formats.style.Styler at 0x1b8bebb0e80>"
      ]
     },
     "metadata": {},
     "output_type": "display_data"
    }
   ],
   "source": [
    "xgboost = create_model('xgboost')"
   ]
  },
  {
   "cell_type": "markdown",
   "id": "ccdb94fa",
   "metadata": {},
   "source": [
    "## Plot Feature Importance"
   ]
  },
  {
   "cell_type": "code",
   "execution_count": 12,
   "id": "99f161f0",
   "metadata": {},
   "outputs": [
    {
     "data": {
      "image/png": "[encoded data removed]",
      "text/plain": [
       "<Figure size 800x500 with 1 Axes>"
      ]
     },
     "metadata": {},
     "output_type": "display_data"
    }
   ],
   "source": [
    "plot_model(xgboost, plot='feature')"
   ]
  },
  {
   "cell_type": "markdown",
   "id": "06992352",
   "metadata": {},
   "source": [
    "## Tune and Finalize Model"
   ]
  },
  {
   "cell_type": "code",
   "execution_count": 13,
   "id": "e063001c",
   "metadata": {},
   "outputs": [
    {
     "data": {
      "text/html": [
       "<style type=\"text/css\">\n",
       "#T_0cb07_row10_col0, #T_0cb07_row10_col1, #T_0cb07_row10_col2, #T_0cb07_row10_col3, #T_0cb07_row10_col4, #T_0cb07_row10_col5 {\n",
       "  background: yellow;\n",
       "}\n",
       "</style>\n",
       "<table id=\"T_0cb07\">\n",
       "  <thead>\n",
       "    <tr>\n",
       "      <th class=\"blank level0\" >&nbsp;</th>\n",
       "      <th id=\"T_0cb07_level0_col0\" class=\"col_heading level0 col0\" >MAE</th>\n",
       "      <th id=\"T_0cb07_level0_col1\" class=\"col_heading level0 col1\" >MSE</th>\n",
       "      <th id=\"T_0cb07_level0_col2\" class=\"col_heading level0 col2\" >RMSE</th>\n",
       "      <th id=\"T_0cb07_level0_col3\" class=\"col_heading level0 col3\" >R2</th>\n",
       "      <th id=\"T_0cb07_level0_col4\" class=\"col_heading level0 col4\" >RMSLE</th>\n",
       "      <th id=\"T_0cb07_level0_col5\" class=\"col_heading level0 col5\" >MAPE</th>\n",
       "    </tr>\n",
       "    <tr>\n",
       "      <th class=\"index_name level0\" >Fold</th>\n",
       "      <th class=\"blank col0\" >&nbsp;</th>\n",
       "      <th class=\"blank col1\" >&nbsp;</th>\n",
       "      <th class=\"blank col2\" >&nbsp;</th>\n",
       "      <th class=\"blank col3\" >&nbsp;</th>\n",
       "      <th class=\"blank col4\" >&nbsp;</th>\n",
       "      <th class=\"blank col5\" >&nbsp;</th>\n",
       "    </tr>\n",
       "  </thead>\n",
       "  <tbody>\n",
       "    <tr>\n",
       "      <th id=\"T_0cb07_level0_row0\" class=\"row_heading level0 row0\" >0</th>\n",
       "      <td id=\"T_0cb07_row0_col0\" class=\"data row0 col0\" >70.7848</td>\n",
       "      <td id=\"T_0cb07_row0_col1\" class=\"data row0 col1\" >19286.2951</td>\n",
       "      <td id=\"T_0cb07_row0_col2\" class=\"data row0 col2\" >138.8751</td>\n",
       "      <td id=\"T_0cb07_row0_col3\" class=\"data row0 col3\" >0.9070</td>\n",
       "      <td id=\"T_0cb07_row0_col4\" class=\"data row0 col4\" >0.4528</td>\n",
       "      <td id=\"T_0cb07_row0_col5\" class=\"data row0 col5\" >0.5698</td>\n",
       "    </tr>\n",
       "    <tr>\n",
       "      <th id=\"T_0cb07_level0_row1\" class=\"row_heading level0 row1\" >1</th>\n",
       "      <td id=\"T_0cb07_row1_col0\" class=\"data row1 col0\" >73.1779</td>\n",
       "      <td id=\"T_0cb07_row1_col1\" class=\"data row1 col1\" >20891.0461</td>\n",
       "      <td id=\"T_0cb07_row1_col2\" class=\"data row1 col2\" >144.5374</td>\n",
       "      <td id=\"T_0cb07_row1_col3\" class=\"data row1 col3\" >0.8980</td>\n",
       "      <td id=\"T_0cb07_row1_col4\" class=\"data row1 col4\" >0.4540</td>\n",
       "      <td id=\"T_0cb07_row1_col5\" class=\"data row1 col5\" >0.4837</td>\n",
       "    </tr>\n",
       "    <tr>\n",
       "      <th id=\"T_0cb07_level0_row2\" class=\"row_heading level0 row2\" >2</th>\n",
       "      <td id=\"T_0cb07_row2_col0\" class=\"data row2 col0\" >74.4730</td>\n",
       "      <td id=\"T_0cb07_row2_col1\" class=\"data row2 col1\" >21179.6386</td>\n",
       "      <td id=\"T_0cb07_row2_col2\" class=\"data row2 col2\" >145.5323</td>\n",
       "      <td id=\"T_0cb07_row2_col3\" class=\"data row2 col3\" >0.9039</td>\n",
       "      <td id=\"T_0cb07_row2_col4\" class=\"data row2 col4\" >0.4648</td>\n",
       "      <td id=\"T_0cb07_row2_col5\" class=\"data row2 col5\" >0.4702</td>\n",
       "    </tr>\n",
       "    <tr>\n",
       "      <th id=\"T_0cb07_level0_row3\" class=\"row_heading level0 row3\" >3</th>\n",
       "      <td id=\"T_0cb07_row3_col0\" class=\"data row3 col0\" >70.6454</td>\n",
       "      <td id=\"T_0cb07_row3_col1\" class=\"data row3 col1\" >16457.1943</td>\n",
       "      <td id=\"T_0cb07_row3_col2\" class=\"data row3 col2\" >128.2856</td>\n",
       "      <td id=\"T_0cb07_row3_col3\" class=\"data row3 col3\" >0.9203</td>\n",
       "      <td id=\"T_0cb07_row3_col4\" class=\"data row3 col4\" >0.4373</td>\n",
       "      <td id=\"T_0cb07_row3_col5\" class=\"data row3 col5\" >0.4401</td>\n",
       "    </tr>\n",
       "    <tr>\n",
       "      <th id=\"T_0cb07_level0_row4\" class=\"row_heading level0 row4\" >4</th>\n",
       "      <td id=\"T_0cb07_row4_col0\" class=\"data row4 col0\" >72.1263</td>\n",
       "      <td id=\"T_0cb07_row4_col1\" class=\"data row4 col1\" >21012.1601</td>\n",
       "      <td id=\"T_0cb07_row4_col2\" class=\"data row4 col2\" >144.9557</td>\n",
       "      <td id=\"T_0cb07_row4_col3\" class=\"data row4 col3\" >0.9039</td>\n",
       "      <td id=\"T_0cb07_row4_col4\" class=\"data row4 col4\" >0.4454</td>\n",
       "      <td id=\"T_0cb07_row4_col5\" class=\"data row4 col5\" >0.4174</td>\n",
       "    </tr>\n",
       "    <tr>\n",
       "      <th id=\"T_0cb07_level0_row5\" class=\"row_heading level0 row5\" >5</th>\n",
       "      <td id=\"T_0cb07_row5_col0\" class=\"data row5 col0\" >72.3731</td>\n",
       "      <td id=\"T_0cb07_row5_col1\" class=\"data row5 col1\" >25683.5149</td>\n",
       "      <td id=\"T_0cb07_row5_col2\" class=\"data row5 col2\" >160.2608</td>\n",
       "      <td id=\"T_0cb07_row5_col3\" class=\"data row5 col3\" >0.8797</td>\n",
       "      <td id=\"T_0cb07_row5_col4\" class=\"data row5 col4\" >0.4494</td>\n",
       "      <td id=\"T_0cb07_row5_col5\" class=\"data row5 col5\" >0.4683</td>\n",
       "    </tr>\n",
       "    <tr>\n",
       "      <th id=\"T_0cb07_level0_row6\" class=\"row_heading level0 row6\" >6</th>\n",
       "      <td id=\"T_0cb07_row6_col0\" class=\"data row6 col0\" >75.1518</td>\n",
       "      <td id=\"T_0cb07_row6_col1\" class=\"data row6 col1\" >35541.7094</td>\n",
       "      <td id=\"T_0cb07_row6_col2\" class=\"data row6 col2\" >188.5251</td>\n",
       "      <td id=\"T_0cb07_row6_col3\" class=\"data row6 col3\" >0.8370</td>\n",
       "      <td id=\"T_0cb07_row6_col4\" class=\"data row6 col4\" >0.4503</td>\n",
       "      <td id=\"T_0cb07_row6_col5\" class=\"data row6 col5\" >0.4668</td>\n",
       "    </tr>\n",
       "    <tr>\n",
       "      <th id=\"T_0cb07_level0_row7\" class=\"row_heading level0 row7\" >7</th>\n",
       "      <td id=\"T_0cb07_row7_col0\" class=\"data row7 col0\" >72.6601</td>\n",
       "      <td id=\"T_0cb07_row7_col1\" class=\"data row7 col1\" >19333.3722</td>\n",
       "      <td id=\"T_0cb07_row7_col2\" class=\"data row7 col2\" >139.0445</td>\n",
       "      <td id=\"T_0cb07_row7_col3\" class=\"data row7 col3\" >0.9084</td>\n",
       "      <td id=\"T_0cb07_row7_col4\" class=\"data row7 col4\" >0.4444</td>\n",
       "      <td id=\"T_0cb07_row7_col5\" class=\"data row7 col5\" >0.4612</td>\n",
       "    </tr>\n",
       "    <tr>\n",
       "      <th id=\"T_0cb07_level0_row8\" class=\"row_heading level0 row8\" >8</th>\n",
       "      <td id=\"T_0cb07_row8_col0\" class=\"data row8 col0\" >70.8856</td>\n",
       "      <td id=\"T_0cb07_row8_col1\" class=\"data row8 col1\" >20720.3598</td>\n",
       "      <td id=\"T_0cb07_row8_col2\" class=\"data row8 col2\" >143.9457</td>\n",
       "      <td id=\"T_0cb07_row8_col3\" class=\"data row8 col3\" >0.8957</td>\n",
       "      <td id=\"T_0cb07_row8_col4\" class=\"data row8 col4\" >0.4707</td>\n",
       "      <td id=\"T_0cb07_row8_col5\" class=\"data row8 col5\" >0.5591</td>\n",
       "    </tr>\n",
       "    <tr>\n",
       "      <th id=\"T_0cb07_level0_row9\" class=\"row_heading level0 row9\" >9</th>\n",
       "      <td id=\"T_0cb07_row9_col0\" class=\"data row9 col0\" >72.7226</td>\n",
       "      <td id=\"T_0cb07_row9_col1\" class=\"data row9 col1\" >22829.8375</td>\n",
       "      <td id=\"T_0cb07_row9_col2\" class=\"data row9 col2\" >151.0955</td>\n",
       "      <td id=\"T_0cb07_row9_col3\" class=\"data row9 col3\" >0.8948</td>\n",
       "      <td id=\"T_0cb07_row9_col4\" class=\"data row9 col4\" >0.4474</td>\n",
       "      <td id=\"T_0cb07_row9_col5\" class=\"data row9 col5\" >0.4183</td>\n",
       "    </tr>\n",
       "    <tr>\n",
       "      <th id=\"T_0cb07_level0_row10\" class=\"row_heading level0 row10\" >Mean</th>\n",
       "      <td id=\"T_0cb07_row10_col0\" class=\"data row10 col0\" >72.5001</td>\n",
       "      <td id=\"T_0cb07_row10_col1\" class=\"data row10 col1\" >22293.5128</td>\n",
       "      <td id=\"T_0cb07_row10_col2\" class=\"data row10 col2\" >148.5058</td>\n",
       "      <td id=\"T_0cb07_row10_col3\" class=\"data row10 col3\" >0.8949</td>\n",
       "      <td id=\"T_0cb07_row10_col4\" class=\"data row10 col4\" >0.4517</td>\n",
       "      <td id=\"T_0cb07_row10_col5\" class=\"data row10 col5\" >0.4755</td>\n",
       "    </tr>\n",
       "    <tr>\n",
       "      <th id=\"T_0cb07_level0_row11\" class=\"row_heading level0 row11\" >Std</th>\n",
       "      <td id=\"T_0cb07_row11_col0\" class=\"data row11 col0\" >1.4354</td>\n",
       "      <td id=\"T_0cb07_row11_col1\" class=\"data row11 col1\" >4964.7475</td>\n",
       "      <td id=\"T_0cb07_row11_col2\" class=\"data row11 col2\" >15.4775</td>\n",
       "      <td id=\"T_0cb07_row11_col3\" class=\"data row11 col3\" >0.0217</td>\n",
       "      <td id=\"T_0cb07_row11_col4\" class=\"data row11 col4\" >0.0093</td>\n",
       "      <td id=\"T_0cb07_row11_col5\" class=\"data row11 col5\" >0.0492</td>\n",
       "    </tr>\n",
       "  </tbody>\n",
       "</table>\n"
      ],
      "text/plain": [
       "<pandas.io.formats.style.Styler at 0x1b8be5226a0>"
      ]
     },
     "metadata": {},
     "output_type": "display_data"
    }
   ],
   "source": [
    "tuned_xgboost = tune_model(xgboost)"
   ]
  },
  {
   "cell_type": "code",
   "execution_count": 14,
   "id": "2f48f905",
   "metadata": {},
   "outputs": [
    {
     "name": "stdout",
     "output_type": "stream",
     "text": [
      "XGBRegressor(base_score=None, booster='gbtree', callbacks=None,\n",
      "             colsample_bylevel=None, colsample_bynode=None,\n",
      "             colsample_bytree=0.9, early_stopping_rounds=None,\n",
      "             enable_categorical=False, eval_metric=None, feature_types=None,\n",
      "             gamma=None, gpu_id=None, grow_policy=None, importance_type=None,\n",
      "             interaction_constraints=None, learning_rate=0.05, max_bin=None,\n",
      "             max_cat_threshold=None, max_cat_to_onehot=None,\n",
      "             max_delta_step=None, max_depth=10, max_leaves=None,\n",
      "             min_child_weight=4, missing=nan, monotone_constraints=None,\n",
      "             n_estimators=220, n_jobs=-1, num_parallel_tree=None,\n",
      "             objective='reg:squarederror', predictor=None, ...)\n"
     ]
    }
   ],
   "source": [
    "print(tuned_xgboost)"
   ]
  },
  {
   "cell_type": "code",
   "execution_count": 15,
   "id": "b37cfecf",
   "metadata": {},
   "outputs": [
    {
     "data": {
      "image/png": "[encoded data removed]",
      "text/plain": [
       "<Figure size 800x500 with 1 Axes>"
      ]
     },
     "metadata": {},
     "output_type": "display_data"
    }
   ],
   "source": [
    "plot_model(tuned_xgboost, plot='feature')"
   ]
  },
  {
   "cell_type": "code",
   "execution_count": 16,
   "id": "2c62c79b",
   "metadata": {},
   "outputs": [
    {
     "data": {
      "application/vnd.jupyter.widget-view+json": {
       "model_id": "1c43fd8067bf437cbdf9496c662ba5f0",
       "version_major": 2,
       "version_minor": 0
      },
      "text/plain": [
       "interactive(children=(ToggleButtons(description='Plot Type:', icons=('',), options=(('Hyperparameters', 'param…"
      ]
     },
     "metadata": {},
     "output_type": "display_data"
    }
   ],
   "source": [
    "evaluate_model(tuned_xgboost)"
   ]
  },
  {
   "cell_type": "markdown",
   "id": "1322f32c",
   "metadata": {},
   "source": [
    "## Predict"
   ]
  },
  {
   "cell_type": "code",
   "execution_count": 17,
   "id": "a57c0db8",
   "metadata": {},
   "outputs": [
    {
     "data": {
      "text/html": [
       "<style type=\"text/css\">\n",
       "</style>\n",
       "<table id=\"T_d6ce5\">\n",
       "  <thead>\n",
       "    <tr>\n",
       "      <th class=\"blank level0\" >&nbsp;</th>\n",
       "      <th id=\"T_d6ce5_level0_col0\" class=\"col_heading level0 col0\" >Model</th>\n",
       "      <th id=\"T_d6ce5_level0_col1\" class=\"col_heading level0 col1\" >MAE</th>\n",
       "      <th id=\"T_d6ce5_level0_col2\" class=\"col_heading level0 col2\" >MSE</th>\n",
       "      <th id=\"T_d6ce5_level0_col3\" class=\"col_heading level0 col3\" >RMSE</th>\n",
       "      <th id=\"T_d6ce5_level0_col4\" class=\"col_heading level0 col4\" >R2</th>\n",
       "      <th id=\"T_d6ce5_level0_col5\" class=\"col_heading level0 col5\" >RMSLE</th>\n",
       "      <th id=\"T_d6ce5_level0_col6\" class=\"col_heading level0 col6\" >MAPE</th>\n",
       "    </tr>\n",
       "  </thead>\n",
       "  <tbody>\n",
       "    <tr>\n",
       "      <th id=\"T_d6ce5_level0_row0\" class=\"row_heading level0 row0\" >0</th>\n",
       "      <td id=\"T_d6ce5_row0_col0\" class=\"data row0 col0\" >Extreme Gradient Boosting</td>\n",
       "      <td id=\"T_d6ce5_row0_col1\" class=\"data row0 col1\" >70.2761</td>\n",
       "      <td id=\"T_d6ce5_row0_col2\" class=\"data row0 col2\" >20435.3803</td>\n",
       "      <td id=\"T_d6ce5_row0_col3\" class=\"data row0 col3\" >142.9524</td>\n",
       "      <td id=\"T_d6ce5_row0_col4\" class=\"data row0 col4\" >0.9017</td>\n",
       "      <td id=\"T_d6ce5_row0_col5\" class=\"data row0 col5\" >0.4490</td>\n",
       "      <td id=\"T_d6ce5_row0_col6\" class=\"data row0 col6\" >0.5253</td>\n",
       "    </tr>\n",
       "  </tbody>\n",
       "</table>\n"
      ],
      "text/plain": [
       "<pandas.io.formats.style.Styler at 0x1b8bec30610>"
      ]
     },
     "metadata": {},
     "output_type": "display_data"
    }
   ],
   "source": [
    "predict_model(tuned_xgboost);"
   ]
  },
  {
   "cell_type": "code",
   "execution_count": 18,
   "id": "caa84d3b",
   "metadata": {},
   "outputs": [
    {
     "name": "stdout",
     "output_type": "stream",
     "text": [
      "XGBRegressor(base_score=None, booster='gbtree', callbacks=None,\n",
      "             colsample_bylevel=None, colsample_bynode=None,\n",
      "             colsample_bytree=0.9, early_stopping_rounds=None,\n",
      "             enable_categorical=False, eval_metric=None, feature_types=None,\n",
      "             gamma=None, gpu_id=None, grow_policy=None, importance_type=None,\n",
      "             interaction_constraints=None, learning_rate=0.05, max_bin=None,\n",
      "             max_cat_threshold=None, max_cat_to_onehot=None,\n",
      "             max_delta_step=None, max_depth=10, max_leaves=None,\n",
      "             min_child_weight=4, missing=nan, monotone_constraints=None,\n",
      "             n_estimators=220, n_jobs=-1, num_parallel_tree=None,\n",
      "             objective='reg:squarederror', predictor=None, ...)\n"
     ]
    }
   ],
   "source": [
    "final_xgboost = finalize_model(tuned_xgboost)\n",
    "print(final_xgboost)"
   ]
  },
  {
   "cell_type": "code",
   "execution_count": 19,
   "id": "9f500f59",
   "metadata": {},
   "outputs": [
    {
     "data": {
      "text/html": [
       "<style type=\"text/css\">\n",
       "</style>\n",
       "<table id=\"T_32c72\">\n",
       "  <thead>\n",
       "    <tr>\n",
       "      <th class=\"blank level0\" >&nbsp;</th>\n",
       "      <th id=\"T_32c72_level0_col0\" class=\"col_heading level0 col0\" >Model</th>\n",
       "      <th id=\"T_32c72_level0_col1\" class=\"col_heading level0 col1\" >MAE</th>\n",
       "      <th id=\"T_32c72_level0_col2\" class=\"col_heading level0 col2\" >MSE</th>\n",
       "      <th id=\"T_32c72_level0_col3\" class=\"col_heading level0 col3\" >RMSE</th>\n",
       "      <th id=\"T_32c72_level0_col4\" class=\"col_heading level0 col4\" >R2</th>\n",
       "      <th id=\"T_32c72_level0_col5\" class=\"col_heading level0 col5\" >RMSLE</th>\n",
       "      <th id=\"T_32c72_level0_col6\" class=\"col_heading level0 col6\" >MAPE</th>\n",
       "    </tr>\n",
       "  </thead>\n",
       "  <tbody>\n",
       "    <tr>\n",
       "      <th id=\"T_32c72_level0_row0\" class=\"row_heading level0 row0\" >0</th>\n",
       "      <td id=\"T_32c72_row0_col0\" class=\"data row0 col0\" >Extreme Gradient Boosting</td>\n",
       "      <td id=\"T_32c72_row0_col1\" class=\"data row0 col1\" >60.5537</td>\n",
       "      <td id=\"T_32c72_row0_col2\" class=\"data row0 col2\" >14363.9114</td>\n",
       "      <td id=\"T_32c72_row0_col3\" class=\"data row0 col3\" >119.8495</td>\n",
       "      <td id=\"T_32c72_row0_col4\" class=\"data row0 col4\" >0.9309</td>\n",
       "      <td id=\"T_32c72_row0_col5\" class=\"data row0 col5\" >0.4063</td>\n",
       "      <td id=\"T_32c72_row0_col6\" class=\"data row0 col6\" >0.4048</td>\n",
       "    </tr>\n",
       "  </tbody>\n",
       "</table>\n"
      ],
      "text/plain": [
       "<pandas.io.formats.style.Styler at 0x1b8bde015b0>"
      ]
     },
     "metadata": {},
     "output_type": "display_data"
    }
   ],
   "source": [
    "predict_model(final_xgboost);"
   ]
  },
  {
   "cell_type": "code",
   "execution_count": null,
   "id": "9c20ac00",
   "metadata": {},
   "outputs": [],
   "source": [
    "data_unseen"
   ]
  },
  {
   "cell_type": "code",
   "execution_count": 21,
   "id": "404d59d4",
   "metadata": {},
   "outputs": [
    {
     "data": {
      "text/html": [
       "<style type=\"text/css\">\n",
       "</style>\n",
       "<table id=\"T_453c8\">\n",
       "  <thead>\n",
       "    <tr>\n",
       "      <th class=\"blank level0\" >&nbsp;</th>\n",
       "      <th id=\"T_453c8_level0_col0\" class=\"col_heading level0 col0\" >Model</th>\n",
       "      <th id=\"T_453c8_level0_col1\" class=\"col_heading level0 col1\" >MAE</th>\n",
       "      <th id=\"T_453c8_level0_col2\" class=\"col_heading level0 col2\" >MSE</th>\n",
       "      <th id=\"T_453c8_level0_col3\" class=\"col_heading level0 col3\" >RMSE</th>\n",
       "      <th id=\"T_453c8_level0_col4\" class=\"col_heading level0 col4\" >R2</th>\n",
       "      <th id=\"T_453c8_level0_col5\" class=\"col_heading level0 col5\" >RMSLE</th>\n",
       "      <th id=\"T_453c8_level0_col6\" class=\"col_heading level0 col6\" >MAPE</th>\n",
       "    </tr>\n",
       "  </thead>\n",
       "  <tbody>\n",
       "    <tr>\n",
       "      <th id=\"T_453c8_level0_row0\" class=\"row_heading level0 row0\" >0</th>\n",
       "      <td id=\"T_453c8_row0_col0\" class=\"data row0 col0\" >Extreme Gradient Boosting</td>\n",
       "      <td id=\"T_453c8_row0_col1\" class=\"data row0 col1\" >68.0783</td>\n",
       "      <td id=\"T_453c8_row0_col2\" class=\"data row0 col2\" >21606.9107</td>\n",
       "      <td id=\"T_453c8_row0_col3\" class=\"data row0 col3\" >146.9929</td>\n",
       "      <td id=\"T_453c8_row0_col4\" class=\"data row0 col4\" >0.8992</td>\n",
       "      <td id=\"T_453c8_row0_col5\" class=\"data row0 col5\" >0.4484</td>\n",
       "      <td id=\"T_453c8_row0_col6\" class=\"data row0 col6\" >0.5785</td>\n",
       "    </tr>\n",
       "  </tbody>\n",
       "</table>\n"
      ],
      "text/plain": [
       "<pandas.io.formats.style.Styler at 0x1b8b9ef3fd0>"
      ]
     },
     "metadata": {},
     "output_type": "display_data"
    },
    {
     "data": {
      "text/html": [
       "<div>\n",
       "<style scoped>\n",
       "    .dataframe tbody tr th:only-of-type {\n",
       "        vertical-align: middle;\n",
       "    }\n",
       "\n",
       "    .dataframe tbody tr th {\n",
       "        vertical-align: top;\n",
       "    }\n",
       "\n",
       "    .dataframe thead th {\n",
       "        text-align: right;\n",
       "    }\n",
       "</style>\n",
       "<table border=\"1\" class=\"dataframe\">\n",
       "  <thead>\n",
       "    <tr style=\"text-align: right;\">\n",
       "      <th></th>\n",
       "      <th>DISCOVER_MONTH</th>\n",
       "      <th>DISCOVER_DAY</th>\n",
       "      <th>DISCOVER_HOUR</th>\n",
       "      <th>IP_ADDRESS</th>\n",
       "      <th>LATITUDE</th>\n",
       "      <th>LONGITUDE</th>\n",
       "      <th>PAIR_NAME</th>\n",
       "      <th>NAME</th>\n",
       "      <th>VEHICLES</th>\n",
       "      <th>Label</th>\n",
       "    </tr>\n",
       "  </thead>\n",
       "  <tbody>\n",
       "    <tr>\n",
       "      <th>0</th>\n",
       "      <td>4</td>\n",
       "      <td>9</td>\n",
       "      <td>10</td>\n",
       "      <td>192.168.250.67</td>\n",
       "      <td>23.709414</td>\n",
       "      <td>90.401916</td>\n",
       "      <td>Babu Bazar Bridge</td>\n",
       "      <td>To Tatibazar New</td>\n",
       "      <td>225</td>\n",
       "      <td>81.942375</td>\n",
       "    </tr>\n",
       "    <tr>\n",
       "      <th>1</th>\n",
       "      <td>4</td>\n",
       "      <td>9</td>\n",
       "      <td>11</td>\n",
       "      <td>192.168.250.11</td>\n",
       "      <td>23.794837</td>\n",
       "      <td>90.414269</td>\n",
       "      <td>Gulshan 2</td>\n",
       "      <td>To Notun Baazar New</td>\n",
       "      <td>485</td>\n",
       "      <td>398.083160</td>\n",
       "    </tr>\n",
       "    <tr>\n",
       "      <th>2</th>\n",
       "      <td>4</td>\n",
       "      <td>9</td>\n",
       "      <td>14</td>\n",
       "      <td>192.168.250.11</td>\n",
       "      <td>23.794837</td>\n",
       "      <td>90.414269</td>\n",
       "      <td>Gulshan 2</td>\n",
       "      <td>To Notun Baazar New</td>\n",
       "      <td>457</td>\n",
       "      <td>413.409180</td>\n",
       "    </tr>\n",
       "    <tr>\n",
       "      <th>3</th>\n",
       "      <td>4</td>\n",
       "      <td>9</td>\n",
       "      <td>15</td>\n",
       "      <td>192.168.250.3</td>\n",
       "      <td>23.727862</td>\n",
       "      <td>90.410508</td>\n",
       "      <td>Zero Point</td>\n",
       "      <td>To Paltan New</td>\n",
       "      <td>296</td>\n",
       "      <td>252.212311</td>\n",
       "    </tr>\n",
       "    <tr>\n",
       "      <th>4</th>\n",
       "      <td>8</td>\n",
       "      <td>23</td>\n",
       "      <td>1</td>\n",
       "      <td>192.168.250.11</td>\n",
       "      <td>23.794837</td>\n",
       "      <td>90.414269</td>\n",
       "      <td>Gulshan 2</td>\n",
       "      <td>To Notun Baazar New</td>\n",
       "      <td>145</td>\n",
       "      <td>164.658707</td>\n",
       "    </tr>\n",
       "  </tbody>\n",
       "</table>\n",
       "</div>"
      ],
      "text/plain": [
       "   DISCOVER_MONTH  DISCOVER_DAY  DISCOVER_HOUR      IP_ADDRESS   LATITUDE  \\\n",
       "0               4             9             10  192.168.250.67  23.709414   \n",
       "1               4             9             11  192.168.250.11  23.794837   \n",
       "2               4             9             14  192.168.250.11  23.794837   \n",
       "3               4             9             15   192.168.250.3  23.727862   \n",
       "4               8            23              1  192.168.250.11  23.794837   \n",
       "\n",
       "   LONGITUDE          PAIR_NAME                 NAME  VEHICLES       Label  \n",
       "0  90.401916  Babu Bazar Bridge     To Tatibazar New       225   81.942375  \n",
       "1  90.414269          Gulshan 2  To Notun Baazar New       485  398.083160  \n",
       "2  90.414269          Gulshan 2  To Notun Baazar New       457  413.409180  \n",
       "3  90.410508         Zero Point        To Paltan New       296  252.212311  \n",
       "4  90.414269          Gulshan 2  To Notun Baazar New       145  164.658707  "
      ]
     },
     "execution_count": 21,
     "metadata": {},
     "output_type": "execute_result"
    }
   ],
   "source": [
    "unseen_predictions = predict_model(final_xgboost, data=data_unseen)\n",
    "unseen_predictions.head()"
   ]
  },
  {
   "cell_type": "code",
   "execution_count": 22,
   "id": "3417b628",
   "metadata": {},
   "outputs": [
    {
     "data": {
      "text/plain": [
       "0.8992"
      ]
     },
     "execution_count": 22,
     "metadata": {},
     "output_type": "execute_result"
    }
   ],
   "source": [
    "check_metric(unseen_predictions.VEHICLES, unseen_predictions.Label, 'R2')"
   ]
  },
  {
   "cell_type": "code",
   "execution_count": 23,
   "id": "55c866eb",
   "metadata": {},
   "outputs": [
    {
     "data": {
      "text/plain": [
       "146.9929"
      ]
     },
     "execution_count": 23,
     "metadata": {},
     "output_type": "execute_result"
    }
   ],
   "source": [
    "check_metric(unseen_predictions.VEHICLES, unseen_predictions.Label, 'RMSE')"
   ]
  },
  {
   "cell_type": "markdown",
   "id": "e859d3fb",
   "metadata": {},
   "source": [
    "## Save Model"
   ]
  },
  {
   "cell_type": "code",
   "execution_count": 24,
   "id": "23ada1d8",
   "metadata": {},
   "outputs": [
    {
     "name": "stdout",
     "output_type": "stream",
     "text": [
      "Transformation Pipeline and Model Successfully Saved\n"
     ]
    },
    {
     "data": {
      "text/plain": [
       "(Pipeline(memory=None,\n",
       "          steps=[('dtypes',\n",
       "                  DataTypes_Auto_infer(categorical_features=[],\n",
       "                                       display_types=True, features_todrop=[],\n",
       "                                       id_columns=[], ml_usecase='regression',\n",
       "                                       numerical_features=[], target='VEHICLES',\n",
       "                                       time_features=[])),\n",
       "                 ('imputer',\n",
       "                  Simple_Imputer(categorical_strategy='not_available',\n",
       "                                 fill_value_categorical=None,\n",
       "                                 fill_value_numerical=None,\n",
       "                                 numeric_strateg...\n",
       "                               grow_policy=None, importance_type=None,\n",
       "                               interaction_constraints=None, learning_rate=0.05,\n",
       "                               max_bin=None, max_cat_threshold=None,\n",
       "                               max_cat_to_onehot=None, max_delta_step=None,\n",
       "                               max_depth=10, max_leaves=None, min_child_weight=4,\n",
       "                               missing=nan, monotone_constraints=None,\n",
       "                               n_estimators=220, n_jobs=-1,\n",
       "                               num_parallel_tree=None,\n",
       "                               objective='reg:squarederror', predictor=None, ...)]],\n",
       "          verbose=False),\n",
       " '../models/Final_XGBoost_Model_01Mar2023.pkl')"
      ]
     },
     "execution_count": 24,
     "metadata": {},
     "output_type": "execute_result"
    }
   ],
   "source": [
    "save_model(final_xgboost,'../models/Final_XGBoost_Model_01Mar2023')"
   ]
  },
  {
   "cell_type": "markdown",
   "id": "3002e57a",
   "metadata": {},
   "source": [
    "## Loading the Saved Model"
   ]
  },
  {
   "cell_type": "code",
   "execution_count": 25,
   "id": "2300b82e",
   "metadata": {},
   "outputs": [
    {
     "name": "stdout",
     "output_type": "stream",
     "text": [
      "Transformation Pipeline and Model Successfully Loaded\n"
     ]
    }
   ],
   "source": [
    "saved_final_xgboost = load_model('../models/Final_XGBoost_Model_01Mar2023')"
   ]
  },
  {
   "cell_type": "code",
   "execution_count": 26,
   "id": "c565a1ac",
   "metadata": {},
   "outputs": [
    {
     "data": {
      "text/html": [
       "<style type=\"text/css\">\n",
       "</style>\n",
       "<table id=\"T_3384c\">\n",
       "  <thead>\n",
       "    <tr>\n",
       "      <th class=\"blank level0\" >&nbsp;</th>\n",
       "      <th id=\"T_3384c_level0_col0\" class=\"col_heading level0 col0\" >Model</th>\n",
       "      <th id=\"T_3384c_level0_col1\" class=\"col_heading level0 col1\" >MAE</th>\n",
       "      <th id=\"T_3384c_level0_col2\" class=\"col_heading level0 col2\" >MSE</th>\n",
       "      <th id=\"T_3384c_level0_col3\" class=\"col_heading level0 col3\" >RMSE</th>\n",
       "      <th id=\"T_3384c_level0_col4\" class=\"col_heading level0 col4\" >R2</th>\n",
       "      <th id=\"T_3384c_level0_col5\" class=\"col_heading level0 col5\" >RMSLE</th>\n",
       "      <th id=\"T_3384c_level0_col6\" class=\"col_heading level0 col6\" >MAPE</th>\n",
       "    </tr>\n",
       "  </thead>\n",
       "  <tbody>\n",
       "    <tr>\n",
       "      <th id=\"T_3384c_level0_row0\" class=\"row_heading level0 row0\" >0</th>\n",
       "      <td id=\"T_3384c_row0_col0\" class=\"data row0 col0\" >Extreme Gradient Boosting</td>\n",
       "      <td id=\"T_3384c_row0_col1\" class=\"data row0 col1\" >68.0783</td>\n",
       "      <td id=\"T_3384c_row0_col2\" class=\"data row0 col2\" >21606.9107</td>\n",
       "      <td id=\"T_3384c_row0_col3\" class=\"data row0 col3\" >146.9929</td>\n",
       "      <td id=\"T_3384c_row0_col4\" class=\"data row0 col4\" >0.8992</td>\n",
       "      <td id=\"T_3384c_row0_col5\" class=\"data row0 col5\" >0.4484</td>\n",
       "      <td id=\"T_3384c_row0_col6\" class=\"data row0 col6\" >0.5785</td>\n",
       "    </tr>\n",
       "  </tbody>\n",
       "</table>\n"
      ],
      "text/plain": [
       "<pandas.io.formats.style.Styler at 0x1b8c0c5dc70>"
      ]
     },
     "metadata": {},
     "output_type": "display_data"
    },
    {
     "data": {
      "text/html": [
       "<div>\n",
       "<style scoped>\n",
       "    .dataframe tbody tr th:only-of-type {\n",
       "        vertical-align: middle;\n",
       "    }\n",
       "\n",
       "    .dataframe tbody tr th {\n",
       "        vertical-align: top;\n",
       "    }\n",
       "\n",
       "    .dataframe thead th {\n",
       "        text-align: right;\n",
       "    }\n",
       "</style>\n",
       "<table border=\"1\" class=\"dataframe\">\n",
       "  <thead>\n",
       "    <tr style=\"text-align: right;\">\n",
       "      <th></th>\n",
       "      <th>DISCOVER_MONTH</th>\n",
       "      <th>DISCOVER_DAY</th>\n",
       "      <th>DISCOVER_HOUR</th>\n",
       "      <th>IP_ADDRESS</th>\n",
       "      <th>LATITUDE</th>\n",
       "      <th>LONGITUDE</th>\n",
       "      <th>PAIR_NAME</th>\n",
       "      <th>NAME</th>\n",
       "      <th>VEHICLES</th>\n",
       "      <th>Label</th>\n",
       "    </tr>\n",
       "  </thead>\n",
       "  <tbody>\n",
       "    <tr>\n",
       "      <th>0</th>\n",
       "      <td>4</td>\n",
       "      <td>9</td>\n",
       "      <td>10</td>\n",
       "      <td>192.168.250.67</td>\n",
       "      <td>23.709414</td>\n",
       "      <td>90.401916</td>\n",
       "      <td>Babu Bazar Bridge</td>\n",
       "      <td>To Tatibazar New</td>\n",
       "      <td>225</td>\n",
       "      <td>81.942375</td>\n",
       "    </tr>\n",
       "    <tr>\n",
       "      <th>1</th>\n",
       "      <td>4</td>\n",
       "      <td>9</td>\n",
       "      <td>11</td>\n",
       "      <td>192.168.250.11</td>\n",
       "      <td>23.794837</td>\n",
       "      <td>90.414269</td>\n",
       "      <td>Gulshan 2</td>\n",
       "      <td>To Notun Baazar New</td>\n",
       "      <td>485</td>\n",
       "      <td>398.083160</td>\n",
       "    </tr>\n",
       "    <tr>\n",
       "      <th>2</th>\n",
       "      <td>4</td>\n",
       "      <td>9</td>\n",
       "      <td>14</td>\n",
       "      <td>192.168.250.11</td>\n",
       "      <td>23.794837</td>\n",
       "      <td>90.414269</td>\n",
       "      <td>Gulshan 2</td>\n",
       "      <td>To Notun Baazar New</td>\n",
       "      <td>457</td>\n",
       "      <td>413.409180</td>\n",
       "    </tr>\n",
       "    <tr>\n",
       "      <th>3</th>\n",
       "      <td>4</td>\n",
       "      <td>9</td>\n",
       "      <td>15</td>\n",
       "      <td>192.168.250.3</td>\n",
       "      <td>23.727862</td>\n",
       "      <td>90.410508</td>\n",
       "      <td>Zero Point</td>\n",
       "      <td>To Paltan New</td>\n",
       "      <td>296</td>\n",
       "      <td>252.212311</td>\n",
       "    </tr>\n",
       "    <tr>\n",
       "      <th>4</th>\n",
       "      <td>8</td>\n",
       "      <td>23</td>\n",
       "      <td>1</td>\n",
       "      <td>192.168.250.11</td>\n",
       "      <td>23.794837</td>\n",
       "      <td>90.414269</td>\n",
       "      <td>Gulshan 2</td>\n",
       "      <td>To Notun Baazar New</td>\n",
       "      <td>145</td>\n",
       "      <td>164.658707</td>\n",
       "    </tr>\n",
       "  </tbody>\n",
       "</table>\n",
       "</div>"
      ],
      "text/plain": [
       "   DISCOVER_MONTH  DISCOVER_DAY  DISCOVER_HOUR      IP_ADDRESS   LATITUDE  \\\n",
       "0               4             9             10  192.168.250.67  23.709414   \n",
       "1               4             9             11  192.168.250.11  23.794837   \n",
       "2               4             9             14  192.168.250.11  23.794837   \n",
       "3               4             9             15   192.168.250.3  23.727862   \n",
       "4               8            23              1  192.168.250.11  23.794837   \n",
       "\n",
       "   LONGITUDE          PAIR_NAME                 NAME  VEHICLES       Label  \n",
       "0  90.401916  Babu Bazar Bridge     To Tatibazar New       225   81.942375  \n",
       "1  90.414269          Gulshan 2  To Notun Baazar New       485  398.083160  \n",
       "2  90.414269          Gulshan 2  To Notun Baazar New       457  413.409180  \n",
       "3  90.410508         Zero Point        To Paltan New       296  252.212311  \n",
       "4  90.414269          Gulshan 2  To Notun Baazar New       145  164.658707  "
      ]
     },
     "execution_count": 26,
     "metadata": {},
     "output_type": "execute_result"
    }
   ],
   "source": [
    "new_prediction = predict_model(saved_final_xgboost, data=data_unseen)\n",
    "new_prediction.head()"
   ]
  },
  {
   "cell_type": "code",
   "execution_count": 27,
   "id": "91eed5d3",
   "metadata": {},
   "outputs": [
    {
     "data": {
      "text/plain": [
       "0.8992"
      ]
     },
     "execution_count": 27,
     "metadata": {},
     "output_type": "execute_result"
    }
   ],
   "source": [
    "from pycaret.utils import check_metric\n",
    "check_metric(new_prediction.VEHICLES, new_prediction.Label, 'R2')"
   ]
  },
  {
   "cell_type": "code",
   "execution_count": 28,
   "id": "4663df8c",
   "metadata": {},
   "outputs": [
    {
     "data": {
      "text/plain": [
       "146.9929"
      ]
     },
     "execution_count": 28,
     "metadata": {},
     "output_type": "execute_result"
    }
   ],
   "source": [
    "check_metric(new_prediction.VEHICLES, new_prediction.Label, 'RMSE')"
   ]
  },
  {
   "cell_type": "code",
   "execution_count": 29,
   "id": "df974c9e",
   "metadata": {},
   "outputs": [],
   "source": [
    "# Convert dictionary to DataFrame with a single row\n",
    "df = data_unseen.iloc[[201]].reset_index(drop=True)"
   ]
  },
  {
   "cell_type": "code",
   "execution_count": 30,
   "id": "bd31f922",
   "metadata": {},
   "outputs": [
    {
     "data": {
      "text/html": [
       "<div>\n",
       "<style scoped>\n",
       "    .dataframe tbody tr th:only-of-type {\n",
       "        vertical-align: middle;\n",
       "    }\n",
       "\n",
       "    .dataframe tbody tr th {\n",
       "        vertical-align: top;\n",
       "    }\n",
       "\n",
       "    .dataframe thead th {\n",
       "        text-align: right;\n",
       "    }\n",
       "</style>\n",
       "<table border=\"1\" class=\"dataframe\">\n",
       "  <thead>\n",
       "    <tr style=\"text-align: right;\">\n",
       "      <th></th>\n",
       "      <th>DISCOVER_MONTH</th>\n",
       "      <th>DISCOVER_DAY</th>\n",
       "      <th>DISCOVER_HOUR</th>\n",
       "      <th>IP_ADDRESS</th>\n",
       "      <th>LATITUDE</th>\n",
       "      <th>LONGITUDE</th>\n",
       "      <th>PAIR_NAME</th>\n",
       "      <th>NAME</th>\n",
       "      <th>VEHICLES</th>\n",
       "    </tr>\n",
       "  </thead>\n",
       "  <tbody>\n",
       "    <tr>\n",
       "      <th>0</th>\n",
       "      <td>6</td>\n",
       "      <td>4</td>\n",
       "      <td>2</td>\n",
       "      <td>192.168.250.26</td>\n",
       "      <td>23.809342</td>\n",
       "      <td>90.421319</td>\n",
       "      <td>Kuril Bishawroad</td>\n",
       "      <td>To Notun Baazar New</td>\n",
       "      <td>196</td>\n",
       "    </tr>\n",
       "  </tbody>\n",
       "</table>\n",
       "</div>"
      ],
      "text/plain": [
       "   DISCOVER_MONTH  DISCOVER_DAY  DISCOVER_HOUR      IP_ADDRESS   LATITUDE  \\\n",
       "0               6             4              2  192.168.250.26  23.809342   \n",
       "\n",
       "   LONGITUDE         PAIR_NAME                 NAME  VEHICLES  \n",
       "0  90.421319  Kuril Bishawroad  To Notun Baazar New       196  "
      ]
     },
     "execution_count": 30,
     "metadata": {},
     "output_type": "execute_result"
    }
   ],
   "source": [
    "df"
   ]
  },
  {
   "cell_type": "code",
   "execution_count": 31,
   "id": "00f1b05c",
   "metadata": {},
   "outputs": [
    {
     "data": {
      "text/html": [
       "<style type=\"text/css\">\n",
       "</style>\n",
       "<table id=\"T_7b170\">\n",
       "  <thead>\n",
       "    <tr>\n",
       "      <th class=\"blank level0\" >&nbsp;</th>\n",
       "      <th id=\"T_7b170_level0_col0\" class=\"col_heading level0 col0\" >Model</th>\n",
       "      <th id=\"T_7b170_level0_col1\" class=\"col_heading level0 col1\" >MAE</th>\n",
       "      <th id=\"T_7b170_level0_col2\" class=\"col_heading level0 col2\" >MSE</th>\n",
       "      <th id=\"T_7b170_level0_col3\" class=\"col_heading level0 col3\" >RMSE</th>\n",
       "      <th id=\"T_7b170_level0_col4\" class=\"col_heading level0 col4\" >R2</th>\n",
       "      <th id=\"T_7b170_level0_col5\" class=\"col_heading level0 col5\" >RMSLE</th>\n",
       "      <th id=\"T_7b170_level0_col6\" class=\"col_heading level0 col6\" >MAPE</th>\n",
       "    </tr>\n",
       "  </thead>\n",
       "  <tbody>\n",
       "    <tr>\n",
       "      <th id=\"T_7b170_level0_row0\" class=\"row_heading level0 row0\" >0</th>\n",
       "      <td id=\"T_7b170_row0_col0\" class=\"data row0 col0\" >Extreme Gradient Boosting</td>\n",
       "      <td id=\"T_7b170_row0_col1\" class=\"data row0 col1\" >2.1863</td>\n",
       "      <td id=\"T_7b170_row0_col2\" class=\"data row0 col2\" >4.7800</td>\n",
       "      <td id=\"T_7b170_row0_col3\" class=\"data row0 col3\" >2.1863</td>\n",
       "      <td id=\"T_7b170_row0_col4\" class=\"data row0 col4\" >nan</td>\n",
       "      <td id=\"T_7b170_row0_col5\" class=\"data row0 col5\" >0.0110</td>\n",
       "      <td id=\"T_7b170_row0_col6\" class=\"data row0 col6\" >0.0112</td>\n",
       "    </tr>\n",
       "  </tbody>\n",
       "</table>\n"
      ],
      "text/plain": [
       "<pandas.io.formats.style.Styler at 0x1b8bed0cd90>"
      ]
     },
     "metadata": {},
     "output_type": "display_data"
    },
    {
     "data": {
      "text/html": [
       "<div>\n",
       "<style scoped>\n",
       "    .dataframe tbody tr th:only-of-type {\n",
       "        vertical-align: middle;\n",
       "    }\n",
       "\n",
       "    .dataframe tbody tr th {\n",
       "        vertical-align: top;\n",
       "    }\n",
       "\n",
       "    .dataframe thead th {\n",
       "        text-align: right;\n",
       "    }\n",
       "</style>\n",
       "<table border=\"1\" class=\"dataframe\">\n",
       "  <thead>\n",
       "    <tr style=\"text-align: right;\">\n",
       "      <th></th>\n",
       "      <th>DISCOVER_MONTH</th>\n",
       "      <th>DISCOVER_DAY</th>\n",
       "      <th>DISCOVER_HOUR</th>\n",
       "      <th>IP_ADDRESS</th>\n",
       "      <th>LATITUDE</th>\n",
       "      <th>LONGITUDE</th>\n",
       "      <th>PAIR_NAME</th>\n",
       "      <th>NAME</th>\n",
       "      <th>VEHICLES</th>\n",
       "      <th>Label</th>\n",
       "    </tr>\n",
       "  </thead>\n",
       "  <tbody>\n",
       "    <tr>\n",
       "      <th>0</th>\n",
       "      <td>6</td>\n",
       "      <td>4</td>\n",
       "      <td>2</td>\n",
       "      <td>192.168.250.26</td>\n",
       "      <td>23.809342</td>\n",
       "      <td>90.421319</td>\n",
       "      <td>Kuril Bishawroad</td>\n",
       "      <td>To Notun Baazar New</td>\n",
       "      <td>196</td>\n",
       "      <td>198.18631</td>\n",
       "    </tr>\n",
       "  </tbody>\n",
       "</table>\n",
       "</div>"
      ],
      "text/plain": [
       "   DISCOVER_MONTH  DISCOVER_DAY  DISCOVER_HOUR      IP_ADDRESS   LATITUDE  \\\n",
       "0               6             4              2  192.168.250.26  23.809342   \n",
       "\n",
       "   LONGITUDE         PAIR_NAME                 NAME  VEHICLES      Label  \n",
       "0  90.421319  Kuril Bishawroad  To Notun Baazar New       196  198.18631  "
      ]
     },
     "execution_count": 31,
     "metadata": {},
     "output_type": "execute_result"
    }
   ],
   "source": [
    "new_prediction = predict_model(saved_final_xgboost, data=df)\n",
    "new_prediction.head()"
   ]
  },
  {
   "cell_type": "code",
   "execution_count": 32,
   "id": "519c7ec3",
   "metadata": {},
   "outputs": [],
   "source": [
    "new_data = {'DISCOVER_MONTH':12, 'DISCOVER_DAY':20, 'DISCOVER_HOUR': 21, \\\n",
    "            'IP_ADDRESS': '192.168.250.26',\\\n",
    "            'LONGITUDE':90.421319, 'LATITUDE':23.809342, \\\n",
    "            'NAME': 'To Notun Baazar New', 'PAIR_NAME': 'Kuril Bishawroad', \\\n",
    "            'VEHICLES':1117.}"
   ]
  },
  {
   "cell_type": "code",
   "execution_count": 33,
   "id": "87572707",
   "metadata": {},
   "outputs": [],
   "source": [
    "# Convert dictionary to DataFrame with a single row\n",
    "df = pd.DataFrame(new_data, index=[0])"
   ]
  },
  {
   "cell_type": "code",
   "execution_count": 34,
   "id": "5f9f33d5",
   "metadata": {},
   "outputs": [
    {
     "data": {
      "text/html": [
       "<style type=\"text/css\">\n",
       "</style>\n",
       "<table id=\"T_5ffa6\">\n",
       "  <thead>\n",
       "    <tr>\n",
       "      <th class=\"blank level0\" >&nbsp;</th>\n",
       "      <th id=\"T_5ffa6_level0_col0\" class=\"col_heading level0 col0\" >Model</th>\n",
       "      <th id=\"T_5ffa6_level0_col1\" class=\"col_heading level0 col1\" >MAE</th>\n",
       "      <th id=\"T_5ffa6_level0_col2\" class=\"col_heading level0 col2\" >MSE</th>\n",
       "      <th id=\"T_5ffa6_level0_col3\" class=\"col_heading level0 col3\" >RMSE</th>\n",
       "      <th id=\"T_5ffa6_level0_col4\" class=\"col_heading level0 col4\" >R2</th>\n",
       "      <th id=\"T_5ffa6_level0_col5\" class=\"col_heading level0 col5\" >RMSLE</th>\n",
       "      <th id=\"T_5ffa6_level0_col6\" class=\"col_heading level0 col6\" >MAPE</th>\n",
       "    </tr>\n",
       "  </thead>\n",
       "  <tbody>\n",
       "    <tr>\n",
       "      <th id=\"T_5ffa6_level0_row0\" class=\"row_heading level0 row0\" >0</th>\n",
       "      <td id=\"T_5ffa6_row0_col0\" class=\"data row0 col0\" >Extreme Gradient Boosting</td>\n",
       "      <td id=\"T_5ffa6_row0_col1\" class=\"data row0 col1\" >119.4562</td>\n",
       "      <td id=\"T_5ffa6_row0_col2\" class=\"data row0 col2\" >14269.7782</td>\n",
       "      <td id=\"T_5ffa6_row0_col3\" class=\"data row0 col3\" >119.4562</td>\n",
       "      <td id=\"T_5ffa6_row0_col4\" class=\"data row0 col4\" >nan</td>\n",
       "      <td id=\"T_5ffa6_row0_col5\" class=\"data row0 col5\" >0.1015</td>\n",
       "      <td id=\"T_5ffa6_row0_col6\" class=\"data row0 col6\" >0.1069</td>\n",
       "    </tr>\n",
       "  </tbody>\n",
       "</table>\n"
      ],
      "text/plain": [
       "<pandas.io.formats.style.Styler at 0x1b8beca9460>"
      ]
     },
     "metadata": {},
     "output_type": "display_data"
    },
    {
     "data": {
      "text/html": [
       "<div>\n",
       "<style scoped>\n",
       "    .dataframe tbody tr th:only-of-type {\n",
       "        vertical-align: middle;\n",
       "    }\n",
       "\n",
       "    .dataframe tbody tr th {\n",
       "        vertical-align: top;\n",
       "    }\n",
       "\n",
       "    .dataframe thead th {\n",
       "        text-align: right;\n",
       "    }\n",
       "</style>\n",
       "<table border=\"1\" class=\"dataframe\">\n",
       "  <thead>\n",
       "    <tr style=\"text-align: right;\">\n",
       "      <th></th>\n",
       "      <th>DISCOVER_MONTH</th>\n",
       "      <th>DISCOVER_DAY</th>\n",
       "      <th>DISCOVER_HOUR</th>\n",
       "      <th>IP_ADDRESS</th>\n",
       "      <th>LONGITUDE</th>\n",
       "      <th>LATITUDE</th>\n",
       "      <th>NAME</th>\n",
       "      <th>PAIR_NAME</th>\n",
       "      <th>VEHICLES</th>\n",
       "      <th>Label</th>\n",
       "    </tr>\n",
       "  </thead>\n",
       "  <tbody>\n",
       "    <tr>\n",
       "      <th>0</th>\n",
       "      <td>12</td>\n",
       "      <td>20</td>\n",
       "      <td>21</td>\n",
       "      <td>192.168.250.26</td>\n",
       "      <td>90.421319</td>\n",
       "      <td>23.809342</td>\n",
       "      <td>To Notun Baazar New</td>\n",
       "      <td>Kuril Bishawroad</td>\n",
       "      <td>1117.0</td>\n",
       "      <td>1236.456177</td>\n",
       "    </tr>\n",
       "  </tbody>\n",
       "</table>\n",
       "</div>"
      ],
      "text/plain": [
       "   DISCOVER_MONTH  DISCOVER_DAY  DISCOVER_HOUR      IP_ADDRESS  LONGITUDE  \\\n",
       "0              12            20             21  192.168.250.26  90.421319   \n",
       "\n",
       "    LATITUDE                 NAME         PAIR_NAME  VEHICLES        Label  \n",
       "0  23.809342  To Notun Baazar New  Kuril Bishawroad    1117.0  1236.456177  "
      ]
     },
     "execution_count": 34,
     "metadata": {},
     "output_type": "execute_result"
    }
   ],
   "source": [
    "new_prediction = predict_model(saved_final_xgboost, data=df)\n",
    "new_prediction.head()"
   ]
  },
  {
   "cell_type": "code",
   "execution_count": null,
   "id": "6788b7e9",
   "metadata": {},
   "outputs": [],
   "source": []
  }
 ],
 "metadata": {
  "kernelspec": {
   "display_name": "pycaret",
   "language": "python",
   "name": "pycaret"
  },
  "language_info": {
   "codemirror_mode": {
    "name": "ipython",
    "version": 3
   },
   "file_extension": ".py",
   "mimetype": "text/x-python",
   "name": "python",
   "nbconvert_exporter": "python",
   "pygments_lexer": "ipython3",
   "version": "3.8.16"
  },
  "toc": {
   "base_numbering": 1,
   "nav_menu": {},
   "number_sections": true,
   "sideBar": true,
   "skip_h1_title": false,
   "title_cell": "Table of Contents",
   "title_sidebar": "Contents",
   "toc_cell": false,
   "toc_position": {
    "height": "calc(100% - 180px)",
    "left": "10px",
    "top": "150px",
    "width": "282.825px"
   },
   "toc_section_display": true,
   "toc_window_display": false
  }
 },
 "nbformat": 4,
 "nbformat_minor": 5
}
