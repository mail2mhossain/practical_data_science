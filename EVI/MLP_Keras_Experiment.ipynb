{
 "cells": [
  {
   "cell_type": "code",
   "execution_count": 1,
   "id": "d73a7b7a",
   "metadata": {},
   "outputs": [],
   "source": [
    "import os\n",
    "import pandas as pd\n",
    "import numpy as np\n",
    "import seaborn as sns\n",
    "import matplotlib.pyplot as plt\n",
    "import yaml"
   ]
  },
  {
   "cell_type": "code",
   "execution_count": 2,
   "id": "d25557f1",
   "metadata": {},
   "outputs": [],
   "source": [
    "import tensorflow as tf\n",
    "from sklearn.model_selection import train_test_split\n",
    "from sklearn.metrics import mean_squared_error, mean_absolute_error, explained_variance_score"
   ]
  },
  {
   "cell_type": "markdown",
   "id": "8206e17f",
   "metadata": {},
   "source": [
    "# Read config"
   ]
  },
  {
   "cell_type": "code",
   "execution_count": 3,
   "id": "1f9b61ac",
   "metadata": {},
   "outputs": [],
   "source": [
    "with open('../params.yaml') as conf_file:\n",
    "    config = yaml.safe_load(conf_file)"
   ]
  },
  {
   "cell_type": "markdown",
   "id": "ac47b15e",
   "metadata": {},
   "source": [
    "# Read Clean Data"
   ]
  },
  {
   "cell_type": "code",
   "execution_count": 4,
   "id": "99e716a4",
   "metadata": {},
   "outputs": [],
   "source": [
    "clean_data_df = pd.read_csv('../' + config[\"featurize\"][\"clean_data\"])"
   ]
  },
  {
   "cell_type": "code",
   "execution_count": 5,
   "id": "88090c85",
   "metadata": {},
   "outputs": [
    {
     "data": {
      "text/plain": [
       "(85409, 9)"
      ]
     },
     "execution_count": 5,
     "metadata": {},
     "output_type": "execute_result"
    }
   ],
   "source": [
    "clean_data_df.shape"
   ]
  },
  {
   "cell_type": "code",
   "execution_count": null,
   "id": "f185b6e6",
   "metadata": {},
   "outputs": [],
   "source": [
    "clean_data_df.sample(5)"
   ]
  },
  {
   "cell_type": "code",
   "execution_count": 7,
   "id": "1cdcbcc9",
   "metadata": {},
   "outputs": [],
   "source": [
    "IP_ADDRESS_dummies = pd.get_dummies(clean_data_df['IP_ADDRESS'],drop_first=True)"
   ]
  },
  {
   "cell_type": "code",
   "execution_count": 8,
   "id": "323017d7",
   "metadata": {},
   "outputs": [],
   "source": [
    "clean_data_df = pd.concat([clean_data_df.drop('IP_ADDRESS', axis=1), IP_ADDRESS_dummies], axis=1)"
   ]
  },
  {
   "cell_type": "code",
   "execution_count": 9,
   "id": "1301e804",
   "metadata": {},
   "outputs": [],
   "source": [
    "PAIR_NAME_dummies = pd.get_dummies(clean_data_df['PAIR_NAME'], drop_first=True)"
   ]
  },
  {
   "cell_type": "code",
   "execution_count": 10,
   "id": "0ad249b5",
   "metadata": {},
   "outputs": [],
   "source": [
    "clean_data_df = pd.concat([clean_data_df.drop('PAIR_NAME', axis=1), PAIR_NAME_dummies], axis=1)"
   ]
  },
  {
   "cell_type": "code",
   "execution_count": 11,
   "id": "3f007588",
   "metadata": {},
   "outputs": [],
   "source": [
    "NAME_dummies = pd.get_dummies(clean_data_df['NAME'], drop_first=True)"
   ]
  },
  {
   "cell_type": "code",
   "execution_count": 12,
   "id": "9a62953a",
   "metadata": {},
   "outputs": [],
   "source": [
    "clean_data_df = pd.concat([clean_data_df.drop('NAME', axis=1), NAME_dummies], axis=1)"
   ]
  },
  {
   "cell_type": "markdown",
   "id": "687e0352",
   "metadata": {},
   "source": [
    "# Data Split"
   ]
  },
  {
   "cell_type": "code",
   "execution_count": 13,
   "id": "f5eb1403",
   "metadata": {},
   "outputs": [],
   "source": [
    "X = clean_data_df.drop('VEHICLES' , axis=1)\n",
    "y = clean_data_df['VEHICLES']"
   ]
  },
  {
   "cell_type": "code",
   "execution_count": 14,
   "id": "5b68962f",
   "metadata": {},
   "outputs": [],
   "source": [
    "test_size = int(X.shape[0] *.20)"
   ]
  },
  {
   "cell_type": "code",
   "execution_count": 15,
   "id": "92270fed",
   "metadata": {},
   "outputs": [
    {
     "name": "stdout",
     "output_type": "stream",
     "text": [
      "17081\n"
     ]
    }
   ],
   "source": [
    "print(test_size)"
   ]
  },
  {
   "cell_type": "code",
   "execution_count": 16,
   "id": "e3f255e9",
   "metadata": {},
   "outputs": [],
   "source": [
    "X_train, X_test, y_train, y_test = train_test_split(X, y, test_size=test_size, random_state=42)\n",
    "X_train, X_valid, y_train, y_valid = train_test_split(X_train, y_train, test_size=test_size, random_state=42)"
   ]
  },
  {
   "cell_type": "code",
   "execution_count": 17,
   "id": "a424630f",
   "metadata": {},
   "outputs": [
    {
     "name": "stdout",
     "output_type": "stream",
     "text": [
      "(51247, 56) (51247,)\n"
     ]
    }
   ],
   "source": [
    "print (X_train.shape, y_train.shape)"
   ]
  },
  {
   "cell_type": "code",
   "execution_count": 18,
   "id": "69ed9fec",
   "metadata": {},
   "outputs": [
    {
     "name": "stdout",
     "output_type": "stream",
     "text": [
      "(17081, 56) (17081,)\n"
     ]
    }
   ],
   "source": [
    "print (X_test.shape, y_test.shape)"
   ]
  },
  {
   "cell_type": "code",
   "execution_count": 19,
   "id": "09f39984",
   "metadata": {},
   "outputs": [
    {
     "name": "stdout",
     "output_type": "stream",
     "text": [
      "(17081, 56) (17081,)\n"
     ]
    }
   ],
   "source": [
    "print (X_valid.shape, y_valid.shape)"
   ]
  },
  {
   "cell_type": "code",
   "execution_count": 20,
   "id": "8957a6f2",
   "metadata": {},
   "outputs": [],
   "source": [
    "n_input = X_train.shape[1]"
   ]
  },
  {
   "cell_type": "code",
   "execution_count": 21,
   "id": "12289d88",
   "metadata": {},
   "outputs": [
    {
     "name": "stdout",
     "output_type": "stream",
     "text": [
      "56\n"
     ]
    }
   ],
   "source": [
    "print(n_input)"
   ]
  },
  {
   "cell_type": "markdown",
   "id": "5c11d741",
   "metadata": {},
   "source": [
    "# Base Neural Network Architecture"
   ]
  },
  {
   "cell_type": "code",
   "execution_count": 22,
   "id": "bc8b06be",
   "metadata": {},
   "outputs": [],
   "source": [
    "from tensorflow.keras.models import Sequential\n",
    "from tensorflow.keras.layers import Input, Dense, Activation, Dropout, ReLU, Normalization, Flatten, CategoryEncoding\n",
    "from tensorflow.keras.optimizers import Adam\n",
    "from tensorflow.keras.callbacks import EarlyStopping"
   ]
  },
  {
   "cell_type": "code",
   "execution_count": 23,
   "id": "a145fd4d",
   "metadata": {},
   "outputs": [],
   "source": [
    "early_stop = EarlyStopping(monitor='val_loss', mode='min', verbose=1, patience=25)"
   ]
  },
  {
   "cell_type": "code",
   "execution_count": 24,
   "id": "8dddcec3",
   "metadata": {},
   "outputs": [
    {
     "name": "stdout",
     "output_type": "stream",
     "text": [
      "Model: \"model\"\n",
      "_________________________________________________________________\n",
      " Layer (type)                Output Shape              Param #   \n",
      "=================================================================\n",
      " evi_input (InputLayer)      [(None, 56)]              0         \n",
      "                                                                 \n",
      " normalization (Normalizatio  (None, 56)               113       \n",
      " n)                                                              \n",
      "                                                                 \n",
      " dense (Dense)               (None, 512)               29184     \n",
      "                                                                 \n",
      " re_lu (ReLU)                (None, 512)               0         \n",
      "                                                                 \n",
      " dense_1 (Dense)             (None, 1024)              525312    \n",
      "                                                                 \n",
      " re_lu_1 (ReLU)              (None, 1024)              0         \n",
      "                                                                 \n",
      " dense_2 (Dense)             (None, 32)                32800     \n",
      "                                                                 \n",
      " re_lu_2 (ReLU)              (None, 32)                0         \n",
      "                                                                 \n",
      " regression_head (Dense)     (None, 1)                 33        \n",
      "                                                                 \n",
      "=================================================================\n",
      "Total params: 587,442\n",
      "Trainable params: 587,329\n",
      "Non-trainable params: 113\n",
      "_________________________________________________________________\n"
     ]
    }
   ],
   "source": [
    "# Define input layer\n",
    "inputs = Input(shape=(n_input,), name='evi_input')\n",
    "\n",
    "# Define normalization layer\n",
    "normalized = Normalization()(inputs)\n",
    "\n",
    "# Define dense layer\n",
    "dense_1 = Dense(units=512, name='dense')(normalized)\n",
    "relu_1 = ReLU(name='re_lu')(dense_1)\n",
    "\n",
    "# Define another dense layer\n",
    "dense_2 = Dense(units=1024, name='dense_1')(relu_1)\n",
    "relu_2 = ReLU(name='re_lu_1')(dense_2)\n",
    "\n",
    "# Define another dense layer\n",
    "dense_3 = Dense(units=32, name='dense_2')(relu_2)\n",
    "relu_3 = ReLU(name='re_lu_2')(dense_3)\n",
    "\n",
    "# Define output layer for regression\n",
    "regression_output = Dense(units=1, name='regression_head')(relu_3)\n",
    "\n",
    "# Define the model\n",
    "model = tf.keras.models.Model(inputs=inputs, outputs=regression_output)\n",
    "\n",
    "# Compile the model\n",
    "model.compile(optimizer='adam', loss='mean_squared_error')\n",
    "\n",
    "# Print model summary\n",
    "model.summary()"
   ]
  },
  {
   "cell_type": "code",
   "execution_count": 25,
   "id": "36caefd3",
   "metadata": {},
   "outputs": [
    {
     "name": "stdout",
     "output_type": "stream",
     "text": [
      "Epoch 1/600\n",
      "401/401 - 4s - loss: 118655.6406 - val_loss: 71067.2656 - 4s/epoch - 11ms/step\n",
      "Epoch 2/600\n",
      "401/401 - 3s - loss: 63386.3477 - val_loss: 61065.8438 - 3s/epoch - 9ms/step\n",
      "Epoch 3/600\n",
      "401/401 - 3s - loss: 56079.0273 - val_loss: 57465.2148 - 3s/epoch - 8ms/step\n",
      "Epoch 4/600\n",
      "401/401 - 3s - loss: 51703.2422 - val_loss: 51690.1016 - 3s/epoch - 8ms/step\n",
      "Epoch 5/600\n",
      "401/401 - 3s - loss: 47402.9570 - val_loss: 48518.2031 - 3s/epoch - 8ms/step\n",
      "Epoch 6/600\n",
      "401/401 - 3s - loss: 44604.3789 - val_loss: 47767.3398 - 3s/epoch - 8ms/step\n",
      "Epoch 7/600\n",
      "401/401 - 3s - loss: 42882.6641 - val_loss: 43526.4219 - 3s/epoch - 8ms/step\n",
      "Epoch 8/600\n",
      "401/401 - 3s - loss: 42205.3555 - val_loss: 42782.8828 - 3s/epoch - 8ms/step\n",
      "Epoch 9/600\n",
      "401/401 - 3s - loss: 41148.8477 - val_loss: 44279.0352 - 3s/epoch - 8ms/step\n",
      "Epoch 10/600\n",
      "401/401 - 3s - loss: 40238.3516 - val_loss: 41745.2227 - 3s/epoch - 8ms/step\n",
      "Epoch 11/600\n",
      "401/401 - 3s - loss: 38933.8008 - val_loss: 42897.7812 - 3s/epoch - 8ms/step\n",
      "Epoch 12/600\n",
      "401/401 - 3s - loss: 37846.9062 - val_loss: 41671.3008 - 3s/epoch - 8ms/step\n",
      "Epoch 13/600\n",
      "401/401 - 3s - loss: 39132.3516 - val_loss: 40799.1445 - 3s/epoch - 8ms/step\n",
      "Epoch 14/600\n",
      "401/401 - 3s - loss: 39229.4805 - val_loss: 41399.0781 - 3s/epoch - 8ms/step\n",
      "Epoch 15/600\n",
      "401/401 - 3s - loss: 38139.4609 - val_loss: 39550.2422 - 3s/epoch - 8ms/step\n",
      "Epoch 16/600\n",
      "401/401 - 3s - loss: 37513.7148 - val_loss: 39862.0664 - 3s/epoch - 8ms/step\n",
      "Epoch 17/600\n",
      "401/401 - 3s - loss: 37871.2500 - val_loss: 37733.7773 - 3s/epoch - 8ms/step\n",
      "Epoch 18/600\n",
      "401/401 - 3s - loss: 36767.6367 - val_loss: 38723.0195 - 3s/epoch - 8ms/step\n",
      "Epoch 19/600\n",
      "401/401 - 3s - loss: 36457.8750 - val_loss: 38982.8828 - 3s/epoch - 8ms/step\n",
      "Epoch 20/600\n",
      "401/401 - 3s - loss: 35390.5391 - val_loss: 37267.6445 - 3s/epoch - 8ms/step\n",
      "Epoch 21/600\n",
      "401/401 - 3s - loss: 35891.1172 - val_loss: 37951.3203 - 3s/epoch - 8ms/step\n",
      "Epoch 22/600\n",
      "401/401 - 3s - loss: 35371.2773 - val_loss: 40438.9180 - 3s/epoch - 8ms/step\n",
      "Epoch 23/600\n",
      "401/401 - 3s - loss: 35176.0898 - val_loss: 37108.7656 - 3s/epoch - 8ms/step\n",
      "Epoch 24/600\n",
      "401/401 - 3s - loss: 34687.9258 - val_loss: 36213.9258 - 3s/epoch - 8ms/step\n",
      "Epoch 25/600\n",
      "401/401 - 3s - loss: 34834.2773 - val_loss: 36451.8750 - 3s/epoch - 8ms/step\n",
      "Epoch 26/600\n",
      "401/401 - 3s - loss: 34552.2266 - val_loss: 37291.3047 - 3s/epoch - 8ms/step\n",
      "Epoch 27/600\n",
      "401/401 - 3s - loss: 34382.9258 - val_loss: 39650.8672 - 3s/epoch - 8ms/step\n",
      "Epoch 28/600\n",
      "401/401 - 3s - loss: 34139.2070 - val_loss: 35925.4180 - 3s/epoch - 8ms/step\n",
      "Epoch 29/600\n",
      "401/401 - 3s - loss: 33465.1484 - val_loss: 36117.8711 - 3s/epoch - 8ms/step\n",
      "Epoch 30/600\n",
      "401/401 - 3s - loss: 34097.4883 - val_loss: 36009.3359 - 3s/epoch - 8ms/step\n",
      "Epoch 31/600\n",
      "401/401 - 3s - loss: 34485.1953 - val_loss: 35398.2695 - 3s/epoch - 8ms/step\n",
      "Epoch 32/600\n",
      "401/401 - 3s - loss: 33722.8047 - val_loss: 39026.0391 - 3s/epoch - 8ms/step\n",
      "Epoch 33/600\n",
      "401/401 - 3s - loss: 33803.6680 - val_loss: 37450.5312 - 3s/epoch - 8ms/step\n",
      "Epoch 34/600\n",
      "401/401 - 3s - loss: 33117.1406 - val_loss: 36397.6484 - 3s/epoch - 8ms/step\n",
      "Epoch 35/600\n",
      "401/401 - 3s - loss: 32935.6523 - val_loss: 37840.9805 - 3s/epoch - 8ms/step\n",
      "Epoch 36/600\n",
      "401/401 - 3s - loss: 32957.2656 - val_loss: 35038.5625 - 3s/epoch - 8ms/step\n",
      "Epoch 37/600\n",
      "401/401 - 3s - loss: 33575.2227 - val_loss: 33933.9141 - 3s/epoch - 8ms/step\n",
      "Epoch 38/600\n",
      "401/401 - 3s - loss: 32401.6270 - val_loss: 34570.5312 - 3s/epoch - 8ms/step\n",
      "Epoch 39/600\n",
      "401/401 - 3s - loss: 32853.7031 - val_loss: 35110.0977 - 3s/epoch - 8ms/step\n",
      "Epoch 40/600\n",
      "401/401 - 3s - loss: 32337.8496 - val_loss: 35917.4062 - 3s/epoch - 8ms/step\n",
      "Epoch 41/600\n",
      "401/401 - 3s - loss: 32820.3867 - val_loss: 37680.0664 - 3s/epoch - 8ms/step\n",
      "Epoch 42/600\n",
      "401/401 - 3s - loss: 32433.6289 - val_loss: 35506.4609 - 3s/epoch - 8ms/step\n",
      "Epoch 43/600\n",
      "401/401 - 3s - loss: 31725.1543 - val_loss: 34137.3672 - 3s/epoch - 8ms/step\n",
      "Epoch 44/600\n",
      "401/401 - 3s - loss: 32067.5137 - val_loss: 34057.2344 - 3s/epoch - 8ms/step\n",
      "Epoch 45/600\n",
      "401/401 - 3s - loss: 31865.6543 - val_loss: 34617.6875 - 3s/epoch - 9ms/step\n",
      "Epoch 46/600\n",
      "401/401 - 3s - loss: 31916.5234 - val_loss: 32848.3984 - 3s/epoch - 8ms/step\n",
      "Epoch 47/600\n",
      "401/401 - 3s - loss: 31561.4609 - val_loss: 38938.4531 - 3s/epoch - 8ms/step\n",
      "Epoch 48/600\n",
      "401/401 - 3s - loss: 31352.2715 - val_loss: 34678.4258 - 3s/epoch - 8ms/step\n",
      "Epoch 49/600\n",
      "401/401 - 3s - loss: 31644.1699 - val_loss: 33178.0508 - 3s/epoch - 8ms/step\n",
      "Epoch 50/600\n",
      "401/401 - 3s - loss: 31197.4258 - val_loss: 32234.1777 - 3s/epoch - 8ms/step\n",
      "Epoch 51/600\n",
      "401/401 - 3s - loss: 31320.6758 - val_loss: 32910.7891 - 3s/epoch - 8ms/step\n",
      "Epoch 52/600\n",
      "401/401 - 3s - loss: 31089.9238 - val_loss: 33273.4492 - 3s/epoch - 8ms/step\n",
      "Epoch 53/600\n",
      "401/401 - 3s - loss: 31616.4902 - val_loss: 33902.4062 - 3s/epoch - 8ms/step\n",
      "Epoch 54/600\n",
      "401/401 - 3s - loss: 31208.0840 - val_loss: 31868.6836 - 3s/epoch - 8ms/step\n",
      "Epoch 55/600\n",
      "401/401 - 3s - loss: 31044.7969 - val_loss: 32892.8633 - 3s/epoch - 8ms/step\n",
      "Epoch 56/600\n",
      "401/401 - 3s - loss: 31010.0332 - val_loss: 32998.9766 - 3s/epoch - 8ms/step\n",
      "Epoch 57/600\n",
      "401/401 - 3s - loss: 30555.6250 - val_loss: 31841.3359 - 3s/epoch - 8ms/step\n",
      "Epoch 58/600\n",
      "401/401 - 3s - loss: 30127.1719 - val_loss: 32442.0547 - 3s/epoch - 8ms/step\n",
      "Epoch 59/600\n",
      "401/401 - 3s - loss: 30383.4219 - val_loss: 32676.9551 - 3s/epoch - 8ms/step\n",
      "Epoch 60/600\n",
      "401/401 - 3s - loss: 30015.5312 - val_loss: 33200.3750 - 3s/epoch - 8ms/step\n",
      "Epoch 61/600\n",
      "401/401 - 3s - loss: 30478.3848 - val_loss: 32306.4551 - 3s/epoch - 8ms/step\n",
      "Epoch 62/600\n",
      "401/401 - 3s - loss: 30843.6406 - val_loss: 31558.9277 - 3s/epoch - 8ms/step\n",
      "Epoch 63/600\n",
      "401/401 - 3s - loss: 30306.5703 - val_loss: 31644.2773 - 3s/epoch - 8ms/step\n",
      "Epoch 64/600\n",
      "401/401 - 3s - loss: 30275.3184 - val_loss: 32550.0527 - 3s/epoch - 8ms/step\n",
      "Epoch 65/600\n",
      "401/401 - 3s - loss: 30129.7617 - val_loss: 35942.5352 - 3s/epoch - 8ms/step\n",
      "Epoch 66/600\n",
      "401/401 - 3s - loss: 30288.4961 - val_loss: 31602.8926 - 3s/epoch - 8ms/step\n",
      "Epoch 67/600\n",
      "401/401 - 3s - loss: 29555.1875 - val_loss: 32924.2383 - 3s/epoch - 8ms/step\n",
      "Epoch 68/600\n",
      "401/401 - 3s - loss: 30145.1152 - val_loss: 32613.8320 - 3s/epoch - 8ms/step\n",
      "Epoch 69/600\n",
      "401/401 - 3s - loss: 29893.4590 - val_loss: 32528.2012 - 3s/epoch - 8ms/step\n",
      "Epoch 70/600\n",
      "401/401 - 3s - loss: 29747.1484 - val_loss: 32984.3711 - 3s/epoch - 8ms/step\n",
      "Epoch 71/600\n",
      "401/401 - 3s - loss: 30540.0020 - val_loss: 31546.7695 - 3s/epoch - 8ms/step\n",
      "Epoch 72/600\n",
      "401/401 - 3s - loss: 29243.9590 - val_loss: 30678.8613 - 3s/epoch - 8ms/step\n",
      "Epoch 73/600\n",
      "401/401 - 3s - loss: 30085.8145 - val_loss: 31923.4824 - 3s/epoch - 8ms/step\n",
      "Epoch 74/600\n",
      "401/401 - 3s - loss: 30022.3301 - val_loss: 30754.0898 - 3s/epoch - 8ms/step\n",
      "Epoch 75/600\n",
      "401/401 - 3s - loss: 29397.0742 - val_loss: 30751.4707 - 3s/epoch - 8ms/step\n",
      "Epoch 76/600\n",
      "401/401 - 3s - loss: 29442.8848 - val_loss: 31206.4688 - 3s/epoch - 8ms/step\n",
      "Epoch 77/600\n",
      "401/401 - 3s - loss: 29175.6367 - val_loss: 31914.2051 - 3s/epoch - 8ms/step\n",
      "Epoch 78/600\n",
      "401/401 - 3s - loss: 29288.7617 - val_loss: 31809.3633 - 3s/epoch - 8ms/step\n",
      "Epoch 79/600\n",
      "401/401 - 3s - loss: 28761.4512 - val_loss: 31521.1328 - 3s/epoch - 8ms/step\n",
      "Epoch 80/600\n",
      "401/401 - 3s - loss: 28933.4922 - val_loss: 31606.1387 - 3s/epoch - 8ms/step\n",
      "Epoch 81/600\n",
      "401/401 - 3s - loss: 29103.6289 - val_loss: 36606.8906 - 3s/epoch - 8ms/step\n",
      "Epoch 82/600\n",
      "401/401 - 3s - loss: 28990.8594 - val_loss: 31082.3516 - 3s/epoch - 8ms/step\n",
      "Epoch 83/600\n",
      "401/401 - 3s - loss: 28989.4570 - val_loss: 30739.7383 - 3s/epoch - 8ms/step\n",
      "Epoch 84/600\n",
      "401/401 - 3s - loss: 29074.9922 - val_loss: 32116.3555 - 3s/epoch - 8ms/step\n",
      "Epoch 85/600\n",
      "401/401 - 3s - loss: 28581.5801 - val_loss: 33001.5352 - 3s/epoch - 8ms/step\n",
      "Epoch 86/600\n",
      "401/401 - 3s - loss: 28563.3672 - val_loss: 31950.2637 - 3s/epoch - 8ms/step\n",
      "Epoch 87/600\n",
      "401/401 - 3s - loss: 28470.0801 - val_loss: 30268.0918 - 3s/epoch - 8ms/step\n",
      "Epoch 88/600\n",
      "401/401 - 3s - loss: 28509.5410 - val_loss: 30456.0215 - 3s/epoch - 8ms/step\n",
      "Epoch 89/600\n",
      "401/401 - 3s - loss: 28289.1211 - val_loss: 30835.4902 - 3s/epoch - 8ms/step\n",
      "Epoch 90/600\n",
      "401/401 - 3s - loss: 28414.2871 - val_loss: 31660.4570 - 3s/epoch - 8ms/step\n",
      "Epoch 91/600\n",
      "401/401 - 3s - loss: 28272.1250 - val_loss: 33580.2617 - 3s/epoch - 8ms/step\n",
      "Epoch 92/600\n"
     ]
    },
    {
     "name": "stdout",
     "output_type": "stream",
     "text": [
      "401/401 - 3s - loss: 28470.7051 - val_loss: 29878.6094 - 3s/epoch - 8ms/step\n",
      "Epoch 93/600\n",
      "401/401 - 3s - loss: 28316.1172 - val_loss: 31176.3984 - 3s/epoch - 8ms/step\n",
      "Epoch 94/600\n",
      "401/401 - 3s - loss: 28353.3457 - val_loss: 33851.5820 - 3s/epoch - 8ms/step\n",
      "Epoch 95/600\n",
      "401/401 - 3s - loss: 28345.9570 - val_loss: 33259.7500 - 3s/epoch - 8ms/step\n",
      "Epoch 96/600\n",
      "401/401 - 3s - loss: 28059.9023 - val_loss: 36441.2383 - 3s/epoch - 8ms/step\n",
      "Epoch 97/600\n",
      "401/401 - 3s - loss: 28001.1562 - val_loss: 30472.3203 - 3s/epoch - 8ms/step\n",
      "Epoch 98/600\n",
      "401/401 - 3s - loss: 27793.9551 - val_loss: 31021.7188 - 3s/epoch - 8ms/step\n",
      "Epoch 99/600\n",
      "401/401 - 3s - loss: 27829.6133 - val_loss: 33067.5117 - 3s/epoch - 8ms/step\n",
      "Epoch 100/600\n",
      "401/401 - 3s - loss: 28173.1406 - val_loss: 29992.1562 - 3s/epoch - 8ms/step\n",
      "Epoch 101/600\n",
      "401/401 - 3s - loss: 27512.4551 - val_loss: 30849.6855 - 3s/epoch - 8ms/step\n",
      "Epoch 102/600\n",
      "401/401 - 3s - loss: 27581.9453 - val_loss: 32382.2051 - 3s/epoch - 8ms/step\n",
      "Epoch 103/600\n",
      "401/401 - 3s - loss: 27594.2188 - val_loss: 30462.6152 - 3s/epoch - 8ms/step\n",
      "Epoch 104/600\n",
      "401/401 - 3s - loss: 27996.1074 - val_loss: 31567.2676 - 3s/epoch - 8ms/step\n",
      "Epoch 105/600\n",
      "401/401 - 3s - loss: 27129.1816 - val_loss: 30902.1348 - 3s/epoch - 8ms/step\n",
      "Epoch 106/600\n",
      "401/401 - 3s - loss: 27427.8516 - val_loss: 28940.7656 - 3s/epoch - 8ms/step\n",
      "Epoch 107/600\n",
      "401/401 - 3s - loss: 26907.5117 - val_loss: 30284.0195 - 3s/epoch - 8ms/step\n",
      "Epoch 108/600\n",
      "401/401 - 3s - loss: 27235.2188 - val_loss: 29879.0137 - 3s/epoch - 8ms/step\n",
      "Epoch 109/600\n",
      "401/401 - 3s - loss: 26897.3340 - val_loss: 29788.1953 - 3s/epoch - 8ms/step\n",
      "Epoch 110/600\n",
      "401/401 - 3s - loss: 27007.6875 - val_loss: 29552.0957 - 3s/epoch - 8ms/step\n",
      "Epoch 111/600\n",
      "401/401 - 3s - loss: 27237.6484 - val_loss: 29101.5273 - 3s/epoch - 8ms/step\n",
      "Epoch 112/600\n",
      "401/401 - 3s - loss: 26935.1289 - val_loss: 29669.8691 - 3s/epoch - 8ms/step\n",
      "Epoch 113/600\n",
      "401/401 - 3s - loss: 27171.5469 - val_loss: 30786.8848 - 3s/epoch - 8ms/step\n",
      "Epoch 114/600\n",
      "401/401 - 3s - loss: 26902.8535 - val_loss: 30958.1406 - 3s/epoch - 8ms/step\n",
      "Epoch 115/600\n",
      "401/401 - 3s - loss: 26817.2305 - val_loss: 35082.0703 - 3s/epoch - 8ms/step\n",
      "Epoch 116/600\n",
      "401/401 - 3s - loss: 26593.0977 - val_loss: 34333.3555 - 3s/epoch - 9ms/step\n",
      "Epoch 117/600\n",
      "401/401 - 3s - loss: 26739.3340 - val_loss: 31130.9258 - 3s/epoch - 9ms/step\n",
      "Epoch 118/600\n",
      "401/401 - 3s - loss: 26741.0859 - val_loss: 28847.3496 - 3s/epoch - 8ms/step\n",
      "Epoch 119/600\n",
      "401/401 - 3s - loss: 27097.0430 - val_loss: 29144.1445 - 3s/epoch - 9ms/step\n",
      "Epoch 120/600\n",
      "401/401 - 3s - loss: 26235.3516 - val_loss: 28601.3223 - 3s/epoch - 8ms/step\n",
      "Epoch 121/600\n",
      "401/401 - 4s - loss: 27267.1855 - val_loss: 32341.9648 - 4s/epoch - 9ms/step\n",
      "Epoch 122/600\n",
      "401/401 - 4s - loss: 26518.0488 - val_loss: 29287.8730 - 4s/epoch - 9ms/step\n",
      "Epoch 123/600\n",
      "401/401 - 4s - loss: 26371.0605 - val_loss: 29597.6523 - 4s/epoch - 9ms/step\n",
      "Epoch 124/600\n",
      "401/401 - 4s - loss: 26918.0723 - val_loss: 28982.7793 - 4s/epoch - 9ms/step\n",
      "Epoch 125/600\n",
      "401/401 - 4s - loss: 26192.1719 - val_loss: 30570.3848 - 4s/epoch - 9ms/step\n",
      "Epoch 126/600\n",
      "401/401 - 4s - loss: 26168.9180 - val_loss: 29141.6895 - 4s/epoch - 9ms/step\n",
      "Epoch 127/600\n",
      "401/401 - 4s - loss: 26267.7793 - val_loss: 30944.8086 - 4s/epoch - 9ms/step\n",
      "Epoch 128/600\n",
      "401/401 - 4s - loss: 26746.6895 - val_loss: 30450.9863 - 4s/epoch - 9ms/step\n",
      "Epoch 129/600\n",
      "401/401 - 4s - loss: 25609.1621 - val_loss: 28938.0488 - 4s/epoch - 9ms/step\n",
      "Epoch 130/600\n",
      "401/401 - 4s - loss: 26005.2246 - val_loss: 29255.8496 - 4s/epoch - 9ms/step\n",
      "Epoch 131/600\n",
      "401/401 - 3s - loss: 25944.8516 - val_loss: 28911.4082 - 3s/epoch - 9ms/step\n",
      "Epoch 132/600\n",
      "401/401 - 4s - loss: 25844.1113 - val_loss: 28233.5781 - 4s/epoch - 9ms/step\n",
      "Epoch 133/600\n",
      "401/401 - 4s - loss: 25874.7500 - val_loss: 29148.0371 - 4s/epoch - 9ms/step\n",
      "Epoch 134/600\n",
      "401/401 - 4s - loss: 26260.9785 - val_loss: 30930.0098 - 4s/epoch - 9ms/step\n",
      "Epoch 135/600\n",
      "401/401 - 3s - loss: 25775.2891 - val_loss: 31120.4414 - 3s/epoch - 9ms/step\n",
      "Epoch 136/600\n",
      "401/401 - 4s - loss: 25619.7969 - val_loss: 29181.9102 - 4s/epoch - 9ms/step\n",
      "Epoch 137/600\n",
      "401/401 - 4s - loss: 25938.2949 - val_loss: 27800.6152 - 4s/epoch - 9ms/step\n",
      "Epoch 138/600\n",
      "401/401 - 3s - loss: 25506.8496 - val_loss: 30348.8477 - 3s/epoch - 8ms/step\n",
      "Epoch 139/600\n",
      "401/401 - 3s - loss: 25657.9746 - val_loss: 28299.9141 - 3s/epoch - 8ms/step\n",
      "Epoch 140/600\n",
      "401/401 - 3s - loss: 25467.6699 - val_loss: 29775.3145 - 3s/epoch - 8ms/step\n",
      "Epoch 141/600\n",
      "401/401 - 3s - loss: 25432.7188 - val_loss: 32702.7266 - 3s/epoch - 8ms/step\n",
      "Epoch 142/600\n",
      "401/401 - 3s - loss: 25653.6680 - val_loss: 29254.5566 - 3s/epoch - 8ms/step\n",
      "Epoch 143/600\n",
      "401/401 - 3s - loss: 25337.0938 - val_loss: 29370.1465 - 3s/epoch - 9ms/step\n",
      "Epoch 144/600\n",
      "401/401 - 3s - loss: 25965.5547 - val_loss: 28708.5332 - 3s/epoch - 8ms/step\n",
      "Epoch 145/600\n",
      "401/401 - 4s - loss: 25252.9727 - val_loss: 28689.7793 - 4s/epoch - 9ms/step\n",
      "Epoch 146/600\n",
      "401/401 - 3s - loss: 25089.1621 - val_loss: 30283.0273 - 3s/epoch - 9ms/step\n",
      "Epoch 147/600\n",
      "401/401 - 3s - loss: 25609.2520 - val_loss: 29072.6289 - 3s/epoch - 8ms/step\n",
      "Epoch 148/600\n",
      "401/401 - 4s - loss: 25152.3633 - val_loss: 30603.4746 - 4s/epoch - 9ms/step\n",
      "Epoch 149/600\n",
      "401/401 - 4s - loss: 25781.7832 - val_loss: 29511.4590 - 4s/epoch - 9ms/step\n",
      "Epoch 150/600\n",
      "401/401 - 3s - loss: 25068.0703 - val_loss: 29461.9277 - 3s/epoch - 9ms/step\n",
      "Epoch 151/600\n",
      "401/401 - 4s - loss: 24941.4902 - val_loss: 29102.0781 - 4s/epoch - 9ms/step\n",
      "Epoch 152/600\n",
      "401/401 - 4s - loss: 24980.4082 - val_loss: 29330.3926 - 4s/epoch - 10ms/step\n",
      "Epoch 153/600\n",
      "401/401 - 4s - loss: 25399.2773 - val_loss: 28371.9844 - 4s/epoch - 9ms/step\n",
      "Epoch 154/600\n",
      "401/401 - 3s - loss: 26826.2344 - val_loss: 29674.7734 - 3s/epoch - 9ms/step\n",
      "Epoch 155/600\n",
      "401/401 - 4s - loss: 25291.9062 - val_loss: 30481.1758 - 4s/epoch - 9ms/step\n",
      "Epoch 156/600\n",
      "401/401 - 4s - loss: 25212.4707 - val_loss: 28058.8164 - 4s/epoch - 9ms/step\n",
      "Epoch 157/600\n",
      "401/401 - 4s - loss: 24636.0508 - val_loss: 28253.6582 - 4s/epoch - 9ms/step\n",
      "Epoch 158/600\n",
      "401/401 - 4s - loss: 25311.5488 - val_loss: 28214.0137 - 4s/epoch - 9ms/step\n",
      "Epoch 159/600\n",
      "401/401 - 3s - loss: 24714.0898 - val_loss: 28223.7578 - 3s/epoch - 9ms/step\n",
      "Epoch 160/600\n",
      "401/401 - 4s - loss: 25526.7852 - val_loss: 30088.8496 - 4s/epoch - 9ms/step\n",
      "Epoch 161/600\n",
      "401/401 - 4s - loss: 24732.3613 - val_loss: 28088.8730 - 4s/epoch - 9ms/step\n",
      "Epoch 162/600\n",
      "401/401 - 4s - loss: 24749.0117 - val_loss: 30349.6719 - 4s/epoch - 9ms/step\n",
      "Epoch 162: early stopping\n"
     ]
    }
   ],
   "source": [
    "history = model.fit(x=X_train, y=y_train.values,\n",
    "                    validation_data=(X_valid, y_valid.values),\n",
    "                    batch_size=128, epochs=600, verbose=2,\n",
    "                    callbacks=[early_stop])"
   ]
  },
  {
   "cell_type": "markdown",
   "id": "f465f05c",
   "metadata": {},
   "source": [
    "## Plot the learning curves"
   ]
  },
  {
   "cell_type": "code",
   "execution_count": 26,
   "id": "2c011463",
   "metadata": {},
   "outputs": [
    {
     "data": {
      "image/png": "[encoded data removed]",
      "text/plain": [
       "<Figure size 640x480 with 1 Axes>"
      ]
     },
     "metadata": {},
     "output_type": "display_data"
    }
   ],
   "source": [
    "plt.plot(history.history['loss'])\n",
    "plt.plot(history.history['val_loss'])\n",
    "plt.title('Model loss')\n",
    "plt.ylabel('Loss')\n",
    "plt.xlabel('Epoch')\n",
    "plt.legend(['Train', 'Validation'], loc='upper right')\n",
    "plt.show()"
   ]
  },
  {
   "cell_type": "markdown",
   "id": "5def6fc1",
   "metadata": {},
   "source": [
    "## Evaluation and Prediction"
   ]
  },
  {
   "cell_type": "code",
   "execution_count": 27,
   "id": "e6282379",
   "metadata": {},
   "outputs": [
    {
     "name": "stdout",
     "output_type": "stream",
     "text": [
      "534/534 [==============================] - 2s 4ms/step - loss: 27827.6211\n"
     ]
    },
    {
     "data": {
      "text/plain": [
       "27827.62109375"
      ]
     },
     "execution_count": 27,
     "metadata": {},
     "output_type": "execute_result"
    }
   ],
   "source": [
    "# Evaluate the model on the test set\n",
    "model.evaluate(X_test, y_test.values)"
   ]
  },
  {
   "cell_type": "code",
   "execution_count": 28,
   "id": "f0beca6b",
   "metadata": {},
   "outputs": [
    {
     "name": "stdout",
     "output_type": "stream",
     "text": [
      "534/534 [==============================] - 2s 3ms/step\n"
     ]
    }
   ],
   "source": [
    "predictions = model.predict(X_test)"
   ]
  },
  {
   "cell_type": "code",
   "execution_count": 29,
   "id": "73a07247",
   "metadata": {},
   "outputs": [
    {
     "data": {
      "text/plain": [
       "166.81613480883772"
      ]
     },
     "execution_count": 29,
     "metadata": {},
     "output_type": "execute_result"
    }
   ],
   "source": [
    "np.sqrt(mean_squared_error(y_test, predictions))"
   ]
  },
  {
   "cell_type": "code",
   "execution_count": 30,
   "id": "5285e841",
   "metadata": {},
   "outputs": [
    {
     "data": {
      "text/plain": [
       "411.6113875586882"
      ]
     },
     "execution_count": 30,
     "metadata": {},
     "output_type": "execute_result"
    }
   ],
   "source": [
    "clean_data_df['VEHICLES'].mean()"
   ]
  },
  {
   "cell_type": "code",
   "execution_count": 31,
   "id": "2ba2cc96",
   "metadata": {},
   "outputs": [
    {
     "data": {
      "text/plain": [
       "255.0"
      ]
     },
     "execution_count": 31,
     "metadata": {},
     "output_type": "execute_result"
    }
   ],
   "source": [
    "clean_data_df['VEHICLES'].median()"
   ]
  },
  {
   "cell_type": "code",
   "execution_count": null,
   "id": "e90b249f",
   "metadata": {},
   "outputs": [],
   "source": []
  }
 ],
 "metadata": {
  "finalized": {
   "timestamp": 1678769697050,
   "trusted": false
  },
  "kernelspec": {
   "display_name": "auto_keras_env",
   "language": "python",
   "name": "auto_keras_env"
  },
  "language_info": {
   "codemirror_mode": {
    "name": "ipython",
    "version": 3
   },
   "file_extension": ".py",
   "mimetype": "text/x-python",
   "name": "python",
   "nbconvert_exporter": "python",
   "pygments_lexer": "ipython3",
   "version": "3.9.13"
  },
  "toc": {
   "base_numbering": 1,
   "nav_menu": {},
   "number_sections": true,
   "sideBar": true,
   "skip_h1_title": false,
   "title_cell": "Table of Contents",
   "title_sidebar": "Contents",
   "toc_cell": false,
   "toc_position": {},
   "toc_section_display": true,
   "toc_window_display": false
  }
 },
 "nbformat": 4,
 "nbformat_minor": 5
}
